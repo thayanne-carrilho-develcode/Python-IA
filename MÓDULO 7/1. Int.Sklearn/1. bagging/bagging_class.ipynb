{
 "cells": [
  {
   "cell_type": "code",
   "execution_count": 224,
   "id": "73efc4e1",
   "metadata": {},
   "outputs": [],
   "source": [
    "import pandas as pd\n",
    "import matplotlib.pyplot as plt\n",
    "import seaborn as sns\n",
    "import plotly.express as px\n",
    "import plotly.graph_objects as go \n",
    "import numpy as np\n",
    "from scipy.stats import chi2_contingency\n",
    "\n",
    "sns.set_style('whitegrid')\n",
    "\n",
    "from sklearn.compose import ColumnTransformer\n",
    "from sklearn.model_selection import train_test_split\n",
    "from sklearn.preprocessing import StandardScaler, OneHotEncoder\n",
    "from sklearn.linear_model import LogisticRegression\n",
    "from sklearn.ensemble import BaggingClassifier\n",
    "from sklearn.metrics import accuracy_score, precision_score, recall_score, f1_score, confusion_matrix\n"
   ]
  },
  {
   "cell_type": "markdown",
   "id": "395d6c74",
   "metadata": {},
   "source": [
    "### Carga de dados"
   ]
  },
  {
   "cell_type": "code",
   "execution_count": 225,
   "id": "c370f5ca",
   "metadata": {},
   "outputs": [],
   "source": [
    "df_leads = pd.read_csv('./datasets/dataclass.csv')"
   ]
  },
  {
   "cell_type": "code",
   "execution_count": 226,
   "id": "d7874f00",
   "metadata": {},
   "outputs": [
    {
     "name": "stdout",
     "output_type": "stream",
     "text": [
      "<class 'pandas.core.frame.DataFrame'>\n",
      "RangeIndex: 9240 entries, 0 to 9239\n",
      "Data columns (total 37 columns):\n",
      " #   Column                                         Non-Null Count  Dtype  \n",
      "---  ------                                         --------------  -----  \n",
      " 0   Prospect ID                                    9240 non-null   object \n",
      " 1   Lead Number                                    9240 non-null   int64  \n",
      " 2   Lead Origin                                    9240 non-null   object \n",
      " 3   Lead Source                                    9204 non-null   object \n",
      " 4   Do Not Email                                   9240 non-null   object \n",
      " 5   Do Not Call                                    9240 non-null   object \n",
      " 6   Converted                                      9240 non-null   int64  \n",
      " 7   TotalVisits                                    9103 non-null   float64\n",
      " 8   Total Time Spent on Website                    9240 non-null   int64  \n",
      " 9   Page Views Per Visit                           9103 non-null   float64\n",
      " 10  Last Activity                                  9137 non-null   object \n",
      " 11  Country                                        6779 non-null   object \n",
      " 12  Specialization                                 7802 non-null   object \n",
      " 13  How did you hear about X Education             7033 non-null   object \n",
      " 14  What is your current occupation                6550 non-null   object \n",
      " 15  What matters most to you in choosing a course  6531 non-null   object \n",
      " 16  Search                                         9240 non-null   object \n",
      " 17  Magazine                                       9240 non-null   object \n",
      " 18  Newspaper Article                              9240 non-null   object \n",
      " 19  X Education Forums                             9240 non-null   object \n",
      " 20  Newspaper                                      9240 non-null   object \n",
      " 21  Digital Advertisement                          9240 non-null   object \n",
      " 22  Through Recommendations                        9240 non-null   object \n",
      " 23  Receive More Updates About Our Courses         9240 non-null   object \n",
      " 24  Tags                                           5887 non-null   object \n",
      " 25  Lead Quality                                   4473 non-null   object \n",
      " 26  Update me on Supply Chain Content              9240 non-null   object \n",
      " 27  Get updates on DM Content                      9240 non-null   object \n",
      " 28  Lead Profile                                   6531 non-null   object \n",
      " 29  City                                           7820 non-null   object \n",
      " 30  Asymmetrique Activity Index                    5022 non-null   object \n",
      " 31  Asymmetrique Profile Index                     5022 non-null   object \n",
      " 32  Asymmetrique Activity Score                    5022 non-null   float64\n",
      " 33  Asymmetrique Profile Score                     5022 non-null   float64\n",
      " 34  I agree to pay the amount through cheque       9240 non-null   object \n",
      " 35  A free copy of Mastering The Interview         9240 non-null   object \n",
      " 36  Last Notable Activity                          9240 non-null   object \n",
      "dtypes: float64(4), int64(3), object(30)\n",
      "memory usage: 2.6+ MB\n"
     ]
    }
   ],
   "source": [
    "df_leads.info()"
   ]
  },
  {
   "cell_type": "markdown",
   "id": "3db46938",
   "metadata": {},
   "source": [
    "### Feature engineer"
   ]
  },
  {
   "cell_type": "code",
   "execution_count": 227,
   "id": "881bb308",
   "metadata": {},
   "outputs": [],
   "source": [
    "#remover as colunas propect ID e lead numbe\n",
    "df_leads.drop(columns=['Prospect ID', 'Lead Number'], axis=1, inplace=True)"
   ]
  },
  {
   "cell_type": "code",
   "execution_count": 228,
   "id": "2854d8c4",
   "metadata": {},
   "outputs": [
    {
     "name": "stdout",
     "output_type": "stream",
     "text": [
      "coluna Magazine possui somente um valor possivel: ['No']\n",
      "coluna Receive More Updates About Our Courses possui somente um valor possivel: ['No']\n",
      "coluna Update me on Supply Chain Content possui somente um valor possivel: ['No']\n",
      "coluna Get updates on DM Content possui somente um valor possivel: ['No']\n",
      "coluna I agree to pay the amount through cheque possui somente um valor possivel: ['No']\n"
     ]
    }
   ],
   "source": [
    "#mostrar e remover as colunas categoricas que possuem 1 valor possivel\n",
    "for column in df_leads.select_dtypes(include=['object']).columns:\n",
    "    if df_leads[column].nunique() == 1:\n",
    "        print(f'coluna {column} possui somente um valor possivel: {df_leads[column].unique()}')\n",
    "        df_leads.drop(columns=[column], axis=1, inplace=True)\n",
    "\n"
   ]
  },
  {
   "cell_type": "code",
   "execution_count": 229,
   "id": "4e52246a",
   "metadata": {},
   "outputs": [
    {
     "name": "stdout",
     "output_type": "stream",
     "text": [
      "coluna Lead Origin valores possiveis ['API' 'Landing Page Submission' 'Lead Add Form' 'Lead Import'\n",
      " 'Quick Add Form']\n",
      "coluna Lead Source valores possiveis ['Olark Chat' 'Organic Search' 'Direct Traffic' 'Google' 'Referral Sites'\n",
      " 'Welingak Website' 'Reference' 'google' 'Facebook' nan 'blog'\n",
      " 'Pay per Click Ads' 'bing' 'Social Media' 'WeLearn' 'Click2call'\n",
      " 'Live Chat' 'welearnblog_Home' 'youtubechannel' 'testone' 'Press_Release'\n",
      " 'NC_EDM']\n",
      "coluna Do Not Email valores possiveis ['No' 'Yes']\n",
      "coluna Do Not Call valores possiveis ['No' 'Yes']\n",
      "coluna Last Activity valores possiveis ['Page Visited on Website' 'Email Opened' 'Unreachable'\n",
      " 'Converted to Lead' 'Olark Chat Conversation' 'Email Bounced'\n",
      " 'Email Link Clicked' 'Form Submitted on Website' 'Unsubscribed'\n",
      " 'Had a Phone Conversation' 'View in browser link Clicked' nan\n",
      " 'Approached upfront' 'SMS Sent' 'Visited Booth in Tradeshow'\n",
      " 'Resubscribed to emails' 'Email Received' 'Email Marked Spam']\n",
      "coluna Country valores possiveis [nan 'India' 'Russia' 'Kuwait' 'Oman' 'United Arab Emirates'\n",
      " 'United States' 'Australia' 'United Kingdom' 'Bahrain' 'Ghana'\n",
      " 'Singapore' 'Qatar' 'Saudi Arabia' 'Belgium' 'France' 'Sri Lanka' 'China'\n",
      " 'Canada' 'Netherlands' 'Sweden' 'Nigeria' 'Hong Kong' 'Germany'\n",
      " 'Asia/Pacific Region' 'Uganda' 'Kenya' 'Italy' 'South Africa' 'Tanzania'\n",
      " 'unknown' 'Malaysia' 'Liberia' 'Switzerland' 'Denmark' 'Philippines'\n",
      " 'Bangladesh' 'Vietnam' 'Indonesia']\n",
      "coluna Specialization valores possiveis ['Select' 'Business Administration' 'Media and Advertising' nan\n",
      " 'Supply Chain Management' 'IT Projects Management' 'Finance Management'\n",
      " 'Travel and Tourism' 'Human Resource Management' 'Marketing Management'\n",
      " 'Banking, Investment And Insurance' 'International Business' 'E-COMMERCE'\n",
      " 'Operations Management' 'Retail Management' 'Services Excellence'\n",
      " 'Hospitality Management' 'Rural and Agribusiness' 'Healthcare Management'\n",
      " 'E-Business']\n",
      "coluna How did you hear about X Education valores possiveis ['Select' 'Word Of Mouth' 'Other' nan 'Online Search' 'Multiple Sources'\n",
      " 'Advertisements' 'Student of SomeSchool' 'Email' 'Social Media' 'SMS']\n",
      "coluna What is your current occupation valores possiveis ['Unemployed' 'Student' nan 'Working Professional' 'Businessman' 'Other'\n",
      " 'Housewife']\n",
      "coluna What matters most to you in choosing a course valores possiveis ['Better Career Prospects' nan 'Flexibility & Convenience' 'Other']\n",
      "coluna Search valores possiveis ['No' 'Yes']\n",
      "coluna Newspaper Article valores possiveis ['No' 'Yes']\n",
      "coluna X Education Forums valores possiveis ['No' 'Yes']\n",
      "coluna Newspaper valores possiveis ['No' 'Yes']\n",
      "coluna Digital Advertisement valores possiveis ['No' 'Yes']\n",
      "coluna Through Recommendations valores possiveis ['No' 'Yes']\n",
      "coluna Tags valores possiveis ['Interested in other courses' 'Ringing'\n",
      " 'Will revert after reading the email' nan 'Lost to EINS'\n",
      " 'In confusion whether part time or DLP' 'Busy' 'switched off'\n",
      " 'in touch with EINS' 'Already a student' 'Diploma holder (Not Eligible)'\n",
      " 'Graduation in progress' 'Closed by Horizzon' 'number not provided'\n",
      " 'opp hangup' 'Not doing further education' 'invalid number'\n",
      " 'wrong number given' 'Interested  in full time MBA' 'Still Thinking'\n",
      " 'Lost to Others' 'Shall take in the next coming month' 'Lateral student'\n",
      " 'Interested in Next batch' 'Recognition issue (DEC approval)'\n",
      " 'Want to take admission but has financial problems'\n",
      " 'University not recognized']\n",
      "coluna Lead Quality valores possiveis ['Low in Relevance' nan 'Might be' 'Not Sure' 'Worst' 'High in Relevance']\n",
      "coluna Lead Profile valores possiveis ['Select' 'Potential Lead' nan 'Other Leads' 'Lateral Student'\n",
      " 'Dual Specialization Student' 'Student of SomeSchool']\n",
      "coluna City valores possiveis ['Select' 'Mumbai' nan 'Thane & Outskirts' 'Other Metro Cities'\n",
      " 'Other Cities' 'Other Cities of Maharashtra' 'Tier II Cities']\n",
      "coluna Asymmetrique Activity Index valores possiveis ['02.Medium' '01.High' '03.Low' nan]\n",
      "coluna Asymmetrique Profile Index valores possiveis ['02.Medium' '01.High' '03.Low' nan]\n",
      "coluna A free copy of Mastering The Interview valores possiveis ['No' 'Yes']\n",
      "coluna Last Notable Activity valores possiveis ['Modified' 'Email Opened' 'Page Visited on Website' 'Email Bounced'\n",
      " 'Email Link Clicked' 'Unreachable' 'Unsubscribed'\n",
      " 'Had a Phone Conversation' 'Olark Chat Conversation' 'SMS Sent'\n",
      " 'Approached upfront' 'Resubscribed to emails'\n",
      " 'View in browser link Clicked' 'Form Submitted on Website'\n",
      " 'Email Received' 'Email Marked Spam']\n"
     ]
    }
   ],
   "source": [
    "#mostrar os valores possiveis para todas as colunas categoricas\n",
    "for column in df_leads.select_dtypes(include=['object']).columns:\n",
    "        print(f'coluna {column} valores possiveis {df_leads[column].unique()}')\n"
   ]
  },
  {
   "cell_type": "code",
   "execution_count": 230,
   "id": "024c0763",
   "metadata": {},
   "outputs": [
    {
     "name": "stdout",
     "output_type": "stream",
     "text": [
      "Lead Origin: 0.00%\n",
      "Lead Source: 0.39%\n",
      "Do Not Email: 0.00%\n",
      "Do Not Call: 0.00%\n",
      "Last Activity: 1.11%\n",
      "Country: 26.63%\n",
      "Specialization: 36.58%\n",
      "How did you hear about X Education: 78.46%\n",
      "What is your current occupation: 29.11%\n",
      "What matters most to you in choosing a course: 29.32%\n",
      "Search: 0.00%\n",
      "Newspaper Article: 0.00%\n",
      "X Education Forums: 0.00%\n",
      "Newspaper: 0.00%\n",
      "Digital Advertisement: 0.00%\n",
      "Through Recommendations: 0.00%\n",
      "Tags: 36.29%\n",
      "Lead Quality: 51.59%\n",
      "Lead Profile: 74.19%\n",
      "City: 39.71%\n",
      "Asymmetrique Activity Index: 45.65%\n",
      "Asymmetrique Profile Index: 45.65%\n",
      "A free copy of Mastering The Interview: 0.00%\n",
      "Last Notable Activity: 0.00%\n"
     ]
    }
   ],
   "source": [
    "#mostrar o percentual de valores ausentes ou com valor igual a 'select para cada coluna categorica\n",
    "for column in df_leads.select_dtypes(include=['object']).columns:\n",
    "    contagem_nulas = (df_leads[column] == 'Select').sum() + df_leads[column].isnull().sum()\n",
    "    print(f'{column}: {contagem_nulas / len(df_leads)*100:.2f}%')"
   ]
  },
  {
   "cell_type": "code",
   "execution_count": 231,
   "id": "2dedbe82",
   "metadata": {},
   "outputs": [
    {
     "name": "stdout",
     "output_type": "stream",
     "text": [
      "Country: 26.63%\n",
      "Specialization: 36.58%\n",
      "How did you hear about X Education: 78.46%\n",
      "What is your current occupation: 29.11%\n",
      "What matters most to you in choosing a course: 29.32%\n",
      "Tags: 36.29%\n",
      "Lead Quality: 51.59%\n",
      "Lead Profile: 74.19%\n",
      "City: 39.71%\n",
      "Asymmetrique Activity Index: 45.65%\n",
      "Asymmetrique Profile Index: 45.65%\n"
     ]
    }
   ],
   "source": [
    "# remover colunas nulas com maior de 25%\n",
    "for column in df_leads.select_dtypes(include=['object']).columns:\n",
    "    contagem_nulas = (df_leads[column] == 'Select').sum() + df_leads[column].isnull().sum()\n",
    "    if(contagem_nulas / len(df_leads)*100) > 25:\n",
    "        print(f'{column}: {contagem_nulas / len(df_leads)*100:.2f}%')\n",
    "        df_leads.drop(columns=[column], axis=1, inplace=True)\n"
   ]
  },
  {
   "cell_type": "code",
   "execution_count": 232,
   "id": "1412529c",
   "metadata": {},
   "outputs": [],
   "source": [
    "# Na coluna lead source substituir o valor google por Google\n",
    "df_leads['Lead Source'] = df_leads['Lead Source'].apply(lambda x: 'Google' if x == 'google' else x)"
   ]
  },
  {
   "cell_type": "code",
   "execution_count": 233,
   "id": "b25b7aea",
   "metadata": {},
   "outputs": [
    {
     "name": "stdout",
     "output_type": "stream",
     "text": [
      "Do Not Email\n",
      "Do Not Call\n",
      "Search\n",
      "Newspaper Article\n",
      "X Education Forums\n",
      "Newspaper\n",
      "Digital Advertisement\n",
      "Through Recommendations\n",
      "A free copy of Mastering The Interview\n"
     ]
    }
   ],
   "source": [
    "# COnverter valores de colunas categoricas de yes no para 1 e 0\n",
    "for column in df_leads.select_dtypes(include=[object]).columns:\n",
    "    valores_unicos = df_leads[column].unique()\n",
    "    if set(valores_unicos).issubset(set(['Yes', 'No'])):\n",
    "        print(f'{column}')\n",
    "        df_leads[column] = df_leads[column].apply(lambda x: 1 if x == 'Yes' else 0)"
   ]
  },
  {
   "cell_type": "code",
   "execution_count": 234,
   "id": "929b7570",
   "metadata": {},
   "outputs": [
    {
     "data": {
      "text/html": [
       "<div>\n",
       "<style scoped>\n",
       "    .dataframe tbody tr th:only-of-type {\n",
       "        vertical-align: middle;\n",
       "    }\n",
       "\n",
       "    .dataframe tbody tr th {\n",
       "        vertical-align: top;\n",
       "    }\n",
       "\n",
       "    .dataframe thead th {\n",
       "        text-align: right;\n",
       "    }\n",
       "</style>\n",
       "<table border=\"1\" class=\"dataframe\">\n",
       "  <thead>\n",
       "    <tr style=\"text-align: right;\">\n",
       "      <th></th>\n",
       "      <th>Lead Origin</th>\n",
       "      <th>Lead Source</th>\n",
       "      <th>Do Not Email</th>\n",
       "      <th>Do Not Call</th>\n",
       "      <th>Converted</th>\n",
       "      <th>TotalVisits</th>\n",
       "      <th>Total Time Spent on Website</th>\n",
       "      <th>Page Views Per Visit</th>\n",
       "      <th>Last Activity</th>\n",
       "      <th>Search</th>\n",
       "      <th>Newspaper Article</th>\n",
       "      <th>X Education Forums</th>\n",
       "      <th>Newspaper</th>\n",
       "      <th>Digital Advertisement</th>\n",
       "      <th>Through Recommendations</th>\n",
       "      <th>Asymmetrique Activity Score</th>\n",
       "      <th>Asymmetrique Profile Score</th>\n",
       "      <th>A free copy of Mastering The Interview</th>\n",
       "      <th>Last Notable Activity</th>\n",
       "    </tr>\n",
       "  </thead>\n",
       "  <tbody>\n",
       "    <tr>\n",
       "      <th>0</th>\n",
       "      <td>API</td>\n",
       "      <td>Olark Chat</td>\n",
       "      <td>0</td>\n",
       "      <td>0</td>\n",
       "      <td>0</td>\n",
       "      <td>0.0</td>\n",
       "      <td>0</td>\n",
       "      <td>0.0</td>\n",
       "      <td>Page Visited on Website</td>\n",
       "      <td>0</td>\n",
       "      <td>0</td>\n",
       "      <td>0</td>\n",
       "      <td>0</td>\n",
       "      <td>0</td>\n",
       "      <td>0</td>\n",
       "      <td>15.0</td>\n",
       "      <td>15.0</td>\n",
       "      <td>0</td>\n",
       "      <td>Modified</td>\n",
       "    </tr>\n",
       "    <tr>\n",
       "      <th>1</th>\n",
       "      <td>API</td>\n",
       "      <td>Organic Search</td>\n",
       "      <td>0</td>\n",
       "      <td>0</td>\n",
       "      <td>0</td>\n",
       "      <td>5.0</td>\n",
       "      <td>674</td>\n",
       "      <td>2.5</td>\n",
       "      <td>Email Opened</td>\n",
       "      <td>0</td>\n",
       "      <td>0</td>\n",
       "      <td>0</td>\n",
       "      <td>0</td>\n",
       "      <td>0</td>\n",
       "      <td>0</td>\n",
       "      <td>15.0</td>\n",
       "      <td>15.0</td>\n",
       "      <td>0</td>\n",
       "      <td>Email Opened</td>\n",
       "    </tr>\n",
       "    <tr>\n",
       "      <th>2</th>\n",
       "      <td>Landing Page Submission</td>\n",
       "      <td>Direct Traffic</td>\n",
       "      <td>0</td>\n",
       "      <td>0</td>\n",
       "      <td>1</td>\n",
       "      <td>2.0</td>\n",
       "      <td>1532</td>\n",
       "      <td>2.0</td>\n",
       "      <td>Email Opened</td>\n",
       "      <td>0</td>\n",
       "      <td>0</td>\n",
       "      <td>0</td>\n",
       "      <td>0</td>\n",
       "      <td>0</td>\n",
       "      <td>0</td>\n",
       "      <td>14.0</td>\n",
       "      <td>20.0</td>\n",
       "      <td>1</td>\n",
       "      <td>Email Opened</td>\n",
       "    </tr>\n",
       "    <tr>\n",
       "      <th>3</th>\n",
       "      <td>Landing Page Submission</td>\n",
       "      <td>Direct Traffic</td>\n",
       "      <td>0</td>\n",
       "      <td>0</td>\n",
       "      <td>0</td>\n",
       "      <td>1.0</td>\n",
       "      <td>305</td>\n",
       "      <td>1.0</td>\n",
       "      <td>Unreachable</td>\n",
       "      <td>0</td>\n",
       "      <td>0</td>\n",
       "      <td>0</td>\n",
       "      <td>0</td>\n",
       "      <td>0</td>\n",
       "      <td>0</td>\n",
       "      <td>13.0</td>\n",
       "      <td>17.0</td>\n",
       "      <td>0</td>\n",
       "      <td>Modified</td>\n",
       "    </tr>\n",
       "    <tr>\n",
       "      <th>4</th>\n",
       "      <td>Landing Page Submission</td>\n",
       "      <td>Google</td>\n",
       "      <td>0</td>\n",
       "      <td>0</td>\n",
       "      <td>1</td>\n",
       "      <td>2.0</td>\n",
       "      <td>1428</td>\n",
       "      <td>1.0</td>\n",
       "      <td>Converted to Lead</td>\n",
       "      <td>0</td>\n",
       "      <td>0</td>\n",
       "      <td>0</td>\n",
       "      <td>0</td>\n",
       "      <td>0</td>\n",
       "      <td>0</td>\n",
       "      <td>15.0</td>\n",
       "      <td>18.0</td>\n",
       "      <td>0</td>\n",
       "      <td>Modified</td>\n",
       "    </tr>\n",
       "    <tr>\n",
       "      <th>5</th>\n",
       "      <td>API</td>\n",
       "      <td>Olark Chat</td>\n",
       "      <td>0</td>\n",
       "      <td>0</td>\n",
       "      <td>0</td>\n",
       "      <td>0.0</td>\n",
       "      <td>0</td>\n",
       "      <td>0.0</td>\n",
       "      <td>Olark Chat Conversation</td>\n",
       "      <td>0</td>\n",
       "      <td>0</td>\n",
       "      <td>0</td>\n",
       "      <td>0</td>\n",
       "      <td>0</td>\n",
       "      <td>0</td>\n",
       "      <td>17.0</td>\n",
       "      <td>15.0</td>\n",
       "      <td>0</td>\n",
       "      <td>Modified</td>\n",
       "    </tr>\n",
       "    <tr>\n",
       "      <th>6</th>\n",
       "      <td>Landing Page Submission</td>\n",
       "      <td>Google</td>\n",
       "      <td>0</td>\n",
       "      <td>0</td>\n",
       "      <td>1</td>\n",
       "      <td>2.0</td>\n",
       "      <td>1640</td>\n",
       "      <td>2.0</td>\n",
       "      <td>Email Opened</td>\n",
       "      <td>0</td>\n",
       "      <td>0</td>\n",
       "      <td>0</td>\n",
       "      <td>0</td>\n",
       "      <td>0</td>\n",
       "      <td>0</td>\n",
       "      <td>14.0</td>\n",
       "      <td>20.0</td>\n",
       "      <td>0</td>\n",
       "      <td>Modified</td>\n",
       "    </tr>\n",
       "    <tr>\n",
       "      <th>7</th>\n",
       "      <td>API</td>\n",
       "      <td>Olark Chat</td>\n",
       "      <td>0</td>\n",
       "      <td>0</td>\n",
       "      <td>0</td>\n",
       "      <td>0.0</td>\n",
       "      <td>0</td>\n",
       "      <td>0.0</td>\n",
       "      <td>Olark Chat Conversation</td>\n",
       "      <td>0</td>\n",
       "      <td>0</td>\n",
       "      <td>0</td>\n",
       "      <td>0</td>\n",
       "      <td>0</td>\n",
       "      <td>0</td>\n",
       "      <td>15.0</td>\n",
       "      <td>15.0</td>\n",
       "      <td>0</td>\n",
       "      <td>Modified</td>\n",
       "    </tr>\n",
       "    <tr>\n",
       "      <th>8</th>\n",
       "      <td>Landing Page Submission</td>\n",
       "      <td>Direct Traffic</td>\n",
       "      <td>0</td>\n",
       "      <td>0</td>\n",
       "      <td>0</td>\n",
       "      <td>2.0</td>\n",
       "      <td>71</td>\n",
       "      <td>2.0</td>\n",
       "      <td>Email Opened</td>\n",
       "      <td>0</td>\n",
       "      <td>0</td>\n",
       "      <td>0</td>\n",
       "      <td>0</td>\n",
       "      <td>0</td>\n",
       "      <td>0</td>\n",
       "      <td>14.0</td>\n",
       "      <td>14.0</td>\n",
       "      <td>1</td>\n",
       "      <td>Email Opened</td>\n",
       "    </tr>\n",
       "    <tr>\n",
       "      <th>9</th>\n",
       "      <td>API</td>\n",
       "      <td>Google</td>\n",
       "      <td>0</td>\n",
       "      <td>0</td>\n",
       "      <td>0</td>\n",
       "      <td>4.0</td>\n",
       "      <td>58</td>\n",
       "      <td>4.0</td>\n",
       "      <td>Email Opened</td>\n",
       "      <td>0</td>\n",
       "      <td>0</td>\n",
       "      <td>0</td>\n",
       "      <td>0</td>\n",
       "      <td>0</td>\n",
       "      <td>0</td>\n",
       "      <td>13.0</td>\n",
       "      <td>16.0</td>\n",
       "      <td>0</td>\n",
       "      <td>Email Opened</td>\n",
       "    </tr>\n",
       "  </tbody>\n",
       "</table>\n",
       "</div>"
      ],
      "text/plain": [
       "               Lead Origin     Lead Source  Do Not Email  Do Not Call  \\\n",
       "0                      API      Olark Chat             0            0   \n",
       "1                      API  Organic Search             0            0   \n",
       "2  Landing Page Submission  Direct Traffic             0            0   \n",
       "3  Landing Page Submission  Direct Traffic             0            0   \n",
       "4  Landing Page Submission          Google             0            0   \n",
       "5                      API      Olark Chat             0            0   \n",
       "6  Landing Page Submission          Google             0            0   \n",
       "7                      API      Olark Chat             0            0   \n",
       "8  Landing Page Submission  Direct Traffic             0            0   \n",
       "9                      API          Google             0            0   \n",
       "\n",
       "   Converted  TotalVisits  Total Time Spent on Website  Page Views Per Visit  \\\n",
       "0          0          0.0                            0                   0.0   \n",
       "1          0          5.0                          674                   2.5   \n",
       "2          1          2.0                         1532                   2.0   \n",
       "3          0          1.0                          305                   1.0   \n",
       "4          1          2.0                         1428                   1.0   \n",
       "5          0          0.0                            0                   0.0   \n",
       "6          1          2.0                         1640                   2.0   \n",
       "7          0          0.0                            0                   0.0   \n",
       "8          0          2.0                           71                   2.0   \n",
       "9          0          4.0                           58                   4.0   \n",
       "\n",
       "             Last Activity  Search  Newspaper Article  X Education Forums  \\\n",
       "0  Page Visited on Website       0                  0                   0   \n",
       "1             Email Opened       0                  0                   0   \n",
       "2             Email Opened       0                  0                   0   \n",
       "3              Unreachable       0                  0                   0   \n",
       "4        Converted to Lead       0                  0                   0   \n",
       "5  Olark Chat Conversation       0                  0                   0   \n",
       "6             Email Opened       0                  0                   0   \n",
       "7  Olark Chat Conversation       0                  0                   0   \n",
       "8             Email Opened       0                  0                   0   \n",
       "9             Email Opened       0                  0                   0   \n",
       "\n",
       "   Newspaper  Digital Advertisement  Through Recommendations  \\\n",
       "0          0                      0                        0   \n",
       "1          0                      0                        0   \n",
       "2          0                      0                        0   \n",
       "3          0                      0                        0   \n",
       "4          0                      0                        0   \n",
       "5          0                      0                        0   \n",
       "6          0                      0                        0   \n",
       "7          0                      0                        0   \n",
       "8          0                      0                        0   \n",
       "9          0                      0                        0   \n",
       "\n",
       "   Asymmetrique Activity Score  Asymmetrique Profile Score  \\\n",
       "0                         15.0                        15.0   \n",
       "1                         15.0                        15.0   \n",
       "2                         14.0                        20.0   \n",
       "3                         13.0                        17.0   \n",
       "4                         15.0                        18.0   \n",
       "5                         17.0                        15.0   \n",
       "6                         14.0                        20.0   \n",
       "7                         15.0                        15.0   \n",
       "8                         14.0                        14.0   \n",
       "9                         13.0                        16.0   \n",
       "\n",
       "   A free copy of Mastering The Interview Last Notable Activity  \n",
       "0                                       0              Modified  \n",
       "1                                       0          Email Opened  \n",
       "2                                       1          Email Opened  \n",
       "3                                       0              Modified  \n",
       "4                                       0              Modified  \n",
       "5                                       0              Modified  \n",
       "6                                       0              Modified  \n",
       "7                                       0              Modified  \n",
       "8                                       1          Email Opened  \n",
       "9                                       0          Email Opened  "
      ]
     },
     "execution_count": 234,
     "metadata": {},
     "output_type": "execute_result"
    }
   ],
   "source": [
    "df_leads.head(10)"
   ]
  },
  {
   "cell_type": "code",
   "execution_count": 235,
   "id": "6e35210f",
   "metadata": {},
   "outputs": [],
   "source": [
    "#remover linhas com valores ausentes \n",
    "colunas_categoricas = df_leads.select_dtypes(include=['object']).columns\n",
    "df_leads.dropna(subset=colunas_categoricas, inplace=True)"
   ]
  },
  {
   "cell_type": "code",
   "execution_count": 236,
   "id": "f068ba66",
   "metadata": {},
   "outputs": [
    {
     "data": {
      "text/html": [
       "<div>\n",
       "<style scoped>\n",
       "    .dataframe tbody tr th:only-of-type {\n",
       "        vertical-align: middle;\n",
       "    }\n",
       "\n",
       "    .dataframe tbody tr th {\n",
       "        vertical-align: top;\n",
       "    }\n",
       "\n",
       "    .dataframe thead th {\n",
       "        text-align: right;\n",
       "    }\n",
       "</style>\n",
       "<table border=\"1\" class=\"dataframe\">\n",
       "  <thead>\n",
       "    <tr style=\"text-align: right;\">\n",
       "      <th></th>\n",
       "      <th>Do Not Email</th>\n",
       "      <th>Do Not Call</th>\n",
       "      <th>Converted</th>\n",
       "      <th>TotalVisits</th>\n",
       "      <th>Total Time Spent on Website</th>\n",
       "      <th>Page Views Per Visit</th>\n",
       "      <th>Search</th>\n",
       "      <th>Newspaper Article</th>\n",
       "      <th>X Education Forums</th>\n",
       "      <th>Newspaper</th>\n",
       "      <th>Digital Advertisement</th>\n",
       "      <th>Through Recommendations</th>\n",
       "      <th>Asymmetrique Activity Score</th>\n",
       "      <th>Asymmetrique Profile Score</th>\n",
       "      <th>A free copy of Mastering The Interview</th>\n",
       "    </tr>\n",
       "  </thead>\n",
       "  <tbody>\n",
       "    <tr>\n",
       "      <th>count</th>\n",
       "      <td>9103.000000</td>\n",
       "      <td>9103.000000</td>\n",
       "      <td>9103.000000</td>\n",
       "      <td>9074.000000</td>\n",
       "      <td>9103.000000</td>\n",
       "      <td>9074.000000</td>\n",
       "      <td>9103.000000</td>\n",
       "      <td>9103.000000</td>\n",
       "      <td>9103.000000</td>\n",
       "      <td>9103.000000</td>\n",
       "      <td>9103.000000</td>\n",
       "      <td>9103.000000</td>\n",
       "      <td>4944.000000</td>\n",
       "      <td>4944.000000</td>\n",
       "      <td>9103.000000</td>\n",
       "    </tr>\n",
       "    <tr>\n",
       "      <th>mean</th>\n",
       "      <td>0.079205</td>\n",
       "      <td>0.000220</td>\n",
       "      <td>0.379216</td>\n",
       "      <td>3.456028</td>\n",
       "      <td>483.773921</td>\n",
       "      <td>2.370151</td>\n",
       "      <td>0.001538</td>\n",
       "      <td>0.000220</td>\n",
       "      <td>0.000110</td>\n",
       "      <td>0.000110</td>\n",
       "      <td>0.000439</td>\n",
       "      <td>0.000769</td>\n",
       "      <td>14.313511</td>\n",
       "      <td>16.340210</td>\n",
       "      <td>0.317258</td>\n",
       "    </tr>\n",
       "    <tr>\n",
       "      <th>std</th>\n",
       "      <td>0.270073</td>\n",
       "      <td>0.014822</td>\n",
       "      <td>0.485219</td>\n",
       "      <td>4.858802</td>\n",
       "      <td>545.519186</td>\n",
       "      <td>2.160871</td>\n",
       "      <td>0.039189</td>\n",
       "      <td>0.014822</td>\n",
       "      <td>0.010481</td>\n",
       "      <td>0.010481</td>\n",
       "      <td>0.020959</td>\n",
       "      <td>0.027721</td>\n",
       "      <td>1.394627</td>\n",
       "      <td>1.807428</td>\n",
       "      <td>0.465434</td>\n",
       "    </tr>\n",
       "    <tr>\n",
       "      <th>min</th>\n",
       "      <td>0.000000</td>\n",
       "      <td>0.000000</td>\n",
       "      <td>0.000000</td>\n",
       "      <td>0.000000</td>\n",
       "      <td>0.000000</td>\n",
       "      <td>0.000000</td>\n",
       "      <td>0.000000</td>\n",
       "      <td>0.000000</td>\n",
       "      <td>0.000000</td>\n",
       "      <td>0.000000</td>\n",
       "      <td>0.000000</td>\n",
       "      <td>0.000000</td>\n",
       "      <td>7.000000</td>\n",
       "      <td>11.000000</td>\n",
       "      <td>0.000000</td>\n",
       "    </tr>\n",
       "    <tr>\n",
       "      <th>25%</th>\n",
       "      <td>0.000000</td>\n",
       "      <td>0.000000</td>\n",
       "      <td>0.000000</td>\n",
       "      <td>1.000000</td>\n",
       "      <td>12.000000</td>\n",
       "      <td>1.000000</td>\n",
       "      <td>0.000000</td>\n",
       "      <td>0.000000</td>\n",
       "      <td>0.000000</td>\n",
       "      <td>0.000000</td>\n",
       "      <td>0.000000</td>\n",
       "      <td>0.000000</td>\n",
       "      <td>14.000000</td>\n",
       "      <td>15.000000</td>\n",
       "      <td>0.000000</td>\n",
       "    </tr>\n",
       "    <tr>\n",
       "      <th>50%</th>\n",
       "      <td>0.000000</td>\n",
       "      <td>0.000000</td>\n",
       "      <td>0.000000</td>\n",
       "      <td>3.000000</td>\n",
       "      <td>247.000000</td>\n",
       "      <td>2.000000</td>\n",
       "      <td>0.000000</td>\n",
       "      <td>0.000000</td>\n",
       "      <td>0.000000</td>\n",
       "      <td>0.000000</td>\n",
       "      <td>0.000000</td>\n",
       "      <td>0.000000</td>\n",
       "      <td>14.000000</td>\n",
       "      <td>16.000000</td>\n",
       "      <td>0.000000</td>\n",
       "    </tr>\n",
       "    <tr>\n",
       "      <th>75%</th>\n",
       "      <td>0.000000</td>\n",
       "      <td>0.000000</td>\n",
       "      <td>1.000000</td>\n",
       "      <td>5.000000</td>\n",
       "      <td>924.000000</td>\n",
       "      <td>3.200000</td>\n",
       "      <td>0.000000</td>\n",
       "      <td>0.000000</td>\n",
       "      <td>0.000000</td>\n",
       "      <td>0.000000</td>\n",
       "      <td>0.000000</td>\n",
       "      <td>0.000000</td>\n",
       "      <td>15.000000</td>\n",
       "      <td>18.000000</td>\n",
       "      <td>1.000000</td>\n",
       "    </tr>\n",
       "    <tr>\n",
       "      <th>max</th>\n",
       "      <td>1.000000</td>\n",
       "      <td>1.000000</td>\n",
       "      <td>1.000000</td>\n",
       "      <td>251.000000</td>\n",
       "      <td>2272.000000</td>\n",
       "      <td>55.000000</td>\n",
       "      <td>1.000000</td>\n",
       "      <td>1.000000</td>\n",
       "      <td>1.000000</td>\n",
       "      <td>1.000000</td>\n",
       "      <td>1.000000</td>\n",
       "      <td>1.000000</td>\n",
       "      <td>18.000000</td>\n",
       "      <td>20.000000</td>\n",
       "      <td>1.000000</td>\n",
       "    </tr>\n",
       "  </tbody>\n",
       "</table>\n",
       "</div>"
      ],
      "text/plain": [
       "       Do Not Email  Do Not Call    Converted  TotalVisits  \\\n",
       "count   9103.000000  9103.000000  9103.000000  9074.000000   \n",
       "mean       0.079205     0.000220     0.379216     3.456028   \n",
       "std        0.270073     0.014822     0.485219     4.858802   \n",
       "min        0.000000     0.000000     0.000000     0.000000   \n",
       "25%        0.000000     0.000000     0.000000     1.000000   \n",
       "50%        0.000000     0.000000     0.000000     3.000000   \n",
       "75%        0.000000     0.000000     1.000000     5.000000   \n",
       "max        1.000000     1.000000     1.000000   251.000000   \n",
       "\n",
       "       Total Time Spent on Website  Page Views Per Visit       Search  \\\n",
       "count                  9103.000000           9074.000000  9103.000000   \n",
       "mean                    483.773921              2.370151     0.001538   \n",
       "std                     545.519186              2.160871     0.039189   \n",
       "min                       0.000000              0.000000     0.000000   \n",
       "25%                      12.000000              1.000000     0.000000   \n",
       "50%                     247.000000              2.000000     0.000000   \n",
       "75%                     924.000000              3.200000     0.000000   \n",
       "max                    2272.000000             55.000000     1.000000   \n",
       "\n",
       "       Newspaper Article  X Education Forums    Newspaper  \\\n",
       "count        9103.000000         9103.000000  9103.000000   \n",
       "mean            0.000220            0.000110     0.000110   \n",
       "std             0.014822            0.010481     0.010481   \n",
       "min             0.000000            0.000000     0.000000   \n",
       "25%             0.000000            0.000000     0.000000   \n",
       "50%             0.000000            0.000000     0.000000   \n",
       "75%             0.000000            0.000000     0.000000   \n",
       "max             1.000000            1.000000     1.000000   \n",
       "\n",
       "       Digital Advertisement  Through Recommendations  \\\n",
       "count            9103.000000              9103.000000   \n",
       "mean                0.000439                 0.000769   \n",
       "std                 0.020959                 0.027721   \n",
       "min                 0.000000                 0.000000   \n",
       "25%                 0.000000                 0.000000   \n",
       "50%                 0.000000                 0.000000   \n",
       "75%                 0.000000                 0.000000   \n",
       "max                 1.000000                 1.000000   \n",
       "\n",
       "       Asymmetrique Activity Score  Asymmetrique Profile Score  \\\n",
       "count                  4944.000000                 4944.000000   \n",
       "mean                     14.313511                   16.340210   \n",
       "std                       1.394627                    1.807428   \n",
       "min                       7.000000                   11.000000   \n",
       "25%                      14.000000                   15.000000   \n",
       "50%                      14.000000                   16.000000   \n",
       "75%                      15.000000                   18.000000   \n",
       "max                      18.000000                   20.000000   \n",
       "\n",
       "       A free copy of Mastering The Interview  \n",
       "count                             9103.000000  \n",
       "mean                                 0.317258  \n",
       "std                                  0.465434  \n",
       "min                                  0.000000  \n",
       "25%                                  0.000000  \n",
       "50%                                  0.000000  \n",
       "75%                                  1.000000  \n",
       "max                                  1.000000  "
      ]
     },
     "execution_count": 236,
     "metadata": {},
     "output_type": "execute_result"
    }
   ],
   "source": [
    "df_leads.describe()"
   ]
  },
  {
   "cell_type": "code",
   "execution_count": 237,
   "id": "b8032bea",
   "metadata": {},
   "outputs": [],
   "source": [
    "#mostrar e remover as colunas numericas que possuem 1 valor possivel\n",
    "for column in df_leads.select_dtypes(include=['number']).columns:\n",
    "    if df_leads[column].nunique() == 1:\n",
    "        print(f'coluna {column} possui somente um valor possivel: {df_leads[column].unique()}')\n",
    "        df_leads.drop(columns=[column], axis=1, inplace=True)\n",
    "\n"
   ]
  },
  {
   "cell_type": "code",
   "execution_count": 238,
   "id": "ed4b0447",
   "metadata": {},
   "outputs": [
    {
     "name": "stdout",
     "output_type": "stream",
     "text": [
      "Do Not Email: 0.00%\n",
      "Do Not Call: 0.00%\n",
      "Converted: 0.00%\n",
      "TotalVisits: 0.32%\n",
      "Total Time Spent on Website: 0.00%\n",
      "Page Views Per Visit: 0.32%\n",
      "Search: 0.00%\n",
      "Newspaper Article: 0.00%\n",
      "X Education Forums: 0.00%\n",
      "Newspaper: 0.00%\n",
      "Digital Advertisement: 0.00%\n",
      "Through Recommendations: 0.00%\n",
      "Asymmetrique Activity Score: 45.69%\n",
      "Asymmetrique Profile Score: 45.69%\n",
      "A free copy of Mastering The Interview: 0.00%\n"
     ]
    }
   ],
   "source": [
    "#mostrar o percentual de valores ausentes ou com valor igual a 'select para cada coluna categorica\n",
    "for column in df_leads.select_dtypes(include=['number']).columns:\n",
    "    contagem_nulas = (df_leads[column] == 'Select').sum() + df_leads[column].isnull().sum()\n",
    "    print(f'{column}: {contagem_nulas / len(df_leads)*100:.2f}%')"
   ]
  },
  {
   "cell_type": "code",
   "execution_count": 239,
   "id": "d5a029ca",
   "metadata": {},
   "outputs": [
    {
     "name": "stdout",
     "output_type": "stream",
     "text": [
      "Asymmetrique Activity Score: 45.69%\n",
      "Asymmetrique Profile Score: 45.69%\n"
     ]
    }
   ],
   "source": [
    "# remover colunas nulas com maior de 25%\n",
    "for column in df_leads.select_dtypes(include=['number']).columns:\n",
    "    contagem_nulas = df_leads[column].isnull().sum()\n",
    "    if(contagem_nulas / len(df_leads)*100) > 25:\n",
    "        print(f'{column}: {contagem_nulas / len(df_leads)*100:.2f}%')\n",
    "        df_leads.drop(columns=[column], axis=1, inplace=True)\n"
   ]
  },
  {
   "cell_type": "code",
   "execution_count": 240,
   "id": "ce422682",
   "metadata": {},
   "outputs": [],
   "source": [
    "#remover linhas com valores ausentes \n",
    "colunas_numericas = df_leads.select_dtypes(include=['number']).columns\n",
    "df_leads.dropna(subset=colunas_numericas, inplace=True)"
   ]
  },
  {
   "cell_type": "markdown",
   "id": "2479b4f7",
   "metadata": {},
   "source": [
    "### EDA"
   ]
  },
  {
   "cell_type": "code",
   "execution_count": 241,
   "id": "67ac70b0",
   "metadata": {},
   "outputs": [],
   "source": [
    "#hit ratio \n",
    "# Conceito 1 = razao entre leads convertido em vendas sobre quantidade total de leads\n",
    "# 100 leads foram criadas e 30 foram convertidos = 30%\n",
    "# Conceito 2 = razao entre leads convertidos em vendas sobre quantidade de leads encerrados\n",
    "# 100 leads criados, 20 nao convert e 20 foram convertidos\n"
   ]
  },
  {
   "cell_type": "code",
   "execution_count": 242,
   "id": "7bd739d1",
   "metadata": {},
   "outputs": [
    {
     "data": {
      "application/vnd.plotly.v1+json": {
       "config": {
        "plotlyServerURL": "https://plot.ly"
       },
       "data": [
        {
         "hovertemplate": "variable=count<br>Converted=%{x}<br>value=%{y}<extra></extra>",
         "legendgroup": "count",
         "marker": {
          "color": "#636efa",
          "pattern": {
           "shape": ""
          }
         },
         "name": "count",
         "orientation": "v",
         "showlegend": true,
         "textposition": "auto",
         "type": "bar",
         "x": {
          "bdata": "AAE=",
          "dtype": "i1"
         },
         "xaxis": "x",
         "y": {
          "bdata": "9H7m44EST0ALgRkcfu1CQA==",
          "dtype": "f8"
         },
         "yaxis": "y"
        }
       ],
       "layout": {
        "barmode": "relative",
        "legend": {
         "title": {
          "text": "variable"
         },
         "tracegroupgap": 0
        },
        "template": {
         "data": {
          "bar": [
           {
            "error_x": {
             "color": "#2a3f5f"
            },
            "error_y": {
             "color": "#2a3f5f"
            },
            "marker": {
             "line": {
              "color": "#E5ECF6",
              "width": 0.5
             },
             "pattern": {
              "fillmode": "overlay",
              "size": 10,
              "solidity": 0.2
             }
            },
            "type": "bar"
           }
          ],
          "barpolar": [
           {
            "marker": {
             "line": {
              "color": "#E5ECF6",
              "width": 0.5
             },
             "pattern": {
              "fillmode": "overlay",
              "size": 10,
              "solidity": 0.2
             }
            },
            "type": "barpolar"
           }
          ],
          "carpet": [
           {
            "aaxis": {
             "endlinecolor": "#2a3f5f",
             "gridcolor": "white",
             "linecolor": "white",
             "minorgridcolor": "white",
             "startlinecolor": "#2a3f5f"
            },
            "baxis": {
             "endlinecolor": "#2a3f5f",
             "gridcolor": "white",
             "linecolor": "white",
             "minorgridcolor": "white",
             "startlinecolor": "#2a3f5f"
            },
            "type": "carpet"
           }
          ],
          "choropleth": [
           {
            "colorbar": {
             "outlinewidth": 0,
             "ticks": ""
            },
            "type": "choropleth"
           }
          ],
          "contour": [
           {
            "colorbar": {
             "outlinewidth": 0,
             "ticks": ""
            },
            "colorscale": [
             [
              0,
              "#0d0887"
             ],
             [
              0.1111111111111111,
              "#46039f"
             ],
             [
              0.2222222222222222,
              "#7201a8"
             ],
             [
              0.3333333333333333,
              "#9c179e"
             ],
             [
              0.4444444444444444,
              "#bd3786"
             ],
             [
              0.5555555555555556,
              "#d8576b"
             ],
             [
              0.6666666666666666,
              "#ed7953"
             ],
             [
              0.7777777777777778,
              "#fb9f3a"
             ],
             [
              0.8888888888888888,
              "#fdca26"
             ],
             [
              1,
              "#f0f921"
             ]
            ],
            "type": "contour"
           }
          ],
          "contourcarpet": [
           {
            "colorbar": {
             "outlinewidth": 0,
             "ticks": ""
            },
            "type": "contourcarpet"
           }
          ],
          "heatmap": [
           {
            "colorbar": {
             "outlinewidth": 0,
             "ticks": ""
            },
            "colorscale": [
             [
              0,
              "#0d0887"
             ],
             [
              0.1111111111111111,
              "#46039f"
             ],
             [
              0.2222222222222222,
              "#7201a8"
             ],
             [
              0.3333333333333333,
              "#9c179e"
             ],
             [
              0.4444444444444444,
              "#bd3786"
             ],
             [
              0.5555555555555556,
              "#d8576b"
             ],
             [
              0.6666666666666666,
              "#ed7953"
             ],
             [
              0.7777777777777778,
              "#fb9f3a"
             ],
             [
              0.8888888888888888,
              "#fdca26"
             ],
             [
              1,
              "#f0f921"
             ]
            ],
            "type": "heatmap"
           }
          ],
          "histogram": [
           {
            "marker": {
             "pattern": {
              "fillmode": "overlay",
              "size": 10,
              "solidity": 0.2
             }
            },
            "type": "histogram"
           }
          ],
          "histogram2d": [
           {
            "colorbar": {
             "outlinewidth": 0,
             "ticks": ""
            },
            "colorscale": [
             [
              0,
              "#0d0887"
             ],
             [
              0.1111111111111111,
              "#46039f"
             ],
             [
              0.2222222222222222,
              "#7201a8"
             ],
             [
              0.3333333333333333,
              "#9c179e"
             ],
             [
              0.4444444444444444,
              "#bd3786"
             ],
             [
              0.5555555555555556,
              "#d8576b"
             ],
             [
              0.6666666666666666,
              "#ed7953"
             ],
             [
              0.7777777777777778,
              "#fb9f3a"
             ],
             [
              0.8888888888888888,
              "#fdca26"
             ],
             [
              1,
              "#f0f921"
             ]
            ],
            "type": "histogram2d"
           }
          ],
          "histogram2dcontour": [
           {
            "colorbar": {
             "outlinewidth": 0,
             "ticks": ""
            },
            "colorscale": [
             [
              0,
              "#0d0887"
             ],
             [
              0.1111111111111111,
              "#46039f"
             ],
             [
              0.2222222222222222,
              "#7201a8"
             ],
             [
              0.3333333333333333,
              "#9c179e"
             ],
             [
              0.4444444444444444,
              "#bd3786"
             ],
             [
              0.5555555555555556,
              "#d8576b"
             ],
             [
              0.6666666666666666,
              "#ed7953"
             ],
             [
              0.7777777777777778,
              "#fb9f3a"
             ],
             [
              0.8888888888888888,
              "#fdca26"
             ],
             [
              1,
              "#f0f921"
             ]
            ],
            "type": "histogram2dcontour"
           }
          ],
          "mesh3d": [
           {
            "colorbar": {
             "outlinewidth": 0,
             "ticks": ""
            },
            "type": "mesh3d"
           }
          ],
          "parcoords": [
           {
            "line": {
             "colorbar": {
              "outlinewidth": 0,
              "ticks": ""
             }
            },
            "type": "parcoords"
           }
          ],
          "pie": [
           {
            "automargin": true,
            "type": "pie"
           }
          ],
          "scatter": [
           {
            "fillpattern": {
             "fillmode": "overlay",
             "size": 10,
             "solidity": 0.2
            },
            "type": "scatter"
           }
          ],
          "scatter3d": [
           {
            "line": {
             "colorbar": {
              "outlinewidth": 0,
              "ticks": ""
             }
            },
            "marker": {
             "colorbar": {
              "outlinewidth": 0,
              "ticks": ""
             }
            },
            "type": "scatter3d"
           }
          ],
          "scattercarpet": [
           {
            "marker": {
             "colorbar": {
              "outlinewidth": 0,
              "ticks": ""
             }
            },
            "type": "scattercarpet"
           }
          ],
          "scattergeo": [
           {
            "marker": {
             "colorbar": {
              "outlinewidth": 0,
              "ticks": ""
             }
            },
            "type": "scattergeo"
           }
          ],
          "scattergl": [
           {
            "marker": {
             "colorbar": {
              "outlinewidth": 0,
              "ticks": ""
             }
            },
            "type": "scattergl"
           }
          ],
          "scattermap": [
           {
            "marker": {
             "colorbar": {
              "outlinewidth": 0,
              "ticks": ""
             }
            },
            "type": "scattermap"
           }
          ],
          "scattermapbox": [
           {
            "marker": {
             "colorbar": {
              "outlinewidth": 0,
              "ticks": ""
             }
            },
            "type": "scattermapbox"
           }
          ],
          "scatterpolar": [
           {
            "marker": {
             "colorbar": {
              "outlinewidth": 0,
              "ticks": ""
             }
            },
            "type": "scatterpolar"
           }
          ],
          "scatterpolargl": [
           {
            "marker": {
             "colorbar": {
              "outlinewidth": 0,
              "ticks": ""
             }
            },
            "type": "scatterpolargl"
           }
          ],
          "scatterternary": [
           {
            "marker": {
             "colorbar": {
              "outlinewidth": 0,
              "ticks": ""
             }
            },
            "type": "scatterternary"
           }
          ],
          "surface": [
           {
            "colorbar": {
             "outlinewidth": 0,
             "ticks": ""
            },
            "colorscale": [
             [
              0,
              "#0d0887"
             ],
             [
              0.1111111111111111,
              "#46039f"
             ],
             [
              0.2222222222222222,
              "#7201a8"
             ],
             [
              0.3333333333333333,
              "#9c179e"
             ],
             [
              0.4444444444444444,
              "#bd3786"
             ],
             [
              0.5555555555555556,
              "#d8576b"
             ],
             [
              0.6666666666666666,
              "#ed7953"
             ],
             [
              0.7777777777777778,
              "#fb9f3a"
             ],
             [
              0.8888888888888888,
              "#fdca26"
             ],
             [
              1,
              "#f0f921"
             ]
            ],
            "type": "surface"
           }
          ],
          "table": [
           {
            "cells": {
             "fill": {
              "color": "#EBF0F8"
             },
             "line": {
              "color": "white"
             }
            },
            "header": {
             "fill": {
              "color": "#C8D4E3"
             },
             "line": {
              "color": "white"
             }
            },
            "type": "table"
           }
          ]
         },
         "layout": {
          "annotationdefaults": {
           "arrowcolor": "#2a3f5f",
           "arrowhead": 0,
           "arrowwidth": 1
          },
          "autotypenumbers": "strict",
          "coloraxis": {
           "colorbar": {
            "outlinewidth": 0,
            "ticks": ""
           }
          },
          "colorscale": {
           "diverging": [
            [
             0,
             "#8e0152"
            ],
            [
             0.1,
             "#c51b7d"
            ],
            [
             0.2,
             "#de77ae"
            ],
            [
             0.3,
             "#f1b6da"
            ],
            [
             0.4,
             "#fde0ef"
            ],
            [
             0.5,
             "#f7f7f7"
            ],
            [
             0.6,
             "#e6f5d0"
            ],
            [
             0.7,
             "#b8e186"
            ],
            [
             0.8,
             "#7fbc41"
            ],
            [
             0.9,
             "#4d9221"
            ],
            [
             1,
             "#276419"
            ]
           ],
           "sequential": [
            [
             0,
             "#0d0887"
            ],
            [
             0.1111111111111111,
             "#46039f"
            ],
            [
             0.2222222222222222,
             "#7201a8"
            ],
            [
             0.3333333333333333,
             "#9c179e"
            ],
            [
             0.4444444444444444,
             "#bd3786"
            ],
            [
             0.5555555555555556,
             "#d8576b"
            ],
            [
             0.6666666666666666,
             "#ed7953"
            ],
            [
             0.7777777777777778,
             "#fb9f3a"
            ],
            [
             0.8888888888888888,
             "#fdca26"
            ],
            [
             1,
             "#f0f921"
            ]
           ],
           "sequentialminus": [
            [
             0,
             "#0d0887"
            ],
            [
             0.1111111111111111,
             "#46039f"
            ],
            [
             0.2222222222222222,
             "#7201a8"
            ],
            [
             0.3333333333333333,
             "#9c179e"
            ],
            [
             0.4444444444444444,
             "#bd3786"
            ],
            [
             0.5555555555555556,
             "#d8576b"
            ],
            [
             0.6666666666666666,
             "#ed7953"
            ],
            [
             0.7777777777777778,
             "#fb9f3a"
            ],
            [
             0.8888888888888888,
             "#fdca26"
            ],
            [
             1,
             "#f0f921"
            ]
           ]
          },
          "colorway": [
           "#636efa",
           "#EF553B",
           "#00cc96",
           "#ab63fa",
           "#FFA15A",
           "#19d3f3",
           "#FF6692",
           "#B6E880",
           "#FF97FF",
           "#FECB52"
          ],
          "font": {
           "color": "#2a3f5f"
          },
          "geo": {
           "bgcolor": "white",
           "lakecolor": "white",
           "landcolor": "#E5ECF6",
           "showlakes": true,
           "showland": true,
           "subunitcolor": "white"
          },
          "hoverlabel": {
           "align": "left"
          },
          "hovermode": "closest",
          "mapbox": {
           "style": "light"
          },
          "paper_bgcolor": "white",
          "plot_bgcolor": "#E5ECF6",
          "polar": {
           "angularaxis": {
            "gridcolor": "white",
            "linecolor": "white",
            "ticks": ""
           },
           "bgcolor": "#E5ECF6",
           "radialaxis": {
            "gridcolor": "white",
            "linecolor": "white",
            "ticks": ""
           }
          },
          "scene": {
           "xaxis": {
            "backgroundcolor": "#E5ECF6",
            "gridcolor": "white",
            "gridwidth": 2,
            "linecolor": "white",
            "showbackground": true,
            "ticks": "",
            "zerolinecolor": "white"
           },
           "yaxis": {
            "backgroundcolor": "#E5ECF6",
            "gridcolor": "white",
            "gridwidth": 2,
            "linecolor": "white",
            "showbackground": true,
            "ticks": "",
            "zerolinecolor": "white"
           },
           "zaxis": {
            "backgroundcolor": "#E5ECF6",
            "gridcolor": "white",
            "gridwidth": 2,
            "linecolor": "white",
            "showbackground": true,
            "ticks": "",
            "zerolinecolor": "white"
           }
          },
          "shapedefaults": {
           "line": {
            "color": "#2a3f5f"
           }
          },
          "ternary": {
           "aaxis": {
            "gridcolor": "white",
            "linecolor": "white",
            "ticks": ""
           },
           "baxis": {
            "gridcolor": "white",
            "linecolor": "white",
            "ticks": ""
           },
           "bgcolor": "#E5ECF6",
           "caxis": {
            "gridcolor": "white",
            "linecolor": "white",
            "ticks": ""
           }
          },
          "title": {
           "x": 0.05
          },
          "xaxis": {
           "automargin": true,
           "gridcolor": "white",
           "linecolor": "white",
           "ticks": "",
           "title": {
            "standoff": 15
           },
           "zerolinecolor": "white",
           "zerolinewidth": 2
          },
          "yaxis": {
           "automargin": true,
           "gridcolor": "white",
           "linecolor": "white",
           "ticks": "",
           "title": {
            "standoff": 15
           },
           "zerolinecolor": "white",
           "zerolinewidth": 2
          }
         }
        },
        "title": {
         "text": "Hit Ratio - Fator de conversão"
        },
        "xaxis": {
         "anchor": "y",
         "domain": [
          0,
          1
         ],
         "title": {
          "text": "Converted"
         }
        },
        "yaxis": {
         "anchor": "x",
         "domain": [
          0,
          1
         ],
         "title": {
          "text": "value"
         }
        }
       }
      }
     },
     "metadata": {},
     "output_type": "display_data"
    }
   ],
   "source": [
    "# Distribuição target em percentual\n",
    "fig = px.bar(df_leads['Converted'].value_counts()/len(df_leads)*100, title='Hit Ratio - Fator de conversão')\n",
    "fig.show()"
   ]
  },
  {
   "cell_type": "code",
   "execution_count": 243,
   "id": "fcb74e4f",
   "metadata": {},
   "outputs": [],
   "source": [
    "#plot de correlação das variaveis numericas com plotly \n",
    "corr_matrix = df_leads.select_dtypes(include=['number']).corr()\n"
   ]
  },
  {
   "cell_type": "code",
   "execution_count": 244,
   "id": "b7f133d7",
   "metadata": {},
   "outputs": [
    {
     "data": {
      "application/vnd.plotly.v1+json": {
       "config": {
        "plotlyServerURL": "https://plot.ly"
       },
       "data": [
        {
         "colorscale": [
          [
           0,
           "rgb(103,0,31)"
          ],
          [
           0.1,
           "rgb(178,24,43)"
          ],
          [
           0.2,
           "rgb(214,96,77)"
          ],
          [
           0.3,
           "rgb(244,165,130)"
          ],
          [
           0.4,
           "rgb(253,219,199)"
          ],
          [
           0.5,
           "rgb(247,247,247)"
          ],
          [
           0.6,
           "rgb(209,229,240)"
          ],
          [
           0.7,
           "rgb(146,197,222)"
          ],
          [
           0.8,
           "rgb(67,147,195)"
          ],
          [
           0.9,
           "rgb(33,102,172)"
          ],
          [
           1,
           "rgb(5,48,97)"
          ]
         ],
         "text": {
          "bdata": "AAAAAAAA8D8BY/RN5Mxxv4jXz5RGBcK/Ud0FwDVJoj8IpCGDhKanv9ORr4Z3o6I/+io4LjGQh78GY/RN5Mxxvzn7TCQQLGm/KPtMJBAsab/2mqfxIC15v0YaiNLBp4C/X3CamDq1rT8BY/RN5MxxvwAAAAAAAPA/C03lBAV7kz8Gm3NWyCJqP/3HhKp5ynw/mRBb+sp9eL/qPpVOIiBDv/t4rI5c5Sy/KbIfrm9uJL8tsh+ub24kv3XD1BpNbzS/zB3/eYEJO7+huPG49saEv4jXz5RGBcK/C03lBAV7kz8AAAAAAADwP4jmVoxj0qA/c8pANyP+1j/6wxXrCQgxP8P2vetnbly/PDLB/7F0bj+N/1MK7ceAv4v/Uwrtx4C/uihGtGvMdr8V8cQox7GTP4HLhQukmZ+/Ud0FwDVJoj8Gm3NWyCJqP4jmVoxj0qA/AAAAAAAA8D8PJ6UM3x/MP5ryfJurWuA/2WVCpkpVqT8cuK2Fx0ehP6YU4h6kTaI/+bx+JqD1jD/cR3I0xYmYP1WsFnfwfKE/ubqWH3q8yT8IpCGDhKanv/3HhKp5ynw/c8pANyP+1j8PJ6UM3x/MPwAAAAAAAPA/8iWjWddf1D/vJmvI3v6KP1QKqRwFy4c/vjtkb1Udej8BLho23jSaP8HPclwDLoA/6kzgc8tUmD9HZZ6GLrbGP9ORr4Z3o6I/mRBb+sp9eL/6wxXrCQgxP5ryfJurWuA/8iWjWddf1D8AAAAAAADwP/lpdvq5/aA/CY3NPkzIlz/WRILSWKxEP7RCFognGnM/7IgVaNpwlj/UTQJ4Hz2UP6UKRYt8pNE/+io4LjGQh7/qPpVOIiBDv8P2vetnbly/2WVCpkpVqT/vJmvI3v6KP/lpdvq5/aA/AAAAAAAA8D+xD3UC6SLIPz8RbYerF9E/p/rxKswLO7/6R6sPGwTBP5QkJn/1WNM/YB5LvBKCZr8GY/RN5Mxxv/t4rI5c5Sy/PDLB/7F0bj8cuK2Fx0ehP1QKqRwFy4c/CY3NPkzIlz+xD3UC6SLIPwAAAAAAAPA/zBlUrUyg5j8Ssh+ub24kv5uWwQRtndY/kZUrwTgW0T9+xCVuFLp3Pzn7TCQQLGm/KbIfrm9uJL+N/1MK7ceAv6YU4h6kTaI/vjtkb1Udej/WRILSWKxEPz8RbYerF9E/zBlUrUyg5j8AAAAAAADwPy7JINaL5By/8V4bQqX+3z/FXiSihS7YPyezLIand48/KPtMJBAsab8tsh+ub24kv4v/Uwrtx4C/+bx+JqD1jD8BLho23jSaP7RCFognGnM/p/rxKswLO78Ssh+ub24kvy7JINaL5By/AAAAAAAA8D+49v31xOUsv5BUR1T5HTO/Wz+uc7xhfb/2mqfxIC15v3XD1BpNbzS/uihGtGvMdr/cR3I0xYmYP8HPclwDLoA/7IgVaNpwlj/6R6sPGwTBP5uWwQRtndY/8V4bQqX+3z+49v31xOUsvwAAAAAAAPA/epNenTQhyD8xhKaG9zZpv0YaiNLBp4C/zB3/eYEJO78V8cQox7GTP1WsFnfwfKE/6kzgc8tUmD/UTQJ4Hz2UP5QkJn/1WNM/kZUrwTgW0T/FXiSihS7YP5BUR1T5HTO/epNenTQhyD8AAAAAAADwP8D0cAoz7Y4/X3CamDq1rT+huPG49saEv4HLhQukmZ+/ubqWH3q8yT9HZZ6GLrbGP6UKRYt8pNE/YB5LvBKCZr9+xCVuFLp3PyezLIand48/Wz+uc7xhfb8xhKaG9zZpv8D0cAoz7Y4/AAAAAAAA8D8=",
          "dtype": "f8",
          "shape": "13, 13"
         },
         "texttemplate": "%{text:.2f}",
         "type": "heatmap",
         "x": [
          "Do Not Email",
          "Do Not Call",
          "Converted",
          "TotalVisits",
          "Total Time Spent on Website",
          "Page Views Per Visit",
          "Search",
          "Newspaper Article",
          "X Education Forums",
          "Newspaper",
          "Digital Advertisement",
          "Through Recommendations",
          "A free copy of Mastering The Interview"
         ],
         "y": [
          "Do Not Email",
          "Do Not Call",
          "Converted",
          "TotalVisits",
          "Total Time Spent on Website",
          "Page Views Per Visit",
          "Search",
          "Newspaper Article",
          "X Education Forums",
          "Newspaper",
          "Digital Advertisement",
          "Through Recommendations",
          "A free copy of Mastering The Interview"
         ],
         "z": {
          "bdata": "AAAAAAAA8D8BY/RN5Mxxv4jXz5RGBcK/Ud0FwDVJoj8IpCGDhKanv9ORr4Z3o6I/+io4LjGQh78GY/RN5Mxxvzn7TCQQLGm/KPtMJBAsab/2mqfxIC15v0YaiNLBp4C/X3CamDq1rT8BY/RN5MxxvwAAAAAAAPA/C03lBAV7kz8Gm3NWyCJqP/3HhKp5ynw/mRBb+sp9eL/qPpVOIiBDv/t4rI5c5Sy/KbIfrm9uJL8tsh+ub24kv3XD1BpNbzS/zB3/eYEJO7+huPG49saEv4jXz5RGBcK/C03lBAV7kz8AAAAAAADwP4jmVoxj0qA/c8pANyP+1j/6wxXrCQgxP8P2vetnbly/PDLB/7F0bj+N/1MK7ceAv4v/Uwrtx4C/uihGtGvMdr8V8cQox7GTP4HLhQukmZ+/Ud0FwDVJoj8Gm3NWyCJqP4jmVoxj0qA/AAAAAAAA8D8PJ6UM3x/MP5ryfJurWuA/2WVCpkpVqT8cuK2Fx0ehP6YU4h6kTaI/+bx+JqD1jD/cR3I0xYmYP1WsFnfwfKE/ubqWH3q8yT8IpCGDhKanv/3HhKp5ynw/c8pANyP+1j8PJ6UM3x/MPwAAAAAAAPA/8iWjWddf1D/vJmvI3v6KP1QKqRwFy4c/vjtkb1Udej8BLho23jSaP8HPclwDLoA/6kzgc8tUmD9HZZ6GLrbGP9ORr4Z3o6I/mRBb+sp9eL/6wxXrCQgxP5ryfJurWuA/8iWjWddf1D8AAAAAAADwP/lpdvq5/aA/CY3NPkzIlz/WRILSWKxEP7RCFognGnM/7IgVaNpwlj/UTQJ4Hz2UP6UKRYt8pNE/+io4LjGQh7/qPpVOIiBDv8P2vetnbly/2WVCpkpVqT/vJmvI3v6KP/lpdvq5/aA/AAAAAAAA8D+xD3UC6SLIPz8RbYerF9E/p/rxKswLO7/6R6sPGwTBP5QkJn/1WNM/YB5LvBKCZr8GY/RN5Mxxv/t4rI5c5Sy/PDLB/7F0bj8cuK2Fx0ehP1QKqRwFy4c/CY3NPkzIlz+xD3UC6SLIPwAAAAAAAPA/zBlUrUyg5j8Ssh+ub24kv5uWwQRtndY/kZUrwTgW0T9+xCVuFLp3Pzn7TCQQLGm/KbIfrm9uJL+N/1MK7ceAv6YU4h6kTaI/vjtkb1Udej/WRILSWKxEPz8RbYerF9E/zBlUrUyg5j8AAAAAAADwPy7JINaL5By/8V4bQqX+3z/FXiSihS7YPyezLIand48/KPtMJBAsab8tsh+ub24kv4v/Uwrtx4C/+bx+JqD1jD8BLho23jSaP7RCFognGnM/p/rxKswLO78Ssh+ub24kvy7JINaL5By/AAAAAAAA8D+49v31xOUsv5BUR1T5HTO/Wz+uc7xhfb/2mqfxIC15v3XD1BpNbzS/uihGtGvMdr/cR3I0xYmYP8HPclwDLoA/7IgVaNpwlj/6R6sPGwTBP5uWwQRtndY/8V4bQqX+3z+49v31xOUsvwAAAAAAAPA/epNenTQhyD8xhKaG9zZpv0YaiNLBp4C/zB3/eYEJO78V8cQox7GTP1WsFnfwfKE/6kzgc8tUmD/UTQJ4Hz2UP5QkJn/1WNM/kZUrwTgW0T/FXiSihS7YP5BUR1T5HTO/epNenTQhyD8AAAAAAADwP8D0cAoz7Y4/X3CamDq1rT+huPG49saEv4HLhQukmZ+/ubqWH3q8yT9HZZ6GLrbGP6UKRYt8pNE/YB5LvBKCZr9+xCVuFLp3PyezLIand48/Wz+uc7xhfb8xhKaG9zZpv8D0cAoz7Y4/AAAAAAAA8D8=",
          "dtype": "f8",
          "shape": "13, 13"
         },
         "zmax": 1,
         "zmin": -1
        }
       ],
       "layout": {
        "template": {
         "data": {
          "bar": [
           {
            "error_x": {
             "color": "#2a3f5f"
            },
            "error_y": {
             "color": "#2a3f5f"
            },
            "marker": {
             "line": {
              "color": "#E5ECF6",
              "width": 0.5
             },
             "pattern": {
              "fillmode": "overlay",
              "size": 10,
              "solidity": 0.2
             }
            },
            "type": "bar"
           }
          ],
          "barpolar": [
           {
            "marker": {
             "line": {
              "color": "#E5ECF6",
              "width": 0.5
             },
             "pattern": {
              "fillmode": "overlay",
              "size": 10,
              "solidity": 0.2
             }
            },
            "type": "barpolar"
           }
          ],
          "carpet": [
           {
            "aaxis": {
             "endlinecolor": "#2a3f5f",
             "gridcolor": "white",
             "linecolor": "white",
             "minorgridcolor": "white",
             "startlinecolor": "#2a3f5f"
            },
            "baxis": {
             "endlinecolor": "#2a3f5f",
             "gridcolor": "white",
             "linecolor": "white",
             "minorgridcolor": "white",
             "startlinecolor": "#2a3f5f"
            },
            "type": "carpet"
           }
          ],
          "choropleth": [
           {
            "colorbar": {
             "outlinewidth": 0,
             "ticks": ""
            },
            "type": "choropleth"
           }
          ],
          "contour": [
           {
            "colorbar": {
             "outlinewidth": 0,
             "ticks": ""
            },
            "colorscale": [
             [
              0,
              "#0d0887"
             ],
             [
              0.1111111111111111,
              "#46039f"
             ],
             [
              0.2222222222222222,
              "#7201a8"
             ],
             [
              0.3333333333333333,
              "#9c179e"
             ],
             [
              0.4444444444444444,
              "#bd3786"
             ],
             [
              0.5555555555555556,
              "#d8576b"
             ],
             [
              0.6666666666666666,
              "#ed7953"
             ],
             [
              0.7777777777777778,
              "#fb9f3a"
             ],
             [
              0.8888888888888888,
              "#fdca26"
             ],
             [
              1,
              "#f0f921"
             ]
            ],
            "type": "contour"
           }
          ],
          "contourcarpet": [
           {
            "colorbar": {
             "outlinewidth": 0,
             "ticks": ""
            },
            "type": "contourcarpet"
           }
          ],
          "heatmap": [
           {
            "colorbar": {
             "outlinewidth": 0,
             "ticks": ""
            },
            "colorscale": [
             [
              0,
              "#0d0887"
             ],
             [
              0.1111111111111111,
              "#46039f"
             ],
             [
              0.2222222222222222,
              "#7201a8"
             ],
             [
              0.3333333333333333,
              "#9c179e"
             ],
             [
              0.4444444444444444,
              "#bd3786"
             ],
             [
              0.5555555555555556,
              "#d8576b"
             ],
             [
              0.6666666666666666,
              "#ed7953"
             ],
             [
              0.7777777777777778,
              "#fb9f3a"
             ],
             [
              0.8888888888888888,
              "#fdca26"
             ],
             [
              1,
              "#f0f921"
             ]
            ],
            "type": "heatmap"
           }
          ],
          "histogram": [
           {
            "marker": {
             "pattern": {
              "fillmode": "overlay",
              "size": 10,
              "solidity": 0.2
             }
            },
            "type": "histogram"
           }
          ],
          "histogram2d": [
           {
            "colorbar": {
             "outlinewidth": 0,
             "ticks": ""
            },
            "colorscale": [
             [
              0,
              "#0d0887"
             ],
             [
              0.1111111111111111,
              "#46039f"
             ],
             [
              0.2222222222222222,
              "#7201a8"
             ],
             [
              0.3333333333333333,
              "#9c179e"
             ],
             [
              0.4444444444444444,
              "#bd3786"
             ],
             [
              0.5555555555555556,
              "#d8576b"
             ],
             [
              0.6666666666666666,
              "#ed7953"
             ],
             [
              0.7777777777777778,
              "#fb9f3a"
             ],
             [
              0.8888888888888888,
              "#fdca26"
             ],
             [
              1,
              "#f0f921"
             ]
            ],
            "type": "histogram2d"
           }
          ],
          "histogram2dcontour": [
           {
            "colorbar": {
             "outlinewidth": 0,
             "ticks": ""
            },
            "colorscale": [
             [
              0,
              "#0d0887"
             ],
             [
              0.1111111111111111,
              "#46039f"
             ],
             [
              0.2222222222222222,
              "#7201a8"
             ],
             [
              0.3333333333333333,
              "#9c179e"
             ],
             [
              0.4444444444444444,
              "#bd3786"
             ],
             [
              0.5555555555555556,
              "#d8576b"
             ],
             [
              0.6666666666666666,
              "#ed7953"
             ],
             [
              0.7777777777777778,
              "#fb9f3a"
             ],
             [
              0.8888888888888888,
              "#fdca26"
             ],
             [
              1,
              "#f0f921"
             ]
            ],
            "type": "histogram2dcontour"
           }
          ],
          "mesh3d": [
           {
            "colorbar": {
             "outlinewidth": 0,
             "ticks": ""
            },
            "type": "mesh3d"
           }
          ],
          "parcoords": [
           {
            "line": {
             "colorbar": {
              "outlinewidth": 0,
              "ticks": ""
             }
            },
            "type": "parcoords"
           }
          ],
          "pie": [
           {
            "automargin": true,
            "type": "pie"
           }
          ],
          "scatter": [
           {
            "fillpattern": {
             "fillmode": "overlay",
             "size": 10,
             "solidity": 0.2
            },
            "type": "scatter"
           }
          ],
          "scatter3d": [
           {
            "line": {
             "colorbar": {
              "outlinewidth": 0,
              "ticks": ""
             }
            },
            "marker": {
             "colorbar": {
              "outlinewidth": 0,
              "ticks": ""
             }
            },
            "type": "scatter3d"
           }
          ],
          "scattercarpet": [
           {
            "marker": {
             "colorbar": {
              "outlinewidth": 0,
              "ticks": ""
             }
            },
            "type": "scattercarpet"
           }
          ],
          "scattergeo": [
           {
            "marker": {
             "colorbar": {
              "outlinewidth": 0,
              "ticks": ""
             }
            },
            "type": "scattergeo"
           }
          ],
          "scattergl": [
           {
            "marker": {
             "colorbar": {
              "outlinewidth": 0,
              "ticks": ""
             }
            },
            "type": "scattergl"
           }
          ],
          "scattermap": [
           {
            "marker": {
             "colorbar": {
              "outlinewidth": 0,
              "ticks": ""
             }
            },
            "type": "scattermap"
           }
          ],
          "scattermapbox": [
           {
            "marker": {
             "colorbar": {
              "outlinewidth": 0,
              "ticks": ""
             }
            },
            "type": "scattermapbox"
           }
          ],
          "scatterpolar": [
           {
            "marker": {
             "colorbar": {
              "outlinewidth": 0,
              "ticks": ""
             }
            },
            "type": "scatterpolar"
           }
          ],
          "scatterpolargl": [
           {
            "marker": {
             "colorbar": {
              "outlinewidth": 0,
              "ticks": ""
             }
            },
            "type": "scatterpolargl"
           }
          ],
          "scatterternary": [
           {
            "marker": {
             "colorbar": {
              "outlinewidth": 0,
              "ticks": ""
             }
            },
            "type": "scatterternary"
           }
          ],
          "surface": [
           {
            "colorbar": {
             "outlinewidth": 0,
             "ticks": ""
            },
            "colorscale": [
             [
              0,
              "#0d0887"
             ],
             [
              0.1111111111111111,
              "#46039f"
             ],
             [
              0.2222222222222222,
              "#7201a8"
             ],
             [
              0.3333333333333333,
              "#9c179e"
             ],
             [
              0.4444444444444444,
              "#bd3786"
             ],
             [
              0.5555555555555556,
              "#d8576b"
             ],
             [
              0.6666666666666666,
              "#ed7953"
             ],
             [
              0.7777777777777778,
              "#fb9f3a"
             ],
             [
              0.8888888888888888,
              "#fdca26"
             ],
             [
              1,
              "#f0f921"
             ]
            ],
            "type": "surface"
           }
          ],
          "table": [
           {
            "cells": {
             "fill": {
              "color": "#EBF0F8"
             },
             "line": {
              "color": "white"
             }
            },
            "header": {
             "fill": {
              "color": "#C8D4E3"
             },
             "line": {
              "color": "white"
             }
            },
            "type": "table"
           }
          ]
         },
         "layout": {
          "annotationdefaults": {
           "arrowcolor": "#2a3f5f",
           "arrowhead": 0,
           "arrowwidth": 1
          },
          "autotypenumbers": "strict",
          "coloraxis": {
           "colorbar": {
            "outlinewidth": 0,
            "ticks": ""
           }
          },
          "colorscale": {
           "diverging": [
            [
             0,
             "#8e0152"
            ],
            [
             0.1,
             "#c51b7d"
            ],
            [
             0.2,
             "#de77ae"
            ],
            [
             0.3,
             "#f1b6da"
            ],
            [
             0.4,
             "#fde0ef"
            ],
            [
             0.5,
             "#f7f7f7"
            ],
            [
             0.6,
             "#e6f5d0"
            ],
            [
             0.7,
             "#b8e186"
            ],
            [
             0.8,
             "#7fbc41"
            ],
            [
             0.9,
             "#4d9221"
            ],
            [
             1,
             "#276419"
            ]
           ],
           "sequential": [
            [
             0,
             "#0d0887"
            ],
            [
             0.1111111111111111,
             "#46039f"
            ],
            [
             0.2222222222222222,
             "#7201a8"
            ],
            [
             0.3333333333333333,
             "#9c179e"
            ],
            [
             0.4444444444444444,
             "#bd3786"
            ],
            [
             0.5555555555555556,
             "#d8576b"
            ],
            [
             0.6666666666666666,
             "#ed7953"
            ],
            [
             0.7777777777777778,
             "#fb9f3a"
            ],
            [
             0.8888888888888888,
             "#fdca26"
            ],
            [
             1,
             "#f0f921"
            ]
           ],
           "sequentialminus": [
            [
             0,
             "#0d0887"
            ],
            [
             0.1111111111111111,
             "#46039f"
            ],
            [
             0.2222222222222222,
             "#7201a8"
            ],
            [
             0.3333333333333333,
             "#9c179e"
            ],
            [
             0.4444444444444444,
             "#bd3786"
            ],
            [
             0.5555555555555556,
             "#d8576b"
            ],
            [
             0.6666666666666666,
             "#ed7953"
            ],
            [
             0.7777777777777778,
             "#fb9f3a"
            ],
            [
             0.8888888888888888,
             "#fdca26"
            ],
            [
             1,
             "#f0f921"
            ]
           ]
          },
          "colorway": [
           "#636efa",
           "#EF553B",
           "#00cc96",
           "#ab63fa",
           "#FFA15A",
           "#19d3f3",
           "#FF6692",
           "#B6E880",
           "#FF97FF",
           "#FECB52"
          ],
          "font": {
           "color": "#2a3f5f"
          },
          "geo": {
           "bgcolor": "white",
           "lakecolor": "white",
           "landcolor": "#E5ECF6",
           "showlakes": true,
           "showland": true,
           "subunitcolor": "white"
          },
          "hoverlabel": {
           "align": "left"
          },
          "hovermode": "closest",
          "mapbox": {
           "style": "light"
          },
          "paper_bgcolor": "white",
          "plot_bgcolor": "#E5ECF6",
          "polar": {
           "angularaxis": {
            "gridcolor": "white",
            "linecolor": "white",
            "ticks": ""
           },
           "bgcolor": "#E5ECF6",
           "radialaxis": {
            "gridcolor": "white",
            "linecolor": "white",
            "ticks": ""
           }
          },
          "scene": {
           "xaxis": {
            "backgroundcolor": "#E5ECF6",
            "gridcolor": "white",
            "gridwidth": 2,
            "linecolor": "white",
            "showbackground": true,
            "ticks": "",
            "zerolinecolor": "white"
           },
           "yaxis": {
            "backgroundcolor": "#E5ECF6",
            "gridcolor": "white",
            "gridwidth": 2,
            "linecolor": "white",
            "showbackground": true,
            "ticks": "",
            "zerolinecolor": "white"
           },
           "zaxis": {
            "backgroundcolor": "#E5ECF6",
            "gridcolor": "white",
            "gridwidth": 2,
            "linecolor": "white",
            "showbackground": true,
            "ticks": "",
            "zerolinecolor": "white"
           }
          },
          "shapedefaults": {
           "line": {
            "color": "#2a3f5f"
           }
          },
          "ternary": {
           "aaxis": {
            "gridcolor": "white",
            "linecolor": "white",
            "ticks": ""
           },
           "baxis": {
            "gridcolor": "white",
            "linecolor": "white",
            "ticks": ""
           },
           "bgcolor": "#E5ECF6",
           "caxis": {
            "gridcolor": "white",
            "linecolor": "white",
            "ticks": ""
           }
          },
          "title": {
           "x": 0.05
          },
          "xaxis": {
           "automargin": true,
           "gridcolor": "white",
           "linecolor": "white",
           "ticks": "",
           "title": {
            "standoff": 15
           },
           "zerolinecolor": "white",
           "zerolinewidth": 2
          },
          "yaxis": {
           "automargin": true,
           "gridcolor": "white",
           "linecolor": "white",
           "ticks": "",
           "title": {
            "standoff": 15
           },
           "zerolinecolor": "white",
           "zerolinewidth": 2
          }
         }
        }
       }
      }
     },
     "metadata": {},
     "output_type": "display_data"
    }
   ],
   "source": [
    "fig = go.Figure()\n",
    "fig.add_trace(\n",
    "    go.Heatmap(\n",
    "        x = corr_matrix.columns,\n",
    "        y = corr_matrix.index,\n",
    "        z = np.array(corr_matrix),\n",
    "        text = corr_matrix.values,\n",
    "        texttemplate='%{text:.2f}',\n",
    "        colorscale=px.colors.diverging.RdBu,\n",
    "        zmin=-1,\n",
    "        zmax=1\n",
    "    )\n",
    ")\n",
    "\n",
    "fig.show()"
   ]
  },
  {
   "cell_type": "code",
   "execution_count": 245,
   "id": "59beafdd",
   "metadata": {},
   "outputs": [
    {
     "data": {
      "application/vnd.plotly.v1+json": {
       "config": {
        "plotlyServerURL": "https://plot.ly"
       },
       "data": [
        {
         "alignmentgroup": "True",
         "hovertemplate": "Converted=%{x}<br>TotalVisits=%{y}<extra></extra>",
         "legendgroup": "0",
         "marker": {
          "color": "#636efa"
         },
         "name": "0",
         "notched": false,
         "offsetgroup": "0",
         "orientation": "v",
         "showlegend": true,
         "type": "box",
         "x": {
          "bdata": "AAAAAAAAAAAAAAAAAAAAAAAAAAAAAAAAAAAAAAAAAAAAAAAAAAAAAAAAAAAAAAAAAAAAAAAAAAAAAAAAAAAAAAAAAAAAAAAAAAAAAAAAAAAAAAAAAAAAAAAAAAAAAAAAAAAAAAAAAAAAAAAAAAAAAAAAAAAAAAAAAAAAAAAAAAAAAAAAAAAAAAAAAAAAAAAAAAAAAAAAAAAAAAAAAAAAAAAAAAAAAAAAAAAAAAAAAAAAAAAAAAAAAAAAAAAAAAAAAAAAAAAAAAAAAAAAAAAAAAAAAAAAAAAAAAAAAAAAAAAAAAAAAAAAAAAAAAAAAAAAAAAAAAAAAAAAAAAAAAAAAAAAAAAAAAAAAAAAAAAAAAAAAAAAAAAAAAAAAAAAAAAAAAAAAAAAAAAAAAAAAAAAAAAAAAAAAAAAAAAAAAAAAAAAAAAAAAAAAAAAAAAAAAAAAAAAAAAAAAAAAAAAAAAAAAAAAAAAAAAAAAAAAAAAAAAAAAAAAAAAAAAAAAAAAAAAAAAAAAAAAAAAAAAAAAAAAAAAAAAAAAAAAAAAAAAAAAAAAAAAAAAAAAAAAAAAAAAAAAAAAAAAAAAAAAAAAAAAAAAAAAAAAAAAAAAAAAAAAAAAAAAAAAAAAAAAAAAAAAAAAAAAAAAAAAAAAAAAAAAAAAAAAAAAAAAAAAAAAAAAAAAAAAAAAAAAAAAAAAAAAAAAAAAAAAAAAAAAAAAAAAAAAAAAAAAAAAAAAAAAAAAAAAAAAAAAAAAAAAAAAAAAAAAAAAAAAAAAAAAAAAAAAAAAAAAAAAAAAAAAAAAAAAAAAAAAAAAAAAAAAAAAAAAAAAAAAAAAAAAAAAAAAAAAAAAAAAAAAAAAAAAAAAAAAAAAAAAAAAAAAAAAAAAAAAAAAAAAAAAAAAAAAAAAAAAAAAAAAAAAAAAAAAAAAAAAAAAAAAAAAAAAAAAAAAAAAAAAAAAAAAAAAAAAAAAAAAAAAAAAAAAAAAAAAAAAAAAAAAAAAAAAAAAAAAAAAAAAAAAAAAAAAAAAAAAAAAAAAAAAAAAAAAAAAAAAAAAAAAAAAAAAAAAAAAAAAAAAAAAAAAAAAAAAAAAAAAAAAAAAAAAAAAAAAAAAAAAAAAAAAAAAAAAAAAAAAAAAAAAAAAAAAAAAAAAAAAAAAAAAAAAAAAAAAAAAAAAAAAAAAAAAAAAAAAAAAAAAAAAAAAAAAAAAAAAAAAAAAAAAAAAAAAAAAAAAAAAAAAAAAAAAAAAAAAAAAAAAAAAAAAAAAAAAAAAAAAAAAAAAAAAAAAAAAAAAAAAAAAAAAAAAAAAAAAAAAAAAAAAAAAAAAAAAAAAAAAAAAAAAAAAAAAAAAAAAAAAAAAAAAAAAAAAAAAAAAAAAAAAAAAAAAAAAAAAAAAAAAAAAAAAAAAAAAAAAAAAAAAAAAAAAAAAAAAAAAAAAAAAAAAAAAAAAAAAAAAAAAAAAAAAAAAAAAAAAAAAAAAAAAAAAAAAAAAAAAAAAAAAAAAAAAAAAAAAAAAAAAAAAAAAAAAAAAAAAAAAAAAAAAAAAAAAAAAAAAAAAAAAAAAAAAAAAAAAAAAAAAAAAAAAAAAAAAAAAAAAAAAAAAAAAAAAAAAAAAAAAAAAAAAAAAAAAAAAAAAAAAAAAAAAAAAAAAAAAAAAAAAAAAAAAAAAAAAAAAAAAAAAAAAAAAAAAAAAAAAAAAAAAAAAAAAAAAAAAAAAAAAAAAAAAAAAAAAAAAAAAAAAAAAAAAAAAAAAAAAAAAAAAAAAAAAAAAAAAAAAAAAAAAAAAAAAAAAAAAAAAAAAAAAAAAAAAAAAAAAAAAAAAAAAAAAAAAAAAAAAAAAAAAAAAAAAAAAAAAAAAAAAAAAAAAAAAAAAAAAAAAAAAAAAAAAAAAAAAAAAAAAAAAAAAAAAAAAAAAAAAAAAAAAAAAAAAAAAAAAAAAAAAAAAAAAAAAAAAAAAAAAAAAAAAAAAAAAAAAAAAAAAAAAAAAAAAAAAAAAAAAAAAAAAAAAAAAAAAAAAAAAAAAAAAAAAAAAAAAAAAAAAAAAAAAAAAAAAAAAAAAAAAAAAAAAAAAAAAAAAAAAAAAAAAAAAAAAAAAAAAAAAAAAAAAAAAAAAAAAAAAAAAAAAAAAAAAAAAAAAAAAAAAAAAAAAAAAAAAAAAAAAAAAAAAAAAAAAAAAAAAAAAAAAAAAAAAAAAAAAAAAAAAAAAAAAAAAAAAAAAAAAAAAAAAAAAAAAAAAAAAAAAAAAAAAAAAAAAAAAAAAAAAAAAAAAAAAAAAAAAAAAAAAAAAAAAAAAAAAAAAAAAAAAAAAAAAAAAAAAAAAAAAAAAAAAAAAAAAAAAAAAAAAAAAAAAAAAAAAAAAAAAAAAAAAAAAAAAAAAAAAAAAAAAAAAAAAAAAAAAAAAAAAAAAAAAAAAAAAAAAAAAAAAAAAAAAAAAAAAAAAAAAAAAAAAAAAAAAAAAAAAAAAAAAAAAAAAAAAAAAAAAAAAAAAAAAAAAAAAAAAAAAAAAAAAAAAAAAAAAAAAAAAAAAAAAAAAAAAAAAAAAAAAAAAAAAAAAAAAAAAAAAAAAAAAAAAAAAAAAAAAAAAAAAAAAAAAAAAAAAAAAAAAAAAAAAAAAAAAAAAAAAAAAAAAAAAAAAAAAAAAAAAAAAAAAAAAAAAAAAAAAAAAAAAAAAAAAAAAAAAAAAAAAAAAAAAAAAAAAAAAAAAAAAAAAAAAAAAAAAAAAAAAAAAAAAAAAAAAAAAAAAAAAAAAAAAAAAAAAAAAAAAAAAAAAAAAAAAAAAAAAAAAAAAAAAAAAAAAAAAAAAAAAAAAAAAAAAAAAAAAAAAAAAAAAAAAAAAAAAAAAAAAAAAAAAAAAAAAAAAAAAAAAAAAAAAAAAAAAAAAAAAAAAAAAAAAAAAAAAAAAAAAAAAAAAAAAAAAAAAAAAAAAAAAAAAAAAAAAAAAAAAAAAAAAAAAAAAAAAAAAAAAAAAAAAAAAAAAAAAAAAAAAAAAAAAAAAAAAAAAAAAAAAAAAAAAAAAAAAAAAAAAAAAAAAAAAAAAAAAAAAAAAAAAAAAAAAAAAAAAAAAAAAAAAAAAAAAAAAAAAAAAAAAAAAAAAAAAAAAAAAAAAAAAAAAAAAAAAAAAAAAAAAAAAAAAAAAAAAAAAAAAAAAAAAAAAAAAAAAAAAAAAAAAAAAAAAAAAAAAAAAAAAAAAAAAAAAAAAAAAAAAAAAAAAAAAAAAAAAAAAAAAAAAAAAAAAAAAAAAAAAAAAAAAAAAAAAAAAAAAAAAAAAAAAAAAAAAAAAAAAAAAAAAAAAAAAAAAAAAAAAAAAAAAAAAAAAAAAAAAAAAAAAAAAAAAAAAAAAAAAAAAAAAAAAAAAAAAAAAAAAAAAAAAAAAAAAAAAAAAAAAAAAAAAAAAAAAAAAAAAAAAAAAAAAAAAAAAAAAAAAAAAAAAAAAAAAAAAAAAAAAAAAAAAAAAAAAAAAAAAAAAAAAAAAAAAAAAAAAAAAAAAAAAAAAAAAAAAAAAAAAAAAAAAAAAAAAAAAAAAAAAAAAAAAAAAAAAAAAAAAAAAAAAAAAAAAAAAAAAAAAAAAAAAAAAAAAAAAAAAAAAAAAAAAAAAAAAAAAAAAAAAAAAAAAAAAAAAAAAAAAAAAAAAAAAAAAAAAAAAAAAAAAAAAAAAAAAAAAAAAAAAAAAAAAAAAAAAAAAAAAAAAAAAAAAAAAAAAAAAAAAAAAAAAAAAAAAAAAAAAAAAAAAAAAAAAAAAAAAAAAAAAAAAAAAAAAAAAAAAAAAAAAAAAAAAAAAAAAAAAAAAAAAAAAAAAAAAAAAAAAAAAAAAAAAAAAAAAAAAAAAAAAAAAAAAAAAAAAAAAAAAAAAAAAAAAAAAAAAAAAAAAAAAAAAAAAAAAAAAAAAAAAAAAAAAAAAAAAAAAAAAAAAAAAAAAAAAAAAAAAAAAAAAAAAAAAAAAAAAAAAAAAAAAAAAAAAAAAAAAAAAAAAAAAAAAAAAAAAAAAAAAAAAAAAAAAAAAAAAAAAAAAAAAAAAAAAAAAAAAAAAAAAAAAAAAAAAAAAAAAAAAAAAAAAAAAAAAAAAAAAAAAAAAAAAAAAAAAAAAAAAAAAAAAAAAAAAAAAAAAAAAAAAAAAAAAAAAAAAAAAAAAAAAAAAAAAAAAAAAAAAAAAAAAAAAAAAAAAAAAAAAAAAAAAAAAAAAAAAAAAAAAAAAAAAAAAAAAAAAAAAAAAAAAAAAAAAAAAAAAAAAAAAAAAAAAAAAAAAAAAAAAAAAAAAAAAAAAAAAAAAAAAAAAAAAAAAAAAAAAAAAAAAAAAAAAAAAAAAAAAAAAAAAAAAAAAAAAAAAAAAAAAAAAAAAAAAAAAAAAAAAAAAAAAAAAAAAAAAAAAAAAAAAAAAAAAAAAAAAAAAAAAAAAAAAAAAAAAAAAAAAAAAAAAAAAAAAAAAAAAAAAAAAAAAAAAAAAAAAAAAAAAAAAAAAAAAAAAAAAAAAAAAAAAAAAAAAAAAAAAAAAAAAAAAAAAAAAAAAAAAAAAAAAAAAAAAAAAAAAAAAAAAAAAAAAAAAAAAAAAAAAAAAAAAAAAAAAAAAAAAAAAAAAAAAAAAAAAAAAAAAAAAAAAAAAAAAAAAAAAAAAAAAAAAAAAAAAAAAAAAAAAAAAAAAAAAAAAAAAAAAAAAAAAAAAAAAAAAAAAAAAAAAAAAAAAAAAAAAAAAAAAAAAAAAAAAAAAAAAAAAAAAAAAAAAAAAAAAAAAAAAAAAAAAAAAAAAAAAAAAAAAAAAAAAAAAAAAAAAAAAAAAAAAAAAAAAAAAAAAAAAAAAAAAAAAAAAAAAAAAAAAAAAAAAAAAAAAAAAAAAAAAAAAAAAAAAAAAAAAAAAAAAAAAAAAAAAAAAAAAAAAAAAAAAAAAAAAAAAAAAAAAAAAAAAAAAAAAAAAAAAAAAAAAAAAAAAAAAAAAAAAAAAAAAAAAAAAAAAAAAAAAAAAAAAAAAAAAAAAAAAAAAAAAAAAAAAAAAAAAAAAAAAAAAAAAAAAAAAAAAAAAAAAAAAAAAAAAAAAAAAAAAAAAAAAAAAAAAAAAAAAAAAAAAAAAAAAAAAAAAAAAAAAAAAAAAAAAAAAAAAAAAAAAAAAAAAAAAAAAAAAAAAAAAAAAAAAAAAAAAAAAAAAAAAAAAAAAAAAAAAAAAAAAAAAAAAAAAAAAAAAAAAAAAAAAAAAAAAAAAAAAAAAAAAAAAAAAAAAAAAAAAAAAAAAAAAAAAAAAAAAAAAAAAAAAAAAAAAAAAAAAAAAAAAAAAAAAAAAAAAAAAAAAAAAAAAAAAAAAAAAAAAAAAAAAAAAAAAAAAAAAAAAAAAAAAAAAAAAAAAAAAAAAAAAAAAAAAAAAAAAAAAAAAAAAAAAAAAAAAAAAAAAAAAAAAAAAAAAAAAAAAAAAAAAAAAAAAAAAAAAAAAAAAAAAAAAAAAAAAAAAAAAAAAAAAAAAAAAAAAAAAAAAAAAAAAAAAAAAAAAAAAAAAAAAAAAAAAAAAAAAAAAAAAAAAAAAAAAAAAAAAAAAAAAAAAAAAAAAAAAAAAAAAAAAAAAAAAAAAAAAAAAAAAAAAAAAAAAAAAAAAAAAAAAAAAAAAAAAAAAAAAAAAAAAAAAAAAAAAAAAAAAAAAAAAAAAAAAAAAAAAAAAAAAAAAAAAAAAAAAAAAAAAAAAAAAAAAAAAAAAAAAAAAAAAAAAAAAAAAAAAAAAAAAAAAAAAAAAAAAAAAAAAAAAAAAAAAAAAAAAAAAAAAAAAAAAAAAAAAAAAAAAAAAAAAAAAAAAAAAAAAAAAAAAAAAAAAAAAAAAAAAAAAAAAAAAAAAAAAAAAAAAAAAAAAAAAAAAAAAAAAAAAAAAAAAAAAAAAAAAAAAAAAAAAAAAAAAAAAAAAAAAAAAAAAAAAAAAAAAAAAAAAAAAAAAAAAAAAAAAAAAAAAAAAAAAAAAAAAAAAAAAAAAAAAAAAAAAAAAAAAAAAAAAAAAAAAAAAAAAAAAAAAAAAAAAAAAAAAAAAAAAAAAAAAAAAAAAAAAAAAAAAAAAAAAAAAAAAAAAAAAAAAAAAAAAAAAAAAAAAAAAAAAAAAAAAAAAAAAAAAAAAAAAAAAAAAAAAAAAAAAAAAAAAAAAAAAAAAAAAAAAAAAAAAAAAAAAAAAAAAAAAAAAAAAAAAAAAAAAAAAAAAAAAAAAAAAAAAAAAAAAAAAAAAAAAAAAAAAAAAAAAAAAAAAAAAAAAAAAAAAAAAAAAAAAAAAAAAAAAAAAAAAAAAAAAAAAAAAAAAAAAAAAAAAAAAAAAAAAAAAAAAAAAAAAAAAAAAAAAAAAAAAAAAAAAAAAAAAAAAAAAAAAAAAAAAAAAAAAAAAAAAAAAAAAAAAAAAAAAAAAAAAAAAAAAAAAAAAAAAAAAAAAAAAAAAAAAAAAAAAAAAAAAAAAAAAAAAAAAAAAAAAAAAAAAAAAAAAAAAAAAAAAAAAAAAAAAAAAAAAAAAAAAAAAAAAAAAAAAAAAAAAAAAAAAAAAAAAAAAAAAAAAAAAAAAAAAAAAAAAAAAAAAAAAAAAAAAAAAAAAAAAAAAAAAAAAAAAAAAAAAAAAAAAAAAAAAAAAAAAAAAAAAAAAAAAAAAAAAAAAAAAAAAAAAAAAAAAAAAAAAAAAAAAAAAAAAAAAAAAAAAAAAAAAAAAAAAAAAAAAAAAAAAAAAAAAAAAAAAAAAAAAAAAAAAAAAAAAAAAAAAAAAAAAAAAAAAAAAAAAAAAAAAAAAAAAAAAAAAAAAAAAAAAAAAAAAAAAAAAAAAAAAAAAAAAAAAAAAAAAAAAAAAAAAAAAAAAAAAAAAAAAAAAAAAAAAAAAAAAAAAAAAAAAAAAAAAAAAAAAAAAAAAAAAAAAAAAAAAAAAAAAAAAAAAAAAAAAAAAAAAAAAAAAAAAAAAAAAAAAAAAAAAAAAAAAAAAAAAAAAAAAAAAAAAAAAAAAAAAAAAAAAAAAAAAAAAAAAAAAAAAAAAAAAAAAAAAAAAAAAAAAAAAAAAAAAAAAAAAAAAAAAAAAAAAAAAAAAAAAAAAAAAAAAAAAAAAAAAAAAAAAAAAAAAAAAAAAAAAAAAAAAAAAAAAAAAAAAAAAAAAAAAAAAAAAAAAAAAAAAAAAAAAAAAAAAAAAAAAAAAAAAAAAAAAAAAAAAAAAAAAAAAAAAAAAAAAAAAAAAAAAAAAAAAAAAAAAAAAAAAAAAAAAAAAAAAAAAAAAAAAAAAAAAAAAAAAAAAAAAAAAAAAAAAAAAAAAAAAAAAAAAAAAAAAAAAAAAAAAAAAAAAAAAAAAAAAAAAAAAAAAAAAAAAAAAAAAAAAAAAAAAAAAAAAAAAAAAAAAAAAAAAAAAAAAAAAAAAAAAAAAAAAAAAAAAAAAAAAAAAAAAAAAAAAAAAAAAAAAAAAAAAAAAAAAAAAAAAAAAAAAAAAAAAAAAAAAAAAAAAAAAAAAAAAAAAAAAAAAAAAAAAAAAAAAAAAAAAAAAAAAAAAAAAAAAAAAAAAAAAAAAAAAAAAAAAAAAAAAAAAAAAAAAAAAAAAAAAAAAAAAAA=",
          "dtype": "i1"
         },
         "x0": " ",
         "xaxis": "x",
         "y": {
          "bdata": "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",
          "dtype": "f8"
         },
         "y0": " ",
         "yaxis": "y"
        },
        {
         "alignmentgroup": "True",
         "hovertemplate": "Converted=%{x}<br>TotalVisits=%{y}<extra></extra>",
         "legendgroup": "1",
         "marker": {
          "color": "#EF553B"
         },
         "name": "1",
         "notched": false,
         "offsetgroup": "1",
         "orientation": "v",
         "showlegend": true,
         "type": "box",
         "x": {
          "bdata": "AQEBAQEBAQEBAQEBAQEBAQEBAQEBAQEBAQEBAQEBAQEBAQEBAQEBAQEBAQEBAQEBAQEBAQEBAQEBAQEBAQEBAQEBAQEBAQEBAQEBAQEBAQEBAQEBAQEBAQEBAQEBAQEBAQEBAQEBAQEBAQEBAQEBAQEBAQEBAQEBAQEBAQEBAQEBAQEBAQEBAQEBAQEBAQEBAQEBAQEBAQEBAQEBAQEBAQEBAQEBAQEBAQEBAQEBAQEBAQEBAQEBAQEBAQEBAQEBAQEBAQEBAQEBAQEBAQEBAQEBAQEBAQEBAQEBAQEBAQEBAQEBAQEBAQEBAQEBAQEBAQEBAQEBAQEBAQEBAQEBAQEBAQEBAQEBAQEBAQEBAQEBAQEBAQEBAQEBAQEBAQEBAQEBAQEBAQEBAQEBAQEBAQEBAQEBAQEBAQEBAQEBAQEBAQEBAQEBAQEBAQEBAQEBAQEBAQEBAQEBAQEBAQEBAQEBAQEBAQEBAQEBAQEBAQEBAQEBAQEBAQEBAQEBAQEBAQEBAQEBAQEBAQEBAQEBAQEBAQEBAQEBAQEBAQEBAQEBAQEBAQEBAQEBAQEBAQEBAQEBAQEBAQEBAQEBAQEBAQEBAQEBAQEBAQEBAQEBAQEBAQEBAQEBAQEBAQEBAQEBAQEBAQEBAQEBAQEBAQEBAQEBAQEBAQEBAQEBAQEBAQEBAQEBAQEBAQEBAQEBAQEBAQEBAQEBAQEBAQEBAQEBAQEBAQEBAQEBAQEBAQEBAQEBAQEBAQEBAQEBAQEBAQEBAQEBAQEBAQEBAQEBAQEBAQEBAQEBAQEBAQEBAQEBAQEBAQEBAQEBAQEBAQEBAQEBAQEBAQEBAQEBAQEBAQEBAQEBAQEBAQEBAQEBAQEBAQEBAQEBAQEBAQEBAQEBAQEBAQEBAQEBAQEBAQEBAQEBAQEBAQEBAQEBAQEBAQEBAQEBAQEBAQEBAQEBAQEBAQEBAQEBAQEBAQEBAQEBAQEBAQEBAQEBAQEBAQEBAQEBAQEBAQEBAQEBAQEBAQEBAQEBAQEBAQEBAQEBAQEBAQEBAQEBAQEBAQEBAQEBAQEBAQEBAQEBAQEBAQEBAQEBAQEBAQEBAQEBAQEBAQEBAQEBAQEBAQEBAQEBAQEBAQEBAQEBAQEBAQEBAQEBAQEBAQEBAQEBAQEBAQEBAQEBAQEBAQEBAQEBAQEBAQEBAQEBAQEBAQEBAQEBAQEBAQEBAQEBAQEBAQEBAQEBAQEBAQEBAQEBAQEBAQEBAQEBAQEBAQEBAQEBAQEBAQEBAQEBAQEBAQEBAQEBAQEBAQEBAQEBAQEBAQEBAQEBAQEBAQEBAQEBAQEBAQEBAQEBAQEBAQEBAQEBAQEBAQEBAQEBAQEBAQEBAQEBAQEBAQEBAQEBAQEBAQEBAQEBAQEBAQEBAQEBAQEBAQEBAQEBAQEBAQEBAQEBAQEBAQEBAQEBAQEBAQEBAQEBAQEBAQEBAQEBAQEBAQEBAQEBAQEBAQEBAQEBAQEBAQEBAQEBAQEBAQEBAQEBAQEBAQEBAQEBAQEBAQEBAQEBAQEBAQEBAQEBAQEBAQEBAQEBAQEBAQEBAQEBAQEBAQEBAQEBAQEBAQEBAQEBAQEBAQEBAQEBAQEBAQEBAQEBAQEBAQEBAQEBAQEBAQEBAQEBAQEBAQEBAQEBAQEBAQEBAQEBAQEBAQEBAQEBAQEBAQEBAQEBAQEBAQEBAQEBAQEBAQEBAQEBAQEBAQEBAQEBAQEBAQEBAQEBAQEBAQEBAQEBAQEBAQEBAQEBAQEBAQEBAQEBAQEBAQEBAQEBAQEBAQEBAQEBAQEBAQEBAQEBAQEBAQEBAQEBAQEBAQEBAQEBAQEBAQEBAQEBAQEBAQEBAQEBAQEBAQEBAQEBAQEBAQEBAQEBAQEBAQEBAQEBAQEBAQEBAQEBAQEBAQEBAQEBAQEBAQEBAQEBAQEBAQEBAQEBAQEBAQEBAQEBAQEBAQEBAQEBAQEBAQEBAQEBAQEBAQEBAQEBAQEBAQEBAQEBAQEBAQEBAQEBAQEBAQEBAQEBAQEBAQEBAQEBAQEBAQEBAQEBAQEBAQEBAQEBAQEBAQEBAQEBAQEBAQEBAQEBAQEBAQEBAQEBAQEBAQEBAQEBAQEBAQEBAQEBAQEBAQEBAQEBAQEBAQEBAQEBAQEBAQEBAQEBAQEBAQEBAQEBAQEBAQEBAQEBAQEBAQEBAQEBAQEBAQEBAQEBAQEBAQEBAQEBAQEBAQEBAQEBAQEBAQEBAQEBAQEBAQEBAQEBAQEBAQEBAQEBAQEBAQEBAQEBAQEBAQEBAQEBAQEBAQEBAQEBAQEBAQEBAQEBAQEBAQEBAQEBAQEBAQEBAQEBAQEBAQEBAQEBAQEBAQEBAQEBAQEBAQEBAQEBAQEBAQEBAQEBAQEBAQEBAQEBAQEBAQEBAQEBAQEBAQEBAQEBAQEBAQEBAQEBAQEBAQEBAQEBAQEBAQEBAQEBAQEBAQEBAQEBAQEBAQEBAQEBAQEBAQEBAQEBAQEBAQEBAQEBAQEBAQEBAQEBAQEBAQEBAQEBAQEBAQEBAQEBAQEBAQEBAQEBAQEBAQEBAQEBAQEBAQEBAQEBAQEBAQEBAQEBAQEBAQEBAQEBAQEBAQEBAQEBAQEBAQEBAQEBAQEBAQEBAQEBAQEBAQEBAQEBAQEBAQEBAQEBAQEBAQEBAQEBAQEBAQEBAQEBAQEBAQEBAQEBAQEBAQEBAQEBAQEBAQEBAQEBAQEBAQEBAQEBAQEBAQEBAQEBAQEBAQEBAQEBAQEBAQEBAQEBAQEBAQEBAQEBAQEBAQEBAQEBAQEBAQEBAQEBAQEBAQEBAQEBAQEBAQEBAQEBAQEBAQEBAQEBAQEBAQEBAQEBAQEBAQEBAQEBAQEBAQEBAQEBAQEBAQEBAQEBAQEBAQEBAQEBAQEBAQEBAQEBAQEBAQEBAQEBAQEBAQEBAQEBAQEBAQEBAQEBAQEBAQEBAQEBAQEBAQEBAQEBAQEBAQEBAQEBAQEBAQEBAQEBAQEBAQEBAQEBAQEBAQEBAQEBAQEBAQEBAQEBAQEBAQEBAQEBAQEBAQEBAQEBAQEBAQEBAQEBAQEBAQEBAQEBAQEBAQEBAQEBAQEBAQEBAQEBAQEBAQEBAQEBAQEBAQEBAQEBAQEBAQEBAQEBAQEBAQEBAQEBAQEBAQEBAQEBAQEBAQEBAQEBAQEBAQEBAQEBAQEBAQEBAQEBAQEBAQEBAQEBAQEBAQEBAQEBAQEBAQEBAQEBAQEBAQEBAQEBAQEBAQEBAQEBAQEBAQEBAQEBAQEBAQEBAQEBAQEBAQEBAQEBAQEBAQEBAQEBAQEBAQEBAQEBAQEBAQEBAQEBAQEBAQEBAQEBAQEBAQEBAQEBAQEBAQEBAQEBAQEBAQEBAQEBAQEBAQEBAQEBAQEBAQEBAQEBAQEBAQEBAQEBAQEBAQEBAQEBAQEBAQEBAQEBAQEBAQEBAQEBAQEBAQEBAQEBAQEBAQEBAQEBAQEBAQEBAQEBAQEBAQEBAQEBAQEBAQEBAQEBAQEBAQEBAQEBAQEBAQEBAQEBAQEBAQEBAQEBAQEBAQEBAQEBAQEBAQEBAQEBAQEBAQEBAQEBAQEBAQEBAQEBAQEBAQEBAQEBAQEBAQEBAQEBAQEBAQEBAQEBAQEBAQEBAQEBAQEBAQEBAQEBAQEBAQEBAQEBAQEBAQEBAQEBAQEBAQEBAQEBAQEBAQEBAQEBAQEBAQEBAQEBAQEBAQEBAQEBAQEBAQEBAQEBAQEBAQEBAQEBAQEBAQEBAQEBAQEBAQEBAQEBAQEBAQEBAQEBAQEBAQEBAQEBAQEBAQEBAQEBAQEBAQEBAQEBAQEBAQEBAQEBAQEBAQEBAQEBAQEBAQEBAQEBAQEBAQEBAQEBAQEBAQEBAQEBAQEBAQEBAQEBAQEBAQEBAQEBAQEBAQEBAQEBAQEBAQEBAQEBAQEBAQEBAQEBAQEBAQEBAQEBAQEBAQEBAQEBAQEBAQEBAQEBAQEBAQEBAQEBAQEBAQEBAQEBAQEBAQEBAQEBAQEBAQEBAQEBAQEBAQEBAQEBAQEBAQEBAQEBAQEBAQEBAQEBAQEBAQEBAQEBAQEBAQEBAQEBAQEBAQEBAQEBAQEBAQEBAQEBAQEBAQEBAQEBAQEBAQEBAQEBAQEBAQEBAQEBAQEBAQEBAQEBAQEBAQEBAQEBAQEBAQEBAQEBAQEBAQEBAQEBAQEBAQEBAQEBAQEBAQEBAQEBAQEBAQEBAQEBAQEBAQEBAQEBAQEBAQEBAQEBAQEBAQEBAQEBAQEBAQEBAQEBAQEBAQEBAQEBAQEBAQEBAQEBAQEBAQEBAQEBAQEBAQEBAQEBAQEBAQEBAQEBAQEBAQEBAQEBAQEBAQEBAQEBAQEBAQEBAQEBAQEBAQEBAQEBAQEBAQEBAQEBAQEBAQEBAQEBAQEBAQEBAQEBAQEBAQEBAQEBAQEBAQEBAQEBAQEBAQEBAQEBAQEBAQEBAQEBAQEBAQEBAQEBAQEBAQEBAQEBAQEBAQEBAQEBAQEBAQEBAQEBAQEBAQEBAQEBAQEBAQEBAQEBAQEBAQEBAQEBAQEBAQEBAQEBAQEB",
          "dtype": "i1"
         },
         "x0": " ",
         "xaxis": "x",
         "y": {
          "bdata": "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",
          "dtype": "f8"
         },
         "y0": " ",
         "yaxis": "y"
        }
       ],
       "layout": {
        "boxmode": "overlay",
        "legend": {
         "title": {
          "text": "Converted"
         },
         "tracegroupgap": 0
        },
        "margin": {
         "t": 60
        },
        "template": {
         "data": {
          "bar": [
           {
            "error_x": {
             "color": "#2a3f5f"
            },
            "error_y": {
             "color": "#2a3f5f"
            },
            "marker": {
             "line": {
              "color": "#E5ECF6",
              "width": 0.5
             },
             "pattern": {
              "fillmode": "overlay",
              "size": 10,
              "solidity": 0.2
             }
            },
            "type": "bar"
           }
          ],
          "barpolar": [
           {
            "marker": {
             "line": {
              "color": "#E5ECF6",
              "width": 0.5
             },
             "pattern": {
              "fillmode": "overlay",
              "size": 10,
              "solidity": 0.2
             }
            },
            "type": "barpolar"
           }
          ],
          "carpet": [
           {
            "aaxis": {
             "endlinecolor": "#2a3f5f",
             "gridcolor": "white",
             "linecolor": "white",
             "minorgridcolor": "white",
             "startlinecolor": "#2a3f5f"
            },
            "baxis": {
             "endlinecolor": "#2a3f5f",
             "gridcolor": "white",
             "linecolor": "white",
             "minorgridcolor": "white",
             "startlinecolor": "#2a3f5f"
            },
            "type": "carpet"
           }
          ],
          "choropleth": [
           {
            "colorbar": {
             "outlinewidth": 0,
             "ticks": ""
            },
            "type": "choropleth"
           }
          ],
          "contour": [
           {
            "colorbar": {
             "outlinewidth": 0,
             "ticks": ""
            },
            "colorscale": [
             [
              0,
              "#0d0887"
             ],
             [
              0.1111111111111111,
              "#46039f"
             ],
             [
              0.2222222222222222,
              "#7201a8"
             ],
             [
              0.3333333333333333,
              "#9c179e"
             ],
             [
              0.4444444444444444,
              "#bd3786"
             ],
             [
              0.5555555555555556,
              "#d8576b"
             ],
             [
              0.6666666666666666,
              "#ed7953"
             ],
             [
              0.7777777777777778,
              "#fb9f3a"
             ],
             [
              0.8888888888888888,
              "#fdca26"
             ],
             [
              1,
              "#f0f921"
             ]
            ],
            "type": "contour"
           }
          ],
          "contourcarpet": [
           {
            "colorbar": {
             "outlinewidth": 0,
             "ticks": ""
            },
            "type": "contourcarpet"
           }
          ],
          "heatmap": [
           {
            "colorbar": {
             "outlinewidth": 0,
             "ticks": ""
            },
            "colorscale": [
             [
              0,
              "#0d0887"
             ],
             [
              0.1111111111111111,
              "#46039f"
             ],
             [
              0.2222222222222222,
              "#7201a8"
             ],
             [
              0.3333333333333333,
              "#9c179e"
             ],
             [
              0.4444444444444444,
              "#bd3786"
             ],
             [
              0.5555555555555556,
              "#d8576b"
             ],
             [
              0.6666666666666666,
              "#ed7953"
             ],
             [
              0.7777777777777778,
              "#fb9f3a"
             ],
             [
              0.8888888888888888,
              "#fdca26"
             ],
             [
              1,
              "#f0f921"
             ]
            ],
            "type": "heatmap"
           }
          ],
          "histogram": [
           {
            "marker": {
             "pattern": {
              "fillmode": "overlay",
              "size": 10,
              "solidity": 0.2
             }
            },
            "type": "histogram"
           }
          ],
          "histogram2d": [
           {
            "colorbar": {
             "outlinewidth": 0,
             "ticks": ""
            },
            "colorscale": [
             [
              0,
              "#0d0887"
             ],
             [
              0.1111111111111111,
              "#46039f"
             ],
             [
              0.2222222222222222,
              "#7201a8"
             ],
             [
              0.3333333333333333,
              "#9c179e"
             ],
             [
              0.4444444444444444,
              "#bd3786"
             ],
             [
              0.5555555555555556,
              "#d8576b"
             ],
             [
              0.6666666666666666,
              "#ed7953"
             ],
             [
              0.7777777777777778,
              "#fb9f3a"
             ],
             [
              0.8888888888888888,
              "#fdca26"
             ],
             [
              1,
              "#f0f921"
             ]
            ],
            "type": "histogram2d"
           }
          ],
          "histogram2dcontour": [
           {
            "colorbar": {
             "outlinewidth": 0,
             "ticks": ""
            },
            "colorscale": [
             [
              0,
              "#0d0887"
             ],
             [
              0.1111111111111111,
              "#46039f"
             ],
             [
              0.2222222222222222,
              "#7201a8"
             ],
             [
              0.3333333333333333,
              "#9c179e"
             ],
             [
              0.4444444444444444,
              "#bd3786"
             ],
             [
              0.5555555555555556,
              "#d8576b"
             ],
             [
              0.6666666666666666,
              "#ed7953"
             ],
             [
              0.7777777777777778,
              "#fb9f3a"
             ],
             [
              0.8888888888888888,
              "#fdca26"
             ],
             [
              1,
              "#f0f921"
             ]
            ],
            "type": "histogram2dcontour"
           }
          ],
          "mesh3d": [
           {
            "colorbar": {
             "outlinewidth": 0,
             "ticks": ""
            },
            "type": "mesh3d"
           }
          ],
          "parcoords": [
           {
            "line": {
             "colorbar": {
              "outlinewidth": 0,
              "ticks": ""
             }
            },
            "type": "parcoords"
           }
          ],
          "pie": [
           {
            "automargin": true,
            "type": "pie"
           }
          ],
          "scatter": [
           {
            "fillpattern": {
             "fillmode": "overlay",
             "size": 10,
             "solidity": 0.2
            },
            "type": "scatter"
           }
          ],
          "scatter3d": [
           {
            "line": {
             "colorbar": {
              "outlinewidth": 0,
              "ticks": ""
             }
            },
            "marker": {
             "colorbar": {
              "outlinewidth": 0,
              "ticks": ""
             }
            },
            "type": "scatter3d"
           }
          ],
          "scattercarpet": [
           {
            "marker": {
             "colorbar": {
              "outlinewidth": 0,
              "ticks": ""
             }
            },
            "type": "scattercarpet"
           }
          ],
          "scattergeo": [
           {
            "marker": {
             "colorbar": {
              "outlinewidth": 0,
              "ticks": ""
             }
            },
            "type": "scattergeo"
           }
          ],
          "scattergl": [
           {
            "marker": {
             "colorbar": {
              "outlinewidth": 0,
              "ticks": ""
             }
            },
            "type": "scattergl"
           }
          ],
          "scattermap": [
           {
            "marker": {
             "colorbar": {
              "outlinewidth": 0,
              "ticks": ""
             }
            },
            "type": "scattermap"
           }
          ],
          "scattermapbox": [
           {
            "marker": {
             "colorbar": {
              "outlinewidth": 0,
              "ticks": ""
             }
            },
            "type": "scattermapbox"
           }
          ],
          "scatterpolar": [
           {
            "marker": {
             "colorbar": {
              "outlinewidth": 0,
              "ticks": ""
             }
            },
            "type": "scatterpolar"
           }
          ],
          "scatterpolargl": [
           {
            "marker": {
             "colorbar": {
              "outlinewidth": 0,
              "ticks": ""
             }
            },
            "type": "scatterpolargl"
           }
          ],
          "scatterternary": [
           {
            "marker": {
             "colorbar": {
              "outlinewidth": 0,
              "ticks": ""
             }
            },
            "type": "scatterternary"
           }
          ],
          "surface": [
           {
            "colorbar": {
             "outlinewidth": 0,
             "ticks": ""
            },
            "colorscale": [
             [
              0,
              "#0d0887"
             ],
             [
              0.1111111111111111,
              "#46039f"
             ],
             [
              0.2222222222222222,
              "#7201a8"
             ],
             [
              0.3333333333333333,
              "#9c179e"
             ],
             [
              0.4444444444444444,
              "#bd3786"
             ],
             [
              0.5555555555555556,
              "#d8576b"
             ],
             [
              0.6666666666666666,
              "#ed7953"
             ],
             [
              0.7777777777777778,
              "#fb9f3a"
             ],
             [
              0.8888888888888888,
              "#fdca26"
             ],
             [
              1,
              "#f0f921"
             ]
            ],
            "type": "surface"
           }
          ],
          "table": [
           {
            "cells": {
             "fill": {
              "color": "#EBF0F8"
             },
             "line": {
              "color": "white"
             }
            },
            "header": {
             "fill": {
              "color": "#C8D4E3"
             },
             "line": {
              "color": "white"
             }
            },
            "type": "table"
           }
          ]
         },
         "layout": {
          "annotationdefaults": {
           "arrowcolor": "#2a3f5f",
           "arrowhead": 0,
           "arrowwidth": 1
          },
          "autotypenumbers": "strict",
          "coloraxis": {
           "colorbar": {
            "outlinewidth": 0,
            "ticks": ""
           }
          },
          "colorscale": {
           "diverging": [
            [
             0,
             "#8e0152"
            ],
            [
             0.1,
             "#c51b7d"
            ],
            [
             0.2,
             "#de77ae"
            ],
            [
             0.3,
             "#f1b6da"
            ],
            [
             0.4,
             "#fde0ef"
            ],
            [
             0.5,
             "#f7f7f7"
            ],
            [
             0.6,
             "#e6f5d0"
            ],
            [
             0.7,
             "#b8e186"
            ],
            [
             0.8,
             "#7fbc41"
            ],
            [
             0.9,
             "#4d9221"
            ],
            [
             1,
             "#276419"
            ]
           ],
           "sequential": [
            [
             0,
             "#0d0887"
            ],
            [
             0.1111111111111111,
             "#46039f"
            ],
            [
             0.2222222222222222,
             "#7201a8"
            ],
            [
             0.3333333333333333,
             "#9c179e"
            ],
            [
             0.4444444444444444,
             "#bd3786"
            ],
            [
             0.5555555555555556,
             "#d8576b"
            ],
            [
             0.6666666666666666,
             "#ed7953"
            ],
            [
             0.7777777777777778,
             "#fb9f3a"
            ],
            [
             0.8888888888888888,
             "#fdca26"
            ],
            [
             1,
             "#f0f921"
            ]
           ],
           "sequentialminus": [
            [
             0,
             "#0d0887"
            ],
            [
             0.1111111111111111,
             "#46039f"
            ],
            [
             0.2222222222222222,
             "#7201a8"
            ],
            [
             0.3333333333333333,
             "#9c179e"
            ],
            [
             0.4444444444444444,
             "#bd3786"
            ],
            [
             0.5555555555555556,
             "#d8576b"
            ],
            [
             0.6666666666666666,
             "#ed7953"
            ],
            [
             0.7777777777777778,
             "#fb9f3a"
            ],
            [
             0.8888888888888888,
             "#fdca26"
            ],
            [
             1,
             "#f0f921"
            ]
           ]
          },
          "colorway": [
           "#636efa",
           "#EF553B",
           "#00cc96",
           "#ab63fa",
           "#FFA15A",
           "#19d3f3",
           "#FF6692",
           "#B6E880",
           "#FF97FF",
           "#FECB52"
          ],
          "font": {
           "color": "#2a3f5f"
          },
          "geo": {
           "bgcolor": "white",
           "lakecolor": "white",
           "landcolor": "#E5ECF6",
           "showlakes": true,
           "showland": true,
           "subunitcolor": "white"
          },
          "hoverlabel": {
           "align": "left"
          },
          "hovermode": "closest",
          "mapbox": {
           "style": "light"
          },
          "paper_bgcolor": "white",
          "plot_bgcolor": "#E5ECF6",
          "polar": {
           "angularaxis": {
            "gridcolor": "white",
            "linecolor": "white",
            "ticks": ""
           },
           "bgcolor": "#E5ECF6",
           "radialaxis": {
            "gridcolor": "white",
            "linecolor": "white",
            "ticks": ""
           }
          },
          "scene": {
           "xaxis": {
            "backgroundcolor": "#E5ECF6",
            "gridcolor": "white",
            "gridwidth": 2,
            "linecolor": "white",
            "showbackground": true,
            "ticks": "",
            "zerolinecolor": "white"
           },
           "yaxis": {
            "backgroundcolor": "#E5ECF6",
            "gridcolor": "white",
            "gridwidth": 2,
            "linecolor": "white",
            "showbackground": true,
            "ticks": "",
            "zerolinecolor": "white"
           },
           "zaxis": {
            "backgroundcolor": "#E5ECF6",
            "gridcolor": "white",
            "gridwidth": 2,
            "linecolor": "white",
            "showbackground": true,
            "ticks": "",
            "zerolinecolor": "white"
           }
          },
          "shapedefaults": {
           "line": {
            "color": "#2a3f5f"
           }
          },
          "ternary": {
           "aaxis": {
            "gridcolor": "white",
            "linecolor": "white",
            "ticks": ""
           },
           "baxis": {
            "gridcolor": "white",
            "linecolor": "white",
            "ticks": ""
           },
           "bgcolor": "#E5ECF6",
           "caxis": {
            "gridcolor": "white",
            "linecolor": "white",
            "ticks": ""
           }
          },
          "title": {
           "x": 0.05
          },
          "xaxis": {
           "automargin": true,
           "gridcolor": "white",
           "linecolor": "white",
           "ticks": "",
           "title": {
            "standoff": 15
           },
           "zerolinecolor": "white",
           "zerolinewidth": 2
          },
          "yaxis": {
           "automargin": true,
           "gridcolor": "white",
           "linecolor": "white",
           "ticks": "",
           "title": {
            "standoff": 15
           },
           "zerolinecolor": "white",
           "zerolinewidth": 2
          }
         }
        },
        "xaxis": {
         "anchor": "y",
         "categoryarray": [
          0,
          1
         ],
         "categoryorder": "array",
         "domain": [
          0,
          1
         ],
         "title": {
          "text": "Converted"
         }
        },
        "yaxis": {
         "anchor": "x",
         "domain": [
          0,
          1
         ],
         "title": {
          "text": "TotalVisits"
         }
        }
       }
      }
     },
     "metadata": {},
     "output_type": "display_data"
    }
   ],
   "source": [
    "#boxplot coverted x totalvisits\n",
    "fig = px.box(df_leads, x='Converted', y='TotalVisits', color='Converted')\n",
    "fig.show()"
   ]
  },
  {
   "cell_type": "code",
   "execution_count": 246,
   "id": "793139c3",
   "metadata": {},
   "outputs": [
    {
     "data": {
      "application/vnd.plotly.v1+json": {
       "config": {
        "plotlyServerURL": "https://plot.ly"
       },
       "data": [
        {
         "alignmentgroup": "True",
         "hovertemplate": "Converted=%{x}<br>Total Time Spent on Website=%{y}<extra></extra>",
         "legendgroup": "0",
         "marker": {
          "color": "#636efa"
         },
         "name": "0",
         "notched": false,
         "offsetgroup": "0",
         "orientation": "v",
         "showlegend": true,
         "type": "box",
         "x": {
          "bdata": "AAAAAAAAAAAAAAAAAAAAAAAAAAAAAAAAAAAAAAAAAAAAAAAAAAAAAAAAAAAAAAAAAAAAAAAAAAAAAAAAAAAAAAAAAAAAAAAAAAAAAAAAAAAAAAAAAAAAAAAAAAAAAAAAAAAAAAAAAAAAAAAAAAAAAAAAAAAAAAAAAAAAAAAAAAAAAAAAAAAAAAAAAAAAAAAAAAAAAAAAAAAAAAAAAAAAAAAAAAAAAAAAAAAAAAAAAAAAAAAAAAAAAAAAAAAAAAAAAAAAAAAAAAAAAAAAAAAAAAAAAAAAAAAAAAAAAAAAAAAAAAAAAAAAAAAAAAAAAAAAAAAAAAAAAAAAAAAAAAAAAAAAAAAAAAAAAAAAAAAAAAAAAAAAAAAAAAAAAAAAAAAAAAAAAAAAAAAAAAAAAAAAAAAAAAAAAAAAAAAAAAAAAAAAAAAAAAAAAAAAAAAAAAAAAAAAAAAAAAAAAAAAAAAAAAAAAAAAAAAAAAAAAAAAAAAAAAAAAAAAAAAAAAAAAAAAAAAAAAAAAAAAAAAAAAAAAAAAAAAAAAAAAAAAAAAAAAAAAAAAAAAAAAAAAAAAAAAAAAAAAAAAAAAAAAAAAAAAAAAAAAAAAAAAAAAAAAAAAAAAAAAAAAAAAAAAAAAAAAAAAAAAAAAAAAAAAAAAAAAAAAAAAAAAAAAAAAAAAAAAAAAAAAAAAAAAAAAAAAAAAAAAAAAAAAAAAAAAAAAAAAAAAAAAAAAAAAAAAAAAAAAAAAAAAAAAAAAAAAAAAAAAAAAAAAAAAAAAAAAAAAAAAAAAAAAAAAAAAAAAAAAAAAAAAAAAAAAAAAAAAAAAAAAAAAAAAAAAAAAAAAAAAAAAAAAAAAAAAAAAAAAAAAAAAAAAAAAAAAAAAAAAAAAAAAAAAAAAAAAAAAAAAAAAAAAAAAAAAAAAAAAAAAAAAAAAAAAAAAAAAAAAAAAAAAAAAAAAAAAAAAAAAAAAAAAAAAAAAAAAAAAAAAAAAAAAAAAAAAAAAAAAAAAAAAAAAAAAAAAAAAAAAAAAAAAAAAAAAAAAAAAAAAAAAAAAAAAAAAAAAAAAAAAAAAAAAAAAAAAAAAAAAAAAAAAAAAAAAAAAAAAAAAAAAAAAAAAAAAAAAAAAAAAAAAAAAAAAAAAAAAAAAAAAAAAAAAAAAAAAAAAAAAAAAAAAAAAAAAAAAAAAAAAAAAAAAAAAAAAAAAAAAAAAAAAAAAAAAAAAAAAAAAAAAAAAAAAAAAAAAAAAAAAAAAAAAAAAAAAAAAAAAAAAAAAAAAAAAAAAAAAAAAAAAAAAAAAAAAAAAAAAAAAAAAAAAAAAAAAAAAAAAAAAAAAAAAAAAAAAAAAAAAAAAAAAAAAAAAAAAAAAAAAAAAAAAAAAAAAAAAAAAAAAAAAAAAAAAAAAAAAAAAAAAAAAAAAAAAAAAAAAAAAAAAAAAAAAAAAAAAAAAAAAAAAAAAAAAAAAAAAAAAAAAAAAAAAAAAAAAAAAAAAAAAAAAAAAAAAAAAAAAAAAAAAAAAAAAAAAAAAAAAAAAAAAAAAAAAAAAAAAAAAAAAAAAAAAAAAAAAAAAAAAAAAAAAAAAAAAAAAAAAAAAAAAAAAAAAAAAAAAAAAAAAAAAAAAAAAAAAAAAAAAAAAAAAAAAAAAAAAAAAAAAAAAAAAAAAAAAAAAAAAAAAAAAAAAAAAAAAAAAAAAAAAAAAAAAAAAAAAAAAAAAAAAAAAAAAAAAAAAAAAAAAAAAAAAAAAAAAAAAAAAAAAAAAAAAAAAAAAAAAAAAAAAAAAAAAAAAAAAAAAAAAAAAAAAAAAAAAAAAAAAAAAAAAAAAAAAAAAAAAAAAAAAAAAAAAAAAAAAAAAAAAAAAAAAAAAAAAAAAAAAAAAAAAAAAAAAAAAAAAAAAAAAAAAAAAAAAAAAAAAAAAAAAAAAAAAAAAAAAAAAAAAAAAAAAAAAAAAAAAAAAAAAAAAAAAAAAAAAAAAAAAAAAAAAAAAAAAAAAAAAAAAAAAAAAAAAAAAAAAAAAAAAAAAAAAAAAAAAAAAAAAAAAAAAAAAAAAAAAAAAAAAAAAAAAAAAAAAAAAAAAAAAAAAAAAAAAAAAAAAAAAAAAAAAAAAAAAAAAAAAAAAAAAAAAAAAAAAAAAAAAAAAAAAAAAAAAAAAAAAAAAAAAAAAAAAAAAAAAAAAAAAAAAAAAAAAAAAAAAAAAAAAAAAAAAAAAAAAAAAAAAAAAAAAAAAAAAAAAAAAAAAAAAAAAAAAAAAAAAAAAAAAAAAAAAAAAAAAAAAAAAAAAAAAAAAAAAAAAAAAAAAAAAAAAAAAAAAAAAAAAAAAAAAAAAAAAAAAAAAAAAAAAAAAAAAAAAAAAAAAAAAAAAAAAAAAAAAAAAAAAAAAAAAAAAAAAAAAAAAAAAAAAAAAAAAAAAAAAAAAAAAAAAAAAAAAAAAAAAAAAAAAAAAAAAAAAAAAAAAAAAAAAAAAAAAAAAAAAAAAAAAAAAAAAAAAAAAAAAAAAAAAAAAAAAAAAAAAAAAAAAAAAAAAAAAAAAAAAAAAAAAAAAAAAAAAAAAAAAAAAAAAAAAAAAAAAAAAAAAAAAAAAAAAAAAAAAAAAAAAAAAAAAAAAAAAAAAAAAAAAAAAAAAAAAAAAAAAAAAAAAAAAAAAAAAAAAAAAAAAAAAAAAAAAAAAAAAAAAAAAAAAAAAAAAAAAAAAAAAAAAAAAAAAAAAAAAAAAAAAAAAAAAAAAAAAAAAAAAAAAAAAAAAAAAAAAAAAAAAAAAAAAAAAAAAAAAAAAAAAAAAAAAAAAAAAAAAAAAAAAAAAAAAAAAAAAAAAAAAAAAAAAAAAAAAAAAAAAAAAAAAAAAAAAAAAAAAAAAAAAAAAAAAAAAAAAAAAAAAAAAAAAAAAAAAAAAAAAAAAAAAAAAAAAAAAAAAAAAAAAAAAAAAAAAAAAAAAAAAAAAAAAAAAAAAAAAAAAAAAAAAAAAAAAAAAAAAAAAAAAAAAAAAAAAAAAAAAAAAAAAAAAAAAAAAAAAAAAAAAAAAAAAAAAAAAAAAAAAAAAAAAAAAAAAAAAAAAAAAAAAAAAAAAAAAAAAAAAAAAAAAAAAAAAAAAAAAAAAAAAAAAAAAAAAAAAAAAAAAAAAAAAAAAAAAAAAAAAAAAAAAAAAAAAAAAAAAAAAAAAAAAAAAAAAAAAAAAAAAAAAAAAAAAAAAAAAAAAAAAAAAAAAAAAAAAAAAAAAAAAAAAAAAAAAAAAAAAAAAAAAAAAAAAAAAAAAAAAAAAAAAAAAAAAAAAAAAAAAAAAAAAAAAAAAAAAAAAAAAAAAAAAAAAAAAAAAAAAAAAAAAAAAAAAAAAAAAAAAAAAAAAAAAAAAAAAAAAAAAAAAAAAAAAAAAAAAAAAAAAAAAAAAAAAAAAAAAAAAAAAAAAAAAAAAAAAAAAAAAAAAAAAAAAAAAAAAAAAAAAAAAAAAAAAAAAAAAAAAAAAAAAAAAAAAAAAAAAAAAAAAAAAAAAAAAAAAAAAAAAAAAAAAAAAAAAAAAAAAAAAAAAAAAAAAAAAAAAAAAAAAAAAAAAAAAAAAAAAAAAAAAAAAAAAAAAAAAAAAAAAAAAAAAAAAAAAAAAAAAAAAAAAAAAAAAAAAAAAAAAAAAAAAAAAAAAAAAAAAAAAAAAAAAAAAAAAAAAAAAAAAAAAAAAAAAAAAAAAAAAAAAAAAAAAAAAAAAAAAAAAAAAAAAAAAAAAAAAAAAAAAAAAAAAAAAAAAAAAAAAAAAAAAAAAAAAAAAAAAAAAAAAAAAAAAAAAAAAAAAAAAAAAAAAAAAAAAAAAAAAAAAAAAAAAAAAAAAAAAAAAAAAAAAAAAAAAAAAAAAAAAAAAAAAAAAAAAAAAAAAAAAAAAAAAAAAAAAAAAAAAAAAAAAAAAAAAAAAAAAAAAAAAAAAAAAAAAAAAAAAAAAAAAAAAAAAAAAAAAAAAAAAAAAAAAAAAAAAAAAAAAAAAAAAAAAAAAAAAAAAAAAAAAAAAAAAAAAAAAAAAAAAAAAAAAAAAAAAAAAAAAAAAAAAAAAAAAAAAAAAAAAAAAAAAAAAAAAAAAAAAAAAAAAAAAAAAAAAAAAAAAAAAAAAAAAAAAAAAAAAAAAAAAAAAAAAAAAAAAAAAAAAAAAAAAAAAAAAAAAAAAAAAAAAAAAAAAAAAAAAAAAAAAAAAAAAAAAAAAAAAAAAAAAAAAAAAAAAAAAAAAAAAAAAAAAAAAAAAAAAAAAAAAAAAAAAAAAAAAAAAAAAAAAAAAAAAAAAAAAAAAAAAAAAAAAAAAAAAAAAAAAAAAAAAAAAAAAAAAAAAAAAAAAAAAAAAAAAAAAAAAAAAAAAAAAAAAAAAAAAAAAAAAAAAAAAAAAAAAAAAAAAAAAAAAAAAAAAAAAAAAAAAAAAAAAAAAAAAAAAAAAAAAAAAAAAAAAAAAAAAAAAAAAAAAAAAAAAAAAAAAAAAAAAAAAAAAAAAAAAAAAAAAAAAAAAAAAAAAAAAAAAAAAAAAAAAAAAAAAAAAAAAAAAAAAAAAAAAAAAAAAAAAAAAAAAAAAAAAAAAAAAAAAAAAAAAAAAAAAAAAAAAAAAAAAAAAAAAAAAAAAAAAAAAAAAAAAAAAAAAAAAAAAAAAAAAAAAAAAAAAAAAAAAAAAAAAAAAAAAAAAAAAAAAAAAAAAAAAAAAAAAAAAAAAAAAAAAAAAAAAAAAAAAAAAAAAAAAAAAAAAAAAAAAAAAAAAAAAAAAAAAAAAAAAAAAAAAAAAAAAAAAAAAAAAAAAAAAAAAAAAAAAAAAAAAAAAAAAAAAAAAAAAAAAAAAAAAAAAAAAAAAAAAAAAAAAAAAAAAAAAAAAAAAAAAAAAAAAAAAAAAAAAAAAAAAAAAAAAAAAAAAAAAAAAAAAAAAAAAAAAAAAAAAAAAAAAAAAAAAAAAAAAAAAAAAAAAAAAAAAAAAAAAAAAAAAAAAAAAAAAAAAAAAAAAAAAAAAAAAAAAAAAAAAAAAAAAAAAAAAAAAAAAAAAAAAAAAAAAAAAAAAAAAAAAAAAAAAAAAAAAAAAAAAAAAAAAAAAAAAAAAAAAAAAAAAAAAAAAAAAAAAAAAAAAAAAAAAAAAAAAAAAAAAAAAAAAAAAAAAAAAAAAAAAAAAAAAAAAAAAAAAAAAAAAAAAAAAAAAAAAAAAAAAAAAAAAAAAAAAAAAAAAAAAAAAAAAAAAAAAAAAAAAAAAAAAAAAAAAAAAAAAAAAAAAAAAAAAAAAAAAAAAAAAAAAAAAAAAAAAAAAAAAAAAAAAAAAAAAAAAAAAAAAAAAAAAAAAAAAAAAAAAAAAAAAAAAAAAAAAAAAAAAAAAAAAAAAAAAAAAAAAAAAAAAAAAAAAAAAAAAAAAAAAAAAAAAAAAAAAAAAAAAAAAAAAAAAAAAAAAAAAAAAAAAAAAAAAAAAAAAAAAAAAAAAAAAAAAAAAAAAAAAAAAAAAAAAAAAAAAAAAAAAAAAAAAAAAAAAAAAAAAAAAAAAAAAAAAAAAAAAAAAAAAAAAAAAAAAAAAAAAAAAAAAAAAAAAAAAAAAAAAAAAAAAAAAAAAAAAAAAAAAAAAAAAAAAAAAAAAAAAAAAAAAAAAAAAAAAAAAAAAAAAAAAAAAAAAAAAAAAAAAAAAAAAAAAAAAAAAAAAAAAAAAAAAAAAAAAAAAAAAAAAAAAAAAAAAAAAAAAAAAAAAAAAAAAAAAAAAAAAAAAAAAAAAAAAAAAAAAAAAAAAAAAAAAAAAAAAAAAAAAAAAAAAAAAAAAAAAAAAAAAAAAAAAAAAAAAAAAAAAAAAAAAAAAAAAAAAAAAAAAAAAAAAAAAAAAAAAAAAAAAAAAAAAAAAAAAAAAAAAAAAAAAAAAAAAAAAAAAAAAAAAAAAAAAAAAAAAAAAAAAAAAAAAAAAAAAAAAAAAAAAAAAAAAAAAAAAAAAAAAAAAAAAAAAAAAAAAAAAAAAAAAAAAAAAAAAAAAAAAAAAAAAAAAAAAAAAAAAAAAAAAAAAAAAAAAAAAAAAAAAAAAAAAAAAAAAAAAAAAAAAAAAAAAAAAAAAAAAAAAAAAAAAAAAAAAAAAAAAAAAAAAAAAAAAAAAAAAAAAAAAAAAAAAAAAAAAAAAAAAAAAAAAAAAAAAAAAAAAAAAAAAAAAAAAAAAAAAAAAAAAAAAAAAAAAAAAAAAAAAAAAAAAAAAAAAAAAAAAAAAAAAAAAAAAAAAAAAAAAAAAAAAAAAAAAAAAAAAAAAAAAAAAAAAAAAAAAAAAAAAAAAAAAAAAAAAAAAAAAAAAAAAAAAAAAAAAAAAAAAAAAAAAAAAAAAAAAAAAAAAAAAAAAAAAAAAAAAAAAAAAAAAAAAAAAAAAAAAAAAAAAAAAAAAAAAAAAAAAAAAAAAAAAAAAAAAAAAAAAAAAAAAAAAAAAAAAAAAAAAAAAAAAAAAAAAAAAAAAAAAAAAAAAAAAAAAAAAAAAAAAAAAAAAAAAAAAAAAAAAAAAAAAAAAAAAAAAAAAAAAAAAAAAAAAAAAAAAAAAAAAAAAAAAAAAAAAAAAAAAAAAAAAAAAAAAAAAAAAAAAAAAAAAAAAAAAAAAAAAAAAAAAAAAAAAAAAAAAAAAAAAAAAAAAAAAAAAAAAAAAAAAAAAAAAAAAAAAAAAAAAAAAAAAAAAAAAAAAAAAAAAAAAAAAAAAAAAAAAAAAAAAAAAAAAAAAAAAAAAAAAAAAAAAAAAAAAAAAAAAAAAAAAAAAAAAAAAAAAAAAAAAAAAAAAAAAAAAAAAAAAAAAAAAAAAAAAAAAAAAAAAAAAAAAAAAAAAAAAAAAAAAAAAAAAAAAAAAAAAAAAAAAAAAAAAAAAAAAAAAAAAAAAAAAAAAAAAAAAAAAAAAAAAAAAAAAAAAAAAAAAAAAAAAAAAAAAAAAAAAAAAAAAAAAAAAAAAAAAAAAAAAAAAAAAAAAAAAAAAAAAAAAAAAAAAAAAAAAAAAAAAAAAAAAAAAAAAAAAAAAAAAAAAAAAAAAAAAAAAAAAAAAAAAAAAAAAAAAAAAAAAAAAAAAAAAAAAAAAAAAAAAAAAAAAAAAAAAAAAAAAAAAAAAAAAAAAAAAAAAAAAAAAAAAAAAAAAAAAAAAAAAAAAAAAAAAAAAAAAAAAAAAAAAAAAAAAAAAAAAAAAAAAAAAAAAAAAAAAAAAAAAAAAAAAAAAAAAAAAAAAAAAAAAAAAAAAAAAAAAAAAAAAAAAAAAAAAAAAAAAAAAAAAAAAAAAAAAAAAAAAAAAAAAAAAAAAAAAAAAAAAAAAAAAAAAAAAAAAAAAAAAAAAAAAAAAAAAAAAAAAAAAAAAAAAAAAAAAAAAAAAAAAAAAAAAAAAAAAAAAAAAAAAAAAAAAAAAAAAAAAAAAAAAAAAAAAAAAAAAAAAAAAAAAAAAAAAAAAAAAAAAAAAAAAAAAAAAAAAAAAAAAAAAAAAAAAAAAAAAAAAAAAAAAAAAAAAAAAAAAAAAAAAAAAAAAAAAAAAAAAAAAAAAAAAAAAAAAAAAAAAAAAAAAAAAAAAAAAAAAAAAAAAAAAAAAAAAAAAAAAAAAAAAAAAAAAAAAAAAAA=",
          "dtype": "i1"
         },
         "x0": " ",
         "xaxis": "x",
         "y": {
          "bdata": "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",
          "dtype": "i2"
         },
         "y0": " ",
         "yaxis": "y"
        },
        {
         "alignmentgroup": "True",
         "hovertemplate": "Converted=%{x}<br>Total Time Spent on Website=%{y}<extra></extra>",
         "legendgroup": "1",
         "marker": {
          "color": "#EF553B"
         },
         "name": "1",
         "notched": false,
         "offsetgroup": "1",
         "orientation": "v",
         "showlegend": true,
         "type": "box",
         "x": {
          "bdata": "AQEBAQEBAQEBAQEBAQEBAQEBAQEBAQEBAQEBAQEBAQEBAQEBAQEBAQEBAQEBAQEBAQEBAQEBAQEBAQEBAQEBAQEBAQEBAQEBAQEBAQEBAQEBAQEBAQEBAQEBAQEBAQEBAQEBAQEBAQEBAQEBAQEBAQEBAQEBAQEBAQEBAQEBAQEBAQEBAQEBAQEBAQEBAQEBAQEBAQEBAQEBAQEBAQEBAQEBAQEBAQEBAQEBAQEBAQEBAQEBAQEBAQEBAQEBAQEBAQEBAQEBAQEBAQEBAQEBAQEBAQEBAQEBAQEBAQEBAQEBAQEBAQEBAQEBAQEBAQEBAQEBAQEBAQEBAQEBAQEBAQEBAQEBAQEBAQEBAQEBAQEBAQEBAQEBAQEBAQEBAQEBAQEBAQEBAQEBAQEBAQEBAQEBAQEBAQEBAQEBAQEBAQEBAQEBAQEBAQEBAQEBAQEBAQEBAQEBAQEBAQEBAQEBAQEBAQEBAQEBAQEBAQEBAQEBAQEBAQEBAQEBAQEBAQEBAQEBAQEBAQEBAQEBAQEBAQEBAQEBAQEBAQEBAQEBAQEBAQEBAQEBAQEBAQEBAQEBAQEBAQEBAQEBAQEBAQEBAQEBAQEBAQEBAQEBAQEBAQEBAQEBAQEBAQEBAQEBAQEBAQEBAQEBAQEBAQEBAQEBAQEBAQEBAQEBAQEBAQEBAQEBAQEBAQEBAQEBAQEBAQEBAQEBAQEBAQEBAQEBAQEBAQEBAQEBAQEBAQEBAQEBAQEBAQEBAQEBAQEBAQEBAQEBAQEBAQEBAQEBAQEBAQEBAQEBAQEBAQEBAQEBAQEBAQEBAQEBAQEBAQEBAQEBAQEBAQEBAQEBAQEBAQEBAQEBAQEBAQEBAQEBAQEBAQEBAQEBAQEBAQEBAQEBAQEBAQEBAQEBAQEBAQEBAQEBAQEBAQEBAQEBAQEBAQEBAQEBAQEBAQEBAQEBAQEBAQEBAQEBAQEBAQEBAQEBAQEBAQEBAQEBAQEBAQEBAQEBAQEBAQEBAQEBAQEBAQEBAQEBAQEBAQEBAQEBAQEBAQEBAQEBAQEBAQEBAQEBAQEBAQEBAQEBAQEBAQEBAQEBAQEBAQEBAQEBAQEBAQEBAQEBAQEBAQEBAQEBAQEBAQEBAQEBAQEBAQEBAQEBAQEBAQEBAQEBAQEBAQEBAQEBAQEBAQEBAQEBAQEBAQEBAQEBAQEBAQEBAQEBAQEBAQEBAQEBAQEBAQEBAQEBAQEBAQEBAQEBAQEBAQEBAQEBAQEBAQEBAQEBAQEBAQEBAQEBAQEBAQEBAQEBAQEBAQEBAQEBAQEBAQEBAQEBAQEBAQEBAQEBAQEBAQEBAQEBAQEBAQEBAQEBAQEBAQEBAQEBAQEBAQEBAQEBAQEBAQEBAQEBAQEBAQEBAQEBAQEBAQEBAQEBAQEBAQEBAQEBAQEBAQEBAQEBAQEBAQEBAQEBAQEBAQEBAQEBAQEBAQEBAQEBAQEBAQEBAQEBAQEBAQEBAQEBAQEBAQEBAQEBAQEBAQEBAQEBAQEBAQEBAQEBAQEBAQEBAQEBAQEBAQEBAQEBAQEBAQEBAQEBAQEBAQEBAQEBAQEBAQEBAQEBAQEBAQEBAQEBAQEBAQEBAQEBAQEBAQEBAQEBAQEBAQEBAQEBAQEBAQEBAQEBAQEBAQEBAQEBAQEBAQEBAQEBAQEBAQEBAQEBAQEBAQEBAQEBAQEBAQEBAQEBAQEBAQEBAQEBAQEBAQEBAQEBAQEBAQEBAQEBAQEBAQEBAQEBAQEBAQEBAQEBAQEBAQEBAQEBAQEBAQEBAQEBAQEBAQEBAQEBAQEBAQEBAQEBAQEBAQEBAQEBAQEBAQEBAQEBAQEBAQEBAQEBAQEBAQEBAQEBAQEBAQEBAQEBAQEBAQEBAQEBAQEBAQEBAQEBAQEBAQEBAQEBAQEBAQEBAQEBAQEBAQEBAQEBAQEBAQEBAQEBAQEBAQEBAQEBAQEBAQEBAQEBAQEBAQEBAQEBAQEBAQEBAQEBAQEBAQEBAQEBAQEBAQEBAQEBAQEBAQEBAQEBAQEBAQEBAQEBAQEBAQEBAQEBAQEBAQEBAQEBAQEBAQEBAQEBAQEBAQEBAQEBAQEBAQEBAQEBAQEBAQEBAQEBAQEBAQEBAQEBAQEBAQEBAQEBAQEBAQEBAQEBAQEBAQEBAQEBAQEBAQEBAQEBAQEBAQEBAQEBAQEBAQEBAQEBAQEBAQEBAQEBAQEBAQEBAQEBAQEBAQEBAQEBAQEBAQEBAQEBAQEBAQEBAQEBAQEBAQEBAQEBAQEBAQEBAQEBAQEBAQEBAQEBAQEBAQEBAQEBAQEBAQEBAQEBAQEBAQEBAQEBAQEBAQEBAQEBAQEBAQEBAQEBAQEBAQEBAQEBAQEBAQEBAQEBAQEBAQEBAQEBAQEBAQEBAQEBAQEBAQEBAQEBAQEBAQEBAQEBAQEBAQEBAQEBAQEBAQEBAQEBAQEBAQEBAQEBAQEBAQEBAQEBAQEBAQEBAQEBAQEBAQEBAQEBAQEBAQEBAQEBAQEBAQEBAQEBAQEBAQEBAQEBAQEBAQEBAQEBAQEBAQEBAQEBAQEBAQEBAQEBAQEBAQEBAQEBAQEBAQEBAQEBAQEBAQEBAQEBAQEBAQEBAQEBAQEBAQEBAQEBAQEBAQEBAQEBAQEBAQEBAQEBAQEBAQEBAQEBAQEBAQEBAQEBAQEBAQEBAQEBAQEBAQEBAQEBAQEBAQEBAQEBAQEBAQEBAQEBAQEBAQEBAQEBAQEBAQEBAQEBAQEBAQEBAQEBAQEBAQEBAQEBAQEBAQEBAQEBAQEBAQEBAQEBAQEBAQEBAQEBAQEBAQEBAQEBAQEBAQEBAQEBAQEBAQEBAQEBAQEBAQEBAQEBAQEBAQEBAQEBAQEBAQEBAQEBAQEBAQEBAQEBAQEBAQEBAQEBAQEBAQEBAQEBAQEBAQEBAQEBAQEBAQEBAQEBAQEBAQEBAQEBAQEBAQEBAQEBAQEBAQEBAQEBAQEBAQEBAQEBAQEBAQEBAQEBAQEBAQEBAQEBAQEBAQEBAQEBAQEBAQEBAQEBAQEBAQEBAQEBAQEBAQEBAQEBAQEBAQEBAQEBAQEBAQEBAQEBAQEBAQEBAQEBAQEBAQEBAQEBAQEBAQEBAQEBAQEBAQEBAQEBAQEBAQEBAQEBAQEBAQEBAQEBAQEBAQEBAQEBAQEBAQEBAQEBAQEBAQEBAQEBAQEBAQEBAQEBAQEBAQEBAQEBAQEBAQEBAQEBAQEBAQEBAQEBAQEBAQEBAQEBAQEBAQEBAQEBAQEBAQEBAQEBAQEBAQEBAQEBAQEBAQEBAQEBAQEBAQEBAQEBAQEBAQEBAQEBAQEBAQEBAQEBAQEBAQEBAQEBAQEBAQEBAQEBAQEBAQEBAQEBAQEBAQEBAQEBAQEBAQEBAQEBAQEBAQEBAQEBAQEBAQEBAQEBAQEBAQEBAQEBAQEBAQEBAQEBAQEBAQEBAQEBAQEBAQEBAQEBAQEBAQEBAQEBAQEBAQEBAQEBAQEBAQEBAQEBAQEBAQEBAQEBAQEBAQEBAQEBAQEBAQEBAQEBAQEBAQEBAQEBAQEBAQEBAQEBAQEBAQEBAQEBAQEBAQEBAQEBAQEBAQEBAQEBAQEBAQEBAQEBAQEBAQEBAQEBAQEBAQEBAQEBAQEBAQEBAQEBAQEBAQEBAQEBAQEBAQEBAQEBAQEBAQEBAQEBAQEBAQEBAQEBAQEBAQEBAQEBAQEBAQEBAQEBAQEBAQEBAQEBAQEBAQEBAQEBAQEBAQEBAQEBAQEBAQEBAQEBAQEBAQEBAQEBAQEBAQEBAQEBAQEBAQEBAQEBAQEBAQEBAQEBAQEBAQEBAQEBAQEBAQEBAQEBAQEBAQEBAQEBAQEBAQEBAQEBAQEBAQEBAQEBAQEBAQEBAQEBAQEBAQEBAQEBAQEBAQEBAQEBAQEBAQEBAQEBAQEBAQEBAQEBAQEBAQEBAQEBAQEBAQEBAQEBAQEBAQEBAQEBAQEBAQEBAQEBAQEBAQEBAQEBAQEBAQEBAQEBAQEBAQEBAQEBAQEBAQEBAQEBAQEBAQEBAQEBAQEBAQEBAQEBAQEBAQEBAQEBAQEBAQEBAQEBAQEBAQEBAQEBAQEBAQEBAQEBAQEBAQEBAQEBAQEBAQEBAQEBAQEBAQEBAQEBAQEBAQEBAQEBAQEBAQEBAQEBAQEBAQEBAQEBAQEBAQEBAQEBAQEBAQEBAQEBAQEBAQEBAQEBAQEBAQEBAQEBAQEBAQEBAQEBAQEBAQEBAQEBAQEBAQEBAQEBAQEBAQEBAQEBAQEBAQEBAQEBAQEBAQEBAQEBAQEBAQEBAQEBAQEBAQEBAQEBAQEBAQEBAQEBAQEBAQEBAQEBAQEBAQEBAQEBAQEBAQEBAQEBAQEBAQEBAQEBAQEBAQEBAQEBAQEBAQEBAQEBAQEBAQEBAQEBAQEBAQEBAQEBAQEBAQEBAQEBAQEBAQEBAQEBAQEBAQEBAQEBAQEBAQEBAQEBAQEBAQEBAQEBAQEBAQEBAQEBAQEBAQEBAQEBAQEBAQEBAQEBAQEBAQEBAQEBAQEBAQEBAQEBAQEBAQEBAQEBAQEBAQEBAQEBAQEBAQEB",
          "dtype": "i1"
         },
         "x0": " ",
         "xaxis": "x",
         "y": {
          "bdata": "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",
          "dtype": "i2"
         },
         "y0": " ",
         "yaxis": "y"
        }
       ],
       "layout": {
        "boxmode": "overlay",
        "legend": {
         "title": {
          "text": "Converted"
         },
         "tracegroupgap": 0
        },
        "margin": {
         "t": 60
        },
        "template": {
         "data": {
          "bar": [
           {
            "error_x": {
             "color": "#2a3f5f"
            },
            "error_y": {
             "color": "#2a3f5f"
            },
            "marker": {
             "line": {
              "color": "#E5ECF6",
              "width": 0.5
             },
             "pattern": {
              "fillmode": "overlay",
              "size": 10,
              "solidity": 0.2
             }
            },
            "type": "bar"
           }
          ],
          "barpolar": [
           {
            "marker": {
             "line": {
              "color": "#E5ECF6",
              "width": 0.5
             },
             "pattern": {
              "fillmode": "overlay",
              "size": 10,
              "solidity": 0.2
             }
            },
            "type": "barpolar"
           }
          ],
          "carpet": [
           {
            "aaxis": {
             "endlinecolor": "#2a3f5f",
             "gridcolor": "white",
             "linecolor": "white",
             "minorgridcolor": "white",
             "startlinecolor": "#2a3f5f"
            },
            "baxis": {
             "endlinecolor": "#2a3f5f",
             "gridcolor": "white",
             "linecolor": "white",
             "minorgridcolor": "white",
             "startlinecolor": "#2a3f5f"
            },
            "type": "carpet"
           }
          ],
          "choropleth": [
           {
            "colorbar": {
             "outlinewidth": 0,
             "ticks": ""
            },
            "type": "choropleth"
           }
          ],
          "contour": [
           {
            "colorbar": {
             "outlinewidth": 0,
             "ticks": ""
            },
            "colorscale": [
             [
              0,
              "#0d0887"
             ],
             [
              0.1111111111111111,
              "#46039f"
             ],
             [
              0.2222222222222222,
              "#7201a8"
             ],
             [
              0.3333333333333333,
              "#9c179e"
             ],
             [
              0.4444444444444444,
              "#bd3786"
             ],
             [
              0.5555555555555556,
              "#d8576b"
             ],
             [
              0.6666666666666666,
              "#ed7953"
             ],
             [
              0.7777777777777778,
              "#fb9f3a"
             ],
             [
              0.8888888888888888,
              "#fdca26"
             ],
             [
              1,
              "#f0f921"
             ]
            ],
            "type": "contour"
           }
          ],
          "contourcarpet": [
           {
            "colorbar": {
             "outlinewidth": 0,
             "ticks": ""
            },
            "type": "contourcarpet"
           }
          ],
          "heatmap": [
           {
            "colorbar": {
             "outlinewidth": 0,
             "ticks": ""
            },
            "colorscale": [
             [
              0,
              "#0d0887"
             ],
             [
              0.1111111111111111,
              "#46039f"
             ],
             [
              0.2222222222222222,
              "#7201a8"
             ],
             [
              0.3333333333333333,
              "#9c179e"
             ],
             [
              0.4444444444444444,
              "#bd3786"
             ],
             [
              0.5555555555555556,
              "#d8576b"
             ],
             [
              0.6666666666666666,
              "#ed7953"
             ],
             [
              0.7777777777777778,
              "#fb9f3a"
             ],
             [
              0.8888888888888888,
              "#fdca26"
             ],
             [
              1,
              "#f0f921"
             ]
            ],
            "type": "heatmap"
           }
          ],
          "histogram": [
           {
            "marker": {
             "pattern": {
              "fillmode": "overlay",
              "size": 10,
              "solidity": 0.2
             }
            },
            "type": "histogram"
           }
          ],
          "histogram2d": [
           {
            "colorbar": {
             "outlinewidth": 0,
             "ticks": ""
            },
            "colorscale": [
             [
              0,
              "#0d0887"
             ],
             [
              0.1111111111111111,
              "#46039f"
             ],
             [
              0.2222222222222222,
              "#7201a8"
             ],
             [
              0.3333333333333333,
              "#9c179e"
             ],
             [
              0.4444444444444444,
              "#bd3786"
             ],
             [
              0.5555555555555556,
              "#d8576b"
             ],
             [
              0.6666666666666666,
              "#ed7953"
             ],
             [
              0.7777777777777778,
              "#fb9f3a"
             ],
             [
              0.8888888888888888,
              "#fdca26"
             ],
             [
              1,
              "#f0f921"
             ]
            ],
            "type": "histogram2d"
           }
          ],
          "histogram2dcontour": [
           {
            "colorbar": {
             "outlinewidth": 0,
             "ticks": ""
            },
            "colorscale": [
             [
              0,
              "#0d0887"
             ],
             [
              0.1111111111111111,
              "#46039f"
             ],
             [
              0.2222222222222222,
              "#7201a8"
             ],
             [
              0.3333333333333333,
              "#9c179e"
             ],
             [
              0.4444444444444444,
              "#bd3786"
             ],
             [
              0.5555555555555556,
              "#d8576b"
             ],
             [
              0.6666666666666666,
              "#ed7953"
             ],
             [
              0.7777777777777778,
              "#fb9f3a"
             ],
             [
              0.8888888888888888,
              "#fdca26"
             ],
             [
              1,
              "#f0f921"
             ]
            ],
            "type": "histogram2dcontour"
           }
          ],
          "mesh3d": [
           {
            "colorbar": {
             "outlinewidth": 0,
             "ticks": ""
            },
            "type": "mesh3d"
           }
          ],
          "parcoords": [
           {
            "line": {
             "colorbar": {
              "outlinewidth": 0,
              "ticks": ""
             }
            },
            "type": "parcoords"
           }
          ],
          "pie": [
           {
            "automargin": true,
            "type": "pie"
           }
          ],
          "scatter": [
           {
            "fillpattern": {
             "fillmode": "overlay",
             "size": 10,
             "solidity": 0.2
            },
            "type": "scatter"
           }
          ],
          "scatter3d": [
           {
            "line": {
             "colorbar": {
              "outlinewidth": 0,
              "ticks": ""
             }
            },
            "marker": {
             "colorbar": {
              "outlinewidth": 0,
              "ticks": ""
             }
            },
            "type": "scatter3d"
           }
          ],
          "scattercarpet": [
           {
            "marker": {
             "colorbar": {
              "outlinewidth": 0,
              "ticks": ""
             }
            },
            "type": "scattercarpet"
           }
          ],
          "scattergeo": [
           {
            "marker": {
             "colorbar": {
              "outlinewidth": 0,
              "ticks": ""
             }
            },
            "type": "scattergeo"
           }
          ],
          "scattergl": [
           {
            "marker": {
             "colorbar": {
              "outlinewidth": 0,
              "ticks": ""
             }
            },
            "type": "scattergl"
           }
          ],
          "scattermap": [
           {
            "marker": {
             "colorbar": {
              "outlinewidth": 0,
              "ticks": ""
             }
            },
            "type": "scattermap"
           }
          ],
          "scattermapbox": [
           {
            "marker": {
             "colorbar": {
              "outlinewidth": 0,
              "ticks": ""
             }
            },
            "type": "scattermapbox"
           }
          ],
          "scatterpolar": [
           {
            "marker": {
             "colorbar": {
              "outlinewidth": 0,
              "ticks": ""
             }
            },
            "type": "scatterpolar"
           }
          ],
          "scatterpolargl": [
           {
            "marker": {
             "colorbar": {
              "outlinewidth": 0,
              "ticks": ""
             }
            },
            "type": "scatterpolargl"
           }
          ],
          "scatterternary": [
           {
            "marker": {
             "colorbar": {
              "outlinewidth": 0,
              "ticks": ""
             }
            },
            "type": "scatterternary"
           }
          ],
          "surface": [
           {
            "colorbar": {
             "outlinewidth": 0,
             "ticks": ""
            },
            "colorscale": [
             [
              0,
              "#0d0887"
             ],
             [
              0.1111111111111111,
              "#46039f"
             ],
             [
              0.2222222222222222,
              "#7201a8"
             ],
             [
              0.3333333333333333,
              "#9c179e"
             ],
             [
              0.4444444444444444,
              "#bd3786"
             ],
             [
              0.5555555555555556,
              "#d8576b"
             ],
             [
              0.6666666666666666,
              "#ed7953"
             ],
             [
              0.7777777777777778,
              "#fb9f3a"
             ],
             [
              0.8888888888888888,
              "#fdca26"
             ],
             [
              1,
              "#f0f921"
             ]
            ],
            "type": "surface"
           }
          ],
          "table": [
           {
            "cells": {
             "fill": {
              "color": "#EBF0F8"
             },
             "line": {
              "color": "white"
             }
            },
            "header": {
             "fill": {
              "color": "#C8D4E3"
             },
             "line": {
              "color": "white"
             }
            },
            "type": "table"
           }
          ]
         },
         "layout": {
          "annotationdefaults": {
           "arrowcolor": "#2a3f5f",
           "arrowhead": 0,
           "arrowwidth": 1
          },
          "autotypenumbers": "strict",
          "coloraxis": {
           "colorbar": {
            "outlinewidth": 0,
            "ticks": ""
           }
          },
          "colorscale": {
           "diverging": [
            [
             0,
             "#8e0152"
            ],
            [
             0.1,
             "#c51b7d"
            ],
            [
             0.2,
             "#de77ae"
            ],
            [
             0.3,
             "#f1b6da"
            ],
            [
             0.4,
             "#fde0ef"
            ],
            [
             0.5,
             "#f7f7f7"
            ],
            [
             0.6,
             "#e6f5d0"
            ],
            [
             0.7,
             "#b8e186"
            ],
            [
             0.8,
             "#7fbc41"
            ],
            [
             0.9,
             "#4d9221"
            ],
            [
             1,
             "#276419"
            ]
           ],
           "sequential": [
            [
             0,
             "#0d0887"
            ],
            [
             0.1111111111111111,
             "#46039f"
            ],
            [
             0.2222222222222222,
             "#7201a8"
            ],
            [
             0.3333333333333333,
             "#9c179e"
            ],
            [
             0.4444444444444444,
             "#bd3786"
            ],
            [
             0.5555555555555556,
             "#d8576b"
            ],
            [
             0.6666666666666666,
             "#ed7953"
            ],
            [
             0.7777777777777778,
             "#fb9f3a"
            ],
            [
             0.8888888888888888,
             "#fdca26"
            ],
            [
             1,
             "#f0f921"
            ]
           ],
           "sequentialminus": [
            [
             0,
             "#0d0887"
            ],
            [
             0.1111111111111111,
             "#46039f"
            ],
            [
             0.2222222222222222,
             "#7201a8"
            ],
            [
             0.3333333333333333,
             "#9c179e"
            ],
            [
             0.4444444444444444,
             "#bd3786"
            ],
            [
             0.5555555555555556,
             "#d8576b"
            ],
            [
             0.6666666666666666,
             "#ed7953"
            ],
            [
             0.7777777777777778,
             "#fb9f3a"
            ],
            [
             0.8888888888888888,
             "#fdca26"
            ],
            [
             1,
             "#f0f921"
            ]
           ]
          },
          "colorway": [
           "#636efa",
           "#EF553B",
           "#00cc96",
           "#ab63fa",
           "#FFA15A",
           "#19d3f3",
           "#FF6692",
           "#B6E880",
           "#FF97FF",
           "#FECB52"
          ],
          "font": {
           "color": "#2a3f5f"
          },
          "geo": {
           "bgcolor": "white",
           "lakecolor": "white",
           "landcolor": "#E5ECF6",
           "showlakes": true,
           "showland": true,
           "subunitcolor": "white"
          },
          "hoverlabel": {
           "align": "left"
          },
          "hovermode": "closest",
          "mapbox": {
           "style": "light"
          },
          "paper_bgcolor": "white",
          "plot_bgcolor": "#E5ECF6",
          "polar": {
           "angularaxis": {
            "gridcolor": "white",
            "linecolor": "white",
            "ticks": ""
           },
           "bgcolor": "#E5ECF6",
           "radialaxis": {
            "gridcolor": "white",
            "linecolor": "white",
            "ticks": ""
           }
          },
          "scene": {
           "xaxis": {
            "backgroundcolor": "#E5ECF6",
            "gridcolor": "white",
            "gridwidth": 2,
            "linecolor": "white",
            "showbackground": true,
            "ticks": "",
            "zerolinecolor": "white"
           },
           "yaxis": {
            "backgroundcolor": "#E5ECF6",
            "gridcolor": "white",
            "gridwidth": 2,
            "linecolor": "white",
            "showbackground": true,
            "ticks": "",
            "zerolinecolor": "white"
           },
           "zaxis": {
            "backgroundcolor": "#E5ECF6",
            "gridcolor": "white",
            "gridwidth": 2,
            "linecolor": "white",
            "showbackground": true,
            "ticks": "",
            "zerolinecolor": "white"
           }
          },
          "shapedefaults": {
           "line": {
            "color": "#2a3f5f"
           }
          },
          "ternary": {
           "aaxis": {
            "gridcolor": "white",
            "linecolor": "white",
            "ticks": ""
           },
           "baxis": {
            "gridcolor": "white",
            "linecolor": "white",
            "ticks": ""
           },
           "bgcolor": "#E5ECF6",
           "caxis": {
            "gridcolor": "white",
            "linecolor": "white",
            "ticks": ""
           }
          },
          "title": {
           "x": 0.05
          },
          "xaxis": {
           "automargin": true,
           "gridcolor": "white",
           "linecolor": "white",
           "ticks": "",
           "title": {
            "standoff": 15
           },
           "zerolinecolor": "white",
           "zerolinewidth": 2
          },
          "yaxis": {
           "automargin": true,
           "gridcolor": "white",
           "linecolor": "white",
           "ticks": "",
           "title": {
            "standoff": 15
           },
           "zerolinecolor": "white",
           "zerolinewidth": 2
          }
         }
        },
        "xaxis": {
         "anchor": "y",
         "categoryarray": [
          0,
          1
         ],
         "categoryorder": "array",
         "domain": [
          0,
          1
         ],
         "title": {
          "text": "Converted"
         }
        },
        "yaxis": {
         "anchor": "x",
         "domain": [
          0,
          1
         ],
         "title": {
          "text": "Total Time Spent on Website"
         }
        }
       }
      }
     },
     "metadata": {},
     "output_type": "display_data"
    }
   ],
   "source": [
    "#boxplot coverted x totalvisits\n",
    "fig = px.box(df_leads, x='Converted', y='Total Time Spent on Website', color='Converted')\n",
    "fig.show()"
   ]
  },
  {
   "cell_type": "code",
   "execution_count": 247,
   "id": "f2e73ca5",
   "metadata": {},
   "outputs": [
    {
     "data": {
      "application/vnd.plotly.v1+json": {
       "config": {
        "plotlyServerURL": "https://plot.ly"
       },
       "data": [
        {
         "alignmentgroup": "True",
         "hovertemplate": "Converted=%{x}<br>Page Views Per Visit=%{y}<extra></extra>",
         "legendgroup": "0",
         "marker": {
          "color": "#636efa"
         },
         "name": "0",
         "notched": false,
         "offsetgroup": "0",
         "orientation": "v",
         "showlegend": true,
         "type": "box",
         "x": {
          "bdata": "AAAAAAAAAAAAAAAAAAAAAAAAAAAAAAAAAAAAAAAAAAAAAAAAAAAAAAAAAAAAAAAAAAAAAAAAAAAAAAAAAAAAAAAAAAAAAAAAAAAAAAAAAAAAAAAAAAAAAAAAAAAAAAAAAAAAAAAAAAAAAAAAAAAAAAAAAAAAAAAAAAAAAAAAAAAAAAAAAAAAAAAAAAAAAAAAAAAAAAAAAAAAAAAAAAAAAAAAAAAAAAAAAAAAAAAAAAAAAAAAAAAAAAAAAAAAAAAAAAAAAAAAAAAAAAAAAAAAAAAAAAAAAAAAAAAAAAAAAAAAAAAAAAAAAAAAAAAAAAAAAAAAAAAAAAAAAAAAAAAAAAAAAAAAAAAAAAAAAAAAAAAAAAAAAAAAAAAAAAAAAAAAAAAAAAAAAAAAAAAAAAAAAAAAAAAAAAAAAAAAAAAAAAAAAAAAAAAAAAAAAAAAAAAAAAAAAAAAAAAAAAAAAAAAAAAAAAAAAAAAAAAAAAAAAAAAAAAAAAAAAAAAAAAAAAAAAAAAAAAAAAAAAAAAAAAAAAAAAAAAAAAAAAAAAAAAAAAAAAAAAAAAAAAAAAAAAAAAAAAAAAAAAAAAAAAAAAAAAAAAAAAAAAAAAAAAAAAAAAAAAAAAAAAAAAAAAAAAAAAAAAAAAAAAAAAAAAAAAAAAAAAAAAAAAAAAAAAAAAAAAAAAAAAAAAAAAAAAAAAAAAAAAAAAAAAAAAAAAAAAAAAAAAAAAAAAAAAAAAAAAAAAAAAAAAAAAAAAAAAAAAAAAAAAAAAAAAAAAAAAAAAAAAAAAAAAAAAAAAAAAAAAAAAAAAAAAAAAAAAAAAAAAAAAAAAAAAAAAAAAAAAAAAAAAAAAAAAAAAAAAAAAAAAAAAAAAAAAAAAAAAAAAAAAAAAAAAAAAAAAAAAAAAAAAAAAAAAAAAAAAAAAAAAAAAAAAAAAAAAAAAAAAAAAAAAAAAAAAAAAAAAAAAAAAAAAAAAAAAAAAAAAAAAAAAAAAAAAAAAAAAAAAAAAAAAAAAAAAAAAAAAAAAAAAAAAAAAAAAAAAAAAAAAAAAAAAAAAAAAAAAAAAAAAAAAAAAAAAAAAAAAAAAAAAAAAAAAAAAAAAAAAAAAAAAAAAAAAAAAAAAAAAAAAAAAAAAAAAAAAAAAAAAAAAAAAAAAAAAAAAAAAAAAAAAAAAAAAAAAAAAAAAAAAAAAAAAAAAAAAAAAAAAAAAAAAAAAAAAAAAAAAAAAAAAAAAAAAAAAAAAAAAAAAAAAAAAAAAAAAAAAAAAAAAAAAAAAAAAAAAAAAAAAAAAAAAAAAAAAAAAAAAAAAAAAAAAAAAAAAAAAAAAAAAAAAAAAAAAAAAAAAAAAAAAAAAAAAAAAAAAAAAAAAAAAAAAAAAAAAAAAAAAAAAAAAAAAAAAAAAAAAAAAAAAAAAAAAAAAAAAAAAAAAAAAAAAAAAAAAAAAAAAAAAAAAAAAAAAAAAAAAAAAAAAAAAAAAAAAAAAAAAAAAAAAAAAAAAAAAAAAAAAAAAAAAAAAAAAAAAAAAAAAAAAAAAAAAAAAAAAAAAAAAAAAAAAAAAAAAAAAAAAAAAAAAAAAAAAAAAAAAAAAAAAAAAAAAAAAAAAAAAAAAAAAAAAAAAAAAAAAAAAAAAAAAAAAAAAAAAAAAAAAAAAAAAAAAAAAAAAAAAAAAAAAAAAAAAAAAAAAAAAAAAAAAAAAAAAAAAAAAAAAAAAAAAAAAAAAAAAAAAAAAAAAAAAAAAAAAAAAAAAAAAAAAAAAAAAAAAAAAAAAAAAAAAAAAAAAAAAAAAAAAAAAAAAAAAAAAAAAAAAAAAAAAAAAAAAAAAAAAAAAAAAAAAAAAAAAAAAAAAAAAAAAAAAAAAAAAAAAAAAAAAAAAAAAAAAAAAAAAAAAAAAAAAAAAAAAAAAAAAAAAAAAAAAAAAAAAAAAAAAAAAAAAAAAAAAAAAAAAAAAAAAAAAAAAAAAAAAAAAAAAAAAAAAAAAAAAAAAAAAAAAAAAAAAAAAAAAAAAAAAAAAAAAAAAAAAAAAAAAAAAAAAAAAAAAAAAAAAAAAAAAAAAAAAAAAAAAAAAAAAAAAAAAAAAAAAAAAAAAAAAAAAAAAAAAAAAAAAAAAAAAAAAAAAAAAAAAAAAAAAAAAAAAAAAAAAAAAAAAAAAAAAAAAAAAAAAAAAAAAAAAAAAAAAAAAAAAAAAAAAAAAAAAAAAAAAAAAAAAAAAAAAAAAAAAAAAAAAAAAAAAAAAAAAAAAAAAAAAAAAAAAAAAAAAAAAAAAAAAAAAAAAAAAAAAAAAAAAAAAAAAAAAAAAAAAAAAAAAAAAAAAAAAAAAAAAAAAAAAAAAAAAAAAAAAAAAAAAAAAAAAAAAAAAAAAAAAAAAAAAAAAAAAAAAAAAAAAAAAAAAAAAAAAAAAAAAAAAAAAAAAAAAAAAAAAAAAAAAAAAAAAAAAAAAAAAAAAAAAAAAAAAAAAAAAAAAAAAAAAAAAAAAAAAAAAAAAAAAAAAAAAAAAAAAAAAAAAAAAAAAAAAAAAAAAAAAAAAAAAAAAAAAAAAAAAAAAAAAAAAAAAAAAAAAAAAAAAAAAAAAAAAAAAAAAAAAAAAAAAAAAAAAAAAAAAAAAAAAAAAAAAAAAAAAAAAAAAAAAAAAAAAAAAAAAAAAAAAAAAAAAAAAAAAAAAAAAAAAAAAAAAAAAAAAAAAAAAAAAAAAAAAAAAAAAAAAAAAAAAAAAAAAAAAAAAAAAAAAAAAAAAAAAAAAAAAAAAAAAAAAAAAAAAAAAAAAAAAAAAAAAAAAAAAAAAAAAAAAAAAAAAAAAAAAAAAAAAAAAAAAAAAAAAAAAAAAAAAAAAAAAAAAAAAAAAAAAAAAAAAAAAAAAAAAAAAAAAAAAAAAAAAAAAAAAAAAAAAAAAAAAAAAAAAAAAAAAAAAAAAAAAAAAAAAAAAAAAAAAAAAAAAAAAAAAAAAAAAAAAAAAAAAAAAAAAAAAAAAAAAAAAAAAAAAAAAAAAAAAAAAAAAAAAAAAAAAAAAAAAAAAAAAAAAAAAAAAAAAAAAAAAAAAAAAAAAAAAAAAAAAAAAAAAAAAAAAAAAAAAAAAAAAAAAAAAAAAAAAAAAAAAAAAAAAAAAAAAAAAAAAAAAAAAAAAAAAAAAAAAAAAAAAAAAAAAAAAAAAAAAAAAAAAAAAAAAAAAAAAAAAAAAAAAAAAAAAAAAAAAAAAAAAAAAAAAAAAAAAAAAAAAAAAAAAAAAAAAAAAAAAAAAAAAAAAAAAAAAAAAAAAAAAAAAAAAAAAAAAAAAAAAAAAAAAAAAAAAAAAAAAAAAAAAAAAAAAAAAAAAAAAAAAAAAAAAAAAAAAAAAAAAAAAAAAAAAAAAAAAAAAAAAAAAAAAAAAAAAAAAAAAAAAAAAAAAAAAAAAAAAAAAAAAAAAAAAAAAAAAAAAAAAAAAAAAAAAAAAAAAAAAAAAAAAAAAAAAAAAAAAAAAAAAAAAAAAAAAAAAAAAAAAAAAAAAAAAAAAAAAAAAAAAAAAAAAAAAAAAAAAAAAAAAAAAAAAAAAAAAAAAAAAAAAAAAAAAAAAAAAAAAAAAAAAAAAAAAAAAAAAAAAAAAAAAAAAAAAAAAAAAAAAAAAAAAAAAAAAAAAAAAAAAAAAAAAAAAAAAAAAAAAAAAAAAAAAAAAAAAAAAAAAAAAAAAAAAAAAAAAAAAAAAAAAAAAAAAAAAAAAAAAAAAAAAAAAAAAAAAAAAAAAAAAAAAAAAAAAAAAAAAAAAAAAAAAAAAAAAAAAAAAAAAAAAAAAAAAAAAAAAAAAAAAAAAAAAAAAAAAAAAAAAAAAAAAAAAAAAAAAAAAAAAAAAAAAAAAAAAAAAAAAAAAAAAAAAAAAAAAAAAAAAAAAAAAAAAAAAAAAAAAAAAAAAAAAAAAAAAAAAAAAAAAAAAAAAAAAAAAAAAAAAAAAAAAAAAAAAAAAAAAAAAAAAAAAAAAAAAAAAAAAAAAAAAAAAAAAAAAAAAAAAAAAAAAAAAAAAAAAAAAAAAAAAAAAAAAAAAAAAAAAAAAAAAAAAAAAAAAAAAAAAAAAAAAAAAAAAAAAAAAAAAAAAAAAAAAAAAAAAAAAAAAAAAAAAAAAAAAAAAAAAAAAAAAAAAAAAAAAAAAAAAAAAAAAAAAAAAAAAAAAAAAAAAAAAAAAAAAAAAAAAAAAAAAAAAAAAAAAAAAAAAAAAAAAAAAAAAAAAAAAAAAAAAAAAAAAAAAAAAAAAAAAAAAAAAAAAAAAAAAAAAAAAAAAAAAAAAAAAAAAAAAAAAAAAAAAAAAAAAAAAAAAAAAAAAAAAAAAAAAAAAAAAAAAAAAAAAAAAAAAAAAAAAAAAAAAAAAAAAAAAAAAAAAAAAAAAAAAAAAAAAAAAAAAAAAAAAAAAAAAAAAAAAAAAAAAAAAAAAAAAAAAAAAAAAAAAAAAAAAAAAAAAAAAAAAAAAAAAAAAAAAAAAAAAAAAAAAAAAAAAAAAAAAAAAAAAAAAAAAAAAAAAAAAAAAAAAAAAAAAAAAAAAAAAAAAAAAAAAAAAAAAAAAAAAAAAAAAAAAAAAAAAAAAAAAAAAAAAAAAAAAAAAAAAAAAAAAAAAAAAAAAAAAAAAAAAAAAAAAAAAAAAAAAAAAAAAAAAAAAAAAAAAAAAAAAAAAAAAAAAAAAAAAAAAAAAAAAAAAAAAAAAAAAAAAAAAAAAAAAAAAAAAAAAAAAAAAAAAAAAAAAAAAAAAAAAAAAAAAAAAAAAAAAAAAAAAAAAAAAAAAAAAAAAAAAAAAAAAAAAAAAAAAAAAAAAAAAAAAAAAAAAAAAAAAAAAAAAAAAAAAAAAAAAAAAAAAAAAAAAAAAAAAAAAAAAAAAAAAAAAAAAAAAAAAAAAAAAAAAAAAAAAAAAAAAAAAAAAAAAAAAAAAAAAAAAAAAAAAAAAAAAAAAAAAAAAAAAAAAAAAAAAAAAAAAAAAAAAAAAAAAAAAAAAAAAAAAAAAAAAAAAAAAAAAAAAAAAAAAAAAAAAAAAAAAAAAAAAAAAAAAAAAAAAAAAAAAAAAAAAAAAAAAAAAAAAAAAAAAAAAAAAAAAAAAAAAAAAAAAAAAAAAAAAAAAAAAAAAAAAAAAAAAAAAAAAAAAAAAAAAAAAAAAAAAAAAAAAAAAAAAAAAAAAAAAAAAAAAAAAAAAAAAAAAAAAAAAAAAAAAAAAAAAAAAAAAAAAAAAAAAAAAAAAAAAAAAAAAAAAAAAAAAAAAAAAAAAAAAAAAAAAAAAAAAAAAAAAAAAAAAAAAAAAAAAAAAAAAAAAAAAAAAAAAAAAAAAAAAAAAAAAAAAAAAAAAAAAAAAAAAAAAAAAAAAAAAAAAAAAAAAAAAAAAAAAAAAAAAAAAAAAAAAAAAAAAAAAAAAAAAAAAAAAAAAAAAAAAAAAAAAAAAAAAAAAAAAAAAAAAAAAAAAAAAAAAAAAAAAAAAAAAAAAAAAAAAAAAAAAAAAAAAAAAAAAAAAAAAAAAAAAAAAAAAAAAAAAAAAAAAAAAAAAAAAAAAAAAAAAAAAAAAAAAAAAAAAAAAAAAAAAAAAAAAAAAAAAAAAAAAAAAAAAAAAAAAAAAAAAAAAAAAAAAAAAAAAAAAAAAAAAAAAAAAAAAAAAAAAAAAAAAAAAAAAAAAAAAAAAAAAAAAAAAAAAAAAAAAAAAAAAAAAAAAAAAAAAAAAAAAAAAAAAAAAAAAAAAAAAAAAAAAAAAAAAAAAAAAAAAAAAAAAAAAAAAAAAAAAAAAAAAAAAAAAAAAAAAAAAAAAAAAAAAAAAAAAAAAAAAAAAAAAAAAAAAAAAAAAAAAAAAAAAAAAAAAAAAAAAAAAAAAAAAAAAAAAAAAAAAAAAAAAAAAAAAAAAAAAAAAAAAAAAAAAAAAAAAAAAAAAAAAAAAAAAAAAAAAAAAAAAAAAAAAAAAAAAAAAAAAAAAAAAAAAAAAAAAAAAAAAAAAAAAAAAAAAAAAAAAAAAAAAAAAAAAAAAAAAAAAAAAAAAAAAAAAAAAAAAAAAAAAAAAAAAAAAAAAAAAAAAAAAAAAAAAAAAAAAAAAAAAAAAAAAAAAAAAAAAAAAAAAAAAAAAAAAAAAAAAAAAAAAAAAAAAAAAAAAAAAAAAAAAAAAAAAAAAAAAAAAAAAAAAAAAAAAAAAAAAAAAAAAAAAAAAAAAAAAAAAAAAAAAAAAAAAAAAAAAAAAAAAAAAAAAAAAAAAAAAAAAAAAAAAAAAAAAAAAAAAAAAAAAAAAAAAAAAAAAAAAAAAAAAAAAAAAAAAAAAAAAAAAAAAAAAAAAAAAAAAAAAAAAAAAAAAAAAAAAAAAAAAAAAAAAAAAAAAAAAAAAAAAAAAAAAAAAAAAAAAAAAAAAAAAAAAAAAAAAAAAAAAAAAAAAAAAAAAAAAAAAAAAAAAAAAAAAAAAAAAAAAAAAAAAAAAAAAAAAAAAAAAAAAAAAAAAAAAAAAAAAAAAAAAAAAAAAAAAAAAAAAAAAAAAAAAAAAAAAAAAAAAAAAAAAAAAAAAAAAAAAAAAAAAAAAAAAAAAAAAAAAAAAAAAAAAAAAAAAAAAAAAAAAAAAAAAAAAAAAAAAAAAAAAAAAAAAAAAAAAAAAAAAAAAAAAAAAAAAAAAAAAAAAAAAAAAAAAAAAAAAAAAAAAAAAAAAAAAAAAAAAAAAAAAAAAAAAAAAAAAAAAAAAAAAAAAAAAAAAAAAAAAAAAAAAAAAAAAAAAAAAAAAAAAAAAAAAAAAAAAAAAAAAAAAAAAAAAAAAAAAAAAAAAAAAAAAAAAAAAAAAAAAAAAAAAAAAAAAAAAAAAAAAAAAAAAAAAAAAAAAAAAAAAAAAAAAAAAAAAAAAAAAAAAAAAAAAAAAAAAAAAAAAAAAAAAAAAAAAAAAAAAAAAAAAAAAAAAAAAAAAAAAAAAAAAAAAAAAAAAAAAAAAAAAAAAAAAAAAAAAAAAAAAAAAAAAAAAAAAAAAAAAAAAAAAAAAAAAAAAAAAAAAAAAAAAAAAAAAAAAAAAAAAAAAAAAAAAAAAAAAAAAAAAAAAAAAAAAAAAAAAAAAAAAAAAAAAAAAAAAAAAAAAAAAAAAAAAAAAAAAAAAAAAAAAAAAAAAAAAAAAAAAAAAAAAAAAAAAAAAAAAAAAAAAAAAAAAAAAAAAAAAAAAAAAAAAAAAAAAAAAAAAAAAAAAAAAAAAAAAAAAAAAAAAAAAAAAAAAAAAAAAAAAAAAAAAAAAAAAAAAAAAAAAAAAAAAAAAAAAAAAAAAAAAAAAAAAAAAAAAAAAAAAAAAAAAAAAAAAAAAAAAAAAAAAAAAAAAAAAAAAAAAAAAAAAAAAAAAAAAAAAAAAAAAAAAAAAAAAAAAAAAAAAAAAAAAAAAAAAAAAAAAAAAAAAAAAAAAAAAAAAAAAAAAAAAAAAAAAAAAAAAAAAAAAAAAAAAAAAAAAAAAAAAAAAAAAAAAAAAAAAAAAAAAAAAAAAAAAAAAAAAAAAAAAAAAAAAAAAAAAAAAAAAAAAAAAAAAAAAAAAAAAAAAAAAAAAAAAAAAAAAAAAAAAAAAAAAAAAAAAAAAAAAAAAAAAAAAAAAA=",
          "dtype": "i1"
         },
         "x0": " ",
         "xaxis": "x",
         "y": {
          "bdata": "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",
          "dtype": "f8"
         },
         "y0": " ",
         "yaxis": "y"
        },
        {
         "alignmentgroup": "True",
         "hovertemplate": "Converted=%{x}<br>Page Views Per Visit=%{y}<extra></extra>",
         "legendgroup": "1",
         "marker": {
          "color": "#EF553B"
         },
         "name": "1",
         "notched": false,
         "offsetgroup": "1",
         "orientation": "v",
         "showlegend": true,
         "type": "box",
         "x": {
          "bdata": "AQEBAQEBAQEBAQEBAQEBAQEBAQEBAQEBAQEBAQEBAQEBAQEBAQEBAQEBAQEBAQEBAQEBAQEBAQEBAQEBAQEBAQEBAQEBAQEBAQEBAQEBAQEBAQEBAQEBAQEBAQEBAQEBAQEBAQEBAQEBAQEBAQEBAQEBAQEBAQEBAQEBAQEBAQEBAQEBAQEBAQEBAQEBAQEBAQEBAQEBAQEBAQEBAQEBAQEBAQEBAQEBAQEBAQEBAQEBAQEBAQEBAQEBAQEBAQEBAQEBAQEBAQEBAQEBAQEBAQEBAQEBAQEBAQEBAQEBAQEBAQEBAQEBAQEBAQEBAQEBAQEBAQEBAQEBAQEBAQEBAQEBAQEBAQEBAQEBAQEBAQEBAQEBAQEBAQEBAQEBAQEBAQEBAQEBAQEBAQEBAQEBAQEBAQEBAQEBAQEBAQEBAQEBAQEBAQEBAQEBAQEBAQEBAQEBAQEBAQEBAQEBAQEBAQEBAQEBAQEBAQEBAQEBAQEBAQEBAQEBAQEBAQEBAQEBAQEBAQEBAQEBAQEBAQEBAQEBAQEBAQEBAQEBAQEBAQEBAQEBAQEBAQEBAQEBAQEBAQEBAQEBAQEBAQEBAQEBAQEBAQEBAQEBAQEBAQEBAQEBAQEBAQEBAQEBAQEBAQEBAQEBAQEBAQEBAQEBAQEBAQEBAQEBAQEBAQEBAQEBAQEBAQEBAQEBAQEBAQEBAQEBAQEBAQEBAQEBAQEBAQEBAQEBAQEBAQEBAQEBAQEBAQEBAQEBAQEBAQEBAQEBAQEBAQEBAQEBAQEBAQEBAQEBAQEBAQEBAQEBAQEBAQEBAQEBAQEBAQEBAQEBAQEBAQEBAQEBAQEBAQEBAQEBAQEBAQEBAQEBAQEBAQEBAQEBAQEBAQEBAQEBAQEBAQEBAQEBAQEBAQEBAQEBAQEBAQEBAQEBAQEBAQEBAQEBAQEBAQEBAQEBAQEBAQEBAQEBAQEBAQEBAQEBAQEBAQEBAQEBAQEBAQEBAQEBAQEBAQEBAQEBAQEBAQEBAQEBAQEBAQEBAQEBAQEBAQEBAQEBAQEBAQEBAQEBAQEBAQEBAQEBAQEBAQEBAQEBAQEBAQEBAQEBAQEBAQEBAQEBAQEBAQEBAQEBAQEBAQEBAQEBAQEBAQEBAQEBAQEBAQEBAQEBAQEBAQEBAQEBAQEBAQEBAQEBAQEBAQEBAQEBAQEBAQEBAQEBAQEBAQEBAQEBAQEBAQEBAQEBAQEBAQEBAQEBAQEBAQEBAQEBAQEBAQEBAQEBAQEBAQEBAQEBAQEBAQEBAQEBAQEBAQEBAQEBAQEBAQEBAQEBAQEBAQEBAQEBAQEBAQEBAQEBAQEBAQEBAQEBAQEBAQEBAQEBAQEBAQEBAQEBAQEBAQEBAQEBAQEBAQEBAQEBAQEBAQEBAQEBAQEBAQEBAQEBAQEBAQEBAQEBAQEBAQEBAQEBAQEBAQEBAQEBAQEBAQEBAQEBAQEBAQEBAQEBAQEBAQEBAQEBAQEBAQEBAQEBAQEBAQEBAQEBAQEBAQEBAQEBAQEBAQEBAQEBAQEBAQEBAQEBAQEBAQEBAQEBAQEBAQEBAQEBAQEBAQEBAQEBAQEBAQEBAQEBAQEBAQEBAQEBAQEBAQEBAQEBAQEBAQEBAQEBAQEBAQEBAQEBAQEBAQEBAQEBAQEBAQEBAQEBAQEBAQEBAQEBAQEBAQEBAQEBAQEBAQEBAQEBAQEBAQEBAQEBAQEBAQEBAQEBAQEBAQEBAQEBAQEBAQEBAQEBAQEBAQEBAQEBAQEBAQEBAQEBAQEBAQEBAQEBAQEBAQEBAQEBAQEBAQEBAQEBAQEBAQEBAQEBAQEBAQEBAQEBAQEBAQEBAQEBAQEBAQEBAQEBAQEBAQEBAQEBAQEBAQEBAQEBAQEBAQEBAQEBAQEBAQEBAQEBAQEBAQEBAQEBAQEBAQEBAQEBAQEBAQEBAQEBAQEBAQEBAQEBAQEBAQEBAQEBAQEBAQEBAQEBAQEBAQEBAQEBAQEBAQEBAQEBAQEBAQEBAQEBAQEBAQEBAQEBAQEBAQEBAQEBAQEBAQEBAQEBAQEBAQEBAQEBAQEBAQEBAQEBAQEBAQEBAQEBAQEBAQEBAQEBAQEBAQEBAQEBAQEBAQEBAQEBAQEBAQEBAQEBAQEBAQEBAQEBAQEBAQEBAQEBAQEBAQEBAQEBAQEBAQEBAQEBAQEBAQEBAQEBAQEBAQEBAQEBAQEBAQEBAQEBAQEBAQEBAQEBAQEBAQEBAQEBAQEBAQEBAQEBAQEBAQEBAQEBAQEBAQEBAQEBAQEBAQEBAQEBAQEBAQEBAQEBAQEBAQEBAQEBAQEBAQEBAQEBAQEBAQEBAQEBAQEBAQEBAQEBAQEBAQEBAQEBAQEBAQEBAQEBAQEBAQEBAQEBAQEBAQEBAQEBAQEBAQEBAQEBAQEBAQEBAQEBAQEBAQEBAQEBAQEBAQEBAQEBAQEBAQEBAQEBAQEBAQEBAQEBAQEBAQEBAQEBAQEBAQEBAQEBAQEBAQEBAQEBAQEBAQEBAQEBAQEBAQEBAQEBAQEBAQEBAQEBAQEBAQEBAQEBAQEBAQEBAQEBAQEBAQEBAQEBAQEBAQEBAQEBAQEBAQEBAQEBAQEBAQEBAQEBAQEBAQEBAQEBAQEBAQEBAQEBAQEBAQEBAQEBAQEBAQEBAQEBAQEBAQEBAQEBAQEBAQEBAQEBAQEBAQEBAQEBAQEBAQEBAQEBAQEBAQEBAQEBAQEBAQEBAQEBAQEBAQEBAQEBAQEBAQEBAQEBAQEBAQEBAQEBAQEBAQEBAQEBAQEBAQEBAQEBAQEBAQEBAQEBAQEBAQEBAQEBAQEBAQEBAQEBAQEBAQEBAQEBAQEBAQEBAQEBAQEBAQEBAQEBAQEBAQEBAQEBAQEBAQEBAQEBAQEBAQEBAQEBAQEBAQEBAQEBAQEBAQEBAQEBAQEBAQEBAQEBAQEBAQEBAQEBAQEBAQEBAQEBAQEBAQEBAQEBAQEBAQEBAQEBAQEBAQEBAQEBAQEBAQEBAQEBAQEBAQEBAQEBAQEBAQEBAQEBAQEBAQEBAQEBAQEBAQEBAQEBAQEBAQEBAQEBAQEBAQEBAQEBAQEBAQEBAQEBAQEBAQEBAQEBAQEBAQEBAQEBAQEBAQEBAQEBAQEBAQEBAQEBAQEBAQEBAQEBAQEBAQEBAQEBAQEBAQEBAQEBAQEBAQEBAQEBAQEBAQEBAQEBAQEBAQEBAQEBAQEBAQEBAQEBAQEBAQEBAQEBAQEBAQEBAQEBAQEBAQEBAQEBAQEBAQEBAQEBAQEBAQEBAQEBAQEBAQEBAQEBAQEBAQEBAQEBAQEBAQEBAQEBAQEBAQEBAQEBAQEBAQEBAQEBAQEBAQEBAQEBAQEBAQEBAQEBAQEBAQEBAQEBAQEBAQEBAQEBAQEBAQEBAQEBAQEBAQEBAQEBAQEBAQEBAQEBAQEBAQEBAQEBAQEBAQEBAQEBAQEBAQEBAQEBAQEBAQEBAQEBAQEBAQEBAQEBAQEBAQEBAQEBAQEBAQEBAQEBAQEBAQEBAQEBAQEBAQEBAQEBAQEBAQEBAQEBAQEBAQEBAQEBAQEBAQEBAQEBAQEBAQEBAQEBAQEBAQEBAQEBAQEBAQEBAQEBAQEBAQEBAQEBAQEBAQEBAQEBAQEBAQEBAQEBAQEBAQEBAQEBAQEBAQEBAQEBAQEBAQEBAQEBAQEBAQEBAQEBAQEBAQEBAQEBAQEBAQEBAQEBAQEBAQEBAQEBAQEBAQEBAQEBAQEBAQEBAQEBAQEBAQEBAQEBAQEBAQEBAQEBAQEBAQEBAQEBAQEBAQEBAQEBAQEBAQEBAQEBAQEBAQEBAQEBAQEBAQEBAQEBAQEBAQEBAQEBAQEBAQEBAQEBAQEBAQEBAQEBAQEBAQEBAQEBAQEBAQEBAQEBAQEBAQEBAQEBAQEBAQEBAQEBAQEBAQEBAQEBAQEBAQEBAQEBAQEBAQEBAQEBAQEBAQEBAQEBAQEBAQEBAQEBAQEBAQEBAQEBAQEBAQEBAQEBAQEBAQEBAQEBAQEBAQEBAQEBAQEBAQEBAQEBAQEBAQEBAQEBAQEBAQEBAQEBAQEBAQEBAQEBAQEBAQEBAQEBAQEBAQEBAQEBAQEBAQEBAQEBAQEBAQEBAQEBAQEBAQEBAQEBAQEBAQEBAQEBAQEBAQEBAQEBAQEBAQEBAQEBAQEBAQEBAQEBAQEBAQEBAQEBAQEBAQEBAQEBAQEBAQEBAQEBAQEBAQEBAQEBAQEBAQEBAQEBAQEBAQEBAQEBAQEBAQEBAQEBAQEBAQEBAQEBAQEBAQEBAQEBAQEBAQEBAQEBAQEBAQEBAQEBAQEBAQEBAQEBAQEBAQEBAQEBAQEBAQEBAQEBAQEBAQEBAQEBAQEBAQEBAQEBAQEBAQEBAQEBAQEBAQEBAQEBAQEBAQEBAQEBAQEBAQEBAQEBAQEBAQEBAQEBAQEBAQEBAQEBAQEBAQEBAQEBAQEBAQEBAQEBAQEBAQEBAQEBAQEBAQEBAQEBAQEBAQEBAQEBAQEBAQEBAQEBAQEBAQEBAQEBAQEBAQEBAQEBAQEBAQEBAQEBAQEBAQEBAQEBAQEBAQEBAQEB",
          "dtype": "i1"
         },
         "x0": " ",
         "xaxis": "x",
         "y": {
          "bdata": "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",
          "dtype": "f8"
         },
         "y0": " ",
         "yaxis": "y"
        }
       ],
       "layout": {
        "boxmode": "overlay",
        "legend": {
         "title": {
          "text": "Converted"
         },
         "tracegroupgap": 0
        },
        "margin": {
         "t": 60
        },
        "template": {
         "data": {
          "bar": [
           {
            "error_x": {
             "color": "#2a3f5f"
            },
            "error_y": {
             "color": "#2a3f5f"
            },
            "marker": {
             "line": {
              "color": "#E5ECF6",
              "width": 0.5
             },
             "pattern": {
              "fillmode": "overlay",
              "size": 10,
              "solidity": 0.2
             }
            },
            "type": "bar"
           }
          ],
          "barpolar": [
           {
            "marker": {
             "line": {
              "color": "#E5ECF6",
              "width": 0.5
             },
             "pattern": {
              "fillmode": "overlay",
              "size": 10,
              "solidity": 0.2
             }
            },
            "type": "barpolar"
           }
          ],
          "carpet": [
           {
            "aaxis": {
             "endlinecolor": "#2a3f5f",
             "gridcolor": "white",
             "linecolor": "white",
             "minorgridcolor": "white",
             "startlinecolor": "#2a3f5f"
            },
            "baxis": {
             "endlinecolor": "#2a3f5f",
             "gridcolor": "white",
             "linecolor": "white",
             "minorgridcolor": "white",
             "startlinecolor": "#2a3f5f"
            },
            "type": "carpet"
           }
          ],
          "choropleth": [
           {
            "colorbar": {
             "outlinewidth": 0,
             "ticks": ""
            },
            "type": "choropleth"
           }
          ],
          "contour": [
           {
            "colorbar": {
             "outlinewidth": 0,
             "ticks": ""
            },
            "colorscale": [
             [
              0,
              "#0d0887"
             ],
             [
              0.1111111111111111,
              "#46039f"
             ],
             [
              0.2222222222222222,
              "#7201a8"
             ],
             [
              0.3333333333333333,
              "#9c179e"
             ],
             [
              0.4444444444444444,
              "#bd3786"
             ],
             [
              0.5555555555555556,
              "#d8576b"
             ],
             [
              0.6666666666666666,
              "#ed7953"
             ],
             [
              0.7777777777777778,
              "#fb9f3a"
             ],
             [
              0.8888888888888888,
              "#fdca26"
             ],
             [
              1,
              "#f0f921"
             ]
            ],
            "type": "contour"
           }
          ],
          "contourcarpet": [
           {
            "colorbar": {
             "outlinewidth": 0,
             "ticks": ""
            },
            "type": "contourcarpet"
           }
          ],
          "heatmap": [
           {
            "colorbar": {
             "outlinewidth": 0,
             "ticks": ""
            },
            "colorscale": [
             [
              0,
              "#0d0887"
             ],
             [
              0.1111111111111111,
              "#46039f"
             ],
             [
              0.2222222222222222,
              "#7201a8"
             ],
             [
              0.3333333333333333,
              "#9c179e"
             ],
             [
              0.4444444444444444,
              "#bd3786"
             ],
             [
              0.5555555555555556,
              "#d8576b"
             ],
             [
              0.6666666666666666,
              "#ed7953"
             ],
             [
              0.7777777777777778,
              "#fb9f3a"
             ],
             [
              0.8888888888888888,
              "#fdca26"
             ],
             [
              1,
              "#f0f921"
             ]
            ],
            "type": "heatmap"
           }
          ],
          "histogram": [
           {
            "marker": {
             "pattern": {
              "fillmode": "overlay",
              "size": 10,
              "solidity": 0.2
             }
            },
            "type": "histogram"
           }
          ],
          "histogram2d": [
           {
            "colorbar": {
             "outlinewidth": 0,
             "ticks": ""
            },
            "colorscale": [
             [
              0,
              "#0d0887"
             ],
             [
              0.1111111111111111,
              "#46039f"
             ],
             [
              0.2222222222222222,
              "#7201a8"
             ],
             [
              0.3333333333333333,
              "#9c179e"
             ],
             [
              0.4444444444444444,
              "#bd3786"
             ],
             [
              0.5555555555555556,
              "#d8576b"
             ],
             [
              0.6666666666666666,
              "#ed7953"
             ],
             [
              0.7777777777777778,
              "#fb9f3a"
             ],
             [
              0.8888888888888888,
              "#fdca26"
             ],
             [
              1,
              "#f0f921"
             ]
            ],
            "type": "histogram2d"
           }
          ],
          "histogram2dcontour": [
           {
            "colorbar": {
             "outlinewidth": 0,
             "ticks": ""
            },
            "colorscale": [
             [
              0,
              "#0d0887"
             ],
             [
              0.1111111111111111,
              "#46039f"
             ],
             [
              0.2222222222222222,
              "#7201a8"
             ],
             [
              0.3333333333333333,
              "#9c179e"
             ],
             [
              0.4444444444444444,
              "#bd3786"
             ],
             [
              0.5555555555555556,
              "#d8576b"
             ],
             [
              0.6666666666666666,
              "#ed7953"
             ],
             [
              0.7777777777777778,
              "#fb9f3a"
             ],
             [
              0.8888888888888888,
              "#fdca26"
             ],
             [
              1,
              "#f0f921"
             ]
            ],
            "type": "histogram2dcontour"
           }
          ],
          "mesh3d": [
           {
            "colorbar": {
             "outlinewidth": 0,
             "ticks": ""
            },
            "type": "mesh3d"
           }
          ],
          "parcoords": [
           {
            "line": {
             "colorbar": {
              "outlinewidth": 0,
              "ticks": ""
             }
            },
            "type": "parcoords"
           }
          ],
          "pie": [
           {
            "automargin": true,
            "type": "pie"
           }
          ],
          "scatter": [
           {
            "fillpattern": {
             "fillmode": "overlay",
             "size": 10,
             "solidity": 0.2
            },
            "type": "scatter"
           }
          ],
          "scatter3d": [
           {
            "line": {
             "colorbar": {
              "outlinewidth": 0,
              "ticks": ""
             }
            },
            "marker": {
             "colorbar": {
              "outlinewidth": 0,
              "ticks": ""
             }
            },
            "type": "scatter3d"
           }
          ],
          "scattercarpet": [
           {
            "marker": {
             "colorbar": {
              "outlinewidth": 0,
              "ticks": ""
             }
            },
            "type": "scattercarpet"
           }
          ],
          "scattergeo": [
           {
            "marker": {
             "colorbar": {
              "outlinewidth": 0,
              "ticks": ""
             }
            },
            "type": "scattergeo"
           }
          ],
          "scattergl": [
           {
            "marker": {
             "colorbar": {
              "outlinewidth": 0,
              "ticks": ""
             }
            },
            "type": "scattergl"
           }
          ],
          "scattermap": [
           {
            "marker": {
             "colorbar": {
              "outlinewidth": 0,
              "ticks": ""
             }
            },
            "type": "scattermap"
           }
          ],
          "scattermapbox": [
           {
            "marker": {
             "colorbar": {
              "outlinewidth": 0,
              "ticks": ""
             }
            },
            "type": "scattermapbox"
           }
          ],
          "scatterpolar": [
           {
            "marker": {
             "colorbar": {
              "outlinewidth": 0,
              "ticks": ""
             }
            },
            "type": "scatterpolar"
           }
          ],
          "scatterpolargl": [
           {
            "marker": {
             "colorbar": {
              "outlinewidth": 0,
              "ticks": ""
             }
            },
            "type": "scatterpolargl"
           }
          ],
          "scatterternary": [
           {
            "marker": {
             "colorbar": {
              "outlinewidth": 0,
              "ticks": ""
             }
            },
            "type": "scatterternary"
           }
          ],
          "surface": [
           {
            "colorbar": {
             "outlinewidth": 0,
             "ticks": ""
            },
            "colorscale": [
             [
              0,
              "#0d0887"
             ],
             [
              0.1111111111111111,
              "#46039f"
             ],
             [
              0.2222222222222222,
              "#7201a8"
             ],
             [
              0.3333333333333333,
              "#9c179e"
             ],
             [
              0.4444444444444444,
              "#bd3786"
             ],
             [
              0.5555555555555556,
              "#d8576b"
             ],
             [
              0.6666666666666666,
              "#ed7953"
             ],
             [
              0.7777777777777778,
              "#fb9f3a"
             ],
             [
              0.8888888888888888,
              "#fdca26"
             ],
             [
              1,
              "#f0f921"
             ]
            ],
            "type": "surface"
           }
          ],
          "table": [
           {
            "cells": {
             "fill": {
              "color": "#EBF0F8"
             },
             "line": {
              "color": "white"
             }
            },
            "header": {
             "fill": {
              "color": "#C8D4E3"
             },
             "line": {
              "color": "white"
             }
            },
            "type": "table"
           }
          ]
         },
         "layout": {
          "annotationdefaults": {
           "arrowcolor": "#2a3f5f",
           "arrowhead": 0,
           "arrowwidth": 1
          },
          "autotypenumbers": "strict",
          "coloraxis": {
           "colorbar": {
            "outlinewidth": 0,
            "ticks": ""
           }
          },
          "colorscale": {
           "diverging": [
            [
             0,
             "#8e0152"
            ],
            [
             0.1,
             "#c51b7d"
            ],
            [
             0.2,
             "#de77ae"
            ],
            [
             0.3,
             "#f1b6da"
            ],
            [
             0.4,
             "#fde0ef"
            ],
            [
             0.5,
             "#f7f7f7"
            ],
            [
             0.6,
             "#e6f5d0"
            ],
            [
             0.7,
             "#b8e186"
            ],
            [
             0.8,
             "#7fbc41"
            ],
            [
             0.9,
             "#4d9221"
            ],
            [
             1,
             "#276419"
            ]
           ],
           "sequential": [
            [
             0,
             "#0d0887"
            ],
            [
             0.1111111111111111,
             "#46039f"
            ],
            [
             0.2222222222222222,
             "#7201a8"
            ],
            [
             0.3333333333333333,
             "#9c179e"
            ],
            [
             0.4444444444444444,
             "#bd3786"
            ],
            [
             0.5555555555555556,
             "#d8576b"
            ],
            [
             0.6666666666666666,
             "#ed7953"
            ],
            [
             0.7777777777777778,
             "#fb9f3a"
            ],
            [
             0.8888888888888888,
             "#fdca26"
            ],
            [
             1,
             "#f0f921"
            ]
           ],
           "sequentialminus": [
            [
             0,
             "#0d0887"
            ],
            [
             0.1111111111111111,
             "#46039f"
            ],
            [
             0.2222222222222222,
             "#7201a8"
            ],
            [
             0.3333333333333333,
             "#9c179e"
            ],
            [
             0.4444444444444444,
             "#bd3786"
            ],
            [
             0.5555555555555556,
             "#d8576b"
            ],
            [
             0.6666666666666666,
             "#ed7953"
            ],
            [
             0.7777777777777778,
             "#fb9f3a"
            ],
            [
             0.8888888888888888,
             "#fdca26"
            ],
            [
             1,
             "#f0f921"
            ]
           ]
          },
          "colorway": [
           "#636efa",
           "#EF553B",
           "#00cc96",
           "#ab63fa",
           "#FFA15A",
           "#19d3f3",
           "#FF6692",
           "#B6E880",
           "#FF97FF",
           "#FECB52"
          ],
          "font": {
           "color": "#2a3f5f"
          },
          "geo": {
           "bgcolor": "white",
           "lakecolor": "white",
           "landcolor": "#E5ECF6",
           "showlakes": true,
           "showland": true,
           "subunitcolor": "white"
          },
          "hoverlabel": {
           "align": "left"
          },
          "hovermode": "closest",
          "mapbox": {
           "style": "light"
          },
          "paper_bgcolor": "white",
          "plot_bgcolor": "#E5ECF6",
          "polar": {
           "angularaxis": {
            "gridcolor": "white",
            "linecolor": "white",
            "ticks": ""
           },
           "bgcolor": "#E5ECF6",
           "radialaxis": {
            "gridcolor": "white",
            "linecolor": "white",
            "ticks": ""
           }
          },
          "scene": {
           "xaxis": {
            "backgroundcolor": "#E5ECF6",
            "gridcolor": "white",
            "gridwidth": 2,
            "linecolor": "white",
            "showbackground": true,
            "ticks": "",
            "zerolinecolor": "white"
           },
           "yaxis": {
            "backgroundcolor": "#E5ECF6",
            "gridcolor": "white",
            "gridwidth": 2,
            "linecolor": "white",
            "showbackground": true,
            "ticks": "",
            "zerolinecolor": "white"
           },
           "zaxis": {
            "backgroundcolor": "#E5ECF6",
            "gridcolor": "white",
            "gridwidth": 2,
            "linecolor": "white",
            "showbackground": true,
            "ticks": "",
            "zerolinecolor": "white"
           }
          },
          "shapedefaults": {
           "line": {
            "color": "#2a3f5f"
           }
          },
          "ternary": {
           "aaxis": {
            "gridcolor": "white",
            "linecolor": "white",
            "ticks": ""
           },
           "baxis": {
            "gridcolor": "white",
            "linecolor": "white",
            "ticks": ""
           },
           "bgcolor": "#E5ECF6",
           "caxis": {
            "gridcolor": "white",
            "linecolor": "white",
            "ticks": ""
           }
          },
          "title": {
           "x": 0.05
          },
          "xaxis": {
           "automargin": true,
           "gridcolor": "white",
           "linecolor": "white",
           "ticks": "",
           "title": {
            "standoff": 15
           },
           "zerolinecolor": "white",
           "zerolinewidth": 2
          },
          "yaxis": {
           "automargin": true,
           "gridcolor": "white",
           "linecolor": "white",
           "ticks": "",
           "title": {
            "standoff": 15
           },
           "zerolinecolor": "white",
           "zerolinewidth": 2
          }
         }
        },
        "xaxis": {
         "anchor": "y",
         "categoryarray": [
          0,
          1
         ],
         "categoryorder": "array",
         "domain": [
          0,
          1
         ],
         "title": {
          "text": "Converted"
         }
        },
        "yaxis": {
         "anchor": "x",
         "domain": [
          0,
          1
         ],
         "title": {
          "text": "Page Views Per Visit"
         }
        }
       }
      }
     },
     "metadata": {},
     "output_type": "display_data"
    }
   ],
   "source": [
    "#boxplot coverted x totalvisits\n",
    "fig = px.box(df_leads, x='Converted', y='Page Views Per Visit', color='Converted')\n",
    "fig.show()"
   ]
  },
  {
   "cell_type": "code",
   "execution_count": 248,
   "id": "9f3a450f",
   "metadata": {},
   "outputs": [],
   "source": [
    "##criar uma tabela de contingencia\n",
    "contigency_table_lead_source = pd.crosstab(df_leads['Converted'], df_leads['Lead Source'])"
   ]
  },
  {
   "cell_type": "code",
   "execution_count": 249,
   "id": "4d9f3fd5",
   "metadata": {},
   "outputs": [
    {
     "data": {
      "text/html": [
       "<div>\n",
       "<style scoped>\n",
       "    .dataframe tbody tr th:only-of-type {\n",
       "        vertical-align: middle;\n",
       "    }\n",
       "\n",
       "    .dataframe tbody tr th {\n",
       "        vertical-align: top;\n",
       "    }\n",
       "\n",
       "    .dataframe thead th {\n",
       "        text-align: right;\n",
       "    }\n",
       "</style>\n",
       "<table border=\"1\" class=\"dataframe\">\n",
       "  <thead>\n",
       "    <tr style=\"text-align: right;\">\n",
       "      <th>Lead Source</th>\n",
       "      <th>Click2call</th>\n",
       "      <th>Direct Traffic</th>\n",
       "      <th>Facebook</th>\n",
       "      <th>Google</th>\n",
       "      <th>Live Chat</th>\n",
       "      <th>NC_EDM</th>\n",
       "      <th>Olark Chat</th>\n",
       "      <th>Organic Search</th>\n",
       "      <th>Pay per Click Ads</th>\n",
       "      <th>Press_Release</th>\n",
       "      <th>Reference</th>\n",
       "      <th>Referral Sites</th>\n",
       "      <th>Social Media</th>\n",
       "      <th>WeLearn</th>\n",
       "      <th>Welingak Website</th>\n",
       "      <th>bing</th>\n",
       "      <th>blog</th>\n",
       "      <th>testone</th>\n",
       "      <th>welearnblog_Home</th>\n",
       "      <th>youtubechannel</th>\n",
       "    </tr>\n",
       "    <tr>\n",
       "      <th>Converted</th>\n",
       "      <th></th>\n",
       "      <th></th>\n",
       "      <th></th>\n",
       "      <th></th>\n",
       "      <th></th>\n",
       "      <th></th>\n",
       "      <th></th>\n",
       "      <th></th>\n",
       "      <th></th>\n",
       "      <th></th>\n",
       "      <th></th>\n",
       "      <th></th>\n",
       "      <th></th>\n",
       "      <th></th>\n",
       "      <th></th>\n",
       "      <th></th>\n",
       "      <th></th>\n",
       "      <th></th>\n",
       "      <th></th>\n",
       "      <th></th>\n",
       "    </tr>\n",
       "  </thead>\n",
       "  <tbody>\n",
       "    <tr>\n",
       "      <th>0</th>\n",
       "      <td>1</td>\n",
       "      <td>1725</td>\n",
       "      <td>22</td>\n",
       "      <td>1726</td>\n",
       "      <td>0</td>\n",
       "      <td>0</td>\n",
       "      <td>1305</td>\n",
       "      <td>718</td>\n",
       "      <td>1</td>\n",
       "      <td>2</td>\n",
       "      <td>33</td>\n",
       "      <td>94</td>\n",
       "      <td>1</td>\n",
       "      <td>0</td>\n",
       "      <td>2</td>\n",
       "      <td>5</td>\n",
       "      <td>1</td>\n",
       "      <td>1</td>\n",
       "      <td>1</td>\n",
       "      <td>1</td>\n",
       "    </tr>\n",
       "    <tr>\n",
       "      <th>1</th>\n",
       "      <td>3</td>\n",
       "      <td>818</td>\n",
       "      <td>9</td>\n",
       "      <td>1147</td>\n",
       "      <td>2</td>\n",
       "      <td>1</td>\n",
       "      <td>448</td>\n",
       "      <td>436</td>\n",
       "      <td>0</td>\n",
       "      <td>0</td>\n",
       "      <td>410</td>\n",
       "      <td>31</td>\n",
       "      <td>1</td>\n",
       "      <td>1</td>\n",
       "      <td>127</td>\n",
       "      <td>1</td>\n",
       "      <td>0</td>\n",
       "      <td>0</td>\n",
       "      <td>0</td>\n",
       "      <td>0</td>\n",
       "    </tr>\n",
       "  </tbody>\n",
       "</table>\n",
       "</div>"
      ],
      "text/plain": [
       "Lead Source  Click2call  Direct Traffic  Facebook  Google  Live Chat  NC_EDM  \\\n",
       "Converted                                                                      \n",
       "0                     1            1725        22    1726          0       0   \n",
       "1                     3             818         9    1147          2       1   \n",
       "\n",
       "Lead Source  Olark Chat  Organic Search  Pay per Click Ads  Press_Release  \\\n",
       "Converted                                                                   \n",
       "0                  1305             718                  1              2   \n",
       "1                   448             436                  0              0   \n",
       "\n",
       "Lead Source  Reference  Referral Sites  Social Media  WeLearn  \\\n",
       "Converted                                                       \n",
       "0                   33              94             1        0   \n",
       "1                  410              31             1        1   \n",
       "\n",
       "Lead Source  Welingak Website  bing  blog  testone  welearnblog_Home  \\\n",
       "Converted                                                              \n",
       "0                           2     5     1        1                 1   \n",
       "1                         127     1     0        0                 0   \n",
       "\n",
       "Lead Source  youtubechannel  \n",
       "Converted                    \n",
       "0                         1  \n",
       "1                         0  "
      ]
     },
     "execution_count": 249,
     "metadata": {},
     "output_type": "execute_result"
    }
   ],
   "source": [
    "contigency_table_lead_source"
   ]
  },
  {
   "cell_type": "code",
   "execution_count": 250,
   "id": "7450ebab",
   "metadata": {},
   "outputs": [],
   "source": [
    "# Executar o teste de independencia quiquadrado\n",
    "chi2, p, dof, expected = chi2_contingency(contigency_table_lead_source)"
   ]
  },
  {
   "cell_type": "code",
   "execution_count": 251,
   "id": "394e149a",
   "metadata": {},
   "outputs": [
    {
     "name": "stdout",
     "output_type": "stream",
     "text": [
      "quiquadrado: 942.1372507753774\n",
      "Valor p: 1.1748671316223743e-187\n",
      "Grau de liberdade: 19\n",
      "Existe uma relação significativa entre converted e lead source? True\n"
     ]
    }
   ],
   "source": [
    "print(f'quiquadrado: {chi2}')\n",
    "print(f'Valor p: {p}')\n",
    "print(f'Grau de liberdade: {dof}')\n",
    "print(f'Existe uma relação significativa entre converted e lead source? {p < 0.05}')"
   ]
  },
  {
   "cell_type": "code",
   "execution_count": 252,
   "id": "2f7f6bc0",
   "metadata": {},
   "outputs": [],
   "source": [
    "##criar uma tabela de contingencia\n",
    "contigency_table_lead_origin = pd.crosstab(df_leads['Converted'], df_leads['Lead Origin'])"
   ]
  },
  {
   "cell_type": "code",
   "execution_count": 253,
   "id": "b1f647ba",
   "metadata": {},
   "outputs": [
    {
     "data": {
      "text/html": [
       "<div>\n",
       "<style scoped>\n",
       "    .dataframe tbody tr th:only-of-type {\n",
       "        vertical-align: middle;\n",
       "    }\n",
       "\n",
       "    .dataframe tbody tr th {\n",
       "        vertical-align: top;\n",
       "    }\n",
       "\n",
       "    .dataframe thead th {\n",
       "        text-align: right;\n",
       "    }\n",
       "</style>\n",
       "<table border=\"1\" class=\"dataframe\">\n",
       "  <thead>\n",
       "    <tr style=\"text-align: right;\">\n",
       "      <th>Lead Origin</th>\n",
       "      <th>API</th>\n",
       "      <th>Landing Page Submission</th>\n",
       "      <th>Lead Add Form</th>\n",
       "      <th>Lead Import</th>\n",
       "    </tr>\n",
       "    <tr>\n",
       "      <th>Converted</th>\n",
       "      <th></th>\n",
       "      <th></th>\n",
       "      <th></th>\n",
       "      <th></th>\n",
       "    </tr>\n",
       "  </thead>\n",
       "  <tbody>\n",
       "    <tr>\n",
       "      <th>0</th>\n",
       "      <td>2463</td>\n",
       "      <td>3118</td>\n",
       "      <td>37</td>\n",
       "      <td>21</td>\n",
       "    </tr>\n",
       "    <tr>\n",
       "      <th>1</th>\n",
       "      <td>1115</td>\n",
       "      <td>1767</td>\n",
       "      <td>544</td>\n",
       "      <td>9</td>\n",
       "    </tr>\n",
       "  </tbody>\n",
       "</table>\n",
       "</div>"
      ],
      "text/plain": [
       "Lead Origin   API  Landing Page Submission  Lead Add Form  Lead Import\n",
       "Converted                                                             \n",
       "0            2463                     3118             37           21\n",
       "1            1115                     1767            544            9"
      ]
     },
     "execution_count": 253,
     "metadata": {},
     "output_type": "execute_result"
    }
   ],
   "source": [
    "contigency_table_lead_origin"
   ]
  },
  {
   "cell_type": "code",
   "execution_count": 254,
   "id": "7b343f2f",
   "metadata": {},
   "outputs": [],
   "source": [
    "# Executar o teste de independencia quiquadrado\n",
    "chi2, p, dof, expected = chi2_contingency(contigency_table_lead_origin)"
   ]
  },
  {
   "cell_type": "code",
   "execution_count": 255,
   "id": "61c32194",
   "metadata": {},
   "outputs": [
    {
     "name": "stdout",
     "output_type": "stream",
     "text": [
      "quiquadrado: 843.1212236836468\n",
      "Valor p: 1.9228780932726904e-182\n",
      "Grau de liberdade: 3\n",
      "Existe uma relação significativa entre converted e lead origin? True\n"
     ]
    }
   ],
   "source": [
    "print(f'quiquadrado: {chi2}')\n",
    "print(f'Valor p: {p}')\n",
    "print(f'Grau de liberdade: {dof}')\n",
    "print(f'Existe uma relação significativa entre converted e lead origin? {p < 0.05}')"
   ]
  },
  {
   "cell_type": "markdown",
   "id": "b202e0d9",
   "metadata": {},
   "source": [
    "### Preparação para os dados "
   ]
  },
  {
   "cell_type": "code",
   "execution_count": 256,
   "id": "f83917fa",
   "metadata": {},
   "outputs": [],
   "source": [
    "X = df_leads.drop(columns=['Converted'])\n",
    "y = df_leads['Converted']"
   ]
  },
  {
   "cell_type": "code",
   "execution_count": 257,
   "id": "11ca657c",
   "metadata": {},
   "outputs": [],
   "source": [
    "#criar transformer\n",
    "numeric_features = X.select_dtypes(include=['number']).columns\n",
    "\n",
    "categorical_features = X.select_dtypes(include=['object']).columns\n",
    "\n",
    "preprocessor = ColumnTransformer(\n",
    "    transformers=[\n",
    "        ('num', StandardScaler(), numeric_features),\n",
    "        ('cat', OneHotEncoder(handle_unknown='ignore'), categorical_features)\n",
    "    ]\n",
    ")"
   ]
  },
  {
   "cell_type": "code",
   "execution_count": 258,
   "id": "6f1bbe53",
   "metadata": {},
   "outputs": [],
   "source": [
    "#dividr os dados em treinamento e teste\n",
    "X_train, X_test, y_train, y_test = train_test_split(X, y, test_size=0.2, random_state=51)\n",
    "\n",
    "#aplicar colum transformer\n",
    "X_train = preprocessor.fit_transform(X_train)\n",
    "X_test = preprocessor.transform(X_test)"
   ]
  },
  {
   "cell_type": "markdown",
   "id": "50543b10",
   "metadata": {},
   "source": [
    "### Treinamento do modelo\n",
    "\n"
   ]
  },
  {
   "cell_type": "code",
   "execution_count": 259,
   "id": "df0713a5",
   "metadata": {},
   "outputs": [],
   "source": [
    "#criar o modelo de bagging Classifier\n",
    "bagging_model = BaggingClassifier(\n",
    "    estimator=LogisticRegression(), \n",
    "    n_estimators=10,\n",
    "    random_state=51,\n",
    "    max_samples=0.3,\n",
    "    max_features=0.3\n",
    ")"
   ]
  },
  {
   "cell_type": "code",
   "execution_count": 260,
   "id": "181ae003",
   "metadata": {},
   "outputs": [
    {
     "data": {
      "text/html": [
       "<style>#sk-container-id-7 {\n",
       "  /* Definition of color scheme common for light and dark mode */\n",
       "  --sklearn-color-text: #000;\n",
       "  --sklearn-color-text-muted: #666;\n",
       "  --sklearn-color-line: gray;\n",
       "  /* Definition of color scheme for unfitted estimators */\n",
       "  --sklearn-color-unfitted-level-0: #fff5e6;\n",
       "  --sklearn-color-unfitted-level-1: #f6e4d2;\n",
       "  --sklearn-color-unfitted-level-2: #ffe0b3;\n",
       "  --sklearn-color-unfitted-level-3: chocolate;\n",
       "  /* Definition of color scheme for fitted estimators */\n",
       "  --sklearn-color-fitted-level-0: #f0f8ff;\n",
       "  --sklearn-color-fitted-level-1: #d4ebff;\n",
       "  --sklearn-color-fitted-level-2: #b3dbfd;\n",
       "  --sklearn-color-fitted-level-3: cornflowerblue;\n",
       "\n",
       "  /* Specific color for light theme */\n",
       "  --sklearn-color-text-on-default-background: var(--sg-text-color, var(--theme-code-foreground, var(--jp-content-font-color1, black)));\n",
       "  --sklearn-color-background: var(--sg-background-color, var(--theme-background, var(--jp-layout-color0, white)));\n",
       "  --sklearn-color-border-box: var(--sg-text-color, var(--theme-code-foreground, var(--jp-content-font-color1, black)));\n",
       "  --sklearn-color-icon: #696969;\n",
       "\n",
       "  @media (prefers-color-scheme: dark) {\n",
       "    /* Redefinition of color scheme for dark theme */\n",
       "    --sklearn-color-text-on-default-background: var(--sg-text-color, var(--theme-code-foreground, var(--jp-content-font-color1, white)));\n",
       "    --sklearn-color-background: var(--sg-background-color, var(--theme-background, var(--jp-layout-color0, #111)));\n",
       "    --sklearn-color-border-box: var(--sg-text-color, var(--theme-code-foreground, var(--jp-content-font-color1, white)));\n",
       "    --sklearn-color-icon: #878787;\n",
       "  }\n",
       "}\n",
       "\n",
       "#sk-container-id-7 {\n",
       "  color: var(--sklearn-color-text);\n",
       "}\n",
       "\n",
       "#sk-container-id-7 pre {\n",
       "  padding: 0;\n",
       "}\n",
       "\n",
       "#sk-container-id-7 input.sk-hidden--visually {\n",
       "  border: 0;\n",
       "  clip: rect(1px 1px 1px 1px);\n",
       "  clip: rect(1px, 1px, 1px, 1px);\n",
       "  height: 1px;\n",
       "  margin: -1px;\n",
       "  overflow: hidden;\n",
       "  padding: 0;\n",
       "  position: absolute;\n",
       "  width: 1px;\n",
       "}\n",
       "\n",
       "#sk-container-id-7 div.sk-dashed-wrapped {\n",
       "  border: 1px dashed var(--sklearn-color-line);\n",
       "  margin: 0 0.4em 0.5em 0.4em;\n",
       "  box-sizing: border-box;\n",
       "  padding-bottom: 0.4em;\n",
       "  background-color: var(--sklearn-color-background);\n",
       "}\n",
       "\n",
       "#sk-container-id-7 div.sk-container {\n",
       "  /* jupyter's `normalize.less` sets `[hidden] { display: none; }`\n",
       "     but bootstrap.min.css set `[hidden] { display: none !important; }`\n",
       "     so we also need the `!important` here to be able to override the\n",
       "     default hidden behavior on the sphinx rendered scikit-learn.org.\n",
       "     See: https://github.com/scikit-learn/scikit-learn/issues/21755 */\n",
       "  display: inline-block !important;\n",
       "  position: relative;\n",
       "}\n",
       "\n",
       "#sk-container-id-7 div.sk-text-repr-fallback {\n",
       "  display: none;\n",
       "}\n",
       "\n",
       "div.sk-parallel-item,\n",
       "div.sk-serial,\n",
       "div.sk-item {\n",
       "  /* draw centered vertical line to link estimators */\n",
       "  background-image: linear-gradient(var(--sklearn-color-text-on-default-background), var(--sklearn-color-text-on-default-background));\n",
       "  background-size: 2px 100%;\n",
       "  background-repeat: no-repeat;\n",
       "  background-position: center center;\n",
       "}\n",
       "\n",
       "/* Parallel-specific style estimator block */\n",
       "\n",
       "#sk-container-id-7 div.sk-parallel-item::after {\n",
       "  content: \"\";\n",
       "  width: 100%;\n",
       "  border-bottom: 2px solid var(--sklearn-color-text-on-default-background);\n",
       "  flex-grow: 1;\n",
       "}\n",
       "\n",
       "#sk-container-id-7 div.sk-parallel {\n",
       "  display: flex;\n",
       "  align-items: stretch;\n",
       "  justify-content: center;\n",
       "  background-color: var(--sklearn-color-background);\n",
       "  position: relative;\n",
       "}\n",
       "\n",
       "#sk-container-id-7 div.sk-parallel-item {\n",
       "  display: flex;\n",
       "  flex-direction: column;\n",
       "}\n",
       "\n",
       "#sk-container-id-7 div.sk-parallel-item:first-child::after {\n",
       "  align-self: flex-end;\n",
       "  width: 50%;\n",
       "}\n",
       "\n",
       "#sk-container-id-7 div.sk-parallel-item:last-child::after {\n",
       "  align-self: flex-start;\n",
       "  width: 50%;\n",
       "}\n",
       "\n",
       "#sk-container-id-7 div.sk-parallel-item:only-child::after {\n",
       "  width: 0;\n",
       "}\n",
       "\n",
       "/* Serial-specific style estimator block */\n",
       "\n",
       "#sk-container-id-7 div.sk-serial {\n",
       "  display: flex;\n",
       "  flex-direction: column;\n",
       "  align-items: center;\n",
       "  background-color: var(--sklearn-color-background);\n",
       "  padding-right: 1em;\n",
       "  padding-left: 1em;\n",
       "}\n",
       "\n",
       "\n",
       "/* Toggleable style: style used for estimator/Pipeline/ColumnTransformer box that is\n",
       "clickable and can be expanded/collapsed.\n",
       "- Pipeline and ColumnTransformer use this feature and define the default style\n",
       "- Estimators will overwrite some part of the style using the `sk-estimator` class\n",
       "*/\n",
       "\n",
       "/* Pipeline and ColumnTransformer style (default) */\n",
       "\n",
       "#sk-container-id-7 div.sk-toggleable {\n",
       "  /* Default theme specific background. It is overwritten whether we have a\n",
       "  specific estimator or a Pipeline/ColumnTransformer */\n",
       "  background-color: var(--sklearn-color-background);\n",
       "}\n",
       "\n",
       "/* Toggleable label */\n",
       "#sk-container-id-7 label.sk-toggleable__label {\n",
       "  cursor: pointer;\n",
       "  display: flex;\n",
       "  width: 100%;\n",
       "  margin-bottom: 0;\n",
       "  padding: 0.5em;\n",
       "  box-sizing: border-box;\n",
       "  text-align: center;\n",
       "  align-items: start;\n",
       "  justify-content: space-between;\n",
       "  gap: 0.5em;\n",
       "}\n",
       "\n",
       "#sk-container-id-7 label.sk-toggleable__label .caption {\n",
       "  font-size: 0.6rem;\n",
       "  font-weight: lighter;\n",
       "  color: var(--sklearn-color-text-muted);\n",
       "}\n",
       "\n",
       "#sk-container-id-7 label.sk-toggleable__label-arrow:before {\n",
       "  /* Arrow on the left of the label */\n",
       "  content: \"▸\";\n",
       "  float: left;\n",
       "  margin-right: 0.25em;\n",
       "  color: var(--sklearn-color-icon);\n",
       "}\n",
       "\n",
       "#sk-container-id-7 label.sk-toggleable__label-arrow:hover:before {\n",
       "  color: var(--sklearn-color-text);\n",
       "}\n",
       "\n",
       "/* Toggleable content - dropdown */\n",
       "\n",
       "#sk-container-id-7 div.sk-toggleable__content {\n",
       "  display: none;\n",
       "  text-align: left;\n",
       "  /* unfitted */\n",
       "  background-color: var(--sklearn-color-unfitted-level-0);\n",
       "}\n",
       "\n",
       "#sk-container-id-7 div.sk-toggleable__content.fitted {\n",
       "  /* fitted */\n",
       "  background-color: var(--sklearn-color-fitted-level-0);\n",
       "}\n",
       "\n",
       "#sk-container-id-7 div.sk-toggleable__content pre {\n",
       "  margin: 0.2em;\n",
       "  border-radius: 0.25em;\n",
       "  color: var(--sklearn-color-text);\n",
       "  /* unfitted */\n",
       "  background-color: var(--sklearn-color-unfitted-level-0);\n",
       "}\n",
       "\n",
       "#sk-container-id-7 div.sk-toggleable__content.fitted pre {\n",
       "  /* unfitted */\n",
       "  background-color: var(--sklearn-color-fitted-level-0);\n",
       "}\n",
       "\n",
       "#sk-container-id-7 input.sk-toggleable__control:checked~div.sk-toggleable__content {\n",
       "  /* Expand drop-down */\n",
       "  display: block;\n",
       "  width: 100%;\n",
       "  overflow: visible;\n",
       "}\n",
       "\n",
       "#sk-container-id-7 input.sk-toggleable__control:checked~label.sk-toggleable__label-arrow:before {\n",
       "  content: \"▾\";\n",
       "}\n",
       "\n",
       "/* Pipeline/ColumnTransformer-specific style */\n",
       "\n",
       "#sk-container-id-7 div.sk-label input.sk-toggleable__control:checked~label.sk-toggleable__label {\n",
       "  color: var(--sklearn-color-text);\n",
       "  background-color: var(--sklearn-color-unfitted-level-2);\n",
       "}\n",
       "\n",
       "#sk-container-id-7 div.sk-label.fitted input.sk-toggleable__control:checked~label.sk-toggleable__label {\n",
       "  background-color: var(--sklearn-color-fitted-level-2);\n",
       "}\n",
       "\n",
       "/* Estimator-specific style */\n",
       "\n",
       "/* Colorize estimator box */\n",
       "#sk-container-id-7 div.sk-estimator input.sk-toggleable__control:checked~label.sk-toggleable__label {\n",
       "  /* unfitted */\n",
       "  background-color: var(--sklearn-color-unfitted-level-2);\n",
       "}\n",
       "\n",
       "#sk-container-id-7 div.sk-estimator.fitted input.sk-toggleable__control:checked~label.sk-toggleable__label {\n",
       "  /* fitted */\n",
       "  background-color: var(--sklearn-color-fitted-level-2);\n",
       "}\n",
       "\n",
       "#sk-container-id-7 div.sk-label label.sk-toggleable__label,\n",
       "#sk-container-id-7 div.sk-label label {\n",
       "  /* The background is the default theme color */\n",
       "  color: var(--sklearn-color-text-on-default-background);\n",
       "}\n",
       "\n",
       "/* On hover, darken the color of the background */\n",
       "#sk-container-id-7 div.sk-label:hover label.sk-toggleable__label {\n",
       "  color: var(--sklearn-color-text);\n",
       "  background-color: var(--sklearn-color-unfitted-level-2);\n",
       "}\n",
       "\n",
       "/* Label box, darken color on hover, fitted */\n",
       "#sk-container-id-7 div.sk-label.fitted:hover label.sk-toggleable__label.fitted {\n",
       "  color: var(--sklearn-color-text);\n",
       "  background-color: var(--sklearn-color-fitted-level-2);\n",
       "}\n",
       "\n",
       "/* Estimator label */\n",
       "\n",
       "#sk-container-id-7 div.sk-label label {\n",
       "  font-family: monospace;\n",
       "  font-weight: bold;\n",
       "  display: inline-block;\n",
       "  line-height: 1.2em;\n",
       "}\n",
       "\n",
       "#sk-container-id-7 div.sk-label-container {\n",
       "  text-align: center;\n",
       "}\n",
       "\n",
       "/* Estimator-specific */\n",
       "#sk-container-id-7 div.sk-estimator {\n",
       "  font-family: monospace;\n",
       "  border: 1px dotted var(--sklearn-color-border-box);\n",
       "  border-radius: 0.25em;\n",
       "  box-sizing: border-box;\n",
       "  margin-bottom: 0.5em;\n",
       "  /* unfitted */\n",
       "  background-color: var(--sklearn-color-unfitted-level-0);\n",
       "}\n",
       "\n",
       "#sk-container-id-7 div.sk-estimator.fitted {\n",
       "  /* fitted */\n",
       "  background-color: var(--sklearn-color-fitted-level-0);\n",
       "}\n",
       "\n",
       "/* on hover */\n",
       "#sk-container-id-7 div.sk-estimator:hover {\n",
       "  /* unfitted */\n",
       "  background-color: var(--sklearn-color-unfitted-level-2);\n",
       "}\n",
       "\n",
       "#sk-container-id-7 div.sk-estimator.fitted:hover {\n",
       "  /* fitted */\n",
       "  background-color: var(--sklearn-color-fitted-level-2);\n",
       "}\n",
       "\n",
       "/* Specification for estimator info (e.g. \"i\" and \"?\") */\n",
       "\n",
       "/* Common style for \"i\" and \"?\" */\n",
       "\n",
       ".sk-estimator-doc-link,\n",
       "a:link.sk-estimator-doc-link,\n",
       "a:visited.sk-estimator-doc-link {\n",
       "  float: right;\n",
       "  font-size: smaller;\n",
       "  line-height: 1em;\n",
       "  font-family: monospace;\n",
       "  background-color: var(--sklearn-color-background);\n",
       "  border-radius: 1em;\n",
       "  height: 1em;\n",
       "  width: 1em;\n",
       "  text-decoration: none !important;\n",
       "  margin-left: 0.5em;\n",
       "  text-align: center;\n",
       "  /* unfitted */\n",
       "  border: var(--sklearn-color-unfitted-level-1) 1pt solid;\n",
       "  color: var(--sklearn-color-unfitted-level-1);\n",
       "}\n",
       "\n",
       ".sk-estimator-doc-link.fitted,\n",
       "a:link.sk-estimator-doc-link.fitted,\n",
       "a:visited.sk-estimator-doc-link.fitted {\n",
       "  /* fitted */\n",
       "  border: var(--sklearn-color-fitted-level-1) 1pt solid;\n",
       "  color: var(--sklearn-color-fitted-level-1);\n",
       "}\n",
       "\n",
       "/* On hover */\n",
       "div.sk-estimator:hover .sk-estimator-doc-link:hover,\n",
       ".sk-estimator-doc-link:hover,\n",
       "div.sk-label-container:hover .sk-estimator-doc-link:hover,\n",
       ".sk-estimator-doc-link:hover {\n",
       "  /* unfitted */\n",
       "  background-color: var(--sklearn-color-unfitted-level-3);\n",
       "  color: var(--sklearn-color-background);\n",
       "  text-decoration: none;\n",
       "}\n",
       "\n",
       "div.sk-estimator.fitted:hover .sk-estimator-doc-link.fitted:hover,\n",
       ".sk-estimator-doc-link.fitted:hover,\n",
       "div.sk-label-container:hover .sk-estimator-doc-link.fitted:hover,\n",
       ".sk-estimator-doc-link.fitted:hover {\n",
       "  /* fitted */\n",
       "  background-color: var(--sklearn-color-fitted-level-3);\n",
       "  color: var(--sklearn-color-background);\n",
       "  text-decoration: none;\n",
       "}\n",
       "\n",
       "/* Span, style for the box shown on hovering the info icon */\n",
       ".sk-estimator-doc-link span {\n",
       "  display: none;\n",
       "  z-index: 9999;\n",
       "  position: relative;\n",
       "  font-weight: normal;\n",
       "  right: .2ex;\n",
       "  padding: .5ex;\n",
       "  margin: .5ex;\n",
       "  width: min-content;\n",
       "  min-width: 20ex;\n",
       "  max-width: 50ex;\n",
       "  color: var(--sklearn-color-text);\n",
       "  box-shadow: 2pt 2pt 4pt #999;\n",
       "  /* unfitted */\n",
       "  background: var(--sklearn-color-unfitted-level-0);\n",
       "  border: .5pt solid var(--sklearn-color-unfitted-level-3);\n",
       "}\n",
       "\n",
       ".sk-estimator-doc-link.fitted span {\n",
       "  /* fitted */\n",
       "  background: var(--sklearn-color-fitted-level-0);\n",
       "  border: var(--sklearn-color-fitted-level-3);\n",
       "}\n",
       "\n",
       ".sk-estimator-doc-link:hover span {\n",
       "  display: block;\n",
       "}\n",
       "\n",
       "/* \"?\"-specific style due to the `<a>` HTML tag */\n",
       "\n",
       "#sk-container-id-7 a.estimator_doc_link {\n",
       "  float: right;\n",
       "  font-size: 1rem;\n",
       "  line-height: 1em;\n",
       "  font-family: monospace;\n",
       "  background-color: var(--sklearn-color-background);\n",
       "  border-radius: 1rem;\n",
       "  height: 1rem;\n",
       "  width: 1rem;\n",
       "  text-decoration: none;\n",
       "  /* unfitted */\n",
       "  color: var(--sklearn-color-unfitted-level-1);\n",
       "  border: var(--sklearn-color-unfitted-level-1) 1pt solid;\n",
       "}\n",
       "\n",
       "#sk-container-id-7 a.estimator_doc_link.fitted {\n",
       "  /* fitted */\n",
       "  border: var(--sklearn-color-fitted-level-1) 1pt solid;\n",
       "  color: var(--sklearn-color-fitted-level-1);\n",
       "}\n",
       "\n",
       "/* On hover */\n",
       "#sk-container-id-7 a.estimator_doc_link:hover {\n",
       "  /* unfitted */\n",
       "  background-color: var(--sklearn-color-unfitted-level-3);\n",
       "  color: var(--sklearn-color-background);\n",
       "  text-decoration: none;\n",
       "}\n",
       "\n",
       "#sk-container-id-7 a.estimator_doc_link.fitted:hover {\n",
       "  /* fitted */\n",
       "  background-color: var(--sklearn-color-fitted-level-3);\n",
       "}\n",
       "\n",
       ".estimator-table summary {\n",
       "    padding: .5rem;\n",
       "    font-family: monospace;\n",
       "    cursor: pointer;\n",
       "}\n",
       "\n",
       ".estimator-table details[open] {\n",
       "    padding-left: 0.1rem;\n",
       "    padding-right: 0.1rem;\n",
       "    padding-bottom: 0.3rem;\n",
       "}\n",
       "\n",
       ".estimator-table .parameters-table {\n",
       "    margin-left: auto !important;\n",
       "    margin-right: auto !important;\n",
       "}\n",
       "\n",
       ".estimator-table .parameters-table tr:nth-child(odd) {\n",
       "    background-color: #fff;\n",
       "}\n",
       "\n",
       ".estimator-table .parameters-table tr:nth-child(even) {\n",
       "    background-color: #f6f6f6;\n",
       "}\n",
       "\n",
       ".estimator-table .parameters-table tr:hover {\n",
       "    background-color: #e0e0e0;\n",
       "}\n",
       "\n",
       ".estimator-table table td {\n",
       "    border: 1px solid rgba(106, 105, 104, 0.232);\n",
       "}\n",
       "\n",
       ".user-set td {\n",
       "    color:rgb(255, 94, 0);\n",
       "    text-align: left;\n",
       "}\n",
       "\n",
       ".user-set td.value pre {\n",
       "    color:rgb(255, 94, 0) !important;\n",
       "    background-color: transparent !important;\n",
       "}\n",
       "\n",
       ".default td {\n",
       "    color: black;\n",
       "    text-align: left;\n",
       "}\n",
       "\n",
       ".user-set td i,\n",
       ".default td i {\n",
       "    color: black;\n",
       "}\n",
       "\n",
       ".copy-paste-icon {\n",
       "    background-image: url(data:image/svg+xml;base64,PHN2ZyB4bWxucz0iaHR0cDovL3d3dy53My5vcmcvMjAwMC9zdmciIHZpZXdCb3g9IjAgMCA0NDggNTEyIj48IS0tIUZvbnQgQXdlc29tZSBGcmVlIDYuNy4yIGJ5IEBmb250YXdlc29tZSAtIGh0dHBzOi8vZm9udGF3ZXNvbWUuY29tIExpY2Vuc2UgLSBodHRwczovL2ZvbnRhd2Vzb21lLmNvbS9saWNlbnNlL2ZyZWUgQ29weXJpZ2h0IDIwMjUgRm9udGljb25zLCBJbmMuLS0+PHBhdGggZD0iTTIwOCAwTDMzMi4xIDBjMTIuNyAwIDI0LjkgNS4xIDMzLjkgMTQuMWw2Ny45IDY3LjljOSA5IDE0LjEgMjEuMiAxNC4xIDMzLjlMNDQ4IDMzNmMwIDI2LjUtMjEuNSA0OC00OCA0OGwtMTkyIDBjLTI2LjUgMC00OC0yMS41LTQ4LTQ4bDAtMjg4YzAtMjYuNSAyMS41LTQ4IDQ4LTQ4ek00OCAxMjhsODAgMCAwIDY0LTY0IDAgMCAyNTYgMTkyIDAgMC0zMiA2NCAwIDAgNDhjMCAyNi41LTIxLjUgNDgtNDggNDhMNDggNTEyYy0yNi41IDAtNDgtMjEuNS00OC00OEwwIDE3NmMwLTI2LjUgMjEuNS00OCA0OC00OHoiLz48L3N2Zz4=);\n",
       "    background-repeat: no-repeat;\n",
       "    background-size: 14px 14px;\n",
       "    background-position: 0;\n",
       "    display: inline-block;\n",
       "    width: 14px;\n",
       "    height: 14px;\n",
       "    cursor: pointer;\n",
       "}\n",
       "</style><body><div id=\"sk-container-id-7\" class=\"sk-top-container\"><div class=\"sk-text-repr-fallback\"><pre>BaggingClassifier(estimator=LogisticRegression(), max_features=0.3,\n",
       "                  max_samples=0.3, random_state=51)</pre><b>In a Jupyter environment, please rerun this cell to show the HTML representation or trust the notebook. <br />On GitHub, the HTML representation is unable to render, please try loading this page with nbviewer.org.</b></div><div class=\"sk-container\" hidden><div class=\"sk-item sk-dashed-wrapped\"><div class=\"sk-label-container\"><div class=\"sk-label fitted sk-toggleable\"><input class=\"sk-toggleable__control sk-hidden--visually\" id=\"sk-estimator-id-19\" type=\"checkbox\" ><label for=\"sk-estimator-id-19\" class=\"sk-toggleable__label fitted sk-toggleable__label-arrow\"><div><div>BaggingClassifier</div></div><div><a class=\"sk-estimator-doc-link fitted\" rel=\"noreferrer\" target=\"_blank\" href=\"https://scikit-learn.org/1.7/modules/generated/sklearn.ensemble.BaggingClassifier.html\">?<span>Documentation for BaggingClassifier</span></a><span class=\"sk-estimator-doc-link fitted\">i<span>Fitted</span></span></div></label><div class=\"sk-toggleable__content fitted\" data-param-prefix=\"\">\n",
       "        <div class=\"estimator-table\">\n",
       "            <details>\n",
       "                <summary>Parameters</summary>\n",
       "                <table class=\"parameters-table\">\n",
       "                  <tbody>\n",
       "                    \n",
       "        <tr class=\"user-set\">\n",
       "            <td><i class=\"copy-paste-icon\"\n",
       "                 onclick=\"copyToClipboard('estimator',\n",
       "                          this.parentElement.nextElementSibling)\"\n",
       "            ></i></td>\n",
       "            <td class=\"param\">estimator&nbsp;</td>\n",
       "            <td class=\"value\">LogisticRegression()</td>\n",
       "        </tr>\n",
       "    \n",
       "\n",
       "        <tr class=\"default\">\n",
       "            <td><i class=\"copy-paste-icon\"\n",
       "                 onclick=\"copyToClipboard('n_estimators',\n",
       "                          this.parentElement.nextElementSibling)\"\n",
       "            ></i></td>\n",
       "            <td class=\"param\">n_estimators&nbsp;</td>\n",
       "            <td class=\"value\">10</td>\n",
       "        </tr>\n",
       "    \n",
       "\n",
       "        <tr class=\"user-set\">\n",
       "            <td><i class=\"copy-paste-icon\"\n",
       "                 onclick=\"copyToClipboard('max_samples',\n",
       "                          this.parentElement.nextElementSibling)\"\n",
       "            ></i></td>\n",
       "            <td class=\"param\">max_samples&nbsp;</td>\n",
       "            <td class=\"value\">0.3</td>\n",
       "        </tr>\n",
       "    \n",
       "\n",
       "        <tr class=\"user-set\">\n",
       "            <td><i class=\"copy-paste-icon\"\n",
       "                 onclick=\"copyToClipboard('max_features',\n",
       "                          this.parentElement.nextElementSibling)\"\n",
       "            ></i></td>\n",
       "            <td class=\"param\">max_features&nbsp;</td>\n",
       "            <td class=\"value\">0.3</td>\n",
       "        </tr>\n",
       "    \n",
       "\n",
       "        <tr class=\"default\">\n",
       "            <td><i class=\"copy-paste-icon\"\n",
       "                 onclick=\"copyToClipboard('bootstrap',\n",
       "                          this.parentElement.nextElementSibling)\"\n",
       "            ></i></td>\n",
       "            <td class=\"param\">bootstrap&nbsp;</td>\n",
       "            <td class=\"value\">True</td>\n",
       "        </tr>\n",
       "    \n",
       "\n",
       "        <tr class=\"default\">\n",
       "            <td><i class=\"copy-paste-icon\"\n",
       "                 onclick=\"copyToClipboard('bootstrap_features',\n",
       "                          this.parentElement.nextElementSibling)\"\n",
       "            ></i></td>\n",
       "            <td class=\"param\">bootstrap_features&nbsp;</td>\n",
       "            <td class=\"value\">False</td>\n",
       "        </tr>\n",
       "    \n",
       "\n",
       "        <tr class=\"default\">\n",
       "            <td><i class=\"copy-paste-icon\"\n",
       "                 onclick=\"copyToClipboard('oob_score',\n",
       "                          this.parentElement.nextElementSibling)\"\n",
       "            ></i></td>\n",
       "            <td class=\"param\">oob_score&nbsp;</td>\n",
       "            <td class=\"value\">False</td>\n",
       "        </tr>\n",
       "    \n",
       "\n",
       "        <tr class=\"default\">\n",
       "            <td><i class=\"copy-paste-icon\"\n",
       "                 onclick=\"copyToClipboard('warm_start',\n",
       "                          this.parentElement.nextElementSibling)\"\n",
       "            ></i></td>\n",
       "            <td class=\"param\">warm_start&nbsp;</td>\n",
       "            <td class=\"value\">False</td>\n",
       "        </tr>\n",
       "    \n",
       "\n",
       "        <tr class=\"default\">\n",
       "            <td><i class=\"copy-paste-icon\"\n",
       "                 onclick=\"copyToClipboard('n_jobs',\n",
       "                          this.parentElement.nextElementSibling)\"\n",
       "            ></i></td>\n",
       "            <td class=\"param\">n_jobs&nbsp;</td>\n",
       "            <td class=\"value\">None</td>\n",
       "        </tr>\n",
       "    \n",
       "\n",
       "        <tr class=\"user-set\">\n",
       "            <td><i class=\"copy-paste-icon\"\n",
       "                 onclick=\"copyToClipboard('random_state',\n",
       "                          this.parentElement.nextElementSibling)\"\n",
       "            ></i></td>\n",
       "            <td class=\"param\">random_state&nbsp;</td>\n",
       "            <td class=\"value\">51</td>\n",
       "        </tr>\n",
       "    \n",
       "\n",
       "        <tr class=\"default\">\n",
       "            <td><i class=\"copy-paste-icon\"\n",
       "                 onclick=\"copyToClipboard('verbose',\n",
       "                          this.parentElement.nextElementSibling)\"\n",
       "            ></i></td>\n",
       "            <td class=\"param\">verbose&nbsp;</td>\n",
       "            <td class=\"value\">0</td>\n",
       "        </tr>\n",
       "    \n",
       "                  </tbody>\n",
       "                </table>\n",
       "            </details>\n",
       "        </div>\n",
       "    </div></div></div><div class=\"sk-parallel\"><div class=\"sk-parallel-item\"><div class=\"sk-item\"><div class=\"sk-label-container\"><div class=\"sk-label fitted sk-toggleable\"><input class=\"sk-toggleable__control sk-hidden--visually\" id=\"sk-estimator-id-20\" type=\"checkbox\" ><label for=\"sk-estimator-id-20\" class=\"sk-toggleable__label fitted sk-toggleable__label-arrow\"><div><div>estimator: LogisticRegression</div></div></label><div class=\"sk-toggleable__content fitted\" data-param-prefix=\"estimator__\"><pre>LogisticRegression()</pre></div></div></div><div class=\"sk-serial\"><div class=\"sk-item\"><div class=\"sk-estimator fitted sk-toggleable\"><input class=\"sk-toggleable__control sk-hidden--visually\" id=\"sk-estimator-id-21\" type=\"checkbox\" ><label for=\"sk-estimator-id-21\" class=\"sk-toggleable__label fitted sk-toggleable__label-arrow\"><div><div>LogisticRegression</div></div><div><a class=\"sk-estimator-doc-link fitted\" rel=\"noreferrer\" target=\"_blank\" href=\"https://scikit-learn.org/1.7/modules/generated/sklearn.linear_model.LogisticRegression.html\">?<span>Documentation for LogisticRegression</span></a></div></label><div class=\"sk-toggleable__content fitted\" data-param-prefix=\"estimator__\">\n",
       "        <div class=\"estimator-table\">\n",
       "            <details>\n",
       "                <summary>Parameters</summary>\n",
       "                <table class=\"parameters-table\">\n",
       "                  <tbody>\n",
       "                    \n",
       "        <tr class=\"default\">\n",
       "            <td><i class=\"copy-paste-icon\"\n",
       "                 onclick=\"copyToClipboard('penalty',\n",
       "                          this.parentElement.nextElementSibling)\"\n",
       "            ></i></td>\n",
       "            <td class=\"param\">penalty&nbsp;</td>\n",
       "            <td class=\"value\">&#x27;l2&#x27;</td>\n",
       "        </tr>\n",
       "    \n",
       "\n",
       "        <tr class=\"default\">\n",
       "            <td><i class=\"copy-paste-icon\"\n",
       "                 onclick=\"copyToClipboard('dual',\n",
       "                          this.parentElement.nextElementSibling)\"\n",
       "            ></i></td>\n",
       "            <td class=\"param\">dual&nbsp;</td>\n",
       "            <td class=\"value\">False</td>\n",
       "        </tr>\n",
       "    \n",
       "\n",
       "        <tr class=\"default\">\n",
       "            <td><i class=\"copy-paste-icon\"\n",
       "                 onclick=\"copyToClipboard('tol',\n",
       "                          this.parentElement.nextElementSibling)\"\n",
       "            ></i></td>\n",
       "            <td class=\"param\">tol&nbsp;</td>\n",
       "            <td class=\"value\">0.0001</td>\n",
       "        </tr>\n",
       "    \n",
       "\n",
       "        <tr class=\"default\">\n",
       "            <td><i class=\"copy-paste-icon\"\n",
       "                 onclick=\"copyToClipboard('C',\n",
       "                          this.parentElement.nextElementSibling)\"\n",
       "            ></i></td>\n",
       "            <td class=\"param\">C&nbsp;</td>\n",
       "            <td class=\"value\">1.0</td>\n",
       "        </tr>\n",
       "    \n",
       "\n",
       "        <tr class=\"default\">\n",
       "            <td><i class=\"copy-paste-icon\"\n",
       "                 onclick=\"copyToClipboard('fit_intercept',\n",
       "                          this.parentElement.nextElementSibling)\"\n",
       "            ></i></td>\n",
       "            <td class=\"param\">fit_intercept&nbsp;</td>\n",
       "            <td class=\"value\">True</td>\n",
       "        </tr>\n",
       "    \n",
       "\n",
       "        <tr class=\"default\">\n",
       "            <td><i class=\"copy-paste-icon\"\n",
       "                 onclick=\"copyToClipboard('intercept_scaling',\n",
       "                          this.parentElement.nextElementSibling)\"\n",
       "            ></i></td>\n",
       "            <td class=\"param\">intercept_scaling&nbsp;</td>\n",
       "            <td class=\"value\">1</td>\n",
       "        </tr>\n",
       "    \n",
       "\n",
       "        <tr class=\"default\">\n",
       "            <td><i class=\"copy-paste-icon\"\n",
       "                 onclick=\"copyToClipboard('class_weight',\n",
       "                          this.parentElement.nextElementSibling)\"\n",
       "            ></i></td>\n",
       "            <td class=\"param\">class_weight&nbsp;</td>\n",
       "            <td class=\"value\">None</td>\n",
       "        </tr>\n",
       "    \n",
       "\n",
       "        <tr class=\"default\">\n",
       "            <td><i class=\"copy-paste-icon\"\n",
       "                 onclick=\"copyToClipboard('random_state',\n",
       "                          this.parentElement.nextElementSibling)\"\n",
       "            ></i></td>\n",
       "            <td class=\"param\">random_state&nbsp;</td>\n",
       "            <td class=\"value\">None</td>\n",
       "        </tr>\n",
       "    \n",
       "\n",
       "        <tr class=\"default\">\n",
       "            <td><i class=\"copy-paste-icon\"\n",
       "                 onclick=\"copyToClipboard('solver',\n",
       "                          this.parentElement.nextElementSibling)\"\n",
       "            ></i></td>\n",
       "            <td class=\"param\">solver&nbsp;</td>\n",
       "            <td class=\"value\">&#x27;lbfgs&#x27;</td>\n",
       "        </tr>\n",
       "    \n",
       "\n",
       "        <tr class=\"default\">\n",
       "            <td><i class=\"copy-paste-icon\"\n",
       "                 onclick=\"copyToClipboard('max_iter',\n",
       "                          this.parentElement.nextElementSibling)\"\n",
       "            ></i></td>\n",
       "            <td class=\"param\">max_iter&nbsp;</td>\n",
       "            <td class=\"value\">100</td>\n",
       "        </tr>\n",
       "    \n",
       "\n",
       "        <tr class=\"default\">\n",
       "            <td><i class=\"copy-paste-icon\"\n",
       "                 onclick=\"copyToClipboard('multi_class',\n",
       "                          this.parentElement.nextElementSibling)\"\n",
       "            ></i></td>\n",
       "            <td class=\"param\">multi_class&nbsp;</td>\n",
       "            <td class=\"value\">&#x27;deprecated&#x27;</td>\n",
       "        </tr>\n",
       "    \n",
       "\n",
       "        <tr class=\"default\">\n",
       "            <td><i class=\"copy-paste-icon\"\n",
       "                 onclick=\"copyToClipboard('verbose',\n",
       "                          this.parentElement.nextElementSibling)\"\n",
       "            ></i></td>\n",
       "            <td class=\"param\">verbose&nbsp;</td>\n",
       "            <td class=\"value\">0</td>\n",
       "        </tr>\n",
       "    \n",
       "\n",
       "        <tr class=\"default\">\n",
       "            <td><i class=\"copy-paste-icon\"\n",
       "                 onclick=\"copyToClipboard('warm_start',\n",
       "                          this.parentElement.nextElementSibling)\"\n",
       "            ></i></td>\n",
       "            <td class=\"param\">warm_start&nbsp;</td>\n",
       "            <td class=\"value\">False</td>\n",
       "        </tr>\n",
       "    \n",
       "\n",
       "        <tr class=\"default\">\n",
       "            <td><i class=\"copy-paste-icon\"\n",
       "                 onclick=\"copyToClipboard('n_jobs',\n",
       "                          this.parentElement.nextElementSibling)\"\n",
       "            ></i></td>\n",
       "            <td class=\"param\">n_jobs&nbsp;</td>\n",
       "            <td class=\"value\">None</td>\n",
       "        </tr>\n",
       "    \n",
       "\n",
       "        <tr class=\"default\">\n",
       "            <td><i class=\"copy-paste-icon\"\n",
       "                 onclick=\"copyToClipboard('l1_ratio',\n",
       "                          this.parentElement.nextElementSibling)\"\n",
       "            ></i></td>\n",
       "            <td class=\"param\">l1_ratio&nbsp;</td>\n",
       "            <td class=\"value\">None</td>\n",
       "        </tr>\n",
       "    \n",
       "                  </tbody>\n",
       "                </table>\n",
       "            </details>\n",
       "        </div>\n",
       "    </div></div></div></div></div></div></div></div></div></div><script>function copyToClipboard(text, element) {\n",
       "    // Get the parameter prefix from the closest toggleable content\n",
       "    const toggleableContent = element.closest('.sk-toggleable__content');\n",
       "    const paramPrefix = toggleableContent ? toggleableContent.dataset.paramPrefix : '';\n",
       "    const fullParamName = paramPrefix ? `${paramPrefix}${text}` : text;\n",
       "\n",
       "    const originalStyle = element.style;\n",
       "    const computedStyle = window.getComputedStyle(element);\n",
       "    const originalWidth = computedStyle.width;\n",
       "    const originalHTML = element.innerHTML.replace('Copied!', '');\n",
       "\n",
       "    navigator.clipboard.writeText(fullParamName)\n",
       "        .then(() => {\n",
       "            element.style.width = originalWidth;\n",
       "            element.style.color = 'green';\n",
       "            element.innerHTML = \"Copied!\";\n",
       "\n",
       "            setTimeout(() => {\n",
       "                element.innerHTML = originalHTML;\n",
       "                element.style = originalStyle;\n",
       "            }, 2000);\n",
       "        })\n",
       "        .catch(err => {\n",
       "            console.error('Failed to copy:', err);\n",
       "            element.style.color = 'red';\n",
       "            element.innerHTML = \"Failed!\";\n",
       "            setTimeout(() => {\n",
       "                element.innerHTML = originalHTML;\n",
       "                element.style = originalStyle;\n",
       "            }, 2000);\n",
       "        });\n",
       "    return false;\n",
       "}\n",
       "\n",
       "document.querySelectorAll('.fa-regular.fa-copy').forEach(function(element) {\n",
       "    const toggleableContent = element.closest('.sk-toggleable__content');\n",
       "    const paramPrefix = toggleableContent ? toggleableContent.dataset.paramPrefix : '';\n",
       "    const paramName = element.parentElement.nextElementSibling.textContent.trim();\n",
       "    const fullParamName = paramPrefix ? `${paramPrefix}${paramName}` : paramName;\n",
       "\n",
       "    element.setAttribute('title', fullParamName);\n",
       "});\n",
       "</script></body>"
      ],
      "text/plain": [
       "BaggingClassifier(estimator=LogisticRegression(), max_features=0.3,\n",
       "                  max_samples=0.3, random_state=51)"
      ]
     },
     "execution_count": 260,
     "metadata": {},
     "output_type": "execute_result"
    }
   ],
   "source": [
    "#treinar\n",
    "bagging_model.fit(X_train, y_train)"
   ]
  },
  {
   "cell_type": "markdown",
   "id": "ba6c13c5",
   "metadata": {},
   "source": [
    "### Avaliação do modelo"
   ]
  },
  {
   "cell_type": "code",
   "execution_count": 261,
   "id": "3b013c4c",
   "metadata": {},
   "outputs": [],
   "source": [
    "#fazer predições no conjunto de teste\n",
    "y_pred = bagging_model.predict(X_test)"
   ]
  },
  {
   "cell_type": "code",
   "execution_count": 262,
   "id": "2ba0e151",
   "metadata": {},
   "outputs": [],
   "source": [
    "#avaliar modelo\n",
    "accuracy = accuracy_score(y_test, y_pred)\n",
    "precision = precision_score(y_test, y_pred)\n",
    "recall = recall_score(y_test, y_pred)\n",
    "f1 = f1_score(y_test, y_pred)"
   ]
  },
  {
   "cell_type": "code",
   "execution_count": 263,
   "id": "11241791",
   "metadata": {},
   "outputs": [
    {
     "name": "stdout",
     "output_type": "stream",
     "text": [
      "Acurária: 0.7509641873278237\n",
      "Precisão: 0.7422222222222222\n",
      "Recall: 0.49850746268656715\n",
      "f1: 0.5964285714285714\n"
     ]
    }
   ],
   "source": [
    "print(f'Acurária: {accuracy}')\n",
    "print(f'Precisão: {precision}')\n",
    "print(f'Recall: {recall}')\n",
    "print(f'f1: {f1}')"
   ]
  },
  {
   "cell_type": "code",
   "execution_count": 264,
   "id": "8590805f",
   "metadata": {},
   "outputs": [
    {
     "data": {
      "application/vnd.plotly.v1+json": {
       "config": {
        "plotlyServerURL": "https://plot.ly"
       },
       "data": [
        {
         "coloraxis": "coloraxis",
         "hovertemplate": "Predição: %{x}<br>Real: %{y}<br>color: %{z}<extra></extra>",
         "name": "0",
         "text": {
          "bdata": "BQR0AFABTgE=",
          "dtype": "i2",
          "shape": "2, 2"
         },
         "texttemplate": "%{z}",
         "type": "heatmap",
         "x": [
          "Not Converted",
          "Converted"
         ],
         "xaxis": "x",
         "y": [
          "Not Converted",
          "Converted"
         ],
         "yaxis": "y",
         "z": {
          "bdata": "BQR0AFABTgE=",
          "dtype": "i2",
          "shape": "2, 2"
         }
        }
       ],
       "layout": {
        "coloraxis": {
         "colorscale": [
          [
           0,
           "#0d0887"
          ],
          [
           0.1111111111111111,
           "#46039f"
          ],
          [
           0.2222222222222222,
           "#7201a8"
          ],
          [
           0.3333333333333333,
           "#9c179e"
          ],
          [
           0.4444444444444444,
           "#bd3786"
          ],
          [
           0.5555555555555556,
           "#d8576b"
          ],
          [
           0.6666666666666666,
           "#ed7953"
          ],
          [
           0.7777777777777778,
           "#fb9f3a"
          ],
          [
           0.8888888888888888,
           "#fdca26"
          ],
          [
           1,
           "#f0f921"
          ]
         ],
         "showscale": false
        },
        "margin": {
         "t": 60
        },
        "template": {
         "data": {
          "bar": [
           {
            "error_x": {
             "color": "#2a3f5f"
            },
            "error_y": {
             "color": "#2a3f5f"
            },
            "marker": {
             "line": {
              "color": "#E5ECF6",
              "width": 0.5
             },
             "pattern": {
              "fillmode": "overlay",
              "size": 10,
              "solidity": 0.2
             }
            },
            "type": "bar"
           }
          ],
          "barpolar": [
           {
            "marker": {
             "line": {
              "color": "#E5ECF6",
              "width": 0.5
             },
             "pattern": {
              "fillmode": "overlay",
              "size": 10,
              "solidity": 0.2
             }
            },
            "type": "barpolar"
           }
          ],
          "carpet": [
           {
            "aaxis": {
             "endlinecolor": "#2a3f5f",
             "gridcolor": "white",
             "linecolor": "white",
             "minorgridcolor": "white",
             "startlinecolor": "#2a3f5f"
            },
            "baxis": {
             "endlinecolor": "#2a3f5f",
             "gridcolor": "white",
             "linecolor": "white",
             "minorgridcolor": "white",
             "startlinecolor": "#2a3f5f"
            },
            "type": "carpet"
           }
          ],
          "choropleth": [
           {
            "colorbar": {
             "outlinewidth": 0,
             "ticks": ""
            },
            "type": "choropleth"
           }
          ],
          "contour": [
           {
            "colorbar": {
             "outlinewidth": 0,
             "ticks": ""
            },
            "colorscale": [
             [
              0,
              "#0d0887"
             ],
             [
              0.1111111111111111,
              "#46039f"
             ],
             [
              0.2222222222222222,
              "#7201a8"
             ],
             [
              0.3333333333333333,
              "#9c179e"
             ],
             [
              0.4444444444444444,
              "#bd3786"
             ],
             [
              0.5555555555555556,
              "#d8576b"
             ],
             [
              0.6666666666666666,
              "#ed7953"
             ],
             [
              0.7777777777777778,
              "#fb9f3a"
             ],
             [
              0.8888888888888888,
              "#fdca26"
             ],
             [
              1,
              "#f0f921"
             ]
            ],
            "type": "contour"
           }
          ],
          "contourcarpet": [
           {
            "colorbar": {
             "outlinewidth": 0,
             "ticks": ""
            },
            "type": "contourcarpet"
           }
          ],
          "heatmap": [
           {
            "colorbar": {
             "outlinewidth": 0,
             "ticks": ""
            },
            "colorscale": [
             [
              0,
              "#0d0887"
             ],
             [
              0.1111111111111111,
              "#46039f"
             ],
             [
              0.2222222222222222,
              "#7201a8"
             ],
             [
              0.3333333333333333,
              "#9c179e"
             ],
             [
              0.4444444444444444,
              "#bd3786"
             ],
             [
              0.5555555555555556,
              "#d8576b"
             ],
             [
              0.6666666666666666,
              "#ed7953"
             ],
             [
              0.7777777777777778,
              "#fb9f3a"
             ],
             [
              0.8888888888888888,
              "#fdca26"
             ],
             [
              1,
              "#f0f921"
             ]
            ],
            "type": "heatmap"
           }
          ],
          "histogram": [
           {
            "marker": {
             "pattern": {
              "fillmode": "overlay",
              "size": 10,
              "solidity": 0.2
             }
            },
            "type": "histogram"
           }
          ],
          "histogram2d": [
           {
            "colorbar": {
             "outlinewidth": 0,
             "ticks": ""
            },
            "colorscale": [
             [
              0,
              "#0d0887"
             ],
             [
              0.1111111111111111,
              "#46039f"
             ],
             [
              0.2222222222222222,
              "#7201a8"
             ],
             [
              0.3333333333333333,
              "#9c179e"
             ],
             [
              0.4444444444444444,
              "#bd3786"
             ],
             [
              0.5555555555555556,
              "#d8576b"
             ],
             [
              0.6666666666666666,
              "#ed7953"
             ],
             [
              0.7777777777777778,
              "#fb9f3a"
             ],
             [
              0.8888888888888888,
              "#fdca26"
             ],
             [
              1,
              "#f0f921"
             ]
            ],
            "type": "histogram2d"
           }
          ],
          "histogram2dcontour": [
           {
            "colorbar": {
             "outlinewidth": 0,
             "ticks": ""
            },
            "colorscale": [
             [
              0,
              "#0d0887"
             ],
             [
              0.1111111111111111,
              "#46039f"
             ],
             [
              0.2222222222222222,
              "#7201a8"
             ],
             [
              0.3333333333333333,
              "#9c179e"
             ],
             [
              0.4444444444444444,
              "#bd3786"
             ],
             [
              0.5555555555555556,
              "#d8576b"
             ],
             [
              0.6666666666666666,
              "#ed7953"
             ],
             [
              0.7777777777777778,
              "#fb9f3a"
             ],
             [
              0.8888888888888888,
              "#fdca26"
             ],
             [
              1,
              "#f0f921"
             ]
            ],
            "type": "histogram2dcontour"
           }
          ],
          "mesh3d": [
           {
            "colorbar": {
             "outlinewidth": 0,
             "ticks": ""
            },
            "type": "mesh3d"
           }
          ],
          "parcoords": [
           {
            "line": {
             "colorbar": {
              "outlinewidth": 0,
              "ticks": ""
             }
            },
            "type": "parcoords"
           }
          ],
          "pie": [
           {
            "automargin": true,
            "type": "pie"
           }
          ],
          "scatter": [
           {
            "fillpattern": {
             "fillmode": "overlay",
             "size": 10,
             "solidity": 0.2
            },
            "type": "scatter"
           }
          ],
          "scatter3d": [
           {
            "line": {
             "colorbar": {
              "outlinewidth": 0,
              "ticks": ""
             }
            },
            "marker": {
             "colorbar": {
              "outlinewidth": 0,
              "ticks": ""
             }
            },
            "type": "scatter3d"
           }
          ],
          "scattercarpet": [
           {
            "marker": {
             "colorbar": {
              "outlinewidth": 0,
              "ticks": ""
             }
            },
            "type": "scattercarpet"
           }
          ],
          "scattergeo": [
           {
            "marker": {
             "colorbar": {
              "outlinewidth": 0,
              "ticks": ""
             }
            },
            "type": "scattergeo"
           }
          ],
          "scattergl": [
           {
            "marker": {
             "colorbar": {
              "outlinewidth": 0,
              "ticks": ""
             }
            },
            "type": "scattergl"
           }
          ],
          "scattermap": [
           {
            "marker": {
             "colorbar": {
              "outlinewidth": 0,
              "ticks": ""
             }
            },
            "type": "scattermap"
           }
          ],
          "scattermapbox": [
           {
            "marker": {
             "colorbar": {
              "outlinewidth": 0,
              "ticks": ""
             }
            },
            "type": "scattermapbox"
           }
          ],
          "scatterpolar": [
           {
            "marker": {
             "colorbar": {
              "outlinewidth": 0,
              "ticks": ""
             }
            },
            "type": "scatterpolar"
           }
          ],
          "scatterpolargl": [
           {
            "marker": {
             "colorbar": {
              "outlinewidth": 0,
              "ticks": ""
             }
            },
            "type": "scatterpolargl"
           }
          ],
          "scatterternary": [
           {
            "marker": {
             "colorbar": {
              "outlinewidth": 0,
              "ticks": ""
             }
            },
            "type": "scatterternary"
           }
          ],
          "surface": [
           {
            "colorbar": {
             "outlinewidth": 0,
             "ticks": ""
            },
            "colorscale": [
             [
              0,
              "#0d0887"
             ],
             [
              0.1111111111111111,
              "#46039f"
             ],
             [
              0.2222222222222222,
              "#7201a8"
             ],
             [
              0.3333333333333333,
              "#9c179e"
             ],
             [
              0.4444444444444444,
              "#bd3786"
             ],
             [
              0.5555555555555556,
              "#d8576b"
             ],
             [
              0.6666666666666666,
              "#ed7953"
             ],
             [
              0.7777777777777778,
              "#fb9f3a"
             ],
             [
              0.8888888888888888,
              "#fdca26"
             ],
             [
              1,
              "#f0f921"
             ]
            ],
            "type": "surface"
           }
          ],
          "table": [
           {
            "cells": {
             "fill": {
              "color": "#EBF0F8"
             },
             "line": {
              "color": "white"
             }
            },
            "header": {
             "fill": {
              "color": "#C8D4E3"
             },
             "line": {
              "color": "white"
             }
            },
            "type": "table"
           }
          ]
         },
         "layout": {
          "annotationdefaults": {
           "arrowcolor": "#2a3f5f",
           "arrowhead": 0,
           "arrowwidth": 1
          },
          "autotypenumbers": "strict",
          "coloraxis": {
           "colorbar": {
            "outlinewidth": 0,
            "ticks": ""
           }
          },
          "colorscale": {
           "diverging": [
            [
             0,
             "#8e0152"
            ],
            [
             0.1,
             "#c51b7d"
            ],
            [
             0.2,
             "#de77ae"
            ],
            [
             0.3,
             "#f1b6da"
            ],
            [
             0.4,
             "#fde0ef"
            ],
            [
             0.5,
             "#f7f7f7"
            ],
            [
             0.6,
             "#e6f5d0"
            ],
            [
             0.7,
             "#b8e186"
            ],
            [
             0.8,
             "#7fbc41"
            ],
            [
             0.9,
             "#4d9221"
            ],
            [
             1,
             "#276419"
            ]
           ],
           "sequential": [
            [
             0,
             "#0d0887"
            ],
            [
             0.1111111111111111,
             "#46039f"
            ],
            [
             0.2222222222222222,
             "#7201a8"
            ],
            [
             0.3333333333333333,
             "#9c179e"
            ],
            [
             0.4444444444444444,
             "#bd3786"
            ],
            [
             0.5555555555555556,
             "#d8576b"
            ],
            [
             0.6666666666666666,
             "#ed7953"
            ],
            [
             0.7777777777777778,
             "#fb9f3a"
            ],
            [
             0.8888888888888888,
             "#fdca26"
            ],
            [
             1,
             "#f0f921"
            ]
           ],
           "sequentialminus": [
            [
             0,
             "#0d0887"
            ],
            [
             0.1111111111111111,
             "#46039f"
            ],
            [
             0.2222222222222222,
             "#7201a8"
            ],
            [
             0.3333333333333333,
             "#9c179e"
            ],
            [
             0.4444444444444444,
             "#bd3786"
            ],
            [
             0.5555555555555556,
             "#d8576b"
            ],
            [
             0.6666666666666666,
             "#ed7953"
            ],
            [
             0.7777777777777778,
             "#fb9f3a"
            ],
            [
             0.8888888888888888,
             "#fdca26"
            ],
            [
             1,
             "#f0f921"
            ]
           ]
          },
          "colorway": [
           "#636efa",
           "#EF553B",
           "#00cc96",
           "#ab63fa",
           "#FFA15A",
           "#19d3f3",
           "#FF6692",
           "#B6E880",
           "#FF97FF",
           "#FECB52"
          ],
          "font": {
           "color": "#2a3f5f"
          },
          "geo": {
           "bgcolor": "white",
           "lakecolor": "white",
           "landcolor": "#E5ECF6",
           "showlakes": true,
           "showland": true,
           "subunitcolor": "white"
          },
          "hoverlabel": {
           "align": "left"
          },
          "hovermode": "closest",
          "mapbox": {
           "style": "light"
          },
          "paper_bgcolor": "white",
          "plot_bgcolor": "#E5ECF6",
          "polar": {
           "angularaxis": {
            "gridcolor": "white",
            "linecolor": "white",
            "ticks": ""
           },
           "bgcolor": "#E5ECF6",
           "radialaxis": {
            "gridcolor": "white",
            "linecolor": "white",
            "ticks": ""
           }
          },
          "scene": {
           "xaxis": {
            "backgroundcolor": "#E5ECF6",
            "gridcolor": "white",
            "gridwidth": 2,
            "linecolor": "white",
            "showbackground": true,
            "ticks": "",
            "zerolinecolor": "white"
           },
           "yaxis": {
            "backgroundcolor": "#E5ECF6",
            "gridcolor": "white",
            "gridwidth": 2,
            "linecolor": "white",
            "showbackground": true,
            "ticks": "",
            "zerolinecolor": "white"
           },
           "zaxis": {
            "backgroundcolor": "#E5ECF6",
            "gridcolor": "white",
            "gridwidth": 2,
            "linecolor": "white",
            "showbackground": true,
            "ticks": "",
            "zerolinecolor": "white"
           }
          },
          "shapedefaults": {
           "line": {
            "color": "#2a3f5f"
           }
          },
          "ternary": {
           "aaxis": {
            "gridcolor": "white",
            "linecolor": "white",
            "ticks": ""
           },
           "baxis": {
            "gridcolor": "white",
            "linecolor": "white",
            "ticks": ""
           },
           "bgcolor": "#E5ECF6",
           "caxis": {
            "gridcolor": "white",
            "linecolor": "white",
            "ticks": ""
           }
          },
          "title": {
           "x": 0.05
          },
          "xaxis": {
           "automargin": true,
           "gridcolor": "white",
           "linecolor": "white",
           "ticks": "",
           "title": {
            "standoff": 15
           },
           "zerolinecolor": "white",
           "zerolinewidth": 2
          },
          "yaxis": {
           "automargin": true,
           "gridcolor": "white",
           "linecolor": "white",
           "ticks": "",
           "title": {
            "standoff": 15
           },
           "zerolinecolor": "white",
           "zerolinewidth": 2
          }
         }
        },
        "xaxis": {
         "anchor": "y",
         "constrain": "domain",
         "domain": [
          0,
          1
         ],
         "scaleanchor": "y",
         "title": {
          "text": "Predição"
         }
        },
        "yaxis": {
         "anchor": "x",
         "autorange": "reversed",
         "constrain": "domain",
         "domain": [
          0,
          1
         ],
         "title": {
          "text": "Real"
         }
        }
       }
      }
     },
     "metadata": {},
     "output_type": "display_data"
    }
   ],
   "source": [
    "#mostrar uma matriz de confusao\n",
    "conf_matrix = confusion_matrix(y_test, y_pred)\n",
    "\n",
    "fig = px.imshow(conf_matrix,\n",
    "                labels=dict(x='Predição', y='Real', coor='Contagem'),\n",
    "                x=['Not Converted', 'Converted'],\n",
    "                y=['Not Converted', 'Converted'])\n",
    "\n",
    "fig.update_traces(text=conf_matrix, texttemplate=\"%{z}\")\n",
    "fig.update_layout(coloraxis_showscale=False)\n",
    "fig.show()"
   ]
  },
  {
   "cell_type": "code",
   "execution_count": 265,
   "id": "73298493",
   "metadata": {},
   "outputs": [
    {
     "data": {
      "text/plain": [
       "array([0.7216204 , 0.64001581, 0.48853284, 0.79929892, 0.2419471 ,\n",
       "       0.41312859, 0.6226342 , 0.38897817, 0.7159801 , 0.54371071,\n",
       "       0.52518225, 0.30667573, 0.6687867 , 0.46177705, 0.72763512,\n",
       "       0.4430405 , 0.15686804, 0.46183659, 0.49061144, 0.48726468])"
      ]
     },
     "execution_count": 265,
     "metadata": {},
     "output_type": "execute_result"
    }
   ],
   "source": [
    "#Calcular a importancia das variaveis \n",
    "importances = np.mean([np.abs(estimator.coef_[0]) for estimator in bagging_model.estimators_], axis=0)\n",
    "importances"
   ]
  },
  {
   "cell_type": "code",
   "execution_count": 266,
   "id": "23bf1f98",
   "metadata": {},
   "outputs": [],
   "source": [
    "#obter os nomes das features \n",
    "features_names = (numeric_features.tolist() +\n",
    "                  preprocessor.named_transformers_['cat']\n",
    "                  .get_feature_names_out(categorical_features).tolist())"
   ]
  },
  {
   "cell_type": "code",
   "execution_count": 267,
   "id": "61534af3",
   "metadata": {},
   "outputs": [
    {
     "data": {
      "text/plain": [
       "['Do Not Email',\n",
       " 'Do Not Call',\n",
       " 'TotalVisits',\n",
       " 'Total Time Spent on Website',\n",
       " 'Page Views Per Visit',\n",
       " 'Search',\n",
       " 'Newspaper Article',\n",
       " 'X Education Forums',\n",
       " 'Newspaper',\n",
       " 'Digital Advertisement',\n",
       " 'Through Recommendations',\n",
       " 'A free copy of Mastering The Interview',\n",
       " 'Lead Origin_API',\n",
       " 'Lead Origin_Landing Page Submission',\n",
       " 'Lead Origin_Lead Add Form',\n",
       " 'Lead Origin_Lead Import',\n",
       " 'Lead Source_Click2call',\n",
       " 'Lead Source_Direct Traffic',\n",
       " 'Lead Source_Facebook',\n",
       " 'Lead Source_Google',\n",
       " 'Lead Source_Live Chat',\n",
       " 'Lead Source_NC_EDM',\n",
       " 'Lead Source_Olark Chat',\n",
       " 'Lead Source_Organic Search',\n",
       " 'Lead Source_Pay per Click Ads',\n",
       " 'Lead Source_Reference',\n",
       " 'Lead Source_Referral Sites',\n",
       " 'Lead Source_Social Media',\n",
       " 'Lead Source_WeLearn',\n",
       " 'Lead Source_Welingak Website',\n",
       " 'Lead Source_bing',\n",
       " 'Lead Source_blog',\n",
       " 'Lead Source_testone',\n",
       " 'Lead Source_welearnblog_Home',\n",
       " 'Lead Source_youtubechannel',\n",
       " 'Last Activity_Approached upfront',\n",
       " 'Last Activity_Converted to Lead',\n",
       " 'Last Activity_Email Bounced',\n",
       " 'Last Activity_Email Link Clicked',\n",
       " 'Last Activity_Email Marked Spam',\n",
       " 'Last Activity_Email Opened',\n",
       " 'Last Activity_Email Received',\n",
       " 'Last Activity_Form Submitted on Website',\n",
       " 'Last Activity_Had a Phone Conversation',\n",
       " 'Last Activity_Olark Chat Conversation',\n",
       " 'Last Activity_Page Visited on Website',\n",
       " 'Last Activity_Resubscribed to emails',\n",
       " 'Last Activity_SMS Sent',\n",
       " 'Last Activity_Unreachable',\n",
       " 'Last Activity_Unsubscribed',\n",
       " 'Last Activity_View in browser link Clicked',\n",
       " 'Last Activity_Visited Booth in Tradeshow',\n",
       " 'Last Notable Activity_Approached upfront',\n",
       " 'Last Notable Activity_Email Bounced',\n",
       " 'Last Notable Activity_Email Link Clicked',\n",
       " 'Last Notable Activity_Email Marked Spam',\n",
       " 'Last Notable Activity_Email Opened',\n",
       " 'Last Notable Activity_Email Received',\n",
       " 'Last Notable Activity_Form Submitted on Website',\n",
       " 'Last Notable Activity_Had a Phone Conversation',\n",
       " 'Last Notable Activity_Modified',\n",
       " 'Last Notable Activity_Olark Chat Conversation',\n",
       " 'Last Notable Activity_Page Visited on Website',\n",
       " 'Last Notable Activity_Resubscribed to emails',\n",
       " 'Last Notable Activity_SMS Sent',\n",
       " 'Last Notable Activity_Unreachable',\n",
       " 'Last Notable Activity_Unsubscribed',\n",
       " 'Last Notable Activity_View in browser link Clicked']"
      ]
     },
     "execution_count": 267,
     "metadata": {},
     "output_type": "execute_result"
    }
   ],
   "source": [
    "features_names"
   ]
  },
  {
   "cell_type": "code",
   "execution_count": 268,
   "id": "f86cd001",
   "metadata": {},
   "outputs": [
    {
     "ename": "ValueError",
     "evalue": "All arrays must be of the same length",
     "output_type": "error",
     "traceback": [
      "\u001b[31m---------------------------------------------------------------------------\u001b[39m",
      "\u001b[31mValueError\u001b[39m                                Traceback (most recent call last)",
      "\u001b[36mCell\u001b[39m\u001b[36m \u001b[39m\u001b[32mIn[268]\u001b[39m\u001b[32m, line 2\u001b[39m\n\u001b[32m      1\u001b[39m \u001b[38;5;66;03m#criar um df nome das features e importancias\u001b[39;00m\n\u001b[32m----> \u001b[39m\u001b[32m2\u001b[39m df_feature_importances = \u001b[43mpd\u001b[49m\u001b[43m.\u001b[49m\u001b[43mDataFrame\u001b[49m\u001b[43m(\u001b[49m\u001b[43m{\u001b[49m\u001b[33;43m'\u001b[39;49m\u001b[33;43mFeature\u001b[39;49m\u001b[33;43m'\u001b[39;49m\u001b[43m:\u001b[49m\u001b[43m \u001b[49m\u001b[43mfeatures_names\u001b[49m\u001b[43m,\u001b[49m\u001b[43m \u001b[49m\u001b[33;43m'\u001b[39;49m\u001b[33;43mImportance\u001b[39;49m\u001b[33;43m'\u001b[39;49m\u001b[43m:\u001b[49m\u001b[43m \u001b[49m\u001b[43mimportances\u001b[49m\u001b[43m}\u001b[49m\u001b[43m)\u001b[49m\n",
      "\u001b[36mFile \u001b[39m\u001b[32mc:\\Users\\ThayanneCristinedaSi\\.virtualenvs\\Geral-iNcLO_qr\\Lib\\site-packages\\pandas\\core\\frame.py:778\u001b[39m, in \u001b[36mDataFrame.__init__\u001b[39m\u001b[34m(self, data, index, columns, dtype, copy)\u001b[39m\n\u001b[32m    772\u001b[39m     mgr = \u001b[38;5;28mself\u001b[39m._init_mgr(\n\u001b[32m    773\u001b[39m         data, axes={\u001b[33m\"\u001b[39m\u001b[33mindex\u001b[39m\u001b[33m\"\u001b[39m: index, \u001b[33m\"\u001b[39m\u001b[33mcolumns\u001b[39m\u001b[33m\"\u001b[39m: columns}, dtype=dtype, copy=copy\n\u001b[32m    774\u001b[39m     )\n\u001b[32m    776\u001b[39m \u001b[38;5;28;01melif\u001b[39;00m \u001b[38;5;28misinstance\u001b[39m(data, \u001b[38;5;28mdict\u001b[39m):\n\u001b[32m    777\u001b[39m     \u001b[38;5;66;03m# GH#38939 de facto copy defaults to False only in non-dict cases\u001b[39;00m\n\u001b[32m--> \u001b[39m\u001b[32m778\u001b[39m     mgr = \u001b[43mdict_to_mgr\u001b[49m\u001b[43m(\u001b[49m\u001b[43mdata\u001b[49m\u001b[43m,\u001b[49m\u001b[43m \u001b[49m\u001b[43mindex\u001b[49m\u001b[43m,\u001b[49m\u001b[43m \u001b[49m\u001b[43mcolumns\u001b[49m\u001b[43m,\u001b[49m\u001b[43m \u001b[49m\u001b[43mdtype\u001b[49m\u001b[43m=\u001b[49m\u001b[43mdtype\u001b[49m\u001b[43m,\u001b[49m\u001b[43m \u001b[49m\u001b[43mcopy\u001b[49m\u001b[43m=\u001b[49m\u001b[43mcopy\u001b[49m\u001b[43m,\u001b[49m\u001b[43m \u001b[49m\u001b[43mtyp\u001b[49m\u001b[43m=\u001b[49m\u001b[43mmanager\u001b[49m\u001b[43m)\u001b[49m\n\u001b[32m    779\u001b[39m \u001b[38;5;28;01melif\u001b[39;00m \u001b[38;5;28misinstance\u001b[39m(data, ma.MaskedArray):\n\u001b[32m    780\u001b[39m     \u001b[38;5;28;01mfrom\u001b[39;00m\u001b[38;5;250m \u001b[39m\u001b[34;01mnumpy\u001b[39;00m\u001b[34;01m.\u001b[39;00m\u001b[34;01mma\u001b[39;00m\u001b[38;5;250m \u001b[39m\u001b[38;5;28;01mimport\u001b[39;00m mrecords\n",
      "\u001b[36mFile \u001b[39m\u001b[32mc:\\Users\\ThayanneCristinedaSi\\.virtualenvs\\Geral-iNcLO_qr\\Lib\\site-packages\\pandas\\core\\internals\\construction.py:503\u001b[39m, in \u001b[36mdict_to_mgr\u001b[39m\u001b[34m(data, index, columns, dtype, typ, copy)\u001b[39m\n\u001b[32m    499\u001b[39m     \u001b[38;5;28;01melse\u001b[39;00m:\n\u001b[32m    500\u001b[39m         \u001b[38;5;66;03m# dtype check to exclude e.g. range objects, scalars\u001b[39;00m\n\u001b[32m    501\u001b[39m         arrays = [x.copy() \u001b[38;5;28;01mif\u001b[39;00m \u001b[38;5;28mhasattr\u001b[39m(x, \u001b[33m\"\u001b[39m\u001b[33mdtype\u001b[39m\u001b[33m\"\u001b[39m) \u001b[38;5;28;01melse\u001b[39;00m x \u001b[38;5;28;01mfor\u001b[39;00m x \u001b[38;5;129;01min\u001b[39;00m arrays]\n\u001b[32m--> \u001b[39m\u001b[32m503\u001b[39m \u001b[38;5;28;01mreturn\u001b[39;00m \u001b[43marrays_to_mgr\u001b[49m\u001b[43m(\u001b[49m\u001b[43marrays\u001b[49m\u001b[43m,\u001b[49m\u001b[43m \u001b[49m\u001b[43mcolumns\u001b[49m\u001b[43m,\u001b[49m\u001b[43m \u001b[49m\u001b[43mindex\u001b[49m\u001b[43m,\u001b[49m\u001b[43m \u001b[49m\u001b[43mdtype\u001b[49m\u001b[43m=\u001b[49m\u001b[43mdtype\u001b[49m\u001b[43m,\u001b[49m\u001b[43m \u001b[49m\u001b[43mtyp\u001b[49m\u001b[43m=\u001b[49m\u001b[43mtyp\u001b[49m\u001b[43m,\u001b[49m\u001b[43m \u001b[49m\u001b[43mconsolidate\u001b[49m\u001b[43m=\u001b[49m\u001b[43mcopy\u001b[49m\u001b[43m)\u001b[49m\n",
      "\u001b[36mFile \u001b[39m\u001b[32mc:\\Users\\ThayanneCristinedaSi\\.virtualenvs\\Geral-iNcLO_qr\\Lib\\site-packages\\pandas\\core\\internals\\construction.py:114\u001b[39m, in \u001b[36marrays_to_mgr\u001b[39m\u001b[34m(arrays, columns, index, dtype, verify_integrity, typ, consolidate)\u001b[39m\n\u001b[32m    111\u001b[39m \u001b[38;5;28;01mif\u001b[39;00m verify_integrity:\n\u001b[32m    112\u001b[39m     \u001b[38;5;66;03m# figure out the index, if necessary\u001b[39;00m\n\u001b[32m    113\u001b[39m     \u001b[38;5;28;01mif\u001b[39;00m index \u001b[38;5;129;01mis\u001b[39;00m \u001b[38;5;28;01mNone\u001b[39;00m:\n\u001b[32m--> \u001b[39m\u001b[32m114\u001b[39m         index = \u001b[43m_extract_index\u001b[49m\u001b[43m(\u001b[49m\u001b[43marrays\u001b[49m\u001b[43m)\u001b[49m\n\u001b[32m    115\u001b[39m     \u001b[38;5;28;01melse\u001b[39;00m:\n\u001b[32m    116\u001b[39m         index = ensure_index(index)\n",
      "\u001b[36mFile \u001b[39m\u001b[32mc:\\Users\\ThayanneCristinedaSi\\.virtualenvs\\Geral-iNcLO_qr\\Lib\\site-packages\\pandas\\core\\internals\\construction.py:677\u001b[39m, in \u001b[36m_extract_index\u001b[39m\u001b[34m(data)\u001b[39m\n\u001b[32m    675\u001b[39m lengths = \u001b[38;5;28mlist\u001b[39m(\u001b[38;5;28mset\u001b[39m(raw_lengths))\n\u001b[32m    676\u001b[39m \u001b[38;5;28;01mif\u001b[39;00m \u001b[38;5;28mlen\u001b[39m(lengths) > \u001b[32m1\u001b[39m:\n\u001b[32m--> \u001b[39m\u001b[32m677\u001b[39m     \u001b[38;5;28;01mraise\u001b[39;00m \u001b[38;5;167;01mValueError\u001b[39;00m(\u001b[33m\"\u001b[39m\u001b[33mAll arrays must be of the same length\u001b[39m\u001b[33m\"\u001b[39m)\n\u001b[32m    679\u001b[39m \u001b[38;5;28;01mif\u001b[39;00m have_dicts:\n\u001b[32m    680\u001b[39m     \u001b[38;5;28;01mraise\u001b[39;00m \u001b[38;5;167;01mValueError\u001b[39;00m(\n\u001b[32m    681\u001b[39m         \u001b[33m\"\u001b[39m\u001b[33mMixing dicts with non-Series may lead to ambiguous ordering.\u001b[39m\u001b[33m\"\u001b[39m\n\u001b[32m    682\u001b[39m     )\n",
      "\u001b[31mValueError\u001b[39m: All arrays must be of the same length"
     ]
    }
   ],
   "source": [
    "#criar um df nome das features e importancias\n",
    "df_feature_importances = pd.DataFrame({'Feature': features_names, 'Importance': importances})"
   ]
  },
  {
   "cell_type": "code",
   "execution_count": null,
   "id": "2faf5c88",
   "metadata": {},
   "outputs": [],
   "source": [
    "#ordenar odataframe pela importancia\n",
    "df_feature_importances = df_feature_importances.sort_values(by='Importance', ascending=True)"
   ]
  },
  {
   "cell_type": "code",
   "execution_count": null,
   "id": "16907d1f",
   "metadata": {},
   "outputs": [
    {
     "data": {
      "application/vnd.plotly.v1+json": {
       "config": {
        "plotlyServerURL": "https://plot.ly"
       },
       "data": [
        {
         "hovertemplate": "Importance=%{x}<br>Feature=%{y}<extra></extra>",
         "legendgroup": "",
         "marker": {
          "color": "#636efa",
          "pattern": {
           "shape": ""
          }
         },
         "name": "",
         "orientation": "h",
         "showlegend": false,
         "textposition": "auto",
         "type": "bar",
         "x": {
          "bdata": "AAAAAAAAAAAAAAAAAAAAAAAAAAAAAAAAAAAAAAAAAAAAAAAAAAAAAAAAAAAAAAAAAAAAAAAAAAAAAAAAAAAAAHVzCLEX8FE/ehrUoKVeWT/bHkm1JKOUP8EXhLbM0qU/gjfKkKOHqD8ybw+4mvqoP2ZvdCJ43qs/mggeKQYEsD+BYZIcQaGxP22Pf5R/YLY/UsMXWY2KuD+GOyrE99a5P0BIf1onf8A/R3L1cG5cwT/6YcLXOHbBP1IielAL8sI/iVXGj1BOxz+RqLPSRRjJP3VYiJCRP8k/dViIkJE/yT/F+eyby+TJP9sQp1Vnsss/EKmut57ryz+qFMVvOlLMP6pOA5n1X8w/LkaLSUilzD+qoFt/71POP3aaN1VXpM8/C2UHbsDF0T+ae01SgoLUP+0SIRTXu9Q/7RIhFNe71D9JFPgMhrTVP17oaJKt7tU/Y+gfSoMu1z+eqG/Al63XP+H8QMLsK9g/MNrmY7XD2j9W8w09PT3cP4LhOG9peeA/iwJeWvaR4D/vwoorlOjgPx1uj9M3kuI/TRo9fFzF4j858q2Evt/kPzlHZdVOF+Y/Ph3RcmJw5j+Fe+X6N+znPxn68JLPyeg/Ipfu6PHD6T/FNC1k9HDqP6o2lFwVDes/4BWDfmlZ6z/DxKsMWATuP1aVw+KwH/A/vWFWXLY18T9Iu4XshjfxP/4D0zNko/I/xv92UjIe8z9SElysEOUAQA==",
          "dtype": "f8"
         },
         "xaxis": "x",
         "y": [
          "Lead Source_Live Chat",
          "Lead Source_WeLearn",
          "Last Notable Activity_Email Marked Spam",
          "Last Notable Activity_Approached upfront",
          "Lead Source_testone",
          "Last Activity_Email Marked Spam",
          "Lead Source_NC_EDM",
          "Last Activity_Visited Booth in Tradeshow",
          "X Education Forums",
          "Do Not Call",
          "Last Notable Activity_Form Submitted on Website",
          "Last Notable Activity_View in browser link Clicked",
          "Newspaper Article",
          "Digital Advertisement",
          "A free copy of Mastering The Interview",
          "Newspaper",
          "Last Notable Activity_Email Received",
          "Lead Source_youtubechannel",
          "Lead Source_Pay per Click Ads",
          "Lead Source_welearnblog_Home",
          "Page Views Per Visit",
          "Last Activity_Email Received",
          "Last Activity_View in browser link Clicked",
          "Through Recommendations",
          "Lead Source_bing",
          "Lead Source_blog",
          "Last Notable Activity_Resubscribed to emails",
          "Last Activity_Resubscribed to emails",
          "Search",
          "TotalVisits",
          "Lead Source_Click2call",
          "Lead Source_Social Media",
          "Last Activity_Email Link Clicked",
          "Last Activity_Page Visited on Website",
          "Last Activity_Unreachable",
          "Last Notable Activity_Unsubscribed",
          "Last Activity_Email Opened",
          "Lead Source_Google",
          "Lead Origin_Lead Import",
          "Lead Source_Facebook",
          "Last Activity_Unsubscribed",
          "Do Not Email",
          "Lead Source_Referral Sites",
          "Last Activity_SMS Sent",
          "Last Notable Activity_Email Opened",
          "Last Notable Activity_Email Bounced",
          "Lead Source_Organic Search",
          "Last Activity_Approached upfront",
          "Last Activity_Form Submitted on Website",
          "Lead Source_Olark Chat",
          "Last Notable Activity_Email Link Clicked",
          "Last Notable Activity_Had a Phone Conversation",
          "Last Notable Activity_Page Visited on Website",
          "Last Activity_Converted to Lead",
          "Lead Source_Direct Traffic",
          "Last Notable Activity_Modified",
          "Last Notable Activity_Olark Chat Conversation",
          "Last Notable Activity_Unreachable",
          "Last Activity_Email Bounced",
          "Lead Origin_Landing Page Submission",
          "Lead Origin_API",
          "Last Activity_Had a Phone Conversation",
          "Last Notable Activity_SMS Sent",
          "Last Activity_Olark Chat Conversation",
          "Lead Source_Reference",
          "Total Time Spent on Website",
          "Lead Source_Welingak Website",
          "Lead Origin_Lead Add Form"
         ],
         "yaxis": "y"
        }
       ],
       "layout": {
        "barmode": "relative",
        "height": 1280,
        "legend": {
         "tracegroupgap": 0
        },
        "margin": {
         "t": 60
        },
        "template": {
         "data": {
          "bar": [
           {
            "error_x": {
             "color": "#2a3f5f"
            },
            "error_y": {
             "color": "#2a3f5f"
            },
            "marker": {
             "line": {
              "color": "#E5ECF6",
              "width": 0.5
             },
             "pattern": {
              "fillmode": "overlay",
              "size": 10,
              "solidity": 0.2
             }
            },
            "type": "bar"
           }
          ],
          "barpolar": [
           {
            "marker": {
             "line": {
              "color": "#E5ECF6",
              "width": 0.5
             },
             "pattern": {
              "fillmode": "overlay",
              "size": 10,
              "solidity": 0.2
             }
            },
            "type": "barpolar"
           }
          ],
          "carpet": [
           {
            "aaxis": {
             "endlinecolor": "#2a3f5f",
             "gridcolor": "white",
             "linecolor": "white",
             "minorgridcolor": "white",
             "startlinecolor": "#2a3f5f"
            },
            "baxis": {
             "endlinecolor": "#2a3f5f",
             "gridcolor": "white",
             "linecolor": "white",
             "minorgridcolor": "white",
             "startlinecolor": "#2a3f5f"
            },
            "type": "carpet"
           }
          ],
          "choropleth": [
           {
            "colorbar": {
             "outlinewidth": 0,
             "ticks": ""
            },
            "type": "choropleth"
           }
          ],
          "contour": [
           {
            "colorbar": {
             "outlinewidth": 0,
             "ticks": ""
            },
            "colorscale": [
             [
              0,
              "#0d0887"
             ],
             [
              0.1111111111111111,
              "#46039f"
             ],
             [
              0.2222222222222222,
              "#7201a8"
             ],
             [
              0.3333333333333333,
              "#9c179e"
             ],
             [
              0.4444444444444444,
              "#bd3786"
             ],
             [
              0.5555555555555556,
              "#d8576b"
             ],
             [
              0.6666666666666666,
              "#ed7953"
             ],
             [
              0.7777777777777778,
              "#fb9f3a"
             ],
             [
              0.8888888888888888,
              "#fdca26"
             ],
             [
              1,
              "#f0f921"
             ]
            ],
            "type": "contour"
           }
          ],
          "contourcarpet": [
           {
            "colorbar": {
             "outlinewidth": 0,
             "ticks": ""
            },
            "type": "contourcarpet"
           }
          ],
          "heatmap": [
           {
            "colorbar": {
             "outlinewidth": 0,
             "ticks": ""
            },
            "colorscale": [
             [
              0,
              "#0d0887"
             ],
             [
              0.1111111111111111,
              "#46039f"
             ],
             [
              0.2222222222222222,
              "#7201a8"
             ],
             [
              0.3333333333333333,
              "#9c179e"
             ],
             [
              0.4444444444444444,
              "#bd3786"
             ],
             [
              0.5555555555555556,
              "#d8576b"
             ],
             [
              0.6666666666666666,
              "#ed7953"
             ],
             [
              0.7777777777777778,
              "#fb9f3a"
             ],
             [
              0.8888888888888888,
              "#fdca26"
             ],
             [
              1,
              "#f0f921"
             ]
            ],
            "type": "heatmap"
           }
          ],
          "histogram": [
           {
            "marker": {
             "pattern": {
              "fillmode": "overlay",
              "size": 10,
              "solidity": 0.2
             }
            },
            "type": "histogram"
           }
          ],
          "histogram2d": [
           {
            "colorbar": {
             "outlinewidth": 0,
             "ticks": ""
            },
            "colorscale": [
             [
              0,
              "#0d0887"
             ],
             [
              0.1111111111111111,
              "#46039f"
             ],
             [
              0.2222222222222222,
              "#7201a8"
             ],
             [
              0.3333333333333333,
              "#9c179e"
             ],
             [
              0.4444444444444444,
              "#bd3786"
             ],
             [
              0.5555555555555556,
              "#d8576b"
             ],
             [
              0.6666666666666666,
              "#ed7953"
             ],
             [
              0.7777777777777778,
              "#fb9f3a"
             ],
             [
              0.8888888888888888,
              "#fdca26"
             ],
             [
              1,
              "#f0f921"
             ]
            ],
            "type": "histogram2d"
           }
          ],
          "histogram2dcontour": [
           {
            "colorbar": {
             "outlinewidth": 0,
             "ticks": ""
            },
            "colorscale": [
             [
              0,
              "#0d0887"
             ],
             [
              0.1111111111111111,
              "#46039f"
             ],
             [
              0.2222222222222222,
              "#7201a8"
             ],
             [
              0.3333333333333333,
              "#9c179e"
             ],
             [
              0.4444444444444444,
              "#bd3786"
             ],
             [
              0.5555555555555556,
              "#d8576b"
             ],
             [
              0.6666666666666666,
              "#ed7953"
             ],
             [
              0.7777777777777778,
              "#fb9f3a"
             ],
             [
              0.8888888888888888,
              "#fdca26"
             ],
             [
              1,
              "#f0f921"
             ]
            ],
            "type": "histogram2dcontour"
           }
          ],
          "mesh3d": [
           {
            "colorbar": {
             "outlinewidth": 0,
             "ticks": ""
            },
            "type": "mesh3d"
           }
          ],
          "parcoords": [
           {
            "line": {
             "colorbar": {
              "outlinewidth": 0,
              "ticks": ""
             }
            },
            "type": "parcoords"
           }
          ],
          "pie": [
           {
            "automargin": true,
            "type": "pie"
           }
          ],
          "scatter": [
           {
            "fillpattern": {
             "fillmode": "overlay",
             "size": 10,
             "solidity": 0.2
            },
            "type": "scatter"
           }
          ],
          "scatter3d": [
           {
            "line": {
             "colorbar": {
              "outlinewidth": 0,
              "ticks": ""
             }
            },
            "marker": {
             "colorbar": {
              "outlinewidth": 0,
              "ticks": ""
             }
            },
            "type": "scatter3d"
           }
          ],
          "scattercarpet": [
           {
            "marker": {
             "colorbar": {
              "outlinewidth": 0,
              "ticks": ""
             }
            },
            "type": "scattercarpet"
           }
          ],
          "scattergeo": [
           {
            "marker": {
             "colorbar": {
              "outlinewidth": 0,
              "ticks": ""
             }
            },
            "type": "scattergeo"
           }
          ],
          "scattergl": [
           {
            "marker": {
             "colorbar": {
              "outlinewidth": 0,
              "ticks": ""
             }
            },
            "type": "scattergl"
           }
          ],
          "scattermap": [
           {
            "marker": {
             "colorbar": {
              "outlinewidth": 0,
              "ticks": ""
             }
            },
            "type": "scattermap"
           }
          ],
          "scattermapbox": [
           {
            "marker": {
             "colorbar": {
              "outlinewidth": 0,
              "ticks": ""
             }
            },
            "type": "scattermapbox"
           }
          ],
          "scatterpolar": [
           {
            "marker": {
             "colorbar": {
              "outlinewidth": 0,
              "ticks": ""
             }
            },
            "type": "scatterpolar"
           }
          ],
          "scatterpolargl": [
           {
            "marker": {
             "colorbar": {
              "outlinewidth": 0,
              "ticks": ""
             }
            },
            "type": "scatterpolargl"
           }
          ],
          "scatterternary": [
           {
            "marker": {
             "colorbar": {
              "outlinewidth": 0,
              "ticks": ""
             }
            },
            "type": "scatterternary"
           }
          ],
          "surface": [
           {
            "colorbar": {
             "outlinewidth": 0,
             "ticks": ""
            },
            "colorscale": [
             [
              0,
              "#0d0887"
             ],
             [
              0.1111111111111111,
              "#46039f"
             ],
             [
              0.2222222222222222,
              "#7201a8"
             ],
             [
              0.3333333333333333,
              "#9c179e"
             ],
             [
              0.4444444444444444,
              "#bd3786"
             ],
             [
              0.5555555555555556,
              "#d8576b"
             ],
             [
              0.6666666666666666,
              "#ed7953"
             ],
             [
              0.7777777777777778,
              "#fb9f3a"
             ],
             [
              0.8888888888888888,
              "#fdca26"
             ],
             [
              1,
              "#f0f921"
             ]
            ],
            "type": "surface"
           }
          ],
          "table": [
           {
            "cells": {
             "fill": {
              "color": "#EBF0F8"
             },
             "line": {
              "color": "white"
             }
            },
            "header": {
             "fill": {
              "color": "#C8D4E3"
             },
             "line": {
              "color": "white"
             }
            },
            "type": "table"
           }
          ]
         },
         "layout": {
          "annotationdefaults": {
           "arrowcolor": "#2a3f5f",
           "arrowhead": 0,
           "arrowwidth": 1
          },
          "autotypenumbers": "strict",
          "coloraxis": {
           "colorbar": {
            "outlinewidth": 0,
            "ticks": ""
           }
          },
          "colorscale": {
           "diverging": [
            [
             0,
             "#8e0152"
            ],
            [
             0.1,
             "#c51b7d"
            ],
            [
             0.2,
             "#de77ae"
            ],
            [
             0.3,
             "#f1b6da"
            ],
            [
             0.4,
             "#fde0ef"
            ],
            [
             0.5,
             "#f7f7f7"
            ],
            [
             0.6,
             "#e6f5d0"
            ],
            [
             0.7,
             "#b8e186"
            ],
            [
             0.8,
             "#7fbc41"
            ],
            [
             0.9,
             "#4d9221"
            ],
            [
             1,
             "#276419"
            ]
           ],
           "sequential": [
            [
             0,
             "#0d0887"
            ],
            [
             0.1111111111111111,
             "#46039f"
            ],
            [
             0.2222222222222222,
             "#7201a8"
            ],
            [
             0.3333333333333333,
             "#9c179e"
            ],
            [
             0.4444444444444444,
             "#bd3786"
            ],
            [
             0.5555555555555556,
             "#d8576b"
            ],
            [
             0.6666666666666666,
             "#ed7953"
            ],
            [
             0.7777777777777778,
             "#fb9f3a"
            ],
            [
             0.8888888888888888,
             "#fdca26"
            ],
            [
             1,
             "#f0f921"
            ]
           ],
           "sequentialminus": [
            [
             0,
             "#0d0887"
            ],
            [
             0.1111111111111111,
             "#46039f"
            ],
            [
             0.2222222222222222,
             "#7201a8"
            ],
            [
             0.3333333333333333,
             "#9c179e"
            ],
            [
             0.4444444444444444,
             "#bd3786"
            ],
            [
             0.5555555555555556,
             "#d8576b"
            ],
            [
             0.6666666666666666,
             "#ed7953"
            ],
            [
             0.7777777777777778,
             "#fb9f3a"
            ],
            [
             0.8888888888888888,
             "#fdca26"
            ],
            [
             1,
             "#f0f921"
            ]
           ]
          },
          "colorway": [
           "#636efa",
           "#EF553B",
           "#00cc96",
           "#ab63fa",
           "#FFA15A",
           "#19d3f3",
           "#FF6692",
           "#B6E880",
           "#FF97FF",
           "#FECB52"
          ],
          "font": {
           "color": "#2a3f5f"
          },
          "geo": {
           "bgcolor": "white",
           "lakecolor": "white",
           "landcolor": "#E5ECF6",
           "showlakes": true,
           "showland": true,
           "subunitcolor": "white"
          },
          "hoverlabel": {
           "align": "left"
          },
          "hovermode": "closest",
          "mapbox": {
           "style": "light"
          },
          "paper_bgcolor": "white",
          "plot_bgcolor": "#E5ECF6",
          "polar": {
           "angularaxis": {
            "gridcolor": "white",
            "linecolor": "white",
            "ticks": ""
           },
           "bgcolor": "#E5ECF6",
           "radialaxis": {
            "gridcolor": "white",
            "linecolor": "white",
            "ticks": ""
           }
          },
          "scene": {
           "xaxis": {
            "backgroundcolor": "#E5ECF6",
            "gridcolor": "white",
            "gridwidth": 2,
            "linecolor": "white",
            "showbackground": true,
            "ticks": "",
            "zerolinecolor": "white"
           },
           "yaxis": {
            "backgroundcolor": "#E5ECF6",
            "gridcolor": "white",
            "gridwidth": 2,
            "linecolor": "white",
            "showbackground": true,
            "ticks": "",
            "zerolinecolor": "white"
           },
           "zaxis": {
            "backgroundcolor": "#E5ECF6",
            "gridcolor": "white",
            "gridwidth": 2,
            "linecolor": "white",
            "showbackground": true,
            "ticks": "",
            "zerolinecolor": "white"
           }
          },
          "shapedefaults": {
           "line": {
            "color": "#2a3f5f"
           }
          },
          "ternary": {
           "aaxis": {
            "gridcolor": "white",
            "linecolor": "white",
            "ticks": ""
           },
           "baxis": {
            "gridcolor": "white",
            "linecolor": "white",
            "ticks": ""
           },
           "bgcolor": "#E5ECF6",
           "caxis": {
            "gridcolor": "white",
            "linecolor": "white",
            "ticks": ""
           }
          },
          "title": {
           "x": 0.05
          },
          "xaxis": {
           "automargin": true,
           "gridcolor": "white",
           "linecolor": "white",
           "ticks": "",
           "title": {
            "standoff": 15
           },
           "zerolinecolor": "white",
           "zerolinewidth": 2
          },
          "yaxis": {
           "automargin": true,
           "gridcolor": "white",
           "linecolor": "white",
           "ticks": "",
           "title": {
            "standoff": 15
           },
           "zerolinecolor": "white",
           "zerolinewidth": 2
          }
         }
        },
        "width": 1000,
        "xaxis": {
         "anchor": "y",
         "domain": [
          0,
          1
         ],
         "title": {
          "text": "Importance"
         }
        },
        "yaxis": {
         "anchor": "x",
         "categoryorder": "total ascending",
         "domain": [
          0,
          1
         ],
         "title": {
          "text": "Feature"
         }
        }
       }
      }
     },
     "metadata": {},
     "output_type": "display_data"
    }
   ],
   "source": [
    "#plotar a importancia das features\n",
    "fig = px.bar(df_feature_importances,\n",
    "             x='Importance',\n",
    "             y='Feature',\n",
    "             orientation='h')\n",
    "\n",
    "fig.update_layout(height=1280, width=1000, yaxis={'categoryorder': 'total ascending'})"
   ]
  },
  {
   "cell_type": "markdown",
   "id": "090d8fb5",
   "metadata": {},
   "source": [
    "### Some more things"
   ]
  },
  {
   "cell_type": "code",
   "execution_count": null,
   "id": "0578bf8e",
   "metadata": {},
   "outputs": [
    {
     "data": {
      "text/plain": [
       "[array([6647, 2395, 3964, ..., 5215, 2295,  480]),\n",
       " array([ 914, 6214, 4940, ...,  111, 6462, 2927]),\n",
       " array([6067, 5889, 4247, ..., 5093,  220, 6752]),\n",
       " array([ 405, 6461, 1538, ..., 2355, 1434, 5213]),\n",
       " array([3226, 4034, 4872, ...,  587, 5567, 4657])]"
      ]
     },
     "execution_count": 123,
     "metadata": {},
     "output_type": "execute_result"
    }
   ],
   "source": [
    "bagging_model.estimators_samples_"
   ]
  },
  {
   "cell_type": "code",
   "execution_count": null,
   "id": "ab1b4d7f",
   "metadata": {},
   "outputs": [
    {
     "data": {
      "text/plain": [
       "(2177,)"
      ]
     },
     "execution_count": 172,
     "metadata": {},
     "output_type": "execute_result"
    }
   ],
   "source": [
    "bagging_model.estimators_samples_[0].shape"
   ]
  },
  {
   "cell_type": "code",
   "execution_count": null,
   "id": "767dd67d",
   "metadata": {},
   "outputs": [
    {
     "data": {
      "text/plain": [
       "[array([ 5, 12,  7,  2, 46, 40, 45,  9,  8, 56,  4, 54, 32, 63, 53, 34, 51,\n",
       "        33, 59, 50]),\n",
       " array([13, 19, 63, 34, 43, 30, 67, 29, 55, 21,  7, 52, 47, 59, 14, 56, 66,\n",
       "        57, 39, 27]),\n",
       " array([10,  3,  5, 52, 20, 41, 63, 17, 37,  2, 44, 45,  9, 32, 57, 48, 40,\n",
       "        24, 25, 16]),\n",
       " array([11, 24, 51, 48,  6, 64, 34, 60, 45, 25, 63, 67, 17, 27, 14, 56, 57,\n",
       "         5, 41, 43]),\n",
       " array([13, 19, 59, 62, 50,  4,  7, 23, 47, 64, 21,  9, 12, 29, 35, 52,  2,\n",
       "        45, 28, 51])]"
      ]
     },
     "execution_count": 173,
     "metadata": {},
     "output_type": "execute_result"
    }
   ],
   "source": [
    "bagging_model.estimators_features_"
   ]
  },
  {
   "cell_type": "code",
   "execution_count": null,
   "id": "bbd6146b",
   "metadata": {},
   "outputs": [],
   "source": [
    "#predizer probabilidade de conversão\n",
    "y_pred_prob = bagging_model.predict_proba(X_test)"
   ]
  },
  {
   "cell_type": "code",
   "execution_count": null,
   "id": "3243b1a9",
   "metadata": {},
   "outputs": [
    {
     "data": {
      "text/plain": [
       "array([[0.45416619, 0.54583381],\n",
       "       [0.72937115, 0.27062885],\n",
       "       [0.72937115, 0.27062885],\n",
       "       ...,\n",
       "       [0.7631031 , 0.2368969 ],\n",
       "       [0.75700224, 0.24299776],\n",
       "       [0.3712033 , 0.6287967 ]])"
      ]
     },
     "execution_count": 176,
     "metadata": {},
     "output_type": "execute_result"
    }
   ],
   "source": [
    "y_pred_prob"
   ]
  },
  {
   "cell_type": "markdown",
   "id": "29862da1",
   "metadata": {},
   "source": [
    "## Cenarios de CRM - Utilidade da probabilidade\n",
    "\n",
    "CRM\n",
    "- Leads concluidos = Resultado positivo ou negativo\n",
    "- Leads em aberto = nâo tenho Resultado\n",
    "\n",
    "Treine um modelo no que está concluido para que ele generalize bem no que está em aberto\n",
    "\n",
    "Lead em aberto \n",
    "- Probabilidade de Converter\n",
    "Quando muito alto, podemos olhar com mais foco pra realmente converter, quando muito baixo, podemos meio que descartar\n",
    "- Importância das Features\n"
   ]
  },
  {
   "cell_type": "code",
   "execution_count": 270,
   "id": "f1433c22",
   "metadata": {},
   "outputs": [],
   "source": [
    "df_leads.to_csv('./datasets/leads_cleaned.csv', index=False)"
   ]
  },
  {
   "cell_type": "code",
   "execution_count": 271,
   "id": "fb041f84",
   "metadata": {},
   "outputs": [
    {
     "data": {
      "text/plain": [
       "['./preprocessor_leads.pkl']"
      ]
     },
     "execution_count": 271,
     "metadata": {},
     "output_type": "execute_result"
    }
   ],
   "source": [
    "import joblib\n",
    "\n",
    "joblib.dump(preprocessor, './preprocessor_leads.pkl')"
   ]
  }
 ],
 "metadata": {
  "kernelspec": {
   "display_name": "Geral-iNcLO_qr",
   "language": "python",
   "name": "python3"
  },
  "language_info": {
   "codemirror_mode": {
    "name": "ipython",
    "version": 3
   },
   "file_extension": ".py",
   "mimetype": "text/x-python",
   "name": "python",
   "nbconvert_exporter": "python",
   "pygments_lexer": "ipython3",
   "version": "3.12.1"
  }
 },
 "nbformat": 4,
 "nbformat_minor": 5
}
