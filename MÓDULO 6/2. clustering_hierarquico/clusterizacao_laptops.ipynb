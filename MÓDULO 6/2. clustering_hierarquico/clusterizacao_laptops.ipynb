{
 "cells": [
  {
   "cell_type": "code",
   "execution_count": 1,
   "id": "fb5c80f6",
   "metadata": {},
   "outputs": [],
   "source": [
    "import pandas as pd \n",
    "import seaborn as sns\n",
    "import plotly.express as px \n",
    "import matplotlib.pyplot as plt\n",
    "\n",
    "from sklearn.cluster import AgglomerativeClustering, BisectingKMeans\n",
    "from sklearn.preprocessing import StandardScaler, OneHotEncoder\n",
    "from sklearn.metrics import silhouette_score\n",
    "from sklearn.compose import ColumnTransformer\n",
    "import numpy as np\n",
    "from scipy.cluster.hierarchy import dendrogram, linkage, cut_tree\n",
    "\n",
    "import optuna"
   ]
  },
  {
   "cell_type": "markdown",
   "id": "8f611191",
   "metadata": {},
   "source": [
    "### Carregar dados"
   ]
  },
  {
   "cell_type": "code",
   "execution_count": 2,
   "id": "84bdafd3",
   "metadata": {},
   "outputs": [],
   "source": [
    "df_laptops = pd.read_csv('./datasets/data.csv')"
   ]
  },
  {
   "cell_type": "code",
   "execution_count": 3,
   "id": "669fd286",
   "metadata": {},
   "outputs": [
    {
     "name": "stdout",
     "output_type": "stream",
     "text": [
      "<class 'pandas.core.frame.DataFrame'>\n",
      "RangeIndex: 991 entries, 0 to 990\n",
      "Data columns (total 20 columns):\n",
      " #   Column                    Non-Null Count  Dtype  \n",
      "---  ------                    --------------  -----  \n",
      " 0   index                     991 non-null    int64  \n",
      " 1   brand                     991 non-null    object \n",
      " 2   model                     991 non-null    object \n",
      " 3   price                     991 non-null    float64\n",
      " 4   rating                    991 non-null    int64  \n",
      " 5   processor_brand           991 non-null    object \n",
      " 6   processor_tier            991 non-null    object \n",
      " 7   num_cores                 991 non-null    int64  \n",
      " 8   num_threads               991 non-null    int64  \n",
      " 9   ram_memory                991 non-null    int64  \n",
      " 10  primary_storage_type      991 non-null    object \n",
      " 11  primary_storage_capacity  991 non-null    int64  \n",
      " 12  gpu_brand                 991 non-null    object \n",
      " 13  gpu_type                  991 non-null    object \n",
      " 14  is_touch_screen           991 non-null    bool   \n",
      " 15  display_size              991 non-null    float64\n",
      " 16  resolution_width          991 non-null    int64  \n",
      " 17  resolution_height         991 non-null    int64  \n",
      " 18  os                        991 non-null    object \n",
      " 19  year_of_warranty          991 non-null    object \n",
      "dtypes: bool(1), float64(2), int64(8), object(9)\n",
      "memory usage: 148.2+ KB\n"
     ]
    }
   ],
   "source": [
    "df_laptops.info()"
   ]
  },
  {
   "cell_type": "code",
   "execution_count": 4,
   "id": "1c392b02",
   "metadata": {},
   "outputs": [
    {
     "data": {
      "text/html": [
       "<div>\n",
       "<style scoped>\n",
       "    .dataframe tbody tr th:only-of-type {\n",
       "        vertical-align: middle;\n",
       "    }\n",
       "\n",
       "    .dataframe tbody tr th {\n",
       "        vertical-align: top;\n",
       "    }\n",
       "\n",
       "    .dataframe thead th {\n",
       "        text-align: right;\n",
       "    }\n",
       "</style>\n",
       "<table border=\"1\" class=\"dataframe\">\n",
       "  <thead>\n",
       "    <tr style=\"text-align: right;\">\n",
       "      <th></th>\n",
       "      <th>index</th>\n",
       "      <th>brand</th>\n",
       "      <th>model</th>\n",
       "      <th>price</th>\n",
       "      <th>rating</th>\n",
       "      <th>processor_brand</th>\n",
       "      <th>processor_tier</th>\n",
       "      <th>num_cores</th>\n",
       "      <th>num_threads</th>\n",
       "      <th>ram_memory</th>\n",
       "      <th>primary_storage_type</th>\n",
       "      <th>primary_storage_capacity</th>\n",
       "      <th>gpu_brand</th>\n",
       "      <th>gpu_type</th>\n",
       "      <th>is_touch_screen</th>\n",
       "      <th>display_size</th>\n",
       "      <th>resolution_width</th>\n",
       "      <th>resolution_height</th>\n",
       "      <th>os</th>\n",
       "      <th>year_of_warranty</th>\n",
       "    </tr>\n",
       "  </thead>\n",
       "  <tbody>\n",
       "    <tr>\n",
       "      <th>0</th>\n",
       "      <td>1</td>\n",
       "      <td>tecno</td>\n",
       "      <td>Tecno Megabook T1 Laptop (11th Gen Core i3/ 8G...</td>\n",
       "      <td>287.72</td>\n",
       "      <td>63</td>\n",
       "      <td>intel</td>\n",
       "      <td>core i3</td>\n",
       "      <td>2</td>\n",
       "      <td>4</td>\n",
       "      <td>8</td>\n",
       "      <td>SSD</td>\n",
       "      <td>512</td>\n",
       "      <td>intel</td>\n",
       "      <td>integrated</td>\n",
       "      <td>False</td>\n",
       "      <td>15.6</td>\n",
       "      <td>1920</td>\n",
       "      <td>1080</td>\n",
       "      <td>windows</td>\n",
       "      <td>1</td>\n",
       "    </tr>\n",
       "    <tr>\n",
       "      <th>1</th>\n",
       "      <td>2</td>\n",
       "      <td>tecno</td>\n",
       "      <td>Tecno Megabook T1 Laptop (11th Gen Core i7/ 16...</td>\n",
       "      <td>431.64</td>\n",
       "      <td>67</td>\n",
       "      <td>intel</td>\n",
       "      <td>core i7</td>\n",
       "      <td>4</td>\n",
       "      <td>8</td>\n",
       "      <td>16</td>\n",
       "      <td>SSD</td>\n",
       "      <td>1024</td>\n",
       "      <td>intel</td>\n",
       "      <td>integrated</td>\n",
       "      <td>False</td>\n",
       "      <td>15.6</td>\n",
       "      <td>1920</td>\n",
       "      <td>1080</td>\n",
       "      <td>windows</td>\n",
       "      <td>1</td>\n",
       "    </tr>\n",
       "    <tr>\n",
       "      <th>2</th>\n",
       "      <td>3</td>\n",
       "      <td>hp</td>\n",
       "      <td>HP Victus 15-fb0157AX Gaming Laptop (AMD Ryzen...</td>\n",
       "      <td>612.86</td>\n",
       "      <td>73</td>\n",
       "      <td>amd</td>\n",
       "      <td>ryzen 5</td>\n",
       "      <td>6</td>\n",
       "      <td>12</td>\n",
       "      <td>8</td>\n",
       "      <td>SSD</td>\n",
       "      <td>512</td>\n",
       "      <td>amd</td>\n",
       "      <td>dedicated</td>\n",
       "      <td>False</td>\n",
       "      <td>15.6</td>\n",
       "      <td>1920</td>\n",
       "      <td>1080</td>\n",
       "      <td>windows</td>\n",
       "      <td>1</td>\n",
       "    </tr>\n",
       "    <tr>\n",
       "      <th>3</th>\n",
       "      <td>4</td>\n",
       "      <td>acer</td>\n",
       "      <td>Acer Extensa EX214-53 Laptop (12th Gen Core i5...</td>\n",
       "      <td>479.62</td>\n",
       "      <td>62</td>\n",
       "      <td>intel</td>\n",
       "      <td>core i5</td>\n",
       "      <td>12</td>\n",
       "      <td>16</td>\n",
       "      <td>8</td>\n",
       "      <td>SSD</td>\n",
       "      <td>512</td>\n",
       "      <td>intel</td>\n",
       "      <td>integrated</td>\n",
       "      <td>False</td>\n",
       "      <td>14.0</td>\n",
       "      <td>1920</td>\n",
       "      <td>1080</td>\n",
       "      <td>windows</td>\n",
       "      <td>1</td>\n",
       "    </tr>\n",
       "    <tr>\n",
       "      <th>4</th>\n",
       "      <td>5</td>\n",
       "      <td>lenovo</td>\n",
       "      <td>Lenovo V15 82KDA01BIH Laptop (AMD Ryzen 3 5300...</td>\n",
       "      <td>342.77</td>\n",
       "      <td>62</td>\n",
       "      <td>amd</td>\n",
       "      <td>ryzen 3</td>\n",
       "      <td>4</td>\n",
       "      <td>8</td>\n",
       "      <td>8</td>\n",
       "      <td>SSD</td>\n",
       "      <td>512</td>\n",
       "      <td>amd</td>\n",
       "      <td>integrated</td>\n",
       "      <td>False</td>\n",
       "      <td>15.6</td>\n",
       "      <td>1920</td>\n",
       "      <td>1080</td>\n",
       "      <td>windows</td>\n",
       "      <td>1</td>\n",
       "    </tr>\n",
       "    <tr>\n",
       "      <th>5</th>\n",
       "      <td>6</td>\n",
       "      <td>apple</td>\n",
       "      <td>Apple MacBook Air 2020 MGND3HN Laptop (Apple M...</td>\n",
       "      <td>851.41</td>\n",
       "      <td>45</td>\n",
       "      <td>apple</td>\n",
       "      <td>m1</td>\n",
       "      <td>8</td>\n",
       "      <td>8</td>\n",
       "      <td>8</td>\n",
       "      <td>SSD</td>\n",
       "      <td>256</td>\n",
       "      <td>apple</td>\n",
       "      <td>apple</td>\n",
       "      <td>False</td>\n",
       "      <td>13.3</td>\n",
       "      <td>2560</td>\n",
       "      <td>1600</td>\n",
       "      <td>mac</td>\n",
       "      <td>1</td>\n",
       "    </tr>\n",
       "    <tr>\n",
       "      <th>6</th>\n",
       "      <td>7</td>\n",
       "      <td>infinix</td>\n",
       "      <td>Infinix INBook Y2 Plus Laptop (11th Gen Core i...</td>\n",
       "      <td>419.65</td>\n",
       "      <td>56</td>\n",
       "      <td>intel</td>\n",
       "      <td>core i5</td>\n",
       "      <td>4</td>\n",
       "      <td>8</td>\n",
       "      <td>16</td>\n",
       "      <td>SSD</td>\n",
       "      <td>512</td>\n",
       "      <td>intel</td>\n",
       "      <td>integrated</td>\n",
       "      <td>False</td>\n",
       "      <td>15.6</td>\n",
       "      <td>1920</td>\n",
       "      <td>1080</td>\n",
       "      <td>windows</td>\n",
       "      <td>1</td>\n",
       "    </tr>\n",
       "    <tr>\n",
       "      <th>7</th>\n",
       "      <td>8</td>\n",
       "      <td>asus</td>\n",
       "      <td>Asus TUF Gaming F15 FX506HF-HN024W Gaming Lapt...</td>\n",
       "      <td>599.55</td>\n",
       "      <td>70</td>\n",
       "      <td>intel</td>\n",
       "      <td>core i5</td>\n",
       "      <td>6</td>\n",
       "      <td>12</td>\n",
       "      <td>8</td>\n",
       "      <td>SSD</td>\n",
       "      <td>512</td>\n",
       "      <td>nvidia</td>\n",
       "      <td>dedicated</td>\n",
       "      <td>False</td>\n",
       "      <td>15.6</td>\n",
       "      <td>1920</td>\n",
       "      <td>1080</td>\n",
       "      <td>windows</td>\n",
       "      <td>1</td>\n",
       "    </tr>\n",
       "    <tr>\n",
       "      <th>8</th>\n",
       "      <td>9</td>\n",
       "      <td>hp</td>\n",
       "      <td>HP 15s-fq5007TU Laptop (12th Gen Core i3/ 8GB/...</td>\n",
       "      <td>443.64</td>\n",
       "      <td>60</td>\n",
       "      <td>intel</td>\n",
       "      <td>core i3</td>\n",
       "      <td>6</td>\n",
       "      <td>8</td>\n",
       "      <td>8</td>\n",
       "      <td>SSD</td>\n",
       "      <td>512</td>\n",
       "      <td>intel</td>\n",
       "      <td>integrated</td>\n",
       "      <td>False</td>\n",
       "      <td>15.6</td>\n",
       "      <td>1920</td>\n",
       "      <td>1080</td>\n",
       "      <td>windows</td>\n",
       "      <td>1</td>\n",
       "    </tr>\n",
       "    <tr>\n",
       "      <th>9</th>\n",
       "      <td>10</td>\n",
       "      <td>infinix</td>\n",
       "      <td>Infinix Zerobook 2023 Laptop (13th Gen Core i9...</td>\n",
       "      <td>719.48</td>\n",
       "      <td>71</td>\n",
       "      <td>intel</td>\n",
       "      <td>core i9</td>\n",
       "      <td>14</td>\n",
       "      <td>20</td>\n",
       "      <td>32</td>\n",
       "      <td>SSD</td>\n",
       "      <td>1024</td>\n",
       "      <td>intel</td>\n",
       "      <td>integrated</td>\n",
       "      <td>False</td>\n",
       "      <td>15.6</td>\n",
       "      <td>1920</td>\n",
       "      <td>1080</td>\n",
       "      <td>windows</td>\n",
       "      <td>1</td>\n",
       "    </tr>\n",
       "  </tbody>\n",
       "</table>\n",
       "</div>"
      ],
      "text/plain": [
       "   index    brand                                              model   price  \\\n",
       "0      1    tecno  Tecno Megabook T1 Laptop (11th Gen Core i3/ 8G...  287.72   \n",
       "1      2    tecno  Tecno Megabook T1 Laptop (11th Gen Core i7/ 16...  431.64   \n",
       "2      3       hp  HP Victus 15-fb0157AX Gaming Laptop (AMD Ryzen...  612.86   \n",
       "3      4     acer  Acer Extensa EX214-53 Laptop (12th Gen Core i5...  479.62   \n",
       "4      5   lenovo  Lenovo V15 82KDA01BIH Laptop (AMD Ryzen 3 5300...  342.77   \n",
       "5      6    apple  Apple MacBook Air 2020 MGND3HN Laptop (Apple M...  851.41   \n",
       "6      7  infinix  Infinix INBook Y2 Plus Laptop (11th Gen Core i...  419.65   \n",
       "7      8     asus  Asus TUF Gaming F15 FX506HF-HN024W Gaming Lapt...  599.55   \n",
       "8      9       hp  HP 15s-fq5007TU Laptop (12th Gen Core i3/ 8GB/...  443.64   \n",
       "9     10  infinix  Infinix Zerobook 2023 Laptop (13th Gen Core i9...  719.48   \n",
       "\n",
       "   rating processor_brand processor_tier  num_cores  num_threads  ram_memory  \\\n",
       "0      63           intel        core i3          2            4           8   \n",
       "1      67           intel        core i7          4            8          16   \n",
       "2      73             amd        ryzen 5          6           12           8   \n",
       "3      62           intel        core i5         12           16           8   \n",
       "4      62             amd        ryzen 3          4            8           8   \n",
       "5      45           apple             m1          8            8           8   \n",
       "6      56           intel        core i5          4            8          16   \n",
       "7      70           intel        core i5          6           12           8   \n",
       "8      60           intel        core i3          6            8           8   \n",
       "9      71           intel        core i9         14           20          32   \n",
       "\n",
       "  primary_storage_type  primary_storage_capacity gpu_brand    gpu_type  \\\n",
       "0                  SSD                       512     intel  integrated   \n",
       "1                  SSD                      1024     intel  integrated   \n",
       "2                  SSD                       512       amd   dedicated   \n",
       "3                  SSD                       512     intel  integrated   \n",
       "4                  SSD                       512       amd  integrated   \n",
       "5                  SSD                       256     apple       apple   \n",
       "6                  SSD                       512     intel  integrated   \n",
       "7                  SSD                       512    nvidia   dedicated   \n",
       "8                  SSD                       512     intel  integrated   \n",
       "9                  SSD                      1024     intel  integrated   \n",
       "\n",
       "   is_touch_screen  display_size  resolution_width  resolution_height  \\\n",
       "0            False          15.6              1920               1080   \n",
       "1            False          15.6              1920               1080   \n",
       "2            False          15.6              1920               1080   \n",
       "3            False          14.0              1920               1080   \n",
       "4            False          15.6              1920               1080   \n",
       "5            False          13.3              2560               1600   \n",
       "6            False          15.6              1920               1080   \n",
       "7            False          15.6              1920               1080   \n",
       "8            False          15.6              1920               1080   \n",
       "9            False          15.6              1920               1080   \n",
       "\n",
       "        os year_of_warranty  \n",
       "0  windows                1  \n",
       "1  windows                1  \n",
       "2  windows                1  \n",
       "3  windows                1  \n",
       "4  windows                1  \n",
       "5      mac                1  \n",
       "6  windows                1  \n",
       "7  windows                1  \n",
       "8  windows                1  \n",
       "9  windows                1  "
      ]
     },
     "execution_count": 4,
     "metadata": {},
     "output_type": "execute_result"
    }
   ],
   "source": [
    "df_laptops.head(10)"
   ]
  },
  {
   "cell_type": "markdown",
   "id": "cf0ab3ce",
   "metadata": {},
   "source": [
    "### EDA"
   ]
  },
  {
   "cell_type": "code",
   "execution_count": 5,
   "id": "e4b88d6c",
   "metadata": {},
   "outputs": [
    {
     "data": {
      "text/html": [
       "<div>\n",
       "<style scoped>\n",
       "    .dataframe tbody tr th:only-of-type {\n",
       "        vertical-align: middle;\n",
       "    }\n",
       "\n",
       "    .dataframe tbody tr th {\n",
       "        vertical-align: top;\n",
       "    }\n",
       "\n",
       "    .dataframe thead th {\n",
       "        text-align: right;\n",
       "    }\n",
       "</style>\n",
       "<table border=\"1\" class=\"dataframe\">\n",
       "  <thead>\n",
       "    <tr style=\"text-align: right;\">\n",
       "      <th></th>\n",
       "      <th>index</th>\n",
       "      <th>price</th>\n",
       "      <th>rating</th>\n",
       "      <th>num_cores</th>\n",
       "      <th>num_threads</th>\n",
       "      <th>ram_memory</th>\n",
       "      <th>primary_storage_capacity</th>\n",
       "      <th>display_size</th>\n",
       "      <th>resolution_width</th>\n",
       "      <th>resolution_height</th>\n",
       "    </tr>\n",
       "  </thead>\n",
       "  <tbody>\n",
       "    <tr>\n",
       "      <th>count</th>\n",
       "      <td>991.000000</td>\n",
       "      <td>991.000000</td>\n",
       "      <td>991.000000</td>\n",
       "      <td>991.000000</td>\n",
       "      <td>991.000000</td>\n",
       "      <td>991.000000</td>\n",
       "      <td>991.000000</td>\n",
       "      <td>991.000000</td>\n",
       "      <td>991.000000</td>\n",
       "      <td>991.000000</td>\n",
       "    </tr>\n",
       "    <tr>\n",
       "      <th>mean</th>\n",
       "      <td>505.860747</td>\n",
       "      <td>926.687487</td>\n",
       "      <td>63.931382</td>\n",
       "      <td>8.128153</td>\n",
       "      <td>12.191726</td>\n",
       "      <td>13.047427</td>\n",
       "      <td>610.938446</td>\n",
       "      <td>15.171241</td>\n",
       "      <td>2003.503532</td>\n",
       "      <td>1181.227043</td>\n",
       "    </tr>\n",
       "    <tr>\n",
       "      <th>std</th>\n",
       "      <td>287.899458</td>\n",
       "      <td>688.239764</td>\n",
       "      <td>10.190575</td>\n",
       "      <td>4.215499</td>\n",
       "      <td>5.585115</td>\n",
       "      <td>5.591188</td>\n",
       "      <td>266.927666</td>\n",
       "      <td>0.938089</td>\n",
       "      <td>361.965292</td>\n",
       "      <td>263.884019</td>\n",
       "    </tr>\n",
       "    <tr>\n",
       "      <th>min</th>\n",
       "      <td>1.000000</td>\n",
       "      <td>117.540000</td>\n",
       "      <td>24.000000</td>\n",
       "      <td>2.000000</td>\n",
       "      <td>0.000000</td>\n",
       "      <td>2.000000</td>\n",
       "      <td>32.000000</td>\n",
       "      <td>10.100000</td>\n",
       "      <td>1080.000000</td>\n",
       "      <td>768.000000</td>\n",
       "    </tr>\n",
       "    <tr>\n",
       "      <th>25%</th>\n",
       "      <td>258.500000</td>\n",
       "      <td>522.850000</td>\n",
       "      <td>58.000000</td>\n",
       "      <td>6.000000</td>\n",
       "      <td>8.000000</td>\n",
       "      <td>8.000000</td>\n",
       "      <td>512.000000</td>\n",
       "      <td>14.000000</td>\n",
       "      <td>1920.000000</td>\n",
       "      <td>1080.000000</td>\n",
       "    </tr>\n",
       "    <tr>\n",
       "      <th>50%</th>\n",
       "      <td>507.000000</td>\n",
       "      <td>742.390000</td>\n",
       "      <td>64.000000</td>\n",
       "      <td>8.000000</td>\n",
       "      <td>12.000000</td>\n",
       "      <td>16.000000</td>\n",
       "      <td>512.000000</td>\n",
       "      <td>15.600000</td>\n",
       "      <td>1920.000000</td>\n",
       "      <td>1080.000000</td>\n",
       "    </tr>\n",
       "    <tr>\n",
       "      <th>75%</th>\n",
       "      <td>754.500000</td>\n",
       "      <td>1070.350000</td>\n",
       "      <td>71.000000</td>\n",
       "      <td>10.000000</td>\n",
       "      <td>16.000000</td>\n",
       "      <td>16.000000</td>\n",
       "      <td>512.000000</td>\n",
       "      <td>15.600000</td>\n",
       "      <td>1920.000000</td>\n",
       "      <td>1200.000000</td>\n",
       "    </tr>\n",
       "    <tr>\n",
       "      <th>max</th>\n",
       "      <td>1002.000000</td>\n",
       "      <td>5450.880000</td>\n",
       "      <td>89.000000</td>\n",
       "      <td>24.000000</td>\n",
       "      <td>32.000000</td>\n",
       "      <td>36.000000</td>\n",
       "      <td>2048.000000</td>\n",
       "      <td>18.000000</td>\n",
       "      <td>3840.000000</td>\n",
       "      <td>2560.000000</td>\n",
       "    </tr>\n",
       "  </tbody>\n",
       "</table>\n",
       "</div>"
      ],
      "text/plain": [
       "             index        price      rating   num_cores  num_threads  \\\n",
       "count   991.000000   991.000000  991.000000  991.000000   991.000000   \n",
       "mean    505.860747   926.687487   63.931382    8.128153    12.191726   \n",
       "std     287.899458   688.239764   10.190575    4.215499     5.585115   \n",
       "min       1.000000   117.540000   24.000000    2.000000     0.000000   \n",
       "25%     258.500000   522.850000   58.000000    6.000000     8.000000   \n",
       "50%     507.000000   742.390000   64.000000    8.000000    12.000000   \n",
       "75%     754.500000  1070.350000   71.000000   10.000000    16.000000   \n",
       "max    1002.000000  5450.880000   89.000000   24.000000    32.000000   \n",
       "\n",
       "       ram_memory  primary_storage_capacity  display_size  resolution_width  \\\n",
       "count  991.000000                991.000000    991.000000        991.000000   \n",
       "mean    13.047427                610.938446     15.171241       2003.503532   \n",
       "std      5.591188                266.927666      0.938089        361.965292   \n",
       "min      2.000000                 32.000000     10.100000       1080.000000   \n",
       "25%      8.000000                512.000000     14.000000       1920.000000   \n",
       "50%     16.000000                512.000000     15.600000       1920.000000   \n",
       "75%     16.000000                512.000000     15.600000       1920.000000   \n",
       "max     36.000000               2048.000000     18.000000       3840.000000   \n",
       "\n",
       "       resolution_height  \n",
       "count         991.000000  \n",
       "mean         1181.227043  \n",
       "std           263.884019  \n",
       "min           768.000000  \n",
       "25%          1080.000000  \n",
       "50%          1080.000000  \n",
       "75%          1200.000000  \n",
       "max          2560.000000  "
      ]
     },
     "execution_count": 5,
     "metadata": {},
     "output_type": "execute_result"
    }
   ],
   "source": [
    "# Estatiscticas das variaveis\n",
    "df_laptops.describe()"
   ]
  },
  {
   "cell_type": "code",
   "execution_count": 6,
   "id": "94b3089c",
   "metadata": {},
   "outputs": [
    {
     "data": {
      "text/plain": [
       "array(['1', '2', 'No information', '3'], dtype=object)"
      ]
     },
     "execution_count": 6,
     "metadata": {},
     "output_type": "execute_result"
    }
   ],
   "source": [
    "#checar variavel year of warranty\n",
    "df_laptops['year_of_warranty'].unique()"
   ]
  },
  {
   "cell_type": "code",
   "execution_count": 7,
   "id": "e4946791",
   "metadata": {},
   "outputs": [
    {
     "name": "stderr",
     "output_type": "stream",
     "text": [
      "C:\\Users\\ThayanneCristinedaSi\\AppData\\Local\\Temp\\ipykernel_26936\\1631204978.py:2: FutureWarning: Setting an item of incompatible dtype is deprecated and will raise an error in a future version of pandas. Value '1' has dtype incompatible with bool, please explicitly cast to a compatible dtype first.\n",
      "  df_laptops.loc[df_laptops['year_of_warranty'] == 'No information'] = 1\n"
     ]
    }
   ],
   "source": [
    "#substituir no information por 0\n",
    "df_laptops.loc[df_laptops['year_of_warranty'] == 'No information'] = 1\n",
    "df_laptops['year_of_warranty'] = df_laptops['year_of_warranty'].astype(int)"
   ]
  },
  {
   "cell_type": "code",
   "execution_count": 8,
   "id": "f3325d39",
   "metadata": {},
   "outputs": [],
   "source": [
    "#transforma boleana em int (is touch screen)\n",
    "df_laptops['is_touch_screen'] = df_laptops['is_touch_screen'].astype(int)"
   ]
  },
  {
   "cell_type": "code",
   "execution_count": 9,
   "id": "cb93130c",
   "metadata": {},
   "outputs": [
    {
     "data": {
      "application/vnd.plotly.v1+json": {
       "config": {
        "plotlyServerURL": "https://plot.ly"
       },
       "data": [
        {
         "hovertemplate": "brand=%{x}<br>value=%{y}<extra></extra>",
         "legendgroup": "asus",
         "marker": {
          "color": "#636efa",
          "pattern": {
           "shape": ""
          }
         },
         "name": "asus",
         "orientation": "v",
         "showlegend": true,
         "textposition": "auto",
         "type": "bar",
         "x": [
          "asus"
         ],
         "xaxis": "x",
         "y": {
          "bdata": "pBsLy9IwNUA=",
          "dtype": "f8"
         },
         "yaxis": "y"
        },
        {
         "hovertemplate": "brand=%{x}<br>value=%{y}<extra></extra>",
         "legendgroup": "hp",
         "marker": {
          "color": "#EF553B",
          "pattern": {
           "shape": ""
          }
         },
         "name": "hp",
         "orientation": "v",
         "showlegend": true,
         "textposition": "auto",
         "type": "bar",
         "x": [
          "hp"
         ],
         "xaxis": "x",
         "y": {
          "bdata": "yqt59/57NEA=",
          "dtype": "f8"
         },
         "yaxis": "y"
        },
        {
         "hovertemplate": "brand=%{x}<br>value=%{y}<extra></extra>",
         "legendgroup": "lenovo",
         "marker": {
          "color": "#00cc96",
          "pattern": {
           "shape": ""
          }
         },
         "name": "lenovo",
         "orientation": "v",
         "showlegend": true,
         "textposition": "auto",
         "type": "bar",
         "x": [
          "lenovo"
         ],
         "xaxis": "x",
         "y": {
          "bdata": "TEeUfqoUNEA=",
          "dtype": "f8"
         },
         "yaxis": "y"
        },
        {
         "hovertemplate": "brand=%{x}<br>value=%{y}<extra></extra>",
         "legendgroup": "dell",
         "marker": {
          "color": "#ab63fa",
          "pattern": {
           "shape": ""
          }
         },
         "name": "dell",
         "orientation": "v",
         "showlegend": true,
         "textposition": "auto",
         "type": "bar",
         "x": [
          "dell"
         ],
         "xaxis": "x",
         "y": {
          "bdata": "J7clUn7JJEA=",
          "dtype": "f8"
         },
         "yaxis": "y"
        },
        {
         "hovertemplate": "brand=%{x}<br>value=%{y}<extra></extra>",
         "legendgroup": "acer",
         "marker": {
          "color": "#FFA15A",
          "pattern": {
           "shape": ""
          }
         },
         "name": "acer",
         "orientation": "v",
         "showlegend": true,
         "textposition": "auto",
         "type": "bar",
         "x": [
          "acer"
         ],
         "xaxis": "x",
         "y": {
          "bdata": "u/ffAy/2IUA=",
          "dtype": "f8"
         },
         "yaxis": "y"
        },
        {
         "hovertemplate": "brand=%{x}<br>value=%{y}<extra></extra>",
         "legendgroup": "msi",
         "marker": {
          "color": "#19d3f3",
          "pattern": {
           "shape": ""
          }
         },
         "name": "msi",
         "orientation": "v",
         "showlegend": true,
         "textposition": "auto",
         "type": "bar",
         "x": [
          "msi"
         ],
         "xaxis": "x",
         "y": {
          "bdata": "ibPX4zIlIEA=",
          "dtype": "f8"
         },
         "yaxis": "y"
        },
        {
         "hovertemplate": "brand=%{x}<br>value=%{y}<extra></extra>",
         "legendgroup": "1",
         "marker": {
          "color": "#FF6692",
          "pattern": {
           "shape": ""
          }
         },
         "name": "1",
         "orientation": "v",
         "showlegend": true,
         "textposition": "auto",
         "type": "bar",
         "x": [
          1
         ],
         "xaxis": "x",
         "y": {
          "bdata": "KkOEAMIP/T8=",
          "dtype": "f8"
         },
         "yaxis": "y"
        },
        {
         "hovertemplate": "brand=%{x}<br>value=%{y}<extra></extra>",
         "legendgroup": "apple",
         "marker": {
          "color": "#B6E880",
          "pattern": {
           "shape": ""
          }
         },
         "name": "apple",
         "orientation": "v",
         "showlegend": true,
         "textposition": "auto",
         "type": "bar",
         "x": [
          "apple"
         ],
         "xaxis": "x",
         "y": {
          "bdata": "To3DVcw3+D8=",
          "dtype": "f8"
         },
         "yaxis": "y"
        },
        {
         "hovertemplate": "brand=%{x}<br>value=%{y}<extra></extra>",
         "legendgroup": "infinix",
         "marker": {
          "color": "#FF97FF",
          "pattern": {
           "shape": ""
          }
         },
         "name": "infinix",
         "orientation": "v",
         "showlegend": true,
         "textposition": "auto",
         "type": "bar",
         "x": [
          "infinix"
         ],
         "xaxis": "x",
         "y": {
          "bdata": "ZWmYjij99D8=",
          "dtype": "f8"
         },
         "yaxis": "y"
        },
        {
         "hovertemplate": "brand=%{x}<br>value=%{y}<extra></extra>",
         "legendgroup": "zebronics",
         "marker": {
          "color": "#FECB52",
          "pattern": {
           "shape": ""
          }
         },
         "name": "zebronics",
         "orientation": "v",
         "showlegend": true,
         "textposition": "auto",
         "type": "bar",
         "x": [
          "zebronics"
         ],
         "xaxis": "x",
         "y": {
          "bdata": "Wvstcnqa5j8=",
          "dtype": "f8"
         },
         "yaxis": "y"
        },
        {
         "hovertemplate": "brand=%{x}<br>value=%{y}<extra></extra>",
         "legendgroup": "lg",
         "marker": {
          "color": "#636efa",
          "pattern": {
           "shape": ""
          }
         },
         "name": "lg",
         "orientation": "v",
         "showlegend": true,
         "textposition": "auto",
         "type": "bar",
         "x": [
          "lg"
         ],
         "xaxis": "x",
         "y": {
          "bdata": "Wvstcnqa5j8=",
          "dtype": "f8"
         },
         "yaxis": "y"
        },
        {
         "hovertemplate": "brand=%{x}<br>value=%{y}<extra></extra>",
         "legendgroup": "ultimus",
         "marker": {
          "color": "#EF553B",
          "pattern": {
           "shape": ""
          }
         },
         "name": "ultimus",
         "orientation": "v",
         "showlegend": true,
         "textposition": "auto",
         "type": "bar",
         "x": [
          "ultimus"
         ],
         "xaxis": "x",
         "y": {
          "bdata": "cdcCq9Zf4z8=",
          "dtype": "f8"
         },
         "yaxis": "y"
        },
        {
         "hovertemplate": "brand=%{x}<br>value=%{y}<extra></extra>",
         "legendgroup": "samsung",
         "marker": {
          "color": "#00cc96",
          "pattern": {
           "shape": ""
          }
         },
         "name": "samsung",
         "orientation": "v",
         "showlegend": true,
         "textposition": "auto",
         "type": "bar",
         "x": [
          "samsung"
         ],
         "xaxis": "x",
         "y": {
          "bdata": "cdcCq9Zf4z8=",
          "dtype": "f8"
         },
         "yaxis": "y"
        },
        {
         "hovertemplate": "brand=%{x}<br>value=%{y}<extra></extra>",
         "legendgroup": "avita",
         "marker": {
          "color": "#ab63fa",
          "pattern": {
           "shape": ""
          }
         },
         "name": "avita",
         "orientation": "v",
         "showlegend": true,
         "textposition": "auto",
         "type": "bar",
         "x": [
          "avita"
         ],
         "xaxis": "x",
         "y": {
          "bdata": "ibPX4zIl4D8=",
          "dtype": "f8"
         },
         "yaxis": "y"
        },
        {
         "hovertemplate": "brand=%{x}<br>value=%{y}<extra></extra>",
         "legendgroup": "fujitsu",
         "marker": {
          "color": "#FFA15A",
          "pattern": {
           "shape": ""
          }
         },
         "name": "fujitsu",
         "orientation": "v",
         "showlegend": true,
         "textposition": "auto",
         "type": "bar",
         "x": [
          "fujitsu"
         ],
         "xaxis": "x",
         "y": {
          "bdata": "ibPX4zIl4D8=",
          "dtype": "f8"
         },
         "yaxis": "y"
        },
        {
         "hovertemplate": "brand=%{x}<br>value=%{y}<extra></extra>",
         "legendgroup": "chuwi",
         "marker": {
          "color": "#19d3f3",
          "pattern": {
           "shape": ""
          }
         },
         "name": "chuwi",
         "orientation": "v",
         "showlegend": true,
         "textposition": "auto",
         "type": "bar",
         "x": [
          "chuwi"
         ],
         "xaxis": "x",
         "y": {
          "bdata": "Qh9ZOR7V2T8=",
          "dtype": "f8"
         },
         "yaxis": "y"
        },
        {
         "hovertemplate": "brand=%{x}<br>value=%{y}<extra></extra>",
         "legendgroup": "wings",
         "marker": {
          "color": "#FF6692",
          "pattern": {
           "shape": ""
          }
         },
         "name": "wings",
         "orientation": "v",
         "showlegend": true,
         "textposition": "auto",
         "type": "bar",
         "x": [
          "wings"
         ],
         "xaxis": "x",
         "y": {
          "bdata": "Qh9ZOR7V2T8=",
          "dtype": "f8"
         },
         "yaxis": "y"
        },
        {
         "hovertemplate": "brand=%{x}<br>value=%{y}<extra></extra>",
         "legendgroup": "axl",
         "marker": {
          "color": "#B6E880",
          "pattern": {
           "shape": ""
          }
         },
         "name": "axl",
         "orientation": "v",
         "showlegend": true,
         "textposition": "auto",
         "type": "bar",
         "x": [
          "axl"
         ],
         "xaxis": "x",
         "y": {
          "bdata": "Qh9ZOR7VyT8=",
          "dtype": "f8"
         },
         "yaxis": "y"
        },
        {
         "hovertemplate": "brand=%{x}<br>value=%{y}<extra></extra>",
         "legendgroup": "microsoft",
         "marker": {
          "color": "#FF97FF",
          "pattern": {
           "shape": ""
          }
         },
         "name": "microsoft",
         "orientation": "v",
         "showlegend": true,
         "textposition": "auto",
         "type": "bar",
         "x": [
          "microsoft"
         ],
         "xaxis": "x",
         "y": {
          "bdata": "Qh9ZOR7VyT8=",
          "dtype": "f8"
         },
         "yaxis": "y"
        },
        {
         "hovertemplate": "brand=%{x}<br>value=%{y}<extra></extra>",
         "legendgroup": "honor",
         "marker": {
          "color": "#FECB52",
          "pattern": {
           "shape": ""
          }
         },
         "name": "honor",
         "orientation": "v",
         "showlegend": true,
         "textposition": "auto",
         "type": "bar",
         "x": [
          "honor"
         ],
         "xaxis": "x",
         "y": {
          "bdata": "Qh9ZOR7VyT8=",
          "dtype": "f8"
         },
         "yaxis": "y"
        },
        {
         "hovertemplate": "brand=%{x}<br>value=%{y}<extra></extra>",
         "legendgroup": "primebook",
         "marker": {
          "color": "#636efa",
          "pattern": {
           "shape": ""
          }
         },
         "name": "primebook",
         "orientation": "v",
         "showlegend": true,
         "textposition": "auto",
         "type": "bar",
         "x": [
          "primebook"
         ],
         "xaxis": "x",
         "y": {
          "bdata": "Qh9ZOR7VyT8=",
          "dtype": "f8"
         },
         "yaxis": "y"
        },
        {
         "hovertemplate": "brand=%{x}<br>value=%{y}<extra></extra>",
         "legendgroup": "realme",
         "marker": {
          "color": "#EF553B",
          "pattern": {
           "shape": ""
          }
         },
         "name": "realme",
         "orientation": "v",
         "showlegend": true,
         "textposition": "auto",
         "type": "bar",
         "x": [
          "realme"
         ],
         "xaxis": "x",
         "y": {
          "bdata": "Qh9ZOR7VyT8=",
          "dtype": "f8"
         },
         "yaxis": "y"
        },
        {
         "hovertemplate": "brand=%{x}<br>value=%{y}<extra></extra>",
         "legendgroup": "tecno",
         "marker": {
          "color": "#00cc96",
          "pattern": {
           "shape": ""
          }
         },
         "name": "tecno",
         "orientation": "v",
         "showlegend": true,
         "textposition": "auto",
         "type": "bar",
         "x": [
          "tecno"
         ],
         "xaxis": "x",
         "y": {
          "bdata": "Qh9ZOR7VyT8=",
          "dtype": "f8"
         },
         "yaxis": "y"
        },
        {
         "hovertemplate": "brand=%{x}<br>value=%{y}<extra></extra>",
         "legendgroup": "gigabyte",
         "marker": {
          "color": "#ab63fa",
          "pattern": {
           "shape": ""
          }
         },
         "name": "gigabyte",
         "orientation": "v",
         "showlegend": true,
         "textposition": "auto",
         "type": "bar",
         "x": [
          "gigabyte"
         ],
         "xaxis": "x",
         "y": {
          "bdata": "Qh9ZOR7VyT8=",
          "dtype": "f8"
         },
         "yaxis": "y"
        },
        {
         "hovertemplate": "brand=%{x}<br>value=%{y}<extra></extra>",
         "legendgroup": "jio",
         "marker": {
          "color": "#FFA15A",
          "pattern": {
           "shape": ""
          }
         },
         "name": "jio",
         "orientation": "v",
         "showlegend": true,
         "textposition": "auto",
         "type": "bar",
         "x": [
          "jio"
         ],
         "xaxis": "x",
         "y": {
          "bdata": "Qh9ZOR7VuT8=",
          "dtype": "f8"
         },
         "yaxis": "y"
        },
        {
         "hovertemplate": "brand=%{x}<br>value=%{y}<extra></extra>",
         "legendgroup": "iball",
         "marker": {
          "color": "#19d3f3",
          "pattern": {
           "shape": ""
          }
         },
         "name": "iball",
         "orientation": "v",
         "showlegend": true,
         "textposition": "auto",
         "type": "bar",
         "x": [
          "iball"
         ],
         "xaxis": "x",
         "y": {
          "bdata": "Qh9ZOR7VuT8=",
          "dtype": "f8"
         },
         "yaxis": "y"
        },
        {
         "hovertemplate": "brand=%{x}<br>value=%{y}<extra></extra>",
         "legendgroup": "walker",
         "marker": {
          "color": "#FF6692",
          "pattern": {
           "shape": ""
          }
         },
         "name": "walker",
         "orientation": "v",
         "showlegend": true,
         "textposition": "auto",
         "type": "bar",
         "x": [
          "walker"
         ],
         "xaxis": "x",
         "y": {
          "bdata": "Qh9ZOR7VuT8=",
          "dtype": "f8"
         },
         "yaxis": "y"
        }
       ],
       "layout": {
        "barmode": "relative",
        "legend": {
         "title": {
          "text": "brand"
         },
         "tracegroupgap": 0
        },
        "margin": {
         "t": 60
        },
        "template": {
         "data": {
          "bar": [
           {
            "error_x": {
             "color": "#2a3f5f"
            },
            "error_y": {
             "color": "#2a3f5f"
            },
            "marker": {
             "line": {
              "color": "#E5ECF6",
              "width": 0.5
             },
             "pattern": {
              "fillmode": "overlay",
              "size": 10,
              "solidity": 0.2
             }
            },
            "type": "bar"
           }
          ],
          "barpolar": [
           {
            "marker": {
             "line": {
              "color": "#E5ECF6",
              "width": 0.5
             },
             "pattern": {
              "fillmode": "overlay",
              "size": 10,
              "solidity": 0.2
             }
            },
            "type": "barpolar"
           }
          ],
          "carpet": [
           {
            "aaxis": {
             "endlinecolor": "#2a3f5f",
             "gridcolor": "white",
             "linecolor": "white",
             "minorgridcolor": "white",
             "startlinecolor": "#2a3f5f"
            },
            "baxis": {
             "endlinecolor": "#2a3f5f",
             "gridcolor": "white",
             "linecolor": "white",
             "minorgridcolor": "white",
             "startlinecolor": "#2a3f5f"
            },
            "type": "carpet"
           }
          ],
          "choropleth": [
           {
            "colorbar": {
             "outlinewidth": 0,
             "ticks": ""
            },
            "type": "choropleth"
           }
          ],
          "contour": [
           {
            "colorbar": {
             "outlinewidth": 0,
             "ticks": ""
            },
            "colorscale": [
             [
              0,
              "#0d0887"
             ],
             [
              0.1111111111111111,
              "#46039f"
             ],
             [
              0.2222222222222222,
              "#7201a8"
             ],
             [
              0.3333333333333333,
              "#9c179e"
             ],
             [
              0.4444444444444444,
              "#bd3786"
             ],
             [
              0.5555555555555556,
              "#d8576b"
             ],
             [
              0.6666666666666666,
              "#ed7953"
             ],
             [
              0.7777777777777778,
              "#fb9f3a"
             ],
             [
              0.8888888888888888,
              "#fdca26"
             ],
             [
              1,
              "#f0f921"
             ]
            ],
            "type": "contour"
           }
          ],
          "contourcarpet": [
           {
            "colorbar": {
             "outlinewidth": 0,
             "ticks": ""
            },
            "type": "contourcarpet"
           }
          ],
          "heatmap": [
           {
            "colorbar": {
             "outlinewidth": 0,
             "ticks": ""
            },
            "colorscale": [
             [
              0,
              "#0d0887"
             ],
             [
              0.1111111111111111,
              "#46039f"
             ],
             [
              0.2222222222222222,
              "#7201a8"
             ],
             [
              0.3333333333333333,
              "#9c179e"
             ],
             [
              0.4444444444444444,
              "#bd3786"
             ],
             [
              0.5555555555555556,
              "#d8576b"
             ],
             [
              0.6666666666666666,
              "#ed7953"
             ],
             [
              0.7777777777777778,
              "#fb9f3a"
             ],
             [
              0.8888888888888888,
              "#fdca26"
             ],
             [
              1,
              "#f0f921"
             ]
            ],
            "type": "heatmap"
           }
          ],
          "histogram": [
           {
            "marker": {
             "pattern": {
              "fillmode": "overlay",
              "size": 10,
              "solidity": 0.2
             }
            },
            "type": "histogram"
           }
          ],
          "histogram2d": [
           {
            "colorbar": {
             "outlinewidth": 0,
             "ticks": ""
            },
            "colorscale": [
             [
              0,
              "#0d0887"
             ],
             [
              0.1111111111111111,
              "#46039f"
             ],
             [
              0.2222222222222222,
              "#7201a8"
             ],
             [
              0.3333333333333333,
              "#9c179e"
             ],
             [
              0.4444444444444444,
              "#bd3786"
             ],
             [
              0.5555555555555556,
              "#d8576b"
             ],
             [
              0.6666666666666666,
              "#ed7953"
             ],
             [
              0.7777777777777778,
              "#fb9f3a"
             ],
             [
              0.8888888888888888,
              "#fdca26"
             ],
             [
              1,
              "#f0f921"
             ]
            ],
            "type": "histogram2d"
           }
          ],
          "histogram2dcontour": [
           {
            "colorbar": {
             "outlinewidth": 0,
             "ticks": ""
            },
            "colorscale": [
             [
              0,
              "#0d0887"
             ],
             [
              0.1111111111111111,
              "#46039f"
             ],
             [
              0.2222222222222222,
              "#7201a8"
             ],
             [
              0.3333333333333333,
              "#9c179e"
             ],
             [
              0.4444444444444444,
              "#bd3786"
             ],
             [
              0.5555555555555556,
              "#d8576b"
             ],
             [
              0.6666666666666666,
              "#ed7953"
             ],
             [
              0.7777777777777778,
              "#fb9f3a"
             ],
             [
              0.8888888888888888,
              "#fdca26"
             ],
             [
              1,
              "#f0f921"
             ]
            ],
            "type": "histogram2dcontour"
           }
          ],
          "mesh3d": [
           {
            "colorbar": {
             "outlinewidth": 0,
             "ticks": ""
            },
            "type": "mesh3d"
           }
          ],
          "parcoords": [
           {
            "line": {
             "colorbar": {
              "outlinewidth": 0,
              "ticks": ""
             }
            },
            "type": "parcoords"
           }
          ],
          "pie": [
           {
            "automargin": true,
            "type": "pie"
           }
          ],
          "scatter": [
           {
            "fillpattern": {
             "fillmode": "overlay",
             "size": 10,
             "solidity": 0.2
            },
            "type": "scatter"
           }
          ],
          "scatter3d": [
           {
            "line": {
             "colorbar": {
              "outlinewidth": 0,
              "ticks": ""
             }
            },
            "marker": {
             "colorbar": {
              "outlinewidth": 0,
              "ticks": ""
             }
            },
            "type": "scatter3d"
           }
          ],
          "scattercarpet": [
           {
            "marker": {
             "colorbar": {
              "outlinewidth": 0,
              "ticks": ""
             }
            },
            "type": "scattercarpet"
           }
          ],
          "scattergeo": [
           {
            "marker": {
             "colorbar": {
              "outlinewidth": 0,
              "ticks": ""
             }
            },
            "type": "scattergeo"
           }
          ],
          "scattergl": [
           {
            "marker": {
             "colorbar": {
              "outlinewidth": 0,
              "ticks": ""
             }
            },
            "type": "scattergl"
           }
          ],
          "scattermap": [
           {
            "marker": {
             "colorbar": {
              "outlinewidth": 0,
              "ticks": ""
             }
            },
            "type": "scattermap"
           }
          ],
          "scattermapbox": [
           {
            "marker": {
             "colorbar": {
              "outlinewidth": 0,
              "ticks": ""
             }
            },
            "type": "scattermapbox"
           }
          ],
          "scatterpolar": [
           {
            "marker": {
             "colorbar": {
              "outlinewidth": 0,
              "ticks": ""
             }
            },
            "type": "scatterpolar"
           }
          ],
          "scatterpolargl": [
           {
            "marker": {
             "colorbar": {
              "outlinewidth": 0,
              "ticks": ""
             }
            },
            "type": "scatterpolargl"
           }
          ],
          "scatterternary": [
           {
            "marker": {
             "colorbar": {
              "outlinewidth": 0,
              "ticks": ""
             }
            },
            "type": "scatterternary"
           }
          ],
          "surface": [
           {
            "colorbar": {
             "outlinewidth": 0,
             "ticks": ""
            },
            "colorscale": [
             [
              0,
              "#0d0887"
             ],
             [
              0.1111111111111111,
              "#46039f"
             ],
             [
              0.2222222222222222,
              "#7201a8"
             ],
             [
              0.3333333333333333,
              "#9c179e"
             ],
             [
              0.4444444444444444,
              "#bd3786"
             ],
             [
              0.5555555555555556,
              "#d8576b"
             ],
             [
              0.6666666666666666,
              "#ed7953"
             ],
             [
              0.7777777777777778,
              "#fb9f3a"
             ],
             [
              0.8888888888888888,
              "#fdca26"
             ],
             [
              1,
              "#f0f921"
             ]
            ],
            "type": "surface"
           }
          ],
          "table": [
           {
            "cells": {
             "fill": {
              "color": "#EBF0F8"
             },
             "line": {
              "color": "white"
             }
            },
            "header": {
             "fill": {
              "color": "#C8D4E3"
             },
             "line": {
              "color": "white"
             }
            },
            "type": "table"
           }
          ]
         },
         "layout": {
          "annotationdefaults": {
           "arrowcolor": "#2a3f5f",
           "arrowhead": 0,
           "arrowwidth": 1
          },
          "autotypenumbers": "strict",
          "coloraxis": {
           "colorbar": {
            "outlinewidth": 0,
            "ticks": ""
           }
          },
          "colorscale": {
           "diverging": [
            [
             0,
             "#8e0152"
            ],
            [
             0.1,
             "#c51b7d"
            ],
            [
             0.2,
             "#de77ae"
            ],
            [
             0.3,
             "#f1b6da"
            ],
            [
             0.4,
             "#fde0ef"
            ],
            [
             0.5,
             "#f7f7f7"
            ],
            [
             0.6,
             "#e6f5d0"
            ],
            [
             0.7,
             "#b8e186"
            ],
            [
             0.8,
             "#7fbc41"
            ],
            [
             0.9,
             "#4d9221"
            ],
            [
             1,
             "#276419"
            ]
           ],
           "sequential": [
            [
             0,
             "#0d0887"
            ],
            [
             0.1111111111111111,
             "#46039f"
            ],
            [
             0.2222222222222222,
             "#7201a8"
            ],
            [
             0.3333333333333333,
             "#9c179e"
            ],
            [
             0.4444444444444444,
             "#bd3786"
            ],
            [
             0.5555555555555556,
             "#d8576b"
            ],
            [
             0.6666666666666666,
             "#ed7953"
            ],
            [
             0.7777777777777778,
             "#fb9f3a"
            ],
            [
             0.8888888888888888,
             "#fdca26"
            ],
            [
             1,
             "#f0f921"
            ]
           ],
           "sequentialminus": [
            [
             0,
             "#0d0887"
            ],
            [
             0.1111111111111111,
             "#46039f"
            ],
            [
             0.2222222222222222,
             "#7201a8"
            ],
            [
             0.3333333333333333,
             "#9c179e"
            ],
            [
             0.4444444444444444,
             "#bd3786"
            ],
            [
             0.5555555555555556,
             "#d8576b"
            ],
            [
             0.6666666666666666,
             "#ed7953"
            ],
            [
             0.7777777777777778,
             "#fb9f3a"
            ],
            [
             0.8888888888888888,
             "#fdca26"
            ],
            [
             1,
             "#f0f921"
            ]
           ]
          },
          "colorway": [
           "#636efa",
           "#EF553B",
           "#00cc96",
           "#ab63fa",
           "#FFA15A",
           "#19d3f3",
           "#FF6692",
           "#B6E880",
           "#FF97FF",
           "#FECB52"
          ],
          "font": {
           "color": "#2a3f5f"
          },
          "geo": {
           "bgcolor": "white",
           "lakecolor": "white",
           "landcolor": "#E5ECF6",
           "showlakes": true,
           "showland": true,
           "subunitcolor": "white"
          },
          "hoverlabel": {
           "align": "left"
          },
          "hovermode": "closest",
          "mapbox": {
           "style": "light"
          },
          "paper_bgcolor": "white",
          "plot_bgcolor": "#E5ECF6",
          "polar": {
           "angularaxis": {
            "gridcolor": "white",
            "linecolor": "white",
            "ticks": ""
           },
           "bgcolor": "#E5ECF6",
           "radialaxis": {
            "gridcolor": "white",
            "linecolor": "white",
            "ticks": ""
           }
          },
          "scene": {
           "xaxis": {
            "backgroundcolor": "#E5ECF6",
            "gridcolor": "white",
            "gridwidth": 2,
            "linecolor": "white",
            "showbackground": true,
            "ticks": "",
            "zerolinecolor": "white"
           },
           "yaxis": {
            "backgroundcolor": "#E5ECF6",
            "gridcolor": "white",
            "gridwidth": 2,
            "linecolor": "white",
            "showbackground": true,
            "ticks": "",
            "zerolinecolor": "white"
           },
           "zaxis": {
            "backgroundcolor": "#E5ECF6",
            "gridcolor": "white",
            "gridwidth": 2,
            "linecolor": "white",
            "showbackground": true,
            "ticks": "",
            "zerolinecolor": "white"
           }
          },
          "shapedefaults": {
           "line": {
            "color": "#2a3f5f"
           }
          },
          "ternary": {
           "aaxis": {
            "gridcolor": "white",
            "linecolor": "white",
            "ticks": ""
           },
           "baxis": {
            "gridcolor": "white",
            "linecolor": "white",
            "ticks": ""
           },
           "bgcolor": "#E5ECF6",
           "caxis": {
            "gridcolor": "white",
            "linecolor": "white",
            "ticks": ""
           }
          },
          "title": {
           "x": 0.05
          },
          "xaxis": {
           "automargin": true,
           "gridcolor": "white",
           "linecolor": "white",
           "ticks": "",
           "title": {
            "standoff": 15
           },
           "zerolinecolor": "white",
           "zerolinewidth": 2
          },
          "yaxis": {
           "automargin": true,
           "gridcolor": "white",
           "linecolor": "white",
           "ticks": "",
           "title": {
            "standoff": 15
           },
           "zerolinecolor": "white",
           "zerolinewidth": 2
          }
         }
        },
        "xaxis": {
         "anchor": "y",
         "categoryarray": [
          "asus",
          "hp",
          "lenovo",
          "dell",
          "acer",
          "msi",
          1,
          "apple",
          "infinix",
          "zebronics",
          "lg",
          "ultimus",
          "samsung",
          "avita",
          "fujitsu",
          "chuwi",
          "wings",
          "axl",
          "microsoft",
          "honor",
          "primebook",
          "realme",
          "tecno",
          "gigabyte",
          "jio",
          "iball",
          "walker"
         ],
         "categoryorder": "array",
         "domain": [
          0,
          1
         ],
         "title": {
          "text": "brand"
         }
        },
        "yaxis": {
         "anchor": "x",
         "domain": [
          0,
          1
         ],
         "title": {
          "text": "value"
         }
        }
       }
      }
     },
     "metadata": {},
     "output_type": "display_data"
    }
   ],
   "source": [
    "#distribuição da variavel brand\n",
    "percentual_brand = df_laptops.value_counts('brand') / len(df_laptops) * 100\n",
    "px.bar(percentual_brand, color=percentual_brand.index)"
   ]
  },
  {
   "cell_type": "code",
   "execution_count": 10,
   "id": "5d543c87",
   "metadata": {},
   "outputs": [
    {
     "data": {
      "application/vnd.plotly.v1+json": {
       "config": {
        "plotlyServerURL": "https://plot.ly"
       },
       "data": [
        {
         "hovertemplate": "processor_brand=%{x}<br>value=%{y}<extra></extra>",
         "legendgroup": "intel",
         "marker": {
          "color": "#636efa",
          "pattern": {
           "shape": ""
          }
         },
         "name": "intel",
         "orientation": "v",
         "showlegend": true,
         "textposition": "auto",
         "type": "bar",
         "x": [
          "intel"
         ],
         "xaxis": "x",
         "y": {
          "bdata": "AOGHTjBbUUA=",
          "dtype": "f8"
         },
         "yaxis": "y"
        },
        {
         "hovertemplate": "processor_brand=%{x}<br>value=%{y}<extra></extra>",
         "legendgroup": "amd",
         "marker": {
          "color": "#EF553B",
          "pattern": {
           "shape": ""
          }
         },
         "name": "amd",
         "orientation": "v",
         "showlegend": true,
         "textposition": "auto",
         "type": "bar",
         "x": [
          "amd"
         ],
         "xaxis": "x",
         "y": {
          "bdata": "e5qWZ3HXOkA=",
          "dtype": "f8"
         },
         "yaxis": "y"
        },
        {
         "hovertemplate": "processor_brand=%{x}<br>value=%{y}<extra></extra>",
         "legendgroup": "1",
         "marker": {
          "color": "#00cc96",
          "pattern": {
           "shape": ""
          }
         },
         "name": "1",
         "orientation": "v",
         "showlegend": true,
         "textposition": "auto",
         "type": "bar",
         "x": [
          1
         ],
         "xaxis": "x",
         "y": {
          "bdata": "KkOEAMIP/T8=",
          "dtype": "f8"
         },
         "yaxis": "y"
        },
        {
         "hovertemplate": "processor_brand=%{x}<br>value=%{y}<extra></extra>",
         "legendgroup": "apple",
         "marker": {
          "color": "#ab63fa",
          "pattern": {
           "shape": ""
          }
         },
         "name": "apple",
         "orientation": "v",
         "showlegend": true,
         "textposition": "auto",
         "type": "bar",
         "x": [
          "apple"
         ],
         "xaxis": "x",
         "y": {
          "bdata": "To3DVcw3+D8=",
          "dtype": "f8"
         },
         "yaxis": "y"
        },
        {
         "hovertemplate": "processor_brand=%{x}<br>value=%{y}<extra></extra>",
         "legendgroup": "other",
         "marker": {
          "color": "#FFA15A",
          "pattern": {
           "shape": ""
          }
         },
         "name": "other",
         "orientation": "v",
         "showlegend": true,
         "textposition": "auto",
         "type": "bar",
         "x": [
          "other"
         ],
         "xaxis": "x",
         "y": {
          "bdata": "Qh9ZOR7V2T8=",
          "dtype": "f8"
         },
         "yaxis": "y"
        }
       ],
       "layout": {
        "barmode": "relative",
        "legend": {
         "title": {
          "text": "processor_brand"
         },
         "tracegroupgap": 0
        },
        "margin": {
         "t": 60
        },
        "template": {
         "data": {
          "bar": [
           {
            "error_x": {
             "color": "#2a3f5f"
            },
            "error_y": {
             "color": "#2a3f5f"
            },
            "marker": {
             "line": {
              "color": "#E5ECF6",
              "width": 0.5
             },
             "pattern": {
              "fillmode": "overlay",
              "size": 10,
              "solidity": 0.2
             }
            },
            "type": "bar"
           }
          ],
          "barpolar": [
           {
            "marker": {
             "line": {
              "color": "#E5ECF6",
              "width": 0.5
             },
             "pattern": {
              "fillmode": "overlay",
              "size": 10,
              "solidity": 0.2
             }
            },
            "type": "barpolar"
           }
          ],
          "carpet": [
           {
            "aaxis": {
             "endlinecolor": "#2a3f5f",
             "gridcolor": "white",
             "linecolor": "white",
             "minorgridcolor": "white",
             "startlinecolor": "#2a3f5f"
            },
            "baxis": {
             "endlinecolor": "#2a3f5f",
             "gridcolor": "white",
             "linecolor": "white",
             "minorgridcolor": "white",
             "startlinecolor": "#2a3f5f"
            },
            "type": "carpet"
           }
          ],
          "choropleth": [
           {
            "colorbar": {
             "outlinewidth": 0,
             "ticks": ""
            },
            "type": "choropleth"
           }
          ],
          "contour": [
           {
            "colorbar": {
             "outlinewidth": 0,
             "ticks": ""
            },
            "colorscale": [
             [
              0,
              "#0d0887"
             ],
             [
              0.1111111111111111,
              "#46039f"
             ],
             [
              0.2222222222222222,
              "#7201a8"
             ],
             [
              0.3333333333333333,
              "#9c179e"
             ],
             [
              0.4444444444444444,
              "#bd3786"
             ],
             [
              0.5555555555555556,
              "#d8576b"
             ],
             [
              0.6666666666666666,
              "#ed7953"
             ],
             [
              0.7777777777777778,
              "#fb9f3a"
             ],
             [
              0.8888888888888888,
              "#fdca26"
             ],
             [
              1,
              "#f0f921"
             ]
            ],
            "type": "contour"
           }
          ],
          "contourcarpet": [
           {
            "colorbar": {
             "outlinewidth": 0,
             "ticks": ""
            },
            "type": "contourcarpet"
           }
          ],
          "heatmap": [
           {
            "colorbar": {
             "outlinewidth": 0,
             "ticks": ""
            },
            "colorscale": [
             [
              0,
              "#0d0887"
             ],
             [
              0.1111111111111111,
              "#46039f"
             ],
             [
              0.2222222222222222,
              "#7201a8"
             ],
             [
              0.3333333333333333,
              "#9c179e"
             ],
             [
              0.4444444444444444,
              "#bd3786"
             ],
             [
              0.5555555555555556,
              "#d8576b"
             ],
             [
              0.6666666666666666,
              "#ed7953"
             ],
             [
              0.7777777777777778,
              "#fb9f3a"
             ],
             [
              0.8888888888888888,
              "#fdca26"
             ],
             [
              1,
              "#f0f921"
             ]
            ],
            "type": "heatmap"
           }
          ],
          "histogram": [
           {
            "marker": {
             "pattern": {
              "fillmode": "overlay",
              "size": 10,
              "solidity": 0.2
             }
            },
            "type": "histogram"
           }
          ],
          "histogram2d": [
           {
            "colorbar": {
             "outlinewidth": 0,
             "ticks": ""
            },
            "colorscale": [
             [
              0,
              "#0d0887"
             ],
             [
              0.1111111111111111,
              "#46039f"
             ],
             [
              0.2222222222222222,
              "#7201a8"
             ],
             [
              0.3333333333333333,
              "#9c179e"
             ],
             [
              0.4444444444444444,
              "#bd3786"
             ],
             [
              0.5555555555555556,
              "#d8576b"
             ],
             [
              0.6666666666666666,
              "#ed7953"
             ],
             [
              0.7777777777777778,
              "#fb9f3a"
             ],
             [
              0.8888888888888888,
              "#fdca26"
             ],
             [
              1,
              "#f0f921"
             ]
            ],
            "type": "histogram2d"
           }
          ],
          "histogram2dcontour": [
           {
            "colorbar": {
             "outlinewidth": 0,
             "ticks": ""
            },
            "colorscale": [
             [
              0,
              "#0d0887"
             ],
             [
              0.1111111111111111,
              "#46039f"
             ],
             [
              0.2222222222222222,
              "#7201a8"
             ],
             [
              0.3333333333333333,
              "#9c179e"
             ],
             [
              0.4444444444444444,
              "#bd3786"
             ],
             [
              0.5555555555555556,
              "#d8576b"
             ],
             [
              0.6666666666666666,
              "#ed7953"
             ],
             [
              0.7777777777777778,
              "#fb9f3a"
             ],
             [
              0.8888888888888888,
              "#fdca26"
             ],
             [
              1,
              "#f0f921"
             ]
            ],
            "type": "histogram2dcontour"
           }
          ],
          "mesh3d": [
           {
            "colorbar": {
             "outlinewidth": 0,
             "ticks": ""
            },
            "type": "mesh3d"
           }
          ],
          "parcoords": [
           {
            "line": {
             "colorbar": {
              "outlinewidth": 0,
              "ticks": ""
             }
            },
            "type": "parcoords"
           }
          ],
          "pie": [
           {
            "automargin": true,
            "type": "pie"
           }
          ],
          "scatter": [
           {
            "fillpattern": {
             "fillmode": "overlay",
             "size": 10,
             "solidity": 0.2
            },
            "type": "scatter"
           }
          ],
          "scatter3d": [
           {
            "line": {
             "colorbar": {
              "outlinewidth": 0,
              "ticks": ""
             }
            },
            "marker": {
             "colorbar": {
              "outlinewidth": 0,
              "ticks": ""
             }
            },
            "type": "scatter3d"
           }
          ],
          "scattercarpet": [
           {
            "marker": {
             "colorbar": {
              "outlinewidth": 0,
              "ticks": ""
             }
            },
            "type": "scattercarpet"
           }
          ],
          "scattergeo": [
           {
            "marker": {
             "colorbar": {
              "outlinewidth": 0,
              "ticks": ""
             }
            },
            "type": "scattergeo"
           }
          ],
          "scattergl": [
           {
            "marker": {
             "colorbar": {
              "outlinewidth": 0,
              "ticks": ""
             }
            },
            "type": "scattergl"
           }
          ],
          "scattermap": [
           {
            "marker": {
             "colorbar": {
              "outlinewidth": 0,
              "ticks": ""
             }
            },
            "type": "scattermap"
           }
          ],
          "scattermapbox": [
           {
            "marker": {
             "colorbar": {
              "outlinewidth": 0,
              "ticks": ""
             }
            },
            "type": "scattermapbox"
           }
          ],
          "scatterpolar": [
           {
            "marker": {
             "colorbar": {
              "outlinewidth": 0,
              "ticks": ""
             }
            },
            "type": "scatterpolar"
           }
          ],
          "scatterpolargl": [
           {
            "marker": {
             "colorbar": {
              "outlinewidth": 0,
              "ticks": ""
             }
            },
            "type": "scatterpolargl"
           }
          ],
          "scatterternary": [
           {
            "marker": {
             "colorbar": {
              "outlinewidth": 0,
              "ticks": ""
             }
            },
            "type": "scatterternary"
           }
          ],
          "surface": [
           {
            "colorbar": {
             "outlinewidth": 0,
             "ticks": ""
            },
            "colorscale": [
             [
              0,
              "#0d0887"
             ],
             [
              0.1111111111111111,
              "#46039f"
             ],
             [
              0.2222222222222222,
              "#7201a8"
             ],
             [
              0.3333333333333333,
              "#9c179e"
             ],
             [
              0.4444444444444444,
              "#bd3786"
             ],
             [
              0.5555555555555556,
              "#d8576b"
             ],
             [
              0.6666666666666666,
              "#ed7953"
             ],
             [
              0.7777777777777778,
              "#fb9f3a"
             ],
             [
              0.8888888888888888,
              "#fdca26"
             ],
             [
              1,
              "#f0f921"
             ]
            ],
            "type": "surface"
           }
          ],
          "table": [
           {
            "cells": {
             "fill": {
              "color": "#EBF0F8"
             },
             "line": {
              "color": "white"
             }
            },
            "header": {
             "fill": {
              "color": "#C8D4E3"
             },
             "line": {
              "color": "white"
             }
            },
            "type": "table"
           }
          ]
         },
         "layout": {
          "annotationdefaults": {
           "arrowcolor": "#2a3f5f",
           "arrowhead": 0,
           "arrowwidth": 1
          },
          "autotypenumbers": "strict",
          "coloraxis": {
           "colorbar": {
            "outlinewidth": 0,
            "ticks": ""
           }
          },
          "colorscale": {
           "diverging": [
            [
             0,
             "#8e0152"
            ],
            [
             0.1,
             "#c51b7d"
            ],
            [
             0.2,
             "#de77ae"
            ],
            [
             0.3,
             "#f1b6da"
            ],
            [
             0.4,
             "#fde0ef"
            ],
            [
             0.5,
             "#f7f7f7"
            ],
            [
             0.6,
             "#e6f5d0"
            ],
            [
             0.7,
             "#b8e186"
            ],
            [
             0.8,
             "#7fbc41"
            ],
            [
             0.9,
             "#4d9221"
            ],
            [
             1,
             "#276419"
            ]
           ],
           "sequential": [
            [
             0,
             "#0d0887"
            ],
            [
             0.1111111111111111,
             "#46039f"
            ],
            [
             0.2222222222222222,
             "#7201a8"
            ],
            [
             0.3333333333333333,
             "#9c179e"
            ],
            [
             0.4444444444444444,
             "#bd3786"
            ],
            [
             0.5555555555555556,
             "#d8576b"
            ],
            [
             0.6666666666666666,
             "#ed7953"
            ],
            [
             0.7777777777777778,
             "#fb9f3a"
            ],
            [
             0.8888888888888888,
             "#fdca26"
            ],
            [
             1,
             "#f0f921"
            ]
           ],
           "sequentialminus": [
            [
             0,
             "#0d0887"
            ],
            [
             0.1111111111111111,
             "#46039f"
            ],
            [
             0.2222222222222222,
             "#7201a8"
            ],
            [
             0.3333333333333333,
             "#9c179e"
            ],
            [
             0.4444444444444444,
             "#bd3786"
            ],
            [
             0.5555555555555556,
             "#d8576b"
            ],
            [
             0.6666666666666666,
             "#ed7953"
            ],
            [
             0.7777777777777778,
             "#fb9f3a"
            ],
            [
             0.8888888888888888,
             "#fdca26"
            ],
            [
             1,
             "#f0f921"
            ]
           ]
          },
          "colorway": [
           "#636efa",
           "#EF553B",
           "#00cc96",
           "#ab63fa",
           "#FFA15A",
           "#19d3f3",
           "#FF6692",
           "#B6E880",
           "#FF97FF",
           "#FECB52"
          ],
          "font": {
           "color": "#2a3f5f"
          },
          "geo": {
           "bgcolor": "white",
           "lakecolor": "white",
           "landcolor": "#E5ECF6",
           "showlakes": true,
           "showland": true,
           "subunitcolor": "white"
          },
          "hoverlabel": {
           "align": "left"
          },
          "hovermode": "closest",
          "mapbox": {
           "style": "light"
          },
          "paper_bgcolor": "white",
          "plot_bgcolor": "#E5ECF6",
          "polar": {
           "angularaxis": {
            "gridcolor": "white",
            "linecolor": "white",
            "ticks": ""
           },
           "bgcolor": "#E5ECF6",
           "radialaxis": {
            "gridcolor": "white",
            "linecolor": "white",
            "ticks": ""
           }
          },
          "scene": {
           "xaxis": {
            "backgroundcolor": "#E5ECF6",
            "gridcolor": "white",
            "gridwidth": 2,
            "linecolor": "white",
            "showbackground": true,
            "ticks": "",
            "zerolinecolor": "white"
           },
           "yaxis": {
            "backgroundcolor": "#E5ECF6",
            "gridcolor": "white",
            "gridwidth": 2,
            "linecolor": "white",
            "showbackground": true,
            "ticks": "",
            "zerolinecolor": "white"
           },
           "zaxis": {
            "backgroundcolor": "#E5ECF6",
            "gridcolor": "white",
            "gridwidth": 2,
            "linecolor": "white",
            "showbackground": true,
            "ticks": "",
            "zerolinecolor": "white"
           }
          },
          "shapedefaults": {
           "line": {
            "color": "#2a3f5f"
           }
          },
          "ternary": {
           "aaxis": {
            "gridcolor": "white",
            "linecolor": "white",
            "ticks": ""
           },
           "baxis": {
            "gridcolor": "white",
            "linecolor": "white",
            "ticks": ""
           },
           "bgcolor": "#E5ECF6",
           "caxis": {
            "gridcolor": "white",
            "linecolor": "white",
            "ticks": ""
           }
          },
          "title": {
           "x": 0.05
          },
          "xaxis": {
           "automargin": true,
           "gridcolor": "white",
           "linecolor": "white",
           "ticks": "",
           "title": {
            "standoff": 15
           },
           "zerolinecolor": "white",
           "zerolinewidth": 2
          },
          "yaxis": {
           "automargin": true,
           "gridcolor": "white",
           "linecolor": "white",
           "ticks": "",
           "title": {
            "standoff": 15
           },
           "zerolinecolor": "white",
           "zerolinewidth": 2
          }
         }
        },
        "xaxis": {
         "anchor": "y",
         "categoryarray": [
          "intel",
          "amd",
          1,
          "apple",
          "other"
         ],
         "categoryorder": "array",
         "domain": [
          0,
          1
         ],
         "title": {
          "text": "processor_brand"
         }
        },
        "yaxis": {
         "anchor": "x",
         "domain": [
          0,
          1
         ],
         "title": {
          "text": "value"
         }
        }
       }
      }
     },
     "metadata": {},
     "output_type": "display_data"
    }
   ],
   "source": [
    "#distribuição da bvariavel processor_brand\n",
    "#distribuição da variavel brand\n",
    "percentual_brand = df_laptops.value_counts('processor_brand') / len(df_laptops) * 100\n",
    "px.bar(percentual_brand, color=percentual_brand.index)"
   ]
  },
  {
   "cell_type": "code",
   "execution_count": 11,
   "id": "a67c6f4e",
   "metadata": {},
   "outputs": [
    {
     "data": {
      "text/plain": [
       "<Axes: xlabel='price', ylabel='Count'>"
      ]
     },
     "execution_count": 11,
     "metadata": {},
     "output_type": "execute_result"
    },
    {
     "data": {
      "image/png": "[encoded data removed]",
      "text/plain": [
       "<Figure size 640x480 with 1 Axes>"
      ]
     },
     "metadata": {},
     "output_type": "display_data"
    }
   ],
   "source": [
    "#distribuição da variavel price\n",
    "sns.histplot(df_laptops['price'], kde=True)"
   ]
  },
  {
   "cell_type": "code",
   "execution_count": 12,
   "id": "f310300a",
   "metadata": {},
   "outputs": [
    {
     "data": {
      "text/plain": [
       "<Axes: xlabel='rating', ylabel='Count'>"
      ]
     },
     "execution_count": 12,
     "metadata": {},
     "output_type": "execute_result"
    },
    {
     "data": {
      "image/png": "[encoded data removed]",
      "text/plain": [
       "<Figure size 640x480 with 1 Axes>"
      ]
     },
     "metadata": {},
     "output_type": "display_data"
    }
   ],
   "source": [
    "#distribuição da variavel rating\n",
    "sns.histplot(df_laptops['rating'], kde=True)"
   ]
  },
  {
   "cell_type": "code",
   "execution_count": 13,
   "id": "b72defa9",
   "metadata": {},
   "outputs": [
    {
     "data": {
      "application/vnd.plotly.v1+json": {
       "config": {
        "plotlyServerURL": "https://plot.ly"
       },
       "data": [
        {
         "alignmentgroup": "True",
         "hovertemplate": "brand=%{y}<br>price=%{x}<extra></extra>",
         "legendgroup": "tecno",
         "marker": {
          "color": "#636efa"
         },
         "name": "tecno",
         "notched": false,
         "offsetgroup": "tecno",
         "orientation": "h",
         "showlegend": true,
         "type": "box",
         "x": {
          "bdata": "7FG4HoX7cUAK16NwPfp6QA==",
          "dtype": "f8"
         },
         "x0": " ",
         "xaxis": "x",
         "y": [
          "tecno",
          "tecno"
         ],
         "y0": " ",
         "yaxis": "y"
        },
        {
         "alignmentgroup": "True",
         "hovertemplate": "brand=%{y}<br>price=%{x}<extra></extra>",
         "legendgroup": "hp",
         "marker": {
          "color": "#EF553B"
         },
         "name": "hp",
         "notched": false,
         "offsetgroup": "hp",
         "orientation": "h",
         "showlegend": true,
         "type": "box",
         "x": {
          "bdata": "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",
          "dtype": "f8"
         },
         "x0": " ",
         "xaxis": "x",
         "y": [
          "hp",
          "hp",
          "hp",
          "hp",
          "hp",
          "hp",
          "hp",
          "hp",
          "hp",
          "hp",
          "hp",
          "hp",
          "hp",
          "hp",
          "hp",
          "hp",
          "hp",
          "hp",
          "hp",
          "hp",
          "hp",
          "hp",
          "hp",
          "hp",
          "hp",
          "hp",
          "hp",
          "hp",
          "hp",
          "hp",
          "hp",
          "hp",
          "hp",
          "hp",
          "hp",
          "hp",
          "hp",
          "hp",
          "hp",
          "hp",
          "hp",
          "hp",
          "hp",
          "hp",
          "hp",
          "hp",
          "hp",
          "hp",
          "hp",
          "hp",
          "hp",
          "hp",
          "hp",
          "hp",
          "hp",
          "hp",
          "hp",
          "hp",
          "hp",
          "hp",
          "hp",
          "hp",
          "hp",
          "hp",
          "hp",
          "hp",
          "hp",
          "hp",
          "hp",
          "hp",
          "hp",
          "hp",
          "hp",
          "hp",
          "hp",
          "hp",
          "hp",
          "hp",
          "hp",
          "hp",
          "hp",
          "hp",
          "hp",
          "hp",
          "hp",
          "hp",
          "hp",
          "hp",
          "hp",
          "hp",
          "hp",
          "hp",
          "hp",
          "hp",
          "hp",
          "hp",
          "hp",
          "hp",
          "hp",
          "hp",
          "hp",
          "hp",
          "hp",
          "hp",
          "hp",
          "hp",
          "hp",
          "hp",
          "hp",
          "hp",
          "hp",
          "hp",
          "hp",
          "hp",
          "hp",
          "hp",
          "hp",
          "hp",
          "hp",
          "hp",
          "hp",
          "hp",
          "hp",
          "hp",
          "hp",
          "hp",
          "hp",
          "hp",
          "hp",
          "hp",
          "hp",
          "hp",
          "hp",
          "hp",
          "hp",
          "hp",
          "hp",
          "hp",
          "hp",
          "hp",
          "hp",
          "hp",
          "hp",
          "hp",
          "hp",
          "hp",
          "hp",
          "hp",
          "hp",
          "hp",
          "hp",
          "hp",
          "hp",
          "hp",
          "hp",
          "hp",
          "hp",
          "hp",
          "hp",
          "hp",
          "hp",
          "hp",
          "hp",
          "hp",
          "hp",
          "hp",
          "hp",
          "hp",
          "hp",
          "hp",
          "hp",
          "hp",
          "hp",
          "hp",
          "hp",
          "hp",
          "hp",
          "hp",
          "hp",
          "hp",
          "hp",
          "hp",
          "hp",
          "hp",
          "hp",
          "hp",
          "hp",
          "hp",
          "hp",
          "hp",
          "hp",
          "hp",
          "hp",
          "hp",
          "hp",
          "hp",
          "hp",
          "hp",
          "hp",
          "hp",
          "hp",
          "hp",
          "hp"
         ],
         "y0": " ",
         "yaxis": "y"
        },
        {
         "alignmentgroup": "True",
         "hovertemplate": "brand=%{y}<br>price=%{x}<extra></extra>",
         "legendgroup": "acer",
         "marker": {
          "color": "#00cc96"
         },
         "name": "acer",
         "notched": false,
         "offsetgroup": "acer",
         "orientation": "h",
         "showlegend": true,
         "type": "box",
         "x": {
          "bdata": "Urgehev5fUB7FK5H4TqNQMP1KFyPnIFAZmZmZmY6ekDD9Shcj7p4QAAAAAAAXIVArkfhehR6fEBI4XoUrpt9QAAAAAAAzZFAFK5H4Xr8gUCPwvUoXHyWQPYoXI/CrJNAexSuR+E6d0BSuB6F6zl9QMP1KFyPunhAMzMzMzNbi0B7FK5HYd2gQB+F61G4+ndAexSuR+F6dkCkcD0K19uGQAAAAAAAXIVAj8L1KFx8lkAzMzMzM/t0QMP1KFyPnIFAexSuR+F6dkDsUbgehW2BQGZmZmZmvIJA7FG4HoXdgECamZmZmR2AQMP1KFyPnIFAw/UoXI9sgUAAAAAAAFyFQD0K16Nw1X1A7FG4HoX7cUDD9Shcj/yHQOxRuB6Fu4hAZmZmZma8gkBSuB6F6x+HQI/C9ShcG3NAUrgehev5fUBmZmZmZjp6QM3MzMzMHIBAAAAAAABchUAK16NwPdyDQArXo3A9untAmpmZmZl5f0D2KFyPwhl/QOF6FK5H+51AuB6F61FMiUAK16NwPfp6QK5H4XoUXJhAUrgehetLjECamZmZmXl/QDMzMzMz+4pAFK5H4XoUd0ApXI/C9Xh2QNejcD0KG3ZAzczMzMwcgED2KFyPwrl+QFyPwvUonIRAj8L1KFyneEDNzMzMzLx1QFK4HoXr+X1AZmZmZma8gkAfhetRuNaFQK5H4XoULIVAPQrXo3DzhEBmZmZmZt+aQFK4HoXrG4ZAXI/C9SjMmkBSuB6F6/l9QPYoXI/ClXtAXI/C9Sitk0AUrkfheoyVQNejcD0K3YBAXI/C9SitkECPwvUoXNuJQOxRuB6Fv6JAj8L1KFwxjUBxPQrXozyBQMP1KFyPunhAUrgehesNeEDXo3A9ilWhQClcj8J1bKdAMzMzMzP7dECkcD0K16uMQHsUrkfhenZACtejcD3ciUAAAAAAAEyMQA==",
          "dtype": "f8"
         },
         "x0": " ",
         "xaxis": "x",
         "y": [
          "acer",
          "acer",
          "acer",
          "acer",
          "acer",
          "acer",
          "acer",
          "acer",
          "acer",
          "acer",
          "acer",
          "acer",
          "acer",
          "acer",
          "acer",
          "acer",
          "acer",
          "acer",
          "acer",
          "acer",
          "acer",
          "acer",
          "acer",
          "acer",
          "acer",
          "acer",
          "acer",
          "acer",
          "acer",
          "acer",
          "acer",
          "acer",
          "acer",
          "acer",
          "acer",
          "acer",
          "acer",
          "acer",
          "acer",
          "acer",
          "acer",
          "acer",
          "acer",
          "acer",
          "acer",
          "acer",
          "acer",
          "acer",
          "acer",
          "acer",
          "acer",
          "acer",
          "acer",
          "acer",
          "acer",
          "acer",
          "acer",
          "acer",
          "acer",
          "acer",
          "acer",
          "acer",
          "acer",
          "acer",
          "acer",
          "acer",
          "acer",
          "acer",
          "acer",
          "acer",
          "acer",
          "acer",
          "acer",
          "acer",
          "acer",
          "acer",
          "acer",
          "acer",
          "acer",
          "acer",
          "acer",
          "acer",
          "acer",
          "acer",
          "acer",
          "acer",
          "acer",
          "acer",
          "acer"
         ],
         "y0": " ",
         "yaxis": "y"
        },
        {
         "alignmentgroup": "True",
         "hovertemplate": "brand=%{y}<br>price=%{x}<extra></extra>",
         "legendgroup": "lenovo",
         "marker": {
          "color": "#ab63fa"
         },
         "name": "lenovo",
         "notched": false,
         "offsetgroup": "lenovo",
         "orientation": "h",
         "showlegend": true,
         "type": "box",
         "x": {
          "bdata": "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",
          "dtype": "f8"
         },
         "x0": " ",
         "xaxis": "x",
         "y": [
          "lenovo",
          "lenovo",
          "lenovo",
          "lenovo",
          "lenovo",
          "lenovo",
          "lenovo",
          "lenovo",
          "lenovo",
          "lenovo",
          "lenovo",
          "lenovo",
          "lenovo",
          "lenovo",
          "lenovo",
          "lenovo",
          "lenovo",
          "lenovo",
          "lenovo",
          "lenovo",
          "lenovo",
          "lenovo",
          "lenovo",
          "lenovo",
          "lenovo",
          "lenovo",
          "lenovo",
          "lenovo",
          "lenovo",
          "lenovo",
          "lenovo",
          "lenovo",
          "lenovo",
          "lenovo",
          "lenovo",
          "lenovo",
          "lenovo",
          "lenovo",
          "lenovo",
          "lenovo",
          "lenovo",
          "lenovo",
          "lenovo",
          "lenovo",
          "lenovo",
          "lenovo",
          "lenovo",
          "lenovo",
          "lenovo",
          "lenovo",
          "lenovo",
          "lenovo",
          "lenovo",
          "lenovo",
          "lenovo",
          "lenovo",
          "lenovo",
          "lenovo",
          "lenovo",
          "lenovo",
          "lenovo",
          "lenovo",
          "lenovo",
          "lenovo",
          "lenovo",
          "lenovo",
          "lenovo",
          "lenovo",
          "lenovo",
          "lenovo",
          "lenovo",
          "lenovo",
          "lenovo",
          "lenovo",
          "lenovo",
          "lenovo",
          "lenovo",
          "lenovo",
          "lenovo",
          "lenovo",
          "lenovo",
          "lenovo",
          "lenovo",
          "lenovo",
          "lenovo",
          "lenovo",
          "lenovo",
          "lenovo",
          "lenovo",
          "lenovo",
          "lenovo",
          "lenovo",
          "lenovo",
          "lenovo",
          "lenovo",
          "lenovo",
          "lenovo",
          "lenovo",
          "lenovo",
          "lenovo",
          "lenovo",
          "lenovo",
          "lenovo",
          "lenovo",
          "lenovo",
          "lenovo",
          "lenovo",
          "lenovo",
          "lenovo",
          "lenovo",
          "lenovo",
          "lenovo",
          "lenovo",
          "lenovo",
          "lenovo",
          "lenovo",
          "lenovo",
          "lenovo",
          "lenovo",
          "lenovo",
          "lenovo",
          "lenovo",
          "lenovo",
          "lenovo",
          "lenovo",
          "lenovo",
          "lenovo",
          "lenovo",
          "lenovo",
          "lenovo",
          "lenovo",
          "lenovo",
          "lenovo",
          "lenovo",
          "lenovo",
          "lenovo",
          "lenovo",
          "lenovo",
          "lenovo",
          "lenovo",
          "lenovo",
          "lenovo",
          "lenovo",
          "lenovo",
          "lenovo",
          "lenovo",
          "lenovo",
          "lenovo",
          "lenovo",
          "lenovo",
          "lenovo",
          "lenovo",
          "lenovo",
          "lenovo",
          "lenovo",
          "lenovo",
          "lenovo",
          "lenovo",
          "lenovo",
          "lenovo",
          "lenovo",
          "lenovo",
          "lenovo",
          "lenovo",
          "lenovo",
          "lenovo",
          "lenovo",
          "lenovo",
          "lenovo",
          "lenovo",
          "lenovo",
          "lenovo",
          "lenovo",
          "lenovo",
          "lenovo",
          "lenovo",
          "lenovo",
          "lenovo",
          "lenovo",
          "lenovo",
          "lenovo",
          "lenovo",
          "lenovo",
          "lenovo",
          "lenovo",
          "lenovo",
          "lenovo",
          "lenovo",
          "lenovo",
          "lenovo",
          "lenovo",
          "lenovo",
          "lenovo",
          "lenovo",
          "lenovo",
          "lenovo",
          "lenovo",
          "lenovo",
          "lenovo"
         ],
         "y0": " ",
         "yaxis": "y"
        },
        {
         "alignmentgroup": "True",
         "hovertemplate": "brand=%{y}<br>price=%{x}<extra></extra>",
         "legendgroup": "apple",
         "marker": {
          "color": "#FFA15A"
         },
         "name": "apple",
         "notched": false,
         "offsetgroup": "apple",
         "orientation": "h",
         "showlegend": true,
         "type": "box",
         "x": {
          "bdata": "4XoUrkebikBcj8L1KLyyQM3MzMzMTJNAj8L1KFx8lkCamZmZmZyUQPYoXI/CKatACtejcH1ksEDNzMzMTGqnQClcj8L1uqJASOF6FK4rm0AAAAAAAOyYQHsUrkfhq5lArkfhehTLoUBSuB6Fa3qmQB+F61G41p9A",
          "dtype": "f8"
         },
         "x0": " ",
         "xaxis": "x",
         "y": [
          "apple",
          "apple",
          "apple",
          "apple",
          "apple",
          "apple",
          "apple",
          "apple",
          "apple",
          "apple",
          "apple",
          "apple",
          "apple",
          "apple",
          "apple"
         ],
         "y0": " ",
         "yaxis": "y"
        },
        {
         "alignmentgroup": "True",
         "hovertemplate": "brand=%{y}<br>price=%{x}<extra></extra>",
         "legendgroup": "infinix",
         "marker": {
          "color": "#19d3f3"
         },
         "name": "infinix",
         "notched": false,
         "offsetgroup": "infinix",
         "orientation": "h",
         "showlegend": true,
         "type": "box",
         "x": {
          "bdata": "ZmZmZmY6ekCkcD0K13uGQHsUrkfhenZAMzMzMzP7dEAzMzMzMzt0QArXo3A9+npAAAAAAAC8hUBSuB6F6zl9QBSuR+F6XIJAj8L1KFx7c0CPwvUoXLtyQHE9Ctej3IBAUrgehes5fUA=",
          "dtype": "f8"
         },
         "x0": " ",
         "xaxis": "x",
         "y": [
          "infinix",
          "infinix",
          "infinix",
          "infinix",
          "infinix",
          "infinix",
          "infinix",
          "infinix",
          "infinix",
          "infinix",
          "infinix",
          "infinix",
          "infinix"
         ],
         "y0": " ",
         "yaxis": "y"
        },
        {
         "alignmentgroup": "True",
         "hovertemplate": "brand=%{y}<br>price=%{x}<extra></extra>",
         "legendgroup": "asus",
         "marker": {
          "color": "#FF6692"
         },
         "name": "asus",
         "notched": false,
         "offsetgroup": "asus",
         "orientation": "h",
         "showlegend": true,
         "type": "box",
         "x": {
          "bdata": "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",
          "dtype": "f8"
         },
         "x0": " ",
         "xaxis": "x",
         "y": [
          "asus",
          "asus",
          "asus",
          "asus",
          "asus",
          "asus",
          "asus",
          "asus",
          "asus",
          "asus",
          "asus",
          "asus",
          "asus",
          "asus",
          "asus",
          "asus",
          "asus",
          "asus",
          "asus",
          "asus",
          "asus",
          "asus",
          "asus",
          "asus",
          "asus",
          "asus",
          "asus",
          "asus",
          "asus",
          "asus",
          "asus",
          "asus",
          "asus",
          "asus",
          "asus",
          "asus",
          "asus",
          "asus",
          "asus",
          "asus",
          "asus",
          "asus",
          "asus",
          "asus",
          "asus",
          "asus",
          "asus",
          "asus",
          "asus",
          "asus",
          "asus",
          "asus",
          "asus",
          "asus",
          "asus",
          "asus",
          "asus",
          "asus",
          "asus",
          "asus",
          "asus",
          "asus",
          "asus",
          "asus",
          "asus",
          "asus",
          "asus",
          "asus",
          "asus",
          "asus",
          "asus",
          "asus",
          "asus",
          "asus",
          "asus",
          "asus",
          "asus",
          "asus",
          "asus",
          "asus",
          "asus",
          "asus",
          "asus",
          "asus",
          "asus",
          "asus",
          "asus",
          "asus",
          "asus",
          "asus",
          "asus",
          "asus",
          "asus",
          "asus",
          "asus",
          "asus",
          "asus",
          "asus",
          "asus",
          "asus",
          "asus",
          "asus",
          "asus",
          "asus",
          "asus",
          "asus",
          "asus",
          "asus",
          "asus",
          "asus",
          "asus",
          "asus",
          "asus",
          "asus",
          "asus",
          "asus",
          "asus",
          "asus",
          "asus",
          "asus",
          "asus",
          "asus",
          "asus",
          "asus",
          "asus",
          "asus",
          "asus",
          "asus",
          "asus",
          "asus",
          "asus",
          "asus",
          "asus",
          "asus",
          "asus",
          "asus",
          "asus",
          "asus",
          "asus",
          "asus",
          "asus",
          "asus",
          "asus",
          "asus",
          "asus",
          "asus",
          "asus",
          "asus",
          "asus",
          "asus",
          "asus",
          "asus",
          "asus",
          "asus",
          "asus",
          "asus",
          "asus",
          "asus",
          "asus",
          "asus",
          "asus",
          "asus",
          "asus",
          "asus",
          "asus",
          "asus",
          "asus",
          "asus",
          "asus",
          "asus",
          "asus",
          "asus",
          "asus",
          "asus",
          "asus",
          "asus",
          "asus",
          "asus",
          "asus",
          "asus",
          "asus",
          "asus",
          "asus",
          "asus",
          "asus",
          "asus",
          "asus",
          "asus",
          "asus",
          "asus",
          "asus",
          "asus",
          "asus",
          "asus",
          "asus",
          "asus",
          "asus",
          "asus",
          "asus",
          "asus",
          "asus",
          "asus",
          "asus",
          "asus",
          "asus",
          "asus",
          "asus",
          "asus",
          "asus",
          "asus"
         ],
         "y0": " ",
         "yaxis": "y"
        },
        {
         "alignmentgroup": "True",
         "hovertemplate": "brand=%{y}<br>price=%{x}<extra></extra>",
         "legendgroup": "dell",
         "marker": {
          "color": "#B6E880"
         },
         "name": "dell",
         "notched": false,
         "offsetgroup": "dell",
         "orientation": "h",
         "showlegend": true,
         "type": "box",
         "x": {
          "bdata": "ZmZmZmY6ekCPwvUoXJOJQOxRuB6Fd45AFK5H4Xq4fUAK16NwPTWQQDMzMzMzK4tAj8L1KFy9gkDD9Shcj3qPQI/C9Shc24lAmpmZmZnTm0CuR+F6FHp8QOxRuB6Fu4hAKVyPwvUKjUBSuB6F62l9QPYoXI/CeYVAuB6F61Ecg0AK16NwPTyKQDMzMzMzfZBAAAAAAACJo0AUrkfheoh7QArXo3A9coZAZmZmZmY6ekBcj8L1KK2QQB+F61G4xJNAAAAAAABMg0AAAAAAAFyFQPYoXI/CO4dAhetRuB5/iUBI4XoUrh2FQD0K16NwUYVAAAAAAABchUC4HoXrURyDQFK4HoXrOX1A7FG4HoW7iEBmZmZmZqSSQKRwPQrXe4ZArkfhehQafEAK16NwPR2QQHE9Ctej66RAhetRuB4xgUB7FK5H4b58QFK4HoXrjJJAw/UoXI+6eEAzMzMzM2WQQBSuR+F6/IFAKVyPwvUKjUAfhetRuA5/QJqZmZmZW5BApHA9CterhkCuR+F6FPJ7QMP1KFyPqo9Aj8L1KFwgqEAAAAAAAP2RQDMzMzMz04ZAexSuR+FKtUCkcD0K13GJQBSuR+F6W65A9ihcj0K1oUBmZmZm5iC1QM3MzMzMG6xAw/UoXI+MiECF61G4HruLQKRwPQrXe4ZAH4XrUbhWf0AzMzMzM32QQIXrUbge9ZBA9ihcj8K5fkBSuB6F61+AQK5H4XoU/IRAFK5H4Xr8gUAAAAAAAN6NQMP1KFwPMKpAmpmZmRntokDD9Shcj6Z+QNejcD0KQaNASOF6FK7IkUD2KFyPwjuHQI/C9Shcm51AhetRuB4zn0B7FK5H4aSSQEjhehSu/Y1AzczMzMwcgEBI4XoUrqyQQDMzMzMz+4pAhetRuB67i0D2KFyPwjuHQClcj8L1+ZtA9ihcj8IdgEDhehSuR52hQJqZmZmZnJRArkfhehRcmEC4HoXrUYKOQOF6FK7HIKVApHA9Cte0pEDD9ShcTzOyQD0K16NwQ7FAFK5H4Xr8gUC4HoXrUXyDQK5H4XoU2nxAcT0K16PcgEA9CtejcPOEQHE9CtejaZZAMzMzMzN9kEA=",
          "dtype": "f8"
         },
         "x0": " ",
         "xaxis": "x",
         "y": [
          "dell",
          "dell",
          "dell",
          "dell",
          "dell",
          "dell",
          "dell",
          "dell",
          "dell",
          "dell",
          "dell",
          "dell",
          "dell",
          "dell",
          "dell",
          "dell",
          "dell",
          "dell",
          "dell",
          "dell",
          "dell",
          "dell",
          "dell",
          "dell",
          "dell",
          "dell",
          "dell",
          "dell",
          "dell",
          "dell",
          "dell",
          "dell",
          "dell",
          "dell",
          "dell",
          "dell",
          "dell",
          "dell",
          "dell",
          "dell",
          "dell",
          "dell",
          "dell",
          "dell",
          "dell",
          "dell",
          "dell",
          "dell",
          "dell",
          "dell",
          "dell",
          "dell",
          "dell",
          "dell",
          "dell",
          "dell",
          "dell",
          "dell",
          "dell",
          "dell",
          "dell",
          "dell",
          "dell",
          "dell",
          "dell",
          "dell",
          "dell",
          "dell",
          "dell",
          "dell",
          "dell",
          "dell",
          "dell",
          "dell",
          "dell",
          "dell",
          "dell",
          "dell",
          "dell",
          "dell",
          "dell",
          "dell",
          "dell",
          "dell",
          "dell",
          "dell",
          "dell",
          "dell",
          "dell",
          "dell",
          "dell",
          "dell",
          "dell",
          "dell",
          "dell",
          "dell",
          "dell",
          "dell",
          "dell",
          "dell",
          "dell",
          "dell",
          "dell"
         ],
         "y0": " ",
         "yaxis": "y"
        },
        {
         "alignmentgroup": "True",
         "hovertemplate": "brand=%{y}<br>price=%{x}<extra></extra>",
         "legendgroup": "samsung",
         "marker": {
          "color": "#FF97FF"
         },
         "name": "samsung",
         "notched": false,
         "offsetgroup": "samsung",
         "orientation": "h",
         "showlegend": true,
         "type": "box",
         "x": {
          "bdata": "mpmZmZlbiEBxPQrXo9yAQBSuR+F6/IFAj8L1KFw7ikDXo3A9CnuMQD0K16Nw7JVA",
          "dtype": "f8"
         },
         "x0": " ",
         "xaxis": "x",
         "y": [
          "samsung",
          "samsung",
          "samsung",
          "samsung",
          "samsung",
          "samsung"
         ],
         "y0": " ",
         "yaxis": "y"
        },
        {
         "alignmentgroup": "True",
         "hovertemplate": "brand=%{y}<br>price=%{x}<extra></extra>",
         "legendgroup": "msi",
         "marker": {
          "color": "#FECB52"
         },
         "name": "msi",
         "notched": false,
         "offsetgroup": "msi",
         "orientation": "h",
         "showlegend": true,
         "type": "box",
         "x": {
          "bdata": "CtejcD3cg0DD9Shcj/J6QI/C9ShcO4pAXI/C9SichEDXo3A9ChuMQGZmZmZmvIJAmpmZmZl5f0Bcj8L1KJyEQArXo3A93INAUrgehev5fUBcj8L1KDyEQAAAAAAAXIVACtejcD26e0A9CtejcHuJQJqZmZmZi4hAH4XrUbh8gEAfhetRuNyTQMP1KFyPeo9AhetRuB69okBcj8L16BS1QM3MzMzM+o1AuB6F61FrokBI4XoUrpuHQAAAAAAAzZFAKVyPwvUskkD2KFyPwqyTQMP1KFyPG5xAw/UoXI8bnEAUrkfheoyVQK5H4XoU/IRAUrgehesbhkCuR+F6FPyEQIXrUbgevaJAj8L1KFx8lkDNzMzMzBusQB+F61G4uo5ACtejcD26e0DhehSuR+CdQFyPwvUo3ZBAhetRuB67i0AUrkfhevyBQMP1KFyP/JRAAAAAAAC8hUBcj8L1KJyEQPYoXI/CrJNA16NwPQobjEAAAAAAAM2RQLgehetRHINAAAAAAADNkUDD9Shcj9qPQKRwPQrX24ZAuB6F61F8g0AK16NwPdyDQK5H4XoUPZFAMzMzMzN9kEDD9ShcDzyqQDMzMzMzW4tAKVyPwnVsp0AfhetRuLqOQI/C9ShcO4pAuB6F61F0qEDNzMzMzG6IQI/C9SjcnKRAZmZmZuY8pEAUrkfheh2gQPYoXI/CO4dAH4XrUbh8gEAUrkfhelyCQJqZmZmZeX9ArkfhehR6fEDD9Shcj8yBQK5H4XoUbZFAcT0K16Maj0A9CtejcGCQQK5H4XoU9oJApHA9CtfbhkBcj8L1KDyEQPYoXI/CuX5Aj8L1KFx8lkCuR+F6FD2RQA==",
          "dtype": "f8"
         },
         "x0": " ",
         "xaxis": "x",
         "y": [
          "msi",
          "msi",
          "msi",
          "msi",
          "msi",
          "msi",
          "msi",
          "msi",
          "msi",
          "msi",
          "msi",
          "msi",
          "msi",
          "msi",
          "msi",
          "msi",
          "msi",
          "msi",
          "msi",
          "msi",
          "msi",
          "msi",
          "msi",
          "msi",
          "msi",
          "msi",
          "msi",
          "msi",
          "msi",
          "msi",
          "msi",
          "msi",
          "msi",
          "msi",
          "msi",
          "msi",
          "msi",
          "msi",
          "msi",
          "msi",
          "msi",
          "msi",
          "msi",
          "msi",
          "msi",
          "msi",
          "msi",
          "msi",
          "msi",
          "msi",
          "msi",
          "msi",
          "msi",
          "msi",
          "msi",
          "msi",
          "msi",
          "msi",
          "msi",
          "msi",
          "msi",
          "msi",
          "msi",
          "msi",
          "msi",
          "msi",
          "msi",
          "msi",
          "msi",
          "msi",
          "msi",
          "msi",
          "msi",
          "msi",
          "msi",
          "msi",
          "msi",
          "msi",
          "msi",
          "msi"
         ],
         "y0": " ",
         "yaxis": "y"
        },
        {
         "alignmentgroup": "True",
         "hovertemplate": "brand=%{y}<br>price=%{x}<extra></extra>",
         "legendgroup": "wings",
         "marker": {
          "color": "#636efa"
         },
         "name": "wings",
         "notched": false,
         "offsetgroup": "wings",
         "orientation": "h",
         "showlegend": true,
         "type": "box",
         "x": {
          "bdata": "MzMzMzP7dEBSuB6F6/l9QI/C9Shcu3JAMzMzMzM7dEA=",
          "dtype": "f8"
         },
         "x0": " ",
         "xaxis": "x",
         "y": [
          "wings",
          "wings",
          "wings",
          "wings"
         ],
         "y0": " ",
         "yaxis": "y"
        },
        {
         "alignmentgroup": "True",
         "hovertemplate": "brand=%{y}<br>price=%{x}<extra></extra>",
         "legendgroup": "ultimus",
         "marker": {
          "color": "#EF553B"
         },
         "name": "ultimus",
         "notched": false,
         "offsetgroup": "ultimus",
         "orientation": "h",
         "showlegend": true,
         "type": "box",
         "x": {
          "bdata": "AAAAAAD4bUBxPQrXo/hnQJqZmZmZ+WFAKVyPwvV4ZkBxPQrXo7hoQM3MzMzMLHFA",
          "dtype": "f8"
         },
         "x0": " ",
         "xaxis": "x",
         "y": [
          "ultimus",
          "ultimus",
          "ultimus",
          "ultimus",
          "ultimus",
          "ultimus"
         ],
         "y0": " ",
         "yaxis": "y"
        },
        {
         "alignmentgroup": "True",
         "hovertemplate": "brand=%{y}<br>price=%{x}<extra></extra>",
         "legendgroup": "1",
         "marker": {
          "color": "#00cc96"
         },
         "name": "1",
         "notched": false,
         "offsetgroup": "1",
         "orientation": "h",
         "showlegend": true,
         "type": "box",
         "x": {
          "bdata": "AAAAAAAA8D8AAAAAAADwPwAAAAAAAPA/AAAAAAAA8D8AAAAAAADwPwAAAAAAAPA/AAAAAAAA8D8AAAAAAADwPwAAAAAAAPA/AAAAAAAA8D8AAAAAAADwPwAAAAAAAPA/AAAAAAAA8D8AAAAAAADwPwAAAAAAAPA/AAAAAAAA8D8AAAAAAADwPwAAAAAAAPA/",
          "dtype": "f8"
         },
         "x0": " ",
         "xaxis": "x",
         "y": [
          1,
          1,
          1,
          1,
          1,
          1,
          1,
          1,
          1,
          1,
          1,
          1,
          1,
          1,
          1,
          1,
          1,
          1
         ],
         "y0": " ",
         "yaxis": "y"
        },
        {
         "alignmentgroup": "True",
         "hovertemplate": "brand=%{y}<br>price=%{x}<extra></extra>",
         "legendgroup": "primebook",
         "marker": {
          "color": "#ab63fa"
         },
         "name": "primebook",
         "notched": false,
         "offsetgroup": "primebook",
         "orientation": "h",
         "showlegend": true,
         "type": "box",
         "x": {
          "bdata": "KVyPwvV4ZkDhehSuR3ljQA==",
          "dtype": "f8"
         },
         "x0": " ",
         "xaxis": "x",
         "y": [
          "primebook",
          "primebook"
         ],
         "y0": " ",
         "yaxis": "y"
        },
        {
         "alignmentgroup": "True",
         "hovertemplate": "brand=%{y}<br>price=%{x}<extra></extra>",
         "legendgroup": "iball",
         "marker": {
          "color": "#FFA15A"
         },
         "name": "iball",
         "notched": false,
         "offsetgroup": "iball",
         "orientation": "h",
         "showlegend": true,
         "type": "box",
         "x": {
          "bdata": "w/UoXI9iXUA=",
          "dtype": "f8"
         },
         "x0": " ",
         "xaxis": "x",
         "y": [
          "iball"
         ],
         "y0": " ",
         "yaxis": "y"
        },
        {
         "alignmentgroup": "True",
         "hovertemplate": "brand=%{y}<br>price=%{x}<extra></extra>",
         "legendgroup": "zebronics",
         "marker": {
          "color": "#19d3f3"
         },
         "name": "zebronics",
         "notched": false,
         "offsetgroup": "zebronics",
         "orientation": "h",
         "showlegend": true,
         "type": "box",
         "x": {
          "bdata": "w/UoXI96eUDD9Shcj7p4QArXo3A93INAexSuR+F6dkBSuB6F6/l9QMP1KFyPunhAuB6F61Ecg0A=",
          "dtype": "f8"
         },
         "x0": " ",
         "xaxis": "x",
         "y": [
          "zebronics",
          "zebronics",
          "zebronics",
          "zebronics",
          "zebronics",
          "zebronics",
          "zebronics"
         ],
         "y0": " ",
         "yaxis": "y"
        },
        {
         "alignmentgroup": "True",
         "hovertemplate": "brand=%{y}<br>price=%{x}<extra></extra>",
         "legendgroup": "chuwi",
         "marker": {
          "color": "#FF6692"
         },
         "name": "chuwi",
         "notched": false,
         "offsetgroup": "chuwi",
         "orientation": "h",
         "showlegend": true,
         "type": "box",
         "x": {
          "bdata": "w/UoXI+6eECPwvUoXLtyQEjhehSue3BAZmZmZmY6ekA=",
          "dtype": "f8"
         },
         "x0": " ",
         "xaxis": "x",
         "y": [
          "chuwi",
          "chuwi",
          "chuwi",
          "chuwi"
         ],
         "y0": " ",
         "yaxis": "y"
        },
        {
         "alignmentgroup": "True",
         "hovertemplate": "brand=%{y}<br>price=%{x}<extra></extra>",
         "legendgroup": "gigabyte",
         "marker": {
          "color": "#B6E880"
         },
         "name": "gigabyte",
         "notched": false,
         "offsetgroup": "gigabyte",
         "orientation": "h",
         "showlegend": true,
         "type": "box",
         "x": {
          "bdata": "MzMzMzP7ikBcj8L1KN2QQA==",
          "dtype": "f8"
         },
         "x0": " ",
         "xaxis": "x",
         "y": [
          "gigabyte",
          "gigabyte"
         ],
         "y0": " ",
         "yaxis": "y"
        },
        {
         "alignmentgroup": "True",
         "hovertemplate": "brand=%{y}<br>price=%{x}<extra></extra>",
         "legendgroup": "jio",
         "marker": {
          "color": "#FF97FF"
         },
         "name": "jio",
         "notched": false,
         "offsetgroup": "jio",
         "orientation": "h",
         "showlegend": true,
         "type": "box",
         "x": {
          "bdata": "UrgehesJZkA=",
          "dtype": "f8"
         },
         "x0": " ",
         "xaxis": "x",
         "y": [
          "jio"
         ],
         "y0": " ",
         "yaxis": "y"
        },
        {
         "alignmentgroup": "True",
         "hovertemplate": "brand=%{y}<br>price=%{x}<extra></extra>",
         "legendgroup": "honor",
         "marker": {
          "color": "#FECB52"
         },
         "name": "honor",
         "notched": false,
         "offsetgroup": "honor",
         "orientation": "h",
         "showlegend": true,
         "type": "box",
         "x": {
          "bdata": "XI/C9SichEAfhetRuHyAQA==",
          "dtype": "f8"
         },
         "x0": " ",
         "xaxis": "x",
         "y": [
          "honor",
          "honor"
         ],
         "y0": " ",
         "yaxis": "y"
        },
        {
         "alignmentgroup": "True",
         "hovertemplate": "brand=%{y}<br>price=%{x}<extra></extra>",
         "legendgroup": "realme",
         "marker": {
          "color": "#636efa"
         },
         "name": "realme",
         "notched": false,
         "offsetgroup": "realme",
         "orientation": "h",
         "showlegend": true,
         "type": "box",
         "x": {
          "bdata": "CtejcD26e0DNzMzMzByAQA==",
          "dtype": "f8"
         },
         "x0": " ",
         "xaxis": "x",
         "y": [
          "realme",
          "realme"
         ],
         "y0": " ",
         "yaxis": "y"
        },
        {
         "alignmentgroup": "True",
         "hovertemplate": "brand=%{y}<br>price=%{x}<extra></extra>",
         "legendgroup": "avita",
         "marker": {
          "color": "#EF553B"
         },
         "name": "avita",
         "notched": false,
         "offsetgroup": "avita",
         "orientation": "h",
         "showlegend": true,
         "type": "box",
         "x": {
          "bdata": "cT0K16MIcEAfhetRuLJ4QK5H4XoUZnhAPQrXo3AdbUAzMzMzM3tvQA==",
          "dtype": "f8"
         },
         "x0": " ",
         "xaxis": "x",
         "y": [
          "avita",
          "avita",
          "avita",
          "avita",
          "avita"
         ],
         "y0": " ",
         "yaxis": "y"
        },
        {
         "alignmentgroup": "True",
         "hovertemplate": "brand=%{y}<br>price=%{x}<extra></extra>",
         "legendgroup": "microsoft",
         "marker": {
          "color": "#00cc96"
         },
         "name": "microsoft",
         "notched": false,
         "offsetgroup": "microsoft",
         "orientation": "h",
         "showlegend": true,
         "type": "box",
         "x": {
          "bdata": "zczMzMz6jUApXI/C9USSQA==",
          "dtype": "f8"
         },
         "x0": " ",
         "xaxis": "x",
         "y": [
          "microsoft",
          "microsoft"
         ],
         "y0": " ",
         "yaxis": "y"
        },
        {
         "alignmentgroup": "True",
         "hovertemplate": "brand=%{y}<br>price=%{x}<extra></extra>",
         "legendgroup": "fujitsu",
         "marker": {
          "color": "#ab63fa"
         },
         "name": "fujitsu",
         "notched": false,
         "offsetgroup": "fujitsu",
         "orientation": "h",
         "showlegend": true,
         "type": "box",
         "x": {
          "bdata": "hetRuB67i0CF61G4HruLQJqZmZmZnJRAexSuR+G8kkBmZmZmZiyFQA==",
          "dtype": "f8"
         },
         "x0": " ",
         "xaxis": "x",
         "y": [
          "fujitsu",
          "fujitsu",
          "fujitsu",
          "fujitsu",
          "fujitsu"
         ],
         "y0": " ",
         "yaxis": "y"
        },
        {
         "alignmentgroup": "True",
         "hovertemplate": "brand=%{y}<br>price=%{x}<extra></extra>",
         "legendgroup": "lg",
         "marker": {
          "color": "#FFA15A"
         },
         "name": "lg",
         "notched": false,
         "offsetgroup": "lg",
         "orientation": "h",
         "showlegend": true,
         "type": "box",
         "x": {
          "bdata": "uB6F61GNkkDD9Shcj1iNQFK4HoXrk5xA16NwPQoYlkApXI/C9dOQQClcj8L1S5xAzczMzMw0lkA=",
          "dtype": "f8"
         },
         "x0": " ",
         "xaxis": "x",
         "y": [
          "lg",
          "lg",
          "lg",
          "lg",
          "lg",
          "lg",
          "lg"
         ],
         "y0": " ",
         "yaxis": "y"
        },
        {
         "alignmentgroup": "True",
         "hovertemplate": "brand=%{y}<br>price=%{x}<extra></extra>",
         "legendgroup": "walker",
         "marker": {
          "color": "#19d3f3"
         },
         "name": "walker",
         "notched": false,
         "offsetgroup": "walker",
         "orientation": "h",
         "showlegend": true,
         "type": "box",
         "x": {
          "bdata": "cT0K16P4Z0A=",
          "dtype": "f8"
         },
         "x0": " ",
         "xaxis": "x",
         "y": [
          "walker"
         ],
         "y0": " ",
         "yaxis": "y"
        },
        {
         "alignmentgroup": "True",
         "hovertemplate": "brand=%{y}<br>price=%{x}<extra></extra>",
         "legendgroup": "axl",
         "marker": {
          "color": "#FF6692"
         },
         "name": "axl",
         "notched": false,
         "offsetgroup": "axl",
         "orientation": "h",
         "showlegend": true,
         "type": "box",
         "x": {
          "bdata": "uB6F61H4akApXI/C9XhmQA==",
          "dtype": "f8"
         },
         "x0": " ",
         "xaxis": "x",
         "y": [
          "axl",
          "axl"
         ],
         "y0": " ",
         "yaxis": "y"
        }
       ],
       "layout": {
        "boxmode": "overlay",
        "legend": {
         "title": {
          "text": "brand"
         },
         "tracegroupgap": 0
        },
        "margin": {
         "t": 60
        },
        "template": {
         "data": {
          "bar": [
           {
            "error_x": {
             "color": "#2a3f5f"
            },
            "error_y": {
             "color": "#2a3f5f"
            },
            "marker": {
             "line": {
              "color": "#E5ECF6",
              "width": 0.5
             },
             "pattern": {
              "fillmode": "overlay",
              "size": 10,
              "solidity": 0.2
             }
            },
            "type": "bar"
           }
          ],
          "barpolar": [
           {
            "marker": {
             "line": {
              "color": "#E5ECF6",
              "width": 0.5
             },
             "pattern": {
              "fillmode": "overlay",
              "size": 10,
              "solidity": 0.2
             }
            },
            "type": "barpolar"
           }
          ],
          "carpet": [
           {
            "aaxis": {
             "endlinecolor": "#2a3f5f",
             "gridcolor": "white",
             "linecolor": "white",
             "minorgridcolor": "white",
             "startlinecolor": "#2a3f5f"
            },
            "baxis": {
             "endlinecolor": "#2a3f5f",
             "gridcolor": "white",
             "linecolor": "white",
             "minorgridcolor": "white",
             "startlinecolor": "#2a3f5f"
            },
            "type": "carpet"
           }
          ],
          "choropleth": [
           {
            "colorbar": {
             "outlinewidth": 0,
             "ticks": ""
            },
            "type": "choropleth"
           }
          ],
          "contour": [
           {
            "colorbar": {
             "outlinewidth": 0,
             "ticks": ""
            },
            "colorscale": [
             [
              0,
              "#0d0887"
             ],
             [
              0.1111111111111111,
              "#46039f"
             ],
             [
              0.2222222222222222,
              "#7201a8"
             ],
             [
              0.3333333333333333,
              "#9c179e"
             ],
             [
              0.4444444444444444,
              "#bd3786"
             ],
             [
              0.5555555555555556,
              "#d8576b"
             ],
             [
              0.6666666666666666,
              "#ed7953"
             ],
             [
              0.7777777777777778,
              "#fb9f3a"
             ],
             [
              0.8888888888888888,
              "#fdca26"
             ],
             [
              1,
              "#f0f921"
             ]
            ],
            "type": "contour"
           }
          ],
          "contourcarpet": [
           {
            "colorbar": {
             "outlinewidth": 0,
             "ticks": ""
            },
            "type": "contourcarpet"
           }
          ],
          "heatmap": [
           {
            "colorbar": {
             "outlinewidth": 0,
             "ticks": ""
            },
            "colorscale": [
             [
              0,
              "#0d0887"
             ],
             [
              0.1111111111111111,
              "#46039f"
             ],
             [
              0.2222222222222222,
              "#7201a8"
             ],
             [
              0.3333333333333333,
              "#9c179e"
             ],
             [
              0.4444444444444444,
              "#bd3786"
             ],
             [
              0.5555555555555556,
              "#d8576b"
             ],
             [
              0.6666666666666666,
              "#ed7953"
             ],
             [
              0.7777777777777778,
              "#fb9f3a"
             ],
             [
              0.8888888888888888,
              "#fdca26"
             ],
             [
              1,
              "#f0f921"
             ]
            ],
            "type": "heatmap"
           }
          ],
          "histogram": [
           {
            "marker": {
             "pattern": {
              "fillmode": "overlay",
              "size": 10,
              "solidity": 0.2
             }
            },
            "type": "histogram"
           }
          ],
          "histogram2d": [
           {
            "colorbar": {
             "outlinewidth": 0,
             "ticks": ""
            },
            "colorscale": [
             [
              0,
              "#0d0887"
             ],
             [
              0.1111111111111111,
              "#46039f"
             ],
             [
              0.2222222222222222,
              "#7201a8"
             ],
             [
              0.3333333333333333,
              "#9c179e"
             ],
             [
              0.4444444444444444,
              "#bd3786"
             ],
             [
              0.5555555555555556,
              "#d8576b"
             ],
             [
              0.6666666666666666,
              "#ed7953"
             ],
             [
              0.7777777777777778,
              "#fb9f3a"
             ],
             [
              0.8888888888888888,
              "#fdca26"
             ],
             [
              1,
              "#f0f921"
             ]
            ],
            "type": "histogram2d"
           }
          ],
          "histogram2dcontour": [
           {
            "colorbar": {
             "outlinewidth": 0,
             "ticks": ""
            },
            "colorscale": [
             [
              0,
              "#0d0887"
             ],
             [
              0.1111111111111111,
              "#46039f"
             ],
             [
              0.2222222222222222,
              "#7201a8"
             ],
             [
              0.3333333333333333,
              "#9c179e"
             ],
             [
              0.4444444444444444,
              "#bd3786"
             ],
             [
              0.5555555555555556,
              "#d8576b"
             ],
             [
              0.6666666666666666,
              "#ed7953"
             ],
             [
              0.7777777777777778,
              "#fb9f3a"
             ],
             [
              0.8888888888888888,
              "#fdca26"
             ],
             [
              1,
              "#f0f921"
             ]
            ],
            "type": "histogram2dcontour"
           }
          ],
          "mesh3d": [
           {
            "colorbar": {
             "outlinewidth": 0,
             "ticks": ""
            },
            "type": "mesh3d"
           }
          ],
          "parcoords": [
           {
            "line": {
             "colorbar": {
              "outlinewidth": 0,
              "ticks": ""
             }
            },
            "type": "parcoords"
           }
          ],
          "pie": [
           {
            "automargin": true,
            "type": "pie"
           }
          ],
          "scatter": [
           {
            "fillpattern": {
             "fillmode": "overlay",
             "size": 10,
             "solidity": 0.2
            },
            "type": "scatter"
           }
          ],
          "scatter3d": [
           {
            "line": {
             "colorbar": {
              "outlinewidth": 0,
              "ticks": ""
             }
            },
            "marker": {
             "colorbar": {
              "outlinewidth": 0,
              "ticks": ""
             }
            },
            "type": "scatter3d"
           }
          ],
          "scattercarpet": [
           {
            "marker": {
             "colorbar": {
              "outlinewidth": 0,
              "ticks": ""
             }
            },
            "type": "scattercarpet"
           }
          ],
          "scattergeo": [
           {
            "marker": {
             "colorbar": {
              "outlinewidth": 0,
              "ticks": ""
             }
            },
            "type": "scattergeo"
           }
          ],
          "scattergl": [
           {
            "marker": {
             "colorbar": {
              "outlinewidth": 0,
              "ticks": ""
             }
            },
            "type": "scattergl"
           }
          ],
          "scattermap": [
           {
            "marker": {
             "colorbar": {
              "outlinewidth": 0,
              "ticks": ""
             }
            },
            "type": "scattermap"
           }
          ],
          "scattermapbox": [
           {
            "marker": {
             "colorbar": {
              "outlinewidth": 0,
              "ticks": ""
             }
            },
            "type": "scattermapbox"
           }
          ],
          "scatterpolar": [
           {
            "marker": {
             "colorbar": {
              "outlinewidth": 0,
              "ticks": ""
             }
            },
            "type": "scatterpolar"
           }
          ],
          "scatterpolargl": [
           {
            "marker": {
             "colorbar": {
              "outlinewidth": 0,
              "ticks": ""
             }
            },
            "type": "scatterpolargl"
           }
          ],
          "scatterternary": [
           {
            "marker": {
             "colorbar": {
              "outlinewidth": 0,
              "ticks": ""
             }
            },
            "type": "scatterternary"
           }
          ],
          "surface": [
           {
            "colorbar": {
             "outlinewidth": 0,
             "ticks": ""
            },
            "colorscale": [
             [
              0,
              "#0d0887"
             ],
             [
              0.1111111111111111,
              "#46039f"
             ],
             [
              0.2222222222222222,
              "#7201a8"
             ],
             [
              0.3333333333333333,
              "#9c179e"
             ],
             [
              0.4444444444444444,
              "#bd3786"
             ],
             [
              0.5555555555555556,
              "#d8576b"
             ],
             [
              0.6666666666666666,
              "#ed7953"
             ],
             [
              0.7777777777777778,
              "#fb9f3a"
             ],
             [
              0.8888888888888888,
              "#fdca26"
             ],
             [
              1,
              "#f0f921"
             ]
            ],
            "type": "surface"
           }
          ],
          "table": [
           {
            "cells": {
             "fill": {
              "color": "#EBF0F8"
             },
             "line": {
              "color": "white"
             }
            },
            "header": {
             "fill": {
              "color": "#C8D4E3"
             },
             "line": {
              "color": "white"
             }
            },
            "type": "table"
           }
          ]
         },
         "layout": {
          "annotationdefaults": {
           "arrowcolor": "#2a3f5f",
           "arrowhead": 0,
           "arrowwidth": 1
          },
          "autotypenumbers": "strict",
          "coloraxis": {
           "colorbar": {
            "outlinewidth": 0,
            "ticks": ""
           }
          },
          "colorscale": {
           "diverging": [
            [
             0,
             "#8e0152"
            ],
            [
             0.1,
             "#c51b7d"
            ],
            [
             0.2,
             "#de77ae"
            ],
            [
             0.3,
             "#f1b6da"
            ],
            [
             0.4,
             "#fde0ef"
            ],
            [
             0.5,
             "#f7f7f7"
            ],
            [
             0.6,
             "#e6f5d0"
            ],
            [
             0.7,
             "#b8e186"
            ],
            [
             0.8,
             "#7fbc41"
            ],
            [
             0.9,
             "#4d9221"
            ],
            [
             1,
             "#276419"
            ]
           ],
           "sequential": [
            [
             0,
             "#0d0887"
            ],
            [
             0.1111111111111111,
             "#46039f"
            ],
            [
             0.2222222222222222,
             "#7201a8"
            ],
            [
             0.3333333333333333,
             "#9c179e"
            ],
            [
             0.4444444444444444,
             "#bd3786"
            ],
            [
             0.5555555555555556,
             "#d8576b"
            ],
            [
             0.6666666666666666,
             "#ed7953"
            ],
            [
             0.7777777777777778,
             "#fb9f3a"
            ],
            [
             0.8888888888888888,
             "#fdca26"
            ],
            [
             1,
             "#f0f921"
            ]
           ],
           "sequentialminus": [
            [
             0,
             "#0d0887"
            ],
            [
             0.1111111111111111,
             "#46039f"
            ],
            [
             0.2222222222222222,
             "#7201a8"
            ],
            [
             0.3333333333333333,
             "#9c179e"
            ],
            [
             0.4444444444444444,
             "#bd3786"
            ],
            [
             0.5555555555555556,
             "#d8576b"
            ],
            [
             0.6666666666666666,
             "#ed7953"
            ],
            [
             0.7777777777777778,
             "#fb9f3a"
            ],
            [
             0.8888888888888888,
             "#fdca26"
            ],
            [
             1,
             "#f0f921"
            ]
           ]
          },
          "colorway": [
           "#636efa",
           "#EF553B",
           "#00cc96",
           "#ab63fa",
           "#FFA15A",
           "#19d3f3",
           "#FF6692",
           "#B6E880",
           "#FF97FF",
           "#FECB52"
          ],
          "font": {
           "color": "#2a3f5f"
          },
          "geo": {
           "bgcolor": "white",
           "lakecolor": "white",
           "landcolor": "#E5ECF6",
           "showlakes": true,
           "showland": true,
           "subunitcolor": "white"
          },
          "hoverlabel": {
           "align": "left"
          },
          "hovermode": "closest",
          "mapbox": {
           "style": "light"
          },
          "paper_bgcolor": "white",
          "plot_bgcolor": "#E5ECF6",
          "polar": {
           "angularaxis": {
            "gridcolor": "white",
            "linecolor": "white",
            "ticks": ""
           },
           "bgcolor": "#E5ECF6",
           "radialaxis": {
            "gridcolor": "white",
            "linecolor": "white",
            "ticks": ""
           }
          },
          "scene": {
           "xaxis": {
            "backgroundcolor": "#E5ECF6",
            "gridcolor": "white",
            "gridwidth": 2,
            "linecolor": "white",
            "showbackground": true,
            "ticks": "",
            "zerolinecolor": "white"
           },
           "yaxis": {
            "backgroundcolor": "#E5ECF6",
            "gridcolor": "white",
            "gridwidth": 2,
            "linecolor": "white",
            "showbackground": true,
            "ticks": "",
            "zerolinecolor": "white"
           },
           "zaxis": {
            "backgroundcolor": "#E5ECF6",
            "gridcolor": "white",
            "gridwidth": 2,
            "linecolor": "white",
            "showbackground": true,
            "ticks": "",
            "zerolinecolor": "white"
           }
          },
          "shapedefaults": {
           "line": {
            "color": "#2a3f5f"
           }
          },
          "ternary": {
           "aaxis": {
            "gridcolor": "white",
            "linecolor": "white",
            "ticks": ""
           },
           "baxis": {
            "gridcolor": "white",
            "linecolor": "white",
            "ticks": ""
           },
           "bgcolor": "#E5ECF6",
           "caxis": {
            "gridcolor": "white",
            "linecolor": "white",
            "ticks": ""
           }
          },
          "title": {
           "x": 0.05
          },
          "xaxis": {
           "automargin": true,
           "gridcolor": "white",
           "linecolor": "white",
           "ticks": "",
           "title": {
            "standoff": 15
           },
           "zerolinecolor": "white",
           "zerolinewidth": 2
          },
          "yaxis": {
           "automargin": true,
           "gridcolor": "white",
           "linecolor": "white",
           "ticks": "",
           "title": {
            "standoff": 15
           },
           "zerolinecolor": "white",
           "zerolinewidth": 2
          }
         }
        },
        "xaxis": {
         "anchor": "y",
         "domain": [
          0,
          1
         ],
         "title": {
          "text": "price"
         }
        },
        "yaxis": {
         "anchor": "x",
         "categoryarray": [
          "axl",
          "walker",
          "lg",
          "fujitsu",
          "microsoft",
          "avita",
          "realme",
          "honor",
          "jio",
          "gigabyte",
          "chuwi",
          "zebronics",
          "iball",
          "primebook",
          1,
          "ultimus",
          "wings",
          "msi",
          "samsung",
          "dell",
          "asus",
          "infinix",
          "apple",
          "lenovo",
          "acer",
          "hp",
          "tecno"
         ],
         "categoryorder": "array",
         "domain": [
          0,
          1
         ],
         "title": {
          "text": "brand"
         }
        }
       }
      }
     },
     "metadata": {},
     "output_type": "display_data"
    }
   ],
   "source": [
    "#distribuição por brand e price\n",
    "px.box(df_laptops, x='price', y='brand', color='brand', orientation='h')"
   ]
  },
  {
   "cell_type": "code",
   "execution_count": 14,
   "id": "d72cd912",
   "metadata": {},
   "outputs": [
    {
     "data": {
      "application/vnd.plotly.v1+json": {
       "config": {
        "plotlyServerURL": "https://plot.ly"
       },
       "data": [
        {
         "alignmentgroup": "True",
         "hovertemplate": "brand=%{y}<br>rating=%{x}<extra></extra>",
         "legendgroup": "tecno",
         "marker": {
          "color": "#636efa"
         },
         "name": "tecno",
         "notched": false,
         "offsetgroup": "tecno",
         "orientation": "h",
         "showlegend": true,
         "type": "box",
         "x": {
          "bdata": "P0M=",
          "dtype": "i1"
         },
         "x0": " ",
         "xaxis": "x",
         "y": [
          "tecno",
          "tecno"
         ],
         "y0": " ",
         "yaxis": "y"
        },
        {
         "alignmentgroup": "True",
         "hovertemplate": "brand=%{y}<br>rating=%{x}<extra></extra>",
         "legendgroup": "hp",
         "marker": {
          "color": "#EF553B"
         },
         "name": "hp",
         "notched": false,
         "offsetgroup": "hp",
         "orientation": "h",
         "showlegend": true,
         "type": "box",
         "x": {
          "bdata": "STxVRzFNQj5HR1BHTEY/UEhBRkZGNkhGQzk+PjY0PDxSTEA6TDtDQjE4TD9MP0tVRj9CQUE7OUU2Q0RFQ0k+R0AnRzY6PjRAOEAzOj40Rk5FOU1MSDxYPkZVWE9OOS9GQEtDRjk7Mzo+Tj8zRkdIR1ZLQ0NIRkM8TUlNLDg5LEVFLkNQJjRJQkJCRkJIOTxHRUU6NTxGOj4/SEJHMTJDP0FDL0IyQEJHQTk7OjlLQjk2NjMzNkM4Q0c8S0M4TUtAT0g6OzQrJTsvSSU=",
          "dtype": "i1"
         },
         "x0": " ",
         "xaxis": "x",
         "y": [
          "hp",
          "hp",
          "hp",
          "hp",
          "hp",
          "hp",
          "hp",
          "hp",
          "hp",
          "hp",
          "hp",
          "hp",
          "hp",
          "hp",
          "hp",
          "hp",
          "hp",
          "hp",
          "hp",
          "hp",
          "hp",
          "hp",
          "hp",
          "hp",
          "hp",
          "hp",
          "hp",
          "hp",
          "hp",
          "hp",
          "hp",
          "hp",
          "hp",
          "hp",
          "hp",
          "hp",
          "hp",
          "hp",
          "hp",
          "hp",
          "hp",
          "hp",
          "hp",
          "hp",
          "hp",
          "hp",
          "hp",
          "hp",
          "hp",
          "hp",
          "hp",
          "hp",
          "hp",
          "hp",
          "hp",
          "hp",
          "hp",
          "hp",
          "hp",
          "hp",
          "hp",
          "hp",
          "hp",
          "hp",
          "hp",
          "hp",
          "hp",
          "hp",
          "hp",
          "hp",
          "hp",
          "hp",
          "hp",
          "hp",
          "hp",
          "hp",
          "hp",
          "hp",
          "hp",
          "hp",
          "hp",
          "hp",
          "hp",
          "hp",
          "hp",
          "hp",
          "hp",
          "hp",
          "hp",
          "hp",
          "hp",
          "hp",
          "hp",
          "hp",
          "hp",
          "hp",
          "hp",
          "hp",
          "hp",
          "hp",
          "hp",
          "hp",
          "hp",
          "hp",
          "hp",
          "hp",
          "hp",
          "hp",
          "hp",
          "hp",
          "hp",
          "hp",
          "hp",
          "hp",
          "hp",
          "hp",
          "hp",
          "hp",
          "hp",
          "hp",
          "hp",
          "hp",
          "hp",
          "hp",
          "hp",
          "hp",
          "hp",
          "hp",
          "hp",
          "hp",
          "hp",
          "hp",
          "hp",
          "hp",
          "hp",
          "hp",
          "hp",
          "hp",
          "hp",
          "hp",
          "hp",
          "hp",
          "hp",
          "hp",
          "hp",
          "hp",
          "hp",
          "hp",
          "hp",
          "hp",
          "hp",
          "hp",
          "hp",
          "hp",
          "hp",
          "hp",
          "hp",
          "hp",
          "hp",
          "hp",
          "hp",
          "hp",
          "hp",
          "hp",
          "hp",
          "hp",
          "hp",
          "hp",
          "hp",
          "hp",
          "hp",
          "hp",
          "hp",
          "hp",
          "hp",
          "hp",
          "hp",
          "hp",
          "hp",
          "hp",
          "hp",
          "hp",
          "hp",
          "hp",
          "hp",
          "hp",
          "hp",
          "hp",
          "hp",
          "hp",
          "hp",
          "hp",
          "hp",
          "hp",
          "hp",
          "hp",
          "hp",
          "hp",
          "hp",
          "hp",
          "hp",
          "hp",
          "hp"
         ],
         "y0": " ",
         "yaxis": "y"
        },
        {
         "alignmentgroup": "True",
         "hovertemplate": "brand=%{y}<br>rating=%{x}<extra></extra>",
         "legendgroup": "acer",
         "marker": {
          "color": "#00cc96"
         },
         "name": "acer",
         "notched": false,
         "offsetgroup": "acer",
         "orientation": "h",
         "showlegend": true,
         "type": "box",
         "x": {
          "bdata": "Pj9APDpHPD5IQ0tGMUA2QE45O0ZDSzFDL0BAQD4/Pzg+JkE+Q0EmOj4ySEY/PC1PQTpQO0BGOzI5MjxFODUzMjs0MkY+TjovQUJAQUlKSDsyLEdNNEc2R0M=",
          "dtype": "i1"
         },
         "x0": " ",
         "xaxis": "x",
         "y": [
          "acer",
          "acer",
          "acer",
          "acer",
          "acer",
          "acer",
          "acer",
          "acer",
          "acer",
          "acer",
          "acer",
          "acer",
          "acer",
          "acer",
          "acer",
          "acer",
          "acer",
          "acer",
          "acer",
          "acer",
          "acer",
          "acer",
          "acer",
          "acer",
          "acer",
          "acer",
          "acer",
          "acer",
          "acer",
          "acer",
          "acer",
          "acer",
          "acer",
          "acer",
          "acer",
          "acer",
          "acer",
          "acer",
          "acer",
          "acer",
          "acer",
          "acer",
          "acer",
          "acer",
          "acer",
          "acer",
          "acer",
          "acer",
          "acer",
          "acer",
          "acer",
          "acer",
          "acer",
          "acer",
          "acer",
          "acer",
          "acer",
          "acer",
          "acer",
          "acer",
          "acer",
          "acer",
          "acer",
          "acer",
          "acer",
          "acer",
          "acer",
          "acer",
          "acer",
          "acer",
          "acer",
          "acer",
          "acer",
          "acer",
          "acer",
          "acer",
          "acer",
          "acer",
          "acer",
          "acer",
          "acer",
          "acer",
          "acer",
          "acer",
          "acer",
          "acer",
          "acer",
          "acer",
          "acer"
         ],
         "y0": " ",
         "yaxis": "y"
        },
        {
         "alignmentgroup": "True",
         "hovertemplate": "brand=%{y}<br>rating=%{x}<extra></extra>",
         "legendgroup": "lenovo",
         "marker": {
          "color": "#ab63fa"
         },
         "name": "lenovo",
         "notched": false,
         "offsetgroup": "lenovo",
         "orientation": "h",
         "showlegend": true,
         "type": "box",
         "x": {
          "bdata": "PkI7O0dFM0IvRj87UEZCQEM8QE1TPDJAPkU/QzU1NU5KQDk6PjI6PkI5PDNAQ0JLQTlWRkU2NTk4RUNLPzo5P0FFQDg6VFVOOk05QTk5Qzo8PjMuMz9AK0U6O0FHP1lTT0NCOEFTRTQ6PD46OjU/OjtFOjw4QUA8PDw+QUA+PDtAOjxIR0lJS0k/RUg5RSY+QTsyRj46RUBDQkNAQztGOT4+OT9LPjk5OzZANTY4OzlCQDJDOkNHTi8rLTo4ODxCNzRLNjIwQA==",
          "dtype": "i1"
         },
         "x0": " ",
         "xaxis": "x",
         "y": [
          "lenovo",
          "lenovo",
          "lenovo",
          "lenovo",
          "lenovo",
          "lenovo",
          "lenovo",
          "lenovo",
          "lenovo",
          "lenovo",
          "lenovo",
          "lenovo",
          "lenovo",
          "lenovo",
          "lenovo",
          "lenovo",
          "lenovo",
          "lenovo",
          "lenovo",
          "lenovo",
          "lenovo",
          "lenovo",
          "lenovo",
          "lenovo",
          "lenovo",
          "lenovo",
          "lenovo",
          "lenovo",
          "lenovo",
          "lenovo",
          "lenovo",
          "lenovo",
          "lenovo",
          "lenovo",
          "lenovo",
          "lenovo",
          "lenovo",
          "lenovo",
          "lenovo",
          "lenovo",
          "lenovo",
          "lenovo",
          "lenovo",
          "lenovo",
          "lenovo",
          "lenovo",
          "lenovo",
          "lenovo",
          "lenovo",
          "lenovo",
          "lenovo",
          "lenovo",
          "lenovo",
          "lenovo",
          "lenovo",
          "lenovo",
          "lenovo",
          "lenovo",
          "lenovo",
          "lenovo",
          "lenovo",
          "lenovo",
          "lenovo",
          "lenovo",
          "lenovo",
          "lenovo",
          "lenovo",
          "lenovo",
          "lenovo",
          "lenovo",
          "lenovo",
          "lenovo",
          "lenovo",
          "lenovo",
          "lenovo",
          "lenovo",
          "lenovo",
          "lenovo",
          "lenovo",
          "lenovo",
          "lenovo",
          "lenovo",
          "lenovo",
          "lenovo",
          "lenovo",
          "lenovo",
          "lenovo",
          "lenovo",
          "lenovo",
          "lenovo",
          "lenovo",
          "lenovo",
          "lenovo",
          "lenovo",
          "lenovo",
          "lenovo",
          "lenovo",
          "lenovo",
          "lenovo",
          "lenovo",
          "lenovo",
          "lenovo",
          "lenovo",
          "lenovo",
          "lenovo",
          "lenovo",
          "lenovo",
          "lenovo",
          "lenovo",
          "lenovo",
          "lenovo",
          "lenovo",
          "lenovo",
          "lenovo",
          "lenovo",
          "lenovo",
          "lenovo",
          "lenovo",
          "lenovo",
          "lenovo",
          "lenovo",
          "lenovo",
          "lenovo",
          "lenovo",
          "lenovo",
          "lenovo",
          "lenovo",
          "lenovo",
          "lenovo",
          "lenovo",
          "lenovo",
          "lenovo",
          "lenovo",
          "lenovo",
          "lenovo",
          "lenovo",
          "lenovo",
          "lenovo",
          "lenovo",
          "lenovo",
          "lenovo",
          "lenovo",
          "lenovo",
          "lenovo",
          "lenovo",
          "lenovo",
          "lenovo",
          "lenovo",
          "lenovo",
          "lenovo",
          "lenovo",
          "lenovo",
          "lenovo",
          "lenovo",
          "lenovo",
          "lenovo",
          "lenovo",
          "lenovo",
          "lenovo",
          "lenovo",
          "lenovo",
          "lenovo",
          "lenovo",
          "lenovo",
          "lenovo",
          "lenovo",
          "lenovo",
          "lenovo",
          "lenovo",
          "lenovo",
          "lenovo",
          "lenovo",
          "lenovo",
          "lenovo",
          "lenovo",
          "lenovo",
          "lenovo",
          "lenovo",
          "lenovo",
          "lenovo",
          "lenovo",
          "lenovo",
          "lenovo",
          "lenovo",
          "lenovo",
          "lenovo",
          "lenovo",
          "lenovo",
          "lenovo",
          "lenovo",
          "lenovo",
          "lenovo",
          "lenovo",
          "lenovo",
          "lenovo",
          "lenovo",
          "lenovo",
          "lenovo",
          "lenovo"
         ],
         "y0": " ",
         "yaxis": "y"
        },
        {
         "alignmentgroup": "True",
         "hovertemplate": "brand=%{y}<br>rating=%{x}<extra></extra>",
         "legendgroup": "apple",
         "marker": {
          "color": "#FFA15A"
         },
         "name": "apple",
         "notched": false,
         "offsetgroup": "apple",
         "orientation": "h",
         "showlegend": true,
         "type": "box",
         "x": {
          "bdata": "LUEwNSs/QDo4OC0tNToz",
          "dtype": "i1"
         },
         "x0": " ",
         "xaxis": "x",
         "y": [
          "apple",
          "apple",
          "apple",
          "apple",
          "apple",
          "apple",
          "apple",
          "apple",
          "apple",
          "apple",
          "apple",
          "apple",
          "apple",
          "apple",
          "apple"
         ],
         "y0": " ",
         "yaxis": "y"
        },
        {
         "alignmentgroup": "True",
         "hovertemplate": "brand=%{y}<br>rating=%{x}<extra></extra>",
         "legendgroup": "infinix",
         "marker": {
          "color": "#19d3f3"
         },
         "name": "infinix",
         "notched": false,
         "offsetgroup": "infinix",
         "orientation": "h",
         "showlegend": true,
         "type": "box",
         "x": {
          "bdata": "OEc2MjU8Pzg5OTQ5Og==",
          "dtype": "i1"
         },
         "x0": " ",
         "xaxis": "x",
         "y": [
          "infinix",
          "infinix",
          "infinix",
          "infinix",
          "infinix",
          "infinix",
          "infinix",
          "infinix",
          "infinix",
          "infinix",
          "infinix",
          "infinix",
          "infinix"
         ],
         "y0": " ",
         "yaxis": "y"
        },
        {
         "alignmentgroup": "True",
         "hovertemplate": "brand=%{y}<br>rating=%{x}<extra></extra>",
         "legendgroup": "asus",
         "marker": {
          "color": "#FF6692"
         },
         "name": "asus",
         "notched": false,
         "offsetgroup": "asus",
         "orientation": "h",
         "showlegend": true,
         "type": "box",
         "x": {
          "bdata": "RkdMOTlBSE1TS0NATkg+QDk/R0ZGQktISEBYTzxBOEY+R0UjR0FMTUxGQjw7QDpQTU9OQENARkFHO0E8QTJJVSUsQzpBRS0/RiZCMyZJOj5GRytDOzxAP0lASCUpJTklSEFCRjk+OEU/TDs5SEJINkAtOUhLRlJIR0E8S0A8SFNHO0VAQjUtOj9ANkdJWVRLU0lNWUxQQ0lSQkhLQkxCRlRHOC04Tjw7SUlGSztANDA7Pzg+PDk4R0BARj48NTozSj5DO0NZOjs1SFNEREFARDtE",
          "dtype": "i1"
         },
         "x0": " ",
         "xaxis": "x",
         "y": [
          "asus",
          "asus",
          "asus",
          "asus",
          "asus",
          "asus",
          "asus",
          "asus",
          "asus",
          "asus",
          "asus",
          "asus",
          "asus",
          "asus",
          "asus",
          "asus",
          "asus",
          "asus",
          "asus",
          "asus",
          "asus",
          "asus",
          "asus",
          "asus",
          "asus",
          "asus",
          "asus",
          "asus",
          "asus",
          "asus",
          "asus",
          "asus",
          "asus",
          "asus",
          "asus",
          "asus",
          "asus",
          "asus",
          "asus",
          "asus",
          "asus",
          "asus",
          "asus",
          "asus",
          "asus",
          "asus",
          "asus",
          "asus",
          "asus",
          "asus",
          "asus",
          "asus",
          "asus",
          "asus",
          "asus",
          "asus",
          "asus",
          "asus",
          "asus",
          "asus",
          "asus",
          "asus",
          "asus",
          "asus",
          "asus",
          "asus",
          "asus",
          "asus",
          "asus",
          "asus",
          "asus",
          "asus",
          "asus",
          "asus",
          "asus",
          "asus",
          "asus",
          "asus",
          "asus",
          "asus",
          "asus",
          "asus",
          "asus",
          "asus",
          "asus",
          "asus",
          "asus",
          "asus",
          "asus",
          "asus",
          "asus",
          "asus",
          "asus",
          "asus",
          "asus",
          "asus",
          "asus",
          "asus",
          "asus",
          "asus",
          "asus",
          "asus",
          "asus",
          "asus",
          "asus",
          "asus",
          "asus",
          "asus",
          "asus",
          "asus",
          "asus",
          "asus",
          "asus",
          "asus",
          "asus",
          "asus",
          "asus",
          "asus",
          "asus",
          "asus",
          "asus",
          "asus",
          "asus",
          "asus",
          "asus",
          "asus",
          "asus",
          "asus",
          "asus",
          "asus",
          "asus",
          "asus",
          "asus",
          "asus",
          "asus",
          "asus",
          "asus",
          "asus",
          "asus",
          "asus",
          "asus",
          "asus",
          "asus",
          "asus",
          "asus",
          "asus",
          "asus",
          "asus",
          "asus",
          "asus",
          "asus",
          "asus",
          "asus",
          "asus",
          "asus",
          "asus",
          "asus",
          "asus",
          "asus",
          "asus",
          "asus",
          "asus",
          "asus",
          "asus",
          "asus",
          "asus",
          "asus",
          "asus",
          "asus",
          "asus",
          "asus",
          "asus",
          "asus",
          "asus",
          "asus",
          "asus",
          "asus",
          "asus",
          "asus",
          "asus",
          "asus",
          "asus",
          "asus",
          "asus",
          "asus",
          "asus",
          "asus",
          "asus",
          "asus",
          "asus",
          "asus",
          "asus",
          "asus",
          "asus",
          "asus",
          "asus",
          "asus",
          "asus",
          "asus",
          "asus",
          "asus",
          "asus",
          "asus",
          "asus",
          "asus",
          "asus",
          "asus",
          "asus",
          "asus",
          "asus"
         ],
         "y0": " ",
         "yaxis": "y"
        },
        {
         "alignmentgroup": "True",
         "hovertemplate": "brand=%{y}<br>rating=%{x}<extra></extra>",
         "legendgroup": "dell",
         "marker": {
          "color": "#B6E880"
         },
         "name": "dell",
         "notched": false,
         "offsetgroup": "dell",
         "orientation": "h",
         "showlegend": true,
         "type": "box",
         "x": {
          "bdata": "PEJHQkJGPEhKTjs1ST8+RD5DUDU6MUBLOjk1NTk5ODk4OT41OjlOODo/Oj42Ozk8Pzo8VT9BU0FVUFNZPD84NThDOjQ8PEZYUjZIRzhOUjs6OTg0OThMNE9JS0VOU1JTPz87PjtESA==",
          "dtype": "i1"
         },
         "x0": " ",
         "xaxis": "x",
         "y": [
          "dell",
          "dell",
          "dell",
          "dell",
          "dell",
          "dell",
          "dell",
          "dell",
          "dell",
          "dell",
          "dell",
          "dell",
          "dell",
          "dell",
          "dell",
          "dell",
          "dell",
          "dell",
          "dell",
          "dell",
          "dell",
          "dell",
          "dell",
          "dell",
          "dell",
          "dell",
          "dell",
          "dell",
          "dell",
          "dell",
          "dell",
          "dell",
          "dell",
          "dell",
          "dell",
          "dell",
          "dell",
          "dell",
          "dell",
          "dell",
          "dell",
          "dell",
          "dell",
          "dell",
          "dell",
          "dell",
          "dell",
          "dell",
          "dell",
          "dell",
          "dell",
          "dell",
          "dell",
          "dell",
          "dell",
          "dell",
          "dell",
          "dell",
          "dell",
          "dell",
          "dell",
          "dell",
          "dell",
          "dell",
          "dell",
          "dell",
          "dell",
          "dell",
          "dell",
          "dell",
          "dell",
          "dell",
          "dell",
          "dell",
          "dell",
          "dell",
          "dell",
          "dell",
          "dell",
          "dell",
          "dell",
          "dell",
          "dell",
          "dell",
          "dell",
          "dell",
          "dell",
          "dell",
          "dell",
          "dell",
          "dell",
          "dell",
          "dell",
          "dell",
          "dell",
          "dell",
          "dell",
          "dell",
          "dell",
          "dell",
          "dell",
          "dell",
          "dell"
         ],
         "y0": " ",
         "yaxis": "y"
        },
        {
         "alignmentgroup": "True",
         "hovertemplate": "brand=%{y}<br>rating=%{x}<extra></extra>",
         "legendgroup": "samsung",
         "marker": {
          "color": "#FF97FF"
         },
         "name": "samsung",
         "notched": false,
         "offsetgroup": "samsung",
         "orientation": "h",
         "showlegend": true,
         "type": "box",
         "x": {
          "bdata": "RDs+ODxE",
          "dtype": "i1"
         },
         "x0": " ",
         "xaxis": "x",
         "y": [
          "samsung",
          "samsung",
          "samsung",
          "samsung",
          "samsung",
          "samsung"
         ],
         "y0": " ",
         "yaxis": "y"
        },
        {
         "alignmentgroup": "True",
         "hovertemplate": "brand=%{y}<br>rating=%{x}<extra></extra>",
         "legendgroup": "msi",
         "marker": {
          "color": "#FECB52"
         },
         "name": "msi",
         "notched": false,
         "offsetgroup": "msi",
         "orientation": "h",
         "showlegend": true,
         "type": "box",
         "x": {
          "bdata": "RzpGQUtBPzxBPkFIPklFPk9OUFlGU0dMTE1PTE1FR0ZTSVk/Ok1HQUNOQ0FORU1CTUs/RkFLS1VHVkFGWUFUV1BINTY8OjtISkM7PTo4TEk=",
          "dtype": "i1"
         },
         "x0": " ",
         "xaxis": "x",
         "y": [
          "msi",
          "msi",
          "msi",
          "msi",
          "msi",
          "msi",
          "msi",
          "msi",
          "msi",
          "msi",
          "msi",
          "msi",
          "msi",
          "msi",
          "msi",
          "msi",
          "msi",
          "msi",
          "msi",
          "msi",
          "msi",
          "msi",
          "msi",
          "msi",
          "msi",
          "msi",
          "msi",
          "msi",
          "msi",
          "msi",
          "msi",
          "msi",
          "msi",
          "msi",
          "msi",
          "msi",
          "msi",
          "msi",
          "msi",
          "msi",
          "msi",
          "msi",
          "msi",
          "msi",
          "msi",
          "msi",
          "msi",
          "msi",
          "msi",
          "msi",
          "msi",
          "msi",
          "msi",
          "msi",
          "msi",
          "msi",
          "msi",
          "msi",
          "msi",
          "msi",
          "msi",
          "msi",
          "msi",
          "msi",
          "msi",
          "msi",
          "msi",
          "msi",
          "msi",
          "msi",
          "msi",
          "msi",
          "msi",
          "msi",
          "msi",
          "msi",
          "msi",
          "msi",
          "msi",
          "msi"
         ],
         "y0": " ",
         "yaxis": "y"
        },
        {
         "alignmentgroup": "True",
         "hovertemplate": "brand=%{y}<br>rating=%{x}<extra></extra>",
         "legendgroup": "wings",
         "marker": {
          "color": "#636efa"
         },
         "name": "wings",
         "notched": false,
         "offsetgroup": "wings",
         "orientation": "h",
         "showlegend": true,
         "type": "box",
         "x": {
          "bdata": "ODoxMw==",
          "dtype": "i1"
         },
         "x0": " ",
         "xaxis": "x",
         "y": [
          "wings",
          "wings",
          "wings",
          "wings"
         ],
         "y0": " ",
         "yaxis": "y"
        },
        {
         "alignmentgroup": "True",
         "hovertemplate": "brand=%{y}<br>rating=%{x}<extra></extra>",
         "legendgroup": "ultimus",
         "marker": {
          "color": "#EF553B"
         },
         "name": "ultimus",
         "notched": false,
         "offsetgroup": "ultimus",
         "orientation": "h",
         "showlegend": true,
         "type": "box",
         "x": {
          "bdata": "Ni4pLS80",
          "dtype": "i1"
         },
         "x0": " ",
         "xaxis": "x",
         "y": [
          "ultimus",
          "ultimus",
          "ultimus",
          "ultimus",
          "ultimus",
          "ultimus"
         ],
         "y0": " ",
         "yaxis": "y"
        },
        {
         "alignmentgroup": "True",
         "hovertemplate": "brand=%{y}<br>rating=%{x}<extra></extra>",
         "legendgroup": "1",
         "marker": {
          "color": "#00cc96"
         },
         "name": "1",
         "notched": false,
         "offsetgroup": "1",
         "orientation": "h",
         "showlegend": true,
         "type": "box",
         "x": {
          "bdata": "AQEBAQEBAQEBAQEBAQEBAQEB",
          "dtype": "i1"
         },
         "x0": " ",
         "xaxis": "x",
         "y": [
          1,
          1,
          1,
          1,
          1,
          1,
          1,
          1,
          1,
          1,
          1,
          1,
          1,
          1,
          1,
          1,
          1,
          1
         ],
         "y0": " ",
         "yaxis": "y"
        },
        {
         "alignmentgroup": "True",
         "hovertemplate": "brand=%{y}<br>rating=%{x}<extra></extra>",
         "legendgroup": "primebook",
         "marker": {
          "color": "#ab63fa"
         },
         "name": "primebook",
         "notched": false,
         "offsetgroup": "primebook",
         "orientation": "h",
         "showlegend": true,
         "type": "box",
         "x": {
          "bdata": "Gh8=",
          "dtype": "i1"
         },
         "x0": " ",
         "xaxis": "x",
         "y": [
          "primebook",
          "primebook"
         ],
         "y0": " ",
         "yaxis": "y"
        },
        {
         "alignmentgroup": "True",
         "hovertemplate": "brand=%{y}<br>rating=%{x}<extra></extra>",
         "legendgroup": "iball",
         "marker": {
          "color": "#FFA15A"
         },
         "name": "iball",
         "notched": false,
         "offsetgroup": "iball",
         "orientation": "h",
         "showlegend": true,
         "type": "box",
         "x": {
          "bdata": "KQ==",
          "dtype": "i1"
         },
         "x0": " ",
         "xaxis": "x",
         "y": [
          "iball"
         ],
         "y0": " ",
         "yaxis": "y"
        },
        {
         "alignmentgroup": "True",
         "hovertemplate": "brand=%{y}<br>rating=%{x}<extra></extra>",
         "legendgroup": "zebronics",
         "marker": {
          "color": "#19d3f3"
         },
         "name": "zebronics",
         "notched": false,
         "offsetgroup": "zebronics",
         "orientation": "h",
         "showlegend": true,
         "type": "box",
         "x": {
          "bdata": "QT9IOEI8SA==",
          "dtype": "i1"
         },
         "x0": " ",
         "xaxis": "x",
         "y": [
          "zebronics",
          "zebronics",
          "zebronics",
          "zebronics",
          "zebronics",
          "zebronics",
          "zebronics"
         ],
         "y0": " ",
         "yaxis": "y"
        },
        {
         "alignmentgroup": "True",
         "hovertemplate": "brand=%{y}<br>rating=%{x}<extra></extra>",
         "legendgroup": "chuwi",
         "marker": {
          "color": "#FF6692"
         },
         "name": "chuwi",
         "notched": false,
         "offsetgroup": "chuwi",
         "orientation": "h",
         "showlegend": true,
         "type": "box",
         "x": {
          "bdata": "MjIyNg==",
          "dtype": "i1"
         },
         "x0": " ",
         "xaxis": "x",
         "y": [
          "chuwi",
          "chuwi",
          "chuwi",
          "chuwi"
         ],
         "y0": " ",
         "yaxis": "y"
        },
        {
         "alignmentgroup": "True",
         "hovertemplate": "brand=%{y}<br>rating=%{x}<extra></extra>",
         "legendgroup": "gigabyte",
         "marker": {
          "color": "#B6E880"
         },
         "name": "gigabyte",
         "notched": false,
         "offsetgroup": "gigabyte",
         "orientation": "h",
         "showlegend": true,
         "type": "box",
         "x": {
          "bdata": "Q0k=",
          "dtype": "i1"
         },
         "x0": " ",
         "xaxis": "x",
         "y": [
          "gigabyte",
          "gigabyte"
         ],
         "y0": " ",
         "yaxis": "y"
        },
        {
         "alignmentgroup": "True",
         "hovertemplate": "brand=%{y}<br>rating=%{x}<extra></extra>",
         "legendgroup": "jio",
         "marker": {
          "color": "#FF97FF"
         },
         "name": "jio",
         "notched": false,
         "offsetgroup": "jio",
         "orientation": "h",
         "showlegend": true,
         "type": "box",
         "x": {
          "bdata": "GA==",
          "dtype": "i1"
         },
         "x0": " ",
         "xaxis": "x",
         "y": [
          "jio"
         ],
         "y0": " ",
         "yaxis": "y"
        },
        {
         "alignmentgroup": "True",
         "hovertemplate": "brand=%{y}<br>rating=%{x}<extra></extra>",
         "legendgroup": "honor",
         "marker": {
          "color": "#FECB52"
         },
         "name": "honor",
         "notched": false,
         "offsetgroup": "honor",
         "orientation": "h",
         "showlegend": true,
         "type": "box",
         "x": {
          "bdata": "Qjs=",
          "dtype": "i1"
         },
         "x0": " ",
         "xaxis": "x",
         "y": [
          "honor",
          "honor"
         ],
         "y0": " ",
         "yaxis": "y"
        },
        {
         "alignmentgroup": "True",
         "hovertemplate": "brand=%{y}<br>rating=%{x}<extra></extra>",
         "legendgroup": "realme",
         "marker": {
          "color": "#636efa"
         },
         "name": "realme",
         "notched": false,
         "offsetgroup": "realme",
         "orientation": "h",
         "showlegend": true,
         "type": "box",
         "x": {
          "bdata": "ND4=",
          "dtype": "i1"
         },
         "x0": " ",
         "xaxis": "x",
         "y": [
          "realme",
          "realme"
         ],
         "y0": " ",
         "yaxis": "y"
        },
        {
         "alignmentgroup": "True",
         "hovertemplate": "brand=%{y}<br>rating=%{x}<extra></extra>",
         "legendgroup": "avita",
         "marker": {
          "color": "#EF553B"
         },
         "name": "avita",
         "notched": false,
         "offsetgroup": "avita",
         "orientation": "h",
         "showlegend": true,
         "type": "box",
         "x": {
          "bdata": "ODIzKSs=",
          "dtype": "i1"
         },
         "x0": " ",
         "xaxis": "x",
         "y": [
          "avita",
          "avita",
          "avita",
          "avita",
          "avita"
         ],
         "y0": " ",
         "yaxis": "y"
        },
        {
         "alignmentgroup": "True",
         "hovertemplate": "brand=%{y}<br>rating=%{x}<extra></extra>",
         "legendgroup": "microsoft",
         "marker": {
          "color": "#00cc96"
         },
         "name": "microsoft",
         "notched": false,
         "offsetgroup": "microsoft",
         "orientation": "h",
         "showlegend": true,
         "type": "box",
         "x": {
          "bdata": "Ojw=",
          "dtype": "i1"
         },
         "x0": " ",
         "xaxis": "x",
         "y": [
          "microsoft",
          "microsoft"
         ],
         "y0": " ",
         "yaxis": "y"
        },
        {
         "alignmentgroup": "True",
         "hovertemplate": "brand=%{y}<br>rating=%{x}<extra></extra>",
         "legendgroup": "fujitsu",
         "marker": {
          "color": "#ab63fa"
         },
         "name": "fujitsu",
         "notched": false,
         "offsetgroup": "fujitsu",
         "orientation": "h",
         "showlegend": true,
         "type": "box",
         "x": {
          "bdata": "Q0FMSUY=",
          "dtype": "i1"
         },
         "x0": " ",
         "xaxis": "x",
         "y": [
          "fujitsu",
          "fujitsu",
          "fujitsu",
          "fujitsu",
          "fujitsu"
         ],
         "y0": " ",
         "yaxis": "y"
        },
        {
         "alignmentgroup": "True",
         "hovertemplate": "brand=%{y}<br>rating=%{x}<extra></extra>",
         "legendgroup": "lg",
         "marker": {
          "color": "#FFA15A"
         },
         "name": "lg",
         "notched": false,
         "offsetgroup": "lg",
         "orientation": "h",
         "showlegend": true,
         "type": "box",
         "x": {
          "bdata": "Q0hORUtISA==",
          "dtype": "i1"
         },
         "x0": " ",
         "xaxis": "x",
         "y": [
          "lg",
          "lg",
          "lg",
          "lg",
          "lg",
          "lg",
          "lg"
         ],
         "y0": " ",
         "yaxis": "y"
        },
        {
         "alignmentgroup": "True",
         "hovertemplate": "brand=%{y}<br>rating=%{x}<extra></extra>",
         "legendgroup": "walker",
         "marker": {
          "color": "#19d3f3"
         },
         "name": "walker",
         "notched": false,
         "offsetgroup": "walker",
         "orientation": "h",
         "showlegend": true,
         "type": "box",
         "x": {
          "bdata": "JQ==",
          "dtype": "i1"
         },
         "x0": " ",
         "xaxis": "x",
         "y": [
          "walker"
         ],
         "y0": " ",
         "yaxis": "y"
        },
        {
         "alignmentgroup": "True",
         "hovertemplate": "brand=%{y}<br>rating=%{x}<extra></extra>",
         "legendgroup": "axl",
         "marker": {
          "color": "#FF6692"
         },
         "name": "axl",
         "notched": false,
         "offsetgroup": "axl",
         "orientation": "h",
         "showlegend": true,
         "type": "box",
         "x": {
          "bdata": "JiU=",
          "dtype": "i1"
         },
         "x0": " ",
         "xaxis": "x",
         "y": [
          "axl",
          "axl"
         ],
         "y0": " ",
         "yaxis": "y"
        }
       ],
       "layout": {
        "boxmode": "overlay",
        "legend": {
         "title": {
          "text": "brand"
         },
         "tracegroupgap": 0
        },
        "margin": {
         "t": 60
        },
        "template": {
         "data": {
          "bar": [
           {
            "error_x": {
             "color": "#2a3f5f"
            },
            "error_y": {
             "color": "#2a3f5f"
            },
            "marker": {
             "line": {
              "color": "#E5ECF6",
              "width": 0.5
             },
             "pattern": {
              "fillmode": "overlay",
              "size": 10,
              "solidity": 0.2
             }
            },
            "type": "bar"
           }
          ],
          "barpolar": [
           {
            "marker": {
             "line": {
              "color": "#E5ECF6",
              "width": 0.5
             },
             "pattern": {
              "fillmode": "overlay",
              "size": 10,
              "solidity": 0.2
             }
            },
            "type": "barpolar"
           }
          ],
          "carpet": [
           {
            "aaxis": {
             "endlinecolor": "#2a3f5f",
             "gridcolor": "white",
             "linecolor": "white",
             "minorgridcolor": "white",
             "startlinecolor": "#2a3f5f"
            },
            "baxis": {
             "endlinecolor": "#2a3f5f",
             "gridcolor": "white",
             "linecolor": "white",
             "minorgridcolor": "white",
             "startlinecolor": "#2a3f5f"
            },
            "type": "carpet"
           }
          ],
          "choropleth": [
           {
            "colorbar": {
             "outlinewidth": 0,
             "ticks": ""
            },
            "type": "choropleth"
           }
          ],
          "contour": [
           {
            "colorbar": {
             "outlinewidth": 0,
             "ticks": ""
            },
            "colorscale": [
             [
              0,
              "#0d0887"
             ],
             [
              0.1111111111111111,
              "#46039f"
             ],
             [
              0.2222222222222222,
              "#7201a8"
             ],
             [
              0.3333333333333333,
              "#9c179e"
             ],
             [
              0.4444444444444444,
              "#bd3786"
             ],
             [
              0.5555555555555556,
              "#d8576b"
             ],
             [
              0.6666666666666666,
              "#ed7953"
             ],
             [
              0.7777777777777778,
              "#fb9f3a"
             ],
             [
              0.8888888888888888,
              "#fdca26"
             ],
             [
              1,
              "#f0f921"
             ]
            ],
            "type": "contour"
           }
          ],
          "contourcarpet": [
           {
            "colorbar": {
             "outlinewidth": 0,
             "ticks": ""
            },
            "type": "contourcarpet"
           }
          ],
          "heatmap": [
           {
            "colorbar": {
             "outlinewidth": 0,
             "ticks": ""
            },
            "colorscale": [
             [
              0,
              "#0d0887"
             ],
             [
              0.1111111111111111,
              "#46039f"
             ],
             [
              0.2222222222222222,
              "#7201a8"
             ],
             [
              0.3333333333333333,
              "#9c179e"
             ],
             [
              0.4444444444444444,
              "#bd3786"
             ],
             [
              0.5555555555555556,
              "#d8576b"
             ],
             [
              0.6666666666666666,
              "#ed7953"
             ],
             [
              0.7777777777777778,
              "#fb9f3a"
             ],
             [
              0.8888888888888888,
              "#fdca26"
             ],
             [
              1,
              "#f0f921"
             ]
            ],
            "type": "heatmap"
           }
          ],
          "histogram": [
           {
            "marker": {
             "pattern": {
              "fillmode": "overlay",
              "size": 10,
              "solidity": 0.2
             }
            },
            "type": "histogram"
           }
          ],
          "histogram2d": [
           {
            "colorbar": {
             "outlinewidth": 0,
             "ticks": ""
            },
            "colorscale": [
             [
              0,
              "#0d0887"
             ],
             [
              0.1111111111111111,
              "#46039f"
             ],
             [
              0.2222222222222222,
              "#7201a8"
             ],
             [
              0.3333333333333333,
              "#9c179e"
             ],
             [
              0.4444444444444444,
              "#bd3786"
             ],
             [
              0.5555555555555556,
              "#d8576b"
             ],
             [
              0.6666666666666666,
              "#ed7953"
             ],
             [
              0.7777777777777778,
              "#fb9f3a"
             ],
             [
              0.8888888888888888,
              "#fdca26"
             ],
             [
              1,
              "#f0f921"
             ]
            ],
            "type": "histogram2d"
           }
          ],
          "histogram2dcontour": [
           {
            "colorbar": {
             "outlinewidth": 0,
             "ticks": ""
            },
            "colorscale": [
             [
              0,
              "#0d0887"
             ],
             [
              0.1111111111111111,
              "#46039f"
             ],
             [
              0.2222222222222222,
              "#7201a8"
             ],
             [
              0.3333333333333333,
              "#9c179e"
             ],
             [
              0.4444444444444444,
              "#bd3786"
             ],
             [
              0.5555555555555556,
              "#d8576b"
             ],
             [
              0.6666666666666666,
              "#ed7953"
             ],
             [
              0.7777777777777778,
              "#fb9f3a"
             ],
             [
              0.8888888888888888,
              "#fdca26"
             ],
             [
              1,
              "#f0f921"
             ]
            ],
            "type": "histogram2dcontour"
           }
          ],
          "mesh3d": [
           {
            "colorbar": {
             "outlinewidth": 0,
             "ticks": ""
            },
            "type": "mesh3d"
           }
          ],
          "parcoords": [
           {
            "line": {
             "colorbar": {
              "outlinewidth": 0,
              "ticks": ""
             }
            },
            "type": "parcoords"
           }
          ],
          "pie": [
           {
            "automargin": true,
            "type": "pie"
           }
          ],
          "scatter": [
           {
            "fillpattern": {
             "fillmode": "overlay",
             "size": 10,
             "solidity": 0.2
            },
            "type": "scatter"
           }
          ],
          "scatter3d": [
           {
            "line": {
             "colorbar": {
              "outlinewidth": 0,
              "ticks": ""
             }
            },
            "marker": {
             "colorbar": {
              "outlinewidth": 0,
              "ticks": ""
             }
            },
            "type": "scatter3d"
           }
          ],
          "scattercarpet": [
           {
            "marker": {
             "colorbar": {
              "outlinewidth": 0,
              "ticks": ""
             }
            },
            "type": "scattercarpet"
           }
          ],
          "scattergeo": [
           {
            "marker": {
             "colorbar": {
              "outlinewidth": 0,
              "ticks": ""
             }
            },
            "type": "scattergeo"
           }
          ],
          "scattergl": [
           {
            "marker": {
             "colorbar": {
              "outlinewidth": 0,
              "ticks": ""
             }
            },
            "type": "scattergl"
           }
          ],
          "scattermap": [
           {
            "marker": {
             "colorbar": {
              "outlinewidth": 0,
              "ticks": ""
             }
            },
            "type": "scattermap"
           }
          ],
          "scattermapbox": [
           {
            "marker": {
             "colorbar": {
              "outlinewidth": 0,
              "ticks": ""
             }
            },
            "type": "scattermapbox"
           }
          ],
          "scatterpolar": [
           {
            "marker": {
             "colorbar": {
              "outlinewidth": 0,
              "ticks": ""
             }
            },
            "type": "scatterpolar"
           }
          ],
          "scatterpolargl": [
           {
            "marker": {
             "colorbar": {
              "outlinewidth": 0,
              "ticks": ""
             }
            },
            "type": "scatterpolargl"
           }
          ],
          "scatterternary": [
           {
            "marker": {
             "colorbar": {
              "outlinewidth": 0,
              "ticks": ""
             }
            },
            "type": "scatterternary"
           }
          ],
          "surface": [
           {
            "colorbar": {
             "outlinewidth": 0,
             "ticks": ""
            },
            "colorscale": [
             [
              0,
              "#0d0887"
             ],
             [
              0.1111111111111111,
              "#46039f"
             ],
             [
              0.2222222222222222,
              "#7201a8"
             ],
             [
              0.3333333333333333,
              "#9c179e"
             ],
             [
              0.4444444444444444,
              "#bd3786"
             ],
             [
              0.5555555555555556,
              "#d8576b"
             ],
             [
              0.6666666666666666,
              "#ed7953"
             ],
             [
              0.7777777777777778,
              "#fb9f3a"
             ],
             [
              0.8888888888888888,
              "#fdca26"
             ],
             [
              1,
              "#f0f921"
             ]
            ],
            "type": "surface"
           }
          ],
          "table": [
           {
            "cells": {
             "fill": {
              "color": "#EBF0F8"
             },
             "line": {
              "color": "white"
             }
            },
            "header": {
             "fill": {
              "color": "#C8D4E3"
             },
             "line": {
              "color": "white"
             }
            },
            "type": "table"
           }
          ]
         },
         "layout": {
          "annotationdefaults": {
           "arrowcolor": "#2a3f5f",
           "arrowhead": 0,
           "arrowwidth": 1
          },
          "autotypenumbers": "strict",
          "coloraxis": {
           "colorbar": {
            "outlinewidth": 0,
            "ticks": ""
           }
          },
          "colorscale": {
           "diverging": [
            [
             0,
             "#8e0152"
            ],
            [
             0.1,
             "#c51b7d"
            ],
            [
             0.2,
             "#de77ae"
            ],
            [
             0.3,
             "#f1b6da"
            ],
            [
             0.4,
             "#fde0ef"
            ],
            [
             0.5,
             "#f7f7f7"
            ],
            [
             0.6,
             "#e6f5d0"
            ],
            [
             0.7,
             "#b8e186"
            ],
            [
             0.8,
             "#7fbc41"
            ],
            [
             0.9,
             "#4d9221"
            ],
            [
             1,
             "#276419"
            ]
           ],
           "sequential": [
            [
             0,
             "#0d0887"
            ],
            [
             0.1111111111111111,
             "#46039f"
            ],
            [
             0.2222222222222222,
             "#7201a8"
            ],
            [
             0.3333333333333333,
             "#9c179e"
            ],
            [
             0.4444444444444444,
             "#bd3786"
            ],
            [
             0.5555555555555556,
             "#d8576b"
            ],
            [
             0.6666666666666666,
             "#ed7953"
            ],
            [
             0.7777777777777778,
             "#fb9f3a"
            ],
            [
             0.8888888888888888,
             "#fdca26"
            ],
            [
             1,
             "#f0f921"
            ]
           ],
           "sequentialminus": [
            [
             0,
             "#0d0887"
            ],
            [
             0.1111111111111111,
             "#46039f"
            ],
            [
             0.2222222222222222,
             "#7201a8"
            ],
            [
             0.3333333333333333,
             "#9c179e"
            ],
            [
             0.4444444444444444,
             "#bd3786"
            ],
            [
             0.5555555555555556,
             "#d8576b"
            ],
            [
             0.6666666666666666,
             "#ed7953"
            ],
            [
             0.7777777777777778,
             "#fb9f3a"
            ],
            [
             0.8888888888888888,
             "#fdca26"
            ],
            [
             1,
             "#f0f921"
            ]
           ]
          },
          "colorway": [
           "#636efa",
           "#EF553B",
           "#00cc96",
           "#ab63fa",
           "#FFA15A",
           "#19d3f3",
           "#FF6692",
           "#B6E880",
           "#FF97FF",
           "#FECB52"
          ],
          "font": {
           "color": "#2a3f5f"
          },
          "geo": {
           "bgcolor": "white",
           "lakecolor": "white",
           "landcolor": "#E5ECF6",
           "showlakes": true,
           "showland": true,
           "subunitcolor": "white"
          },
          "hoverlabel": {
           "align": "left"
          },
          "hovermode": "closest",
          "mapbox": {
           "style": "light"
          },
          "paper_bgcolor": "white",
          "plot_bgcolor": "#E5ECF6",
          "polar": {
           "angularaxis": {
            "gridcolor": "white",
            "linecolor": "white",
            "ticks": ""
           },
           "bgcolor": "#E5ECF6",
           "radialaxis": {
            "gridcolor": "white",
            "linecolor": "white",
            "ticks": ""
           }
          },
          "scene": {
           "xaxis": {
            "backgroundcolor": "#E5ECF6",
            "gridcolor": "white",
            "gridwidth": 2,
            "linecolor": "white",
            "showbackground": true,
            "ticks": "",
            "zerolinecolor": "white"
           },
           "yaxis": {
            "backgroundcolor": "#E5ECF6",
            "gridcolor": "white",
            "gridwidth": 2,
            "linecolor": "white",
            "showbackground": true,
            "ticks": "",
            "zerolinecolor": "white"
           },
           "zaxis": {
            "backgroundcolor": "#E5ECF6",
            "gridcolor": "white",
            "gridwidth": 2,
            "linecolor": "white",
            "showbackground": true,
            "ticks": "",
            "zerolinecolor": "white"
           }
          },
          "shapedefaults": {
           "line": {
            "color": "#2a3f5f"
           }
          },
          "ternary": {
           "aaxis": {
            "gridcolor": "white",
            "linecolor": "white",
            "ticks": ""
           },
           "baxis": {
            "gridcolor": "white",
            "linecolor": "white",
            "ticks": ""
           },
           "bgcolor": "#E5ECF6",
           "caxis": {
            "gridcolor": "white",
            "linecolor": "white",
            "ticks": ""
           }
          },
          "title": {
           "x": 0.05
          },
          "xaxis": {
           "automargin": true,
           "gridcolor": "white",
           "linecolor": "white",
           "ticks": "",
           "title": {
            "standoff": 15
           },
           "zerolinecolor": "white",
           "zerolinewidth": 2
          },
          "yaxis": {
           "automargin": true,
           "gridcolor": "white",
           "linecolor": "white",
           "ticks": "",
           "title": {
            "standoff": 15
           },
           "zerolinecolor": "white",
           "zerolinewidth": 2
          }
         }
        },
        "xaxis": {
         "anchor": "y",
         "domain": [
          0,
          1
         ],
         "title": {
          "text": "rating"
         }
        },
        "yaxis": {
         "anchor": "x",
         "categoryarray": [
          "axl",
          "walker",
          "lg",
          "fujitsu",
          "microsoft",
          "avita",
          "realme",
          "honor",
          "jio",
          "gigabyte",
          "chuwi",
          "zebronics",
          "iball",
          "primebook",
          1,
          "ultimus",
          "wings",
          "msi",
          "samsung",
          "dell",
          "asus",
          "infinix",
          "apple",
          "lenovo",
          "acer",
          "hp",
          "tecno"
         ],
         "categoryorder": "array",
         "domain": [
          0,
          1
         ],
         "title": {
          "text": "brand"
         }
        }
       }
      }
     },
     "metadata": {},
     "output_type": "display_data"
    }
   ],
   "source": [
    "#distribuição por brand e rating\n",
    "px.box(df_laptops, x='rating', y='brand', color='brand', orientation='h')"
   ]
  },
  {
   "cell_type": "code",
   "execution_count": 15,
   "id": "06401f90",
   "metadata": {},
   "outputs": [
    {
     "data": {
      "application/vnd.plotly.v1+json": {
       "config": {
        "plotlyServerURL": "https://plot.ly"
       },
       "data": [
        {
         "hovertemplate": "brand=tecno<br>price=%{x}<br>rating=%{y}<extra></extra>",
         "legendgroup": "tecno",
         "marker": {
          "color": "#636efa",
          "symbol": "circle"
         },
         "mode": "markers",
         "name": "tecno",
         "orientation": "v",
         "showlegend": true,
         "type": "scatter",
         "x": {
          "bdata": "7FG4HoX7cUAK16NwPfp6QA==",
          "dtype": "f8"
         },
         "xaxis": "x",
         "y": {
          "bdata": "P0M=",
          "dtype": "i1"
         },
         "yaxis": "y"
        },
        {
         "hovertemplate": "brand=hp<br>price=%{x}<br>rating=%{y}<extra></extra>",
         "legendgroup": "hp",
         "marker": {
          "color": "#EF553B",
          "symbol": "circle"
         },
         "mode": "markers",
         "name": "hp",
         "orientation": "v",
         "showlegend": true,
         "type": "scatter",
         "x": {
          "bdata": "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",
          "dtype": "f8"
         },
         "xaxis": "x",
         "y": {
          "bdata": "STxVRzFNQj5HR1BHTEY/UEhBRkZGNkhGQzk+PjY0PDxSTEA6TDtDQjE4TD9MP0tVRj9CQUE7OUU2Q0RFQ0k+R0AnRzY6PjRAOEAzOj40Rk5FOU1MSDxYPkZVWE9OOS9GQEtDRjk7Mzo+Tj8zRkdIR1ZLQ0NIRkM8TUlNLDg5LEVFLkNQJjRJQkJCRkJIOTxHRUU6NTxGOj4/SEJHMTJDP0FDL0IyQEJHQTk7OjlLQjk2NjMzNkM4Q0c8S0M4TUtAT0g6OzQrJTsvSSU=",
          "dtype": "i1"
         },
         "yaxis": "y"
        },
        {
         "hovertemplate": "brand=acer<br>price=%{x}<br>rating=%{y}<extra></extra>",
         "legendgroup": "acer",
         "marker": {
          "color": "#00cc96",
          "symbol": "circle"
         },
         "mode": "markers",
         "name": "acer",
         "orientation": "v",
         "showlegend": true,
         "type": "scatter",
         "x": {
          "bdata": "Urgehev5fUB7FK5H4TqNQMP1KFyPnIFAZmZmZmY6ekDD9Shcj7p4QAAAAAAAXIVArkfhehR6fEBI4XoUrpt9QAAAAAAAzZFAFK5H4Xr8gUCPwvUoXHyWQPYoXI/CrJNAexSuR+E6d0BSuB6F6zl9QMP1KFyPunhAMzMzMzNbi0B7FK5HYd2gQB+F61G4+ndAexSuR+F6dkCkcD0K19uGQAAAAAAAXIVAj8L1KFx8lkAzMzMzM/t0QMP1KFyPnIFAexSuR+F6dkDsUbgehW2BQGZmZmZmvIJA7FG4HoXdgECamZmZmR2AQMP1KFyPnIFAw/UoXI9sgUAAAAAAAFyFQD0K16Nw1X1A7FG4HoX7cUDD9Shcj/yHQOxRuB6Fu4hAZmZmZma8gkBSuB6F6x+HQI/C9ShcG3NAUrgehev5fUBmZmZmZjp6QM3MzMzMHIBAAAAAAABchUAK16NwPdyDQArXo3A9untAmpmZmZl5f0D2KFyPwhl/QOF6FK5H+51AuB6F61FMiUAK16NwPfp6QK5H4XoUXJhAUrgehetLjECamZmZmXl/QDMzMzMz+4pAFK5H4XoUd0ApXI/C9Xh2QNejcD0KG3ZAzczMzMwcgED2KFyPwrl+QFyPwvUonIRAj8L1KFyneEDNzMzMzLx1QFK4HoXr+X1AZmZmZma8gkAfhetRuNaFQK5H4XoULIVAPQrXo3DzhEBmZmZmZt+aQFK4HoXrG4ZAXI/C9SjMmkBSuB6F6/l9QPYoXI/ClXtAXI/C9Sitk0AUrkfheoyVQNejcD0K3YBAXI/C9SitkECPwvUoXNuJQOxRuB6Fv6JAj8L1KFwxjUBxPQrXozyBQMP1KFyPunhAUrgehesNeEDXo3A9ilWhQClcj8J1bKdAMzMzMzP7dECkcD0K16uMQHsUrkfhenZACtejcD3ciUAAAAAAAEyMQA==",
          "dtype": "f8"
         },
         "xaxis": "x",
         "y": {
          "bdata": "Pj9APDpHPD5IQ0tGMUA2QE45O0ZDSzFDL0BAQD4/Pzg+JkE+Q0EmOj4ySEY/PC1PQTpQO0BGOzI5MjxFODUzMjs0MkY+TjovQUJAQUlKSDsyLEdNNEc2R0M=",
          "dtype": "i1"
         },
         "yaxis": "y"
        },
        {
         "hovertemplate": "brand=lenovo<br>price=%{x}<br>rating=%{y}<extra></extra>",
         "legendgroup": "lenovo",
         "marker": {
          "color": "#ab63fa",
          "symbol": "circle"
         },
         "mode": "markers",
         "name": "lenovo",
         "orientation": "v",
         "showlegend": true,
         "type": "scatter",
         "x": {
          "bdata": "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",
          "dtype": "f8"
         },
         "xaxis": "x",
         "y": {
          "bdata": "PkI7O0dFM0IvRj87UEZCQEM8QE1TPDJAPkU/QzU1NU5KQDk6PjI6PkI5PDNAQ0JLQTlWRkU2NTk4RUNLPzo5P0FFQDg6VFVOOk05QTk5Qzo8PjMuMz9AK0U6O0FHP1lTT0NCOEFTRTQ6PD46OjU/OjtFOjw4QUA8PDw+QUA+PDtAOjxIR0lJS0k/RUg5RSY+QTsyRj46RUBDQkNAQztGOT4+OT9LPjk5OzZANTY4OzlCQDJDOkNHTi8rLTo4ODxCNzRLNjIwQA==",
          "dtype": "i1"
         },
         "yaxis": "y"
        },
        {
         "hovertemplate": "brand=apple<br>price=%{x}<br>rating=%{y}<extra></extra>",
         "legendgroup": "apple",
         "marker": {
          "color": "#FFA15A",
          "symbol": "circle"
         },
         "mode": "markers",
         "name": "apple",
         "orientation": "v",
         "showlegend": true,
         "type": "scatter",
         "x": {
          "bdata": "4XoUrkebikBcj8L1KLyyQM3MzMzMTJNAj8L1KFx8lkCamZmZmZyUQPYoXI/CKatACtejcH1ksEDNzMzMTGqnQClcj8L1uqJASOF6FK4rm0AAAAAAAOyYQHsUrkfhq5lArkfhehTLoUBSuB6Fa3qmQB+F61G41p9A",
          "dtype": "f8"
         },
         "xaxis": "x",
         "y": {
          "bdata": "LUEwNSs/QDo4OC0tNToz",
          "dtype": "i1"
         },
         "yaxis": "y"
        },
        {
         "hovertemplate": "brand=infinix<br>price=%{x}<br>rating=%{y}<extra></extra>",
         "legendgroup": "infinix",
         "marker": {
          "color": "#19d3f3",
          "symbol": "circle"
         },
         "mode": "markers",
         "name": "infinix",
         "orientation": "v",
         "showlegend": true,
         "type": "scatter",
         "x": {
          "bdata": "ZmZmZmY6ekCkcD0K13uGQHsUrkfhenZAMzMzMzP7dEAzMzMzMzt0QArXo3A9+npAAAAAAAC8hUBSuB6F6zl9QBSuR+F6XIJAj8L1KFx7c0CPwvUoXLtyQHE9Ctej3IBAUrgehes5fUA=",
          "dtype": "f8"
         },
         "xaxis": "x",
         "y": {
          "bdata": "OEc2MjU8Pzg5OTQ5Og==",
          "dtype": "i1"
         },
         "yaxis": "y"
        },
        {
         "hovertemplate": "brand=asus<br>price=%{x}<br>rating=%{y}<extra></extra>",
         "legendgroup": "asus",
         "marker": {
          "color": "#FF6692",
          "symbol": "circle"
         },
         "mode": "markers",
         "name": "asus",
         "orientation": "v",
         "showlegend": true,
         "type": "scatter",
         "x": {
          "bdata": "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",
          "dtype": "f8"
         },
         "xaxis": "x",
         "y": {
          "bdata": "RkdMOTlBSE1TS0NATkg+QDk/R0ZGQktISEBYTzxBOEY+R0UjR0FMTUxGQjw7QDpQTU9OQENARkFHO0E8QTJJVSUsQzpBRS0/RiZCMyZJOj5GRytDOzxAP0lASCUpJTklSEFCRjk+OEU/TDs5SEJINkAtOUhLRlJIR0E8S0A8SFNHO0VAQjUtOj9ANkdJWVRLU0lNWUxQQ0lSQkhLQkxCRlRHOC04Tjw7SUlGSztANDA7Pzg+PDk4R0BARj48NTozSj5DO0NZOjs1SFNEREFARDtE",
          "dtype": "i1"
         },
         "yaxis": "y"
        },
        {
         "hovertemplate": "brand=dell<br>price=%{x}<br>rating=%{y}<extra></extra>",
         "legendgroup": "dell",
         "marker": {
          "color": "#B6E880",
          "symbol": "circle"
         },
         "mode": "markers",
         "name": "dell",
         "orientation": "v",
         "showlegend": true,
         "type": "scatter",
         "x": {
          "bdata": "ZmZmZmY6ekCPwvUoXJOJQOxRuB6Fd45AFK5H4Xq4fUAK16NwPTWQQDMzMzMzK4tAj8L1KFy9gkDD9Shcj3qPQI/C9Shc24lAmpmZmZnTm0CuR+F6FHp8QOxRuB6Fu4hAKVyPwvUKjUBSuB6F62l9QPYoXI/CeYVAuB6F61Ecg0AK16NwPTyKQDMzMzMzfZBAAAAAAACJo0AUrkfheoh7QArXo3A9coZAZmZmZmY6ekBcj8L1KK2QQB+F61G4xJNAAAAAAABMg0AAAAAAAFyFQPYoXI/CO4dAhetRuB5/iUBI4XoUrh2FQD0K16NwUYVAAAAAAABchUC4HoXrURyDQFK4HoXrOX1A7FG4HoW7iEBmZmZmZqSSQKRwPQrXe4ZArkfhehQafEAK16NwPR2QQHE9Ctej66RAhetRuB4xgUB7FK5H4b58QFK4HoXrjJJAw/UoXI+6eEAzMzMzM2WQQBSuR+F6/IFAKVyPwvUKjUAfhetRuA5/QJqZmZmZW5BApHA9CterhkCuR+F6FPJ7QMP1KFyPqo9Aj8L1KFwgqEAAAAAAAP2RQDMzMzMz04ZAexSuR+FKtUCkcD0K13GJQBSuR+F6W65A9ihcj0K1oUBmZmZm5iC1QM3MzMzMG6xAw/UoXI+MiECF61G4HruLQKRwPQrXe4ZAH4XrUbhWf0AzMzMzM32QQIXrUbge9ZBA9ihcj8K5fkBSuB6F61+AQK5H4XoU/IRAFK5H4Xr8gUAAAAAAAN6NQMP1KFwPMKpAmpmZmRntokDD9Shcj6Z+QNejcD0KQaNASOF6FK7IkUD2KFyPwjuHQI/C9Shcm51AhetRuB4zn0B7FK5H4aSSQEjhehSu/Y1AzczMzMwcgEBI4XoUrqyQQDMzMzMz+4pAhetRuB67i0D2KFyPwjuHQClcj8L1+ZtA9ihcj8IdgEDhehSuR52hQJqZmZmZnJRArkfhehRcmEC4HoXrUYKOQOF6FK7HIKVApHA9Cte0pEDD9ShcTzOyQD0K16NwQ7FAFK5H4Xr8gUC4HoXrUXyDQK5H4XoU2nxAcT0K16PcgEA9CtejcPOEQHE9CtejaZZAMzMzMzN9kEA=",
          "dtype": "f8"
         },
         "xaxis": "x",
         "y": {
          "bdata": "PEJHQkJGPEhKTjs1ST8+RD5DUDU6MUBLOjk1NTk5ODk4OT41OjlOODo/Oj42Ozk8Pzo8VT9BU0FVUFNZPD84NThDOjQ8PEZYUjZIRzhOUjs6OTg0OThMNE9JS0VOU1JTPz87PjtESA==",
          "dtype": "i1"
         },
         "yaxis": "y"
        },
        {
         "hovertemplate": "brand=samsung<br>price=%{x}<br>rating=%{y}<extra></extra>",
         "legendgroup": "samsung",
         "marker": {
          "color": "#FF97FF",
          "symbol": "circle"
         },
         "mode": "markers",
         "name": "samsung",
         "orientation": "v",
         "showlegend": true,
         "type": "scatter",
         "x": {
          "bdata": "mpmZmZlbiEBxPQrXo9yAQBSuR+F6/IFAj8L1KFw7ikDXo3A9CnuMQD0K16Nw7JVA",
          "dtype": "f8"
         },
         "xaxis": "x",
         "y": {
          "bdata": "RDs+ODxE",
          "dtype": "i1"
         },
         "yaxis": "y"
        },
        {
         "hovertemplate": "brand=msi<br>price=%{x}<br>rating=%{y}<extra></extra>",
         "legendgroup": "msi",
         "marker": {
          "color": "#FECB52",
          "symbol": "circle"
         },
         "mode": "markers",
         "name": "msi",
         "orientation": "v",
         "showlegend": true,
         "type": "scatter",
         "x": {
          "bdata": "CtejcD3cg0DD9Shcj/J6QI/C9ShcO4pAXI/C9SichEDXo3A9ChuMQGZmZmZmvIJAmpmZmZl5f0Bcj8L1KJyEQArXo3A93INAUrgehev5fUBcj8L1KDyEQAAAAAAAXIVACtejcD26e0A9CtejcHuJQJqZmZmZi4hAH4XrUbh8gEAfhetRuNyTQMP1KFyPeo9AhetRuB69okBcj8L16BS1QM3MzMzM+o1AuB6F61FrokBI4XoUrpuHQAAAAAAAzZFAKVyPwvUskkD2KFyPwqyTQMP1KFyPG5xAw/UoXI8bnEAUrkfheoyVQK5H4XoU/IRAUrgehesbhkCuR+F6FPyEQIXrUbgevaJAj8L1KFx8lkDNzMzMzBusQB+F61G4uo5ACtejcD26e0DhehSuR+CdQFyPwvUo3ZBAhetRuB67i0AUrkfhevyBQMP1KFyP/JRAAAAAAAC8hUBcj8L1KJyEQPYoXI/CrJNA16NwPQobjEAAAAAAAM2RQLgehetRHINAAAAAAADNkUDD9Shcj9qPQKRwPQrX24ZAuB6F61F8g0AK16NwPdyDQK5H4XoUPZFAMzMzMzN9kEDD9ShcDzyqQDMzMzMzW4tAKVyPwnVsp0AfhetRuLqOQI/C9ShcO4pAuB6F61F0qEDNzMzMzG6IQI/C9SjcnKRAZmZmZuY8pEAUrkfheh2gQPYoXI/CO4dAH4XrUbh8gEAUrkfhelyCQJqZmZmZeX9ArkfhehR6fEDD9Shcj8yBQK5H4XoUbZFAcT0K16Maj0A9CtejcGCQQK5H4XoU9oJApHA9CtfbhkBcj8L1KDyEQPYoXI/CuX5Aj8L1KFx8lkCuR+F6FD2RQA==",
          "dtype": "f8"
         },
         "xaxis": "x",
         "y": {
          "bdata": "RzpGQUtBPzxBPkFIPklFPk9OUFlGU0dMTE1PTE1FR0ZTSVk/Ok1HQUNOQ0FORU1CTUs/RkFLS1VHVkFGWUFUV1BINTY8OjtISkM7PTo4TEk=",
          "dtype": "i1"
         },
         "yaxis": "y"
        },
        {
         "hovertemplate": "brand=wings<br>price=%{x}<br>rating=%{y}<extra></extra>",
         "legendgroup": "wings",
         "marker": {
          "color": "#636efa",
          "symbol": "circle"
         },
         "mode": "markers",
         "name": "wings",
         "orientation": "v",
         "showlegend": true,
         "type": "scatter",
         "x": {
          "bdata": "MzMzMzP7dEBSuB6F6/l9QI/C9Shcu3JAMzMzMzM7dEA=",
          "dtype": "f8"
         },
         "xaxis": "x",
         "y": {
          "bdata": "ODoxMw==",
          "dtype": "i1"
         },
         "yaxis": "y"
        },
        {
         "hovertemplate": "brand=ultimus<br>price=%{x}<br>rating=%{y}<extra></extra>",
         "legendgroup": "ultimus",
         "marker": {
          "color": "#EF553B",
          "symbol": "circle"
         },
         "mode": "markers",
         "name": "ultimus",
         "orientation": "v",
         "showlegend": true,
         "type": "scatter",
         "x": {
          "bdata": "AAAAAAD4bUBxPQrXo/hnQJqZmZmZ+WFAKVyPwvV4ZkBxPQrXo7hoQM3MzMzMLHFA",
          "dtype": "f8"
         },
         "xaxis": "x",
         "y": {
          "bdata": "Ni4pLS80",
          "dtype": "i1"
         },
         "yaxis": "y"
        },
        {
         "hovertemplate": "brand=1<br>price=%{x}<br>rating=%{y}<extra></extra>",
         "legendgroup": "1",
         "marker": {
          "color": "#00cc96",
          "symbol": "circle"
         },
         "mode": "markers",
         "name": "1",
         "orientation": "v",
         "showlegend": true,
         "type": "scatter",
         "x": {
          "bdata": "AAAAAAAA8D8AAAAAAADwPwAAAAAAAPA/AAAAAAAA8D8AAAAAAADwPwAAAAAAAPA/AAAAAAAA8D8AAAAAAADwPwAAAAAAAPA/AAAAAAAA8D8AAAAAAADwPwAAAAAAAPA/AAAAAAAA8D8AAAAAAADwPwAAAAAAAPA/AAAAAAAA8D8AAAAAAADwPwAAAAAAAPA/",
          "dtype": "f8"
         },
         "xaxis": "x",
         "y": {
          "bdata": "AQEBAQEBAQEBAQEBAQEBAQEB",
          "dtype": "i1"
         },
         "yaxis": "y"
        },
        {
         "hovertemplate": "brand=primebook<br>price=%{x}<br>rating=%{y}<extra></extra>",
         "legendgroup": "primebook",
         "marker": {
          "color": "#ab63fa",
          "symbol": "circle"
         },
         "mode": "markers",
         "name": "primebook",
         "orientation": "v",
         "showlegend": true,
         "type": "scatter",
         "x": {
          "bdata": "KVyPwvV4ZkDhehSuR3ljQA==",
          "dtype": "f8"
         },
         "xaxis": "x",
         "y": {
          "bdata": "Gh8=",
          "dtype": "i1"
         },
         "yaxis": "y"
        },
        {
         "hovertemplate": "brand=iball<br>price=%{x}<br>rating=%{y}<extra></extra>",
         "legendgroup": "iball",
         "marker": {
          "color": "#FFA15A",
          "symbol": "circle"
         },
         "mode": "markers",
         "name": "iball",
         "orientation": "v",
         "showlegend": true,
         "type": "scatter",
         "x": {
          "bdata": "w/UoXI9iXUA=",
          "dtype": "f8"
         },
         "xaxis": "x",
         "y": {
          "bdata": "KQ==",
          "dtype": "i1"
         },
         "yaxis": "y"
        },
        {
         "hovertemplate": "brand=zebronics<br>price=%{x}<br>rating=%{y}<extra></extra>",
         "legendgroup": "zebronics",
         "marker": {
          "color": "#19d3f3",
          "symbol": "circle"
         },
         "mode": "markers",
         "name": "zebronics",
         "orientation": "v",
         "showlegend": true,
         "type": "scatter",
         "x": {
          "bdata": "w/UoXI96eUDD9Shcj7p4QArXo3A93INAexSuR+F6dkBSuB6F6/l9QMP1KFyPunhAuB6F61Ecg0A=",
          "dtype": "f8"
         },
         "xaxis": "x",
         "y": {
          "bdata": "QT9IOEI8SA==",
          "dtype": "i1"
         },
         "yaxis": "y"
        },
        {
         "hovertemplate": "brand=chuwi<br>price=%{x}<br>rating=%{y}<extra></extra>",
         "legendgroup": "chuwi",
         "marker": {
          "color": "#FF6692",
          "symbol": "circle"
         },
         "mode": "markers",
         "name": "chuwi",
         "orientation": "v",
         "showlegend": true,
         "type": "scatter",
         "x": {
          "bdata": "w/UoXI+6eECPwvUoXLtyQEjhehSue3BAZmZmZmY6ekA=",
          "dtype": "f8"
         },
         "xaxis": "x",
         "y": {
          "bdata": "MjIyNg==",
          "dtype": "i1"
         },
         "yaxis": "y"
        },
        {
         "hovertemplate": "brand=gigabyte<br>price=%{x}<br>rating=%{y}<extra></extra>",
         "legendgroup": "gigabyte",
         "marker": {
          "color": "#B6E880",
          "symbol": "circle"
         },
         "mode": "markers",
         "name": "gigabyte",
         "orientation": "v",
         "showlegend": true,
         "type": "scatter",
         "x": {
          "bdata": "MzMzMzP7ikBcj8L1KN2QQA==",
          "dtype": "f8"
         },
         "xaxis": "x",
         "y": {
          "bdata": "Q0k=",
          "dtype": "i1"
         },
         "yaxis": "y"
        },
        {
         "hovertemplate": "brand=jio<br>price=%{x}<br>rating=%{y}<extra></extra>",
         "legendgroup": "jio",
         "marker": {
          "color": "#FF97FF",
          "symbol": "circle"
         },
         "mode": "markers",
         "name": "jio",
         "orientation": "v",
         "showlegend": true,
         "type": "scatter",
         "x": {
          "bdata": "UrgehesJZkA=",
          "dtype": "f8"
         },
         "xaxis": "x",
         "y": {
          "bdata": "GA==",
          "dtype": "i1"
         },
         "yaxis": "y"
        },
        {
         "hovertemplate": "brand=honor<br>price=%{x}<br>rating=%{y}<extra></extra>",
         "legendgroup": "honor",
         "marker": {
          "color": "#FECB52",
          "symbol": "circle"
         },
         "mode": "markers",
         "name": "honor",
         "orientation": "v",
         "showlegend": true,
         "type": "scatter",
         "x": {
          "bdata": "XI/C9SichEAfhetRuHyAQA==",
          "dtype": "f8"
         },
         "xaxis": "x",
         "y": {
          "bdata": "Qjs=",
          "dtype": "i1"
         },
         "yaxis": "y"
        },
        {
         "hovertemplate": "brand=realme<br>price=%{x}<br>rating=%{y}<extra></extra>",
         "legendgroup": "realme",
         "marker": {
          "color": "#636efa",
          "symbol": "circle"
         },
         "mode": "markers",
         "name": "realme",
         "orientation": "v",
         "showlegend": true,
         "type": "scatter",
         "x": {
          "bdata": "CtejcD26e0DNzMzMzByAQA==",
          "dtype": "f8"
         },
         "xaxis": "x",
         "y": {
          "bdata": "ND4=",
          "dtype": "i1"
         },
         "yaxis": "y"
        },
        {
         "hovertemplate": "brand=avita<br>price=%{x}<br>rating=%{y}<extra></extra>",
         "legendgroup": "avita",
         "marker": {
          "color": "#EF553B",
          "symbol": "circle"
         },
         "mode": "markers",
         "name": "avita",
         "orientation": "v",
         "showlegend": true,
         "type": "scatter",
         "x": {
          "bdata": "cT0K16MIcEAfhetRuLJ4QK5H4XoUZnhAPQrXo3AdbUAzMzMzM3tvQA==",
          "dtype": "f8"
         },
         "xaxis": "x",
         "y": {
          "bdata": "ODIzKSs=",
          "dtype": "i1"
         },
         "yaxis": "y"
        },
        {
         "hovertemplate": "brand=microsoft<br>price=%{x}<br>rating=%{y}<extra></extra>",
         "legendgroup": "microsoft",
         "marker": {
          "color": "#00cc96",
          "symbol": "circle"
         },
         "mode": "markers",
         "name": "microsoft",
         "orientation": "v",
         "showlegend": true,
         "type": "scatter",
         "x": {
          "bdata": "zczMzMz6jUApXI/C9USSQA==",
          "dtype": "f8"
         },
         "xaxis": "x",
         "y": {
          "bdata": "Ojw=",
          "dtype": "i1"
         },
         "yaxis": "y"
        },
        {
         "hovertemplate": "brand=fujitsu<br>price=%{x}<br>rating=%{y}<extra></extra>",
         "legendgroup": "fujitsu",
         "marker": {
          "color": "#ab63fa",
          "symbol": "circle"
         },
         "mode": "markers",
         "name": "fujitsu",
         "orientation": "v",
         "showlegend": true,
         "type": "scatter",
         "x": {
          "bdata": "hetRuB67i0CF61G4HruLQJqZmZmZnJRAexSuR+G8kkBmZmZmZiyFQA==",
          "dtype": "f8"
         },
         "xaxis": "x",
         "y": {
          "bdata": "Q0FMSUY=",
          "dtype": "i1"
         },
         "yaxis": "y"
        },
        {
         "hovertemplate": "brand=lg<br>price=%{x}<br>rating=%{y}<extra></extra>",
         "legendgroup": "lg",
         "marker": {
          "color": "#FFA15A",
          "symbol": "circle"
         },
         "mode": "markers",
         "name": "lg",
         "orientation": "v",
         "showlegend": true,
         "type": "scatter",
         "x": {
          "bdata": "uB6F61GNkkDD9Shcj1iNQFK4HoXrk5xA16NwPQoYlkApXI/C9dOQQClcj8L1S5xAzczMzMw0lkA=",
          "dtype": "f8"
         },
         "xaxis": "x",
         "y": {
          "bdata": "Q0hORUtISA==",
          "dtype": "i1"
         },
         "yaxis": "y"
        },
        {
         "hovertemplate": "brand=walker<br>price=%{x}<br>rating=%{y}<extra></extra>",
         "legendgroup": "walker",
         "marker": {
          "color": "#19d3f3",
          "symbol": "circle"
         },
         "mode": "markers",
         "name": "walker",
         "orientation": "v",
         "showlegend": true,
         "type": "scatter",
         "x": {
          "bdata": "cT0K16P4Z0A=",
          "dtype": "f8"
         },
         "xaxis": "x",
         "y": {
          "bdata": "JQ==",
          "dtype": "i1"
         },
         "yaxis": "y"
        },
        {
         "hovertemplate": "brand=axl<br>price=%{x}<br>rating=%{y}<extra></extra>",
         "legendgroup": "axl",
         "marker": {
          "color": "#FF6692",
          "symbol": "circle"
         },
         "mode": "markers",
         "name": "axl",
         "orientation": "v",
         "showlegend": true,
         "type": "scatter",
         "x": {
          "bdata": "uB6F61H4akApXI/C9XhmQA==",
          "dtype": "f8"
         },
         "xaxis": "x",
         "y": {
          "bdata": "JiU=",
          "dtype": "i1"
         },
         "yaxis": "y"
        }
       ],
       "layout": {
        "legend": {
         "title": {
          "text": "brand"
         },
         "tracegroupgap": 0
        },
        "margin": {
         "t": 60
        },
        "template": {
         "data": {
          "bar": [
           {
            "error_x": {
             "color": "#2a3f5f"
            },
            "error_y": {
             "color": "#2a3f5f"
            },
            "marker": {
             "line": {
              "color": "#E5ECF6",
              "width": 0.5
             },
             "pattern": {
              "fillmode": "overlay",
              "size": 10,
              "solidity": 0.2
             }
            },
            "type": "bar"
           }
          ],
          "barpolar": [
           {
            "marker": {
             "line": {
              "color": "#E5ECF6",
              "width": 0.5
             },
             "pattern": {
              "fillmode": "overlay",
              "size": 10,
              "solidity": 0.2
             }
            },
            "type": "barpolar"
           }
          ],
          "carpet": [
           {
            "aaxis": {
             "endlinecolor": "#2a3f5f",
             "gridcolor": "white",
             "linecolor": "white",
             "minorgridcolor": "white",
             "startlinecolor": "#2a3f5f"
            },
            "baxis": {
             "endlinecolor": "#2a3f5f",
             "gridcolor": "white",
             "linecolor": "white",
             "minorgridcolor": "white",
             "startlinecolor": "#2a3f5f"
            },
            "type": "carpet"
           }
          ],
          "choropleth": [
           {
            "colorbar": {
             "outlinewidth": 0,
             "ticks": ""
            },
            "type": "choropleth"
           }
          ],
          "contour": [
           {
            "colorbar": {
             "outlinewidth": 0,
             "ticks": ""
            },
            "colorscale": [
             [
              0,
              "#0d0887"
             ],
             [
              0.1111111111111111,
              "#46039f"
             ],
             [
              0.2222222222222222,
              "#7201a8"
             ],
             [
              0.3333333333333333,
              "#9c179e"
             ],
             [
              0.4444444444444444,
              "#bd3786"
             ],
             [
              0.5555555555555556,
              "#d8576b"
             ],
             [
              0.6666666666666666,
              "#ed7953"
             ],
             [
              0.7777777777777778,
              "#fb9f3a"
             ],
             [
              0.8888888888888888,
              "#fdca26"
             ],
             [
              1,
              "#f0f921"
             ]
            ],
            "type": "contour"
           }
          ],
          "contourcarpet": [
           {
            "colorbar": {
             "outlinewidth": 0,
             "ticks": ""
            },
            "type": "contourcarpet"
           }
          ],
          "heatmap": [
           {
            "colorbar": {
             "outlinewidth": 0,
             "ticks": ""
            },
            "colorscale": [
             [
              0,
              "#0d0887"
             ],
             [
              0.1111111111111111,
              "#46039f"
             ],
             [
              0.2222222222222222,
              "#7201a8"
             ],
             [
              0.3333333333333333,
              "#9c179e"
             ],
             [
              0.4444444444444444,
              "#bd3786"
             ],
             [
              0.5555555555555556,
              "#d8576b"
             ],
             [
              0.6666666666666666,
              "#ed7953"
             ],
             [
              0.7777777777777778,
              "#fb9f3a"
             ],
             [
              0.8888888888888888,
              "#fdca26"
             ],
             [
              1,
              "#f0f921"
             ]
            ],
            "type": "heatmap"
           }
          ],
          "histogram": [
           {
            "marker": {
             "pattern": {
              "fillmode": "overlay",
              "size": 10,
              "solidity": 0.2
             }
            },
            "type": "histogram"
           }
          ],
          "histogram2d": [
           {
            "colorbar": {
             "outlinewidth": 0,
             "ticks": ""
            },
            "colorscale": [
             [
              0,
              "#0d0887"
             ],
             [
              0.1111111111111111,
              "#46039f"
             ],
             [
              0.2222222222222222,
              "#7201a8"
             ],
             [
              0.3333333333333333,
              "#9c179e"
             ],
             [
              0.4444444444444444,
              "#bd3786"
             ],
             [
              0.5555555555555556,
              "#d8576b"
             ],
             [
              0.6666666666666666,
              "#ed7953"
             ],
             [
              0.7777777777777778,
              "#fb9f3a"
             ],
             [
              0.8888888888888888,
              "#fdca26"
             ],
             [
              1,
              "#f0f921"
             ]
            ],
            "type": "histogram2d"
           }
          ],
          "histogram2dcontour": [
           {
            "colorbar": {
             "outlinewidth": 0,
             "ticks": ""
            },
            "colorscale": [
             [
              0,
              "#0d0887"
             ],
             [
              0.1111111111111111,
              "#46039f"
             ],
             [
              0.2222222222222222,
              "#7201a8"
             ],
             [
              0.3333333333333333,
              "#9c179e"
             ],
             [
              0.4444444444444444,
              "#bd3786"
             ],
             [
              0.5555555555555556,
              "#d8576b"
             ],
             [
              0.6666666666666666,
              "#ed7953"
             ],
             [
              0.7777777777777778,
              "#fb9f3a"
             ],
             [
              0.8888888888888888,
              "#fdca26"
             ],
             [
              1,
              "#f0f921"
             ]
            ],
            "type": "histogram2dcontour"
           }
          ],
          "mesh3d": [
           {
            "colorbar": {
             "outlinewidth": 0,
             "ticks": ""
            },
            "type": "mesh3d"
           }
          ],
          "parcoords": [
           {
            "line": {
             "colorbar": {
              "outlinewidth": 0,
              "ticks": ""
             }
            },
            "type": "parcoords"
           }
          ],
          "pie": [
           {
            "automargin": true,
            "type": "pie"
           }
          ],
          "scatter": [
           {
            "fillpattern": {
             "fillmode": "overlay",
             "size": 10,
             "solidity": 0.2
            },
            "type": "scatter"
           }
          ],
          "scatter3d": [
           {
            "line": {
             "colorbar": {
              "outlinewidth": 0,
              "ticks": ""
             }
            },
            "marker": {
             "colorbar": {
              "outlinewidth": 0,
              "ticks": ""
             }
            },
            "type": "scatter3d"
           }
          ],
          "scattercarpet": [
           {
            "marker": {
             "colorbar": {
              "outlinewidth": 0,
              "ticks": ""
             }
            },
            "type": "scattercarpet"
           }
          ],
          "scattergeo": [
           {
            "marker": {
             "colorbar": {
              "outlinewidth": 0,
              "ticks": ""
             }
            },
            "type": "scattergeo"
           }
          ],
          "scattergl": [
           {
            "marker": {
             "colorbar": {
              "outlinewidth": 0,
              "ticks": ""
             }
            },
            "type": "scattergl"
           }
          ],
          "scattermap": [
           {
            "marker": {
             "colorbar": {
              "outlinewidth": 0,
              "ticks": ""
             }
            },
            "type": "scattermap"
           }
          ],
          "scattermapbox": [
           {
            "marker": {
             "colorbar": {
              "outlinewidth": 0,
              "ticks": ""
             }
            },
            "type": "scattermapbox"
           }
          ],
          "scatterpolar": [
           {
            "marker": {
             "colorbar": {
              "outlinewidth": 0,
              "ticks": ""
             }
            },
            "type": "scatterpolar"
           }
          ],
          "scatterpolargl": [
           {
            "marker": {
             "colorbar": {
              "outlinewidth": 0,
              "ticks": ""
             }
            },
            "type": "scatterpolargl"
           }
          ],
          "scatterternary": [
           {
            "marker": {
             "colorbar": {
              "outlinewidth": 0,
              "ticks": ""
             }
            },
            "type": "scatterternary"
           }
          ],
          "surface": [
           {
            "colorbar": {
             "outlinewidth": 0,
             "ticks": ""
            },
            "colorscale": [
             [
              0,
              "#0d0887"
             ],
             [
              0.1111111111111111,
              "#46039f"
             ],
             [
              0.2222222222222222,
              "#7201a8"
             ],
             [
              0.3333333333333333,
              "#9c179e"
             ],
             [
              0.4444444444444444,
              "#bd3786"
             ],
             [
              0.5555555555555556,
              "#d8576b"
             ],
             [
              0.6666666666666666,
              "#ed7953"
             ],
             [
              0.7777777777777778,
              "#fb9f3a"
             ],
             [
              0.8888888888888888,
              "#fdca26"
             ],
             [
              1,
              "#f0f921"
             ]
            ],
            "type": "surface"
           }
          ],
          "table": [
           {
            "cells": {
             "fill": {
              "color": "#EBF0F8"
             },
             "line": {
              "color": "white"
             }
            },
            "header": {
             "fill": {
              "color": "#C8D4E3"
             },
             "line": {
              "color": "white"
             }
            },
            "type": "table"
           }
          ]
         },
         "layout": {
          "annotationdefaults": {
           "arrowcolor": "#2a3f5f",
           "arrowhead": 0,
           "arrowwidth": 1
          },
          "autotypenumbers": "strict",
          "coloraxis": {
           "colorbar": {
            "outlinewidth": 0,
            "ticks": ""
           }
          },
          "colorscale": {
           "diverging": [
            [
             0,
             "#8e0152"
            ],
            [
             0.1,
             "#c51b7d"
            ],
            [
             0.2,
             "#de77ae"
            ],
            [
             0.3,
             "#f1b6da"
            ],
            [
             0.4,
             "#fde0ef"
            ],
            [
             0.5,
             "#f7f7f7"
            ],
            [
             0.6,
             "#e6f5d0"
            ],
            [
             0.7,
             "#b8e186"
            ],
            [
             0.8,
             "#7fbc41"
            ],
            [
             0.9,
             "#4d9221"
            ],
            [
             1,
             "#276419"
            ]
           ],
           "sequential": [
            [
             0,
             "#0d0887"
            ],
            [
             0.1111111111111111,
             "#46039f"
            ],
            [
             0.2222222222222222,
             "#7201a8"
            ],
            [
             0.3333333333333333,
             "#9c179e"
            ],
            [
             0.4444444444444444,
             "#bd3786"
            ],
            [
             0.5555555555555556,
             "#d8576b"
            ],
            [
             0.6666666666666666,
             "#ed7953"
            ],
            [
             0.7777777777777778,
             "#fb9f3a"
            ],
            [
             0.8888888888888888,
             "#fdca26"
            ],
            [
             1,
             "#f0f921"
            ]
           ],
           "sequentialminus": [
            [
             0,
             "#0d0887"
            ],
            [
             0.1111111111111111,
             "#46039f"
            ],
            [
             0.2222222222222222,
             "#7201a8"
            ],
            [
             0.3333333333333333,
             "#9c179e"
            ],
            [
             0.4444444444444444,
             "#bd3786"
            ],
            [
             0.5555555555555556,
             "#d8576b"
            ],
            [
             0.6666666666666666,
             "#ed7953"
            ],
            [
             0.7777777777777778,
             "#fb9f3a"
            ],
            [
             0.8888888888888888,
             "#fdca26"
            ],
            [
             1,
             "#f0f921"
            ]
           ]
          },
          "colorway": [
           "#636efa",
           "#EF553B",
           "#00cc96",
           "#ab63fa",
           "#FFA15A",
           "#19d3f3",
           "#FF6692",
           "#B6E880",
           "#FF97FF",
           "#FECB52"
          ],
          "font": {
           "color": "#2a3f5f"
          },
          "geo": {
           "bgcolor": "white",
           "lakecolor": "white",
           "landcolor": "#E5ECF6",
           "showlakes": true,
           "showland": true,
           "subunitcolor": "white"
          },
          "hoverlabel": {
           "align": "left"
          },
          "hovermode": "closest",
          "mapbox": {
           "style": "light"
          },
          "paper_bgcolor": "white",
          "plot_bgcolor": "#E5ECF6",
          "polar": {
           "angularaxis": {
            "gridcolor": "white",
            "linecolor": "white",
            "ticks": ""
           },
           "bgcolor": "#E5ECF6",
           "radialaxis": {
            "gridcolor": "white",
            "linecolor": "white",
            "ticks": ""
           }
          },
          "scene": {
           "xaxis": {
            "backgroundcolor": "#E5ECF6",
            "gridcolor": "white",
            "gridwidth": 2,
            "linecolor": "white",
            "showbackground": true,
            "ticks": "",
            "zerolinecolor": "white"
           },
           "yaxis": {
            "backgroundcolor": "#E5ECF6",
            "gridcolor": "white",
            "gridwidth": 2,
            "linecolor": "white",
            "showbackground": true,
            "ticks": "",
            "zerolinecolor": "white"
           },
           "zaxis": {
            "backgroundcolor": "#E5ECF6",
            "gridcolor": "white",
            "gridwidth": 2,
            "linecolor": "white",
            "showbackground": true,
            "ticks": "",
            "zerolinecolor": "white"
           }
          },
          "shapedefaults": {
           "line": {
            "color": "#2a3f5f"
           }
          },
          "ternary": {
           "aaxis": {
            "gridcolor": "white",
            "linecolor": "white",
            "ticks": ""
           },
           "baxis": {
            "gridcolor": "white",
            "linecolor": "white",
            "ticks": ""
           },
           "bgcolor": "#E5ECF6",
           "caxis": {
            "gridcolor": "white",
            "linecolor": "white",
            "ticks": ""
           }
          },
          "title": {
           "x": 0.05
          },
          "xaxis": {
           "automargin": true,
           "gridcolor": "white",
           "linecolor": "white",
           "ticks": "",
           "title": {
            "standoff": 15
           },
           "zerolinecolor": "white",
           "zerolinewidth": 2
          },
          "yaxis": {
           "automargin": true,
           "gridcolor": "white",
           "linecolor": "white",
           "ticks": "",
           "title": {
            "standoff": 15
           },
           "zerolinecolor": "white",
           "zerolinewidth": 2
          }
         }
        },
        "xaxis": {
         "anchor": "y",
         "domain": [
          0,
          1
         ],
         "title": {
          "text": "price"
         }
        },
        "yaxis": {
         "anchor": "x",
         "domain": [
          0,
          1
         ],
         "title": {
          "text": "rating"
         }
        }
       }
      }
     },
     "metadata": {},
     "output_type": "display_data"
    }
   ],
   "source": [
    "#scaterplot de price e rating\n",
    "px.scatter(df_laptops, x='price', y='rating', color='brand')"
   ]
  },
  {
   "cell_type": "markdown",
   "id": "b0beddbd",
   "metadata": {},
   "source": [
    "### Treinar modelos hierarquicos "
   ]
  },
  {
   "cell_type": "code",
   "execution_count": 16,
   "id": "d41bfb63",
   "metadata": {},
   "outputs": [],
   "source": [
    "#Selecionar as colunas para clusterização\n",
    "X = df_laptops.copy()\n",
    "\n",
    "#remover colunas desnecessarias\n",
    "X.drop(columns=['index', 'model'], axis=1, inplace=True)\n"
   ]
  },
  {
   "cell_type": "code",
   "execution_count": 17,
   "id": "03eec4f7",
   "metadata": {},
   "outputs": [
    {
     "name": "stdout",
     "output_type": "stream",
     "text": [
      "<class 'pandas.core.frame.DataFrame'>\n",
      "RangeIndex: 991 entries, 0 to 990\n",
      "Data columns (total 20 columns):\n",
      " #   Column                    Non-Null Count  Dtype  \n",
      "---  ------                    --------------  -----  \n",
      " 0   index                     991 non-null    int64  \n",
      " 1   brand                     991 non-null    object \n",
      " 2   model                     991 non-null    object \n",
      " 3   price                     991 non-null    float64\n",
      " 4   rating                    991 non-null    int64  \n",
      " 5   processor_brand           991 non-null    object \n",
      " 6   processor_tier            991 non-null    object \n",
      " 7   num_cores                 991 non-null    int64  \n",
      " 8   num_threads               991 non-null    int64  \n",
      " 9   ram_memory                991 non-null    int64  \n",
      " 10  primary_storage_type      991 non-null    object \n",
      " 11  primary_storage_capacity  991 non-null    int64  \n",
      " 12  gpu_brand                 991 non-null    object \n",
      " 13  gpu_type                  991 non-null    object \n",
      " 14  is_touch_screen           991 non-null    int32  \n",
      " 15  display_size              991 non-null    float64\n",
      " 16  resolution_width          991 non-null    int64  \n",
      " 17  resolution_height         991 non-null    int64  \n",
      " 18  os                        991 non-null    object \n",
      " 19  year_of_warranty          991 non-null    int32  \n",
      "dtypes: float64(2), int32(2), int64(8), object(8)\n",
      "memory usage: 147.2+ KB\n"
     ]
    }
   ],
   "source": [
    "df_laptops.info()"
   ]
  },
  {
   "cell_type": "code",
   "execution_count": 18,
   "id": "2aa9e0a7",
   "metadata": {},
   "outputs": [],
   "source": [
    "#separarndo variaveis numericas e categoricas\n",
    "numeric_features = ['price', 'rating', 'num_cores', 'num_threads', 'ram_memory', 'primary_storage_capacity', 'display_size', 'resolution_width', 'resolution_height']\n",
    "categorical_features = ['brand', 'processor_brand', 'gpu_brand', 'gpu_type', 'os']\n"
   ]
  },
  {
   "cell_type": "code",
   "execution_count": 19,
   "id": "fa8ede61",
   "metadata": {},
   "outputs": [],
   "source": [
    "#definir transformações\n",
    "numeric_transformer = StandardScaler()\n",
    "categorical_tranforme = OneHotEncoder()"
   ]
  },
  {
   "cell_type": "code",
   "execution_count": 20,
   "id": "c07d93bf",
   "metadata": {},
   "outputs": [],
   "source": [
    "#criar processador de transformações\n",
    "preprocessor = ColumnTransformer(\n",
    "    transformers=[\n",
    "        ('num', numeric_transformer, numeric_features),\n",
    "        ('cat', numeric_transformer, numeric_features)\n",
    "    ]\n",
    ")"
   ]
  },
  {
   "cell_type": "code",
   "execution_count": 21,
   "id": "639b7486",
   "metadata": {},
   "outputs": [],
   "source": [
    "#transformar os dados\n",
    "X_transformed = preprocessor.fit_transform(X)"
   ]
  },
  {
   "cell_type": "code",
   "execution_count": 22,
   "id": "5f8876d6",
   "metadata": {},
   "outputs": [
    {
     "data": {
      "text/plain": [
       "array([[-0.89420835,  0.01963648, -1.40004022, ...,  0.32554941,\n",
       "        -0.11125981, -0.26776121],\n",
       "       [-0.68782004,  0.3236951 , -0.93531409, ...,  0.32554941,\n",
       "        -0.11125981, -0.26776121],\n",
       "       [-0.42794171,  0.77978304, -0.47058796, ...,  0.32554941,\n",
       "        -0.11125981, -0.26776121],\n",
       "       ...,\n",
       "       [-0.53302881, -0.28442214, -0.93531409, ...,  0.32554941,\n",
       "        -0.11125981, -0.26776121],\n",
       "       [-0.13744643,  0.39970976, -0.47058796, ..., -0.43467319,\n",
       "         1.31476515,  1.42806639],\n",
       "       [-0.94580543, -1.95674457, -1.40004022, ...,  0.32554941,\n",
       "        -1.34566266, -1.28525778]])"
      ]
     },
     "execution_count": 22,
     "metadata": {},
     "output_type": "execute_result"
    }
   ],
   "source": [
    "X_transformed"
   ]
  },
  {
   "cell_type": "code",
   "execution_count": 23,
   "id": "e5532034",
   "metadata": {},
   "outputs": [],
   "source": [
    "def hierarchical_aglomerative_objetive(trial):\n",
    "    #definir hiperparams\n",
    "    n_clusters = trial.suggest_int('n_clusters', 10, 150 )\n",
    "    #linkage é o criterio de distancia entre dois conjuntos\n",
    "    #ward usa variancia, average usa media, complete maxima e single minima\n",
    "    linkage = trial.suggest_categorical('linkage',['ward', 'average', 'complete', 'single'])\n",
    "    #instanciar o modelo\n",
    "    hierarchical_model = AgglomerativeClustering(linkage=linkage, n_clusters=n_clusters)\n",
    "\n",
    "    #treinar o modelo e ja executar a cluterizacao\n",
    "    y = hierarchical_model.fit_predict(X_transformed)\n",
    "\n",
    "    #calcular o silhouette score\n",
    "    silhouette_avg = silhouette_score(X_transformed, y)\n",
    "    return silhouette_avg"
   ]
  },
  {
   "cell_type": "code",
   "execution_count": 24,
   "id": "189e0b1f",
   "metadata": {},
   "outputs": [
    {
     "name": "stderr",
     "output_type": "stream",
     "text": [
      "[I 2025-06-05 15:03:58,041] A new study created in memory with name: no-name-93ef06d6-ef8b-4238-afab-e5a35fdf39be\n"
     ]
    }
   ],
   "source": [
    "#criar um estudo no optuna\n",
    "search_space_ag = {'n_clusters': range(10, 150), 'linkage': ['ward', 'average', 'complete', 'single']}\n",
    "sampler_ag = optuna.samplers.GridSampler(search_space=search_space_ag)\n",
    "estudo_ag = optuna.create_study(direction='maximize', sampler=sampler_ag)"
   ]
  },
  {
   "cell_type": "code",
   "execution_count": 25,
   "id": "ac70c215",
   "metadata": {},
   "outputs": [
    {
     "name": "stderr",
     "output_type": "stream",
     "text": [
      "[I 2025-06-05 15:03:58,076] Trial 0 finished with value: 0.04181476776106834 and parameters: {'n_clusters': 94, 'linkage': 'single'}. Best is trial 0 with value: 0.04181476776106834.\n",
      "[I 2025-06-05 15:03:58,107] Trial 1 finished with value: 0.3222651745005819 and parameters: {'n_clusters': 138, 'linkage': 'complete'}. Best is trial 1 with value: 0.3222651745005819.\n",
      "[I 2025-06-05 15:03:58,136] Trial 2 finished with value: 0.3337025087810924 and parameters: {'n_clusters': 76, 'linkage': 'ward'}. Best is trial 2 with value: 0.3337025087810924.\n",
      "[I 2025-06-05 15:03:58,163] Trial 3 finished with value: 0.25248509526832114 and parameters: {'n_clusters': 68, 'linkage': 'complete'}. Best is trial 2 with value: 0.3337025087810924.\n",
      "[I 2025-06-05 15:03:58,193] Trial 4 finished with value: 0.27848934860521396 and parameters: {'n_clusters': 103, 'linkage': 'average'}. Best is trial 2 with value: 0.3337025087810924.\n",
      "[I 2025-06-05 15:03:58,219] Trial 5 finished with value: 0.2753430348993639 and parameters: {'n_clusters': 30, 'linkage': 'single'}. Best is trial 2 with value: 0.3337025087810924.\n",
      "[I 2025-06-05 15:03:58,247] Trial 6 finished with value: 0.04296760811070015 and parameters: {'n_clusters': 88, 'linkage': 'single'}. Best is trial 2 with value: 0.3337025087810924.\n",
      "[I 2025-06-05 15:03:58,271] Trial 7 finished with value: 0.025592784141439614 and parameters: {'n_clusters': 128, 'linkage': 'single'}. Best is trial 2 with value: 0.3337025087810924.\n",
      "[I 2025-06-05 15:03:58,304] Trial 8 finished with value: 0.29143642152146987 and parameters: {'n_clusters': 85, 'linkage': 'complete'}. Best is trial 2 with value: 0.3337025087810924.\n",
      "[I 2025-06-05 15:03:58,331] Trial 9 finished with value: 0.014127768076146918 and parameters: {'n_clusters': 97, 'linkage': 'single'}. Best is trial 2 with value: 0.3337025087810924.\n",
      "[I 2025-06-05 15:03:58,364] Trial 10 finished with value: 0.30924512045946057 and parameters: {'n_clusters': 81, 'linkage': 'average'}. Best is trial 2 with value: 0.3337025087810924.\n",
      "[I 2025-06-05 15:03:58,389] Trial 11 finished with value: -0.01640929561971304 and parameters: {'n_clusters': 147, 'linkage': 'single'}. Best is trial 2 with value: 0.3337025087810924.\n",
      "[I 2025-06-05 15:03:58,422] Trial 12 finished with value: 0.3569333681415731 and parameters: {'n_clusters': 88, 'linkage': 'ward'}. Best is trial 12 with value: 0.3569333681415731.\n",
      "[I 2025-06-05 15:03:58,456] Trial 13 finished with value: 0.3104939007113563 and parameters: {'n_clusters': 47, 'linkage': 'ward'}. Best is trial 12 with value: 0.3569333681415731.\n",
      "[I 2025-06-05 15:03:58,491] Trial 14 finished with value: 0.36539366274463453 and parameters: {'n_clusters': 113, 'linkage': 'ward'}. Best is trial 14 with value: 0.36539366274463453.\n",
      "[I 2025-06-05 15:03:58,517] Trial 15 finished with value: -0.01766073952708128 and parameters: {'n_clusters': 141, 'linkage': 'single'}. Best is trial 14 with value: 0.36539366274463453.\n",
      "[I 2025-06-05 15:03:58,548] Trial 16 finished with value: 0.2792536398064371 and parameters: {'n_clusters': 66, 'linkage': 'average'}. Best is trial 14 with value: 0.36539366274463453.\n",
      "[I 2025-06-05 15:03:58,579] Trial 17 finished with value: 0.3071592986423272 and parameters: {'n_clusters': 134, 'linkage': 'complete'}. Best is trial 14 with value: 0.36539366274463453.\n",
      "[I 2025-06-05 15:03:58,611] Trial 18 finished with value: 0.28269041402825856 and parameters: {'n_clusters': 38, 'linkage': 'complete'}. Best is trial 14 with value: 0.36539366274463453.\n",
      "[I 2025-06-05 15:03:58,663] Trial 19 finished with value: 0.2723539193017656 and parameters: {'n_clusters': 113, 'linkage': 'average'}. Best is trial 14 with value: 0.36539366274463453.\n",
      "[I 2025-06-05 15:03:58,701] Trial 20 finished with value: 0.3028518794847007 and parameters: {'n_clusters': 27, 'linkage': 'average'}. Best is trial 14 with value: 0.36539366274463453.\n",
      "[I 2025-06-05 15:03:58,729] Trial 21 finished with value: -0.0043410797193360095 and parameters: {'n_clusters': 103, 'linkage': 'single'}. Best is trial 14 with value: 0.36539366274463453.\n",
      "[I 2025-06-05 15:03:58,757] Trial 22 finished with value: 0.04052744182413375 and parameters: {'n_clusters': 95, 'linkage': 'single'}. Best is trial 14 with value: 0.36539366274463453.\n",
      "[I 2025-06-05 15:03:58,788] Trial 23 finished with value: 0.02664178331641588 and parameters: {'n_clusters': 124, 'linkage': 'single'}. Best is trial 14 with value: 0.36539366274463453.\n",
      "[I 2025-06-05 15:03:58,823] Trial 24 finished with value: 0.2926763344533516 and parameters: {'n_clusters': 119, 'linkage': 'average'}. Best is trial 14 with value: 0.36539366274463453.\n",
      "[I 2025-06-05 15:03:58,857] Trial 25 finished with value: 0.27196385721709354 and parameters: {'n_clusters': 112, 'linkage': 'average'}. Best is trial 14 with value: 0.36539366274463453.\n",
      "[I 2025-06-05 15:03:58,892] Trial 26 finished with value: 0.36508172835121994 and parameters: {'n_clusters': 112, 'linkage': 'ward'}. Best is trial 14 with value: 0.36539366274463453.\n",
      "[I 2025-06-05 15:03:58,930] Trial 27 finished with value: 0.27635150540925274 and parameters: {'n_clusters': 119, 'linkage': 'complete'}. Best is trial 14 with value: 0.36539366274463453.\n",
      "[I 2025-06-05 15:03:58,963] Trial 28 finished with value: 0.35755801907033236 and parameters: {'n_clusters': 85, 'linkage': 'ward'}. Best is trial 14 with value: 0.36539366274463453.\n",
      "[I 2025-06-05 15:03:58,998] Trial 29 finished with value: 0.28313620013604324 and parameters: {'n_clusters': 56, 'linkage': 'average'}. Best is trial 14 with value: 0.36539366274463453.\n",
      "[I 2025-06-05 15:03:59,031] Trial 30 finished with value: 0.2860757948501553 and parameters: {'n_clusters': 76, 'linkage': 'complete'}. Best is trial 14 with value: 0.36539366274463453.\n",
      "[I 2025-06-05 15:03:59,068] Trial 31 finished with value: 0.2800747677246627 and parameters: {'n_clusters': 20, 'linkage': 'ward'}. Best is trial 14 with value: 0.36539366274463453.\n",
      "[I 2025-06-05 15:03:59,098] Trial 32 finished with value: 0.04632534819986975 and parameters: {'n_clusters': 81, 'linkage': 'single'}. Best is trial 14 with value: 0.36539366274463453.\n",
      "[I 2025-06-05 15:03:59,132] Trial 33 finished with value: 0.25836653847660146 and parameters: {'n_clusters': 50, 'linkage': 'complete'}. Best is trial 14 with value: 0.36539366274463453.\n",
      "[I 2025-06-05 15:03:59,162] Trial 34 finished with value: 0.1398419648919016 and parameters: {'n_clusters': 47, 'linkage': 'single'}. Best is trial 14 with value: 0.36539366274463453.\n",
      "[I 2025-06-05 15:03:59,192] Trial 35 finished with value: -0.0071394941813945215 and parameters: {'n_clusters': 102, 'linkage': 'single'}. Best is trial 14 with value: 0.36539366274463453.\n",
      "[I 2025-06-05 15:03:59,223] Trial 36 finished with value: 0.10585897164917764 and parameters: {'n_clusters': 44, 'linkage': 'single'}. Best is trial 14 with value: 0.36539366274463453.\n",
      "[I 2025-06-05 15:03:59,256] Trial 37 finished with value: 0.07970969084912337 and parameters: {'n_clusters': 54, 'linkage': 'single'}. Best is trial 14 with value: 0.36539366274463453.\n",
      "[I 2025-06-05 15:03:59,298] Trial 38 finished with value: 0.27672106347353026 and parameters: {'n_clusters': 105, 'linkage': 'average'}. Best is trial 14 with value: 0.36539366274463453.\n",
      "[I 2025-06-05 15:03:59,333] Trial 39 finished with value: 0.36389159691398754 and parameters: {'n_clusters': 106, 'linkage': 'ward'}. Best is trial 14 with value: 0.36539366274463453.\n",
      "[I 2025-06-05 15:03:59,371] Trial 40 finished with value: 0.28776592245713817 and parameters: {'n_clusters': 115, 'linkage': 'average'}. Best is trial 14 with value: 0.36539366274463453.\n",
      "[I 2025-06-05 15:03:59,408] Trial 41 finished with value: 0.2737243236714165 and parameters: {'n_clusters': 40, 'linkage': 'complete'}. Best is trial 14 with value: 0.36539366274463453.\n",
      "[I 2025-06-05 15:03:59,450] Trial 42 finished with value: 0.30438938928338766 and parameters: {'n_clusters': 25, 'linkage': 'average'}. Best is trial 14 with value: 0.36539366274463453.\n",
      "[I 2025-06-05 15:03:59,488] Trial 43 finished with value: 0.3034182988511959 and parameters: {'n_clusters': 131, 'linkage': 'complete'}. Best is trial 14 with value: 0.36539366274463453.\n",
      "[I 2025-06-05 15:03:59,520] Trial 44 finished with value: 0.023057542336778158 and parameters: {'n_clusters': 123, 'linkage': 'single'}. Best is trial 14 with value: 0.36539366274463453.\n",
      "[I 2025-06-05 15:03:59,551] Trial 45 finished with value: 0.34929277918966395 and parameters: {'n_clusters': 11, 'linkage': 'single'}. Best is trial 14 with value: 0.36539366274463453.\n",
      "[I 2025-06-05 15:03:59,591] Trial 46 finished with value: 0.22315487522882088 and parameters: {'n_clusters': 42, 'linkage': 'average'}. Best is trial 14 with value: 0.36539366274463453.\n",
      "[I 2025-06-05 15:03:59,629] Trial 47 finished with value: 0.24685046917514478 and parameters: {'n_clusters': 63, 'linkage': 'complete'}. Best is trial 14 with value: 0.36539366274463453.\n",
      "[I 2025-06-05 15:03:59,668] Trial 48 finished with value: 0.32166944973117534 and parameters: {'n_clusters': 137, 'linkage': 'complete'}. Best is trial 14 with value: 0.36539366274463453.\n",
      "[I 2025-06-05 15:03:59,706] Trial 49 finished with value: 0.2600238047231649 and parameters: {'n_clusters': 32, 'linkage': 'average'}. Best is trial 14 with value: 0.36539366274463453.\n",
      "[I 2025-06-05 15:03:59,748] Trial 50 finished with value: 0.2777605703781644 and parameters: {'n_clusters': 25, 'linkage': 'ward'}. Best is trial 14 with value: 0.36539366274463453.\n",
      "[I 2025-06-05 15:03:59,783] Trial 51 finished with value: 0.013645200705128705 and parameters: {'n_clusters': 98, 'linkage': 'single'}. Best is trial 14 with value: 0.36539366274463453.\n",
      "[I 2025-06-05 15:03:59,819] Trial 52 finished with value: 0.04708798780905881 and parameters: {'n_clusters': 80, 'linkage': 'single'}. Best is trial 14 with value: 0.36539366274463453.\n",
      "[I 2025-06-05 15:03:59,859] Trial 53 finished with value: 0.2822178708975312 and parameters: {'n_clusters': 15, 'linkage': 'complete'}. Best is trial 14 with value: 0.36539366274463453.\n",
      "[I 2025-06-05 15:03:59,901] Trial 54 finished with value: 0.2759509315019665 and parameters: {'n_clusters': 109, 'linkage': 'complete'}. Best is trial 14 with value: 0.36539366274463453.\n",
      "[I 2025-06-05 15:03:59,941] Trial 55 finished with value: 0.28401827908970706 and parameters: {'n_clusters': 27, 'linkage': 'ward'}. Best is trial 14 with value: 0.36539366274463453.\n",
      "[I 2025-06-05 15:03:59,981] Trial 56 finished with value: 0.2560989257278844 and parameters: {'n_clusters': 49, 'linkage': 'complete'}. Best is trial 14 with value: 0.36539366274463453.\n",
      "[I 2025-06-05 15:04:00,038] Trial 57 finished with value: 0.30451629021894744 and parameters: {'n_clusters': 148, 'linkage': 'average'}. Best is trial 14 with value: 0.36539366274463453.\n",
      "[I 2025-06-05 15:04:00,079] Trial 58 finished with value: 0.014528545936009642 and parameters: {'n_clusters': 96, 'linkage': 'single'}. Best is trial 14 with value: 0.36539366274463453.\n",
      "[I 2025-06-05 15:04:00,123] Trial 59 finished with value: 0.290395307019048 and parameters: {'n_clusters': 122, 'linkage': 'average'}. Best is trial 14 with value: 0.36539366274463453.\n",
      "[I 2025-06-05 15:04:00,160] Trial 60 finished with value: 0.06908740935220203 and parameters: {'n_clusters': 53, 'linkage': 'single'}. Best is trial 14 with value: 0.36539366274463453.\n",
      "[I 2025-06-05 15:04:00,202] Trial 61 finished with value: 0.32075322546260243 and parameters: {'n_clusters': 55, 'linkage': 'ward'}. Best is trial 14 with value: 0.36539366274463453.\n",
      "[I 2025-06-05 15:04:00,241] Trial 62 finished with value: 0.17258793638567974 and parameters: {'n_clusters': 35, 'linkage': 'single'}. Best is trial 14 with value: 0.36539366274463453.\n",
      "[I 2025-06-05 15:04:00,276] Trial 63 finished with value: 0.005564799738011143 and parameters: {'n_clusters': 109, 'linkage': 'single'}. Best is trial 14 with value: 0.36539366274463453.\n",
      "[I 2025-06-05 15:04:00,314] Trial 64 finished with value: 0.10809768532007026 and parameters: {'n_clusters': 48, 'linkage': 'single'}. Best is trial 14 with value: 0.36539366274463453.\n",
      "[I 2025-06-05 15:04:00,363] Trial 65 finished with value: 0.3126550225076758 and parameters: {'n_clusters': 49, 'linkage': 'average'}. Best is trial 14 with value: 0.36539366274463453.\n",
      "[I 2025-06-05 15:04:00,404] Trial 66 finished with value: 0.28761879395004725 and parameters: {'n_clusters': 106, 'linkage': 'average'}. Best is trial 14 with value: 0.36539366274463453.\n",
      "[I 2025-06-05 15:04:00,451] Trial 67 finished with value: 0.30927377789989824 and parameters: {'n_clusters': 146, 'linkage': 'average'}. Best is trial 14 with value: 0.36539366274463453.\n",
      "[I 2025-06-05 15:04:00,498] Trial 68 finished with value: 0.2228978738280668 and parameters: {'n_clusters': 45, 'linkage': 'average'}. Best is trial 14 with value: 0.36539366274463453.\n",
      "[I 2025-06-05 15:04:00,543] Trial 69 finished with value: 0.3589712245613443 and parameters: {'n_clusters': 100, 'linkage': 'ward'}. Best is trial 14 with value: 0.36539366274463453.\n",
      "[I 2025-06-05 15:04:00,581] Trial 70 finished with value: -0.01691791024052261 and parameters: {'n_clusters': 140, 'linkage': 'single'}. Best is trial 14 with value: 0.36539366274463453.\n",
      "[I 2025-06-05 15:04:00,627] Trial 71 finished with value: 0.3168161397103162 and parameters: {'n_clusters': 56, 'linkage': 'ward'}. Best is trial 14 with value: 0.36539366274463453.\n",
      "[I 2025-06-05 15:04:00,671] Trial 72 finished with value: 0.3791140078711208 and parameters: {'n_clusters': 10, 'linkage': 'average'}. Best is trial 72 with value: 0.3791140078711208.\n",
      "[I 2025-06-05 15:04:00,717] Trial 73 finished with value: 0.22062155394433539 and parameters: {'n_clusters': 28, 'linkage': 'complete'}. Best is trial 72 with value: 0.3791140078711208.\n",
      "[I 2025-06-05 15:04:00,763] Trial 74 finished with value: 0.29277648825354086 and parameters: {'n_clusters': 31, 'linkage': 'ward'}. Best is trial 72 with value: 0.3791140078711208.\n",
      "[I 2025-06-05 15:04:00,808] Trial 75 finished with value: 0.37900201984852505 and parameters: {'n_clusters': 128, 'linkage': 'ward'}. Best is trial 72 with value: 0.3791140078711208.\n",
      "[I 2025-06-05 15:04:00,852] Trial 76 finished with value: 0.35968979846701027 and parameters: {'n_clusters': 99, 'linkage': 'ward'}. Best is trial 72 with value: 0.3791140078711208.\n",
      "[I 2025-06-05 15:04:00,899] Trial 77 finished with value: 0.25791863076370597 and parameters: {'n_clusters': 70, 'linkage': 'complete'}. Best is trial 72 with value: 0.3791140078711208.\n",
      "[I 2025-06-05 15:04:00,950] Trial 78 finished with value: 0.27927467410269585 and parameters: {'n_clusters': 109, 'linkage': 'average'}. Best is trial 72 with value: 0.3791140078711208.\n",
      "[I 2025-06-05 15:04:00,996] Trial 79 finished with value: 0.25450666777665587 and parameters: {'n_clusters': 35, 'linkage': 'average'}. Best is trial 72 with value: 0.3791140078711208.\n",
      "[I 2025-06-05 15:04:01,040] Trial 80 finished with value: 0.3461582910361189 and parameters: {'n_clusters': 81, 'linkage': 'ward'}. Best is trial 72 with value: 0.3791140078711208.\n",
      "[I 2025-06-05 15:04:01,081] Trial 81 finished with value: 0.16115700481283105 and parameters: {'n_clusters': 40, 'linkage': 'single'}. Best is trial 72 with value: 0.3791140078711208.\n",
      "[I 2025-06-05 15:04:01,125] Trial 82 finished with value: 0.24799659221169412 and parameters: {'n_clusters': 59, 'linkage': 'complete'}. Best is trial 72 with value: 0.3791140078711208.\n",
      "[I 2025-06-05 15:04:01,203] Trial 83 finished with value: 0.3612288810014684 and parameters: {'n_clusters': 95, 'linkage': 'ward'}. Best is trial 72 with value: 0.3791140078711208.\n",
      "[I 2025-06-05 15:04:01,249] Trial 84 finished with value: 0.292100846926728 and parameters: {'n_clusters': 120, 'linkage': 'average'}. Best is trial 72 with value: 0.3791140078711208.\n",
      "[I 2025-06-05 15:04:01,293] Trial 85 finished with value: -0.01885020221402996 and parameters: {'n_clusters': 145, 'linkage': 'single'}. Best is trial 72 with value: 0.3791140078711208.\n",
      "[I 2025-06-05 15:04:01,346] Trial 86 finished with value: 0.27608982998437986 and parameters: {'n_clusters': 58, 'linkage': 'average'}. Best is trial 72 with value: 0.3791140078711208.\n",
      "[I 2025-06-05 15:04:01,396] Trial 87 finished with value: 0.37169742110403403 and parameters: {'n_clusters': 118, 'linkage': 'ward'}. Best is trial 72 with value: 0.3791140078711208.\n",
      "[I 2025-06-05 15:04:01,445] Trial 88 finished with value: 0.28510003235097503 and parameters: {'n_clusters': 123, 'linkage': 'complete'}. Best is trial 72 with value: 0.3791140078711208.\n",
      "[I 2025-06-05 15:04:01,502] Trial 89 finished with value: 0.27059336324879285 and parameters: {'n_clusters': 116, 'linkage': 'complete'}. Best is trial 72 with value: 0.3791140078711208.\n",
      "[I 2025-06-05 15:04:01,553] Trial 90 finished with value: 0.3000405997698213 and parameters: {'n_clusters': 91, 'linkage': 'complete'}. Best is trial 72 with value: 0.3791140078711208.\n",
      "[I 2025-06-05 15:04:01,604] Trial 91 finished with value: 0.3068752904155105 and parameters: {'n_clusters': 138, 'linkage': 'average'}. Best is trial 72 with value: 0.3791140078711208.\n",
      "[I 2025-06-05 15:04:01,656] Trial 92 finished with value: 0.38258833664031533 and parameters: {'n_clusters': 142, 'linkage': 'ward'}. Best is trial 92 with value: 0.38258833664031533.\n",
      "[I 2025-06-05 15:04:01,704] Trial 93 finished with value: 0.2742908188989225 and parameters: {'n_clusters': 41, 'linkage': 'complete'}. Best is trial 92 with value: 0.38258833664031533.\n",
      "[I 2025-06-05 15:04:01,753] Trial 94 finished with value: 0.27226922782918517 and parameters: {'n_clusters': 43, 'linkage': 'complete'}. Best is trial 92 with value: 0.38258833664031533.\n",
      "[I 2025-06-05 15:04:01,800] Trial 95 finished with value: 0.3206512090385091 and parameters: {'n_clusters': 144, 'linkage': 'complete'}. Best is trial 92 with value: 0.38258833664031533.\n",
      "[I 2025-06-05 15:04:01,843] Trial 96 finished with value: 0.21282158955930008 and parameters: {'n_clusters': 34, 'linkage': 'single'}. Best is trial 92 with value: 0.38258833664031533.\n",
      "[I 2025-06-05 15:04:01,891] Trial 97 finished with value: 0.01564217680354875 and parameters: {'n_clusters': 114, 'linkage': 'single'}. Best is trial 92 with value: 0.38258833664031533.\n",
      "[I 2025-06-05 15:04:01,941] Trial 98 finished with value: 0.30844794399758185 and parameters: {'n_clusters': 141, 'linkage': 'average'}. Best is trial 92 with value: 0.38258833664031533.\n",
      "[I 2025-06-05 15:04:01,989] Trial 99 finished with value: 0.2775351493277997 and parameters: {'n_clusters': 14, 'linkage': 'complete'}. Best is trial 92 with value: 0.38258833664031533.\n",
      "[I 2025-06-05 15:04:02,035] Trial 100 finished with value: 0.01709954314682653 and parameters: {'n_clusters': 132, 'linkage': 'single'}. Best is trial 92 with value: 0.38258833664031533.\n",
      "[I 2025-06-05 15:04:02,085] Trial 101 finished with value: 0.2734342737973326 and parameters: {'n_clusters': 42, 'linkage': 'complete'}. Best is trial 92 with value: 0.38258833664031533.\n",
      "[I 2025-06-05 15:04:02,135] Trial 102 finished with value: 0.3714555887568763 and parameters: {'n_clusters': 117, 'linkage': 'ward'}. Best is trial 92 with value: 0.38258833664031533.\n",
      "[I 2025-06-05 15:04:02,186] Trial 103 finished with value: 0.2704626503580053 and parameters: {'n_clusters': 112, 'linkage': 'complete'}. Best is trial 92 with value: 0.38258833664031533.\n",
      "[I 2025-06-05 15:04:02,232] Trial 104 finished with value: 0.04541981130169991 and parameters: {'n_clusters': 84, 'linkage': 'single'}. Best is trial 92 with value: 0.38258833664031533.\n",
      "[I 2025-06-05 15:04:02,282] Trial 105 finished with value: 0.2891859731603898 and parameters: {'n_clusters': 89, 'linkage': 'average'}. Best is trial 92 with value: 0.38258833664031533.\n",
      "[I 2025-06-05 15:04:02,336] Trial 106 finished with value: 0.26453074540326216 and parameters: {'n_clusters': 11, 'linkage': 'ward'}. Best is trial 92 with value: 0.38258833664031533.\n",
      "[I 2025-06-05 15:04:02,386] Trial 107 finished with value: 0.26494818047580354 and parameters: {'n_clusters': 72, 'linkage': 'complete'}. Best is trial 92 with value: 0.38258833664031533.\n",
      "[I 2025-06-05 15:04:02,440] Trial 108 finished with value: 0.29822314783293397 and parameters: {'n_clusters': 29, 'linkage': 'average'}. Best is trial 92 with value: 0.38258833664031533.\n",
      "[I 2025-06-05 15:04:02,493] Trial 109 finished with value: 0.2740903893147689 and parameters: {'n_clusters': 22, 'linkage': 'ward'}. Best is trial 92 with value: 0.38258833664031533.\n",
      "[I 2025-06-05 15:04:02,544] Trial 110 finished with value: 0.26550345965848426 and parameters: {'n_clusters': 73, 'linkage': 'complete'}. Best is trial 92 with value: 0.38258833664031533.\n",
      "[I 2025-06-05 15:04:02,600] Trial 111 finished with value: 0.4121216215665647 and parameters: {'n_clusters': 12, 'linkage': 'average'}. Best is trial 111 with value: 0.4121216215665647.\n",
      "[I 2025-06-05 15:04:02,652] Trial 112 finished with value: 0.2806636922722126 and parameters: {'n_clusters': 102, 'linkage': 'complete'}. Best is trial 111 with value: 0.4121216215665647.\n",
      "[I 2025-06-05 15:04:02,700] Trial 113 finished with value: 0.10424305312003818 and parameters: {'n_clusters': 45, 'linkage': 'single'}. Best is trial 111 with value: 0.4121216215665647.\n",
      "[I 2025-06-05 15:04:02,751] Trial 114 finished with value: 0.26644780430129417 and parameters: {'n_clusters': 78, 'linkage': 'average'}. Best is trial 111 with value: 0.4121216215665647.\n",
      "[I 2025-06-05 15:04:02,805] Trial 115 finished with value: 0.374773263541347 and parameters: {'n_clusters': 123, 'linkage': 'ward'}. Best is trial 111 with value: 0.4121216215665647.\n",
      "[I 2025-06-05 15:04:02,860] Trial 116 finished with value: 0.277418056665226 and parameters: {'n_clusters': 64, 'linkage': 'average'}. Best is trial 111 with value: 0.4121216215665647.\n",
      "[I 2025-06-05 15:04:02,914] Trial 117 finished with value: 0.35692238867675025 and parameters: {'n_clusters': 86, 'linkage': 'ward'}. Best is trial 111 with value: 0.4121216215665647.\n",
      "[I 2025-06-05 15:04:02,971] Trial 118 finished with value: 0.2561121548414604 and parameters: {'n_clusters': 55, 'linkage': 'complete'}. Best is trial 111 with value: 0.4121216215665647.\n",
      "[I 2025-06-05 15:04:03,026] Trial 119 finished with value: 0.31552565312270603 and parameters: {'n_clusters': 136, 'linkage': 'complete'}. Best is trial 111 with value: 0.4121216215665647.\n",
      "[I 2025-06-05 15:04:03,080] Trial 120 finished with value: 0.2928048013735115 and parameters: {'n_clusters': 11, 'linkage': 'complete'}. Best is trial 111 with value: 0.4121216215665647.\n",
      "[I 2025-06-05 15:04:03,133] Trial 121 finished with value: 0.24102085084859812 and parameters: {'n_clusters': 31, 'linkage': 'complete'}. Best is trial 111 with value: 0.4121216215665647.\n",
      "[I 2025-06-05 15:04:03,187] Trial 122 finished with value: 0.2984558741910194 and parameters: {'n_clusters': 95, 'linkage': 'complete'}. Best is trial 111 with value: 0.4121216215665647.\n",
      "[I 2025-06-05 15:04:03,238] Trial 123 finished with value: -0.0186294491948276 and parameters: {'n_clusters': 146, 'linkage': 'single'}. Best is trial 111 with value: 0.4121216215665647.\n",
      "[I 2025-06-05 15:04:03,293] Trial 124 finished with value: 0.32042686308490487 and parameters: {'n_clusters': 140, 'linkage': 'complete'}. Best is trial 111 with value: 0.4121216215665647.\n",
      "[I 2025-06-05 15:04:03,351] Trial 125 finished with value: 0.38327650106185396 and parameters: {'n_clusters': 144, 'linkage': 'ward'}. Best is trial 111 with value: 0.4121216215665647.\n",
      "[I 2025-06-05 15:04:03,407] Trial 126 finished with value: 0.3069462315008474 and parameters: {'n_clusters': 41, 'linkage': 'ward'}. Best is trial 111 with value: 0.4121216215665647.\n",
      "[I 2025-06-05 15:04:03,460] Trial 127 finished with value: 0.28763102621733067 and parameters: {'n_clusters': 28, 'linkage': 'single'}. Best is trial 111 with value: 0.4121216215665647.\n",
      "[I 2025-06-05 15:04:03,512] Trial 128 finished with value: 0.28759913689739697 and parameters: {'n_clusters': 16, 'linkage': 'single'}. Best is trial 111 with value: 0.4121216215665647.\n",
      "[I 2025-06-05 15:04:03,564] Trial 129 finished with value: 0.14079323886843093 and parameters: {'n_clusters': 43, 'linkage': 'single'}. Best is trial 111 with value: 0.4121216215665647.\n",
      "[I 2025-06-05 15:04:03,620] Trial 130 finished with value: 0.2865107408784882 and parameters: {'n_clusters': 75, 'linkage': 'complete'}. Best is trial 111 with value: 0.4121216215665647.\n",
      "[I 2025-06-05 15:04:03,682] Trial 131 finished with value: 0.37513518785157723 and parameters: {'n_clusters': 122, 'linkage': 'ward'}. Best is trial 111 with value: 0.4121216215665647.\n",
      "[I 2025-06-05 15:04:03,738] Trial 132 finished with value: 0.2869484023000102 and parameters: {'n_clusters': 99, 'linkage': 'average'}. Best is trial 111 with value: 0.4121216215665647.\n",
      "[I 2025-06-05 15:04:03,797] Trial 133 finished with value: 0.04014704740386609 and parameters: {'n_clusters': 89, 'linkage': 'single'}. Best is trial 111 with value: 0.4121216215665647.\n",
      "[I 2025-06-05 15:04:03,852] Trial 134 finished with value: 0.3055313339392429 and parameters: {'n_clusters': 55, 'linkage': 'average'}. Best is trial 111 with value: 0.4121216215665647.\n",
      "[I 2025-06-05 15:04:03,914] Trial 135 finished with value: 0.3335819557624991 and parameters: {'n_clusters': 75, 'linkage': 'ward'}. Best is trial 111 with value: 0.4121216215665647.\n",
      "[I 2025-06-05 15:04:03,967] Trial 136 finished with value: 0.34632802295771387 and parameters: {'n_clusters': 14, 'linkage': 'single'}. Best is trial 111 with value: 0.4121216215665647.\n",
      "[I 2025-06-05 15:04:04,025] Trial 137 finished with value: 0.3812327872809029 and parameters: {'n_clusters': 136, 'linkage': 'ward'}. Best is trial 111 with value: 0.4121216215665647.\n",
      "[I 2025-06-05 15:04:04,083] Trial 138 finished with value: 0.3195792312531163 and parameters: {'n_clusters': 146, 'linkage': 'complete'}. Best is trial 111 with value: 0.4121216215665647.\n",
      "[I 2025-06-05 15:04:04,143] Trial 139 finished with value: 0.27671699804885513 and parameters: {'n_clusters': 72, 'linkage': 'average'}. Best is trial 111 with value: 0.4121216215665647.\n",
      "[I 2025-06-05 15:04:04,205] Trial 140 finished with value: 0.024829977377610613 and parameters: {'n_clusters': 126, 'linkage': 'single'}. Best is trial 111 with value: 0.4121216215665647.\n",
      "[I 2025-06-05 15:04:04,272] Trial 141 finished with value: 0.28735433146190664 and parameters: {'n_clusters': 95, 'linkage': 'average'}. Best is trial 111 with value: 0.4121216215665647.\n",
      "[I 2025-06-05 15:04:04,325] Trial 142 finished with value: 0.2679686044115591 and parameters: {'n_clusters': 18, 'linkage': 'single'}. Best is trial 111 with value: 0.4121216215665647.\n",
      "[I 2025-06-05 15:04:04,390] Trial 143 finished with value: 0.3842161202669742 and parameters: {'n_clusters': 147, 'linkage': 'ward'}. Best is trial 111 with value: 0.4121216215665647.\n",
      "[I 2025-06-05 15:04:04,449] Trial 144 finished with value: 0.28877460347349676 and parameters: {'n_clusters': 84, 'linkage': 'complete'}. Best is trial 111 with value: 0.4121216215665647.\n",
      "[I 2025-06-05 15:04:04,512] Trial 145 finished with value: 0.2701870535972855 and parameters: {'n_clusters': 17, 'linkage': 'ward'}. Best is trial 111 with value: 0.4121216215665647.\n",
      "[I 2025-06-05 15:04:04,566] Trial 146 finished with value: -0.017620622610328908 and parameters: {'n_clusters': 142, 'linkage': 'single'}. Best is trial 111 with value: 0.4121216215665647.\n",
      "[I 2025-06-05 15:04:04,621] Trial 147 finished with value: 0.0049503571668745696 and parameters: {'n_clusters': 107, 'linkage': 'single'}. Best is trial 111 with value: 0.4121216215665647.\n",
      "[I 2025-06-05 15:04:04,683] Trial 148 finished with value: 0.2738473119854962 and parameters: {'n_clusters': 60, 'linkage': 'average'}. Best is trial 111 with value: 0.4121216215665647.\n",
      "[I 2025-06-05 15:04:04,745] Trial 149 finished with value: 0.007798180907180258 and parameters: {'n_clusters': 135, 'linkage': 'single'}. Best is trial 111 with value: 0.4121216215665647.\n",
      "[I 2025-06-05 15:04:04,802] Trial 150 finished with value: 0.2746967784930834 and parameters: {'n_clusters': 17, 'linkage': 'single'}. Best is trial 111 with value: 0.4121216215665647.\n",
      "[I 2025-06-05 15:04:04,866] Trial 151 finished with value: 0.3652339435552552 and parameters: {'n_clusters': 111, 'linkage': 'ward'}. Best is trial 111 with value: 0.4121216215665647.\n",
      "[I 2025-06-05 15:04:04,934] Trial 152 finished with value: 0.3612001800867756 and parameters: {'n_clusters': 107, 'linkage': 'ward'}. Best is trial 111 with value: 0.4121216215665647.\n",
      "[I 2025-06-05 15:04:04,997] Trial 153 finished with value: 0.28356954346505936 and parameters: {'n_clusters': 101, 'linkage': 'average'}. Best is trial 111 with value: 0.4121216215665647.\n",
      "[I 2025-06-05 15:04:05,057] Trial 154 finished with value: 0.3154528376686228 and parameters: {'n_clusters': 23, 'linkage': 'average'}. Best is trial 111 with value: 0.4121216215665647.\n",
      "[I 2025-06-05 15:04:05,118] Trial 155 finished with value: 0.32574749447489465 and parameters: {'n_clusters': 64, 'linkage': 'ward'}. Best is trial 111 with value: 0.4121216215665647.\n",
      "[I 2025-06-05 15:04:05,183] Trial 156 finished with value: 0.30678733995708385 and parameters: {'n_clusters': 40, 'linkage': 'ward'}. Best is trial 111 with value: 0.4121216215665647.\n",
      "[I 2025-06-05 15:04:05,240] Trial 157 finished with value: -0.016348079032768283 and parameters: {'n_clusters': 148, 'linkage': 'single'}. Best is trial 111 with value: 0.4121216215665647.\n",
      "[I 2025-06-05 15:04:05,305] Trial 158 finished with value: 0.31979455712442395 and parameters: {'n_clusters': 59, 'linkage': 'ward'}. Best is trial 111 with value: 0.4121216215665647.\n",
      "[I 2025-06-05 15:04:05,367] Trial 159 finished with value: 0.3650003435281163 and parameters: {'n_clusters': 110, 'linkage': 'ward'}. Best is trial 111 with value: 0.4121216215665647.\n",
      "[I 2025-06-05 15:04:05,436] Trial 160 finished with value: 0.31236759473278386 and parameters: {'n_clusters': 83, 'linkage': 'average'}. Best is trial 111 with value: 0.4121216215665647.\n",
      "[I 2025-06-05 15:04:05,507] Trial 161 finished with value: 0.3065918579098918 and parameters: {'n_clusters': 131, 'linkage': 'average'}. Best is trial 111 with value: 0.4121216215665647.\n",
      "[I 2025-06-05 15:04:05,580] Trial 162 finished with value: 0.01419550781276274 and parameters: {'n_clusters': 115, 'linkage': 'single'}. Best is trial 111 with value: 0.4121216215665647.\n",
      "[I 2025-06-05 15:04:05,661] Trial 163 finished with value: 0.2197162589337478 and parameters: {'n_clusters': 23, 'linkage': 'complete'}. Best is trial 111 with value: 0.4121216215665647.\n",
      "[I 2025-06-05 15:04:05,739] Trial 164 finished with value: 0.32318707852653283 and parameters: {'n_clusters': 66, 'linkage': 'ward'}. Best is trial 111 with value: 0.4121216215665647.\n",
      "[I 2025-06-05 15:04:05,819] Trial 165 finished with value: 0.3798804367244556 and parameters: {'n_clusters': 14, 'linkage': 'average'}. Best is trial 111 with value: 0.4121216215665647.\n",
      "[I 2025-06-05 15:04:05,897] Trial 166 finished with value: 0.32741489225820597 and parameters: {'n_clusters': 70, 'linkage': 'ward'}. Best is trial 111 with value: 0.4121216215665647.\n",
      "[I 2025-06-05 15:04:05,978] Trial 167 finished with value: 0.2675020228848177 and parameters: {'n_clusters': 16, 'linkage': 'ward'}. Best is trial 111 with value: 0.4121216215665647.\n",
      "[I 2025-06-05 15:04:06,061] Trial 168 finished with value: 0.26664714309158494 and parameters: {'n_clusters': 18, 'linkage': 'ward'}. Best is trial 111 with value: 0.4121216215665647.\n",
      "[I 2025-06-05 15:04:06,135] Trial 169 finished with value: 0.0268486242524062 and parameters: {'n_clusters': 129, 'linkage': 'single'}. Best is trial 111 with value: 0.4121216215665647.\n",
      "[I 2025-06-05 15:04:06,215] Trial 170 finished with value: 0.2761478786524512 and parameters: {'n_clusters': 110, 'linkage': 'complete'}. Best is trial 111 with value: 0.4121216215665647.\n",
      "[I 2025-06-05 15:04:06,297] Trial 171 finished with value: 0.28790192340867815 and parameters: {'n_clusters': 94, 'linkage': 'average'}. Best is trial 111 with value: 0.4121216215665647.\n",
      "[I 2025-06-05 15:04:06,372] Trial 172 finished with value: 0.07435045757233778 and parameters: {'n_clusters': 68, 'linkage': 'single'}. Best is trial 111 with value: 0.4121216215665647.\n",
      "[I 2025-06-05 15:04:06,462] Trial 173 finished with value: 0.30191048757630345 and parameters: {'n_clusters': 133, 'linkage': 'complete'}. Best is trial 111 with value: 0.4121216215665647.\n",
      "[I 2025-06-05 15:04:06,540] Trial 174 finished with value: 0.2653890973905929 and parameters: {'n_clusters': 74, 'linkage': 'complete'}. Best is trial 111 with value: 0.4121216215665647.\n",
      "[I 2025-06-05 15:04:06,628] Trial 175 finished with value: 0.3105076782076886 and parameters: {'n_clusters': 48, 'linkage': 'ward'}. Best is trial 111 with value: 0.4121216215665647.\n",
      "[I 2025-06-05 15:04:06,720] Trial 176 finished with value: 0.2524225772489156 and parameters: {'n_clusters': 52, 'linkage': 'complete'}. Best is trial 111 with value: 0.4121216215665647.\n",
      "[I 2025-06-05 15:04:06,801] Trial 177 finished with value: 0.27476601697228914 and parameters: {'n_clusters': 108, 'linkage': 'complete'}. Best is trial 111 with value: 0.4121216215665647.\n",
      "[I 2025-06-05 15:04:06,881] Trial 178 finished with value: 0.28702170440497327 and parameters: {'n_clusters': 117, 'linkage': 'average'}. Best is trial 111 with value: 0.4121216215665647.\n",
      "[I 2025-06-05 15:04:06,968] Trial 179 finished with value: 0.29656077484407894 and parameters: {'n_clusters': 13, 'linkage': 'complete'}. Best is trial 111 with value: 0.4121216215665647.\n",
      "[I 2025-06-05 15:04:07,054] Trial 180 finished with value: 0.3079729430477859 and parameters: {'n_clusters': 134, 'linkage': 'average'}. Best is trial 111 with value: 0.4121216215665647.\n",
      "[I 2025-06-05 15:04:07,135] Trial 181 finished with value: 0.2676060581210298 and parameters: {'n_clusters': 76, 'linkage': 'average'}. Best is trial 111 with value: 0.4121216215665647.\n",
      "[I 2025-06-05 15:04:07,219] Trial 182 finished with value: 0.2864520925128608 and parameters: {'n_clusters': 36, 'linkage': 'complete'}. Best is trial 111 with value: 0.4121216215665647.\n",
      "[I 2025-06-05 15:04:07,302] Trial 183 finished with value: 0.0653094994225763 and parameters: {'n_clusters': 75, 'linkage': 'single'}. Best is trial 111 with value: 0.4121216215665647.\n",
      "[I 2025-06-05 15:04:07,385] Trial 184 finished with value: 0.38014176828212715 and parameters: {'n_clusters': 134, 'linkage': 'ward'}. Best is trial 111 with value: 0.4121216215665647.\n",
      "[I 2025-06-05 15:04:07,472] Trial 185 finished with value: 0.3145074156219052 and parameters: {'n_clusters': 24, 'linkage': 'average'}. Best is trial 111 with value: 0.4121216215665647.\n",
      "[I 2025-06-05 15:04:07,560] Trial 186 finished with value: 0.05073778780045347 and parameters: {'n_clusters': 65, 'linkage': 'single'}. Best is trial 111 with value: 0.4121216215665647.\n",
      "[I 2025-06-05 15:04:07,644] Trial 187 finished with value: 0.3245559353769917 and parameters: {'n_clusters': 69, 'linkage': 'ward'}. Best is trial 111 with value: 0.4121216215665647.\n",
      "[I 2025-06-05 15:04:07,723] Trial 188 finished with value: 0.012883382177113352 and parameters: {'n_clusters': 99, 'linkage': 'single'}. Best is trial 111 with value: 0.4121216215665647.\n",
      "[I 2025-06-05 15:04:07,806] Trial 189 finished with value: 0.047223840276250297 and parameters: {'n_clusters': 79, 'linkage': 'single'}. Best is trial 111 with value: 0.4121216215665647.\n",
      "[I 2025-06-05 15:04:07,895] Trial 190 finished with value: 0.01277977650485955 and parameters: {'n_clusters': 118, 'linkage': 'single'}. Best is trial 111 with value: 0.4121216215665647.\n",
      "[I 2025-06-05 15:04:07,987] Trial 191 finished with value: -0.01897657878555453 and parameters: {'n_clusters': 144, 'linkage': 'single'}. Best is trial 111 with value: 0.4121216215665647.\n",
      "[I 2025-06-05 15:04:08,068] Trial 192 finished with value: 0.07129537352525814 and parameters: {'n_clusters': 58, 'linkage': 'single'}. Best is trial 111 with value: 0.4121216215665647.\n",
      "[I 2025-06-05 15:04:08,156] Trial 193 finished with value: 0.2843555580665489 and parameters: {'n_clusters': 100, 'linkage': 'average'}. Best is trial 111 with value: 0.4121216215665647.\n",
      "[I 2025-06-05 15:04:08,262] Trial 194 finished with value: 0.278753961116234 and parameters: {'n_clusters': 110, 'linkage': 'average'}. Best is trial 111 with value: 0.4121216215665647.\n",
      "[I 2025-06-05 15:04:08,377] Trial 195 finished with value: 0.3260573649505367 and parameters: {'n_clusters': 65, 'linkage': 'ward'}. Best is trial 111 with value: 0.4121216215665647.\n",
      "[I 2025-06-05 15:04:08,481] Trial 196 finished with value: 0.22266407814847441 and parameters: {'n_clusters': 41, 'linkage': 'average'}. Best is trial 111 with value: 0.4121216215665647.\n",
      "[I 2025-06-05 15:04:08,596] Trial 197 finished with value: 0.28943666279583585 and parameters: {'n_clusters': 116, 'linkage': 'average'}. Best is trial 111 with value: 0.4121216215665647.\n",
      "[I 2025-06-05 15:04:08,705] Trial 198 finished with value: 0.3220701147993204 and parameters: {'n_clusters': 143, 'linkage': 'complete'}. Best is trial 111 with value: 0.4121216215665647.\n",
      "[I 2025-06-05 15:04:08,829] Trial 199 finished with value: 0.30013821913484046 and parameters: {'n_clusters': 28, 'linkage': 'average'}. Best is trial 111 with value: 0.4121216215665647.\n",
      "[I 2025-06-05 15:04:08,972] Trial 200 finished with value: 0.27600403362515263 and parameters: {'n_clusters': 75, 'linkage': 'average'}. Best is trial 111 with value: 0.4121216215665647.\n",
      "[I 2025-06-05 15:04:09,127] Trial 201 finished with value: 0.3070392663617369 and parameters: {'n_clusters': 44, 'linkage': 'ward'}. Best is trial 111 with value: 0.4121216215665647.\n",
      "[I 2025-06-05 15:04:09,288] Trial 202 finished with value: 0.2697876858089163 and parameters: {'n_clusters': 114, 'linkage': 'complete'}. Best is trial 111 with value: 0.4121216215665647.\n",
      "[I 2025-06-05 15:04:09,432] Trial 203 finished with value: 0.2882486832037088 and parameters: {'n_clusters': 28, 'linkage': 'ward'}. Best is trial 111 with value: 0.4121216215665647.\n",
      "[I 2025-06-05 15:04:09,560] Trial 204 finished with value: 0.2915548129833638 and parameters: {'n_clusters': 96, 'linkage': 'complete'}. Best is trial 111 with value: 0.4121216215665647.\n",
      "[I 2025-06-05 15:04:09,679] Trial 205 finished with value: 0.324788160336497 and parameters: {'n_clusters': 61, 'linkage': 'ward'}. Best is trial 111 with value: 0.4121216215665647.\n",
      "[I 2025-06-05 15:04:09,783] Trial 206 finished with value: 0.015972523018228154 and parameters: {'n_clusters': 131, 'linkage': 'single'}. Best is trial 111 with value: 0.4121216215665647.\n",
      "[I 2025-06-05 15:04:09,897] Trial 207 finished with value: 0.32499211319171956 and parameters: {'n_clusters': 62, 'linkage': 'ward'}. Best is trial 111 with value: 0.4121216215665647.\n",
      "[I 2025-06-05 15:04:10,047] Trial 208 finished with value: 0.3526552738020312 and parameters: {'n_clusters': 84, 'linkage': 'ward'}. Best is trial 111 with value: 0.4121216215665647.\n",
      "[I 2025-06-05 15:04:10,175] Trial 209 finished with value: 0.3046544983788348 and parameters: {'n_clusters': 36, 'linkage': 'ward'}. Best is trial 111 with value: 0.4121216215665647.\n",
      "[I 2025-06-05 15:04:10,297] Trial 210 finished with value: 0.22268503965643738 and parameters: {'n_clusters': 43, 'linkage': 'average'}. Best is trial 111 with value: 0.4121216215665647.\n",
      "[I 2025-06-05 15:04:10,404] Trial 211 finished with value: 0.36298759557615623 and parameters: {'n_clusters': 102, 'linkage': 'ward'}. Best is trial 111 with value: 0.4121216215665647.\n",
      "[I 2025-06-05 15:04:10,510] Trial 212 finished with value: 0.24510772316446813 and parameters: {'n_clusters': 37, 'linkage': 'average'}. Best is trial 111 with value: 0.4121216215665647.\n",
      "[I 2025-06-05 15:04:10,638] Trial 213 finished with value: 0.25655564221462157 and parameters: {'n_clusters': 14, 'linkage': 'ward'}. Best is trial 111 with value: 0.4121216215665647.\n",
      "[I 2025-06-05 15:04:10,766] Trial 214 finished with value: 0.04673519690914938 and parameters: {'n_clusters': 82, 'linkage': 'single'}. Best is trial 111 with value: 0.4121216215665647.\n",
      "[I 2025-06-05 15:04:10,893] Trial 215 finished with value: 0.3053331621483013 and parameters: {'n_clusters': 51, 'linkage': 'average'}. Best is trial 111 with value: 0.4121216215665647.\n",
      "[I 2025-06-05 15:04:11,023] Trial 216 finished with value: 0.2510656078264822 and parameters: {'n_clusters': 66, 'linkage': 'complete'}. Best is trial 111 with value: 0.4121216215665647.\n",
      "[I 2025-06-05 15:04:11,147] Trial 217 finished with value: 0.285821091752354 and parameters: {'n_clusters': 97, 'linkage': 'complete'}. Best is trial 111 with value: 0.4121216215665647.\n",
      "[I 2025-06-05 15:04:11,264] Trial 218 finished with value: -0.021270977703495564 and parameters: {'n_clusters': 111, 'linkage': 'single'}. Best is trial 111 with value: 0.4121216215665647.\n",
      "[I 2025-06-05 15:04:11,379] Trial 219 finished with value: 0.08007916983920091 and parameters: {'n_clusters': 55, 'linkage': 'single'}. Best is trial 111 with value: 0.4121216215665647.\n",
      "[I 2025-06-05 15:04:11,514] Trial 220 finished with value: 0.2618115776511144 and parameters: {'n_clusters': 15, 'linkage': 'ward'}. Best is trial 111 with value: 0.4121216215665647.\n",
      "[I 2025-06-05 15:04:11,636] Trial 221 finished with value: 0.4132380142081687 and parameters: {'n_clusters': 11, 'linkage': 'average'}. Best is trial 221 with value: 0.4132380142081687.\n",
      "[I 2025-06-05 15:04:11,759] Trial 222 finished with value: 0.3024580795230749 and parameters: {'n_clusters': 132, 'linkage': 'complete'}. Best is trial 221 with value: 0.4132380142081687.\n",
      "[I 2025-06-05 15:04:11,877] Trial 223 finished with value: 0.27853192197373117 and parameters: {'n_clusters': 70, 'linkage': 'average'}. Best is trial 221 with value: 0.4132380142081687.\n",
      "[I 2025-06-05 15:04:12,009] Trial 224 finished with value: 0.3830471038577101 and parameters: {'n_clusters': 145, 'linkage': 'ward'}. Best is trial 221 with value: 0.4132380142081687.\n",
      "[I 2025-06-05 15:04:12,119] Trial 225 finished with value: 0.004938340907815311 and parameters: {'n_clusters': 110, 'linkage': 'single'}. Best is trial 221 with value: 0.4132380142081687.\n",
      "[I 2025-06-05 15:04:12,229] Trial 226 finished with value: 0.37920688192814145 and parameters: {'n_clusters': 132, 'linkage': 'ward'}. Best is trial 221 with value: 0.4132380142081687.\n",
      "[I 2025-06-05 15:04:12,358] Trial 227 finished with value: 0.0662992203135533 and parameters: {'n_clusters': 74, 'linkage': 'single'}. Best is trial 221 with value: 0.4132380142081687.\n",
      "[I 2025-06-05 15:04:12,494] Trial 228 finished with value: 0.30221193493858717 and parameters: {'n_clusters': 32, 'linkage': 'ward'}. Best is trial 221 with value: 0.4132380142081687.\n",
      "[I 2025-06-05 15:04:12,616] Trial 229 finished with value: 0.3385217573413564 and parameters: {'n_clusters': 78, 'linkage': 'ward'}. Best is trial 221 with value: 0.4132380142081687.\n",
      "[I 2025-06-05 15:04:12,729] Trial 230 finished with value: 0.274950159256324 and parameters: {'n_clusters': 80, 'linkage': 'average'}. Best is trial 221 with value: 0.4132380142081687.\n",
      "[I 2025-06-05 15:04:12,841] Trial 231 finished with value: 0.29500011153562716 and parameters: {'n_clusters': 30, 'linkage': 'ward'}. Best is trial 221 with value: 0.4132380142081687.\n",
      "[I 2025-06-05 15:04:12,950] Trial 232 finished with value: 0.32216742531621295 and parameters: {'n_clusters': 142, 'linkage': 'complete'}. Best is trial 221 with value: 0.4132380142081687.\n",
      "[I 2025-06-05 15:04:13,055] Trial 233 finished with value: 0.3037143467575433 and parameters: {'n_clusters': 130, 'linkage': 'complete'}. Best is trial 221 with value: 0.4132380142081687.\n",
      "[I 2025-06-05 15:04:13,166] Trial 234 finished with value: 0.27445143418009427 and parameters: {'n_clusters': 24, 'linkage': 'ward'}. Best is trial 221 with value: 0.4132380142081687.\n",
      "[I 2025-06-05 15:04:13,280] Trial 235 finished with value: 0.22531236284480055 and parameters: {'n_clusters': 40, 'linkage': 'average'}. Best is trial 221 with value: 0.4132380142081687.\n",
      "[I 2025-06-05 15:04:13,395] Trial 236 finished with value: 0.2873561712922018 and parameters: {'n_clusters': 77, 'linkage': 'complete'}. Best is trial 221 with value: 0.4132380142081687.\n",
      "[I 2025-06-05 15:04:13,510] Trial 237 finished with value: 0.26893120403891446 and parameters: {'n_clusters': 115, 'linkage': 'complete'}. Best is trial 221 with value: 0.4132380142081687.\n",
      "[I 2025-06-05 15:04:13,629] Trial 238 finished with value: 0.30520865302912603 and parameters: {'n_clusters': 133, 'linkage': 'average'}. Best is trial 221 with value: 0.4132380142081687.\n",
      "[I 2025-06-05 15:04:13,746] Trial 239 finished with value: 0.28819039662339496 and parameters: {'n_clusters': 90, 'linkage': 'average'}. Best is trial 221 with value: 0.4132380142081687.\n",
      "[I 2025-06-05 15:04:13,853] Trial 240 finished with value: 0.01107016378208881 and parameters: {'n_clusters': 101, 'linkage': 'single'}. Best is trial 221 with value: 0.4132380142081687.\n",
      "[I 2025-06-05 15:04:13,960] Trial 241 finished with value: 0.3333291746809842 and parameters: {'n_clusters': 74, 'linkage': 'ward'}. Best is trial 221 with value: 0.4132380142081687.\n",
      "[I 2025-06-05 15:04:14,056] Trial 242 finished with value: 0.01603926926231177 and parameters: {'n_clusters': 122, 'linkage': 'single'}. Best is trial 221 with value: 0.4132380142081687.\n",
      "[I 2025-06-05 15:04:14,163] Trial 243 finished with value: 0.30312957800590895 and parameters: {'n_clusters': 129, 'linkage': 'complete'}. Best is trial 221 with value: 0.4132380142081687.\n",
      "[I 2025-06-05 15:04:14,283] Trial 244 finished with value: 0.37767953735096677 and parameters: {'n_clusters': 130, 'linkage': 'ward'}. Best is trial 221 with value: 0.4132380142081687.\n",
      "[I 2025-06-05 15:04:14,393] Trial 245 finished with value: 0.3588750058576385 and parameters: {'n_clusters': 91, 'linkage': 'ward'}. Best is trial 221 with value: 0.4132380142081687.\n",
      "[I 2025-06-05 15:04:14,499] Trial 246 finished with value: 0.2693330908756533 and parameters: {'n_clusters': 31, 'linkage': 'single'}. Best is trial 221 with value: 0.4132380142081687.\n",
      "[I 2025-06-05 15:04:14,603] Trial 247 finished with value: 0.2800469234549371 and parameters: {'n_clusters': 105, 'linkage': 'complete'}. Best is trial 221 with value: 0.4132380142081687.\n",
      "[I 2025-06-05 15:04:14,711] Trial 248 finished with value: 0.29250045713708345 and parameters: {'n_clusters': 12, 'linkage': 'complete'}. Best is trial 221 with value: 0.4132380142081687.\n",
      "[I 2025-06-05 15:04:14,819] Trial 249 finished with value: 0.25703296640227435 and parameters: {'n_clusters': 48, 'linkage': 'complete'}. Best is trial 221 with value: 0.4132380142081687.\n",
      "[I 2025-06-05 15:04:14,919] Trial 250 finished with value: -0.0016385468588787796 and parameters: {'n_clusters': 136, 'linkage': 'single'}. Best is trial 221 with value: 0.4132380142081687.\n",
      "[I 2025-06-05 15:04:15,020] Trial 251 finished with value: 0.016592777521110193 and parameters: {'n_clusters': 130, 'linkage': 'single'}. Best is trial 221 with value: 0.4132380142081687.\n",
      "[I 2025-06-05 15:04:15,119] Trial 252 finished with value: 0.2642070244828284 and parameters: {'n_clusters': 30, 'linkage': 'average'}. Best is trial 221 with value: 0.4132380142081687.\n",
      "[I 2025-06-05 15:04:15,225] Trial 253 finished with value: -0.01636413492711718 and parameters: {'n_clusters': 139, 'linkage': 'single'}. Best is trial 221 with value: 0.4132380142081687.\n",
      "[I 2025-06-05 15:04:15,353] Trial 254 finished with value: 0.28530760276146017 and parameters: {'n_clusters': 108, 'linkage': 'average'}. Best is trial 221 with value: 0.4132380142081687.\n",
      "[I 2025-06-05 15:04:15,505] Trial 255 finished with value: 0.14209772018696545 and parameters: {'n_clusters': 41, 'linkage': 'single'}. Best is trial 221 with value: 0.4132380142081687.\n",
      "[I 2025-06-05 15:04:15,675] Trial 256 finished with value: 0.30745822310660487 and parameters: {'n_clusters': 142, 'linkage': 'average'}. Best is trial 221 with value: 0.4132380142081687.\n",
      "[I 2025-06-05 15:04:15,816] Trial 257 finished with value: 0.28586063128246203 and parameters: {'n_clusters': 33, 'linkage': 'complete'}. Best is trial 221 with value: 0.4132380142081687.\n",
      "[I 2025-06-05 15:04:15,944] Trial 258 finished with value: 0.2780906770446683 and parameters: {'n_clusters': 65, 'linkage': 'average'}. Best is trial 221 with value: 0.4132380142081687.\n",
      "[I 2025-06-05 15:04:16,067] Trial 259 finished with value: 0.2735143253361157 and parameters: {'n_clusters': 61, 'linkage': 'average'}. Best is trial 221 with value: 0.4132380142081687.\n",
      "[I 2025-06-05 15:04:16,189] Trial 260 finished with value: 0.3789428529671359 and parameters: {'n_clusters': 126, 'linkage': 'ward'}. Best is trial 221 with value: 0.4132380142081687.\n",
      "[I 2025-06-05 15:04:16,313] Trial 261 finished with value: 0.29797177834135263 and parameters: {'n_clusters': 88, 'linkage': 'complete'}. Best is trial 221 with value: 0.4132380142081687.\n",
      "[I 2025-06-05 15:04:16,431] Trial 262 finished with value: 0.32036816824249514 and parameters: {'n_clusters': 145, 'linkage': 'complete'}. Best is trial 221 with value: 0.4132380142081687.\n",
      "[I 2025-06-05 15:04:16,550] Trial 263 finished with value: 0.25357763727970034 and parameters: {'n_clusters': 34, 'linkage': 'average'}. Best is trial 221 with value: 0.4132380142081687.\n",
      "[I 2025-06-05 15:04:16,657] Trial 264 finished with value: 0.3718905347852092 and parameters: {'n_clusters': 116, 'linkage': 'ward'}. Best is trial 221 with value: 0.4132380142081687.\n",
      "[I 2025-06-05 15:04:16,765] Trial 265 finished with value: 0.28026861712281803 and parameters: {'n_clusters': 121, 'linkage': 'complete'}. Best is trial 221 with value: 0.4132380142081687.\n",
      "[I 2025-06-05 15:04:16,889] Trial 266 finished with value: 0.3296859445625673 and parameters: {'n_clusters': 73, 'linkage': 'ward'}. Best is trial 221 with value: 0.4132380142081687.\n",
      "[I 2025-06-05 15:04:17,001] Trial 267 finished with value: 0.36898201296675925 and parameters: {'n_clusters': 115, 'linkage': 'ward'}. Best is trial 221 with value: 0.4132380142081687.\n",
      "[I 2025-06-05 15:04:17,120] Trial 268 finished with value: 0.2699874680861167 and parameters: {'n_clusters': 111, 'linkage': 'complete'}. Best is trial 221 with value: 0.4132380142081687.\n",
      "[I 2025-06-05 15:04:17,242] Trial 269 finished with value: 0.01969142573516662 and parameters: {'n_clusters': 121, 'linkage': 'single'}. Best is trial 221 with value: 0.4132380142081687.\n",
      "[I 2025-06-05 15:04:17,383] Trial 270 finished with value: 0.06744157827305576 and parameters: {'n_clusters': 57, 'linkage': 'single'}. Best is trial 221 with value: 0.4132380142081687.\n",
      "[I 2025-06-05 15:04:17,513] Trial 271 finished with value: 0.24685086779586776 and parameters: {'n_clusters': 62, 'linkage': 'complete'}. Best is trial 221 with value: 0.4132380142081687.\n",
      "[I 2025-06-05 15:04:17,660] Trial 272 finished with value: 0.36058359040711657 and parameters: {'n_clusters': 103, 'linkage': 'ward'}. Best is trial 221 with value: 0.4132380142081687.\n",
      "[I 2025-06-05 15:04:17,779] Trial 273 finished with value: 0.04295895591778154 and parameters: {'n_clusters': 93, 'linkage': 'single'}. Best is trial 221 with value: 0.4132380142081687.\n",
      "[I 2025-06-05 15:04:17,901] Trial 274 finished with value: 0.28589680364834913 and parameters: {'n_clusters': 78, 'linkage': 'complete'}. Best is trial 221 with value: 0.4132380142081687.\n",
      "[I 2025-06-05 15:04:18,013] Trial 275 finished with value: 0.0791375919284181 and parameters: {'n_clusters': 69, 'linkage': 'single'}. Best is trial 221 with value: 0.4132380142081687.\n",
      "[I 2025-06-05 15:04:18,128] Trial 276 finished with value: 0.27418285340451576 and parameters: {'n_clusters': 68, 'linkage': 'average'}. Best is trial 221 with value: 0.4132380142081687.\n",
      "[I 2025-06-05 15:04:18,248] Trial 277 finished with value: 0.3776473677282272 and parameters: {'n_clusters': 15, 'linkage': 'average'}. Best is trial 221 with value: 0.4132380142081687.\n",
      "[I 2025-06-05 15:04:18,367] Trial 278 finished with value: 0.3181366310136809 and parameters: {'n_clusters': 20, 'linkage': 'average'}. Best is trial 221 with value: 0.4132380142081687.\n",
      "[I 2025-06-05 15:04:18,484] Trial 279 finished with value: 0.3102787782652465 and parameters: {'n_clusters': 49, 'linkage': 'ward'}. Best is trial 221 with value: 0.4132380142081687.\n",
      "[I 2025-06-05 15:04:18,590] Trial 280 finished with value: -0.0038676256161721224 and parameters: {'n_clusters': 104, 'linkage': 'single'}. Best is trial 221 with value: 0.4132380142081687.\n",
      "[I 2025-06-05 15:04:18,719] Trial 281 finished with value: 0.2582110321901034 and parameters: {'n_clusters': 69, 'linkage': 'complete'}. Best is trial 221 with value: 0.4132380142081687.\n",
      "[I 2025-06-05 15:04:18,841] Trial 282 finished with value: 0.29134487518384716 and parameters: {'n_clusters': 123, 'linkage': 'average'}. Best is trial 221 with value: 0.4132380142081687.\n",
      "[I 2025-06-05 15:04:18,961] Trial 283 finished with value: 0.26203897370567764 and parameters: {'n_clusters': 46, 'linkage': 'complete'}. Best is trial 221 with value: 0.4132380142081687.\n",
      "[I 2025-06-05 15:04:19,079] Trial 284 finished with value: 0.045846791408907434 and parameters: {'n_clusters': 77, 'linkage': 'single'}. Best is trial 221 with value: 0.4132380142081687.\n",
      "[I 2025-06-05 15:04:19,212] Trial 285 finished with value: 0.250099548377761 and parameters: {'n_clusters': 12, 'linkage': 'ward'}. Best is trial 221 with value: 0.4132380142081687.\n",
      "[I 2025-06-05 15:04:19,387] Trial 286 finished with value: 0.28866214873477164 and parameters: {'n_clusters': 91, 'linkage': 'average'}. Best is trial 221 with value: 0.4132380142081687.\n",
      "[I 2025-06-05 15:04:19,566] Trial 287 finished with value: 0.01334476933122949 and parameters: {'n_clusters': 116, 'linkage': 'single'}. Best is trial 221 with value: 0.4132380142081687.\n",
      "[I 2025-06-05 15:04:19,762] Trial 288 finished with value: 0.3783647427857506 and parameters: {'n_clusters': 16, 'linkage': 'average'}. Best is trial 221 with value: 0.4132380142081687.\n",
      "[I 2025-06-05 15:04:19,951] Trial 289 finished with value: 0.28419705343048596 and parameters: {'n_clusters': 19, 'linkage': 'complete'}. Best is trial 221 with value: 0.4132380142081687.\n",
      "[I 2025-06-05 15:04:20,136] Trial 290 finished with value: 0.2786126253298907 and parameters: {'n_clusters': 111, 'linkage': 'average'}. Best is trial 221 with value: 0.4132380142081687.\n",
      "[I 2025-06-05 15:04:20,308] Trial 291 finished with value: 0.2487033615346433 and parameters: {'n_clusters': 60, 'linkage': 'complete'}. Best is trial 221 with value: 0.4132380142081687.\n",
      "[I 2025-06-05 15:04:20,469] Trial 292 finished with value: 0.305815667346625 and parameters: {'n_clusters': 10, 'linkage': 'single'}. Best is trial 221 with value: 0.4132380142081687.\n",
      "[I 2025-06-05 15:04:20,631] Trial 293 finished with value: 0.3753970955289718 and parameters: {'n_clusters': 124, 'linkage': 'ward'}. Best is trial 221 with value: 0.4132380142081687.\n",
      "[I 2025-06-05 15:04:20,799] Trial 294 finished with value: 0.2378140124401448 and parameters: {'n_clusters': 29, 'linkage': 'complete'}. Best is trial 221 with value: 0.4132380142081687.\n",
      "[I 2025-06-05 15:04:20,931] Trial 295 finished with value: 0.04959636302325839 and parameters: {'n_clusters': 63, 'linkage': 'single'}. Best is trial 221 with value: 0.4132380142081687.\n",
      "[I 2025-06-05 15:04:21,063] Trial 296 finished with value: 0.2224660328904179 and parameters: {'n_clusters': 46, 'linkage': 'average'}. Best is trial 221 with value: 0.4132380142081687.\n",
      "[I 2025-06-05 15:04:21,193] Trial 297 finished with value: 0.10378510131080519 and parameters: {'n_clusters': 67, 'linkage': 'single'}. Best is trial 221 with value: 0.4132380142081687.\n",
      "[I 2025-06-05 15:04:21,336] Trial 298 finished with value: 0.24567421839197412 and parameters: {'n_clusters': 38, 'linkage': 'average'}. Best is trial 221 with value: 0.4132380142081687.\n",
      "[I 2025-06-05 15:04:21,475] Trial 299 finished with value: 0.28295331040821614 and parameters: {'n_clusters': 83, 'linkage': 'complete'}. Best is trial 221 with value: 0.4132380142081687.\n",
      "[I 2025-06-05 15:04:21,608] Trial 300 finished with value: 0.17003557335605127 and parameters: {'n_clusters': 36, 'linkage': 'single'}. Best is trial 221 with value: 0.4132380142081687.\n",
      "[I 2025-06-05 15:04:21,750] Trial 301 finished with value: 0.2998027789444064 and parameters: {'n_clusters': 92, 'linkage': 'complete'}. Best is trial 221 with value: 0.4132380142081687.\n",
      "[I 2025-06-05 15:04:21,883] Trial 302 finished with value: 0.28479478040357165 and parameters: {'n_clusters': 81, 'linkage': 'complete'}. Best is trial 221 with value: 0.4132380142081687.\n",
      "[I 2025-06-05 15:04:22,017] Trial 303 finished with value: 0.3840392119187828 and parameters: {'n_clusters': 146, 'linkage': 'ward'}. Best is trial 221 with value: 0.4132380142081687.\n",
      "[I 2025-06-05 15:04:22,139] Trial 304 finished with value: 0.008417960500866408 and parameters: {'n_clusters': 134, 'linkage': 'single'}. Best is trial 221 with value: 0.4132380142081687.\n",
      "[I 2025-06-05 15:04:22,266] Trial 305 finished with value: 0.2909068872407576 and parameters: {'n_clusters': 124, 'linkage': 'average'}. Best is trial 221 with value: 0.4132380142081687.\n",
      "[I 2025-06-05 15:04:22,393] Trial 306 finished with value: 0.28420536600712637 and parameters: {'n_clusters': 80, 'linkage': 'complete'}. Best is trial 221 with value: 0.4132380142081687.\n",
      "[I 2025-06-05 15:04:22,516] Trial 307 finished with value: 0.260386352158018 and parameters: {'n_clusters': 45, 'linkage': 'complete'}. Best is trial 221 with value: 0.4132380142081687.\n",
      "[I 2025-06-05 15:04:22,638] Trial 308 finished with value: 0.07152656562351974 and parameters: {'n_clusters': 70, 'linkage': 'single'}. Best is trial 221 with value: 0.4132380142081687.\n",
      "[I 2025-06-05 15:04:22,781] Trial 309 finished with value: 0.2891041309604543 and parameters: {'n_clusters': 29, 'linkage': 'single'}. Best is trial 221 with value: 0.4132380142081687.\n",
      "[I 2025-06-05 15:04:22,919] Trial 310 finished with value: 0.28959625349449236 and parameters: {'n_clusters': 125, 'linkage': 'average'}. Best is trial 221 with value: 0.4132380142081687.\n",
      "[I 2025-06-05 15:04:23,068] Trial 311 finished with value: 0.28271306169505755 and parameters: {'n_clusters': 102, 'linkage': 'average'}. Best is trial 221 with value: 0.4132380142081687.\n",
      "[I 2025-06-05 15:04:23,199] Trial 312 finished with value: 0.3820279703506534 and parameters: {'n_clusters': 143, 'linkage': 'ward'}. Best is trial 221 with value: 0.4132380142081687.\n",
      "[I 2025-06-05 15:04:23,327] Trial 313 finished with value: 0.3051225853090707 and parameters: {'n_clusters': 43, 'linkage': 'ward'}. Best is trial 221 with value: 0.4132380142081687.\n",
      "[I 2025-06-05 15:04:23,462] Trial 314 finished with value: 0.3586788744319962 and parameters: {'n_clusters': 98, 'linkage': 'ward'}. Best is trial 221 with value: 0.4132380142081687.\n",
      "[I 2025-06-05 15:04:23,597] Trial 315 finished with value: 0.2263252399884096 and parameters: {'n_clusters': 20, 'linkage': 'complete'}. Best is trial 221 with value: 0.4132380142081687.\n",
      "[I 2025-06-05 15:04:23,731] Trial 316 finished with value: 0.3207039879238033 and parameters: {'n_clusters': 54, 'linkage': 'ward'}. Best is trial 221 with value: 0.4132380142081687.\n",
      "[I 2025-06-05 15:04:23,867] Trial 317 finished with value: 0.3250306701847747 and parameters: {'n_clusters': 71, 'linkage': 'ward'}. Best is trial 221 with value: 0.4132380142081687.\n",
      "[I 2025-06-05 15:04:24,000] Trial 318 finished with value: 0.2746319566267457 and parameters: {'n_clusters': 69, 'linkage': 'average'}. Best is trial 221 with value: 0.4132380142081687.\n",
      "[I 2025-06-05 15:04:24,132] Trial 319 finished with value: 0.2505699325296951 and parameters: {'n_clusters': 67, 'linkage': 'complete'}. Best is trial 221 with value: 0.4132380142081687.\n",
      "[I 2025-06-05 15:04:24,271] Trial 320 finished with value: -0.002007821512736473 and parameters: {'n_clusters': 137, 'linkage': 'single'}. Best is trial 221 with value: 0.4132380142081687.\n",
      "[I 2025-06-05 15:04:24,407] Trial 321 finished with value: 0.27555130223218127 and parameters: {'n_clusters': 106, 'linkage': 'complete'}. Best is trial 221 with value: 0.4132380142081687.\n",
      "[I 2025-06-05 15:04:24,536] Trial 322 finished with value: 0.04016708447274457 and parameters: {'n_clusters': 92, 'linkage': 'single'}. Best is trial 221 with value: 0.4132380142081687.\n",
      "[I 2025-06-05 15:04:24,678] Trial 323 finished with value: 0.30280520280205675 and parameters: {'n_clusters': 88, 'linkage': 'average'}. Best is trial 221 with value: 0.4132380142081687.\n",
      "[I 2025-06-05 15:04:24,821] Trial 324 finished with value: 0.2412609481097384 and parameters: {'n_clusters': 32, 'linkage': 'complete'}. Best is trial 221 with value: 0.4132380142081687.\n",
      "[I 2025-06-05 15:04:24,952] Trial 325 finished with value: 0.2212753776689164 and parameters: {'n_clusters': 27, 'linkage': 'complete'}. Best is trial 221 with value: 0.4132380142081687.\n",
      "[I 2025-06-05 15:04:25,080] Trial 326 finished with value: 0.34772900524973444 and parameters: {'n_clusters': 83, 'linkage': 'ward'}. Best is trial 221 with value: 0.4132380142081687.\n",
      "[I 2025-06-05 15:04:25,214] Trial 327 finished with value: 0.22139709491120121 and parameters: {'n_clusters': 25, 'linkage': 'complete'}. Best is trial 221 with value: 0.4132380142081687.\n",
      "[I 2025-06-05 15:04:25,345] Trial 328 finished with value: 0.30993275970673917 and parameters: {'n_clusters': 45, 'linkage': 'ward'}. Best is trial 221 with value: 0.4132380142081687.\n",
      "[I 2025-06-05 15:04:25,477] Trial 329 finished with value: 0.29760468662464035 and parameters: {'n_clusters': 87, 'linkage': 'complete'}. Best is trial 221 with value: 0.4132380142081687.\n",
      "[I 2025-06-05 15:04:25,613] Trial 330 finished with value: 0.3060829826793882 and parameters: {'n_clusters': 39, 'linkage': 'ward'}. Best is trial 221 with value: 0.4132380142081687.\n",
      "[I 2025-06-05 15:04:25,760] Trial 331 finished with value: 0.16988429181072345 and parameters: {'n_clusters': 37, 'linkage': 'single'}. Best is trial 221 with value: 0.4132380142081687.\n",
      "[I 2025-06-05 15:04:25,900] Trial 332 finished with value: 0.34270530211251515 and parameters: {'n_clusters': 15, 'linkage': 'single'}. Best is trial 221 with value: 0.4132380142081687.\n",
      "[I 2025-06-05 15:04:26,039] Trial 333 finished with value: 0.26386583138661407 and parameters: {'n_clusters': 22, 'linkage': 'single'}. Best is trial 221 with value: 0.4132380142081687.\n",
      "[I 2025-06-05 15:04:26,181] Trial 334 finished with value: 0.2807498668658463 and parameters: {'n_clusters': 39, 'linkage': 'complete'}. Best is trial 221 with value: 0.4132380142081687.\n",
      "[I 2025-06-05 15:04:26,332] Trial 335 finished with value: 0.027291693345952255 and parameters: {'n_clusters': 125, 'linkage': 'single'}. Best is trial 221 with value: 0.4132380142081687.\n",
      "[I 2025-06-05 15:04:26,483] Trial 336 finished with value: 0.30301326120424166 and parameters: {'n_clusters': 87, 'linkage': 'average'}. Best is trial 221 with value: 0.4132380142081687.\n",
      "[I 2025-06-05 15:04:26,630] Trial 337 finished with value: 0.30441889754029006 and parameters: {'n_clusters': 37, 'linkage': 'ward'}. Best is trial 221 with value: 0.4132380142081687.\n",
      "[I 2025-06-05 15:04:26,769] Trial 338 finished with value: 0.32536819748379703 and parameters: {'n_clusters': 147, 'linkage': 'complete'}. Best is trial 221 with value: 0.4132380142081687.\n",
      "[I 2025-06-05 15:04:26,914] Trial 339 finished with value: 0.2975485339571707 and parameters: {'n_clusters': 94, 'linkage': 'complete'}. Best is trial 221 with value: 0.4132380142081687.\n",
      "[I 2025-06-05 15:04:27,048] Trial 340 finished with value: 0.30472210384012743 and parameters: {'n_clusters': 26, 'linkage': 'average'}. Best is trial 221 with value: 0.4132380142081687.\n",
      "[I 2025-06-05 15:04:27,169] Trial 341 finished with value: 0.053085505940144544 and parameters: {'n_clusters': 66, 'linkage': 'single'}. Best is trial 221 with value: 0.4132380142081687.\n",
      "[I 2025-06-05 15:04:27,296] Trial 342 finished with value: 0.2681478855962869 and parameters: {'n_clusters': 19, 'linkage': 'single'}. Best is trial 221 with value: 0.4132380142081687.\n",
      "[I 2025-06-05 15:04:27,432] Trial 343 finished with value: 0.3853720511816711 and parameters: {'n_clusters': 148, 'linkage': 'ward'}. Best is trial 221 with value: 0.4132380142081687.\n",
      "[I 2025-06-05 15:04:27,557] Trial 344 finished with value: 0.3087588068838682 and parameters: {'n_clusters': 82, 'linkage': 'average'}. Best is trial 221 with value: 0.4132380142081687.\n",
      "[I 2025-06-05 15:04:27,683] Trial 345 finished with value: 0.3677186848366882 and parameters: {'n_clusters': 114, 'linkage': 'ward'}. Best is trial 221 with value: 0.4132380142081687.\n",
      "[I 2025-06-05 15:04:27,807] Trial 346 finished with value: 0.22407620843041598 and parameters: {'n_clusters': 24, 'linkage': 'single'}. Best is trial 221 with value: 0.4132380142081687.\n",
      "[I 2025-06-05 15:04:27,944] Trial 347 finished with value: 0.15995606785836086 and parameters: {'n_clusters': 39, 'linkage': 'single'}. Best is trial 221 with value: 0.4132380142081687.\n",
      "[I 2025-06-05 15:04:28,078] Trial 348 finished with value: 0.22454985725302362 and parameters: {'n_clusters': 26, 'linkage': 'single'}. Best is trial 221 with value: 0.4132380142081687.\n",
      "[I 2025-06-05 15:04:28,229] Trial 349 finished with value: 0.3005313921852111 and parameters: {'n_clusters': 85, 'linkage': 'average'}. Best is trial 221 with value: 0.4132380142081687.\n",
      "[I 2025-06-05 15:04:28,376] Trial 350 finished with value: 0.06738518042777644 and parameters: {'n_clusters': 72, 'linkage': 'single'}. Best is trial 221 with value: 0.4132380142081687.\n",
      "[I 2025-06-05 15:04:28,524] Trial 351 finished with value: 0.2741277891520703 and parameters: {'n_clusters': 59, 'linkage': 'average'}. Best is trial 221 with value: 0.4132380142081687.\n",
      "[I 2025-06-05 15:04:28,666] Trial 352 finished with value: 0.30067897053852255 and parameters: {'n_clusters': 84, 'linkage': 'average'}. Best is trial 221 with value: 0.4132380142081687.\n",
      "[I 2025-06-05 15:04:28,795] Trial 353 finished with value: 0.0043610194305885135 and parameters: {'n_clusters': 108, 'linkage': 'single'}. Best is trial 221 with value: 0.4132380142081687.\n",
      "[I 2025-06-05 15:04:28,933] Trial 354 finished with value: 0.27557433951791266 and parameters: {'n_clusters': 74, 'linkage': 'average'}. Best is trial 221 with value: 0.4132380142081687.\n",
      "[I 2025-06-05 15:04:29,076] Trial 355 finished with value: 0.2789079071732679 and parameters: {'n_clusters': 104, 'linkage': 'average'}. Best is trial 221 with value: 0.4132380142081687.\n",
      "[I 2025-06-05 15:04:29,218] Trial 356 finished with value: 0.30200590688323037 and parameters: {'n_clusters': 129, 'linkage': 'average'}. Best is trial 221 with value: 0.4132380142081687.\n",
      "[I 2025-06-05 15:04:29,395] Trial 357 finished with value: 0.3378593280298283 and parameters: {'n_clusters': 77, 'linkage': 'ward'}. Best is trial 221 with value: 0.4132380142081687.\n",
      "[I 2025-06-05 15:04:29,569] Trial 358 finished with value: 0.2991176399219462 and parameters: {'n_clusters': 34, 'linkage': 'ward'}. Best is trial 221 with value: 0.4132380142081687.\n",
      "[I 2025-06-05 15:04:29,742] Trial 359 finished with value: 0.30323726586951705 and parameters: {'n_clusters': 86, 'linkage': 'average'}. Best is trial 221 with value: 0.4132380142081687.\n",
      "[I 2025-06-05 15:04:29,895] Trial 360 finished with value: 0.23288170526832402 and parameters: {'n_clusters': 30, 'linkage': 'complete'}. Best is trial 221 with value: 0.4132380142081687.\n",
      "[I 2025-06-05 15:04:30,054] Trial 361 finished with value: 0.2888621427367991 and parameters: {'n_clusters': 93, 'linkage': 'average'}. Best is trial 221 with value: 0.4132380142081687.\n",
      "[I 2025-06-05 15:04:30,218] Trial 362 finished with value: 0.38124652389129754 and parameters: {'n_clusters': 139, 'linkage': 'ward'}. Best is trial 221 with value: 0.4132380142081687.\n",
      "[I 2025-06-05 15:04:30,368] Trial 363 finished with value: 0.04916904174557648 and parameters: {'n_clusters': 64, 'linkage': 'single'}. Best is trial 221 with value: 0.4132380142081687.\n",
      "[I 2025-06-05 15:04:30,520] Trial 364 finished with value: 0.37556702878922615 and parameters: {'n_clusters': 121, 'linkage': 'ward'}. Best is trial 221 with value: 0.4132380142081687.\n",
      "[I 2025-06-05 15:04:30,665] Trial 365 finished with value: 0.25521276816250577 and parameters: {'n_clusters': 36, 'linkage': 'average'}. Best is trial 221 with value: 0.4132380142081687.\n",
      "[I 2025-06-05 15:04:30,814] Trial 366 finished with value: 0.30653020169426254 and parameters: {'n_clusters': 137, 'linkage': 'average'}. Best is trial 221 with value: 0.4132380142081687.\n",
      "[I 2025-06-05 15:04:30,955] Trial 367 finished with value: 0.04482408653229333 and parameters: {'n_clusters': 83, 'linkage': 'single'}. Best is trial 221 with value: 0.4132380142081687.\n",
      "[I 2025-06-05 15:04:31,112] Trial 368 finished with value: 0.3119266264068456 and parameters: {'n_clusters': 50, 'linkage': 'ward'}. Best is trial 221 with value: 0.4132380142081687.\n",
      "[I 2025-06-05 15:04:31,279] Trial 369 finished with value: 0.3064271996683222 and parameters: {'n_clusters': 144, 'linkage': 'average'}. Best is trial 221 with value: 0.4132380142081687.\n",
      "[I 2025-06-05 15:04:31,433] Trial 370 finished with value: 0.05783258295696378 and parameters: {'n_clusters': 60, 'linkage': 'single'}. Best is trial 221 with value: 0.4132380142081687.\n",
      "[I 2025-06-05 15:04:31,595] Trial 371 finished with value: 0.35713450119980333 and parameters: {'n_clusters': 89, 'linkage': 'ward'}. Best is trial 221 with value: 0.4132380142081687.\n",
      "[I 2025-06-05 15:04:31,791] Trial 372 finished with value: 0.2777840512844636 and parameters: {'n_clusters': 120, 'linkage': 'complete'}. Best is trial 221 with value: 0.4132380142081687.\n",
      "[I 2025-06-05 15:04:31,996] Trial 373 finished with value: 0.28550586798641064 and parameters: {'n_clusters': 122, 'linkage': 'complete'}. Best is trial 221 with value: 0.4132380142081687.\n",
      "[I 2025-06-05 15:04:32,203] Trial 374 finished with value: 0.2513092069222509 and parameters: {'n_clusters': 57, 'linkage': 'complete'}. Best is trial 221 with value: 0.4132380142081687.\n",
      "[I 2025-06-05 15:04:32,385] Trial 375 finished with value: 0.2738972273427558 and parameters: {'n_clusters': 23, 'linkage': 'ward'}. Best is trial 221 with value: 0.4132380142081687.\n",
      "[I 2025-06-05 15:04:32,549] Trial 376 finished with value: 0.27793810377862266 and parameters: {'n_clusters': 17, 'linkage': 'complete'}. Best is trial 221 with value: 0.4132380142081687.\n",
      "[I 2025-06-05 15:04:32,714] Trial 377 finished with value: 0.25627132679517356 and parameters: {'n_clusters': 56, 'linkage': 'complete'}. Best is trial 221 with value: 0.4132380142081687.\n",
      "[I 2025-06-05 15:04:32,870] Trial 378 finished with value: 0.378046629067679 and parameters: {'n_clusters': 131, 'linkage': 'ward'}. Best is trial 221 with value: 0.4132380142081687.\n",
      "[I 2025-06-05 15:04:33,020] Trial 379 finished with value: 0.29220737401390623 and parameters: {'n_clusters': 121, 'linkage': 'average'}. Best is trial 221 with value: 0.4132380142081687.\n",
      "[I 2025-06-05 15:04:33,168] Trial 380 finished with value: 0.28829424993173447 and parameters: {'n_clusters': 98, 'linkage': 'average'}. Best is trial 221 with value: 0.4132380142081687.\n",
      "[I 2025-06-05 15:04:33,307] Trial 381 finished with value: 0.22359901360471277 and parameters: {'n_clusters': 25, 'linkage': 'single'}. Best is trial 221 with value: 0.4132380142081687.\n",
      "[I 2025-06-05 15:04:33,456] Trial 382 finished with value: 0.2605861532258066 and parameters: {'n_clusters': 31, 'linkage': 'average'}. Best is trial 221 with value: 0.4132380142081687.\n",
      "[I 2025-06-05 15:04:33,625] Trial 383 finished with value: 0.36055163257471057 and parameters: {'n_clusters': 93, 'linkage': 'ward'}. Best is trial 221 with value: 0.4132380142081687.\n",
      "[I 2025-06-05 15:04:33,813] Trial 384 finished with value: 0.3792976351778236 and parameters: {'n_clusters': 127, 'linkage': 'ward'}. Best is trial 221 with value: 0.4132380142081687.\n",
      "[I 2025-06-05 15:04:34,027] Trial 385 finished with value: 0.2821619299247168 and parameters: {'n_clusters': 104, 'linkage': 'complete'}. Best is trial 221 with value: 0.4132380142081687.\n",
      "[I 2025-06-05 15:04:34,241] Trial 386 finished with value: 0.2899688500042098 and parameters: {'n_clusters': 125, 'linkage': 'complete'}. Best is trial 221 with value: 0.4132380142081687.\n",
      "[I 2025-06-05 15:04:34,445] Trial 387 finished with value: 0.3019507069216022 and parameters: {'n_clusters': 35, 'linkage': 'ward'}. Best is trial 221 with value: 0.4132380142081687.\n",
      "[I 2025-06-05 15:04:34,681] Trial 388 finished with value: 0.37566939711644287 and parameters: {'n_clusters': 120, 'linkage': 'ward'}. Best is trial 221 with value: 0.4132380142081687.\n",
      "[I 2025-06-05 15:04:34,877] Trial 389 finished with value: 0.3321973286470955 and parameters: {'n_clusters': 19, 'linkage': 'average'}. Best is trial 221 with value: 0.4132380142081687.\n",
      "[I 2025-06-05 15:04:35,044] Trial 390 finished with value: 0.31662883369140277 and parameters: {'n_clusters': 22, 'linkage': 'average'}. Best is trial 221 with value: 0.4132380142081687.\n",
      "[I 2025-06-05 15:04:35,196] Trial 391 finished with value: 0.285985096838367 and parameters: {'n_clusters': 26, 'linkage': 'ward'}. Best is trial 221 with value: 0.4132380142081687.\n",
      "[I 2025-06-05 15:04:35,347] Trial 392 finished with value: 0.3486137193956563 and parameters: {'n_clusters': 12, 'linkage': 'single'}. Best is trial 221 with value: 0.4132380142081687.\n",
      "[I 2025-06-05 15:04:35,488] Trial 393 finished with value: 0.24709460971072641 and parameters: {'n_clusters': 61, 'linkage': 'complete'}. Best is trial 221 with value: 0.4132380142081687.\n",
      "[I 2025-06-05 15:04:35,631] Trial 394 finished with value: 0.3735196821254308 and parameters: {'n_clusters': 119, 'linkage': 'ward'}. Best is trial 221 with value: 0.4132380142081687.\n",
      "[I 2025-06-05 15:04:35,774] Trial 395 finished with value: 0.10554400417037343 and parameters: {'n_clusters': 46, 'linkage': 'single'}. Best is trial 221 with value: 0.4132380142081687.\n",
      "[I 2025-06-05 15:04:35,940] Trial 396 finished with value: 0.22604615787260568 and parameters: {'n_clusters': 27, 'linkage': 'single'}. Best is trial 221 with value: 0.4132380142081687.\n",
      "[I 2025-06-05 15:04:36,135] Trial 397 finished with value: 0.38229342118800197 and parameters: {'n_clusters': 149, 'linkage': 'ward'}. Best is trial 221 with value: 0.4132380142081687.\n",
      "[I 2025-06-05 15:04:36,328] Trial 398 finished with value: 0.2859822789626388 and parameters: {'n_clusters': 107, 'linkage': 'average'}. Best is trial 221 with value: 0.4132380142081687.\n",
      "[I 2025-06-05 15:04:36,497] Trial 399 finished with value: 0.30161019555040897 and parameters: {'n_clusters': 130, 'linkage': 'average'}. Best is trial 221 with value: 0.4132380142081687.\n",
      "[I 2025-06-05 15:04:36,658] Trial 400 finished with value: 0.2850374612166413 and parameters: {'n_clusters': 82, 'linkage': 'complete'}. Best is trial 221 with value: 0.4132380142081687.\n",
      "[I 2025-06-05 15:04:36,808] Trial 401 finished with value: 0.2477591911779726 and parameters: {'n_clusters': 33, 'linkage': 'single'}. Best is trial 221 with value: 0.4132380142081687.\n",
      "[I 2025-06-05 15:04:36,977] Trial 402 finished with value: 0.261843567562434 and parameters: {'n_clusters': 47, 'linkage': 'complete'}. Best is trial 221 with value: 0.4132380142081687.\n",
      "[I 2025-06-05 15:04:37,165] Trial 403 finished with value: 0.2542570952056914 and parameters: {'n_clusters': 53, 'linkage': 'complete'}. Best is trial 221 with value: 0.4132380142081687.\n",
      "[I 2025-06-05 15:04:37,332] Trial 404 finished with value: 0.04297212247258276 and parameters: {'n_clusters': 91, 'linkage': 'single'}. Best is trial 221 with value: 0.4132380142081687.\n",
      "[I 2025-06-05 15:04:37,493] Trial 405 finished with value: 0.2781338576439915 and parameters: {'n_clusters': 118, 'linkage': 'average'}. Best is trial 221 with value: 0.4132380142081687.\n",
      "[I 2025-06-05 15:04:37,658] Trial 406 finished with value: 0.32058139272586567 and parameters: {'n_clusters': 139, 'linkage': 'complete'}. Best is trial 221 with value: 0.4132380142081687.\n",
      "[I 2025-06-05 15:04:37,815] Trial 407 finished with value: 0.06648603335174262 and parameters: {'n_clusters': 73, 'linkage': 'single'}. Best is trial 221 with value: 0.4132380142081687.\n",
      "[I 2025-06-05 15:04:37,994] Trial 408 finished with value: 0.29328325936491884 and parameters: {'n_clusters': 29, 'linkage': 'ward'}. Best is trial 221 with value: 0.4132380142081687.\n",
      "[I 2025-06-05 15:04:38,158] Trial 409 finished with value: 0.24413526103375563 and parameters: {'n_clusters': 58, 'linkage': 'complete'}. Best is trial 221 with value: 0.4132380142081687.\n",
      "[I 2025-06-05 15:04:38,318] Trial 410 finished with value: 0.2212808984678419 and parameters: {'n_clusters': 26, 'linkage': 'complete'}. Best is trial 221 with value: 0.4132380142081687.\n",
      "[I 2025-06-05 15:04:38,473] Trial 411 finished with value: 0.05868906472696564 and parameters: {'n_clusters': 59, 'linkage': 'single'}. Best is trial 221 with value: 0.4132380142081687.\n",
      "[I 2025-06-05 15:04:38,678] Trial 412 finished with value: 0.3076093268654621 and parameters: {'n_clusters': 139, 'linkage': 'average'}. Best is trial 221 with value: 0.4132380142081687.\n",
      "[I 2025-06-05 15:04:38,896] Trial 413 finished with value: 0.2997131449055785 and parameters: {'n_clusters': 93, 'linkage': 'complete'}. Best is trial 221 with value: 0.4132380142081687.\n",
      "[I 2025-06-05 15:04:39,076] Trial 414 finished with value: 0.288539245991584 and parameters: {'n_clusters': 96, 'linkage': 'average'}. Best is trial 221 with value: 0.4132380142081687.\n",
      "[I 2025-06-05 15:04:39,230] Trial 415 finished with value: 0.06847808391819869 and parameters: {'n_clusters': 71, 'linkage': 'single'}. Best is trial 221 with value: 0.4132380142081687.\n",
      "[I 2025-06-05 15:04:39,386] Trial 416 finished with value: 0.2542016103371953 and parameters: {'n_clusters': 13, 'linkage': 'ward'}. Best is trial 221 with value: 0.4132380142081687.\n",
      "[I 2025-06-05 15:04:39,546] Trial 417 finished with value: 0.22350971320291 and parameters: {'n_clusters': 23, 'linkage': 'single'}. Best is trial 221 with value: 0.4132380142081687.\n",
      "[I 2025-06-05 15:04:39,733] Trial 418 finished with value: 0.381114980852314 and parameters: {'n_clusters': 135, 'linkage': 'ward'}. Best is trial 221 with value: 0.4132380142081687.\n",
      "[I 2025-06-05 15:04:39,931] Trial 419 finished with value: 0.29353286933703704 and parameters: {'n_clusters': 10, 'linkage': 'complete'}. Best is trial 221 with value: 0.4132380142081687.\n",
      "[I 2025-06-05 15:04:40,178] Trial 420 finished with value: 0.28354494163051847 and parameters: {'n_clusters': 16, 'linkage': 'complete'}. Best is trial 221 with value: 0.4132380142081687.\n",
      "[I 2025-06-05 15:04:40,422] Trial 421 finished with value: 0.3561550847505523 and parameters: {'n_clusters': 87, 'linkage': 'ward'}. Best is trial 221 with value: 0.4132380142081687.\n",
      "[I 2025-06-05 15:04:40,653] Trial 422 finished with value: 0.3045972128394027 and parameters: {'n_clusters': 54, 'linkage': 'average'}. Best is trial 221 with value: 0.4132380142081687.\n",
      "[I 2025-06-05 15:04:40,859] Trial 423 finished with value: 0.28233391004711794 and parameters: {'n_clusters': 101, 'linkage': 'complete'}. Best is trial 221 with value: 0.4132380142081687.\n",
      "[I 2025-06-05 15:04:41,040] Trial 424 finished with value: 0.05047952141191155 and parameters: {'n_clusters': 61, 'linkage': 'single'}. Best is trial 221 with value: 0.4132380142081687.\n",
      "[I 2025-06-05 15:04:41,204] Trial 425 finished with value: -0.015042513745746482 and parameters: {'n_clusters': 138, 'linkage': 'single'}. Best is trial 221 with value: 0.4132380142081687.\n",
      "[I 2025-06-05 15:04:41,385] Trial 426 finished with value: 0.3053237075465458 and parameters: {'n_clusters': 145, 'linkage': 'average'}. Best is trial 221 with value: 0.4132380142081687.\n",
      "[I 2025-06-05 15:04:41,584] Trial 427 finished with value: 0.22171780555699402 and parameters: {'n_clusters': 24, 'linkage': 'complete'}. Best is trial 221 with value: 0.4132380142081687.\n",
      "[I 2025-06-05 15:04:41,774] Trial 428 finished with value: 0.012152833878304348 and parameters: {'n_clusters': 119, 'linkage': 'single'}. Best is trial 221 with value: 0.4132380142081687.\n",
      "[I 2025-06-05 15:04:41,961] Trial 429 finished with value: 0.3115973959840997 and parameters: {'n_clusters': 52, 'linkage': 'average'}. Best is trial 221 with value: 0.4132380142081687.\n",
      "[I 2025-06-05 15:04:42,143] Trial 430 finished with value: 0.3048873696067618 and parameters: {'n_clusters': 42, 'linkage': 'ward'}. Best is trial 221 with value: 0.4132380142081687.\n",
      "[I 2025-06-05 15:04:42,312] Trial 431 finished with value: 0.35863634019870383 and parameters: {'n_clusters': 90, 'linkage': 'ward'}. Best is trial 221 with value: 0.4132380142081687.\n",
      "[I 2025-06-05 15:04:42,464] Trial 432 finished with value: 0.2862000455584946 and parameters: {'n_clusters': 37, 'linkage': 'complete'}. Best is trial 221 with value: 0.4132380142081687.\n",
      "[I 2025-06-05 15:04:42,628] Trial 433 finished with value: 0.30293001035158357 and parameters: {'n_clusters': 128, 'linkage': 'average'}. Best is trial 221 with value: 0.4132380142081687.\n",
      "[I 2025-06-05 15:04:42,787] Trial 434 finished with value: 0.26894191104021037 and parameters: {'n_clusters': 21, 'linkage': 'ward'}. Best is trial 221 with value: 0.4132380142081687.\n",
      "[I 2025-06-05 15:04:42,946] Trial 435 finished with value: 0.3001344072345441 and parameters: {'n_clusters': 90, 'linkage': 'complete'}. Best is trial 221 with value: 0.4132380142081687.\n",
      "[I 2025-06-05 15:04:43,104] Trial 436 finished with value: 0.07803732230042867 and parameters: {'n_clusters': 52, 'linkage': 'single'}. Best is trial 221 with value: 0.4132380142081687.\n",
      "[I 2025-06-05 15:04:43,281] Trial 437 finished with value: 0.3601986370009605 and parameters: {'n_clusters': 96, 'linkage': 'ward'}. Best is trial 221 with value: 0.4132380142081687.\n",
      "[I 2025-06-05 15:04:43,460] Trial 438 finished with value: 0.3078450435888854 and parameters: {'n_clusters': 136, 'linkage': 'average'}. Best is trial 221 with value: 0.4132380142081687.\n",
      "[I 2025-06-05 15:04:43,673] Trial 439 finished with value: 0.31146444927866457 and parameters: {'n_clusters': 46, 'linkage': 'ward'}. Best is trial 221 with value: 0.4132380142081687.\n",
      "[I 2025-06-05 15:04:43,866] Trial 440 finished with value: 0.27520713896160337 and parameters: {'n_clusters': 63, 'linkage': 'average'}. Best is trial 221 with value: 0.4132380142081687.\n",
      "[I 2025-06-05 15:04:44,035] Trial 441 finished with value: 0.3237314825350754 and parameters: {'n_clusters': 68, 'linkage': 'ward'}. Best is trial 221 with value: 0.4132380142081687.\n",
      "[I 2025-06-05 15:04:44,248] Trial 442 finished with value: 0.3152320881434975 and parameters: {'n_clusters': 51, 'linkage': 'ward'}. Best is trial 221 with value: 0.4132380142081687.\n",
      "[I 2025-06-05 15:04:44,455] Trial 443 finished with value: 0.3087357881670132 and parameters: {'n_clusters': 140, 'linkage': 'average'}. Best is trial 221 with value: 0.4132380142081687.\n",
      "[I 2025-06-05 15:04:44,649] Trial 444 finished with value: 0.3222450417451033 and parameters: {'n_clusters': 141, 'linkage': 'complete'}. Best is trial 221 with value: 0.4132380142081687.\n",
      "[I 2025-06-05 15:04:44,842] Trial 445 finished with value: 0.32032250476233726 and parameters: {'n_clusters': 60, 'linkage': 'ward'}. Best is trial 221 with value: 0.4132380142081687.\n",
      "[I 2025-06-05 15:04:45,027] Trial 446 finished with value: 0.27514995960213634 and parameters: {'n_clusters': 79, 'linkage': 'average'}. Best is trial 221 with value: 0.4132380142081687.\n",
      "[I 2025-06-05 15:04:45,200] Trial 447 finished with value: 0.0430469177781423 and parameters: {'n_clusters': 87, 'linkage': 'single'}. Best is trial 221 with value: 0.4132380142081687.\n",
      "[I 2025-06-05 15:04:45,429] Trial 448 finished with value: 0.04391017515643577 and parameters: {'n_clusters': 86, 'linkage': 'single'}. Best is trial 221 with value: 0.4132380142081687.\n",
      "[I 2025-06-05 15:04:45,686] Trial 449 finished with value: -0.0002711662418063534 and parameters: {'n_clusters': 106, 'linkage': 'single'}. Best is trial 221 with value: 0.4132380142081687.\n",
      "[I 2025-06-05 15:04:45,931] Trial 450 finished with value: -0.004149329575610242 and parameters: {'n_clusters': 105, 'linkage': 'single'}. Best is trial 221 with value: 0.4132380142081687.\n",
      "[I 2025-06-05 15:04:46,152] Trial 451 finished with value: 0.37906391337176776 and parameters: {'n_clusters': 133, 'linkage': 'ward'}. Best is trial 221 with value: 0.4132380142081687.\n",
      "[I 2025-06-05 15:04:46,381] Trial 452 finished with value: 0.28834840758385594 and parameters: {'n_clusters': 92, 'linkage': 'average'}. Best is trial 221 with value: 0.4132380142081687.\n",
      "[I 2025-06-05 15:04:46,624] Trial 453 finished with value: 0.3226101815990476 and parameters: {'n_clusters': 149, 'linkage': 'complete'}. Best is trial 221 with value: 0.4132380142081687.\n",
      "[I 2025-06-05 15:04:46,893] Trial 454 finished with value: 0.32846521834815134 and parameters: {'n_clusters': 72, 'linkage': 'ward'}. Best is trial 221 with value: 0.4132380142081687.\n",
      "[I 2025-06-05 15:04:47,093] Trial 455 finished with value: -0.01874032988376507 and parameters: {'n_clusters': 143, 'linkage': 'single'}. Best is trial 221 with value: 0.4132380142081687.\n",
      "[I 2025-06-05 15:04:47,284] Trial 456 finished with value: 0.2752922554201307 and parameters: {'n_clusters': 107, 'linkage': 'complete'}. Best is trial 221 with value: 0.4132380142081687.\n",
      "[I 2025-06-05 15:04:47,486] Trial 457 finished with value: 0.38182672394136546 and parameters: {'n_clusters': 140, 'linkage': 'ward'}. Best is trial 221 with value: 0.4132380142081687.\n",
      "[I 2025-06-05 15:04:47,679] Trial 458 finished with value: 0.2855236045676614 and parameters: {'n_clusters': 57, 'linkage': 'average'}. Best is trial 221 with value: 0.4132380142081687.\n",
      "[I 2025-06-05 15:04:47,878] Trial 459 finished with value: 0.3029579676421303 and parameters: {'n_clusters': 33, 'linkage': 'ward'}. Best is trial 221 with value: 0.4132380142081687.\n",
      "[I 2025-06-05 15:04:48,065] Trial 460 finished with value: 0.08150233282945181 and parameters: {'n_clusters': 56, 'linkage': 'single'}. Best is trial 221 with value: 0.4132380142081687.\n",
      "[I 2025-06-05 15:04:48,275] Trial 461 finished with value: 0.045265281660739086 and parameters: {'n_clusters': 85, 'linkage': 'single'}. Best is trial 221 with value: 0.4132380142081687.\n",
      "[I 2025-06-05 15:04:48,486] Trial 462 finished with value: 0.32031000262146986 and parameters: {'n_clusters': 53, 'linkage': 'ward'}. Best is trial 221 with value: 0.4132380142081687.\n",
      "[I 2025-06-05 15:04:48,706] Trial 463 finished with value: 0.28315906821101744 and parameters: {'n_clusters': 100, 'linkage': 'complete'}. Best is trial 221 with value: 0.4132380142081687.\n",
      "[I 2025-06-05 15:04:48,943] Trial 464 finished with value: 0.28887766573280144 and parameters: {'n_clusters': 124, 'linkage': 'complete'}. Best is trial 221 with value: 0.4132380142081687.\n",
      "[I 2025-06-05 15:04:49,152] Trial 465 finished with value: 0.2603862451656501 and parameters: {'n_clusters': 10, 'linkage': 'ward'}. Best is trial 221 with value: 0.4132380142081687.\n",
      "[I 2025-06-05 15:04:49,374] Trial 466 finished with value: 0.2695590431291688 and parameters: {'n_clusters': 113, 'linkage': 'complete'}. Best is trial 221 with value: 0.4132380142081687.\n",
      "[I 2025-06-05 15:04:49,630] Trial 467 finished with value: 0.2771350659629602 and parameters: {'n_clusters': 71, 'linkage': 'average'}. Best is trial 221 with value: 0.4132380142081687.\n",
      "[I 2025-06-05 15:04:49,842] Trial 468 finished with value: 0.30900692475143665 and parameters: {'n_clusters': 135, 'linkage': 'complete'}. Best is trial 221 with value: 0.4132380142081687.\n",
      "[I 2025-06-05 15:04:50,033] Trial 469 finished with value: 0.2853833742134398 and parameters: {'n_clusters': 98, 'linkage': 'complete'}. Best is trial 221 with value: 0.4132380142081687.\n",
      "[I 2025-06-05 15:04:50,224] Trial 470 finished with value: 0.08039321275478133 and parameters: {'n_clusters': 51, 'linkage': 'single'}. Best is trial 221 with value: 0.4132380142081687.\n",
      "[I 2025-06-05 15:04:50,395] Trial 471 finished with value: 0.016753774336225647 and parameters: {'n_clusters': 113, 'linkage': 'single'}. Best is trial 221 with value: 0.4132380142081687.\n",
      "[I 2025-06-05 15:04:50,579] Trial 472 finished with value: 0.361095606345003 and parameters: {'n_clusters': 108, 'linkage': 'ward'}. Best is trial 221 with value: 0.4132380142081687.\n",
      "[I 2025-06-05 15:04:50,763] Trial 473 finished with value: 0.274550496271459 and parameters: {'n_clusters': 117, 'linkage': 'complete'}. Best is trial 221 with value: 0.4132380142081687.\n",
      "[I 2025-06-05 15:04:50,958] Trial 474 finished with value: 0.2854649627107002 and parameters: {'n_clusters': 79, 'linkage': 'complete'}. Best is trial 221 with value: 0.4132380142081687.\n",
      "[I 2025-06-05 15:04:51,156] Trial 475 finished with value: 0.28607796090044263 and parameters: {'n_clusters': 34, 'linkage': 'complete'}. Best is trial 221 with value: 0.4132380142081687.\n",
      "[I 2025-06-05 15:04:51,398] Trial 476 finished with value: 0.3229369711628402 and parameters: {'n_clusters': 148, 'linkage': 'complete'}. Best is trial 221 with value: 0.4132380142081687.\n",
      "[I 2025-06-05 15:04:51,612] Trial 477 finished with value: 0.21900205287537805 and parameters: {'n_clusters': 22, 'linkage': 'complete'}. Best is trial 221 with value: 0.4132380142081687.\n",
      "[I 2025-06-05 15:04:51,819] Trial 478 finished with value: 0.31182354157996134 and parameters: {'n_clusters': 48, 'linkage': 'average'}. Best is trial 221 with value: 0.4132380142081687.\n",
      "[I 2025-06-05 15:04:52,006] Trial 479 finished with value: 0.28451277350525284 and parameters: {'n_clusters': 99, 'linkage': 'complete'}. Best is trial 221 with value: 0.4132380142081687.\n",
      "[I 2025-06-05 15:04:52,199] Trial 480 finished with value: 0.2891558187507999 and parameters: {'n_clusters': 126, 'linkage': 'average'}. Best is trial 221 with value: 0.4132380142081687.\n",
      "[I 2025-06-05 15:04:52,372] Trial 481 finished with value: 0.3617443880660486 and parameters: {'n_clusters': 104, 'linkage': 'ward'}. Best is trial 221 with value: 0.4132380142081687.\n",
      "[I 2025-06-05 15:04:52,538] Trial 482 finished with value: 0.2770075798520491 and parameters: {'n_clusters': 67, 'linkage': 'average'}. Best is trial 221 with value: 0.4132380142081687.\n",
      "[I 2025-06-05 15:04:52,716] Trial 483 finished with value: 0.3649762558983765 and parameters: {'n_clusters': 105, 'linkage': 'ward'}. Best is trial 221 with value: 0.4132380142081687.\n",
      "[I 2025-06-05 15:04:52,883] Trial 484 finished with value: 0.013914807610607446 and parameters: {'n_clusters': 133, 'linkage': 'single'}. Best is trial 221 with value: 0.4132380142081687.\n",
      "[I 2025-06-05 15:04:53,050] Trial 485 finished with value: 0.26807271420432965 and parameters: {'n_clusters': 33, 'linkage': 'average'}. Best is trial 221 with value: 0.4132380142081687.\n",
      "[I 2025-06-05 15:04:53,219] Trial 486 finished with value: 0.22988759429578753 and parameters: {'n_clusters': 39, 'linkage': 'average'}. Best is trial 221 with value: 0.4132380142081687.\n",
      "[I 2025-06-05 15:04:53,391] Trial 487 finished with value: 0.34233089526886085 and parameters: {'n_clusters': 79, 'linkage': 'ward'}. Best is trial 221 with value: 0.4132380142081687.\n",
      "[I 2025-06-05 15:04:53,562] Trial 488 finished with value: 0.2866452536402585 and parameters: {'n_clusters': 35, 'linkage': 'complete'}. Best is trial 221 with value: 0.4132380142081687.\n",
      "[I 2025-06-05 15:04:53,747] Trial 489 finished with value: 0.3188494361694685 and parameters: {'n_clusters': 58, 'linkage': 'ward'}. Best is trial 221 with value: 0.4132380142081687.\n",
      "[I 2025-06-05 15:04:53,940] Trial 490 finished with value: 0.2599672547794741 and parameters: {'n_clusters': 71, 'linkage': 'complete'}. Best is trial 221 with value: 0.4132380142081687.\n",
      "[I 2025-06-05 15:04:54,132] Trial 491 finished with value: 0.2819830328220781 and parameters: {'n_clusters': 103, 'linkage': 'complete'}. Best is trial 221 with value: 0.4132380142081687.\n",
      "[I 2025-06-05 15:04:54,304] Trial 492 finished with value: 0.30282046283279257 and parameters: {'n_clusters': 127, 'linkage': 'complete'}. Best is trial 221 with value: 0.4132380142081687.\n",
      "[I 2025-06-05 15:04:54,468] Trial 493 finished with value: 0.26560364305149925 and parameters: {'n_clusters': 77, 'linkage': 'average'}. Best is trial 221 with value: 0.4132380142081687.\n",
      "[I 2025-06-05 15:04:54,633] Trial 494 finished with value: 0.30638787455903294 and parameters: {'n_clusters': 149, 'linkage': 'average'}. Best is trial 221 with value: 0.4132380142081687.\n",
      "[I 2025-06-05 15:04:54,794] Trial 495 finished with value: 0.015007586030580037 and parameters: {'n_clusters': 112, 'linkage': 'single'}. Best is trial 221 with value: 0.4132380142081687.\n",
      "[I 2025-06-05 15:04:54,977] Trial 496 finished with value: 0.28982073787519097 and parameters: {'n_clusters': 97, 'linkage': 'average'}. Best is trial 221 with value: 0.4132380142081687.\n",
      "[I 2025-06-05 15:04:55,153] Trial 497 finished with value: 0.37417861538643565 and parameters: {'n_clusters': 18, 'linkage': 'average'}. Best is trial 221 with value: 0.4132380142081687.\n",
      "[I 2025-06-05 15:04:55,327] Trial 498 finished with value: 0.4036960370981832 and parameters: {'n_clusters': 13, 'linkage': 'average'}. Best is trial 221 with value: 0.4132380142081687.\n",
      "[I 2025-06-05 15:04:55,493] Trial 499 finished with value: 0.24932400528684756 and parameters: {'n_clusters': 64, 'linkage': 'complete'}. Best is trial 221 with value: 0.4132380142081687.\n",
      "[I 2025-06-05 15:04:55,683] Trial 500 finished with value: 0.013028990082523836 and parameters: {'n_clusters': 117, 'linkage': 'single'}. Best is trial 221 with value: 0.4132380142081687.\n",
      "[I 2025-06-05 15:04:55,915] Trial 501 finished with value: 0.31166590853727744 and parameters: {'n_clusters': 50, 'linkage': 'average'}. Best is trial 221 with value: 0.4132380142081687.\n",
      "[I 2025-06-05 15:04:56,123] Trial 502 finished with value: 0.2928736195293976 and parameters: {'n_clusters': 86, 'linkage': 'complete'}. Best is trial 221 with value: 0.4132380142081687.\n",
      "[I 2025-06-05 15:04:56,327] Trial 503 finished with value: 0.10063840499964548 and parameters: {'n_clusters': 50, 'linkage': 'single'}. Best is trial 221 with value: 0.4132380142081687.\n",
      "[I 2025-06-05 15:04:56,520] Trial 504 finished with value: 0.3819883661379709 and parameters: {'n_clusters': 141, 'linkage': 'ward'}. Best is trial 221 with value: 0.4132380142081687.\n",
      "[I 2025-06-05 15:04:56,720] Trial 505 finished with value: 0.04245838731963965 and parameters: {'n_clusters': 90, 'linkage': 'single'}. Best is trial 221 with value: 0.4132380142081687.\n",
      "[I 2025-06-05 15:04:56,955] Trial 506 finished with value: 0.3824618126805253 and parameters: {'n_clusters': 137, 'linkage': 'ward'}. Best is trial 221 with value: 0.4132380142081687.\n",
      "[I 2025-06-05 15:04:57,242] Trial 507 finished with value: 0.31678828004132353 and parameters: {'n_clusters': 57, 'linkage': 'ward'}. Best is trial 221 with value: 0.4132380142081687.\n",
      "[I 2025-06-05 15:04:57,508] Trial 508 finished with value: 0.1411375008588445 and parameters: {'n_clusters': 42, 'linkage': 'single'}. Best is trial 221 with value: 0.4132380142081687.\n",
      "[I 2025-06-05 15:04:57,757] Trial 509 finished with value: 0.3059584188336873 and parameters: {'n_clusters': 132, 'linkage': 'average'}. Best is trial 221 with value: 0.4132380142081687.\n",
      "[I 2025-06-05 15:04:57,955] Trial 510 finished with value: 0.2536127341918662 and parameters: {'n_clusters': 54, 'linkage': 'complete'}. Best is trial 221 with value: 0.4132380142081687.\n",
      "[I 2025-06-05 15:04:58,150] Trial 511 finished with value: 0.27583338632996324 and parameters: {'n_clusters': 73, 'linkage': 'average'}. Best is trial 221 with value: 0.4132380142081687.\n",
      "[I 2025-06-05 15:04:58,337] Trial 512 finished with value: 0.3611138894196197 and parameters: {'n_clusters': 94, 'linkage': 'ward'}. Best is trial 221 with value: 0.4132380142081687.\n",
      "[I 2025-06-05 15:04:58,539] Trial 513 finished with value: 0.302876019381384 and parameters: {'n_clusters': 128, 'linkage': 'complete'}. Best is trial 221 with value: 0.4132380142081687.\n",
      "[I 2025-06-05 15:04:58,747] Trial 514 finished with value: 0.35952806618698396 and parameters: {'n_clusters': 101, 'linkage': 'ward'}. Best is trial 221 with value: 0.4132380142081687.\n",
      "[I 2025-06-05 15:04:58,951] Trial 515 finished with value: 0.3595487008875253 and parameters: {'n_clusters': 92, 'linkage': 'ward'}. Best is trial 221 with value: 0.4132380142081687.\n",
      "[I 2025-06-05 15:04:59,176] Trial 516 finished with value: 0.26485167940240756 and parameters: {'n_clusters': 20, 'linkage': 'single'}. Best is trial 221 with value: 0.4132380142081687.\n",
      "[I 2025-06-05 15:04:59,400] Trial 517 finished with value: 0.37807511108976205 and parameters: {'n_clusters': 129, 'linkage': 'ward'}. Best is trial 221 with value: 0.4132380142081687.\n",
      "[I 2025-06-05 15:04:59,620] Trial 518 finished with value: 0.2242861165399804 and parameters: {'n_clusters': 21, 'linkage': 'complete'}. Best is trial 221 with value: 0.4132380142081687.\n",
      "[I 2025-06-05 15:04:59,859] Trial 519 finished with value: 0.32201546221465555 and parameters: {'n_clusters': 67, 'linkage': 'ward'}. Best is trial 221 with value: 0.4132380142081687.\n",
      "[I 2025-06-05 15:05:00,081] Trial 520 finished with value: 0.2516518953314759 and parameters: {'n_clusters': 51, 'linkage': 'complete'}. Best is trial 221 with value: 0.4132380142081687.\n",
      "[I 2025-06-05 15:05:00,286] Trial 521 finished with value: 0.2886571203541338 and parameters: {'n_clusters': 127, 'linkage': 'average'}. Best is trial 221 with value: 0.4132380142081687.\n",
      "[I 2025-06-05 15:05:00,476] Trial 522 finished with value: 0.2388635268731645 and parameters: {'n_clusters': 32, 'linkage': 'single'}. Best is trial 221 with value: 0.4132380142081687.\n",
      "[I 2025-06-05 15:05:00,678] Trial 523 finished with value: 0.31900319839270735 and parameters: {'n_clusters': 52, 'linkage': 'ward'}. Best is trial 221 with value: 0.4132380142081687.\n",
      "[I 2025-06-05 15:05:00,871] Trial 524 finished with value: 0.27470518779793596 and parameters: {'n_clusters': 118, 'linkage': 'complete'}. Best is trial 221 with value: 0.4132380142081687.\n",
      "[I 2025-06-05 15:05:01,063] Trial 525 finished with value: 0.2500858401560204 and parameters: {'n_clusters': 65, 'linkage': 'complete'}. Best is trial 221 with value: 0.4132380142081687.\n",
      "[I 2025-06-05 15:05:01,269] Trial 526 finished with value: 0.30734236479622024 and parameters: {'n_clusters': 143, 'linkage': 'average'}. Best is trial 221 with value: 0.4132380142081687.\n",
      "[I 2025-06-05 15:05:01,463] Trial 527 finished with value: 0.0465606300364797 and parameters: {'n_clusters': 78, 'linkage': 'single'}. Best is trial 221 with value: 0.4132380142081687.\n",
      "[I 2025-06-05 15:05:01,714] Trial 528 finished with value: 0.32570112530393147 and parameters: {'n_clusters': 63, 'linkage': 'ward'}. Best is trial 221 with value: 0.4132380142081687.\n",
      "[I 2025-06-05 15:05:01,935] Trial 529 finished with value: 0.02060989419288752 and parameters: {'n_clusters': 120, 'linkage': 'single'}. Best is trial 221 with value: 0.4132380142081687.\n",
      "[I 2025-06-05 15:05:02,193] Trial 530 finished with value: 0.3821327724942183 and parameters: {'n_clusters': 138, 'linkage': 'ward'}. Best is trial 221 with value: 0.4132380142081687.\n",
      "[I 2025-06-05 15:05:02,411] Trial 531 finished with value: 0.30572586943204305 and parameters: {'n_clusters': 38, 'linkage': 'ward'}. Best is trial 221 with value: 0.4132380142081687.\n",
      "[I 2025-06-05 15:05:02,616] Trial 532 finished with value: 0.3089432490040086 and parameters: {'n_clusters': 53, 'linkage': 'average'}. Best is trial 221 with value: 0.4132380142081687.\n",
      "[I 2025-06-05 15:05:02,796] Trial 533 finished with value: 0.10761137174447788 and parameters: {'n_clusters': 49, 'linkage': 'single'}. Best is trial 221 with value: 0.4132380142081687.\n",
      "[I 2025-06-05 15:05:02,983] Trial 534 finished with value: 0.005329024667777348 and parameters: {'n_clusters': 100, 'linkage': 'single'}. Best is trial 221 with value: 0.4132380142081687.\n",
      "[I 2025-06-05 15:05:03,158] Trial 535 finished with value: 0.3165581895185329 and parameters: {'n_clusters': 21, 'linkage': 'average'}. Best is trial 221 with value: 0.4132380142081687.\n",
      "[I 2025-06-05 15:05:03,341] Trial 536 finished with value: 0.28827429549349165 and parameters: {'n_clusters': 114, 'linkage': 'average'}. Best is trial 221 with value: 0.4132380142081687.\n",
      "[I 2025-06-05 15:05:03,526] Trial 537 finished with value: 0.3083086131708904 and parameters: {'n_clusters': 135, 'linkage': 'average'}. Best is trial 221 with value: 0.4132380142081687.\n",
      "[I 2025-06-05 15:05:03,703] Trial 538 finished with value: 0.28200809686512013 and parameters: {'n_clusters': 18, 'linkage': 'complete'}. Best is trial 221 with value: 0.4132380142081687.\n",
      "[I 2025-06-05 15:05:03,869] Trial 539 finished with value: 0.3481779430936606 and parameters: {'n_clusters': 13, 'linkage': 'single'}. Best is trial 221 with value: 0.4132380142081687.\n",
      "[I 2025-06-05 15:05:04,039] Trial 540 finished with value: 0.3747268931437397 and parameters: {'n_clusters': 17, 'linkage': 'average'}. Best is trial 221 with value: 0.4132380142081687.\n",
      "[I 2025-06-05 15:05:04,235] Trial 541 finished with value: 0.30404434558383514 and parameters: {'n_clusters': 47, 'linkage': 'average'}. Best is trial 221 with value: 0.4132380142081687.\n",
      "[I 2025-06-05 15:05:04,429] Trial 542 finished with value: 0.3641818498525429 and parameters: {'n_clusters': 109, 'linkage': 'ward'}. Best is trial 221 with value: 0.4132380142081687.\n",
      "[I 2025-06-05 15:05:04,595] Trial 543 finished with value: 0.1600685523742094 and parameters: {'n_clusters': 38, 'linkage': 'single'}. Best is trial 221 with value: 0.4132380142081687.\n",
      "[I 2025-06-05 15:05:04,769] Trial 544 finished with value: 0.264297672324263 and parameters: {'n_clusters': 21, 'linkage': 'single'}. Best is trial 221 with value: 0.4132380142081687.\n",
      "[I 2025-06-05 15:05:04,963] Trial 545 finished with value: 0.37686715252114766 and parameters: {'n_clusters': 125, 'linkage': 'ward'}. Best is trial 221 with value: 0.4132380142081687.\n",
      "[I 2025-06-05 15:05:05,139] Trial 546 finished with value: 0.34723198164413877 and parameters: {'n_clusters': 82, 'linkage': 'ward'}. Best is trial 221 with value: 0.4132380142081687.\n",
      "[I 2025-06-05 15:05:05,315] Trial 547 finished with value: 0.024631232367221405 and parameters: {'n_clusters': 127, 'linkage': 'single'}. Best is trial 221 with value: 0.4132380142081687.\n",
      "[I 2025-06-05 15:05:05,509] Trial 548 finished with value: 0.2216713126767793 and parameters: {'n_clusters': 44, 'linkage': 'average'}. Best is trial 221 with value: 0.4132380142081687.\n",
      "[I 2025-06-05 15:05:05,698] Trial 549 finished with value: 0.3607782909501533 and parameters: {'n_clusters': 97, 'linkage': 'ward'}. Best is trial 221 with value: 0.4132380142081687.\n",
      "[I 2025-06-05 15:05:05,869] Trial 550 finished with value: 0.045135012700589096 and parameters: {'n_clusters': 76, 'linkage': 'single'}. Best is trial 221 with value: 0.4132380142081687.\n",
      "[I 2025-06-05 15:05:06,043] Trial 551 finished with value: 0.2682241666995998 and parameters: {'n_clusters': 44, 'linkage': 'complete'}. Best is trial 221 with value: 0.4132380142081687.\n",
      "[I 2025-06-05 15:05:06,283] Trial 552 finished with value: 0.28855329019634784 and parameters: {'n_clusters': 126, 'linkage': 'complete'}. Best is trial 221 with value: 0.4132380142081687.\n",
      "[I 2025-06-05 15:05:06,546] Trial 553 finished with value: 0.050867784549345006 and parameters: {'n_clusters': 62, 'linkage': 'single'}. Best is trial 221 with value: 0.4132380142081687.\n",
      "[I 2025-06-05 15:05:06,761] Trial 554 finished with value: 0.34491413383249203 and parameters: {'n_clusters': 80, 'linkage': 'ward'}. Best is trial 221 with value: 0.4132380142081687.\n",
      "[I 2025-06-05 15:05:06,956] Trial 555 finished with value: 0.3084338061118542 and parameters: {'n_clusters': 147, 'linkage': 'average'}. Best is trial 221 with value: 0.4132380142081687.\n",
      "[I 2025-06-05 15:05:07,159] Trial 556 finished with value: 0.27748423851256704 and parameters: {'n_clusters': 19, 'linkage': 'ward'}. Best is trial 221 with value: 0.4132380142081687.\n",
      "[I 2025-06-05 15:05:07,355] Trial 557 finished with value: 0.3005524751486491 and parameters: {'n_clusters': 89, 'linkage': 'complete'}. Best is trial 221 with value: 0.4132380142081687.\n",
      "[I 2025-06-05 15:05:07,530] Trial 558 finished with value: 0.27331533704962996 and parameters: {'n_clusters': 62, 'linkage': 'average'}. Best is trial 221 with value: 0.4132380142081687.\n",
      "[I 2025-06-05 15:05:07,699] Trial 559 finished with value: -0.02106589762269077 and parameters: {'n_clusters': 149, 'linkage': 'single'}. Best is trial 221 with value: 0.4132380142081687.\n"
     ]
    }
   ],
   "source": [
    "# Executar estudo do optuna para aglomerações\n",
    "estudo_ag.optimize(hierarchical_aglomerative_objetive, n_trials=600)"
   ]
  },
  {
   "cell_type": "code",
   "execution_count": 26,
   "id": "a2fce169",
   "metadata": {},
   "outputs": [
    {
     "name": "stdout",
     "output_type": "stream",
     "text": [
      "clusters = 11\n",
      "linkage = average\n"
     ]
    }
   ],
   "source": [
    "#mostrar melhor configuração do optuna\n",
    "best_params_ag = estudo_ag.best_params\n",
    "\n",
    "print(f'clusters = {best_params_ag['n_clusters']}')\n",
    "print(f'linkage = {best_params_ag['linkage']}')"
   ]
  },
  {
   "cell_type": "code",
   "execution_count": 27,
   "id": "32615732",
   "metadata": {},
   "outputs": [],
   "source": [
    "def hierarchical_divisive_objetive(trial):\n",
    "    #definir hiperparams\n",
    "    n_clusters = trial.suggest_int('n_clusters', 10, 150 )\n",
    "    \n",
    "    #instanciar o modelo\n",
    "    hierarchical_model = BisectingKMeans(n_clusters=n_clusters)\n",
    "\n",
    "    #treinar o modelo e ja executar a cluterizacao\n",
    "    y = hierarchical_model.fit_predict(X_transformed)\n",
    "\n",
    "    #calcular o silhouette score\n",
    "    silhouette_avg = silhouette_score(X_transformed, y)\n",
    "    return silhouette_avg"
   ]
  },
  {
   "cell_type": "code",
   "execution_count": 28,
   "id": "8fb2e069",
   "metadata": {},
   "outputs": [
    {
     "name": "stderr",
     "output_type": "stream",
     "text": [
      "[I 2025-06-05 15:05:07,870] A new study created in memory with name: no-name-214ec6f5-7f73-42af-86a1-e80a491bcd23\n"
     ]
    }
   ],
   "source": [
    "#criar um estudo no optuna\n",
    "search_space_di = {'n_clusters': range(10, 150)}\n",
    "sampler_di = optuna.samplers.GridSampler(search_space=search_space_di)\n",
    "estudo_di = optuna.create_study(direction='maximize', sampler=sampler_di)"
   ]
  },
  {
   "cell_type": "code",
   "execution_count": 29,
   "id": "990221a3",
   "metadata": {},
   "outputs": [
    {
     "name": "stderr",
     "output_type": "stream",
     "text": [
      "[I 2025-06-05 15:05:13,342] Trial 0 finished with value: 0.24116539193206807 and parameters: {'n_clusters': 55}. Best is trial 0 with value: 0.24116539193206807.\n",
      "[I 2025-06-05 15:05:13,688] Trial 1 finished with value: 0.2614064011907857 and parameters: {'n_clusters': 69}. Best is trial 1 with value: 0.2614064011907857.\n",
      "[I 2025-06-05 15:05:13,793] Trial 2 finished with value: 0.25961154679194215 and parameters: {'n_clusters': 17}. Best is trial 1 with value: 0.2614064011907857.\n",
      "[I 2025-06-05 15:05:14,073] Trial 3 finished with value: 0.25219907407170433 and parameters: {'n_clusters': 60}. Best is trial 1 with value: 0.2614064011907857.\n",
      "[I 2025-06-05 15:05:14,539] Trial 4 finished with value: 0.2850877953022063 and parameters: {'n_clusters': 102}. Best is trial 4 with value: 0.2850877953022063.\n",
      "[I 2025-06-05 15:05:14,724] Trial 5 finished with value: 0.21967622903514272 and parameters: {'n_clusters': 37}. Best is trial 4 with value: 0.2850877953022063.\n",
      "[I 2025-06-05 15:05:15,456] Trial 6 finished with value: 0.2992880880119805 and parameters: {'n_clusters': 141}. Best is trial 6 with value: 0.2992880880119805.\n",
      "[I 2025-06-05 15:05:16,425] Trial 7 finished with value: 0.2708566995101988 and parameters: {'n_clusters': 147}. Best is trial 6 with value: 0.2992880880119805.\n",
      "[I 2025-06-05 15:05:17,290] Trial 8 finished with value: 0.28581469230701817 and parameters: {'n_clusters': 132}. Best is trial 6 with value: 0.2992880880119805.\n",
      "[I 2025-06-05 15:05:17,426] Trial 9 finished with value: 0.21162670010140153 and parameters: {'n_clusters': 18}. Best is trial 6 with value: 0.2992880880119805.\n",
      "[I 2025-06-05 15:05:18,104] Trial 10 finished with value: 0.26524417803912526 and parameters: {'n_clusters': 121}. Best is trial 6 with value: 0.2992880880119805.\n",
      "[I 2025-06-05 15:05:18,289] Trial 11 finished with value: 0.22735852330857176 and parameters: {'n_clusters': 26}. Best is trial 6 with value: 0.2992880880119805.\n",
      "[I 2025-06-05 15:05:18,722] Trial 12 finished with value: 0.2506001563414694 and parameters: {'n_clusters': 73}. Best is trial 6 with value: 0.2992880880119805.\n",
      "[I 2025-06-05 15:05:19,189] Trial 13 finished with value: 0.2585809071701246 and parameters: {'n_clusters': 86}. Best is trial 6 with value: 0.2992880880119805.\n",
      "[I 2025-06-05 15:05:19,860] Trial 14 finished with value: 0.24521545227725536 and parameters: {'n_clusters': 133}. Best is trial 6 with value: 0.2992880880119805.\n",
      "[I 2025-06-05 15:05:20,410] Trial 15 finished with value: 0.2637069394925689 and parameters: {'n_clusters': 107}. Best is trial 6 with value: 0.2992880880119805.\n",
      "[I 2025-06-05 15:05:21,078] Trial 16 finished with value: 0.27282545197721303 and parameters: {'n_clusters': 114}. Best is trial 6 with value: 0.2992880880119805.\n",
      "[I 2025-06-05 15:05:21,742] Trial 17 finished with value: 0.2908081917237669 and parameters: {'n_clusters': 120}. Best is trial 6 with value: 0.2992880880119805.\n",
      "[I 2025-06-05 15:05:22,014] Trial 18 finished with value: 0.254546983907538 and parameters: {'n_clusters': 43}. Best is trial 6 with value: 0.2992880880119805.\n",
      "[I 2025-06-05 15:05:22,620] Trial 19 finished with value: 0.2745101349957528 and parameters: {'n_clusters': 101}. Best is trial 6 with value: 0.2992880880119805.\n",
      "[I 2025-06-05 15:05:23,195] Trial 20 finished with value: 0.27599954101629975 and parameters: {'n_clusters': 100}. Best is trial 6 with value: 0.2992880880119805.\n",
      "[I 2025-06-05 15:05:23,410] Trial 21 finished with value: 0.20882094351659897 and parameters: {'n_clusters': 32}. Best is trial 6 with value: 0.2992880880119805.\n",
      "[I 2025-06-05 15:05:24,002] Trial 22 finished with value: 0.27519829005035945 and parameters: {'n_clusters': 112}. Best is trial 6 with value: 0.2992880880119805.\n",
      "[I 2025-06-05 15:05:24,238] Trial 23 finished with value: 0.24918237939891072 and parameters: {'n_clusters': 34}. Best is trial 6 with value: 0.2992880880119805.\n",
      "[I 2025-06-05 15:05:24,349] Trial 24 finished with value: 0.23773760877856276 and parameters: {'n_clusters': 12}. Best is trial 6 with value: 0.2992880880119805.\n",
      "[I 2025-06-05 15:05:24,736] Trial 25 finished with value: 0.24602345226355324 and parameters: {'n_clusters': 61}. Best is trial 6 with value: 0.2992880880119805.\n",
      "[I 2025-06-05 15:05:24,990] Trial 26 finished with value: 0.2084164917215464 and parameters: {'n_clusters': 36}. Best is trial 6 with value: 0.2992880880119805.\n",
      "[I 2025-06-05 15:05:25,488] Trial 27 finished with value: 0.2646538859315101 and parameters: {'n_clusters': 81}. Best is trial 6 with value: 0.2992880880119805.\n",
      "[I 2025-06-05 15:05:25,703] Trial 28 finished with value: 0.2310150189917566 and parameters: {'n_clusters': 28}. Best is trial 6 with value: 0.2992880880119805.\n",
      "[I 2025-06-05 15:05:25,872] Trial 29 finished with value: 0.22982108141296947 and parameters: {'n_clusters': 20}. Best is trial 6 with value: 0.2992880880119805.\n",
      "[I 2025-06-05 15:05:26,297] Trial 30 finished with value: 0.25555071662539414 and parameters: {'n_clusters': 66}. Best is trial 6 with value: 0.2992880880119805.\n",
      "[I 2025-06-05 15:05:26,747] Trial 31 finished with value: 0.24156117726025877 and parameters: {'n_clusters': 53}. Best is trial 6 with value: 0.2992880880119805.\n",
      "[I 2025-06-05 15:05:27,837] Trial 32 finished with value: 0.2813276366234091 and parameters: {'n_clusters': 119}. Best is trial 6 with value: 0.2992880880119805.\n",
      "[I 2025-06-05 15:05:28,335] Trial 33 finished with value: 0.262959720149011 and parameters: {'n_clusters': 58}. Best is trial 6 with value: 0.2992880880119805.\n",
      "[I 2025-06-05 15:05:29,170] Trial 34 finished with value: 0.2865770864640288 and parameters: {'n_clusters': 117}. Best is trial 6 with value: 0.2992880880119805.\n",
      "[I 2025-06-05 15:05:29,757] Trial 35 finished with value: 0.25760464451436754 and parameters: {'n_clusters': 93}. Best is trial 6 with value: 0.2992880880119805.\n",
      "[I 2025-06-05 15:05:30,257] Trial 36 finished with value: 0.2487184466799864 and parameters: {'n_clusters': 70}. Best is trial 6 with value: 0.2992880880119805.\n",
      "[I 2025-06-05 15:05:31,026] Trial 37 finished with value: 0.265279160083494 and parameters: {'n_clusters': 116}. Best is trial 6 with value: 0.2992880880119805.\n",
      "[I 2025-06-05 15:05:31,712] Trial 38 finished with value: 0.26240294326411584 and parameters: {'n_clusters': 99}. Best is trial 6 with value: 0.2992880880119805.\n",
      "[I 2025-06-05 15:05:32,369] Trial 39 finished with value: 0.28033409895183387 and parameters: {'n_clusters': 88}. Best is trial 6 with value: 0.2992880880119805.\n",
      "[I 2025-06-05 15:05:32,778] Trial 40 finished with value: 0.2540839308263518 and parameters: {'n_clusters': 54}. Best is trial 6 with value: 0.2992880880119805.\n",
      "[I 2025-06-05 15:05:33,074] Trial 41 finished with value: 0.2594592201418072 and parameters: {'n_clusters': 40}. Best is trial 6 with value: 0.2992880880119805.\n",
      "[I 2025-06-05 15:05:33,585] Trial 42 finished with value: 0.2568111546187812 and parameters: {'n_clusters': 72}. Best is trial 6 with value: 0.2992880880119805.\n",
      "[I 2025-06-05 15:05:34,340] Trial 43 finished with value: 0.2750863242674882 and parameters: {'n_clusters': 131}. Best is trial 6 with value: 0.2992880880119805.\n",
      "[I 2025-06-05 15:05:35,178] Trial 44 finished with value: 0.25447167473788684 and parameters: {'n_clusters': 124}. Best is trial 6 with value: 0.2992880880119805.\n",
      "[I 2025-06-05 15:05:35,762] Trial 45 finished with value: 0.27025499916445195 and parameters: {'n_clusters': 83}. Best is trial 6 with value: 0.2992880880119805.\n",
      "[I 2025-06-05 15:05:36,411] Trial 46 finished with value: 0.2612560782660685 and parameters: {'n_clusters': 105}. Best is trial 6 with value: 0.2992880880119805.\n",
      "[I 2025-06-05 15:05:36,964] Trial 47 finished with value: 0.25522593437564456 and parameters: {'n_clusters': 94}. Best is trial 6 with value: 0.2992880880119805.\n",
      "[I 2025-06-05 15:05:37,861] Trial 48 finished with value: 0.28248740062770417 and parameters: {'n_clusters': 144}. Best is trial 6 with value: 0.2992880880119805.\n",
      "[I 2025-06-05 15:05:38,077] Trial 49 finished with value: 0.22443167772113432 and parameters: {'n_clusters': 23}. Best is trial 6 with value: 0.2992880880119805.\n",
      "[I 2025-06-05 15:05:38,457] Trial 50 finished with value: 0.2529919750807097 and parameters: {'n_clusters': 64}. Best is trial 6 with value: 0.2992880880119805.\n",
      "[I 2025-06-05 15:05:39,094] Trial 51 finished with value: 0.2624562205382755 and parameters: {'n_clusters': 104}. Best is trial 6 with value: 0.2992880880119805.\n",
      "[I 2025-06-05 15:05:39,826] Trial 52 finished with value: 0.2709192377158388 and parameters: {'n_clusters': 130}. Best is trial 6 with value: 0.2992880880119805.\n",
      "[I 2025-06-05 15:05:40,696] Trial 53 finished with value: 0.2966574816987648 and parameters: {'n_clusters': 128}. Best is trial 6 with value: 0.2992880880119805.\n",
      "[I 2025-06-05 15:05:40,937] Trial 54 finished with value: 0.22174075192970666 and parameters: {'n_clusters': 25}. Best is trial 6 with value: 0.2992880880119805.\n",
      "[I 2025-06-05 15:05:41,476] Trial 55 finished with value: 0.2334488881130698 and parameters: {'n_clusters': 78}. Best is trial 6 with value: 0.2992880880119805.\n",
      "[I 2025-06-05 15:05:41,835] Trial 56 finished with value: 0.25204166387636656 and parameters: {'n_clusters': 50}. Best is trial 6 with value: 0.2992880880119805.\n",
      "[I 2025-06-05 15:05:42,249] Trial 57 finished with value: 0.23863263734853937 and parameters: {'n_clusters': 71}. Best is trial 6 with value: 0.2992880880119805.\n",
      "[I 2025-06-05 15:05:42,776] Trial 58 finished with value: 0.25683389229757647 and parameters: {'n_clusters': 96}. Best is trial 6 with value: 0.2992880880119805.\n",
      "[I 2025-06-05 15:05:43,271] Trial 59 finished with value: 0.2552058566244965 and parameters: {'n_clusters': 76}. Best is trial 6 with value: 0.2992880880119805.\n",
      "[I 2025-06-05 15:05:43,434] Trial 60 finished with value: 0.2162613230745606 and parameters: {'n_clusters': 13}. Best is trial 6 with value: 0.2992880880119805.\n",
      "[I 2025-06-05 15:05:43,920] Trial 61 finished with value: 0.2409236377094549 and parameters: {'n_clusters': 62}. Best is trial 6 with value: 0.2992880880119805.\n",
      "[I 2025-06-05 15:05:44,798] Trial 62 finished with value: 0.2695862024807757 and parameters: {'n_clusters': 122}. Best is trial 6 with value: 0.2992880880119805.\n",
      "[I 2025-06-05 15:05:45,555] Trial 63 finished with value: 0.28259199214506403 and parameters: {'n_clusters': 126}. Best is trial 6 with value: 0.2992880880119805.\n",
      "[I 2025-06-05 15:05:45,737] Trial 64 finished with value: 0.2103248762362871 and parameters: {'n_clusters': 16}. Best is trial 6 with value: 0.2992880880119805.\n",
      "[I 2025-06-05 15:05:46,530] Trial 65 finished with value: 0.28928752399081487 and parameters: {'n_clusters': 134}. Best is trial 6 with value: 0.2992880880119805.\n",
      "[I 2025-06-05 15:05:46,726] Trial 66 finished with value: 0.2055411117784218 and parameters: {'n_clusters': 22}. Best is trial 6 with value: 0.2992880880119805.\n",
      "[I 2025-06-05 15:05:47,312] Trial 67 finished with value: 0.2753150754618428 and parameters: {'n_clusters': 95}. Best is trial 6 with value: 0.2992880880119805.\n",
      "[I 2025-06-05 15:05:48,123] Trial 68 finished with value: 0.29048662725482105 and parameters: {'n_clusters': 146}. Best is trial 6 with value: 0.2992880880119805.\n",
      "[I 2025-06-05 15:05:49,061] Trial 69 finished with value: 0.2929030013166347 and parameters: {'n_clusters': 137}. Best is trial 6 with value: 0.2992880880119805.\n",
      "[I 2025-06-05 15:05:49,853] Trial 70 finished with value: 0.298751085895641 and parameters: {'n_clusters': 136}. Best is trial 6 with value: 0.2992880880119805.\n",
      "[I 2025-06-05 15:05:50,056] Trial 71 finished with value: 0.20924716000884605 and parameters: {'n_clusters': 21}. Best is trial 6 with value: 0.2992880880119805.\n",
      "[I 2025-06-05 15:05:50,660] Trial 72 finished with value: 0.26510719550760536 and parameters: {'n_clusters': 103}. Best is trial 6 with value: 0.2992880880119805.\n",
      "[I 2025-06-05 15:05:51,243] Trial 73 finished with value: 0.27026017162687815 and parameters: {'n_clusters': 108}. Best is trial 6 with value: 0.2992880880119805.\n",
      "[I 2025-06-05 15:05:51,545] Trial 74 finished with value: 0.2673491252272452 and parameters: {'n_clusters': 51}. Best is trial 6 with value: 0.2992880880119805.\n",
      "[I 2025-06-05 15:05:52,129] Trial 75 finished with value: 0.280449292142703 and parameters: {'n_clusters': 110}. Best is trial 6 with value: 0.2992880880119805.\n",
      "[I 2025-06-05 15:05:52,268] Trial 76 finished with value: 0.22546724105990676 and parameters: {'n_clusters': 11}. Best is trial 6 with value: 0.2992880880119805.\n",
      "[I 2025-06-05 15:05:52,886] Trial 77 finished with value: 0.2612604601261816 and parameters: {'n_clusters': 106}. Best is trial 6 with value: 0.2992880880119805.\n",
      "[I 2025-06-05 15:05:53,774] Trial 78 finished with value: 0.27203357513374476 and parameters: {'n_clusters': 139}. Best is trial 6 with value: 0.2992880880119805.\n",
      "[I 2025-06-05 15:05:54,089] Trial 79 finished with value: 0.2666948308188478 and parameters: {'n_clusters': 52}. Best is trial 6 with value: 0.2992880880119805.\n",
      "[I 2025-06-05 15:05:54,237] Trial 80 finished with value: 0.19137457986147852 and parameters: {'n_clusters': 14}. Best is trial 6 with value: 0.2992880880119805.\n",
      "[I 2025-06-05 15:05:54,926] Trial 81 finished with value: 0.2827844152955516 and parameters: {'n_clusters': 123}. Best is trial 6 with value: 0.2992880880119805.\n",
      "[I 2025-06-05 15:05:55,157] Trial 82 finished with value: 0.24048274580417164 and parameters: {'n_clusters': 27}. Best is trial 6 with value: 0.2992880880119805.\n",
      "[I 2025-06-05 15:05:55,473] Trial 83 finished with value: 0.24864452059188963 and parameters: {'n_clusters': 48}. Best is trial 6 with value: 0.2992880880119805.\n",
      "[I 2025-06-05 15:05:55,631] Trial 84 finished with value: 0.21588536986752815 and parameters: {'n_clusters': 15}. Best is trial 6 with value: 0.2992880880119805.\n",
      "[I 2025-06-05 15:05:56,028] Trial 85 finished with value: 0.2566177660407415 and parameters: {'n_clusters': 63}. Best is trial 6 with value: 0.2992880880119805.\n",
      "[I 2025-06-05 15:05:56,781] Trial 86 finished with value: 0.2806407582851916 and parameters: {'n_clusters': 143}. Best is trial 6 with value: 0.2992880880119805.\n",
      "[I 2025-06-05 15:05:57,553] Trial 87 finished with value: 0.266837115203041 and parameters: {'n_clusters': 118}. Best is trial 6 with value: 0.2992880880119805.\n",
      "[I 2025-06-05 15:05:57,739] Trial 88 finished with value: 0.2565315917663097 and parameters: {'n_clusters': 10}. Best is trial 6 with value: 0.2992880880119805.\n",
      "[I 2025-06-05 15:05:58,121] Trial 89 finished with value: 0.24347595486556284 and parameters: {'n_clusters': 44}. Best is trial 6 with value: 0.2992880880119805.\n",
      "[I 2025-06-05 15:05:58,414] Trial 90 finished with value: 0.23483404699313923 and parameters: {'n_clusters': 38}. Best is trial 6 with value: 0.2992880880119805.\n",
      "[I 2025-06-05 15:05:58,951] Trial 91 finished with value: 0.2637008560408069 and parameters: {'n_clusters': 65}. Best is trial 6 with value: 0.2992880880119805.\n",
      "[I 2025-06-05 15:05:59,538] Trial 92 finished with value: 0.2241574470187318 and parameters: {'n_clusters': 85}. Best is trial 6 with value: 0.2992880880119805.\n",
      "[I 2025-06-05 15:05:59,961] Trial 93 finished with value: 0.2663861348592403 and parameters: {'n_clusters': 45}. Best is trial 6 with value: 0.2992880880119805.\n",
      "[I 2025-06-05 15:06:00,246] Trial 94 finished with value: 0.24624368830137677 and parameters: {'n_clusters': 33}. Best is trial 6 with value: 0.2992880880119805.\n",
      "[I 2025-06-05 15:06:00,851] Trial 95 finished with value: 0.2474356352354856 and parameters: {'n_clusters': 84}. Best is trial 6 with value: 0.2992880880119805.\n",
      "[I 2025-06-05 15:06:01,197] Trial 96 finished with value: 0.2602887563748474 and parameters: {'n_clusters': 41}. Best is trial 6 with value: 0.2992880880119805.\n",
      "[I 2025-06-05 15:06:01,837] Trial 97 finished with value: 0.2960916427924048 and parameters: {'n_clusters': 111}. Best is trial 6 with value: 0.2992880880119805.\n",
      "[I 2025-06-05 15:06:02,348] Trial 98 finished with value: 0.229863810703474 and parameters: {'n_clusters': 67}. Best is trial 6 with value: 0.2992880880119805.\n",
      "[I 2025-06-05 15:06:03,193] Trial 99 finished with value: 0.2832556079052007 and parameters: {'n_clusters': 129}. Best is trial 6 with value: 0.2992880880119805.\n",
      "[I 2025-06-05 15:06:03,697] Trial 100 finished with value: 0.2293745957571719 and parameters: {'n_clusters': 75}. Best is trial 6 with value: 0.2992880880119805.\n",
      "[I 2025-06-05 15:06:04,025] Trial 101 finished with value: 0.22781082113068343 and parameters: {'n_clusters': 42}. Best is trial 6 with value: 0.2992880880119805.\n",
      "[I 2025-06-05 15:06:04,933] Trial 102 finished with value: 0.2776169635508183 and parameters: {'n_clusters': 138}. Best is trial 6 with value: 0.2992880880119805.\n",
      "[I 2025-06-05 15:06:05,165] Trial 103 finished with value: 0.21260170816569454 and parameters: {'n_clusters': 24}. Best is trial 6 with value: 0.2992880880119805.\n",
      "[I 2025-06-05 15:06:05,953] Trial 104 finished with value: 0.28530275918065157 and parameters: {'n_clusters': 115}. Best is trial 6 with value: 0.2992880880119805.\n",
      "[I 2025-06-05 15:06:06,215] Trial 105 finished with value: 0.24774289899255744 and parameters: {'n_clusters': 29}. Best is trial 6 with value: 0.2992880880119805.\n",
      "[I 2025-06-05 15:06:06,530] Trial 106 finished with value: 0.24858798709791194 and parameters: {'n_clusters': 39}. Best is trial 6 with value: 0.2992880880119805.\n",
      "[I 2025-06-05 15:06:06,987] Trial 107 finished with value: 0.2599006491042549 and parameters: {'n_clusters': 59}. Best is trial 6 with value: 0.2992880880119805.\n",
      "[I 2025-06-05 15:06:08,029] Trial 108 finished with value: 0.2895755355916894 and parameters: {'n_clusters': 135}. Best is trial 6 with value: 0.2992880880119805.\n",
      "[I 2025-06-05 15:06:08,721] Trial 109 finished with value: 0.2853283462452936 and parameters: {'n_clusters': 109}. Best is trial 6 with value: 0.2992880880119805.\n",
      "[I 2025-06-05 15:06:09,326] Trial 110 finished with value: 0.24350973419417027 and parameters: {'n_clusters': 92}. Best is trial 6 with value: 0.2992880880119805.\n",
      "[I 2025-06-05 15:06:09,861] Trial 111 finished with value: 0.24862559876166454 and parameters: {'n_clusters': 74}. Best is trial 6 with value: 0.2992880880119805.\n",
      "[I 2025-06-05 15:06:10,672] Trial 112 finished with value: 0.2858693518340002 and parameters: {'n_clusters': 149}. Best is trial 6 with value: 0.2992880880119805.\n",
      "[I 2025-06-05 15:06:11,192] Trial 113 finished with value: 0.2892260508385729 and parameters: {'n_clusters': 89}. Best is trial 6 with value: 0.2992880880119805.\n",
      "[I 2025-06-05 15:06:11,640] Trial 114 finished with value: 0.25669539030591904 and parameters: {'n_clusters': 79}. Best is trial 6 with value: 0.2992880880119805.\n",
      "[I 2025-06-05 15:06:12,472] Trial 115 finished with value: 0.30756025049701 and parameters: {'n_clusters': 148}. Best is trial 115 with value: 0.30756025049701.\n",
      "[I 2025-06-05 15:06:13,003] Trial 116 finished with value: 0.2592826636924429 and parameters: {'n_clusters': 90}. Best is trial 115 with value: 0.30756025049701.\n",
      "[I 2025-06-05 15:06:13,741] Trial 117 finished with value: 0.28866914019851153 and parameters: {'n_clusters': 125}. Best is trial 115 with value: 0.30756025049701.\n",
      "[I 2025-06-05 15:06:14,004] Trial 118 finished with value: 0.22688386354686815 and parameters: {'n_clusters': 30}. Best is trial 115 with value: 0.30756025049701.\n",
      "[I 2025-06-05 15:06:14,878] Trial 119 finished with value: 0.2966340208011412 and parameters: {'n_clusters': 145}. Best is trial 115 with value: 0.30756025049701.\n",
      "[I 2025-06-05 15:06:15,492] Trial 120 finished with value: 0.2438942040142379 and parameters: {'n_clusters': 82}. Best is trial 115 with value: 0.30756025049701.\n",
      "[I 2025-06-05 15:06:16,128] Trial 121 finished with value: 0.22876644376294517 and parameters: {'n_clusters': 87}. Best is trial 115 with value: 0.30756025049701.\n",
      "[I 2025-06-05 15:06:16,463] Trial 122 finished with value: 0.22773587945332163 and parameters: {'n_clusters': 35}. Best is trial 115 with value: 0.30756025049701.\n",
      "[I 2025-06-05 15:06:16,840] Trial 123 finished with value: 0.23754806104221304 and parameters: {'n_clusters': 47}. Best is trial 115 with value: 0.30756025049701.\n",
      "[I 2025-06-05 15:06:17,529] Trial 124 finished with value: 0.2534888441826015 and parameters: {'n_clusters': 91}. Best is trial 115 with value: 0.30756025049701.\n",
      "[I 2025-06-05 15:06:18,456] Trial 125 finished with value: 0.2709103567447658 and parameters: {'n_clusters': 140}. Best is trial 115 with value: 0.30756025049701.\n",
      "[I 2025-06-05 15:06:18,851] Trial 126 finished with value: 0.26099676122816556 and parameters: {'n_clusters': 56}. Best is trial 115 with value: 0.30756025049701.\n",
      "[I 2025-06-05 15:06:19,673] Trial 127 finished with value: 0.26948729104004043 and parameters: {'n_clusters': 142}. Best is trial 115 with value: 0.30756025049701.\n",
      "[I 2025-06-05 15:06:20,067] Trial 128 finished with value: 0.24675808732097343 and parameters: {'n_clusters': 49}. Best is trial 115 with value: 0.30756025049701.\n",
      "[I 2025-06-05 15:06:20,516] Trial 129 finished with value: 0.25959105852155334 and parameters: {'n_clusters': 68}. Best is trial 115 with value: 0.30756025049701.\n",
      "[I 2025-06-05 15:06:21,081] Trial 130 finished with value: 0.2525739696461234 and parameters: {'n_clusters': 98}. Best is trial 115 with value: 0.30756025049701.\n",
      "[I 2025-06-05 15:06:21,585] Trial 131 finished with value: 0.25423082646493544 and parameters: {'n_clusters': 80}. Best is trial 115 with value: 0.30756025049701.\n",
      "[I 2025-06-05 15:06:22,179] Trial 132 finished with value: 0.27922920487780784 and parameters: {'n_clusters': 97}. Best is trial 115 with value: 0.30756025049701.\n",
      "[I 2025-06-05 15:06:22,562] Trial 133 finished with value: 0.250956511502518 and parameters: {'n_clusters': 46}. Best is trial 115 with value: 0.30756025049701.\n",
      "[I 2025-06-05 15:06:22,877] Trial 134 finished with value: 0.23590189381933427 and parameters: {'n_clusters': 31}. Best is trial 115 with value: 0.30756025049701.\n",
      "[I 2025-06-05 15:06:23,111] Trial 135 finished with value: 0.2066844943887903 and parameters: {'n_clusters': 19}. Best is trial 115 with value: 0.30756025049701.\n",
      "[I 2025-06-05 15:06:23,886] Trial 136 finished with value: 0.26873233864857204 and parameters: {'n_clusters': 113}. Best is trial 115 with value: 0.30756025049701.\n",
      "[I 2025-06-05 15:06:24,491] Trial 137 finished with value: 0.24018380783299068 and parameters: {'n_clusters': 77}. Best is trial 115 with value: 0.30756025049701.\n",
      "[I 2025-06-05 15:06:25,395] Trial 138 finished with value: 0.27322246239157977 and parameters: {'n_clusters': 127}. Best is trial 115 with value: 0.30756025049701.\n",
      "[I 2025-06-05 15:06:25,878] Trial 139 finished with value: 0.2469782380146605 and parameters: {'n_clusters': 57}. Best is trial 115 with value: 0.30756025049701.\n"
     ]
    }
   ],
   "source": [
    "# Executar estudo do optuna para aglomerações\n",
    "estudo_di.optimize(hierarchical_divisive_objetive, n_trials=200)"
   ]
  },
  {
   "cell_type": "code",
   "execution_count": 30,
   "id": "b09e4263",
   "metadata": {},
   "outputs": [
    {
     "name": "stdout",
     "output_type": "stream",
     "text": [
      "clusters = 148\n"
     ]
    }
   ],
   "source": [
    "#mostrar melhor configuração do optuna\n",
    "best_params_di = estudo_di.best_params\n",
    "\n",
    "print(f'clusters = {best_params_di['n_clusters']}')"
   ]
  },
  {
   "cell_type": "code",
   "execution_count": 31,
   "id": "1414a067",
   "metadata": {},
   "outputs": [],
   "source": [
    "# criar modelo com melhor configuraçõa (aglomerative)\n",
    "best_model = AgglomerativeClustering(\n",
    "    n_clusters=best_params_ag['n_clusters'],\n",
    "    linkage=best_params_ag['linkage']\n",
    ")"
   ]
  },
  {
   "cell_type": "code",
   "execution_count": 32,
   "id": "5e8292e5",
   "metadata": {},
   "outputs": [
    {
     "data": {
      "text/html": [
       "<style>#sk-container-id-1 {\n",
       "  /* Definition of color scheme common for light and dark mode */\n",
       "  --sklearn-color-text: #000;\n",
       "  --sklearn-color-text-muted: #666;\n",
       "  --sklearn-color-line: gray;\n",
       "  /* Definition of color scheme for unfitted estimators */\n",
       "  --sklearn-color-unfitted-level-0: #fff5e6;\n",
       "  --sklearn-color-unfitted-level-1: #f6e4d2;\n",
       "  --sklearn-color-unfitted-level-2: #ffe0b3;\n",
       "  --sklearn-color-unfitted-level-3: chocolate;\n",
       "  /* Definition of color scheme for fitted estimators */\n",
       "  --sklearn-color-fitted-level-0: #f0f8ff;\n",
       "  --sklearn-color-fitted-level-1: #d4ebff;\n",
       "  --sklearn-color-fitted-level-2: #b3dbfd;\n",
       "  --sklearn-color-fitted-level-3: cornflowerblue;\n",
       "\n",
       "  /* Specific color for light theme */\n",
       "  --sklearn-color-text-on-default-background: var(--sg-text-color, var(--theme-code-foreground, var(--jp-content-font-color1, black)));\n",
       "  --sklearn-color-background: var(--sg-background-color, var(--theme-background, var(--jp-layout-color0, white)));\n",
       "  --sklearn-color-border-box: var(--sg-text-color, var(--theme-code-foreground, var(--jp-content-font-color1, black)));\n",
       "  --sklearn-color-icon: #696969;\n",
       "\n",
       "  @media (prefers-color-scheme: dark) {\n",
       "    /* Redefinition of color scheme for dark theme */\n",
       "    --sklearn-color-text-on-default-background: var(--sg-text-color, var(--theme-code-foreground, var(--jp-content-font-color1, white)));\n",
       "    --sklearn-color-background: var(--sg-background-color, var(--theme-background, var(--jp-layout-color0, #111)));\n",
       "    --sklearn-color-border-box: var(--sg-text-color, var(--theme-code-foreground, var(--jp-content-font-color1, white)));\n",
       "    --sklearn-color-icon: #878787;\n",
       "  }\n",
       "}\n",
       "\n",
       "#sk-container-id-1 {\n",
       "  color: var(--sklearn-color-text);\n",
       "}\n",
       "\n",
       "#sk-container-id-1 pre {\n",
       "  padding: 0;\n",
       "}\n",
       "\n",
       "#sk-container-id-1 input.sk-hidden--visually {\n",
       "  border: 0;\n",
       "  clip: rect(1px 1px 1px 1px);\n",
       "  clip: rect(1px, 1px, 1px, 1px);\n",
       "  height: 1px;\n",
       "  margin: -1px;\n",
       "  overflow: hidden;\n",
       "  padding: 0;\n",
       "  position: absolute;\n",
       "  width: 1px;\n",
       "}\n",
       "\n",
       "#sk-container-id-1 div.sk-dashed-wrapped {\n",
       "  border: 1px dashed var(--sklearn-color-line);\n",
       "  margin: 0 0.4em 0.5em 0.4em;\n",
       "  box-sizing: border-box;\n",
       "  padding-bottom: 0.4em;\n",
       "  background-color: var(--sklearn-color-background);\n",
       "}\n",
       "\n",
       "#sk-container-id-1 div.sk-container {\n",
       "  /* jupyter's `normalize.less` sets `[hidden] { display: none; }`\n",
       "     but bootstrap.min.css set `[hidden] { display: none !important; }`\n",
       "     so we also need the `!important` here to be able to override the\n",
       "     default hidden behavior on the sphinx rendered scikit-learn.org.\n",
       "     See: https://github.com/scikit-learn/scikit-learn/issues/21755 */\n",
       "  display: inline-block !important;\n",
       "  position: relative;\n",
       "}\n",
       "\n",
       "#sk-container-id-1 div.sk-text-repr-fallback {\n",
       "  display: none;\n",
       "}\n",
       "\n",
       "div.sk-parallel-item,\n",
       "div.sk-serial,\n",
       "div.sk-item {\n",
       "  /* draw centered vertical line to link estimators */\n",
       "  background-image: linear-gradient(var(--sklearn-color-text-on-default-background), var(--sklearn-color-text-on-default-background));\n",
       "  background-size: 2px 100%;\n",
       "  background-repeat: no-repeat;\n",
       "  background-position: center center;\n",
       "}\n",
       "\n",
       "/* Parallel-specific style estimator block */\n",
       "\n",
       "#sk-container-id-1 div.sk-parallel-item::after {\n",
       "  content: \"\";\n",
       "  width: 100%;\n",
       "  border-bottom: 2px solid var(--sklearn-color-text-on-default-background);\n",
       "  flex-grow: 1;\n",
       "}\n",
       "\n",
       "#sk-container-id-1 div.sk-parallel {\n",
       "  display: flex;\n",
       "  align-items: stretch;\n",
       "  justify-content: center;\n",
       "  background-color: var(--sklearn-color-background);\n",
       "  position: relative;\n",
       "}\n",
       "\n",
       "#sk-container-id-1 div.sk-parallel-item {\n",
       "  display: flex;\n",
       "  flex-direction: column;\n",
       "}\n",
       "\n",
       "#sk-container-id-1 div.sk-parallel-item:first-child::after {\n",
       "  align-self: flex-end;\n",
       "  width: 50%;\n",
       "}\n",
       "\n",
       "#sk-container-id-1 div.sk-parallel-item:last-child::after {\n",
       "  align-self: flex-start;\n",
       "  width: 50%;\n",
       "}\n",
       "\n",
       "#sk-container-id-1 div.sk-parallel-item:only-child::after {\n",
       "  width: 0;\n",
       "}\n",
       "\n",
       "/* Serial-specific style estimator block */\n",
       "\n",
       "#sk-container-id-1 div.sk-serial {\n",
       "  display: flex;\n",
       "  flex-direction: column;\n",
       "  align-items: center;\n",
       "  background-color: var(--sklearn-color-background);\n",
       "  padding-right: 1em;\n",
       "  padding-left: 1em;\n",
       "}\n",
       "\n",
       "\n",
       "/* Toggleable style: style used for estimator/Pipeline/ColumnTransformer box that is\n",
       "clickable and can be expanded/collapsed.\n",
       "- Pipeline and ColumnTransformer use this feature and define the default style\n",
       "- Estimators will overwrite some part of the style using the `sk-estimator` class\n",
       "*/\n",
       "\n",
       "/* Pipeline and ColumnTransformer style (default) */\n",
       "\n",
       "#sk-container-id-1 div.sk-toggleable {\n",
       "  /* Default theme specific background. It is overwritten whether we have a\n",
       "  specific estimator or a Pipeline/ColumnTransformer */\n",
       "  background-color: var(--sklearn-color-background);\n",
       "}\n",
       "\n",
       "/* Toggleable label */\n",
       "#sk-container-id-1 label.sk-toggleable__label {\n",
       "  cursor: pointer;\n",
       "  display: flex;\n",
       "  width: 100%;\n",
       "  margin-bottom: 0;\n",
       "  padding: 0.5em;\n",
       "  box-sizing: border-box;\n",
       "  text-align: center;\n",
       "  align-items: start;\n",
       "  justify-content: space-between;\n",
       "  gap: 0.5em;\n",
       "}\n",
       "\n",
       "#sk-container-id-1 label.sk-toggleable__label .caption {\n",
       "  font-size: 0.6rem;\n",
       "  font-weight: lighter;\n",
       "  color: var(--sklearn-color-text-muted);\n",
       "}\n",
       "\n",
       "#sk-container-id-1 label.sk-toggleable__label-arrow:before {\n",
       "  /* Arrow on the left of the label */\n",
       "  content: \"▸\";\n",
       "  float: left;\n",
       "  margin-right: 0.25em;\n",
       "  color: var(--sklearn-color-icon);\n",
       "}\n",
       "\n",
       "#sk-container-id-1 label.sk-toggleable__label-arrow:hover:before {\n",
       "  color: var(--sklearn-color-text);\n",
       "}\n",
       "\n",
       "/* Toggleable content - dropdown */\n",
       "\n",
       "#sk-container-id-1 div.sk-toggleable__content {\n",
       "  max-height: 0;\n",
       "  max-width: 0;\n",
       "  overflow: hidden;\n",
       "  text-align: left;\n",
       "  /* unfitted */\n",
       "  background-color: var(--sklearn-color-unfitted-level-0);\n",
       "}\n",
       "\n",
       "#sk-container-id-1 div.sk-toggleable__content.fitted {\n",
       "  /* fitted */\n",
       "  background-color: var(--sklearn-color-fitted-level-0);\n",
       "}\n",
       "\n",
       "#sk-container-id-1 div.sk-toggleable__content pre {\n",
       "  margin: 0.2em;\n",
       "  border-radius: 0.25em;\n",
       "  color: var(--sklearn-color-text);\n",
       "  /* unfitted */\n",
       "  background-color: var(--sklearn-color-unfitted-level-0);\n",
       "}\n",
       "\n",
       "#sk-container-id-1 div.sk-toggleable__content.fitted pre {\n",
       "  /* unfitted */\n",
       "  background-color: var(--sklearn-color-fitted-level-0);\n",
       "}\n",
       "\n",
       "#sk-container-id-1 input.sk-toggleable__control:checked~div.sk-toggleable__content {\n",
       "  /* Expand drop-down */\n",
       "  max-height: 200px;\n",
       "  max-width: 100%;\n",
       "  overflow: auto;\n",
       "}\n",
       "\n",
       "#sk-container-id-1 input.sk-toggleable__control:checked~label.sk-toggleable__label-arrow:before {\n",
       "  content: \"▾\";\n",
       "}\n",
       "\n",
       "/* Pipeline/ColumnTransformer-specific style */\n",
       "\n",
       "#sk-container-id-1 div.sk-label input.sk-toggleable__control:checked~label.sk-toggleable__label {\n",
       "  color: var(--sklearn-color-text);\n",
       "  background-color: var(--sklearn-color-unfitted-level-2);\n",
       "}\n",
       "\n",
       "#sk-container-id-1 div.sk-label.fitted input.sk-toggleable__control:checked~label.sk-toggleable__label {\n",
       "  background-color: var(--sklearn-color-fitted-level-2);\n",
       "}\n",
       "\n",
       "/* Estimator-specific style */\n",
       "\n",
       "/* Colorize estimator box */\n",
       "#sk-container-id-1 div.sk-estimator input.sk-toggleable__control:checked~label.sk-toggleable__label {\n",
       "  /* unfitted */\n",
       "  background-color: var(--sklearn-color-unfitted-level-2);\n",
       "}\n",
       "\n",
       "#sk-container-id-1 div.sk-estimator.fitted input.sk-toggleable__control:checked~label.sk-toggleable__label {\n",
       "  /* fitted */\n",
       "  background-color: var(--sklearn-color-fitted-level-2);\n",
       "}\n",
       "\n",
       "#sk-container-id-1 div.sk-label label.sk-toggleable__label,\n",
       "#sk-container-id-1 div.sk-label label {\n",
       "  /* The background is the default theme color */\n",
       "  color: var(--sklearn-color-text-on-default-background);\n",
       "}\n",
       "\n",
       "/* On hover, darken the color of the background */\n",
       "#sk-container-id-1 div.sk-label:hover label.sk-toggleable__label {\n",
       "  color: var(--sklearn-color-text);\n",
       "  background-color: var(--sklearn-color-unfitted-level-2);\n",
       "}\n",
       "\n",
       "/* Label box, darken color on hover, fitted */\n",
       "#sk-container-id-1 div.sk-label.fitted:hover label.sk-toggleable__label.fitted {\n",
       "  color: var(--sklearn-color-text);\n",
       "  background-color: var(--sklearn-color-fitted-level-2);\n",
       "}\n",
       "\n",
       "/* Estimator label */\n",
       "\n",
       "#sk-container-id-1 div.sk-label label {\n",
       "  font-family: monospace;\n",
       "  font-weight: bold;\n",
       "  display: inline-block;\n",
       "  line-height: 1.2em;\n",
       "}\n",
       "\n",
       "#sk-container-id-1 div.sk-label-container {\n",
       "  text-align: center;\n",
       "}\n",
       "\n",
       "/* Estimator-specific */\n",
       "#sk-container-id-1 div.sk-estimator {\n",
       "  font-family: monospace;\n",
       "  border: 1px dotted var(--sklearn-color-border-box);\n",
       "  border-radius: 0.25em;\n",
       "  box-sizing: border-box;\n",
       "  margin-bottom: 0.5em;\n",
       "  /* unfitted */\n",
       "  background-color: var(--sklearn-color-unfitted-level-0);\n",
       "}\n",
       "\n",
       "#sk-container-id-1 div.sk-estimator.fitted {\n",
       "  /* fitted */\n",
       "  background-color: var(--sklearn-color-fitted-level-0);\n",
       "}\n",
       "\n",
       "/* on hover */\n",
       "#sk-container-id-1 div.sk-estimator:hover {\n",
       "  /* unfitted */\n",
       "  background-color: var(--sklearn-color-unfitted-level-2);\n",
       "}\n",
       "\n",
       "#sk-container-id-1 div.sk-estimator.fitted:hover {\n",
       "  /* fitted */\n",
       "  background-color: var(--sklearn-color-fitted-level-2);\n",
       "}\n",
       "\n",
       "/* Specification for estimator info (e.g. \"i\" and \"?\") */\n",
       "\n",
       "/* Common style for \"i\" and \"?\" */\n",
       "\n",
       ".sk-estimator-doc-link,\n",
       "a:link.sk-estimator-doc-link,\n",
       "a:visited.sk-estimator-doc-link {\n",
       "  float: right;\n",
       "  font-size: smaller;\n",
       "  line-height: 1em;\n",
       "  font-family: monospace;\n",
       "  background-color: var(--sklearn-color-background);\n",
       "  border-radius: 1em;\n",
       "  height: 1em;\n",
       "  width: 1em;\n",
       "  text-decoration: none !important;\n",
       "  margin-left: 0.5em;\n",
       "  text-align: center;\n",
       "  /* unfitted */\n",
       "  border: var(--sklearn-color-unfitted-level-1) 1pt solid;\n",
       "  color: var(--sklearn-color-unfitted-level-1);\n",
       "}\n",
       "\n",
       ".sk-estimator-doc-link.fitted,\n",
       "a:link.sk-estimator-doc-link.fitted,\n",
       "a:visited.sk-estimator-doc-link.fitted {\n",
       "  /* fitted */\n",
       "  border: var(--sklearn-color-fitted-level-1) 1pt solid;\n",
       "  color: var(--sklearn-color-fitted-level-1);\n",
       "}\n",
       "\n",
       "/* On hover */\n",
       "div.sk-estimator:hover .sk-estimator-doc-link:hover,\n",
       ".sk-estimator-doc-link:hover,\n",
       "div.sk-label-container:hover .sk-estimator-doc-link:hover,\n",
       ".sk-estimator-doc-link:hover {\n",
       "  /* unfitted */\n",
       "  background-color: var(--sklearn-color-unfitted-level-3);\n",
       "  color: var(--sklearn-color-background);\n",
       "  text-decoration: none;\n",
       "}\n",
       "\n",
       "div.sk-estimator.fitted:hover .sk-estimator-doc-link.fitted:hover,\n",
       ".sk-estimator-doc-link.fitted:hover,\n",
       "div.sk-label-container:hover .sk-estimator-doc-link.fitted:hover,\n",
       ".sk-estimator-doc-link.fitted:hover {\n",
       "  /* fitted */\n",
       "  background-color: var(--sklearn-color-fitted-level-3);\n",
       "  color: var(--sklearn-color-background);\n",
       "  text-decoration: none;\n",
       "}\n",
       "\n",
       "/* Span, style for the box shown on hovering the info icon */\n",
       ".sk-estimator-doc-link span {\n",
       "  display: none;\n",
       "  z-index: 9999;\n",
       "  position: relative;\n",
       "  font-weight: normal;\n",
       "  right: .2ex;\n",
       "  padding: .5ex;\n",
       "  margin: .5ex;\n",
       "  width: min-content;\n",
       "  min-width: 20ex;\n",
       "  max-width: 50ex;\n",
       "  color: var(--sklearn-color-text);\n",
       "  box-shadow: 2pt 2pt 4pt #999;\n",
       "  /* unfitted */\n",
       "  background: var(--sklearn-color-unfitted-level-0);\n",
       "  border: .5pt solid var(--sklearn-color-unfitted-level-3);\n",
       "}\n",
       "\n",
       ".sk-estimator-doc-link.fitted span {\n",
       "  /* fitted */\n",
       "  background: var(--sklearn-color-fitted-level-0);\n",
       "  border: var(--sklearn-color-fitted-level-3);\n",
       "}\n",
       "\n",
       ".sk-estimator-doc-link:hover span {\n",
       "  display: block;\n",
       "}\n",
       "\n",
       "/* \"?\"-specific style due to the `<a>` HTML tag */\n",
       "\n",
       "#sk-container-id-1 a.estimator_doc_link {\n",
       "  float: right;\n",
       "  font-size: 1rem;\n",
       "  line-height: 1em;\n",
       "  font-family: monospace;\n",
       "  background-color: var(--sklearn-color-background);\n",
       "  border-radius: 1rem;\n",
       "  height: 1rem;\n",
       "  width: 1rem;\n",
       "  text-decoration: none;\n",
       "  /* unfitted */\n",
       "  color: var(--sklearn-color-unfitted-level-1);\n",
       "  border: var(--sklearn-color-unfitted-level-1) 1pt solid;\n",
       "}\n",
       "\n",
       "#sk-container-id-1 a.estimator_doc_link.fitted {\n",
       "  /* fitted */\n",
       "  border: var(--sklearn-color-fitted-level-1) 1pt solid;\n",
       "  color: var(--sklearn-color-fitted-level-1);\n",
       "}\n",
       "\n",
       "/* On hover */\n",
       "#sk-container-id-1 a.estimator_doc_link:hover {\n",
       "  /* unfitted */\n",
       "  background-color: var(--sklearn-color-unfitted-level-3);\n",
       "  color: var(--sklearn-color-background);\n",
       "  text-decoration: none;\n",
       "}\n",
       "\n",
       "#sk-container-id-1 a.estimator_doc_link.fitted:hover {\n",
       "  /* fitted */\n",
       "  background-color: var(--sklearn-color-fitted-level-3);\n",
       "}\n",
       "</style><div id=\"sk-container-id-1\" class=\"sk-top-container\"><div class=\"sk-text-repr-fallback\"><pre>AgglomerativeClustering(linkage=&#x27;average&#x27;, n_clusters=11)</pre><b>In a Jupyter environment, please rerun this cell to show the HTML representation or trust the notebook. <br />On GitHub, the HTML representation is unable to render, please try loading this page with nbviewer.org.</b></div><div class=\"sk-container\" hidden><div class=\"sk-item\"><div class=\"sk-estimator fitted sk-toggleable\"><input class=\"sk-toggleable__control sk-hidden--visually\" id=\"sk-estimator-id-1\" type=\"checkbox\" checked><label for=\"sk-estimator-id-1\" class=\"sk-toggleable__label fitted sk-toggleable__label-arrow\"><div><div>AgglomerativeClustering</div></div><div><a class=\"sk-estimator-doc-link fitted\" rel=\"noreferrer\" target=\"_blank\" href=\"https://scikit-learn.org/1.6/modules/generated/sklearn.cluster.AgglomerativeClustering.html\">?<span>Documentation for AgglomerativeClustering</span></a><span class=\"sk-estimator-doc-link fitted\">i<span>Fitted</span></span></div></label><div class=\"sk-toggleable__content fitted\"><pre>AgglomerativeClustering(linkage=&#x27;average&#x27;, n_clusters=11)</pre></div> </div></div></div></div>"
      ],
      "text/plain": [
       "AgglomerativeClustering(linkage='average', n_clusters=11)"
      ]
     },
     "execution_count": 32,
     "metadata": {},
     "output_type": "execute_result"
    }
   ],
   "source": [
    "#treinar modelo\n",
    "best_model.fit(X_transformed)"
   ]
  },
  {
   "cell_type": "code",
   "execution_count": 33,
   "id": "6c07479f",
   "metadata": {},
   "outputs": [
    {
     "data": {
      "text/plain": [
       "0.4132380142081687"
      ]
     },
     "execution_count": 33,
     "metadata": {},
     "output_type": "execute_result"
    }
   ],
   "source": [
    "#verificar silhouette score\n",
    "best_score = silhouette_score(X_transformed, best_model.labels_)\n",
    "best_score"
   ]
  },
  {
   "cell_type": "code",
   "execution_count": 34,
   "id": "2cc71132",
   "metadata": {},
   "outputs": [],
   "source": [
    "#criar coluna com cluster escolhido no dataframe original\n",
    "df_laptops['cluster'] = best_model.labels_"
   ]
  },
  {
   "cell_type": "code",
   "execution_count": 35,
   "id": "9dd87986",
   "metadata": {},
   "outputs": [
    {
     "name": "stdout",
     "output_type": "stream",
     "text": [
      "<class 'pandas.core.frame.DataFrame'>\n",
      "RangeIndex: 991 entries, 0 to 990\n",
      "Data columns (total 21 columns):\n",
      " #   Column                    Non-Null Count  Dtype  \n",
      "---  ------                    --------------  -----  \n",
      " 0   index                     991 non-null    int64  \n",
      " 1   brand                     991 non-null    object \n",
      " 2   model                     991 non-null    object \n",
      " 3   price                     991 non-null    float64\n",
      " 4   rating                    991 non-null    int64  \n",
      " 5   processor_brand           991 non-null    object \n",
      " 6   processor_tier            991 non-null    object \n",
      " 7   num_cores                 991 non-null    int64  \n",
      " 8   num_threads               991 non-null    int64  \n",
      " 9   ram_memory                991 non-null    int64  \n",
      " 10  primary_storage_type      991 non-null    object \n",
      " 11  primary_storage_capacity  991 non-null    int64  \n",
      " 12  gpu_brand                 991 non-null    object \n",
      " 13  gpu_type                  991 non-null    object \n",
      " 14  is_touch_screen           991 non-null    int32  \n",
      " 15  display_size              991 non-null    float64\n",
      " 16  resolution_width          991 non-null    int64  \n",
      " 17  resolution_height         991 non-null    int64  \n",
      " 18  os                        991 non-null    object \n",
      " 19  year_of_warranty          991 non-null    int32  \n",
      " 20  cluster                   991 non-null    int64  \n",
      "dtypes: float64(2), int32(2), int64(9), object(8)\n",
      "memory usage: 155.0+ KB\n"
     ]
    }
   ],
   "source": [
    "df_laptops.info()"
   ]
  },
  {
   "cell_type": "markdown",
   "id": "bbcd5232",
   "metadata": {},
   "source": [
    "### Visualizar resultados"
   ]
  },
  {
   "cell_type": "code",
   "execution_count": 36,
   "id": "9e8b710e",
   "metadata": {},
   "outputs": [
    {
     "data": {
      "application/vnd.plotly.v1+json": {
       "config": {
        "plotlyServerURL": "https://plot.ly"
       },
       "data": [
        {
         "mode": "markers",
         "name": "Objective Value",
         "type": "scatter",
         "x": [
          0,
          1,
          2,
          3,
          4,
          5,
          6,
          7,
          8,
          9,
          10,
          11,
          12,
          13,
          14,
          15,
          16,
          17,
          18,
          19,
          20,
          21,
          22,
          23,
          24,
          25,
          26,
          27,
          28,
          29,
          30,
          31,
          32,
          33,
          34,
          35,
          36,
          37,
          38,
          39,
          40,
          41,
          42,
          43,
          44,
          45,
          46,
          47,
          48,
          49,
          50,
          51,
          52,
          53,
          54,
          55,
          56,
          57,
          58,
          59,
          60,
          61,
          62,
          63,
          64,
          65,
          66,
          67,
          68,
          69,
          70,
          71,
          72,
          73,
          74,
          75,
          76,
          77,
          78,
          79,
          80,
          81,
          82,
          83,
          84,
          85,
          86,
          87,
          88,
          89,
          90,
          91,
          92,
          93,
          94,
          95,
          96,
          97,
          98,
          99,
          100,
          101,
          102,
          103,
          104,
          105,
          106,
          107,
          108,
          109,
          110,
          111,
          112,
          113,
          114,
          115,
          116,
          117,
          118,
          119,
          120,
          121,
          122,
          123,
          124,
          125,
          126,
          127,
          128,
          129,
          130,
          131,
          132,
          133,
          134,
          135,
          136,
          137,
          138,
          139,
          140,
          141,
          142,
          143,
          144,
          145,
          146,
          147,
          148,
          149,
          150,
          151,
          152,
          153,
          154,
          155,
          156,
          157,
          158,
          159,
          160,
          161,
          162,
          163,
          164,
          165,
          166,
          167,
          168,
          169,
          170,
          171,
          172,
          173,
          174,
          175,
          176,
          177,
          178,
          179,
          180,
          181,
          182,
          183,
          184,
          185,
          186,
          187,
          188,
          189,
          190,
          191,
          192,
          193,
          194,
          195,
          196,
          197,
          198,
          199,
          200,
          201,
          202,
          203,
          204,
          205,
          206,
          207,
          208,
          209,
          210,
          211,
          212,
          213,
          214,
          215,
          216,
          217,
          218,
          219,
          220,
          221,
          222,
          223,
          224,
          225,
          226,
          227,
          228,
          229,
          230,
          231,
          232,
          233,
          234,
          235,
          236,
          237,
          238,
          239,
          240,
          241,
          242,
          243,
          244,
          245,
          246,
          247,
          248,
          249,
          250,
          251,
          252,
          253,
          254,
          255,
          256,
          257,
          258,
          259,
          260,
          261,
          262,
          263,
          264,
          265,
          266,
          267,
          268,
          269,
          270,
          271,
          272,
          273,
          274,
          275,
          276,
          277,
          278,
          279,
          280,
          281,
          282,
          283,
          284,
          285,
          286,
          287,
          288,
          289,
          290,
          291,
          292,
          293,
          294,
          295,
          296,
          297,
          298,
          299,
          300,
          301,
          302,
          303,
          304,
          305,
          306,
          307,
          308,
          309,
          310,
          311,
          312,
          313,
          314,
          315,
          316,
          317,
          318,
          319,
          320,
          321,
          322,
          323,
          324,
          325,
          326,
          327,
          328,
          329,
          330,
          331,
          332,
          333,
          334,
          335,
          336,
          337,
          338,
          339,
          340,
          341,
          342,
          343,
          344,
          345,
          346,
          347,
          348,
          349,
          350,
          351,
          352,
          353,
          354,
          355,
          356,
          357,
          358,
          359,
          360,
          361,
          362,
          363,
          364,
          365,
          366,
          367,
          368,
          369,
          370,
          371,
          372,
          373,
          374,
          375,
          376,
          377,
          378,
          379,
          380,
          381,
          382,
          383,
          384,
          385,
          386,
          387,
          388,
          389,
          390,
          391,
          392,
          393,
          394,
          395,
          396,
          397,
          398,
          399,
          400,
          401,
          402,
          403,
          404,
          405,
          406,
          407,
          408,
          409,
          410,
          411,
          412,
          413,
          414,
          415,
          416,
          417,
          418,
          419,
          420,
          421,
          422,
          423,
          424,
          425,
          426,
          427,
          428,
          429,
          430,
          431,
          432,
          433,
          434,
          435,
          436,
          437,
          438,
          439,
          440,
          441,
          442,
          443,
          444,
          445,
          446,
          447,
          448,
          449,
          450,
          451,
          452,
          453,
          454,
          455,
          456,
          457,
          458,
          459,
          460,
          461,
          462,
          463,
          464,
          465,
          466,
          467,
          468,
          469,
          470,
          471,
          472,
          473,
          474,
          475,
          476,
          477,
          478,
          479,
          480,
          481,
          482,
          483,
          484,
          485,
          486,
          487,
          488,
          489,
          490,
          491,
          492,
          493,
          494,
          495,
          496,
          497,
          498,
          499,
          500,
          501,
          502,
          503,
          504,
          505,
          506,
          507,
          508,
          509,
          510,
          511,
          512,
          513,
          514,
          515,
          516,
          517,
          518,
          519,
          520,
          521,
          522,
          523,
          524,
          525,
          526,
          527,
          528,
          529,
          530,
          531,
          532,
          533,
          534,
          535,
          536,
          537,
          538,
          539,
          540,
          541,
          542,
          543,
          544,
          545,
          546,
          547,
          548,
          549,
          550,
          551,
          552,
          553,
          554,
          555,
          556,
          557,
          558,
          559
         ],
         "y": [
          0.04181476776106834,
          0.3222651745005819,
          0.3337025087810924,
          0.25248509526832114,
          0.27848934860521396,
          0.2753430348993639,
          0.04296760811070015,
          0.025592784141439614,
          0.29143642152146987,
          0.014127768076146918,
          0.30924512045946057,
          -0.01640929561971304,
          0.3569333681415731,
          0.3104939007113563,
          0.36539366274463453,
          -0.01766073952708128,
          0.2792536398064371,
          0.3071592986423272,
          0.28269041402825856,
          0.2723539193017656,
          0.3028518794847007,
          -0.0043410797193360095,
          0.04052744182413375,
          0.02664178331641588,
          0.2926763344533516,
          0.27196385721709354,
          0.36508172835121994,
          0.27635150540925274,
          0.35755801907033236,
          0.28313620013604324,
          0.2860757948501553,
          0.2800747677246627,
          0.04632534819986975,
          0.25836653847660146,
          0.1398419648919016,
          -0.0071394941813945215,
          0.10585897164917764,
          0.07970969084912337,
          0.27672106347353026,
          0.36389159691398754,
          0.28776592245713817,
          0.2737243236714165,
          0.30438938928338766,
          0.3034182988511959,
          0.023057542336778158,
          0.34929277918966395,
          0.22315487522882088,
          0.24685046917514478,
          0.32166944973117534,
          0.2600238047231649,
          0.2777605703781644,
          0.013645200705128705,
          0.04708798780905881,
          0.2822178708975312,
          0.2759509315019665,
          0.28401827908970706,
          0.2560989257278844,
          0.30451629021894744,
          0.014528545936009642,
          0.290395307019048,
          0.06908740935220203,
          0.32075322546260243,
          0.17258793638567974,
          0.005564799738011143,
          0.10809768532007026,
          0.3126550225076758,
          0.28761879395004725,
          0.30927377789989824,
          0.2228978738280668,
          0.3589712245613443,
          -0.01691791024052261,
          0.3168161397103162,
          0.3791140078711208,
          0.22062155394433539,
          0.29277648825354086,
          0.37900201984852505,
          0.35968979846701027,
          0.25791863076370597,
          0.27927467410269585,
          0.25450666777665587,
          0.3461582910361189,
          0.16115700481283105,
          0.24799659221169412,
          0.3612288810014684,
          0.292100846926728,
          -0.01885020221402996,
          0.27608982998437986,
          0.37169742110403403,
          0.28510003235097503,
          0.27059336324879285,
          0.3000405997698213,
          0.3068752904155105,
          0.38258833664031533,
          0.2742908188989225,
          0.27226922782918517,
          0.3206512090385091,
          0.21282158955930008,
          0.01564217680354875,
          0.30844794399758185,
          0.2775351493277997,
          0.01709954314682653,
          0.2734342737973326,
          0.3714555887568763,
          0.2704626503580053,
          0.04541981130169991,
          0.2891859731603898,
          0.26453074540326216,
          0.26494818047580354,
          0.29822314783293397,
          0.2740903893147689,
          0.26550345965848426,
          0.4121216215665647,
          0.2806636922722126,
          0.10424305312003818,
          0.26644780430129417,
          0.374773263541347,
          0.277418056665226,
          0.35692238867675025,
          0.2561121548414604,
          0.31552565312270603,
          0.2928048013735115,
          0.24102085084859812,
          0.2984558741910194,
          -0.0186294491948276,
          0.32042686308490487,
          0.38327650106185396,
          0.3069462315008474,
          0.28763102621733067,
          0.28759913689739697,
          0.14079323886843093,
          0.2865107408784882,
          0.37513518785157723,
          0.2869484023000102,
          0.04014704740386609,
          0.3055313339392429,
          0.3335819557624991,
          0.34632802295771387,
          0.3812327872809029,
          0.3195792312531163,
          0.27671699804885513,
          0.024829977377610613,
          0.28735433146190664,
          0.2679686044115591,
          0.3842161202669742,
          0.28877460347349676,
          0.2701870535972855,
          -0.017620622610328908,
          0.0049503571668745696,
          0.2738473119854962,
          0.007798180907180258,
          0.2746967784930834,
          0.3652339435552552,
          0.3612001800867756,
          0.28356954346505936,
          0.3154528376686228,
          0.32574749447489465,
          0.30678733995708385,
          -0.016348079032768283,
          0.31979455712442395,
          0.3650003435281163,
          0.31236759473278386,
          0.3065918579098918,
          0.01419550781276274,
          0.2197162589337478,
          0.32318707852653283,
          0.3798804367244556,
          0.32741489225820597,
          0.2675020228848177,
          0.26664714309158494,
          0.0268486242524062,
          0.2761478786524512,
          0.28790192340867815,
          0.07435045757233778,
          0.30191048757630345,
          0.2653890973905929,
          0.3105076782076886,
          0.2524225772489156,
          0.27476601697228914,
          0.28702170440497327,
          0.29656077484407894,
          0.3079729430477859,
          0.2676060581210298,
          0.2864520925128608,
          0.0653094994225763,
          0.38014176828212715,
          0.3145074156219052,
          0.05073778780045347,
          0.3245559353769917,
          0.012883382177113352,
          0.047223840276250297,
          0.01277977650485955,
          -0.01897657878555453,
          0.07129537352525814,
          0.2843555580665489,
          0.278753961116234,
          0.3260573649505367,
          0.22266407814847441,
          0.28943666279583585,
          0.3220701147993204,
          0.30013821913484046,
          0.27600403362515263,
          0.3070392663617369,
          0.2697876858089163,
          0.2882486832037088,
          0.2915548129833638,
          0.324788160336497,
          0.015972523018228154,
          0.32499211319171956,
          0.3526552738020312,
          0.3046544983788348,
          0.22268503965643738,
          0.36298759557615623,
          0.24510772316446813,
          0.25655564221462157,
          0.04673519690914938,
          0.3053331621483013,
          0.2510656078264822,
          0.285821091752354,
          -0.021270977703495564,
          0.08007916983920091,
          0.2618115776511144,
          0.4132380142081687,
          0.3024580795230749,
          0.27853192197373117,
          0.3830471038577101,
          0.004938340907815311,
          0.37920688192814145,
          0.0662992203135533,
          0.30221193493858717,
          0.3385217573413564,
          0.274950159256324,
          0.29500011153562716,
          0.32216742531621295,
          0.3037143467575433,
          0.27445143418009427,
          0.22531236284480055,
          0.2873561712922018,
          0.26893120403891446,
          0.30520865302912603,
          0.28819039662339496,
          0.01107016378208881,
          0.3333291746809842,
          0.01603926926231177,
          0.30312957800590895,
          0.37767953735096677,
          0.3588750058576385,
          0.2693330908756533,
          0.2800469234549371,
          0.29250045713708345,
          0.25703296640227435,
          -0.0016385468588787796,
          0.016592777521110193,
          0.2642070244828284,
          -0.01636413492711718,
          0.28530760276146017,
          0.14209772018696545,
          0.30745822310660487,
          0.28586063128246203,
          0.2780906770446683,
          0.2735143253361157,
          0.3789428529671359,
          0.29797177834135263,
          0.32036816824249514,
          0.25357763727970034,
          0.3718905347852092,
          0.28026861712281803,
          0.3296859445625673,
          0.36898201296675925,
          0.2699874680861167,
          0.01969142573516662,
          0.06744157827305576,
          0.24685086779586776,
          0.36058359040711657,
          0.04295895591778154,
          0.28589680364834913,
          0.0791375919284181,
          0.27418285340451576,
          0.3776473677282272,
          0.3181366310136809,
          0.3102787782652465,
          -0.0038676256161721224,
          0.2582110321901034,
          0.29134487518384716,
          0.26203897370567764,
          0.045846791408907434,
          0.250099548377761,
          0.28866214873477164,
          0.01334476933122949,
          0.3783647427857506,
          0.28419705343048596,
          0.2786126253298907,
          0.2487033615346433,
          0.305815667346625,
          0.3753970955289718,
          0.2378140124401448,
          0.04959636302325839,
          0.2224660328904179,
          0.10378510131080519,
          0.24567421839197412,
          0.28295331040821614,
          0.17003557335605127,
          0.2998027789444064,
          0.28479478040357165,
          0.3840392119187828,
          0.008417960500866408,
          0.2909068872407576,
          0.28420536600712637,
          0.260386352158018,
          0.07152656562351974,
          0.2891041309604543,
          0.28959625349449236,
          0.28271306169505755,
          0.3820279703506534,
          0.3051225853090707,
          0.3586788744319962,
          0.2263252399884096,
          0.3207039879238033,
          0.3250306701847747,
          0.2746319566267457,
          0.2505699325296951,
          -0.002007821512736473,
          0.27555130223218127,
          0.04016708447274457,
          0.30280520280205675,
          0.2412609481097384,
          0.2212753776689164,
          0.34772900524973444,
          0.22139709491120121,
          0.30993275970673917,
          0.29760468662464035,
          0.3060829826793882,
          0.16988429181072345,
          0.34270530211251515,
          0.26386583138661407,
          0.2807498668658463,
          0.027291693345952255,
          0.30301326120424166,
          0.30441889754029006,
          0.32536819748379703,
          0.2975485339571707,
          0.30472210384012743,
          0.053085505940144544,
          0.2681478855962869,
          0.3853720511816711,
          0.3087588068838682,
          0.3677186848366882,
          0.22407620843041598,
          0.15995606785836086,
          0.22454985725302362,
          0.3005313921852111,
          0.06738518042777644,
          0.2741277891520703,
          0.30067897053852255,
          0.0043610194305885135,
          0.27557433951791266,
          0.2789079071732679,
          0.30200590688323037,
          0.3378593280298283,
          0.2991176399219462,
          0.30323726586951705,
          0.23288170526832402,
          0.2888621427367991,
          0.38124652389129754,
          0.04916904174557648,
          0.37556702878922615,
          0.25521276816250577,
          0.30653020169426254,
          0.04482408653229333,
          0.3119266264068456,
          0.3064271996683222,
          0.05783258295696378,
          0.35713450119980333,
          0.2777840512844636,
          0.28550586798641064,
          0.2513092069222509,
          0.2738972273427558,
          0.27793810377862266,
          0.25627132679517356,
          0.378046629067679,
          0.29220737401390623,
          0.28829424993173447,
          0.22359901360471277,
          0.2605861532258066,
          0.36055163257471057,
          0.3792976351778236,
          0.2821619299247168,
          0.2899688500042098,
          0.3019507069216022,
          0.37566939711644287,
          0.3321973286470955,
          0.31662883369140277,
          0.285985096838367,
          0.3486137193956563,
          0.24709460971072641,
          0.3735196821254308,
          0.10554400417037343,
          0.22604615787260568,
          0.38229342118800197,
          0.2859822789626388,
          0.30161019555040897,
          0.2850374612166413,
          0.2477591911779726,
          0.261843567562434,
          0.2542570952056914,
          0.04297212247258276,
          0.2781338576439915,
          0.32058139272586567,
          0.06648603335174262,
          0.29328325936491884,
          0.24413526103375563,
          0.2212808984678419,
          0.05868906472696564,
          0.3076093268654621,
          0.2997131449055785,
          0.288539245991584,
          0.06847808391819869,
          0.2542016103371953,
          0.22350971320291,
          0.381114980852314,
          0.29353286933703704,
          0.28354494163051847,
          0.3561550847505523,
          0.3045972128394027,
          0.28233391004711794,
          0.05047952141191155,
          -0.015042513745746482,
          0.3053237075465458,
          0.22171780555699402,
          0.012152833878304348,
          0.3115973959840997,
          0.3048873696067618,
          0.35863634019870383,
          0.2862000455584946,
          0.30293001035158357,
          0.26894191104021037,
          0.3001344072345441,
          0.07803732230042867,
          0.3601986370009605,
          0.3078450435888854,
          0.31146444927866457,
          0.27520713896160337,
          0.3237314825350754,
          0.3152320881434975,
          0.3087357881670132,
          0.3222450417451033,
          0.32032250476233726,
          0.27514995960213634,
          0.0430469177781423,
          0.04391017515643577,
          -0.0002711662418063534,
          -0.004149329575610242,
          0.37906391337176776,
          0.28834840758385594,
          0.3226101815990476,
          0.32846521834815134,
          -0.01874032988376507,
          0.2752922554201307,
          0.38182672394136546,
          0.2855236045676614,
          0.3029579676421303,
          0.08150233282945181,
          0.045265281660739086,
          0.32031000262146986,
          0.28315906821101744,
          0.28887766573280144,
          0.2603862451656501,
          0.2695590431291688,
          0.2771350659629602,
          0.30900692475143665,
          0.2853833742134398,
          0.08039321275478133,
          0.016753774336225647,
          0.361095606345003,
          0.274550496271459,
          0.2854649627107002,
          0.28607796090044263,
          0.3229369711628402,
          0.21900205287537805,
          0.31182354157996134,
          0.28451277350525284,
          0.2891558187507999,
          0.3617443880660486,
          0.2770075798520491,
          0.3649762558983765,
          0.013914807610607446,
          0.26807271420432965,
          0.22988759429578753,
          0.34233089526886085,
          0.2866452536402585,
          0.3188494361694685,
          0.2599672547794741,
          0.2819830328220781,
          0.30282046283279257,
          0.26560364305149925,
          0.30638787455903294,
          0.015007586030580037,
          0.28982073787519097,
          0.37417861538643565,
          0.4036960370981832,
          0.24932400528684756,
          0.013028990082523836,
          0.31166590853727744,
          0.2928736195293976,
          0.10063840499964548,
          0.3819883661379709,
          0.04245838731963965,
          0.3824618126805253,
          0.31678828004132353,
          0.1411375008588445,
          0.3059584188336873,
          0.2536127341918662,
          0.27583338632996324,
          0.3611138894196197,
          0.302876019381384,
          0.35952806618698396,
          0.3595487008875253,
          0.26485167940240756,
          0.37807511108976205,
          0.2242861165399804,
          0.32201546221465555,
          0.2516518953314759,
          0.2886571203541338,
          0.2388635268731645,
          0.31900319839270735,
          0.27470518779793596,
          0.2500858401560204,
          0.30734236479622024,
          0.0465606300364797,
          0.32570112530393147,
          0.02060989419288752,
          0.3821327724942183,
          0.30572586943204305,
          0.3089432490040086,
          0.10761137174447788,
          0.005329024667777348,
          0.3165581895185329,
          0.28827429549349165,
          0.3083086131708904,
          0.28200809686512013,
          0.3481779430936606,
          0.3747268931437397,
          0.30404434558383514,
          0.3641818498525429,
          0.1600685523742094,
          0.264297672324263,
          0.37686715252114766,
          0.34723198164413877,
          0.024631232367221405,
          0.2216713126767793,
          0.3607782909501533,
          0.045135012700589096,
          0.2682241666995998,
          0.28855329019634784,
          0.050867784549345006,
          0.34491413383249203,
          0.3084338061118542,
          0.27748423851256704,
          0.3005524751486491,
          0.27331533704962996,
          -0.02106589762269077
         ]
        },
        {
         "mode": "lines",
         "name": "Best Value",
         "type": "scatter",
         "x": [
          0,
          1,
          2,
          3,
          4,
          5,
          6,
          7,
          8,
          9,
          10,
          11,
          12,
          13,
          14,
          15,
          16,
          17,
          18,
          19,
          20,
          21,
          22,
          23,
          24,
          25,
          26,
          27,
          28,
          29,
          30,
          31,
          32,
          33,
          34,
          35,
          36,
          37,
          38,
          39,
          40,
          41,
          42,
          43,
          44,
          45,
          46,
          47,
          48,
          49,
          50,
          51,
          52,
          53,
          54,
          55,
          56,
          57,
          58,
          59,
          60,
          61,
          62,
          63,
          64,
          65,
          66,
          67,
          68,
          69,
          70,
          71,
          72,
          73,
          74,
          75,
          76,
          77,
          78,
          79,
          80,
          81,
          82,
          83,
          84,
          85,
          86,
          87,
          88,
          89,
          90,
          91,
          92,
          93,
          94,
          95,
          96,
          97,
          98,
          99,
          100,
          101,
          102,
          103,
          104,
          105,
          106,
          107,
          108,
          109,
          110,
          111,
          112,
          113,
          114,
          115,
          116,
          117,
          118,
          119,
          120,
          121,
          122,
          123,
          124,
          125,
          126,
          127,
          128,
          129,
          130,
          131,
          132,
          133,
          134,
          135,
          136,
          137,
          138,
          139,
          140,
          141,
          142,
          143,
          144,
          145,
          146,
          147,
          148,
          149,
          150,
          151,
          152,
          153,
          154,
          155,
          156,
          157,
          158,
          159,
          160,
          161,
          162,
          163,
          164,
          165,
          166,
          167,
          168,
          169,
          170,
          171,
          172,
          173,
          174,
          175,
          176,
          177,
          178,
          179,
          180,
          181,
          182,
          183,
          184,
          185,
          186,
          187,
          188,
          189,
          190,
          191,
          192,
          193,
          194,
          195,
          196,
          197,
          198,
          199,
          200,
          201,
          202,
          203,
          204,
          205,
          206,
          207,
          208,
          209,
          210,
          211,
          212,
          213,
          214,
          215,
          216,
          217,
          218,
          219,
          220,
          221,
          222,
          223,
          224,
          225,
          226,
          227,
          228,
          229,
          230,
          231,
          232,
          233,
          234,
          235,
          236,
          237,
          238,
          239,
          240,
          241,
          242,
          243,
          244,
          245,
          246,
          247,
          248,
          249,
          250,
          251,
          252,
          253,
          254,
          255,
          256,
          257,
          258,
          259,
          260,
          261,
          262,
          263,
          264,
          265,
          266,
          267,
          268,
          269,
          270,
          271,
          272,
          273,
          274,
          275,
          276,
          277,
          278,
          279,
          280,
          281,
          282,
          283,
          284,
          285,
          286,
          287,
          288,
          289,
          290,
          291,
          292,
          293,
          294,
          295,
          296,
          297,
          298,
          299,
          300,
          301,
          302,
          303,
          304,
          305,
          306,
          307,
          308,
          309,
          310,
          311,
          312,
          313,
          314,
          315,
          316,
          317,
          318,
          319,
          320,
          321,
          322,
          323,
          324,
          325,
          326,
          327,
          328,
          329,
          330,
          331,
          332,
          333,
          334,
          335,
          336,
          337,
          338,
          339,
          340,
          341,
          342,
          343,
          344,
          345,
          346,
          347,
          348,
          349,
          350,
          351,
          352,
          353,
          354,
          355,
          356,
          357,
          358,
          359,
          360,
          361,
          362,
          363,
          364,
          365,
          366,
          367,
          368,
          369,
          370,
          371,
          372,
          373,
          374,
          375,
          376,
          377,
          378,
          379,
          380,
          381,
          382,
          383,
          384,
          385,
          386,
          387,
          388,
          389,
          390,
          391,
          392,
          393,
          394,
          395,
          396,
          397,
          398,
          399,
          400,
          401,
          402,
          403,
          404,
          405,
          406,
          407,
          408,
          409,
          410,
          411,
          412,
          413,
          414,
          415,
          416,
          417,
          418,
          419,
          420,
          421,
          422,
          423,
          424,
          425,
          426,
          427,
          428,
          429,
          430,
          431,
          432,
          433,
          434,
          435,
          436,
          437,
          438,
          439,
          440,
          441,
          442,
          443,
          444,
          445,
          446,
          447,
          448,
          449,
          450,
          451,
          452,
          453,
          454,
          455,
          456,
          457,
          458,
          459,
          460,
          461,
          462,
          463,
          464,
          465,
          466,
          467,
          468,
          469,
          470,
          471,
          472,
          473,
          474,
          475,
          476,
          477,
          478,
          479,
          480,
          481,
          482,
          483,
          484,
          485,
          486,
          487,
          488,
          489,
          490,
          491,
          492,
          493,
          494,
          495,
          496,
          497,
          498,
          499,
          500,
          501,
          502,
          503,
          504,
          505,
          506,
          507,
          508,
          509,
          510,
          511,
          512,
          513,
          514,
          515,
          516,
          517,
          518,
          519,
          520,
          521,
          522,
          523,
          524,
          525,
          526,
          527,
          528,
          529,
          530,
          531,
          532,
          533,
          534,
          535,
          536,
          537,
          538,
          539,
          540,
          541,
          542,
          543,
          544,
          545,
          546,
          547,
          548,
          549,
          550,
          551,
          552,
          553,
          554,
          555,
          556,
          557,
          558,
          559
         ],
         "y": [
          0.04181476776106834,
          0.3222651745005819,
          0.3337025087810924,
          0.3337025087810924,
          0.3337025087810924,
          0.3337025087810924,
          0.3337025087810924,
          0.3337025087810924,
          0.3337025087810924,
          0.3337025087810924,
          0.3337025087810924,
          0.3337025087810924,
          0.3569333681415731,
          0.3569333681415731,
          0.36539366274463453,
          0.36539366274463453,
          0.36539366274463453,
          0.36539366274463453,
          0.36539366274463453,
          0.36539366274463453,
          0.36539366274463453,
          0.36539366274463453,
          0.36539366274463453,
          0.36539366274463453,
          0.36539366274463453,
          0.36539366274463453,
          0.36539366274463453,
          0.36539366274463453,
          0.36539366274463453,
          0.36539366274463453,
          0.36539366274463453,
          0.36539366274463453,
          0.36539366274463453,
          0.36539366274463453,
          0.36539366274463453,
          0.36539366274463453,
          0.36539366274463453,
          0.36539366274463453,
          0.36539366274463453,
          0.36539366274463453,
          0.36539366274463453,
          0.36539366274463453,
          0.36539366274463453,
          0.36539366274463453,
          0.36539366274463453,
          0.36539366274463453,
          0.36539366274463453,
          0.36539366274463453,
          0.36539366274463453,
          0.36539366274463453,
          0.36539366274463453,
          0.36539366274463453,
          0.36539366274463453,
          0.36539366274463453,
          0.36539366274463453,
          0.36539366274463453,
          0.36539366274463453,
          0.36539366274463453,
          0.36539366274463453,
          0.36539366274463453,
          0.36539366274463453,
          0.36539366274463453,
          0.36539366274463453,
          0.36539366274463453,
          0.36539366274463453,
          0.36539366274463453,
          0.36539366274463453,
          0.36539366274463453,
          0.36539366274463453,
          0.36539366274463453,
          0.36539366274463453,
          0.36539366274463453,
          0.3791140078711208,
          0.3791140078711208,
          0.3791140078711208,
          0.3791140078711208,
          0.3791140078711208,
          0.3791140078711208,
          0.3791140078711208,
          0.3791140078711208,
          0.3791140078711208,
          0.3791140078711208,
          0.3791140078711208,
          0.3791140078711208,
          0.3791140078711208,
          0.3791140078711208,
          0.3791140078711208,
          0.3791140078711208,
          0.3791140078711208,
          0.3791140078711208,
          0.3791140078711208,
          0.3791140078711208,
          0.38258833664031533,
          0.38258833664031533,
          0.38258833664031533,
          0.38258833664031533,
          0.38258833664031533,
          0.38258833664031533,
          0.38258833664031533,
          0.38258833664031533,
          0.38258833664031533,
          0.38258833664031533,
          0.38258833664031533,
          0.38258833664031533,
          0.38258833664031533,
          0.38258833664031533,
          0.38258833664031533,
          0.38258833664031533,
          0.38258833664031533,
          0.38258833664031533,
          0.38258833664031533,
          0.4121216215665647,
          0.4121216215665647,
          0.4121216215665647,
          0.4121216215665647,
          0.4121216215665647,
          0.4121216215665647,
          0.4121216215665647,
          0.4121216215665647,
          0.4121216215665647,
          0.4121216215665647,
          0.4121216215665647,
          0.4121216215665647,
          0.4121216215665647,
          0.4121216215665647,
          0.4121216215665647,
          0.4121216215665647,
          0.4121216215665647,
          0.4121216215665647,
          0.4121216215665647,
          0.4121216215665647,
          0.4121216215665647,
          0.4121216215665647,
          0.4121216215665647,
          0.4121216215665647,
          0.4121216215665647,
          0.4121216215665647,
          0.4121216215665647,
          0.4121216215665647,
          0.4121216215665647,
          0.4121216215665647,
          0.4121216215665647,
          0.4121216215665647,
          0.4121216215665647,
          0.4121216215665647,
          0.4121216215665647,
          0.4121216215665647,
          0.4121216215665647,
          0.4121216215665647,
          0.4121216215665647,
          0.4121216215665647,
          0.4121216215665647,
          0.4121216215665647,
          0.4121216215665647,
          0.4121216215665647,
          0.4121216215665647,
          0.4121216215665647,
          0.4121216215665647,
          0.4121216215665647,
          0.4121216215665647,
          0.4121216215665647,
          0.4121216215665647,
          0.4121216215665647,
          0.4121216215665647,
          0.4121216215665647,
          0.4121216215665647,
          0.4121216215665647,
          0.4121216215665647,
          0.4121216215665647,
          0.4121216215665647,
          0.4121216215665647,
          0.4121216215665647,
          0.4121216215665647,
          0.4121216215665647,
          0.4121216215665647,
          0.4121216215665647,
          0.4121216215665647,
          0.4121216215665647,
          0.4121216215665647,
          0.4121216215665647,
          0.4121216215665647,
          0.4121216215665647,
          0.4121216215665647,
          0.4121216215665647,
          0.4121216215665647,
          0.4121216215665647,
          0.4121216215665647,
          0.4121216215665647,
          0.4121216215665647,
          0.4121216215665647,
          0.4121216215665647,
          0.4121216215665647,
          0.4121216215665647,
          0.4121216215665647,
          0.4121216215665647,
          0.4121216215665647,
          0.4121216215665647,
          0.4121216215665647,
          0.4121216215665647,
          0.4121216215665647,
          0.4121216215665647,
          0.4121216215665647,
          0.4121216215665647,
          0.4121216215665647,
          0.4121216215665647,
          0.4121216215665647,
          0.4121216215665647,
          0.4121216215665647,
          0.4121216215665647,
          0.4121216215665647,
          0.4121216215665647,
          0.4121216215665647,
          0.4121216215665647,
          0.4121216215665647,
          0.4121216215665647,
          0.4121216215665647,
          0.4121216215665647,
          0.4121216215665647,
          0.4121216215665647,
          0.4121216215665647,
          0.4121216215665647,
          0.4132380142081687,
          0.4132380142081687,
          0.4132380142081687,
          0.4132380142081687,
          0.4132380142081687,
          0.4132380142081687,
          0.4132380142081687,
          0.4132380142081687,
          0.4132380142081687,
          0.4132380142081687,
          0.4132380142081687,
          0.4132380142081687,
          0.4132380142081687,
          0.4132380142081687,
          0.4132380142081687,
          0.4132380142081687,
          0.4132380142081687,
          0.4132380142081687,
          0.4132380142081687,
          0.4132380142081687,
          0.4132380142081687,
          0.4132380142081687,
          0.4132380142081687,
          0.4132380142081687,
          0.4132380142081687,
          0.4132380142081687,
          0.4132380142081687,
          0.4132380142081687,
          0.4132380142081687,
          0.4132380142081687,
          0.4132380142081687,
          0.4132380142081687,
          0.4132380142081687,
          0.4132380142081687,
          0.4132380142081687,
          0.4132380142081687,
          0.4132380142081687,
          0.4132380142081687,
          0.4132380142081687,
          0.4132380142081687,
          0.4132380142081687,
          0.4132380142081687,
          0.4132380142081687,
          0.4132380142081687,
          0.4132380142081687,
          0.4132380142081687,
          0.4132380142081687,
          0.4132380142081687,
          0.4132380142081687,
          0.4132380142081687,
          0.4132380142081687,
          0.4132380142081687,
          0.4132380142081687,
          0.4132380142081687,
          0.4132380142081687,
          0.4132380142081687,
          0.4132380142081687,
          0.4132380142081687,
          0.4132380142081687,
          0.4132380142081687,
          0.4132380142081687,
          0.4132380142081687,
          0.4132380142081687,
          0.4132380142081687,
          0.4132380142081687,
          0.4132380142081687,
          0.4132380142081687,
          0.4132380142081687,
          0.4132380142081687,
          0.4132380142081687,
          0.4132380142081687,
          0.4132380142081687,
          0.4132380142081687,
          0.4132380142081687,
          0.4132380142081687,
          0.4132380142081687,
          0.4132380142081687,
          0.4132380142081687,
          0.4132380142081687,
          0.4132380142081687,
          0.4132380142081687,
          0.4132380142081687,
          0.4132380142081687,
          0.4132380142081687,
          0.4132380142081687,
          0.4132380142081687,
          0.4132380142081687,
          0.4132380142081687,
          0.4132380142081687,
          0.4132380142081687,
          0.4132380142081687,
          0.4132380142081687,
          0.4132380142081687,
          0.4132380142081687,
          0.4132380142081687,
          0.4132380142081687,
          0.4132380142081687,
          0.4132380142081687,
          0.4132380142081687,
          0.4132380142081687,
          0.4132380142081687,
          0.4132380142081687,
          0.4132380142081687,
          0.4132380142081687,
          0.4132380142081687,
          0.4132380142081687,
          0.4132380142081687,
          0.4132380142081687,
          0.4132380142081687,
          0.4132380142081687,
          0.4132380142081687,
          0.4132380142081687,
          0.4132380142081687,
          0.4132380142081687,
          0.4132380142081687,
          0.4132380142081687,
          0.4132380142081687,
          0.4132380142081687,
          0.4132380142081687,
          0.4132380142081687,
          0.4132380142081687,
          0.4132380142081687,
          0.4132380142081687,
          0.4132380142081687,
          0.4132380142081687,
          0.4132380142081687,
          0.4132380142081687,
          0.4132380142081687,
          0.4132380142081687,
          0.4132380142081687,
          0.4132380142081687,
          0.4132380142081687,
          0.4132380142081687,
          0.4132380142081687,
          0.4132380142081687,
          0.4132380142081687,
          0.4132380142081687,
          0.4132380142081687,
          0.4132380142081687,
          0.4132380142081687,
          0.4132380142081687,
          0.4132380142081687,
          0.4132380142081687,
          0.4132380142081687,
          0.4132380142081687,
          0.4132380142081687,
          0.4132380142081687,
          0.4132380142081687,
          0.4132380142081687,
          0.4132380142081687,
          0.4132380142081687,
          0.4132380142081687,
          0.4132380142081687,
          0.4132380142081687,
          0.4132380142081687,
          0.4132380142081687,
          0.4132380142081687,
          0.4132380142081687,
          0.4132380142081687,
          0.4132380142081687,
          0.4132380142081687,
          0.4132380142081687,
          0.4132380142081687,
          0.4132380142081687,
          0.4132380142081687,
          0.4132380142081687,
          0.4132380142081687,
          0.4132380142081687,
          0.4132380142081687,
          0.4132380142081687,
          0.4132380142081687,
          0.4132380142081687,
          0.4132380142081687,
          0.4132380142081687,
          0.4132380142081687,
          0.4132380142081687,
          0.4132380142081687,
          0.4132380142081687,
          0.4132380142081687,
          0.4132380142081687,
          0.4132380142081687,
          0.4132380142081687,
          0.4132380142081687,
          0.4132380142081687,
          0.4132380142081687,
          0.4132380142081687,
          0.4132380142081687,
          0.4132380142081687,
          0.4132380142081687,
          0.4132380142081687,
          0.4132380142081687,
          0.4132380142081687,
          0.4132380142081687,
          0.4132380142081687,
          0.4132380142081687,
          0.4132380142081687,
          0.4132380142081687,
          0.4132380142081687,
          0.4132380142081687,
          0.4132380142081687,
          0.4132380142081687,
          0.4132380142081687,
          0.4132380142081687,
          0.4132380142081687,
          0.4132380142081687,
          0.4132380142081687,
          0.4132380142081687,
          0.4132380142081687,
          0.4132380142081687,
          0.4132380142081687,
          0.4132380142081687,
          0.4132380142081687,
          0.4132380142081687,
          0.4132380142081687,
          0.4132380142081687,
          0.4132380142081687,
          0.4132380142081687,
          0.4132380142081687,
          0.4132380142081687,
          0.4132380142081687,
          0.4132380142081687,
          0.4132380142081687,
          0.4132380142081687,
          0.4132380142081687,
          0.4132380142081687,
          0.4132380142081687,
          0.4132380142081687,
          0.4132380142081687,
          0.4132380142081687,
          0.4132380142081687,
          0.4132380142081687,
          0.4132380142081687,
          0.4132380142081687,
          0.4132380142081687,
          0.4132380142081687,
          0.4132380142081687,
          0.4132380142081687,
          0.4132380142081687,
          0.4132380142081687,
          0.4132380142081687,
          0.4132380142081687,
          0.4132380142081687,
          0.4132380142081687,
          0.4132380142081687,
          0.4132380142081687,
          0.4132380142081687,
          0.4132380142081687,
          0.4132380142081687,
          0.4132380142081687,
          0.4132380142081687,
          0.4132380142081687,
          0.4132380142081687,
          0.4132380142081687,
          0.4132380142081687,
          0.4132380142081687,
          0.4132380142081687,
          0.4132380142081687,
          0.4132380142081687,
          0.4132380142081687,
          0.4132380142081687,
          0.4132380142081687,
          0.4132380142081687,
          0.4132380142081687,
          0.4132380142081687,
          0.4132380142081687,
          0.4132380142081687,
          0.4132380142081687,
          0.4132380142081687,
          0.4132380142081687,
          0.4132380142081687,
          0.4132380142081687,
          0.4132380142081687,
          0.4132380142081687,
          0.4132380142081687,
          0.4132380142081687,
          0.4132380142081687,
          0.4132380142081687,
          0.4132380142081687,
          0.4132380142081687,
          0.4132380142081687,
          0.4132380142081687,
          0.4132380142081687,
          0.4132380142081687,
          0.4132380142081687,
          0.4132380142081687,
          0.4132380142081687,
          0.4132380142081687,
          0.4132380142081687,
          0.4132380142081687,
          0.4132380142081687,
          0.4132380142081687,
          0.4132380142081687,
          0.4132380142081687,
          0.4132380142081687,
          0.4132380142081687,
          0.4132380142081687,
          0.4132380142081687,
          0.4132380142081687,
          0.4132380142081687,
          0.4132380142081687,
          0.4132380142081687,
          0.4132380142081687,
          0.4132380142081687,
          0.4132380142081687,
          0.4132380142081687,
          0.4132380142081687,
          0.4132380142081687,
          0.4132380142081687,
          0.4132380142081687,
          0.4132380142081687,
          0.4132380142081687,
          0.4132380142081687,
          0.4132380142081687,
          0.4132380142081687,
          0.4132380142081687,
          0.4132380142081687,
          0.4132380142081687,
          0.4132380142081687,
          0.4132380142081687,
          0.4132380142081687,
          0.4132380142081687,
          0.4132380142081687,
          0.4132380142081687,
          0.4132380142081687,
          0.4132380142081687,
          0.4132380142081687,
          0.4132380142081687,
          0.4132380142081687,
          0.4132380142081687,
          0.4132380142081687,
          0.4132380142081687,
          0.4132380142081687,
          0.4132380142081687,
          0.4132380142081687,
          0.4132380142081687,
          0.4132380142081687,
          0.4132380142081687,
          0.4132380142081687,
          0.4132380142081687
         ]
        },
        {
         "marker": {
          "color": "#cccccc"
         },
         "mode": "markers",
         "name": "Infeasible Trial",
         "showlegend": false,
         "type": "scatter",
         "x": [],
         "y": []
        }
       ],
       "layout": {
        "template": {
         "data": {
          "bar": [
           {
            "error_x": {
             "color": "#2a3f5f"
            },
            "error_y": {
             "color": "#2a3f5f"
            },
            "marker": {
             "line": {
              "color": "#E5ECF6",
              "width": 0.5
             },
             "pattern": {
              "fillmode": "overlay",
              "size": 10,
              "solidity": 0.2
             }
            },
            "type": "bar"
           }
          ],
          "barpolar": [
           {
            "marker": {
             "line": {
              "color": "#E5ECF6",
              "width": 0.5
             },
             "pattern": {
              "fillmode": "overlay",
              "size": 10,
              "solidity": 0.2
             }
            },
            "type": "barpolar"
           }
          ],
          "carpet": [
           {
            "aaxis": {
             "endlinecolor": "#2a3f5f",
             "gridcolor": "white",
             "linecolor": "white",
             "minorgridcolor": "white",
             "startlinecolor": "#2a3f5f"
            },
            "baxis": {
             "endlinecolor": "#2a3f5f",
             "gridcolor": "white",
             "linecolor": "white",
             "minorgridcolor": "white",
             "startlinecolor": "#2a3f5f"
            },
            "type": "carpet"
           }
          ],
          "choropleth": [
           {
            "colorbar": {
             "outlinewidth": 0,
             "ticks": ""
            },
            "type": "choropleth"
           }
          ],
          "contour": [
           {
            "colorbar": {
             "outlinewidth": 0,
             "ticks": ""
            },
            "colorscale": [
             [
              0,
              "#0d0887"
             ],
             [
              0.1111111111111111,
              "#46039f"
             ],
             [
              0.2222222222222222,
              "#7201a8"
             ],
             [
              0.3333333333333333,
              "#9c179e"
             ],
             [
              0.4444444444444444,
              "#bd3786"
             ],
             [
              0.5555555555555556,
              "#d8576b"
             ],
             [
              0.6666666666666666,
              "#ed7953"
             ],
             [
              0.7777777777777778,
              "#fb9f3a"
             ],
             [
              0.8888888888888888,
              "#fdca26"
             ],
             [
              1,
              "#f0f921"
             ]
            ],
            "type": "contour"
           }
          ],
          "contourcarpet": [
           {
            "colorbar": {
             "outlinewidth": 0,
             "ticks": ""
            },
            "type": "contourcarpet"
           }
          ],
          "heatmap": [
           {
            "colorbar": {
             "outlinewidth": 0,
             "ticks": ""
            },
            "colorscale": [
             [
              0,
              "#0d0887"
             ],
             [
              0.1111111111111111,
              "#46039f"
             ],
             [
              0.2222222222222222,
              "#7201a8"
             ],
             [
              0.3333333333333333,
              "#9c179e"
             ],
             [
              0.4444444444444444,
              "#bd3786"
             ],
             [
              0.5555555555555556,
              "#d8576b"
             ],
             [
              0.6666666666666666,
              "#ed7953"
             ],
             [
              0.7777777777777778,
              "#fb9f3a"
             ],
             [
              0.8888888888888888,
              "#fdca26"
             ],
             [
              1,
              "#f0f921"
             ]
            ],
            "type": "heatmap"
           }
          ],
          "histogram": [
           {
            "marker": {
             "pattern": {
              "fillmode": "overlay",
              "size": 10,
              "solidity": 0.2
             }
            },
            "type": "histogram"
           }
          ],
          "histogram2d": [
           {
            "colorbar": {
             "outlinewidth": 0,
             "ticks": ""
            },
            "colorscale": [
             [
              0,
              "#0d0887"
             ],
             [
              0.1111111111111111,
              "#46039f"
             ],
             [
              0.2222222222222222,
              "#7201a8"
             ],
             [
              0.3333333333333333,
              "#9c179e"
             ],
             [
              0.4444444444444444,
              "#bd3786"
             ],
             [
              0.5555555555555556,
              "#d8576b"
             ],
             [
              0.6666666666666666,
              "#ed7953"
             ],
             [
              0.7777777777777778,
              "#fb9f3a"
             ],
             [
              0.8888888888888888,
              "#fdca26"
             ],
             [
              1,
              "#f0f921"
             ]
            ],
            "type": "histogram2d"
           }
          ],
          "histogram2dcontour": [
           {
            "colorbar": {
             "outlinewidth": 0,
             "ticks": ""
            },
            "colorscale": [
             [
              0,
              "#0d0887"
             ],
             [
              0.1111111111111111,
              "#46039f"
             ],
             [
              0.2222222222222222,
              "#7201a8"
             ],
             [
              0.3333333333333333,
              "#9c179e"
             ],
             [
              0.4444444444444444,
              "#bd3786"
             ],
             [
              0.5555555555555556,
              "#d8576b"
             ],
             [
              0.6666666666666666,
              "#ed7953"
             ],
             [
              0.7777777777777778,
              "#fb9f3a"
             ],
             [
              0.8888888888888888,
              "#fdca26"
             ],
             [
              1,
              "#f0f921"
             ]
            ],
            "type": "histogram2dcontour"
           }
          ],
          "mesh3d": [
           {
            "colorbar": {
             "outlinewidth": 0,
             "ticks": ""
            },
            "type": "mesh3d"
           }
          ],
          "parcoords": [
           {
            "line": {
             "colorbar": {
              "outlinewidth": 0,
              "ticks": ""
             }
            },
            "type": "parcoords"
           }
          ],
          "pie": [
           {
            "automargin": true,
            "type": "pie"
           }
          ],
          "scatter": [
           {
            "fillpattern": {
             "fillmode": "overlay",
             "size": 10,
             "solidity": 0.2
            },
            "type": "scatter"
           }
          ],
          "scatter3d": [
           {
            "line": {
             "colorbar": {
              "outlinewidth": 0,
              "ticks": ""
             }
            },
            "marker": {
             "colorbar": {
              "outlinewidth": 0,
              "ticks": ""
             }
            },
            "type": "scatter3d"
           }
          ],
          "scattercarpet": [
           {
            "marker": {
             "colorbar": {
              "outlinewidth": 0,
              "ticks": ""
             }
            },
            "type": "scattercarpet"
           }
          ],
          "scattergeo": [
           {
            "marker": {
             "colorbar": {
              "outlinewidth": 0,
              "ticks": ""
             }
            },
            "type": "scattergeo"
           }
          ],
          "scattergl": [
           {
            "marker": {
             "colorbar": {
              "outlinewidth": 0,
              "ticks": ""
             }
            },
            "type": "scattergl"
           }
          ],
          "scattermap": [
           {
            "marker": {
             "colorbar": {
              "outlinewidth": 0,
              "ticks": ""
             }
            },
            "type": "scattermap"
           }
          ],
          "scattermapbox": [
           {
            "marker": {
             "colorbar": {
              "outlinewidth": 0,
              "ticks": ""
             }
            },
            "type": "scattermapbox"
           }
          ],
          "scatterpolar": [
           {
            "marker": {
             "colorbar": {
              "outlinewidth": 0,
              "ticks": ""
             }
            },
            "type": "scatterpolar"
           }
          ],
          "scatterpolargl": [
           {
            "marker": {
             "colorbar": {
              "outlinewidth": 0,
              "ticks": ""
             }
            },
            "type": "scatterpolargl"
           }
          ],
          "scatterternary": [
           {
            "marker": {
             "colorbar": {
              "outlinewidth": 0,
              "ticks": ""
             }
            },
            "type": "scatterternary"
           }
          ],
          "surface": [
           {
            "colorbar": {
             "outlinewidth": 0,
             "ticks": ""
            },
            "colorscale": [
             [
              0,
              "#0d0887"
             ],
             [
              0.1111111111111111,
              "#46039f"
             ],
             [
              0.2222222222222222,
              "#7201a8"
             ],
             [
              0.3333333333333333,
              "#9c179e"
             ],
             [
              0.4444444444444444,
              "#bd3786"
             ],
             [
              0.5555555555555556,
              "#d8576b"
             ],
             [
              0.6666666666666666,
              "#ed7953"
             ],
             [
              0.7777777777777778,
              "#fb9f3a"
             ],
             [
              0.8888888888888888,
              "#fdca26"
             ],
             [
              1,
              "#f0f921"
             ]
            ],
            "type": "surface"
           }
          ],
          "table": [
           {
            "cells": {
             "fill": {
              "color": "#EBF0F8"
             },
             "line": {
              "color": "white"
             }
            },
            "header": {
             "fill": {
              "color": "#C8D4E3"
             },
             "line": {
              "color": "white"
             }
            },
            "type": "table"
           }
          ]
         },
         "layout": {
          "annotationdefaults": {
           "arrowcolor": "#2a3f5f",
           "arrowhead": 0,
           "arrowwidth": 1
          },
          "autotypenumbers": "strict",
          "coloraxis": {
           "colorbar": {
            "outlinewidth": 0,
            "ticks": ""
           }
          },
          "colorscale": {
           "diverging": [
            [
             0,
             "#8e0152"
            ],
            [
             0.1,
             "#c51b7d"
            ],
            [
             0.2,
             "#de77ae"
            ],
            [
             0.3,
             "#f1b6da"
            ],
            [
             0.4,
             "#fde0ef"
            ],
            [
             0.5,
             "#f7f7f7"
            ],
            [
             0.6,
             "#e6f5d0"
            ],
            [
             0.7,
             "#b8e186"
            ],
            [
             0.8,
             "#7fbc41"
            ],
            [
             0.9,
             "#4d9221"
            ],
            [
             1,
             "#276419"
            ]
           ],
           "sequential": [
            [
             0,
             "#0d0887"
            ],
            [
             0.1111111111111111,
             "#46039f"
            ],
            [
             0.2222222222222222,
             "#7201a8"
            ],
            [
             0.3333333333333333,
             "#9c179e"
            ],
            [
             0.4444444444444444,
             "#bd3786"
            ],
            [
             0.5555555555555556,
             "#d8576b"
            ],
            [
             0.6666666666666666,
             "#ed7953"
            ],
            [
             0.7777777777777778,
             "#fb9f3a"
            ],
            [
             0.8888888888888888,
             "#fdca26"
            ],
            [
             1,
             "#f0f921"
            ]
           ],
           "sequentialminus": [
            [
             0,
             "#0d0887"
            ],
            [
             0.1111111111111111,
             "#46039f"
            ],
            [
             0.2222222222222222,
             "#7201a8"
            ],
            [
             0.3333333333333333,
             "#9c179e"
            ],
            [
             0.4444444444444444,
             "#bd3786"
            ],
            [
             0.5555555555555556,
             "#d8576b"
            ],
            [
             0.6666666666666666,
             "#ed7953"
            ],
            [
             0.7777777777777778,
             "#fb9f3a"
            ],
            [
             0.8888888888888888,
             "#fdca26"
            ],
            [
             1,
             "#f0f921"
            ]
           ]
          },
          "colorway": [
           "#636efa",
           "#EF553B",
           "#00cc96",
           "#ab63fa",
           "#FFA15A",
           "#19d3f3",
           "#FF6692",
           "#B6E880",
           "#FF97FF",
           "#FECB52"
          ],
          "font": {
           "color": "#2a3f5f"
          },
          "geo": {
           "bgcolor": "white",
           "lakecolor": "white",
           "landcolor": "#E5ECF6",
           "showlakes": true,
           "showland": true,
           "subunitcolor": "white"
          },
          "hoverlabel": {
           "align": "left"
          },
          "hovermode": "closest",
          "mapbox": {
           "style": "light"
          },
          "paper_bgcolor": "white",
          "plot_bgcolor": "#E5ECF6",
          "polar": {
           "angularaxis": {
            "gridcolor": "white",
            "linecolor": "white",
            "ticks": ""
           },
           "bgcolor": "#E5ECF6",
           "radialaxis": {
            "gridcolor": "white",
            "linecolor": "white",
            "ticks": ""
           }
          },
          "scene": {
           "xaxis": {
            "backgroundcolor": "#E5ECF6",
            "gridcolor": "white",
            "gridwidth": 2,
            "linecolor": "white",
            "showbackground": true,
            "ticks": "",
            "zerolinecolor": "white"
           },
           "yaxis": {
            "backgroundcolor": "#E5ECF6",
            "gridcolor": "white",
            "gridwidth": 2,
            "linecolor": "white",
            "showbackground": true,
            "ticks": "",
            "zerolinecolor": "white"
           },
           "zaxis": {
            "backgroundcolor": "#E5ECF6",
            "gridcolor": "white",
            "gridwidth": 2,
            "linecolor": "white",
            "showbackground": true,
            "ticks": "",
            "zerolinecolor": "white"
           }
          },
          "shapedefaults": {
           "line": {
            "color": "#2a3f5f"
           }
          },
          "ternary": {
           "aaxis": {
            "gridcolor": "white",
            "linecolor": "white",
            "ticks": ""
           },
           "baxis": {
            "gridcolor": "white",
            "linecolor": "white",
            "ticks": ""
           },
           "bgcolor": "#E5ECF6",
           "caxis": {
            "gridcolor": "white",
            "linecolor": "white",
            "ticks": ""
           }
          },
          "title": {
           "x": 0.05
          },
          "xaxis": {
           "automargin": true,
           "gridcolor": "white",
           "linecolor": "white",
           "ticks": "",
           "title": {
            "standoff": 15
           },
           "zerolinecolor": "white",
           "zerolinewidth": 2
          },
          "yaxis": {
           "automargin": true,
           "gridcolor": "white",
           "linecolor": "white",
           "ticks": "",
           "title": {
            "standoff": 15
           },
           "zerolinecolor": "white",
           "zerolinewidth": 2
          }
         }
        },
        "title": {
         "text": "Optimization History Plot"
        },
        "xaxis": {
         "title": {
          "text": "Trial"
         }
        },
        "yaxis": {
         "title": {
          "text": "Objective Value"
         }
        }
       }
      }
     },
     "metadata": {},
     "output_type": "display_data"
    }
   ],
   "source": [
    "#mostrar chart com trials do optuna\n",
    "fig = optuna.visualization.plot_optimization_history(estudo_ag)\n",
    "fig.show()"
   ]
  },
  {
   "cell_type": "code",
   "execution_count": 37,
   "id": "2283c797",
   "metadata": {},
   "outputs": [],
   "source": [
    "# mostrar o dendrogram treinar com scipy\n",
    "modelo_de = linkage(X_transformed, method=best_params_ag['linkage'], optimal_ordering=True)\n"
   ]
  },
  {
   "cell_type": "code",
   "execution_count": 38,
   "id": "cdd1952a",
   "metadata": {},
   "outputs": [
    {
     "data": {
      "image/png": "[encoded data removed]",
      "text/plain": [
       "<Figure size 640x480 with 1 Axes>"
      ]
     },
     "metadata": {},
     "output_type": "display_data"
    }
   ],
   "source": [
    "plt.Figure(figsize=(10,7))\n",
    "dendrogram(modelo_de, truncate_mode='lastp', p=15, leaf_rotation=90, leaf_font_size=10)\n",
    "plt.xlabel('tamanho do cluster ou objeto de dado')\n",
    "plt.ylabel('distancia')\n",
    "plt.show()"
   ]
  },
  {
   "cell_type": "code",
   "execution_count": 39,
   "id": "e2d2b480",
   "metadata": {},
   "outputs": [
    {
     "data": {
      "text/plain": [
       "1"
      ]
     },
     "execution_count": 39,
     "metadata": {},
     "output_type": "execute_result"
    }
   ],
   "source": [
    "#cortar o dendograma\n",
    "clusters_de_scipy = cut_tree(modelo_de, height=32)\n",
    "len(np.unique(clusters_de_scipy))"
   ]
  },
  {
   "cell_type": "code",
   "execution_count": 40,
   "id": "e1ee4be8",
   "metadata": {},
   "outputs": [
    {
     "data": {
      "application/vnd.plotly.v1+json": {
       "config": {
        "plotlyServerURL": "https://plot.ly"
       },
       "data": [
        {
         "hovertemplate": "brand=%{x}<br>price=%{y}<br>cluster=%{marker.color}<extra></extra>",
         "legendgroup": "",
         "marker": {
          "color": {
           "bdata": "CgoKCgoCCgoKBAoBCgoKBgoKCgEKCgAKCgoKCgoHCgoKCgIKCgoKCgoKCgoKCgoGCgoKCgoKCgoCCgoKCgIKCgoKCgIKCgoKCgoKAgoKCgoKCgoKCgoKCgoKBAoKCgoKCgoKCgIKCgoKCgoCCgQCCgoKAgoCCgoHCgoKCgoKCgoKCgoKCgIKCgkKCgYEAwMCAgIKCgoKCgoCCgoECgoKCgoKCgoKAgoKAgoKCgYKCgoKAQEHCgoKBwoKCgoKCgoGCgIKAgoKCgoKCgoKCgoKCgoKCgoKAgoKCgoKCgoKCgoGBgoKCgoKCgoKCgoKCgoCAgoKCgoKCgoKCgoKCgoKCgoKCgoKCgoKCgoKCgICCgoCCgoCAgcHCgoBCgEHCgoKCgoKCgYKCgoKCgoKCgoHCgoKCgoKCgoHBwoKCgoKCgoKCgICAgoKCgoKCgoCAgoKCgoKCgYKCgoKCgoKAgoKCgoKCgoKCgoKCgoCCgoBCgoKBgoKCgoKCgoKAgIJCgIKCgoCCgoKCgoKCgoKCgoCBgIKAgoFCgoKCgoKCgoKCgoKCgoKCgoKCgoKCgoKCgoKCgQKCgoKCgoKCgoKCgoKCgoCCgIKCgoKCgoCCgIKCgoKCgoKCgoKCgoKCgoKCgoKCgoKCgoKCgoKCgoKCgoKCgoKCgoKCgoKCgoKCgoKCgoKBAoKCgoKCgoKBAoKAQoKCgoKCgoKCgoCCgIKCgoKCgoKCgoKCgIKCgoKCgoKCgYKCgoKCgIKCgoKBgoCCgoKCgoKCgoKCgYKCgoKCgoKCgIKAgICCgoKCggKBgoKCgoACgoKCgoKCgoCAQkKCgoKCgoKCgoKCgIKCgoBCgEKCgoKCgoCCgoKCgoKCgoKCgoKCgoKCgoKCgoKBwIKCgoKCgIKCgcKCgoKCgoKAgoKCgoKCgoKCgoKCgoKCgoKCgoKCgoKCgoKCgoKCgoKCgoKAwMKCgoCCgoKCgoKCgoKCgoKAgIKCgoKCgoKCgoCCgoKCgoCBAoKCgoKCgoKCgoKCgoKCgoKCgoKCgoKCgoCCgoKCgYKCgoKCgoKCgoJAgoECgoCCgoKBAIKCgoCCgoKCgICBAIKCgcKCgoKAgcKBAoCAgICCgoHCgoKCgoDCgMKCgIKAgoKCgoKCgoKCgIKCgoKAgcKAgICCgoKAgoKCgoKCgoCCQoKCgcKBAoECgoJAgcKCgQKCgoCCgICCgoKCgoKAgoKCgoKAgIKCgoKCgYGCgoKCgoKCgoKCgoKCgoKCgoKCgoKAgoKCgoKBAoKCgoKCgoKCgoKCgoCCgoKCgYKCgIKCgIKCgoKCgoCCg==",
           "dtype": "i1"
          },
          "coloraxis": "coloraxis",
          "symbol": "circle"
         },
         "mode": "markers",
         "name": "",
         "orientation": "v",
         "showlegend": false,
         "type": "scatter",
         "x": [
          "tecno",
          "tecno",
          "hp",
          "acer",
          "lenovo",
          "apple",
          "infinix",
          "asus",
          "hp",
          "infinix",
          "dell",
          "samsung",
          "msi",
          "asus",
          "lenovo",
          "hp",
          "lenovo",
          "asus",
          "hp",
          "wings",
          "hp",
          "lenovo",
          "apple",
          "asus",
          "asus",
          "acer",
          "hp",
          "ultimus",
          "hp",
          1,
          "samsung",
          "samsung",
          "lenovo",
          "asus",
          "apple",
          "dell",
          "acer",
          "acer",
          "hp",
          "asus",
          "asus",
          "hp",
          "hp",
          "hp",
          "hp",
          "dell",
          "msi",
          "asus",
          "msi",
          "dell",
          "infinix",
          "acer",
          "hp",
          "hp",
          "hp",
          "infinix",
          "hp",
          "asus",
          "dell",
          "asus",
          "lenovo",
          "dell",
          "asus",
          "asus",
          "asus",
          "hp",
          "hp",
          "apple",
          "infinix",
          "hp",
          "primebook",
          "dell",
          "acer",
          "hp",
          "hp",
          "asus",
          "asus",
          "iball",
          "ultimus",
          "dell",
          "asus",
          "hp",
          "lenovo",
          "lenovo",
          "hp",
          "lenovo",
          "hp",
          "msi",
          "ultimus",
          "lenovo",
          "msi",
          "msi",
          "asus",
          "asus",
          "lenovo",
          "lenovo",
          "asus",
          "infinix",
          "asus",
          "hp",
          "lenovo",
          "hp",
          "hp",
          "asus",
          "lenovo",
          "msi",
          "acer",
          "asus",
          "acer",
          "infinix",
          "asus",
          "acer",
          "asus",
          "acer",
          "asus",
          "hp",
          "asus",
          "acer",
          "acer",
          1,
          "hp",
          "hp",
          "lenovo",
          "acer",
          "lenovo",
          "hp",
          "dell",
          "asus",
          "asus",
          "lenovo",
          "asus",
          "acer",
          "asus",
          "apple",
          "asus",
          "hp",
          "hp",
          "lenovo",
          "lenovo",
          "dell",
          "hp",
          "apple",
          "apple",
          "apple",
          "apple",
          "lenovo",
          "dell",
          "hp",
          "hp",
          "dell",
          "acer",
          "asus",
          "lenovo",
          "ultimus",
          "zebronics",
          "hp",
          "hp",
          "zebronics",
          "zebronics",
          "zebronics",
          "hp",
          "lenovo",
          "asus",
          "hp",
          "chuwi",
          "acer",
          "hp",
          "gigabyte",
          "asus",
          "asus",
          "lenovo",
          "hp",
          "acer",
          "asus",
          "hp",
          "lenovo",
          "msi",
          "wings",
          "wings",
          1,
          "infinix",
          "hp",
          "msi",
          1,
          "hp",
          "lenovo",
          "lenovo",
          "lenovo",
          "lenovo",
          "hp",
          "hp",
          "hp",
          "jio",
          "asus",
          "asus",
          "hp",
          "dell",
          "chuwi",
          "msi",
          "hp",
          "infinix",
          "dell",
          "asus",
          "asus",
          "asus",
          "asus",
          "hp",
          "msi",
          "msi",
          "lenovo",
          "msi",
          "asus",
          "asus",
          "apple",
          "infinix",
          "acer",
          "dell",
          "acer",
          "hp",
          "asus",
          "asus",
          "acer",
          "acer",
          "asus",
          "asus",
          "asus",
          "asus",
          "asus",
          "hp",
          "msi",
          "hp",
          "hp",
          "asus",
          "asus",
          "hp",
          "acer",
          "msi",
          "hp",
          "asus",
          "asus",
          "asus",
          "asus",
          "honor",
          "lenovo",
          "lenovo",
          "hp",
          "dell",
          "msi",
          "acer",
          "msi",
          "hp",
          "acer",
          "asus",
          "asus",
          "asus",
          "samsung",
          "samsung",
          "infinix",
          "hp",
          "asus",
          "hp",
          "hp",
          "hp",
          "hp",
          "hp",
          "hp",
          "dell",
          "asus",
          "lenovo",
          "msi",
          "hp",
          "hp",
          "asus",
          "hp",
          "lenovo",
          "apple",
          "apple",
          1,
          1,
          "hp",
          "hp",
          "samsung",
          "hp",
          "realme",
          1,
          "avita",
          "hp",
          "dell",
          "chuwi",
          "chuwi",
          "avita",
          "lenovo",
          "dell",
          "hp",
          "lenovo",
          "lenovo",
          "hp",
          "hp",
          "lenovo",
          "lenovo",
          "lenovo",
          "lenovo",
          1,
          "lenovo",
          "dell",
          "hp",
          "dell",
          "lenovo",
          "lenovo",
          "hp",
          "dell",
          1,
          1,
          "lenovo",
          "acer",
          "acer",
          "lenovo",
          "avita",
          "acer",
          "acer",
          "acer",
          "avita",
          "apple",
          "apple",
          "lenovo",
          "asus",
          "lenovo",
          "acer",
          "lenovo",
          "lenovo",
          "asus",
          "avita",
          "apple",
          "hp",
          "hp",
          "hp",
          "hp",
          "acer",
          "lenovo",
          "hp",
          "lenovo",
          "microsoft",
          "acer",
          "acer",
          "dell",
          "lenovo",
          "hp",
          "asus",
          "msi",
          "dell",
          "lenovo",
          "asus",
          "asus",
          "lenovo",
          "lenovo",
          "hp",
          "lenovo",
          "lenovo",
          "asus",
          "lenovo",
          "hp",
          "lenovo",
          "lenovo",
          "asus",
          "asus",
          "acer",
          "dell",
          "lenovo",
          "dell",
          "hp",
          "zebronics",
          "zebronics",
          "primebook",
          "acer",
          "acer",
          "ultimus",
          "hp",
          "zebronics",
          "hp",
          "hp",
          "hp",
          "hp",
          "hp",
          "asus",
          "lenovo",
          "lenovo",
          "lenovo",
          "lenovo",
          "lenovo",
          "asus",
          "asus",
          "asus",
          "asus",
          "lenovo",
          "lenovo",
          "dell",
          "hp",
          "lenovo",
          "lenovo",
          "lenovo",
          "lenovo",
          "lenovo",
          "lenovo",
          "lenovo",
          "msi",
          "lenovo",
          "lenovo",
          "msi",
          "hp",
          "acer",
          "acer",
          "lenovo",
          "lenovo",
          "asus",
          "acer",
          "dell",
          "hp",
          "asus",
          "asus",
          "lenovo",
          "lenovo",
          "lenovo",
          "lenovo",
          "dell",
          "lenovo",
          "dell",
          "dell",
          "acer",
          "lenovo",
          "lenovo",
          "dell",
          "lenovo",
          "dell",
          "msi",
          "asus",
          "hp",
          "lenovo",
          "lenovo",
          "asus",
          "lenovo",
          "hp",
          "dell",
          "lenovo",
          "lenovo",
          "acer",
          "lenovo",
          "lenovo",
          "microsoft",
          "ultimus",
          "lenovo",
          "dell",
          "lenovo",
          "lenovo",
          "hp",
          "lenovo",
          "hp",
          "lenovo",
          "lenovo",
          "lenovo",
          "hp",
          "lenovo",
          "lenovo",
          "acer",
          "asus",
          "fujitsu",
          "asus",
          "asus",
          "asus",
          "hp",
          "hp",
          "lenovo",
          "lenovo",
          "lenovo",
          "asus",
          "asus",
          "lenovo",
          "hp",
          "lenovo",
          "lenovo",
          "asus",
          "lenovo",
          "dell",
          "acer",
          "acer",
          "asus",
          "asus",
          "asus",
          "asus",
          "asus",
          "asus",
          "hp",
          "asus",
          "gigabyte",
          "lenovo",
          "asus",
          "lenovo",
          "lenovo",
          "fujitsu",
          "lenovo",
          "lenovo",
          "lenovo",
          "lenovo",
          "asus",
          "asus",
          "asus",
          "msi",
          "lenovo",
          "msi",
          "acer",
          "acer",
          "asus",
          "asus",
          "asus",
          "hp",
          "dell",
          "dell",
          "asus",
          "hp",
          "fujitsu",
          "hp",
          "hp",
          "lenovo",
          "dell",
          "asus",
          "lenovo",
          "wings",
          "acer",
          "lenovo",
          "lenovo",
          "lenovo",
          "infinix",
          "lenovo",
          "dell",
          "dell",
          "lenovo",
          "lenovo",
          "dell",
          "dell",
          "dell",
          "dell",
          "dell",
          "dell",
          "hp",
          "dell",
          "dell",
          "lenovo",
          "asus",
          "msi",
          "msi",
          "msi",
          "msi",
          "msi",
          "msi",
          "msi",
          "msi",
          "msi",
          "hp",
          "hp",
          "lenovo",
          "hp",
          "hp",
          "hp",
          "asus",
          "asus",
          "lenovo",
          "hp",
          "lenovo",
          "hp",
          "asus",
          "asus",
          "acer",
          "asus",
          "msi",
          "hp",
          "dell",
          "lenovo",
          "asus",
          "lenovo",
          "hp",
          "lenovo",
          "hp",
          "lenovo",
          "asus",
          "msi",
          "lenovo",
          "hp",
          "lenovo",
          "hp",
          "asus",
          "hp",
          "acer",
          "acer",
          "lenovo",
          "hp",
          "dell",
          "dell",
          "dell",
          "asus",
          "dell",
          "msi",
          "lenovo",
          "dell",
          "dell",
          "dell",
          "dell",
          "msi",
          "msi",
          "msi",
          "dell",
          "hp",
          "lenovo",
          "asus",
          "asus",
          "lenovo",
          "hp",
          "lenovo",
          "asus",
          "asus",
          "lg",
          "dell",
          "acer",
          "lenovo",
          "acer",
          "hp",
          "asus",
          "hp",
          "fujitsu",
          "hp",
          "acer",
          "hp",
          "hp",
          "asus",
          "lg",
          "hp",
          "lenovo",
          "lg",
          "hp",
          "lg",
          "acer",
          "asus",
          "walker",
          "hp",
          "dell",
          "dell",
          "hp",
          "lenovo",
          "lenovo",
          "msi",
          "lenovo",
          "lenovo",
          "msi",
          "asus",
          "asus",
          "lenovo",
          "asus",
          "lenovo",
          "lenovo",
          "hp",
          "hp",
          "hp",
          "hp",
          "hp",
          "hp",
          "hp",
          "hp",
          "asus",
          1,
          "hp",
          "dell",
          "lenovo",
          "lenovo",
          "lenovo",
          "lenovo",
          "hp",
          "acer",
          "lenovo",
          1,
          "dell",
          "hp",
          "hp",
          "hp",
          "hp",
          "hp",
          "asus",
          "asus",
          "dell",
          "asus",
          "lenovo",
          "lenovo",
          "lenovo",
          "lenovo",
          "dell",
          "hp",
          "msi",
          "lenovo",
          "dell",
          "dell",
          "lenovo",
          "lenovo",
          "acer",
          "dell",
          "acer",
          "lenovo",
          "hp",
          "acer",
          "msi",
          "msi",
          "dell",
          "msi",
          "msi",
          "msi",
          "acer",
          "msi",
          "asus",
          "msi",
          "msi",
          "hp",
          "dell",
          "msi",
          "msi",
          "dell",
          "dell",
          "lenovo",
          "lenovo",
          "lg",
          "lg",
          "hp",
          "lenovo",
          "axl",
          "msi",
          "axl",
          "dell",
          "lenovo",
          "asus",
          "lenovo",
          "hp",
          "lenovo",
          "asus",
          "dell",
          "asus",
          "asus",
          "acer",
          "lenovo",
          "lenovo",
          "lenovo",
          "lenovo",
          "lenovo",
          "lenovo",
          "lenovo",
          "dell",
          "lenovo",
          "hp",
          "lenovo",
          "dell",
          "hp",
          "dell",
          "dell",
          "dell",
          "dell",
          "hp",
          "dell",
          "infinix",
          "dell",
          "dell",
          "dell",
          "asus",
          "hp",
          "asus",
          "dell",
          "hp",
          "hp",
          "hp",
          "asus",
          "lenovo",
          "hp",
          "hp",
          "acer",
          "msi",
          "msi",
          "acer",
          "hp",
          "hp",
          "asus",
          "dell",
          "acer",
          "hp",
          "dell",
          "dell",
          "dell",
          "dell",
          "dell",
          "acer",
          "acer",
          "acer",
          "acer",
          "hp",
          "asus",
          "msi",
          "asus",
          "asus",
          "asus",
          "asus",
          "asus",
          "asus",
          "lenovo",
          "asus",
          "asus",
          "asus",
          "asus",
          "asus",
          "asus",
          "lenovo",
          "asus",
          "asus",
          "asus",
          "asus",
          "hp",
          "acer",
          "asus",
          "dell",
          "dell",
          "hp",
          "hp",
          1,
          "msi",
          "acer",
          "hp",
          "hp",
          "asus",
          1,
          "asus",
          "msi",
          "asus",
          "acer",
          "asus",
          "asus",
          "asus",
          "hp",
          "hp",
          1,
          "asus",
          "hp",
          "lenovo",
          "lenovo",
          "acer",
          "dell",
          "hp",
          "dell",
          "acer",
          "hp",
          "acer",
          "hp",
          "acer",
          "hp",
          "hp",
          "hp",
          "hp",
          "realme",
          "hp",
          "asus",
          "dell",
          "asus",
          "asus",
          "dell",
          "asus",
          "dell",
          "acer",
          "acer",
          1,
          "asus",
          "asus",
          "asus",
          "asus",
          "hp",
          "msi",
          "hp",
          "asus",
          "asus",
          "msi",
          "hp",
          "asus",
          "hp",
          "hp",
          "asus",
          "hp",
          "msi",
          "asus",
          "asus",
          "msi",
          1,
          "acer",
          "acer",
          "acer",
          "msi",
          "lenovo",
          "asus",
          "msi",
          "msi",
          1,
          "asus",
          "asus",
          "hp",
          "asus",
          "asus",
          "asus",
          "asus",
          "asus",
          "asus",
          "asus",
          "asus",
          "asus",
          "asus",
          "dell",
          "asus",
          "asus",
          "asus",
          "asus",
          "lenovo",
          "hp",
          "dell",
          "msi",
          "hp",
          "hp",
          "lenovo",
          "honor",
          "acer",
          "acer",
          "acer",
          "acer",
          "acer",
          "lenovo",
          "lenovo",
          "lenovo",
          "lenovo",
          "asus",
          "fujitsu",
          "hp",
          "msi",
          "dell",
          "acer",
          "lenovo",
          "msi",
          "lenovo",
          "lenovo",
          "dell",
          "lenovo",
          "asus",
          "hp",
          "lenovo",
          "hp",
          "lenovo",
          "asus",
          "hp",
          "hp",
          "lenovo",
          "hp",
          "lenovo",
          "asus",
          "asus",
          "asus",
          "lenovo",
          "msi",
          "hp",
          "acer",
          "msi",
          "msi",
          "msi",
          "msi",
          "acer",
          "asus",
          "asus",
          "lg",
          "msi",
          "acer",
          "msi",
          "msi",
          "asus",
          "msi",
          "msi",
          "hp",
          "asus",
          "msi",
          "asus",
          "asus",
          "asus",
          "acer",
          "asus",
          "msi",
          "asus",
          "asus",
          "hp"
         ],
         "xaxis": "x",
         "y": {
          "bdata": "7FG4HoX7cUAK16NwPfp6QHsUrkfhJoNAUrgehev5fUC4HoXrUWx1QOF6FK5Hm4pAZmZmZmY6ekBmZmZmZryCQArXo3A9untApHA9Ctd7hkBmZmZmZjp6QJqZmZmZW4hACtejcD3cg0BmZmZmZoKFQMP1KFyPzIFAPQrXo3DbnEBmZmZmZryCQNejcD0Ke4xArkfhehTMhEAzMzMzM/t0QB+F61G47mxAMzMzMzP7dEBcj8L1KLyyQFK4HoXr+X1AMzMzMzP7dEB7FK5H4TqNQHsUrkfhmo1AAAAAAAD4bUCuR+F6FPyKQAAAAAAAAPA/cT0K16PcgEAUrkfhevyBQBSuR+F6/IFAw/UoXI+cgUDNzMzMzEyTQI/C9Shck4lAw/UoXI+cgUBmZmZmZjp6QFyPwvUoPIRASOF6FK77h0BmZmZmZkiVQNejcD0KpJBAUrgehesThEA9CtejcOyVQAAAAAAAiopA7FG4HoV3jkDD9Shcj/J6QDMzMzMzTKlAj8L1KFw7ikAUrkfherh9QHsUrkfhenZAw/UoXI+6eEAK16NwPVSPQFyPwvUobIRAj8L1KFzbf0AzMzMzM/t0QJqZmZmZu5tACtejcD3Ei0AK16NwPTWQQKRwPQrX24ZAAAAAAABchUAzMzMzMyuLQArXo3A9+npAcT0K16NslEAAAAAAALyFQArXo3A9PIpAMzMzMzP7ikCPwvUoXHyWQDMzMzMzO3RAXI/C9SgyjUApXI/C9XhmQI/C9ShcvYJAAAAAAABchUAAAAAAALyFQOF6FK5HvYJAMzMzMzMri0AUrkfheh6KQMP1KFyPYl1AcT0K16P4Z0DD9Shcj3qPQMP1KFyPnIFApHA9CtfbhkBxPQrXo9yAQGZmZmZmOnpA7FG4HoUbiUBSuB6F61FyQLgehetRfINAXI/C9SichECamZmZmflhQBSuR+F6XIJA16NwPQobjEBmZmZmZryCQFyPwvUoPIRApHA9CtedjkAAAAAAAPKHQKRwPQrXw3tAAAAAAADNkUAK16NwPfp6QDMzMzMzW4tArkfhehT8hEAAAAAAAM2RQK5H4XoUaoNA9ihcj8KngkBcj8L1KDyEQM3MzMzM+o1AmpmZmZl5f0CuR+F6FHp8QArXo3A9HZBASOF6FK6bfUAAAAAAALyFQD0K16Nwe4lAAAAAAADNkUAAAAAAADSMQBSuR+F6/IFA7FG4HoUbiUB7FK5H4WCAQD0K16NwC51Aj8L1KFx8lkD2KFyPwqyTQAAAAAAAAPA/H4XrUbhaeECuR+F6FESAQPYoXI/CuX5AexSuR+E6d0D2KFyPwrl+QFK4HoXrTXdAj8L1KFzbiUCF61G4HhCSQB+F61G4fIBArkfhehQcgUAK16NwPdyDQFK4HoXrOX1Aw/UoXI8aeUCamZmZmZyUQDMzMzMzW4tA7FG4HoVbfkAUrkfhevWiQArXo3A9+npAcT0K16PcgECamZmZmdObQM3MzMzMFp9A9ihcj8Ipq0AK16NwfWSwQM3MzMxMaqdAKVyPwvW6okAUrkfhequcQK5H4XoUenxApHA9CtfbhkAzMzMzMx2DQOxRuB6Fu4hAw/UoXI+6eEAUrkfhevyBQHE9CtejxZhAKVyPwvV4ZkDD9Shcj3p5QM3MzMzMFp9ACtejcD3CfUDD9Shcj7p4QArXo3A93INAexSuR+F6dkDD9Shcj8CJQIXrUbgeIYdArkfhehQ9kUCkcD0K19uGQMP1KFyPunhAMzMzMzNbi0DhehSuR/1xQDMzMzMz+4pAw/UoXI/aj0C4HoXrUfhqQClcj8L1VHNAFK5H4Xr8d0B7FK5HYd2gQDMzMzMzW4tAKVyPwvVjkUAUrkfhelyCQFyPwvUonIRAUrgehev5fUCPwvUoXLtyQAAAAAAAAPA/Urgehes5fUCuR+F6FFyLQArXo3A93INAAAAAAAAA8D8AAAAAAFKQQHsUrkfhdIpA7FG4HoUbiUAUrkfheoyVQHsUrkfhvJJAZmZmZmY6ekDD9ShcjyyIQHE9CtejiaBAUrgehesJZkDXo3A9ChuMQPYoXI/CrJNAAAAAAADNkUApXI/C9QqNQI/C9Shcu3JAUrgehev5fUCuR+F6FPyEQBSuR+F6XIJAUrgehetpfUAUrkfheuCQQIXrUbgeFJBAAAAAAAC8hUCkcD0K19uGQK5H4XoUXotAXI/C9Sg8hEAAAAAAAFyFQHE9CtejuHhACtejcD26e0CkcD0K13uGQB+F61G4+ndASOF6FK4rm0CPwvUoXHtzQB+F61G4+ndA9ihcj8J5hUB7FK5H4Xp2QGZmZmZmvIJA16NwPQothUAAAAAAAFyFQKRwPQrX24ZAAAAAAABchUCPwvUoXHyWQHsUrkdh3aBACtejcD3NoUDhehSuR8SWQIXrUbge7YFACtejcD2sg0A9CtejcHuJQFyPwvUoIH5A9ihcj8I7h0Bcj8L1KN2QQDMzMzMz34RAXI/C9SjFkECPwvUoXHyWQJqZmZmZi4hAZmZmZmY6ekCPwvUoXDuKQHsUrkfhmo1ASOF6FK7Qk0DNzMzMzByAQFyPwvUonIRASOF6FK57cEDhehSuRwl5QLgehetRHINAuB6F61Ecg0AfhetRuHyAQDMzMzMz+3RAH4XrUbjck0DD9Shcj5yBQMP1KFyPnIFAXI/C9Sg8hEDXo3A9CjWCQOF6FK5Hm4pAj8L1KFw7ikDXo3A9CnuMQI/C9Shcu3JA4XoUrkebikBI4XoUrid3QLgehetRfINAAAAAAAC8hUBxPQrXoyiCQM3MzMzM+o1ASOF6FK77h0AfhetRuO5sQArXo3A9PIpAuB6F61F2h0B7FK5H4bySQMP1KFyPeo9AFK5H4XpwhkB7FK5H4VyFQEjhehSuK5tAcT0K16NwfkCamZmZmVuIQAAAAAAA7JhAexSuR+GrmUAAAAAAAADwPwAAAAAAAPA/SOF6FK77h0CPwvUoXLtyQD0K16Nw7JVA7FG4HoVLf0AK16NwPbp7QAAAAAAAAPA/cT0K16MIcEB7FK5H4fOQQDMzMzMzfZBASOF6FK57cEBmZmZmZjp6QB+F61G4snhA16NwPQocnEAAAAAAAImjQHE9CtejyI1AAAAAAABchUBcj8L1KJyEQClcj8L1jIVAcT0K16N2hEDD9Shcj5yHQArXo3A9WntAcT0K16M8gUDD9Shcj5yBQAAAAAAAAPA/SOF6FK6bh0AUrkfheoh7QPYoXI/Cc4NACtejcD1yhkCF61G4HruLQPYoXI/CO4dArkfhehQ4iUBmZmZmZjp6QAAAAAAAAPA/AAAAAAAA8D8fhetRuPp3QHsUrkfhenZA7FG4HoVtgUCPwvUo3ISkQK5H4XoUZnhAZmZmZma8gkDsUbgehd2AQJqZmZmZHYBAPQrXo3AdbUCuR+F6FMuhQFK4HoVreqZAexSuR+EVl0B7FK5H4Zp4QI/C9Shc24lAw/UoXI+cgUB7FK5H4TiUQIXrUbgec4NA16NwPQqjdkAzMzMzM3tvQB+F61G41p9ACtejcD0anUC4HoXrUfqUQD0K16NwtYxA9ihcj8K5fkDD9Shcj2yBQMP1KFyPnIFAUrgeheujkkDsUbgexdKwQM3MzMzM+o1AAAAAAABchUA9CtejcNV9QFyPwvUorZBAj8L1KFyvhEDsUbgehSyVQB+F61G4NZBAhetRuB69okAfhetRuMSTQPYoXI/CO4dAuB6F61HSgUCamZmZmVuIQOF6FK5HjYJACtejcD26e0DD9Shcjw2RQJqZmZmZ7XlAH4XrUbhaeEAfhetRuJKSQArXo3A94IRAKVyPwvXoekDD9Shcj06KQEjhehSuRpFAMzMzMzP7dEB7FK5H4fiNQOxRuB6F+3FAAAAAAABMg0C4HoXrUXyDQAAAAAAAXIVACtejcL0LsEBSuB6F6/l9QMP1KFyPunhA4XoUrkd5Y0DD9Shcj/yHQOxRuB6Fu4hAcT0K16O4aEA9CtejcO+DQLgehetRHINAexSuR+FZkUDXo3A9ilCoQJqZmZkZdKtAw/UoXI8bn0DD9Shcj5OfQArXo3A9HZBAw/UoXI/aj0AAAAAAAA6OQArXo3A9dpRAj8L1KFxPhECPwvUoXE+EQClcj8L1eGZAPQrXo3ABiUBcj8L1KDyEQEjhehSud29ArkfhehROjUBSuB6F6/l9QPYoXI/CO4dAUrgehes5fUBxPQrXo3aRQPYoXI/CxJ5AzczMzMwDrEA9CtejcBWaQMP1KFyPTopACtejcD1gk0BSuB6F6/l9QFyPwvXoFLVAcT0K16PdkEBmZmZmZjp6QM3MzMzM+o1A16NwPQq7dUBmZmZmZryCQFK4HoXrH4dAw/UoXI+6eEBmZmZmZryCQM3MzMzMPpBAj8L1KFwbc0CF61G4Hn+JQMP1KFyP3ZBAuB6F61EGikCF61G4HruLQFK4HoXr+X1AKVyPwvXgh0BmZmZmZryCQMP1KFyPunhASOF6FK4dhUDhehSuR6F2QD0K16NwUYVAAAAAAABchUBSuB6F6/l9QHsUrkfhenZAw/UoXI+cgUC4HoXrURyDQFyPwvUonIRAUrgehes5fUC4HoXrUWuiQHsUrkfhvJJAUrgehesbjECPwvUoXNt/QD0K16Nwe4lAzczMzMwmkEApXI/C9Xh7QFK4HoXrXJVA7FG4HoW7iEAUrkfhelyCQGZmZmZmvIJAZmZmZmY6ekAK16NwPU2QQOxRuB6Fu4hAKVyPwvVEkkDNzMzMzCxxQM3MzMxMbaFAZmZmZmakkkCF61G4HiyYQOxRuB6FXJVAuB6F61F8g0C4HoXrUXyDQEjhehSu/pBAj8L1KFw7ikAUrkfhevyBQBSuR+F6xpJAexSuR+EOfkB7FK5H4cOZQFyPwvUoPIRAzczMzMwcgEA9CtejcCF1QIXrUbgeu4tAw/UoXI+Ii0BxPQrXo9yAQDMzMzMzoYZAPQrXo3BxjEAzMzMzM/t0QFyPwvUovHtAzczMzMyGkEBI4XoUrpuHQIXrUbgeu4tAj8L1KFw7ikCkcD0K1+GIQHE9Ctej3IZAMzMzMzP7ikAzMzMzMy+HQFK4HoXrjJJACtejcD26e0CkcD0K13uGQAAAAAAAXIVACtejcD3cg0CF61G4Hg2RQBSuR+F6jJVAcT0K16N4aUA9CtejcE1zQAAAAAAAeGxAKVyPwvW6gEAfhetRuKyAQKRwPQrXO3FAXI/C9SjdkEApXI/C9U6HQHsUrkfhc5JAUrgehesbhkDXo3A9Co+GQIXrUbgeu4tAexSuR+EOiECamZmZmXl/QHE9Ctej3IBAcT0K16MMgUDXo3A9CnuMQNejcD0Ke4xAMzMzMzOvkUBI4XoUrpuHQMP1KFyPzIFAAAAAAADNkUAK16NwPbp7QJqZmZmZeX9APQrXo3CtfkCkcD0K19WKQMP1KFyPenlApHA9ClcloUCuR+F6FBp8QArXo3A9HZBAAAAAAAC8hUBI4XoUrsOFQJqZmZmZnJRAH4XrUbj6d0AUrkfhequcQBSuR+F6DoZAcT0K16PrpECkcD0K13uGQEjhehSu+4dAMzMzMzM7dED2KFyPwhl/QMP1KFyPTopAcT0K16OAe0AfhetRuC6JQHE9Ctej3IBAw/UoXI+cgUCF61G4HjGBQHsUrkfhvnxA9ihcj8KNj0AK16NwPU2QQFK4HoXrjJJAw/UoXI+6eEAzMzMzM2WQQBSuR+F6/IFAKVyPwvUKjUAfhetRuA5/QDMzMzMzF4xAmpmZmZlbkECkcD0K16uGQHsUrkfhOo1AXI/C9SjdkEApXI/C9SySQPYoXI/CrJNAw/UoXI8bnEDD9ShcjxucQBSuR+F6jJVArkfhehT8hEBSuB6F6xuGQK5H4XoU/IRAhetRuB69okDXo3A9CmCWQLgehetRvZJAAAAAAAAcfEDsUbgeBWymQArXo3A92ZhAMzMzMzMdg0ApXI/C9Sx8QArXo3A9untAUrgehesbhkApXI/C9a6TQB+F61G4fIBAH4XrUbgTk0AAAAAAAM2RQI/C9ShcO4pA4XoUrkf7nUAzMzMzM1uLQI/C9ShcfJZArkfhehQshUCuR+F6FPJ7QPYoXI/CC4pAXI/C9SiUeEBSuB6F61ySQD0K16NwRY1AhetRuB4lkUCkcD0K15N7QClcj8L1lpBApHA9Ctd7hkDNzMzMzBusQHsUrkfhvJJAcT0K16OLm0CamZmZmZyUQArXo3A9DZdAj8L1KFx7c0DNzMzMzDuaQLgehetRTIlACtejcD36ekCuR+F6lBmlQEjhehSuO3FAw/UoXI+qj0CPwvUoXCCoQAAAAAAA/ZFAH4XrUbiGfUAzMzMzM9OGQB+F61G4uo5A4XoUrkfYkEB7FK5H4Uq1QKRwPQrXcYlAFK5H4XpbrkD2KFyPQrWhQArXo3A9untA4XoUrkfgnUBcj8L1KN2QQGZmZmbmILVACtejcD1kgEDXo3A9ChuMQJqZmZmZW4hAcT0K16OtkECamZmZmVuIQK5H4XoURIBAKVyPwvVsfkC4HoXrUTyKQB+F61G4m5pAuB6F61GNkkDNzMzMzBusQK5H4XoUXJhA7FG4HoW7iEBSuB6F60uMQI/C9Shce3NA7FG4HoW1jEDXo3A9CsOXQHsUrkfhvJJAZmZmZmb5mECamZmZmXl/QMP1KFyPunhAj8L1KFySlkCuR+F6FFyYQMP1KFyPWI1AZmZmZmaOpUBSuB6F6yFyQFK4HoXrk5xAuB6F61Ecg0DXo3A9ChiWQDMzMzMz+4pASOF6FK77h0BxPQrXo/hnQOF6FK5H/XFAw/UoXI+MiECF61G4HruLQI/C9ShcXZJACtejcD3cg0BI4XoUrpuHQIXrUbgeu4tAhetRuB6peECPwvUoXLtyQBSuR+F6/IFAhetRuB67i0B7FK5H4bySQArXo3A93INA9ihcj8I7h0A9CtejcP2JQHE9Ctej3IBA9ihcj8IZkkAzMzMzM32QQKRwPQrXPpBAzczMzMxukEDhehSuR5GNQMP1KFyPeo9AUrgehes5fUC4HoXrURyDQK5H4XoU/IRAAAAAAAAA8D/2KFyPwjGUQKRwPQrXe4ZAMzMzMzNbi0AK16NwPUCFQOxRuB6Fu4hAXI/C9Sg8hEBI4XoUrj2NQBSuR+F6FHdAZmZmZmaChUAAAAAAAADwPx+F61G4Vn9AmpmZmZmclEBxPQrXo9yAQBSuR+F6/IFACtejcD3cg0A9CtejcLyVQIXrUbgeVY9AzczMzMw7mkAzMzMzM32QQFK4HoXrG4ZAZmZmZma8gkCkcD0K16uGQGZmZmZmmnpAMzMzMzP7ikCF61G4HvWQQHE9Ctej3IBAw/UoXI/8lECamZmZmQ2BQPYoXI/CuX5AUrgehetfgEDhehSuR72CQJqZmZmZz4hAKVyPwvV4dkCuR+F6FPyEQNejcD0KG3ZAw/UoXI8aeUAK16NwPSCEQM3MzMzMHIBAAAAAAAC8hUBcj8L1KJyEQBSuR+F6/IFA9ihcj8Ksk0DXo3A9ChuMQAAAAAAAzZFA9ihcj8K5fkC4HoXrURyDQOxRuB6F+4FAAAAAAADNkUDD9Shcj9qPQFK4HoXrOX1AAAAAAADejUCkcD0K19uGQLgehetRfINAw/UoXA8wqkCamZmZGe2iQBSuR+F6HIlASOF6FK5sl0ApXI/C9dOQQClcj8L1S5xASOF6FK6bmEBSuB6F60uMQLgehetR+GpACtejcD3cg0ApXI/C9XhmQMP1KFyPpn5A9ihcj8K5fkCPwvUoXDuKQMP1KFyPnIFAXI/C9ShmiEDNzMzMzJx8QJqZmZmZW4hA16NwPQpBo0B7FK5H4duRQFyPwvUoTHpAXI/C9SichEAzMzMzM/t0QBSuR+F6sotAZmZmZmY6ekBmZmZmZjp6QFK4HoXrk4FAexSuR+F6dkDD9Shcj2yBQEjhehSuyJFAKVyPwvWGg0DNzMzMzOyFQI/C9ShcEYxA9ihcj8I7h0ApXI/C9Yx1QI/C9Shcm51AhetRuB4zn0B7FK5H4aSSQEjhehSu/Y1AcT0K16MkdUDNzMzMzByAQFK4HoXrOX1ASOF6FK6skEAzMzMzM/uKQIXrUbgeu4tAMzMzMzP7dECF61G4HruLQGZmZmZmjIJA9ihcj8I7h0CkcD0K1zOBQI/C9Shcq4lAzczMzMy6h0AUrkfhelyCQB+F61G4mndAUrgehes5fUCamZmZmVuIQI/C9Shcp3hArkfhehQ9kUAzMzMzM32QQM3MzMzMvHVA16NwPQobdkD2KFyPwjuHQClcj8L12oxAKVyPwvX5m0BSuB6F6/l9QDMzMzMzT4xA9ihcj8IdgEDhehSuR52hQJqZmZmZnJRArkfhehRcmEC4HoXrUYKOQGZmZmZmvIJAH4XrUbjWhUCuR+F6FCyFQD0K16Nw84RAUrgehetAkUBSuB6F6/l9QMP1KFwPPKpAMzMzMzOhk0CPwvUoXMeXQIXrUbgevaJA16NwPQq8mEAzMzMzMxeZQD0K16NwC51AmpmZmZnTg0BI4XoUrg+bQAAAAAAAzZFAuB6F61F0qEDD9ShcjxucQClcj8L1S5lAMzMzMzOhhkA9CtejcMmDQK5H4XqUqqNAPQrXo3ALnUCPwvUoXDuKQB+F61G41o9Aj8L1KFw7ikBmZmZmZt+aQArXo3A9QJVA4XoUrscgpUCkcD0K17SkQM3MzMzMQolAmpmZmZlbiEAAAAAAAADwPzMzMzMzW4tAUrgehesbhkDD9Shcj7p4QPYoXI/CC4dAH4XrUbjck0AAAAAAAADwP4XrUbge4pRAKVyPwnVsp0CPwvUoXLeMQFyPwvUozJpAFK5H4XqdkUCPwvUoXESeQIXrUbgevaJAexSuR+EclkBmZmZmZtSNQAAAAAAAAPA/CtejcD36ekAK16NwPdyDQHsUrkfhrodASOF6FK5bjkBSuB6F6/l9QMP1KFxPM7JAexSuR+EOfkA9CtejcEOxQPYoXI/ClXtAw/UoXI9sgUBcj8L1KK2TQFK4HoXr24FAFK5H4XqMlUDD9Shcj5yBQKRwPQrXq4ZAZmZmZma8gkAzMzMzM5WIQM3MzMzMHIBACtejcD2cikAfhetRuC53QBSuR+F6/IFAMzMzMzNZgUAzMzMzM2yXQLgehetRfINAUrgehesbhkCuR+F6FNp8QNejcD0K3YBAXI/C9SitkEAAAAAAAADwPx+F61G4+ndA7FG4HoW8mEA9CtejcLyVQFyPwvUo3ZBAmpmZmZmclEAfhetRuLqOQKRwPQrXtYNAhetRuB4ZkUBI4XoUrpuHQI/C9ShcO4pAw/UoXI8siEAK16NwPfaKQLgehetRfINACtejcD16eUDsUbgehdN9QI/C9ShcfJZAuB6F61F0qEAAAAAAADh9QK5H4XoU/IRAzczMzMxuiEAAAAAAAADwP4/C9Shc24lA7FG4HoW/okCPwvUoXDGNQI/C9SjcnKRA9ihcj8IZl0DhehSuR5uKQGZmZmbmPKRAFK5H4XodoEAAAAAAAADwPx+F61G4bIdAMzMzMzPJiUD2KFyPwvOaQArXo3A9HZBAcT0K16M8gUCkcD0K13uGQPYoXI/CrJNApHA9CtehiUBSuB6F61ySQK5H4XoUbZFAmpmZmZlbiEDXo3A9ChuMQB+F61G4fIBAcT0K16PcgEBI4XoUrvuHQArXo3A9an1ArkfhehRcmEBSuB6F6xuGQOxRuB6Fq3BArkfhehQafEA9CtejcPOEQPYoXI/CO4dA4XoUrkdXm0B7FK5H4fSZQEjhehSue3BAH4XrUbh8gEBxPQrXozyBQMP1KFyPunhAUrgehesNeEDXo3A9ilWhQClcj8J1bKdASOF6FK57cEBxPQrXozyBQMP1KFyPGnlA16NwPQrnekD2KFyPwsuNQGZmZmZmLIVAUrgehesvgEAfhetRuHyAQHE9CtejaZZAMzMzMzP7dEAK16NwPVp7QBSuR+F6XIJAcT0K16M8gUBmZmZmZryIQDMzMzMzfZBAw/UoXI96eUBxPQrXowiDQAAAAAAAvIVAXI/C9Shpm0CPwvUoXKd4QEjhehSuTYBAhetRuB4zh0CamZmZmaV9QEjhehSud29AexSuR+E6d0ApXI/C9Tx0QNejcD0KI3hAKVyPwnVsp0AfhetRuNqAQKRwPQrXH4FApHA9Ctd7hkCamZmZmXl/QBSuR+F6PHdApHA9CterjECuR+F6FHp8QMP1KFyPzIFArkfhehRtkUBxPQrXoxqPQHsUrkfhenZAhetRuB4heECPwvUoXNuJQM3MzMzMNJZAPQrXo3BgkEAK16NwPdyJQK5H4XoU9oJApHA9CtfbhkDD9ShcDzyqQFyPwvUoPIRA9ihcj8K5fkCkcD0K1wudQFyPwvUonIRAj8L1KFx8lkB7FK5H4TqNQOxRuB6FG4lApHA9Ctd7hkAAAAAAAEyMQOxRuB6Fu4hArkfhehQ9kUBxPQrXo9yAQD0K16Nwe4lASOF6FK53b0A=",
          "dtype": "f8"
         },
         "yaxis": "y"
        }
       ],
       "layout": {
        "coloraxis": {
         "colorbar": {
          "title": {
           "text": "cluster"
          }
         },
         "colorscale": [
          [
           0,
           "#0d0887"
          ],
          [
           0.1111111111111111,
           "#46039f"
          ],
          [
           0.2222222222222222,
           "#7201a8"
          ],
          [
           0.3333333333333333,
           "#9c179e"
          ],
          [
           0.4444444444444444,
           "#bd3786"
          ],
          [
           0.5555555555555556,
           "#d8576b"
          ],
          [
           0.6666666666666666,
           "#ed7953"
          ],
          [
           0.7777777777777778,
           "#fb9f3a"
          ],
          [
           0.8888888888888888,
           "#fdca26"
          ],
          [
           1,
           "#f0f921"
          ]
         ]
        },
        "legend": {
         "tracegroupgap": 0
        },
        "margin": {
         "t": 60
        },
        "template": {
         "data": {
          "bar": [
           {
            "error_x": {
             "color": "#2a3f5f"
            },
            "error_y": {
             "color": "#2a3f5f"
            },
            "marker": {
             "line": {
              "color": "#E5ECF6",
              "width": 0.5
             },
             "pattern": {
              "fillmode": "overlay",
              "size": 10,
              "solidity": 0.2
             }
            },
            "type": "bar"
           }
          ],
          "barpolar": [
           {
            "marker": {
             "line": {
              "color": "#E5ECF6",
              "width": 0.5
             },
             "pattern": {
              "fillmode": "overlay",
              "size": 10,
              "solidity": 0.2
             }
            },
            "type": "barpolar"
           }
          ],
          "carpet": [
           {
            "aaxis": {
             "endlinecolor": "#2a3f5f",
             "gridcolor": "white",
             "linecolor": "white",
             "minorgridcolor": "white",
             "startlinecolor": "#2a3f5f"
            },
            "baxis": {
             "endlinecolor": "#2a3f5f",
             "gridcolor": "white",
             "linecolor": "white",
             "minorgridcolor": "white",
             "startlinecolor": "#2a3f5f"
            },
            "type": "carpet"
           }
          ],
          "choropleth": [
           {
            "colorbar": {
             "outlinewidth": 0,
             "ticks": ""
            },
            "type": "choropleth"
           }
          ],
          "contour": [
           {
            "colorbar": {
             "outlinewidth": 0,
             "ticks": ""
            },
            "colorscale": [
             [
              0,
              "#0d0887"
             ],
             [
              0.1111111111111111,
              "#46039f"
             ],
             [
              0.2222222222222222,
              "#7201a8"
             ],
             [
              0.3333333333333333,
              "#9c179e"
             ],
             [
              0.4444444444444444,
              "#bd3786"
             ],
             [
              0.5555555555555556,
              "#d8576b"
             ],
             [
              0.6666666666666666,
              "#ed7953"
             ],
             [
              0.7777777777777778,
              "#fb9f3a"
             ],
             [
              0.8888888888888888,
              "#fdca26"
             ],
             [
              1,
              "#f0f921"
             ]
            ],
            "type": "contour"
           }
          ],
          "contourcarpet": [
           {
            "colorbar": {
             "outlinewidth": 0,
             "ticks": ""
            },
            "type": "contourcarpet"
           }
          ],
          "heatmap": [
           {
            "colorbar": {
             "outlinewidth": 0,
             "ticks": ""
            },
            "colorscale": [
             [
              0,
              "#0d0887"
             ],
             [
              0.1111111111111111,
              "#46039f"
             ],
             [
              0.2222222222222222,
              "#7201a8"
             ],
             [
              0.3333333333333333,
              "#9c179e"
             ],
             [
              0.4444444444444444,
              "#bd3786"
             ],
             [
              0.5555555555555556,
              "#d8576b"
             ],
             [
              0.6666666666666666,
              "#ed7953"
             ],
             [
              0.7777777777777778,
              "#fb9f3a"
             ],
             [
              0.8888888888888888,
              "#fdca26"
             ],
             [
              1,
              "#f0f921"
             ]
            ],
            "type": "heatmap"
           }
          ],
          "histogram": [
           {
            "marker": {
             "pattern": {
              "fillmode": "overlay",
              "size": 10,
              "solidity": 0.2
             }
            },
            "type": "histogram"
           }
          ],
          "histogram2d": [
           {
            "colorbar": {
             "outlinewidth": 0,
             "ticks": ""
            },
            "colorscale": [
             [
              0,
              "#0d0887"
             ],
             [
              0.1111111111111111,
              "#46039f"
             ],
             [
              0.2222222222222222,
              "#7201a8"
             ],
             [
              0.3333333333333333,
              "#9c179e"
             ],
             [
              0.4444444444444444,
              "#bd3786"
             ],
             [
              0.5555555555555556,
              "#d8576b"
             ],
             [
              0.6666666666666666,
              "#ed7953"
             ],
             [
              0.7777777777777778,
              "#fb9f3a"
             ],
             [
              0.8888888888888888,
              "#fdca26"
             ],
             [
              1,
              "#f0f921"
             ]
            ],
            "type": "histogram2d"
           }
          ],
          "histogram2dcontour": [
           {
            "colorbar": {
             "outlinewidth": 0,
             "ticks": ""
            },
            "colorscale": [
             [
              0,
              "#0d0887"
             ],
             [
              0.1111111111111111,
              "#46039f"
             ],
             [
              0.2222222222222222,
              "#7201a8"
             ],
             [
              0.3333333333333333,
              "#9c179e"
             ],
             [
              0.4444444444444444,
              "#bd3786"
             ],
             [
              0.5555555555555556,
              "#d8576b"
             ],
             [
              0.6666666666666666,
              "#ed7953"
             ],
             [
              0.7777777777777778,
              "#fb9f3a"
             ],
             [
              0.8888888888888888,
              "#fdca26"
             ],
             [
              1,
              "#f0f921"
             ]
            ],
            "type": "histogram2dcontour"
           }
          ],
          "mesh3d": [
           {
            "colorbar": {
             "outlinewidth": 0,
             "ticks": ""
            },
            "type": "mesh3d"
           }
          ],
          "parcoords": [
           {
            "line": {
             "colorbar": {
              "outlinewidth": 0,
              "ticks": ""
             }
            },
            "type": "parcoords"
           }
          ],
          "pie": [
           {
            "automargin": true,
            "type": "pie"
           }
          ],
          "scatter": [
           {
            "fillpattern": {
             "fillmode": "overlay",
             "size": 10,
             "solidity": 0.2
            },
            "type": "scatter"
           }
          ],
          "scatter3d": [
           {
            "line": {
             "colorbar": {
              "outlinewidth": 0,
              "ticks": ""
             }
            },
            "marker": {
             "colorbar": {
              "outlinewidth": 0,
              "ticks": ""
             }
            },
            "type": "scatter3d"
           }
          ],
          "scattercarpet": [
           {
            "marker": {
             "colorbar": {
              "outlinewidth": 0,
              "ticks": ""
             }
            },
            "type": "scattercarpet"
           }
          ],
          "scattergeo": [
           {
            "marker": {
             "colorbar": {
              "outlinewidth": 0,
              "ticks": ""
             }
            },
            "type": "scattergeo"
           }
          ],
          "scattergl": [
           {
            "marker": {
             "colorbar": {
              "outlinewidth": 0,
              "ticks": ""
             }
            },
            "type": "scattergl"
           }
          ],
          "scattermap": [
           {
            "marker": {
             "colorbar": {
              "outlinewidth": 0,
              "ticks": ""
             }
            },
            "type": "scattermap"
           }
          ],
          "scattermapbox": [
           {
            "marker": {
             "colorbar": {
              "outlinewidth": 0,
              "ticks": ""
             }
            },
            "type": "scattermapbox"
           }
          ],
          "scatterpolar": [
           {
            "marker": {
             "colorbar": {
              "outlinewidth": 0,
              "ticks": ""
             }
            },
            "type": "scatterpolar"
           }
          ],
          "scatterpolargl": [
           {
            "marker": {
             "colorbar": {
              "outlinewidth": 0,
              "ticks": ""
             }
            },
            "type": "scatterpolargl"
           }
          ],
          "scatterternary": [
           {
            "marker": {
             "colorbar": {
              "outlinewidth": 0,
              "ticks": ""
             }
            },
            "type": "scatterternary"
           }
          ],
          "surface": [
           {
            "colorbar": {
             "outlinewidth": 0,
             "ticks": ""
            },
            "colorscale": [
             [
              0,
              "#0d0887"
             ],
             [
              0.1111111111111111,
              "#46039f"
             ],
             [
              0.2222222222222222,
              "#7201a8"
             ],
             [
              0.3333333333333333,
              "#9c179e"
             ],
             [
              0.4444444444444444,
              "#bd3786"
             ],
             [
              0.5555555555555556,
              "#d8576b"
             ],
             [
              0.6666666666666666,
              "#ed7953"
             ],
             [
              0.7777777777777778,
              "#fb9f3a"
             ],
             [
              0.8888888888888888,
              "#fdca26"
             ],
             [
              1,
              "#f0f921"
             ]
            ],
            "type": "surface"
           }
          ],
          "table": [
           {
            "cells": {
             "fill": {
              "color": "#EBF0F8"
             },
             "line": {
              "color": "white"
             }
            },
            "header": {
             "fill": {
              "color": "#C8D4E3"
             },
             "line": {
              "color": "white"
             }
            },
            "type": "table"
           }
          ]
         },
         "layout": {
          "annotationdefaults": {
           "arrowcolor": "#2a3f5f",
           "arrowhead": 0,
           "arrowwidth": 1
          },
          "autotypenumbers": "strict",
          "coloraxis": {
           "colorbar": {
            "outlinewidth": 0,
            "ticks": ""
           }
          },
          "colorscale": {
           "diverging": [
            [
             0,
             "#8e0152"
            ],
            [
             0.1,
             "#c51b7d"
            ],
            [
             0.2,
             "#de77ae"
            ],
            [
             0.3,
             "#f1b6da"
            ],
            [
             0.4,
             "#fde0ef"
            ],
            [
             0.5,
             "#f7f7f7"
            ],
            [
             0.6,
             "#e6f5d0"
            ],
            [
             0.7,
             "#b8e186"
            ],
            [
             0.8,
             "#7fbc41"
            ],
            [
             0.9,
             "#4d9221"
            ],
            [
             1,
             "#276419"
            ]
           ],
           "sequential": [
            [
             0,
             "#0d0887"
            ],
            [
             0.1111111111111111,
             "#46039f"
            ],
            [
             0.2222222222222222,
             "#7201a8"
            ],
            [
             0.3333333333333333,
             "#9c179e"
            ],
            [
             0.4444444444444444,
             "#bd3786"
            ],
            [
             0.5555555555555556,
             "#d8576b"
            ],
            [
             0.6666666666666666,
             "#ed7953"
            ],
            [
             0.7777777777777778,
             "#fb9f3a"
            ],
            [
             0.8888888888888888,
             "#fdca26"
            ],
            [
             1,
             "#f0f921"
            ]
           ],
           "sequentialminus": [
            [
             0,
             "#0d0887"
            ],
            [
             0.1111111111111111,
             "#46039f"
            ],
            [
             0.2222222222222222,
             "#7201a8"
            ],
            [
             0.3333333333333333,
             "#9c179e"
            ],
            [
             0.4444444444444444,
             "#bd3786"
            ],
            [
             0.5555555555555556,
             "#d8576b"
            ],
            [
             0.6666666666666666,
             "#ed7953"
            ],
            [
             0.7777777777777778,
             "#fb9f3a"
            ],
            [
             0.8888888888888888,
             "#fdca26"
            ],
            [
             1,
             "#f0f921"
            ]
           ]
          },
          "colorway": [
           "#636efa",
           "#EF553B",
           "#00cc96",
           "#ab63fa",
           "#FFA15A",
           "#19d3f3",
           "#FF6692",
           "#B6E880",
           "#FF97FF",
           "#FECB52"
          ],
          "font": {
           "color": "#2a3f5f"
          },
          "geo": {
           "bgcolor": "white",
           "lakecolor": "white",
           "landcolor": "#E5ECF6",
           "showlakes": true,
           "showland": true,
           "subunitcolor": "white"
          },
          "hoverlabel": {
           "align": "left"
          },
          "hovermode": "closest",
          "mapbox": {
           "style": "light"
          },
          "paper_bgcolor": "white",
          "plot_bgcolor": "#E5ECF6",
          "polar": {
           "angularaxis": {
            "gridcolor": "white",
            "linecolor": "white",
            "ticks": ""
           },
           "bgcolor": "#E5ECF6",
           "radialaxis": {
            "gridcolor": "white",
            "linecolor": "white",
            "ticks": ""
           }
          },
          "scene": {
           "xaxis": {
            "backgroundcolor": "#E5ECF6",
            "gridcolor": "white",
            "gridwidth": 2,
            "linecolor": "white",
            "showbackground": true,
            "ticks": "",
            "zerolinecolor": "white"
           },
           "yaxis": {
            "backgroundcolor": "#E5ECF6",
            "gridcolor": "white",
            "gridwidth": 2,
            "linecolor": "white",
            "showbackground": true,
            "ticks": "",
            "zerolinecolor": "white"
           },
           "zaxis": {
            "backgroundcolor": "#E5ECF6",
            "gridcolor": "white",
            "gridwidth": 2,
            "linecolor": "white",
            "showbackground": true,
            "ticks": "",
            "zerolinecolor": "white"
           }
          },
          "shapedefaults": {
           "line": {
            "color": "#2a3f5f"
           }
          },
          "ternary": {
           "aaxis": {
            "gridcolor": "white",
            "linecolor": "white",
            "ticks": ""
           },
           "baxis": {
            "gridcolor": "white",
            "linecolor": "white",
            "ticks": ""
           },
           "bgcolor": "#E5ECF6",
           "caxis": {
            "gridcolor": "white",
            "linecolor": "white",
            "ticks": ""
           }
          },
          "title": {
           "x": 0.05
          },
          "xaxis": {
           "automargin": true,
           "gridcolor": "white",
           "linecolor": "white",
           "ticks": "",
           "title": {
            "standoff": 15
           },
           "zerolinecolor": "white",
           "zerolinewidth": 2
          },
          "yaxis": {
           "automargin": true,
           "gridcolor": "white",
           "linecolor": "white",
           "ticks": "",
           "title": {
            "standoff": 15
           },
           "zerolinecolor": "white",
           "zerolinewidth": 2
          }
         }
        },
        "xaxis": {
         "anchor": "y",
         "domain": [
          0,
          1
         ],
         "title": {
          "text": "brand"
         }
        },
        "yaxis": {
         "anchor": "x",
         "domain": [
          0,
          1
         ],
         "title": {
          "text": "price"
         }
        }
       }
      }
     },
     "metadata": {},
     "output_type": "display_data"
    }
   ],
   "source": [
    "#cruzamento entre brand e price apresentando os clusters\n",
    "px.scatter(df_laptops, x='brand', y='price', color='cluster')"
   ]
  },
  {
   "cell_type": "code",
   "execution_count": 41,
   "id": "4292625a",
   "metadata": {},
   "outputs": [
    {
     "data": {
      "application/vnd.plotly.v1+json": {
       "config": {
        "plotlyServerURL": "https://plot.ly"
       },
       "data": [
        {
         "hovertemplate": "brand=%{x}<br>rating=%{y}<br>cluster=%{marker.color}<extra></extra>",
         "legendgroup": "",
         "marker": {
          "color": {
           "bdata": "CgoKCgoCCgoKBAoBCgoKBgoKCgEKCgAKCgoKCgoHCgoKCgIKCgoKCgoKCgoKCgoGCgoKCgoKCgoCCgoKCgIKCgoKCgIKCgoKCgoKAgoKCgoKCgoKCgoKCgoKBAoKCgoKCgoKCgIKCgoKCgoCCgQCCgoKAgoCCgoHCgoKCgoKCgoKCgoKCgIKCgkKCgYEAwMCAgIKCgoKCgoCCgoECgoKCgoKCgoKAgoKAgoKCgYKCgoKAQEHCgoKBwoKCgoKCgoGCgIKAgoKCgoKCgoKCgoKCgoKCgoKAgoKCgoKCgoKCgoGBgoKCgoKCgoKCgoKCgoCAgoKCgoKCgoKCgoKCgoKCgoKCgoKCgoKCgoKCgICCgoCCgoCAgcHCgoBCgEHCgoKCgoKCgYKCgoKCgoKCgoHCgoKCgoKCgoHBwoKCgoKCgoKCgICAgoKCgoKCgoCAgoKCgoKCgYKCgoKCgoKAgoKCgoKCgoKCgoKCgoCCgoBCgoKBgoKCgoKCgoKAgIJCgIKCgoCCgoKCgoKCgoKCgoCBgIKAgoFCgoKCgoKCgoKCgoKCgoKCgoKCgoKCgoKCgoKCgQKCgoKCgoKCgoKCgoKCgoCCgIKCgoKCgoCCgIKCgoKCgoKCgoKCgoKCgoKCgoKCgoKCgoKCgoKCgoKCgoKCgoKCgoKCgoKCgoKCgoKCgoKBAoKCgoKCgoKBAoKAQoKCgoKCgoKCgoCCgIKCgoKCgoKCgoKCgIKCgoKCgoKCgYKCgoKCgIKCgoKBgoCCgoKCgoKCgoKCgYKCgoKCgoKCgIKAgICCgoKCggKBgoKCgoACgoKCgoKCgoCAQkKCgoKCgoKCgoKCgIKCgoBCgEKCgoKCgoCCgoKCgoKCgoKCgoKCgoKCgoKCgoKBwIKCgoKCgIKCgcKCgoKCgoKAgoKCgoKCgoKCgoKCgoKCgoKCgoKCgoKCgoKCgoKCgoKCgoKAwMKCgoCCgoKCgoKCgoKCgoKAgIKCgoKCgoKCgoCCgoKCgoCBAoKCgoKCgoKCgoKCgoKCgoKCgoKCgoKCgoCCgoKCgYKCgoKCgoKCgoJAgoECgoCCgoKBAIKCgoCCgoKCgICBAIKCgcKCgoKAgcKBAoCAgICCgoHCgoKCgoDCgMKCgIKAgoKCgoKCgoKCgIKCgoKAgcKAgICCgoKAgoKCgoKCgoCCQoKCgcKBAoECgoJAgcKCgQKCgoCCgICCgoKCgoKAgoKCgoKAgIKCgoKCgYGCgoKCgoKCgoKCgoKCgoKCgoKCgoKAgoKCgoKBAoKCgoKCgoKCgoKCgoCCgoKCgYKCgIKCgIKCgoKCgoCCg==",
           "dtype": "i1"
          },
          "coloraxis": "coloraxis",
          "symbol": "circle"
         },
         "mode": "markers",
         "name": "",
         "orientation": "v",
         "showlegend": false,
         "type": "scatter",
         "x": [
          "tecno",
          "tecno",
          "hp",
          "acer",
          "lenovo",
          "apple",
          "infinix",
          "asus",
          "hp",
          "infinix",
          "dell",
          "samsung",
          "msi",
          "asus",
          "lenovo",
          "hp",
          "lenovo",
          "asus",
          "hp",
          "wings",
          "hp",
          "lenovo",
          "apple",
          "asus",
          "asus",
          "acer",
          "hp",
          "ultimus",
          "hp",
          1,
          "samsung",
          "samsung",
          "lenovo",
          "asus",
          "apple",
          "dell",
          "acer",
          "acer",
          "hp",
          "asus",
          "asus",
          "hp",
          "hp",
          "hp",
          "hp",
          "dell",
          "msi",
          "asus",
          "msi",
          "dell",
          "infinix",
          "acer",
          "hp",
          "hp",
          "hp",
          "infinix",
          "hp",
          "asus",
          "dell",
          "asus",
          "lenovo",
          "dell",
          "asus",
          "asus",
          "asus",
          "hp",
          "hp",
          "apple",
          "infinix",
          "hp",
          "primebook",
          "dell",
          "acer",
          "hp",
          "hp",
          "asus",
          "asus",
          "iball",
          "ultimus",
          "dell",
          "asus",
          "hp",
          "lenovo",
          "lenovo",
          "hp",
          "lenovo",
          "hp",
          "msi",
          "ultimus",
          "lenovo",
          "msi",
          "msi",
          "asus",
          "asus",
          "lenovo",
          "lenovo",
          "asus",
          "infinix",
          "asus",
          "hp",
          "lenovo",
          "hp",
          "hp",
          "asus",
          "lenovo",
          "msi",
          "acer",
          "asus",
          "acer",
          "infinix",
          "asus",
          "acer",
          "asus",
          "acer",
          "asus",
          "hp",
          "asus",
          "acer",
          "acer",
          1,
          "hp",
          "hp",
          "lenovo",
          "acer",
          "lenovo",
          "hp",
          "dell",
          "asus",
          "asus",
          "lenovo",
          "asus",
          "acer",
          "asus",
          "apple",
          "asus",
          "hp",
          "hp",
          "lenovo",
          "lenovo",
          "dell",
          "hp",
          "apple",
          "apple",
          "apple",
          "apple",
          "lenovo",
          "dell",
          "hp",
          "hp",
          "dell",
          "acer",
          "asus",
          "lenovo",
          "ultimus",
          "zebronics",
          "hp",
          "hp",
          "zebronics",
          "zebronics",
          "zebronics",
          "hp",
          "lenovo",
          "asus",
          "hp",
          "chuwi",
          "acer",
          "hp",
          "gigabyte",
          "asus",
          "asus",
          "lenovo",
          "hp",
          "acer",
          "asus",
          "hp",
          "lenovo",
          "msi",
          "wings",
          "wings",
          1,
          "infinix",
          "hp",
          "msi",
          1,
          "hp",
          "lenovo",
          "lenovo",
          "lenovo",
          "lenovo",
          "hp",
          "hp",
          "hp",
          "jio",
          "asus",
          "asus",
          "hp",
          "dell",
          "chuwi",
          "msi",
          "hp",
          "infinix",
          "dell",
          "asus",
          "asus",
          "asus",
          "asus",
          "hp",
          "msi",
          "msi",
          "lenovo",
          "msi",
          "asus",
          "asus",
          "apple",
          "infinix",
          "acer",
          "dell",
          "acer",
          "hp",
          "asus",
          "asus",
          "acer",
          "acer",
          "asus",
          "asus",
          "asus",
          "asus",
          "asus",
          "hp",
          "msi",
          "hp",
          "hp",
          "asus",
          "asus",
          "hp",
          "acer",
          "msi",
          "hp",
          "asus",
          "asus",
          "asus",
          "asus",
          "honor",
          "lenovo",
          "lenovo",
          "hp",
          "dell",
          "msi",
          "acer",
          "msi",
          "hp",
          "acer",
          "asus",
          "asus",
          "asus",
          "samsung",
          "samsung",
          "infinix",
          "hp",
          "asus",
          "hp",
          "hp",
          "hp",
          "hp",
          "hp",
          "hp",
          "dell",
          "asus",
          "lenovo",
          "msi",
          "hp",
          "hp",
          "asus",
          "hp",
          "lenovo",
          "apple",
          "apple",
          1,
          1,
          "hp",
          "hp",
          "samsung",
          "hp",
          "realme",
          1,
          "avita",
          "hp",
          "dell",
          "chuwi",
          "chuwi",
          "avita",
          "lenovo",
          "dell",
          "hp",
          "lenovo",
          "lenovo",
          "hp",
          "hp",
          "lenovo",
          "lenovo",
          "lenovo",
          "lenovo",
          1,
          "lenovo",
          "dell",
          "hp",
          "dell",
          "lenovo",
          "lenovo",
          "hp",
          "dell",
          1,
          1,
          "lenovo",
          "acer",
          "acer",
          "lenovo",
          "avita",
          "acer",
          "acer",
          "acer",
          "avita",
          "apple",
          "apple",
          "lenovo",
          "asus",
          "lenovo",
          "acer",
          "lenovo",
          "lenovo",
          "asus",
          "avita",
          "apple",
          "hp",
          "hp",
          "hp",
          "hp",
          "acer",
          "lenovo",
          "hp",
          "lenovo",
          "microsoft",
          "acer",
          "acer",
          "dell",
          "lenovo",
          "hp",
          "asus",
          "msi",
          "dell",
          "lenovo",
          "asus",
          "asus",
          "lenovo",
          "lenovo",
          "hp",
          "lenovo",
          "lenovo",
          "asus",
          "lenovo",
          "hp",
          "lenovo",
          "lenovo",
          "asus",
          "asus",
          "acer",
          "dell",
          "lenovo",
          "dell",
          "hp",
          "zebronics",
          "zebronics",
          "primebook",
          "acer",
          "acer",
          "ultimus",
          "hp",
          "zebronics",
          "hp",
          "hp",
          "hp",
          "hp",
          "hp",
          "asus",
          "lenovo",
          "lenovo",
          "lenovo",
          "lenovo",
          "lenovo",
          "asus",
          "asus",
          "asus",
          "asus",
          "lenovo",
          "lenovo",
          "dell",
          "hp",
          "lenovo",
          "lenovo",
          "lenovo",
          "lenovo",
          "lenovo",
          "lenovo",
          "lenovo",
          "msi",
          "lenovo",
          "lenovo",
          "msi",
          "hp",
          "acer",
          "acer",
          "lenovo",
          "lenovo",
          "asus",
          "acer",
          "dell",
          "hp",
          "asus",
          "asus",
          "lenovo",
          "lenovo",
          "lenovo",
          "lenovo",
          "dell",
          "lenovo",
          "dell",
          "dell",
          "acer",
          "lenovo",
          "lenovo",
          "dell",
          "lenovo",
          "dell",
          "msi",
          "asus",
          "hp",
          "lenovo",
          "lenovo",
          "asus",
          "lenovo",
          "hp",
          "dell",
          "lenovo",
          "lenovo",
          "acer",
          "lenovo",
          "lenovo",
          "microsoft",
          "ultimus",
          "lenovo",
          "dell",
          "lenovo",
          "lenovo",
          "hp",
          "lenovo",
          "hp",
          "lenovo",
          "lenovo",
          "lenovo",
          "hp",
          "lenovo",
          "lenovo",
          "acer",
          "asus",
          "fujitsu",
          "asus",
          "asus",
          "asus",
          "hp",
          "hp",
          "lenovo",
          "lenovo",
          "lenovo",
          "asus",
          "asus",
          "lenovo",
          "hp",
          "lenovo",
          "lenovo",
          "asus",
          "lenovo",
          "dell",
          "acer",
          "acer",
          "asus",
          "asus",
          "asus",
          "asus",
          "asus",
          "asus",
          "hp",
          "asus",
          "gigabyte",
          "lenovo",
          "asus",
          "lenovo",
          "lenovo",
          "fujitsu",
          "lenovo",
          "lenovo",
          "lenovo",
          "lenovo",
          "asus",
          "asus",
          "asus",
          "msi",
          "lenovo",
          "msi",
          "acer",
          "acer",
          "asus",
          "asus",
          "asus",
          "hp",
          "dell",
          "dell",
          "asus",
          "hp",
          "fujitsu",
          "hp",
          "hp",
          "lenovo",
          "dell",
          "asus",
          "lenovo",
          "wings",
          "acer",
          "lenovo",
          "lenovo",
          "lenovo",
          "infinix",
          "lenovo",
          "dell",
          "dell",
          "lenovo",
          "lenovo",
          "dell",
          "dell",
          "dell",
          "dell",
          "dell",
          "dell",
          "hp",
          "dell",
          "dell",
          "lenovo",
          "asus",
          "msi",
          "msi",
          "msi",
          "msi",
          "msi",
          "msi",
          "msi",
          "msi",
          "msi",
          "hp",
          "hp",
          "lenovo",
          "hp",
          "hp",
          "hp",
          "asus",
          "asus",
          "lenovo",
          "hp",
          "lenovo",
          "hp",
          "asus",
          "asus",
          "acer",
          "asus",
          "msi",
          "hp",
          "dell",
          "lenovo",
          "asus",
          "lenovo",
          "hp",
          "lenovo",
          "hp",
          "lenovo",
          "asus",
          "msi",
          "lenovo",
          "hp",
          "lenovo",
          "hp",
          "asus",
          "hp",
          "acer",
          "acer",
          "lenovo",
          "hp",
          "dell",
          "dell",
          "dell",
          "asus",
          "dell",
          "msi",
          "lenovo",
          "dell",
          "dell",
          "dell",
          "dell",
          "msi",
          "msi",
          "msi",
          "dell",
          "hp",
          "lenovo",
          "asus",
          "asus",
          "lenovo",
          "hp",
          "lenovo",
          "asus",
          "asus",
          "lg",
          "dell",
          "acer",
          "lenovo",
          "acer",
          "hp",
          "asus",
          "hp",
          "fujitsu",
          "hp",
          "acer",
          "hp",
          "hp",
          "asus",
          "lg",
          "hp",
          "lenovo",
          "lg",
          "hp",
          "lg",
          "acer",
          "asus",
          "walker",
          "hp",
          "dell",
          "dell",
          "hp",
          "lenovo",
          "lenovo",
          "msi",
          "lenovo",
          "lenovo",
          "msi",
          "asus",
          "asus",
          "lenovo",
          "asus",
          "lenovo",
          "lenovo",
          "hp",
          "hp",
          "hp",
          "hp",
          "hp",
          "hp",
          "hp",
          "hp",
          "asus",
          1,
          "hp",
          "dell",
          "lenovo",
          "lenovo",
          "lenovo",
          "lenovo",
          "hp",
          "acer",
          "lenovo",
          1,
          "dell",
          "hp",
          "hp",
          "hp",
          "hp",
          "hp",
          "asus",
          "asus",
          "dell",
          "asus",
          "lenovo",
          "lenovo",
          "lenovo",
          "lenovo",
          "dell",
          "hp",
          "msi",
          "lenovo",
          "dell",
          "dell",
          "lenovo",
          "lenovo",
          "acer",
          "dell",
          "acer",
          "lenovo",
          "hp",
          "acer",
          "msi",
          "msi",
          "dell",
          "msi",
          "msi",
          "msi",
          "acer",
          "msi",
          "asus",
          "msi",
          "msi",
          "hp",
          "dell",
          "msi",
          "msi",
          "dell",
          "dell",
          "lenovo",
          "lenovo",
          "lg",
          "lg",
          "hp",
          "lenovo",
          "axl",
          "msi",
          "axl",
          "dell",
          "lenovo",
          "asus",
          "lenovo",
          "hp",
          "lenovo",
          "asus",
          "dell",
          "asus",
          "asus",
          "acer",
          "lenovo",
          "lenovo",
          "lenovo",
          "lenovo",
          "lenovo",
          "lenovo",
          "lenovo",
          "dell",
          "lenovo",
          "hp",
          "lenovo",
          "dell",
          "hp",
          "dell",
          "dell",
          "dell",
          "dell",
          "hp",
          "dell",
          "infinix",
          "dell",
          "dell",
          "dell",
          "asus",
          "hp",
          "asus",
          "dell",
          "hp",
          "hp",
          "hp",
          "asus",
          "lenovo",
          "hp",
          "hp",
          "acer",
          "msi",
          "msi",
          "acer",
          "hp",
          "hp",
          "asus",
          "dell",
          "acer",
          "hp",
          "dell",
          "dell",
          "dell",
          "dell",
          "dell",
          "acer",
          "acer",
          "acer",
          "acer",
          "hp",
          "asus",
          "msi",
          "asus",
          "asus",
          "asus",
          "asus",
          "asus",
          "asus",
          "lenovo",
          "asus",
          "asus",
          "asus",
          "asus",
          "asus",
          "asus",
          "lenovo",
          "asus",
          "asus",
          "asus",
          "asus",
          "hp",
          "acer",
          "asus",
          "dell",
          "dell",
          "hp",
          "hp",
          1,
          "msi",
          "acer",
          "hp",
          "hp",
          "asus",
          1,
          "asus",
          "msi",
          "asus",
          "acer",
          "asus",
          "asus",
          "asus",
          "hp",
          "hp",
          1,
          "asus",
          "hp",
          "lenovo",
          "lenovo",
          "acer",
          "dell",
          "hp",
          "dell",
          "acer",
          "hp",
          "acer",
          "hp",
          "acer",
          "hp",
          "hp",
          "hp",
          "hp",
          "realme",
          "hp",
          "asus",
          "dell",
          "asus",
          "asus",
          "dell",
          "asus",
          "dell",
          "acer",
          "acer",
          1,
          "asus",
          "asus",
          "asus",
          "asus",
          "hp",
          "msi",
          "hp",
          "asus",
          "asus",
          "msi",
          "hp",
          "asus",
          "hp",
          "hp",
          "asus",
          "hp",
          "msi",
          "asus",
          "asus",
          "msi",
          1,
          "acer",
          "acer",
          "acer",
          "msi",
          "lenovo",
          "asus",
          "msi",
          "msi",
          1,
          "asus",
          "asus",
          "hp",
          "asus",
          "asus",
          "asus",
          "asus",
          "asus",
          "asus",
          "asus",
          "asus",
          "asus",
          "asus",
          "dell",
          "asus",
          "asus",
          "asus",
          "asus",
          "lenovo",
          "hp",
          "dell",
          "msi",
          "hp",
          "hp",
          "lenovo",
          "honor",
          "acer",
          "acer",
          "acer",
          "acer",
          "acer",
          "lenovo",
          "lenovo",
          "lenovo",
          "lenovo",
          "asus",
          "fujitsu",
          "hp",
          "msi",
          "dell",
          "acer",
          "lenovo",
          "msi",
          "lenovo",
          "lenovo",
          "dell",
          "lenovo",
          "asus",
          "hp",
          "lenovo",
          "hp",
          "lenovo",
          "asus",
          "hp",
          "hp",
          "lenovo",
          "hp",
          "lenovo",
          "asus",
          "asus",
          "asus",
          "lenovo",
          "msi",
          "hp",
          "acer",
          "msi",
          "msi",
          "msi",
          "msi",
          "acer",
          "asus",
          "asus",
          "lg",
          "msi",
          "acer",
          "msi",
          "msi",
          "asus",
          "msi",
          "msi",
          "hp",
          "asus",
          "msi",
          "asus",
          "asus",
          "asus",
          "acer",
          "asus",
          "msi",
          "asus",
          "asus",
          "hp"
         ],
         "xaxis": "x",
         "y": {
          "bdata": "P0NJPj4tOEY8RzxER0dCVTtMRzgxO0E5OT9NNkIBOz5HQTBCQDw+SE1HR1BHRzpTRkI2OkxGPzJQS0JDRUZATkhIQTU1Rho8R0ZGPkApLkg5NjNCSC9GQSlGS0E/Rz87RjxGQ1A5PkJGPzxLPj9ISEhDQD5YS0YBNjRCMUA8Sk88Q0FAOCtGPFI8QE5MP0A6OE07QDo1Nj5TLUFMOz9IOEM8R0IyQDFDRSMyOE5HTEA8OjEBOD9BAUw+RT9DP0tVGEFMRkkyPj85P01MRkJCQUg1Pjw7ODk5PjtBQDpGQ1BNT05AQUk7OUNARUtFNkZBRztCNTVDRD4xT0RDQTxBODw0RTJDST5HQCc+SU5ORzZVOkotLQEBPjREQDQBODhDMjYyQFBAOTozOj4yOj4BQjU+Ojk8NDEBATMvQEAzQEA+KTU6QyVCP0tBLCszRk5FOT85TVY6OD5ARkxDUEtFOkE2NUg5OEVFPENLLT8mOj85WEI8H0E+Lz5IRlVYT05GOjk/QUUmQjMmQDg1OTpUVU46TTlZQTlGL0NBOUNJJjVGOj46PD4zOS45ODozPzlAOFNGQCtFRzpLOTtBPkc/PDRZPlNPQ0NGQjhBOVNFMitDQzs8OzM0OjxAPz46OjpJNTVIRkBIJSklOT4lST9IOjtBRTo8OEFCRkdBTD88OT44Tjo5RT9MM0ZATj88My08PD45QTg6QD4/Oj42OzlHPD88TExNT0xNRUdGU0hHO1ZLQzs5QEM6SEhCT0hJRjo8NkhDRzxJQFlJTUtJLU1BOkksPFU/OUE/P1NBVVA6TUdTOEVIS0g5OUZSQ1lQRTssSEVJRUAuQ0dIUCZOJkVGQSU0PD9JPkFBOzJDPEtGQD46QkJCRkJIOTw8AUc4RUBDQkU7QwE1RTo1PEZIUzhHQEM7RkM6Tjk6ND4+Mjw5OT4yQ0E8TkVNPEI7TUs/Rj9GWFI/S0tISD4mQSU2OUU5QjtASEI1RTZANTY4OzlHQkdAODFOUjs6Mjk6ODQ5LUM6OD9BQz8yL0I4S0s1MkBATDNCNE9JS0UyOzQyRzZVR0lZVEtTQ0lNWUxQQzpJUkJIQUZLTlM5OwFHPjo5QgFMVkJORlRHS0IBODlDRzpSNlMvNkEzQjM2Qzg+Qy0/OE4/PDtAQQE7SUlGR0E8SztGS0BDODRNWTA7QQFJSkhUTj9XUAE4Pks8OThHQEBGPjw1PjozSj4vQDtIT0grOzsyLEdNLTo4OENGOjVENDw2QjdINDs7SzQ2QyslMjswWTo7QDwvRzo7SEo2NUhIQ0c7PVM6OElETERBQENESTtEJQ==",
          "dtype": "i1"
         },
         "yaxis": "y"
        }
       ],
       "layout": {
        "coloraxis": {
         "colorbar": {
          "title": {
           "text": "cluster"
          }
         },
         "colorscale": [
          [
           0,
           "#0d0887"
          ],
          [
           0.1111111111111111,
           "#46039f"
          ],
          [
           0.2222222222222222,
           "#7201a8"
          ],
          [
           0.3333333333333333,
           "#9c179e"
          ],
          [
           0.4444444444444444,
           "#bd3786"
          ],
          [
           0.5555555555555556,
           "#d8576b"
          ],
          [
           0.6666666666666666,
           "#ed7953"
          ],
          [
           0.7777777777777778,
           "#fb9f3a"
          ],
          [
           0.8888888888888888,
           "#fdca26"
          ],
          [
           1,
           "#f0f921"
          ]
         ]
        },
        "legend": {
         "tracegroupgap": 0
        },
        "margin": {
         "t": 60
        },
        "template": {
         "data": {
          "bar": [
           {
            "error_x": {
             "color": "#2a3f5f"
            },
            "error_y": {
             "color": "#2a3f5f"
            },
            "marker": {
             "line": {
              "color": "#E5ECF6",
              "width": 0.5
             },
             "pattern": {
              "fillmode": "overlay",
              "size": 10,
              "solidity": 0.2
             }
            },
            "type": "bar"
           }
          ],
          "barpolar": [
           {
            "marker": {
             "line": {
              "color": "#E5ECF6",
              "width": 0.5
             },
             "pattern": {
              "fillmode": "overlay",
              "size": 10,
              "solidity": 0.2
             }
            },
            "type": "barpolar"
           }
          ],
          "carpet": [
           {
            "aaxis": {
             "endlinecolor": "#2a3f5f",
             "gridcolor": "white",
             "linecolor": "white",
             "minorgridcolor": "white",
             "startlinecolor": "#2a3f5f"
            },
            "baxis": {
             "endlinecolor": "#2a3f5f",
             "gridcolor": "white",
             "linecolor": "white",
             "minorgridcolor": "white",
             "startlinecolor": "#2a3f5f"
            },
            "type": "carpet"
           }
          ],
          "choropleth": [
           {
            "colorbar": {
             "outlinewidth": 0,
             "ticks": ""
            },
            "type": "choropleth"
           }
          ],
          "contour": [
           {
            "colorbar": {
             "outlinewidth": 0,
             "ticks": ""
            },
            "colorscale": [
             [
              0,
              "#0d0887"
             ],
             [
              0.1111111111111111,
              "#46039f"
             ],
             [
              0.2222222222222222,
              "#7201a8"
             ],
             [
              0.3333333333333333,
              "#9c179e"
             ],
             [
              0.4444444444444444,
              "#bd3786"
             ],
             [
              0.5555555555555556,
              "#d8576b"
             ],
             [
              0.6666666666666666,
              "#ed7953"
             ],
             [
              0.7777777777777778,
              "#fb9f3a"
             ],
             [
              0.8888888888888888,
              "#fdca26"
             ],
             [
              1,
              "#f0f921"
             ]
            ],
            "type": "contour"
           }
          ],
          "contourcarpet": [
           {
            "colorbar": {
             "outlinewidth": 0,
             "ticks": ""
            },
            "type": "contourcarpet"
           }
          ],
          "heatmap": [
           {
            "colorbar": {
             "outlinewidth": 0,
             "ticks": ""
            },
            "colorscale": [
             [
              0,
              "#0d0887"
             ],
             [
              0.1111111111111111,
              "#46039f"
             ],
             [
              0.2222222222222222,
              "#7201a8"
             ],
             [
              0.3333333333333333,
              "#9c179e"
             ],
             [
              0.4444444444444444,
              "#bd3786"
             ],
             [
              0.5555555555555556,
              "#d8576b"
             ],
             [
              0.6666666666666666,
              "#ed7953"
             ],
             [
              0.7777777777777778,
              "#fb9f3a"
             ],
             [
              0.8888888888888888,
              "#fdca26"
             ],
             [
              1,
              "#f0f921"
             ]
            ],
            "type": "heatmap"
           }
          ],
          "histogram": [
           {
            "marker": {
             "pattern": {
              "fillmode": "overlay",
              "size": 10,
              "solidity": 0.2
             }
            },
            "type": "histogram"
           }
          ],
          "histogram2d": [
           {
            "colorbar": {
             "outlinewidth": 0,
             "ticks": ""
            },
            "colorscale": [
             [
              0,
              "#0d0887"
             ],
             [
              0.1111111111111111,
              "#46039f"
             ],
             [
              0.2222222222222222,
              "#7201a8"
             ],
             [
              0.3333333333333333,
              "#9c179e"
             ],
             [
              0.4444444444444444,
              "#bd3786"
             ],
             [
              0.5555555555555556,
              "#d8576b"
             ],
             [
              0.6666666666666666,
              "#ed7953"
             ],
             [
              0.7777777777777778,
              "#fb9f3a"
             ],
             [
              0.8888888888888888,
              "#fdca26"
             ],
             [
              1,
              "#f0f921"
             ]
            ],
            "type": "histogram2d"
           }
          ],
          "histogram2dcontour": [
           {
            "colorbar": {
             "outlinewidth": 0,
             "ticks": ""
            },
            "colorscale": [
             [
              0,
              "#0d0887"
             ],
             [
              0.1111111111111111,
              "#46039f"
             ],
             [
              0.2222222222222222,
              "#7201a8"
             ],
             [
              0.3333333333333333,
              "#9c179e"
             ],
             [
              0.4444444444444444,
              "#bd3786"
             ],
             [
              0.5555555555555556,
              "#d8576b"
             ],
             [
              0.6666666666666666,
              "#ed7953"
             ],
             [
              0.7777777777777778,
              "#fb9f3a"
             ],
             [
              0.8888888888888888,
              "#fdca26"
             ],
             [
              1,
              "#f0f921"
             ]
            ],
            "type": "histogram2dcontour"
           }
          ],
          "mesh3d": [
           {
            "colorbar": {
             "outlinewidth": 0,
             "ticks": ""
            },
            "type": "mesh3d"
           }
          ],
          "parcoords": [
           {
            "line": {
             "colorbar": {
              "outlinewidth": 0,
              "ticks": ""
             }
            },
            "type": "parcoords"
           }
          ],
          "pie": [
           {
            "automargin": true,
            "type": "pie"
           }
          ],
          "scatter": [
           {
            "fillpattern": {
             "fillmode": "overlay",
             "size": 10,
             "solidity": 0.2
            },
            "type": "scatter"
           }
          ],
          "scatter3d": [
           {
            "line": {
             "colorbar": {
              "outlinewidth": 0,
              "ticks": ""
             }
            },
            "marker": {
             "colorbar": {
              "outlinewidth": 0,
              "ticks": ""
             }
            },
            "type": "scatter3d"
           }
          ],
          "scattercarpet": [
           {
            "marker": {
             "colorbar": {
              "outlinewidth": 0,
              "ticks": ""
             }
            },
            "type": "scattercarpet"
           }
          ],
          "scattergeo": [
           {
            "marker": {
             "colorbar": {
              "outlinewidth": 0,
              "ticks": ""
             }
            },
            "type": "scattergeo"
           }
          ],
          "scattergl": [
           {
            "marker": {
             "colorbar": {
              "outlinewidth": 0,
              "ticks": ""
             }
            },
            "type": "scattergl"
           }
          ],
          "scattermap": [
           {
            "marker": {
             "colorbar": {
              "outlinewidth": 0,
              "ticks": ""
             }
            },
            "type": "scattermap"
           }
          ],
          "scattermapbox": [
           {
            "marker": {
             "colorbar": {
              "outlinewidth": 0,
              "ticks": ""
             }
            },
            "type": "scattermapbox"
           }
          ],
          "scatterpolar": [
           {
            "marker": {
             "colorbar": {
              "outlinewidth": 0,
              "ticks": ""
             }
            },
            "type": "scatterpolar"
           }
          ],
          "scatterpolargl": [
           {
            "marker": {
             "colorbar": {
              "outlinewidth": 0,
              "ticks": ""
             }
            },
            "type": "scatterpolargl"
           }
          ],
          "scatterternary": [
           {
            "marker": {
             "colorbar": {
              "outlinewidth": 0,
              "ticks": ""
             }
            },
            "type": "scatterternary"
           }
          ],
          "surface": [
           {
            "colorbar": {
             "outlinewidth": 0,
             "ticks": ""
            },
            "colorscale": [
             [
              0,
              "#0d0887"
             ],
             [
              0.1111111111111111,
              "#46039f"
             ],
             [
              0.2222222222222222,
              "#7201a8"
             ],
             [
              0.3333333333333333,
              "#9c179e"
             ],
             [
              0.4444444444444444,
              "#bd3786"
             ],
             [
              0.5555555555555556,
              "#d8576b"
             ],
             [
              0.6666666666666666,
              "#ed7953"
             ],
             [
              0.7777777777777778,
              "#fb9f3a"
             ],
             [
              0.8888888888888888,
              "#fdca26"
             ],
             [
              1,
              "#f0f921"
             ]
            ],
            "type": "surface"
           }
          ],
          "table": [
           {
            "cells": {
             "fill": {
              "color": "#EBF0F8"
             },
             "line": {
              "color": "white"
             }
            },
            "header": {
             "fill": {
              "color": "#C8D4E3"
             },
             "line": {
              "color": "white"
             }
            },
            "type": "table"
           }
          ]
         },
         "layout": {
          "annotationdefaults": {
           "arrowcolor": "#2a3f5f",
           "arrowhead": 0,
           "arrowwidth": 1
          },
          "autotypenumbers": "strict",
          "coloraxis": {
           "colorbar": {
            "outlinewidth": 0,
            "ticks": ""
           }
          },
          "colorscale": {
           "diverging": [
            [
             0,
             "#8e0152"
            ],
            [
             0.1,
             "#c51b7d"
            ],
            [
             0.2,
             "#de77ae"
            ],
            [
             0.3,
             "#f1b6da"
            ],
            [
             0.4,
             "#fde0ef"
            ],
            [
             0.5,
             "#f7f7f7"
            ],
            [
             0.6,
             "#e6f5d0"
            ],
            [
             0.7,
             "#b8e186"
            ],
            [
             0.8,
             "#7fbc41"
            ],
            [
             0.9,
             "#4d9221"
            ],
            [
             1,
             "#276419"
            ]
           ],
           "sequential": [
            [
             0,
             "#0d0887"
            ],
            [
             0.1111111111111111,
             "#46039f"
            ],
            [
             0.2222222222222222,
             "#7201a8"
            ],
            [
             0.3333333333333333,
             "#9c179e"
            ],
            [
             0.4444444444444444,
             "#bd3786"
            ],
            [
             0.5555555555555556,
             "#d8576b"
            ],
            [
             0.6666666666666666,
             "#ed7953"
            ],
            [
             0.7777777777777778,
             "#fb9f3a"
            ],
            [
             0.8888888888888888,
             "#fdca26"
            ],
            [
             1,
             "#f0f921"
            ]
           ],
           "sequentialminus": [
            [
             0,
             "#0d0887"
            ],
            [
             0.1111111111111111,
             "#46039f"
            ],
            [
             0.2222222222222222,
             "#7201a8"
            ],
            [
             0.3333333333333333,
             "#9c179e"
            ],
            [
             0.4444444444444444,
             "#bd3786"
            ],
            [
             0.5555555555555556,
             "#d8576b"
            ],
            [
             0.6666666666666666,
             "#ed7953"
            ],
            [
             0.7777777777777778,
             "#fb9f3a"
            ],
            [
             0.8888888888888888,
             "#fdca26"
            ],
            [
             1,
             "#f0f921"
            ]
           ]
          },
          "colorway": [
           "#636efa",
           "#EF553B",
           "#00cc96",
           "#ab63fa",
           "#FFA15A",
           "#19d3f3",
           "#FF6692",
           "#B6E880",
           "#FF97FF",
           "#FECB52"
          ],
          "font": {
           "color": "#2a3f5f"
          },
          "geo": {
           "bgcolor": "white",
           "lakecolor": "white",
           "landcolor": "#E5ECF6",
           "showlakes": true,
           "showland": true,
           "subunitcolor": "white"
          },
          "hoverlabel": {
           "align": "left"
          },
          "hovermode": "closest",
          "mapbox": {
           "style": "light"
          },
          "paper_bgcolor": "white",
          "plot_bgcolor": "#E5ECF6",
          "polar": {
           "angularaxis": {
            "gridcolor": "white",
            "linecolor": "white",
            "ticks": ""
           },
           "bgcolor": "#E5ECF6",
           "radialaxis": {
            "gridcolor": "white",
            "linecolor": "white",
            "ticks": ""
           }
          },
          "scene": {
           "xaxis": {
            "backgroundcolor": "#E5ECF6",
            "gridcolor": "white",
            "gridwidth": 2,
            "linecolor": "white",
            "showbackground": true,
            "ticks": "",
            "zerolinecolor": "white"
           },
           "yaxis": {
            "backgroundcolor": "#E5ECF6",
            "gridcolor": "white",
            "gridwidth": 2,
            "linecolor": "white",
            "showbackground": true,
            "ticks": "",
            "zerolinecolor": "white"
           },
           "zaxis": {
            "backgroundcolor": "#E5ECF6",
            "gridcolor": "white",
            "gridwidth": 2,
            "linecolor": "white",
            "showbackground": true,
            "ticks": "",
            "zerolinecolor": "white"
           }
          },
          "shapedefaults": {
           "line": {
            "color": "#2a3f5f"
           }
          },
          "ternary": {
           "aaxis": {
            "gridcolor": "white",
            "linecolor": "white",
            "ticks": ""
           },
           "baxis": {
            "gridcolor": "white",
            "linecolor": "white",
            "ticks": ""
           },
           "bgcolor": "#E5ECF6",
           "caxis": {
            "gridcolor": "white",
            "linecolor": "white",
            "ticks": ""
           }
          },
          "title": {
           "x": 0.05
          },
          "xaxis": {
           "automargin": true,
           "gridcolor": "white",
           "linecolor": "white",
           "ticks": "",
           "title": {
            "standoff": 15
           },
           "zerolinecolor": "white",
           "zerolinewidth": 2
          },
          "yaxis": {
           "automargin": true,
           "gridcolor": "white",
           "linecolor": "white",
           "ticks": "",
           "title": {
            "standoff": 15
           },
           "zerolinecolor": "white",
           "zerolinewidth": 2
          }
         }
        },
        "xaxis": {
         "anchor": "y",
         "domain": [
          0,
          1
         ],
         "title": {
          "text": "brand"
         }
        },
        "yaxis": {
         "anchor": "x",
         "domain": [
          0,
          1
         ],
         "title": {
          "text": "rating"
         }
        }
       }
      }
     },
     "metadata": {},
     "output_type": "display_data"
    }
   ],
   "source": [
    "#cruzamento entre brand e price apresentando os clusters\n",
    "px.scatter(df_laptops, x='brand', y='rating', color='cluster')"
   ]
  },
  {
   "cell_type": "code",
   "execution_count": 42,
   "id": "f8ba3ae4",
   "metadata": {},
   "outputs": [
    {
     "data": {
      "application/vnd.plotly.v1+json": {
       "config": {
        "plotlyServerURL": "https://plot.ly"
       },
       "data": [
        {
         "hovertemplate": "brand=tecno<br>cluster=%{x}<br>rating=%{y}<extra></extra>",
         "legendgroup": "tecno",
         "marker": {
          "color": "#636efa",
          "symbol": "circle"
         },
         "mode": "markers",
         "name": "tecno",
         "orientation": "v",
         "showlegend": true,
         "type": "scatter",
         "x": {
          "bdata": "Cgo=",
          "dtype": "i1"
         },
         "xaxis": "x",
         "y": {
          "bdata": "P0M=",
          "dtype": "i1"
         },
         "yaxis": "y"
        },
        {
         "hovertemplate": "brand=hp<br>cluster=%{x}<br>rating=%{y}<extra></extra>",
         "legendgroup": "hp",
         "marker": {
          "color": "#EF553B",
          "symbol": "circle"
         },
         "mode": "markers",
         "name": "hp",
         "orientation": "v",
         "showlegend": true,
         "type": "scatter",
         "x": {
          "bdata": "CgoGCgoKCgoKCgoKCgoKAgoKCgoKCgoKCgoKCgoKCgoJBAoKBAoKCgoKCgoKCgoGAgoKCgoKCgoKCgoKCgoKCgoKCgoKCgoKCgoKCgoKAgoKCgoKCgoGCgICCQoCCgoKCgoKCgoKCgoKBAoKCgoKCgYKCgIKCgoKCgoKCgoKCgoKCgoKCgoCCgoKCgoKCgoCAgoKCgoKCgoKCgoKCgoKCgoKCgoKCgoKCgoKCgoKCgoKCgoKCgoKCgoKCgoKAgQKAgIKCgoKCgoKAgo=",
          "dtype": "i1"
         },
         "xaxis": "x",
         "y": {
          "bdata": "STxVRzFNQj5HR1BHTEY/UEhBRkZGNkhGQzk+PjY0PDxSTEA6TDtDQjE4TD9MP0tVRj9CQUE7OUU2Q0RFQ0k+R0AnRzY6PjRAOEAzOj40Rk5FOU1MSDxYPkZVWE9OOS9GQEtDRjk7Mzo+Tj8zRkdIR1ZLQ0NIRkM8TUlNLDg5LEVFLkNQJjRJQkJCRkJIOTxHRUU6NTxGOj4/SEJHMTJDP0FDL0IyQEJHQTk7OjlLQjk2NjMzNkM4Q0c8S0M4TUtAT0g6OzQrJTsvSSU=",
          "dtype": "i1"
         },
         "yaxis": "y"
        },
        {
         "hovertemplate": "brand=acer<br>cluster=%{x}<br>rating=%{y}<extra></extra>",
         "legendgroup": "acer",
         "marker": {
          "color": "#00cc96",
          "symbol": "circle"
         },
         "mode": "markers",
         "name": "acer",
         "orientation": "v",
         "showlegend": true,
         "type": "scatter",
         "x": {
          "bdata": "CgoKCgoKCgoKCgoKCgoKAgYKCgoKCgoKCgoKCgoKCgoKAQoKCgoKCgoKCgoKCgoGCgoKCgoKCgoKCgoKCgoKCgoKCgIKAgoKAgIKAgoECgoKCgYGCgoKCgo=",
          "dtype": "i1"
         },
         "xaxis": "x",
         "y": {
          "bdata": "Pj9APDpHPD5IQ0tGMUA2QE45O0ZDSzFDL0BAQD4/Pzg+JkE+Q0EmOj4ySEY/PC1PQTpQO0BGOzI5MjxFODUzMjs0MkY+TjovQUJAQUlKSDsyLEdNNEc2R0M=",
          "dtype": "i1"
         },
         "yaxis": "y"
        },
        {
         "hovertemplate": "brand=lenovo<br>cluster=%{x}<br>rating=%{y}<extra></extra>",
         "legendgroup": "lenovo",
         "marker": {
          "color": "#ab63fa",
          "symbol": "circle"
         },
         "mode": "markers",
         "name": "lenovo",
         "orientation": "v",
         "showlegend": true,
         "type": "scatter",
         "x": {
          "bdata": "CgoKCgoKCgoKCgoKAgoKCgoKCgICCgoKCgoKCgoKCgIKCgoKCgoKCgoKCgoKAgoKCgoGCgoKCgoKCgoCCgoKAgoKCgoKAgYCCgIKCgoKCgoKCgoKCgoKCgoKCgoKCgICCgoKCgICCgoKCgoKCgoKCgoKCgoKCgoKCgoKCgoKCgoKCgoKCgoKCgIKCgoKCgoKCgoKCgoKCgoKCgoKCgoKCgoKCgoKCgoKCgoKCgoKCgoKCgoKCgoKCgoKCgoKCgoKCgoKCgoKCg==",
          "dtype": "i1"
         },
         "xaxis": "x",
         "y": {
          "bdata": "PkI7O0dFM0IvRj87UEZCQEM8QE1TPDJAPkU/QzU1NU5KQDk6PjI6PkI5PDNAQ0JLQTlWRkU2NTk4RUNLPzo5P0FFQDg6VFVOOk05QTk5Qzo8PjMuMz9AK0U6O0FHP1lTT0NCOEFTRTQ6PD46OjU/OjtFOjw4QUA8PDw+QUA+PDtAOjxIR0lJS0k/RUg5RSY+QTsyRj46RUBDQkNAQztGOT4+OT9LPjk5OzZANTY4OzlCQDJDOkNHTi8rLTo4ODxCNzRLNjIwQA==",
          "dtype": "i1"
         },
         "yaxis": "y"
        },
        {
         "hovertemplate": "brand=apple<br>cluster=%{x}<br>rating=%{y}<extra></extra>",
         "legendgroup": "apple",
         "marker": {
          "color": "#FFA15A",
          "symbol": "circle"
         },
         "mode": "markers",
         "name": "apple",
         "orientation": "v",
         "showlegend": true,
         "type": "scatter",
         "x": {
          "bdata": "AgACAgIDAwICAgICAgIC",
          "dtype": "i1"
         },
         "xaxis": "x",
         "y": {
          "bdata": "LUEwNSs/QDo4OC0tNToz",
          "dtype": "i1"
         },
         "yaxis": "y"
        },
        {
         "hovertemplate": "brand=infinix<br>cluster=%{x}<br>rating=%{y}<extra></extra>",
         "legendgroup": "infinix",
         "marker": {
          "color": "#19d3f3",
          "symbol": "circle"
         },
         "mode": "markers",
         "name": "infinix",
         "orientation": "v",
         "showlegend": true,
         "type": "scatter",
         "x": {
          "bdata": "CgQKCgoKBAoKCgoKCg==",
          "dtype": "i1"
         },
         "xaxis": "x",
         "y": {
          "bdata": "OEc2MjU8Pzg5OTQ5Og==",
          "dtype": "i1"
         },
         "yaxis": "y"
        },
        {
         "hovertemplate": "brand=asus<br>cluster=%{x}<br>rating=%{y}<extra></extra>",
         "legendgroup": "asus",
         "marker": {
          "color": "#FF6692",
          "symbol": "circle"
         },
         "mode": "markers",
         "name": "asus",
         "orientation": "v",
         "showlegend": true,
         "type": "scatter",
         "x": {
          "bdata": "CgoKCgoKCgoGCgoKCgoCCgoKCgoKCgICCgICCgoKCgoKCgIKCgIKCgoKCgoKCgoKBgYKCgoKCgICCgoKCgoKAgoKCgoKCgoKCgoKCgoKCgoKCgoKCgoKCgoKCgoKCgoKCgoKCgoKCgoKCgoKCgoKCgoKCgoKCgIKAgoKCgoKCgIKCgoKAgoKCgoCCgIKBAoKAgoKBAIKCgIKCgoCAgoKAgICCgoKAgoKAgICAgoKCgoKCgoKCgoKAgoCAgoKCgoKAgoKCgIECgoKCgYKAgoKCgoC",
          "dtype": "i1"
         },
         "xaxis": "x",
         "y": {
          "bdata": "RkdMOTlBSE1TS0NATkg+QDk/R0ZGQktISEBYTzxBOEY+R0UjR0FMTUxGQjw7QDpQTU9OQENARkFHO0E8QTJJVSUsQzpBRS0/RiZCMyZJOj5GRytDOzxAP0lASCUpJTklSEFCRjk+OEU/TDs5SEJINkAtOUhLRlJIR0E8S0A8SFNHO0VAQjUtOj9ANkdJWVRLU0lNWUxQQ0lSQkhLQkxCRlRHOC04Tjw7SUlGSztANDA7Pzg+PDk4R0BARj48NTozSj5DO0NZOjs1SFNEREFARDtE",
          "dtype": "i1"
         },
         "yaxis": "y"
        },
        {
         "hovertemplate": "brand=dell<br>cluster=%{x}<br>rating=%{y}<extra></extra>",
         "legendgroup": "dell",
         "marker": {
          "color": "#B6E880",
          "symbol": "circle"
         },
         "mode": "markers",
         "name": "dell",
         "orientation": "v",
         "showlegend": true,
         "type": "scatter",
         "x": {
          "bdata": "CgoKCgoCCgoKBgoKCgoKCgoKBgoKCgoKCgoKCgoKCgoKCgoKCgoECgoCCgIKCgoKCgoCAgIKCAoGCgAJCgoKCgoKCgoKCgoDAwoCAgoCBAoKCgoKCgoKCgYKCgoEAgMDCgoKCgoKCg==",
          "dtype": "i1"
         },
         "xaxis": "x",
         "y": {
          "bdata": "PEJHQkJGPEhKTjs1ST8+RD5DUDU6MUBLOjk1NTk5ODk4OT41OjlOODo/Oj42Ozk8Pzo8VT9BU0FVUFNZPD84NThDOjQ8PEZYUjZIRzhOUjs6OTg0OThMNE9JS0VOU1JTPz87PjtESA==",
          "dtype": "i1"
         },
         "yaxis": "y"
        },
        {
         "hovertemplate": "brand=samsung<br>cluster=%{x}<br>rating=%{y}<extra></extra>",
         "legendgroup": "samsung",
         "marker": {
          "color": "#FF97FF",
          "symbol": "circle"
         },
         "mode": "markers",
         "name": "samsung",
         "orientation": "v",
         "showlegend": true,
         "type": "scatter",
         "x": {
          "bdata": "AQoKCgoB",
          "dtype": "i1"
         },
         "xaxis": "x",
         "y": {
          "bdata": "RDs+ODxE",
          "dtype": "i1"
         },
         "yaxis": "y"
        },
        {
         "hovertemplate": "brand=msi<br>cluster=%{x}<br>rating=%{y}<extra></extra>",
         "legendgroup": "msi",
         "marker": {
          "color": "#FECB52",
          "symbol": "circle"
         },
         "mode": "markers",
         "name": "msi",
         "orientation": "v",
         "showlegend": true,
         "type": "scatter",
         "x": {
          "bdata": "CgoKCgQKCgoKCgoKCgoKCgoCAgUKBAoKCgoKAgoKCgoKAgYKCgoKCgoKCgoKCgoKCgoKCgoKCgkKBAoKCQoECQIKCgoKCgoKCgoKCgoKCgo=",
          "dtype": "i1"
         },
         "xaxis": "x",
         "y": {
          "bdata": "RzpGQUtBPzxBPkFIPklFPk9OUFlGU0dMTE1PTE1FR0ZTSVk/Ok1HQUNOQ0FORU1CTUs/RkFLS1VHVkFGWUFUV1BINTY8OjtISkM7PTo4TEk=",
          "dtype": "i1"
         },
         "yaxis": "y"
        },
        {
         "hovertemplate": "brand=wings<br>cluster=%{x}<br>rating=%{y}<extra></extra>",
         "legendgroup": "wings",
         "marker": {
          "color": "#636efa",
          "symbol": "circle"
         },
         "mode": "markers",
         "name": "wings",
         "orientation": "v",
         "showlegend": true,
         "type": "scatter",
         "x": {
          "bdata": "AQEBAQ==",
          "dtype": "i1"
         },
         "xaxis": "x",
         "y": {
          "bdata": "ODoxMw==",
          "dtype": "i1"
         },
         "yaxis": "y"
        },
        {
         "hovertemplate": "brand=ultimus<br>cluster=%{x}<br>rating=%{y}<extra></extra>",
         "legendgroup": "ultimus",
         "marker": {
          "color": "#EF553B",
          "symbol": "circle"
         },
         "mode": "markers",
         "name": "ultimus",
         "orientation": "v",
         "showlegend": true,
         "type": "scatter",
         "x": {
          "bdata": "CgoKCgoK",
          "dtype": "i1"
         },
         "xaxis": "x",
         "y": {
          "bdata": "Ni4pLS80",
          "dtype": "i1"
         },
         "yaxis": "y"
        },
        {
         "hovertemplate": "brand=1<br>cluster=%{x}<br>rating=%{y}<extra></extra>",
         "legendgroup": "1",
         "marker": {
          "color": "#00cc96",
          "symbol": "circle"
         },
         "mode": "markers",
         "name": "1",
         "orientation": "v",
         "showlegend": true,
         "type": "scatter",
         "x": {
          "bdata": "BwcHBwcHBwcHBwcHBwcHBwcH",
          "dtype": "i1"
         },
         "xaxis": "x",
         "y": {
          "bdata": "AQEBAQEBAQEBAQEBAQEBAQEB",
          "dtype": "i1"
         },
         "yaxis": "y"
        },
        {
         "hovertemplate": "brand=primebook<br>cluster=%{x}<br>rating=%{y}<extra></extra>",
         "legendgroup": "primebook",
         "marker": {
          "color": "#ab63fa",
          "symbol": "circle"
         },
         "mode": "markers",
         "name": "primebook",
         "orientation": "v",
         "showlegend": true,
         "type": "scatter",
         "x": {
          "bdata": "Cgo=",
          "dtype": "i1"
         },
         "xaxis": "x",
         "y": {
          "bdata": "Gh8=",
          "dtype": "i1"
         },
         "yaxis": "y"
        },
        {
         "hovertemplate": "brand=iball<br>cluster=%{x}<br>rating=%{y}<extra></extra>",
         "legendgroup": "iball",
         "marker": {
          "color": "#FFA15A",
          "symbol": "circle"
         },
         "mode": "markers",
         "name": "iball",
         "orientation": "v",
         "showlegend": true,
         "type": "scatter",
         "x": {
          "bdata": "Cg==",
          "dtype": "i1"
         },
         "xaxis": "x",
         "y": {
          "bdata": "KQ==",
          "dtype": "i1"
         },
         "yaxis": "y"
        },
        {
         "hovertemplate": "brand=zebronics<br>cluster=%{x}<br>rating=%{y}<extra></extra>",
         "legendgroup": "zebronics",
         "marker": {
          "color": "#19d3f3",
          "symbol": "circle"
         },
         "mode": "markers",
         "name": "zebronics",
         "orientation": "v",
         "showlegend": true,
         "type": "scatter",
         "x": {
          "bdata": "CgoKCgoKCg==",
          "dtype": "i1"
         },
         "xaxis": "x",
         "y": {
          "bdata": "QT9IOEI8SA==",
          "dtype": "i1"
         },
         "yaxis": "y"
        },
        {
         "hovertemplate": "brand=chuwi<br>cluster=%{x}<br>rating=%{y}<extra></extra>",
         "legendgroup": "chuwi",
         "marker": {
          "color": "#FF6692",
          "symbol": "circle"
         },
         "mode": "markers",
         "name": "chuwi",
         "orientation": "v",
         "showlegend": true,
         "type": "scatter",
         "x": {
          "bdata": "CgoKCg==",
          "dtype": "i1"
         },
         "xaxis": "x",
         "y": {
          "bdata": "MjIyNg==",
          "dtype": "i1"
         },
         "yaxis": "y"
        },
        {
         "hovertemplate": "brand=gigabyte<br>cluster=%{x}<br>rating=%{y}<extra></extra>",
         "legendgroup": "gigabyte",
         "marker": {
          "color": "#B6E880",
          "symbol": "circle"
         },
         "mode": "markers",
         "name": "gigabyte",
         "orientation": "v",
         "showlegend": true,
         "type": "scatter",
         "x": {
          "bdata": "Cgo=",
          "dtype": "i1"
         },
         "xaxis": "x",
         "y": {
          "bdata": "Q0k=",
          "dtype": "i1"
         },
         "yaxis": "y"
        },
        {
         "hovertemplate": "brand=jio<br>cluster=%{x}<br>rating=%{y}<extra></extra>",
         "legendgroup": "jio",
         "marker": {
          "color": "#FF97FF",
          "symbol": "circle"
         },
         "mode": "markers",
         "name": "jio",
         "orientation": "v",
         "showlegend": true,
         "type": "scatter",
         "x": {
          "bdata": "Cg==",
          "dtype": "i1"
         },
         "xaxis": "x",
         "y": {
          "bdata": "GA==",
          "dtype": "i1"
         },
         "yaxis": "y"
        },
        {
         "hovertemplate": "brand=honor<br>cluster=%{x}<br>rating=%{y}<extra></extra>",
         "legendgroup": "honor",
         "marker": {
          "color": "#FECB52",
          "symbol": "circle"
         },
         "mode": "markers",
         "name": "honor",
         "orientation": "v",
         "showlegend": true,
         "type": "scatter",
         "x": {
          "bdata": "Cgo=",
          "dtype": "i1"
         },
         "xaxis": "x",
         "y": {
          "bdata": "Qjs=",
          "dtype": "i1"
         },
         "yaxis": "y"
        },
        {
         "hovertemplate": "brand=realme<br>cluster=%{x}<br>rating=%{y}<extra></extra>",
         "legendgroup": "realme",
         "marker": {
          "color": "#636efa",
          "symbol": "circle"
         },
         "mode": "markers",
         "name": "realme",
         "orientation": "v",
         "showlegend": true,
         "type": "scatter",
         "x": {
          "bdata": "AQo=",
          "dtype": "i1"
         },
         "xaxis": "x",
         "y": {
          "bdata": "ND4=",
          "dtype": "i1"
         },
         "yaxis": "y"
        },
        {
         "hovertemplate": "brand=avita<br>cluster=%{x}<br>rating=%{y}<extra></extra>",
         "legendgroup": "avita",
         "marker": {
          "color": "#EF553B",
          "symbol": "circle"
         },
         "mode": "markers",
         "name": "avita",
         "orientation": "v",
         "showlegend": true,
         "type": "scatter",
         "x": {
          "bdata": "CgoKCgo=",
          "dtype": "i1"
         },
         "xaxis": "x",
         "y": {
          "bdata": "ODIzKSs=",
          "dtype": "i1"
         },
         "yaxis": "y"
        },
        {
         "hovertemplate": "brand=microsoft<br>cluster=%{x}<br>rating=%{y}<extra></extra>",
         "legendgroup": "microsoft",
         "marker": {
          "color": "#00cc96",
          "symbol": "circle"
         },
         "mode": "markers",
         "name": "microsoft",
         "orientation": "v",
         "showlegend": true,
         "type": "scatter",
         "x": {
          "bdata": "Cgo=",
          "dtype": "i1"
         },
         "xaxis": "x",
         "y": {
          "bdata": "Ojw=",
          "dtype": "i1"
         },
         "yaxis": "y"
        },
        {
         "hovertemplate": "brand=fujitsu<br>cluster=%{x}<br>rating=%{y}<extra></extra>",
         "legendgroup": "fujitsu",
         "marker": {
          "color": "#ab63fa",
          "symbol": "circle"
         },
         "mode": "markers",
         "name": "fujitsu",
         "orientation": "v",
         "showlegend": true,
         "type": "scatter",
         "x": {
          "bdata": "CgoKCgo=",
          "dtype": "i1"
         },
         "xaxis": "x",
         "y": {
          "bdata": "Q0FMSUY=",
          "dtype": "i1"
         },
         "yaxis": "y"
        },
        {
         "hovertemplate": "brand=lg<br>cluster=%{x}<br>rating=%{y}<extra></extra>",
         "legendgroup": "lg",
         "marker": {
          "color": "#FFA15A",
          "symbol": "circle"
         },
         "mode": "markers",
         "name": "lg",
         "orientation": "v",
         "showlegend": true,
         "type": "scatter",
         "x": {
          "bdata": "AQoBAQoCAg==",
          "dtype": "i1"
         },
         "xaxis": "x",
         "y": {
          "bdata": "Q0hORUtISA==",
          "dtype": "i1"
         },
         "yaxis": "y"
        },
        {
         "hovertemplate": "brand=walker<br>cluster=%{x}<br>rating=%{y}<extra></extra>",
         "legendgroup": "walker",
         "marker": {
          "color": "#19d3f3",
          "symbol": "circle"
         },
         "mode": "markers",
         "name": "walker",
         "orientation": "v",
         "showlegend": true,
         "type": "scatter",
         "x": {
          "bdata": "Cg==",
          "dtype": "i1"
         },
         "xaxis": "x",
         "y": {
          "bdata": "JQ==",
          "dtype": "i1"
         },
         "yaxis": "y"
        },
        {
         "hovertemplate": "brand=axl<br>cluster=%{x}<br>rating=%{y}<extra></extra>",
         "legendgroup": "axl",
         "marker": {
          "color": "#FF6692",
          "symbol": "circle"
         },
         "mode": "markers",
         "name": "axl",
         "orientation": "v",
         "showlegend": true,
         "type": "scatter",
         "x": {
          "bdata": "Cgo=",
          "dtype": "i1"
         },
         "xaxis": "x",
         "y": {
          "bdata": "JiU=",
          "dtype": "i1"
         },
         "yaxis": "y"
        }
       ],
       "layout": {
        "legend": {
         "title": {
          "text": "brand"
         },
         "tracegroupgap": 0
        },
        "margin": {
         "t": 60
        },
        "template": {
         "data": {
          "bar": [
           {
            "error_x": {
             "color": "#2a3f5f"
            },
            "error_y": {
             "color": "#2a3f5f"
            },
            "marker": {
             "line": {
              "color": "#E5ECF6",
              "width": 0.5
             },
             "pattern": {
              "fillmode": "overlay",
              "size": 10,
              "solidity": 0.2
             }
            },
            "type": "bar"
           }
          ],
          "barpolar": [
           {
            "marker": {
             "line": {
              "color": "#E5ECF6",
              "width": 0.5
             },
             "pattern": {
              "fillmode": "overlay",
              "size": 10,
              "solidity": 0.2
             }
            },
            "type": "barpolar"
           }
          ],
          "carpet": [
           {
            "aaxis": {
             "endlinecolor": "#2a3f5f",
             "gridcolor": "white",
             "linecolor": "white",
             "minorgridcolor": "white",
             "startlinecolor": "#2a3f5f"
            },
            "baxis": {
             "endlinecolor": "#2a3f5f",
             "gridcolor": "white",
             "linecolor": "white",
             "minorgridcolor": "white",
             "startlinecolor": "#2a3f5f"
            },
            "type": "carpet"
           }
          ],
          "choropleth": [
           {
            "colorbar": {
             "outlinewidth": 0,
             "ticks": ""
            },
            "type": "choropleth"
           }
          ],
          "contour": [
           {
            "colorbar": {
             "outlinewidth": 0,
             "ticks": ""
            },
            "colorscale": [
             [
              0,
              "#0d0887"
             ],
             [
              0.1111111111111111,
              "#46039f"
             ],
             [
              0.2222222222222222,
              "#7201a8"
             ],
             [
              0.3333333333333333,
              "#9c179e"
             ],
             [
              0.4444444444444444,
              "#bd3786"
             ],
             [
              0.5555555555555556,
              "#d8576b"
             ],
             [
              0.6666666666666666,
              "#ed7953"
             ],
             [
              0.7777777777777778,
              "#fb9f3a"
             ],
             [
              0.8888888888888888,
              "#fdca26"
             ],
             [
              1,
              "#f0f921"
             ]
            ],
            "type": "contour"
           }
          ],
          "contourcarpet": [
           {
            "colorbar": {
             "outlinewidth": 0,
             "ticks": ""
            },
            "type": "contourcarpet"
           }
          ],
          "heatmap": [
           {
            "colorbar": {
             "outlinewidth": 0,
             "ticks": ""
            },
            "colorscale": [
             [
              0,
              "#0d0887"
             ],
             [
              0.1111111111111111,
              "#46039f"
             ],
             [
              0.2222222222222222,
              "#7201a8"
             ],
             [
              0.3333333333333333,
              "#9c179e"
             ],
             [
              0.4444444444444444,
              "#bd3786"
             ],
             [
              0.5555555555555556,
              "#d8576b"
             ],
             [
              0.6666666666666666,
              "#ed7953"
             ],
             [
              0.7777777777777778,
              "#fb9f3a"
             ],
             [
              0.8888888888888888,
              "#fdca26"
             ],
             [
              1,
              "#f0f921"
             ]
            ],
            "type": "heatmap"
           }
          ],
          "histogram": [
           {
            "marker": {
             "pattern": {
              "fillmode": "overlay",
              "size": 10,
              "solidity": 0.2
             }
            },
            "type": "histogram"
           }
          ],
          "histogram2d": [
           {
            "colorbar": {
             "outlinewidth": 0,
             "ticks": ""
            },
            "colorscale": [
             [
              0,
              "#0d0887"
             ],
             [
              0.1111111111111111,
              "#46039f"
             ],
             [
              0.2222222222222222,
              "#7201a8"
             ],
             [
              0.3333333333333333,
              "#9c179e"
             ],
             [
              0.4444444444444444,
              "#bd3786"
             ],
             [
              0.5555555555555556,
              "#d8576b"
             ],
             [
              0.6666666666666666,
              "#ed7953"
             ],
             [
              0.7777777777777778,
              "#fb9f3a"
             ],
             [
              0.8888888888888888,
              "#fdca26"
             ],
             [
              1,
              "#f0f921"
             ]
            ],
            "type": "histogram2d"
           }
          ],
          "histogram2dcontour": [
           {
            "colorbar": {
             "outlinewidth": 0,
             "ticks": ""
            },
            "colorscale": [
             [
              0,
              "#0d0887"
             ],
             [
              0.1111111111111111,
              "#46039f"
             ],
             [
              0.2222222222222222,
              "#7201a8"
             ],
             [
              0.3333333333333333,
              "#9c179e"
             ],
             [
              0.4444444444444444,
              "#bd3786"
             ],
             [
              0.5555555555555556,
              "#d8576b"
             ],
             [
              0.6666666666666666,
              "#ed7953"
             ],
             [
              0.7777777777777778,
              "#fb9f3a"
             ],
             [
              0.8888888888888888,
              "#fdca26"
             ],
             [
              1,
              "#f0f921"
             ]
            ],
            "type": "histogram2dcontour"
           }
          ],
          "mesh3d": [
           {
            "colorbar": {
             "outlinewidth": 0,
             "ticks": ""
            },
            "type": "mesh3d"
           }
          ],
          "parcoords": [
           {
            "line": {
             "colorbar": {
              "outlinewidth": 0,
              "ticks": ""
             }
            },
            "type": "parcoords"
           }
          ],
          "pie": [
           {
            "automargin": true,
            "type": "pie"
           }
          ],
          "scatter": [
           {
            "fillpattern": {
             "fillmode": "overlay",
             "size": 10,
             "solidity": 0.2
            },
            "type": "scatter"
           }
          ],
          "scatter3d": [
           {
            "line": {
             "colorbar": {
              "outlinewidth": 0,
              "ticks": ""
             }
            },
            "marker": {
             "colorbar": {
              "outlinewidth": 0,
              "ticks": ""
             }
            },
            "type": "scatter3d"
           }
          ],
          "scattercarpet": [
           {
            "marker": {
             "colorbar": {
              "outlinewidth": 0,
              "ticks": ""
             }
            },
            "type": "scattercarpet"
           }
          ],
          "scattergeo": [
           {
            "marker": {
             "colorbar": {
              "outlinewidth": 0,
              "ticks": ""
             }
            },
            "type": "scattergeo"
           }
          ],
          "scattergl": [
           {
            "marker": {
             "colorbar": {
              "outlinewidth": 0,
              "ticks": ""
             }
            },
            "type": "scattergl"
           }
          ],
          "scattermap": [
           {
            "marker": {
             "colorbar": {
              "outlinewidth": 0,
              "ticks": ""
             }
            },
            "type": "scattermap"
           }
          ],
          "scattermapbox": [
           {
            "marker": {
             "colorbar": {
              "outlinewidth": 0,
              "ticks": ""
             }
            },
            "type": "scattermapbox"
           }
          ],
          "scatterpolar": [
           {
            "marker": {
             "colorbar": {
              "outlinewidth": 0,
              "ticks": ""
             }
            },
            "type": "scatterpolar"
           }
          ],
          "scatterpolargl": [
           {
            "marker": {
             "colorbar": {
              "outlinewidth": 0,
              "ticks": ""
             }
            },
            "type": "scatterpolargl"
           }
          ],
          "scatterternary": [
           {
            "marker": {
             "colorbar": {
              "outlinewidth": 0,
              "ticks": ""
             }
            },
            "type": "scatterternary"
           }
          ],
          "surface": [
           {
            "colorbar": {
             "outlinewidth": 0,
             "ticks": ""
            },
            "colorscale": [
             [
              0,
              "#0d0887"
             ],
             [
              0.1111111111111111,
              "#46039f"
             ],
             [
              0.2222222222222222,
              "#7201a8"
             ],
             [
              0.3333333333333333,
              "#9c179e"
             ],
             [
              0.4444444444444444,
              "#bd3786"
             ],
             [
              0.5555555555555556,
              "#d8576b"
             ],
             [
              0.6666666666666666,
              "#ed7953"
             ],
             [
              0.7777777777777778,
              "#fb9f3a"
             ],
             [
              0.8888888888888888,
              "#fdca26"
             ],
             [
              1,
              "#f0f921"
             ]
            ],
            "type": "surface"
           }
          ],
          "table": [
           {
            "cells": {
             "fill": {
              "color": "#EBF0F8"
             },
             "line": {
              "color": "white"
             }
            },
            "header": {
             "fill": {
              "color": "#C8D4E3"
             },
             "line": {
              "color": "white"
             }
            },
            "type": "table"
           }
          ]
         },
         "layout": {
          "annotationdefaults": {
           "arrowcolor": "#2a3f5f",
           "arrowhead": 0,
           "arrowwidth": 1
          },
          "autotypenumbers": "strict",
          "coloraxis": {
           "colorbar": {
            "outlinewidth": 0,
            "ticks": ""
           }
          },
          "colorscale": {
           "diverging": [
            [
             0,
             "#8e0152"
            ],
            [
             0.1,
             "#c51b7d"
            ],
            [
             0.2,
             "#de77ae"
            ],
            [
             0.3,
             "#f1b6da"
            ],
            [
             0.4,
             "#fde0ef"
            ],
            [
             0.5,
             "#f7f7f7"
            ],
            [
             0.6,
             "#e6f5d0"
            ],
            [
             0.7,
             "#b8e186"
            ],
            [
             0.8,
             "#7fbc41"
            ],
            [
             0.9,
             "#4d9221"
            ],
            [
             1,
             "#276419"
            ]
           ],
           "sequential": [
            [
             0,
             "#0d0887"
            ],
            [
             0.1111111111111111,
             "#46039f"
            ],
            [
             0.2222222222222222,
             "#7201a8"
            ],
            [
             0.3333333333333333,
             "#9c179e"
            ],
            [
             0.4444444444444444,
             "#bd3786"
            ],
            [
             0.5555555555555556,
             "#d8576b"
            ],
            [
             0.6666666666666666,
             "#ed7953"
            ],
            [
             0.7777777777777778,
             "#fb9f3a"
            ],
            [
             0.8888888888888888,
             "#fdca26"
            ],
            [
             1,
             "#f0f921"
            ]
           ],
           "sequentialminus": [
            [
             0,
             "#0d0887"
            ],
            [
             0.1111111111111111,
             "#46039f"
            ],
            [
             0.2222222222222222,
             "#7201a8"
            ],
            [
             0.3333333333333333,
             "#9c179e"
            ],
            [
             0.4444444444444444,
             "#bd3786"
            ],
            [
             0.5555555555555556,
             "#d8576b"
            ],
            [
             0.6666666666666666,
             "#ed7953"
            ],
            [
             0.7777777777777778,
             "#fb9f3a"
            ],
            [
             0.8888888888888888,
             "#fdca26"
            ],
            [
             1,
             "#f0f921"
            ]
           ]
          },
          "colorway": [
           "#636efa",
           "#EF553B",
           "#00cc96",
           "#ab63fa",
           "#FFA15A",
           "#19d3f3",
           "#FF6692",
           "#B6E880",
           "#FF97FF",
           "#FECB52"
          ],
          "font": {
           "color": "#2a3f5f"
          },
          "geo": {
           "bgcolor": "white",
           "lakecolor": "white",
           "landcolor": "#E5ECF6",
           "showlakes": true,
           "showland": true,
           "subunitcolor": "white"
          },
          "hoverlabel": {
           "align": "left"
          },
          "hovermode": "closest",
          "mapbox": {
           "style": "light"
          },
          "paper_bgcolor": "white",
          "plot_bgcolor": "#E5ECF6",
          "polar": {
           "angularaxis": {
            "gridcolor": "white",
            "linecolor": "white",
            "ticks": ""
           },
           "bgcolor": "#E5ECF6",
           "radialaxis": {
            "gridcolor": "white",
            "linecolor": "white",
            "ticks": ""
           }
          },
          "scene": {
           "xaxis": {
            "backgroundcolor": "#E5ECF6",
            "gridcolor": "white",
            "gridwidth": 2,
            "linecolor": "white",
            "showbackground": true,
            "ticks": "",
            "zerolinecolor": "white"
           },
           "yaxis": {
            "backgroundcolor": "#E5ECF6",
            "gridcolor": "white",
            "gridwidth": 2,
            "linecolor": "white",
            "showbackground": true,
            "ticks": "",
            "zerolinecolor": "white"
           },
           "zaxis": {
            "backgroundcolor": "#E5ECF6",
            "gridcolor": "white",
            "gridwidth": 2,
            "linecolor": "white",
            "showbackground": true,
            "ticks": "",
            "zerolinecolor": "white"
           }
          },
          "shapedefaults": {
           "line": {
            "color": "#2a3f5f"
           }
          },
          "ternary": {
           "aaxis": {
            "gridcolor": "white",
            "linecolor": "white",
            "ticks": ""
           },
           "baxis": {
            "gridcolor": "white",
            "linecolor": "white",
            "ticks": ""
           },
           "bgcolor": "#E5ECF6",
           "caxis": {
            "gridcolor": "white",
            "linecolor": "white",
            "ticks": ""
           }
          },
          "title": {
           "x": 0.05
          },
          "xaxis": {
           "automargin": true,
           "gridcolor": "white",
           "linecolor": "white",
           "ticks": "",
           "title": {
            "standoff": 15
           },
           "zerolinecolor": "white",
           "zerolinewidth": 2
          },
          "yaxis": {
           "automargin": true,
           "gridcolor": "white",
           "linecolor": "white",
           "ticks": "",
           "title": {
            "standoff": 15
           },
           "zerolinecolor": "white",
           "zerolinewidth": 2
          }
         }
        },
        "xaxis": {
         "anchor": "y",
         "domain": [
          0,
          1
         ],
         "title": {
          "text": "cluster"
         }
        },
        "yaxis": {
         "anchor": "x",
         "domain": [
          0,
          1
         ],
         "title": {
          "text": "rating"
         }
        }
       }
      }
     },
     "metadata": {},
     "output_type": "display_data"
    }
   ],
   "source": [
    "#cruzamento entre brand e price apresentando os clusters\n",
    "px.scatter(df_laptops, x='cluster', y='rating', color='brand')"
   ]
  },
  {
   "cell_type": "code",
   "execution_count": 43,
   "id": "9a4ea2a9",
   "metadata": {},
   "outputs": [
    {
     "data": {
      "application/vnd.plotly.v1+json": {
       "config": {
        "plotlyServerURL": "https://plot.ly"
       },
       "data": [
        {
         "hovertemplate": "cluster=%{marker.color}<br>value=%{y}<extra></extra>",
         "legendgroup": "",
         "marker": {
          "color": {
           "bdata": "CgIGBwQBAwkABQg=",
           "dtype": "i1"
          },
          "coloraxis": "coloraxis",
          "pattern": {
           "shape": ""
          }
         },
         "name": "",
         "orientation": "v",
         "showlegend": false,
         "textposition": "auto",
         "type": "bar",
         "x": {
          "bdata": "CgIGBwQBAwkABQg=",
          "dtype": "i1"
         },
         "xaxis": "x",
         "y": {
          "bdata": "KgNkABMAEgARAAsABgAGAAIAAQABAA==",
          "dtype": "i2"
         },
         "yaxis": "y"
        }
       ],
       "layout": {
        "barmode": "relative",
        "coloraxis": {
         "colorbar": {
          "title": {
           "text": "cluster"
          }
         },
         "colorscale": [
          [
           0,
           "#0d0887"
          ],
          [
           0.1111111111111111,
           "#46039f"
          ],
          [
           0.2222222222222222,
           "#7201a8"
          ],
          [
           0.3333333333333333,
           "#9c179e"
          ],
          [
           0.4444444444444444,
           "#bd3786"
          ],
          [
           0.5555555555555556,
           "#d8576b"
          ],
          [
           0.6666666666666666,
           "#ed7953"
          ],
          [
           0.7777777777777778,
           "#fb9f3a"
          ],
          [
           0.8888888888888888,
           "#fdca26"
          ],
          [
           1,
           "#f0f921"
          ]
         ]
        },
        "legend": {
         "tracegroupgap": 0
        },
        "margin": {
         "t": 60
        },
        "template": {
         "data": {
          "bar": [
           {
            "error_x": {
             "color": "#2a3f5f"
            },
            "error_y": {
             "color": "#2a3f5f"
            },
            "marker": {
             "line": {
              "color": "#E5ECF6",
              "width": 0.5
             },
             "pattern": {
              "fillmode": "overlay",
              "size": 10,
              "solidity": 0.2
             }
            },
            "type": "bar"
           }
          ],
          "barpolar": [
           {
            "marker": {
             "line": {
              "color": "#E5ECF6",
              "width": 0.5
             },
             "pattern": {
              "fillmode": "overlay",
              "size": 10,
              "solidity": 0.2
             }
            },
            "type": "barpolar"
           }
          ],
          "carpet": [
           {
            "aaxis": {
             "endlinecolor": "#2a3f5f",
             "gridcolor": "white",
             "linecolor": "white",
             "minorgridcolor": "white",
             "startlinecolor": "#2a3f5f"
            },
            "baxis": {
             "endlinecolor": "#2a3f5f",
             "gridcolor": "white",
             "linecolor": "white",
             "minorgridcolor": "white",
             "startlinecolor": "#2a3f5f"
            },
            "type": "carpet"
           }
          ],
          "choropleth": [
           {
            "colorbar": {
             "outlinewidth": 0,
             "ticks": ""
            },
            "type": "choropleth"
           }
          ],
          "contour": [
           {
            "colorbar": {
             "outlinewidth": 0,
             "ticks": ""
            },
            "colorscale": [
             [
              0,
              "#0d0887"
             ],
             [
              0.1111111111111111,
              "#46039f"
             ],
             [
              0.2222222222222222,
              "#7201a8"
             ],
             [
              0.3333333333333333,
              "#9c179e"
             ],
             [
              0.4444444444444444,
              "#bd3786"
             ],
             [
              0.5555555555555556,
              "#d8576b"
             ],
             [
              0.6666666666666666,
              "#ed7953"
             ],
             [
              0.7777777777777778,
              "#fb9f3a"
             ],
             [
              0.8888888888888888,
              "#fdca26"
             ],
             [
              1,
              "#f0f921"
             ]
            ],
            "type": "contour"
           }
          ],
          "contourcarpet": [
           {
            "colorbar": {
             "outlinewidth": 0,
             "ticks": ""
            },
            "type": "contourcarpet"
           }
          ],
          "heatmap": [
           {
            "colorbar": {
             "outlinewidth": 0,
             "ticks": ""
            },
            "colorscale": [
             [
              0,
              "#0d0887"
             ],
             [
              0.1111111111111111,
              "#46039f"
             ],
             [
              0.2222222222222222,
              "#7201a8"
             ],
             [
              0.3333333333333333,
              "#9c179e"
             ],
             [
              0.4444444444444444,
              "#bd3786"
             ],
             [
              0.5555555555555556,
              "#d8576b"
             ],
             [
              0.6666666666666666,
              "#ed7953"
             ],
             [
              0.7777777777777778,
              "#fb9f3a"
             ],
             [
              0.8888888888888888,
              "#fdca26"
             ],
             [
              1,
              "#f0f921"
             ]
            ],
            "type": "heatmap"
           }
          ],
          "histogram": [
           {
            "marker": {
             "pattern": {
              "fillmode": "overlay",
              "size": 10,
              "solidity": 0.2
             }
            },
            "type": "histogram"
           }
          ],
          "histogram2d": [
           {
            "colorbar": {
             "outlinewidth": 0,
             "ticks": ""
            },
            "colorscale": [
             [
              0,
              "#0d0887"
             ],
             [
              0.1111111111111111,
              "#46039f"
             ],
             [
              0.2222222222222222,
              "#7201a8"
             ],
             [
              0.3333333333333333,
              "#9c179e"
             ],
             [
              0.4444444444444444,
              "#bd3786"
             ],
             [
              0.5555555555555556,
              "#d8576b"
             ],
             [
              0.6666666666666666,
              "#ed7953"
             ],
             [
              0.7777777777777778,
              "#fb9f3a"
             ],
             [
              0.8888888888888888,
              "#fdca26"
             ],
             [
              1,
              "#f0f921"
             ]
            ],
            "type": "histogram2d"
           }
          ],
          "histogram2dcontour": [
           {
            "colorbar": {
             "outlinewidth": 0,
             "ticks": ""
            },
            "colorscale": [
             [
              0,
              "#0d0887"
             ],
             [
              0.1111111111111111,
              "#46039f"
             ],
             [
              0.2222222222222222,
              "#7201a8"
             ],
             [
              0.3333333333333333,
              "#9c179e"
             ],
             [
              0.4444444444444444,
              "#bd3786"
             ],
             [
              0.5555555555555556,
              "#d8576b"
             ],
             [
              0.6666666666666666,
              "#ed7953"
             ],
             [
              0.7777777777777778,
              "#fb9f3a"
             ],
             [
              0.8888888888888888,
              "#fdca26"
             ],
             [
              1,
              "#f0f921"
             ]
            ],
            "type": "histogram2dcontour"
           }
          ],
          "mesh3d": [
           {
            "colorbar": {
             "outlinewidth": 0,
             "ticks": ""
            },
            "type": "mesh3d"
           }
          ],
          "parcoords": [
           {
            "line": {
             "colorbar": {
              "outlinewidth": 0,
              "ticks": ""
             }
            },
            "type": "parcoords"
           }
          ],
          "pie": [
           {
            "automargin": true,
            "type": "pie"
           }
          ],
          "scatter": [
           {
            "fillpattern": {
             "fillmode": "overlay",
             "size": 10,
             "solidity": 0.2
            },
            "type": "scatter"
           }
          ],
          "scatter3d": [
           {
            "line": {
             "colorbar": {
              "outlinewidth": 0,
              "ticks": ""
             }
            },
            "marker": {
             "colorbar": {
              "outlinewidth": 0,
              "ticks": ""
             }
            },
            "type": "scatter3d"
           }
          ],
          "scattercarpet": [
           {
            "marker": {
             "colorbar": {
              "outlinewidth": 0,
              "ticks": ""
             }
            },
            "type": "scattercarpet"
           }
          ],
          "scattergeo": [
           {
            "marker": {
             "colorbar": {
              "outlinewidth": 0,
              "ticks": ""
             }
            },
            "type": "scattergeo"
           }
          ],
          "scattergl": [
           {
            "marker": {
             "colorbar": {
              "outlinewidth": 0,
              "ticks": ""
             }
            },
            "type": "scattergl"
           }
          ],
          "scattermap": [
           {
            "marker": {
             "colorbar": {
              "outlinewidth": 0,
              "ticks": ""
             }
            },
            "type": "scattermap"
           }
          ],
          "scattermapbox": [
           {
            "marker": {
             "colorbar": {
              "outlinewidth": 0,
              "ticks": ""
             }
            },
            "type": "scattermapbox"
           }
          ],
          "scatterpolar": [
           {
            "marker": {
             "colorbar": {
              "outlinewidth": 0,
              "ticks": ""
             }
            },
            "type": "scatterpolar"
           }
          ],
          "scatterpolargl": [
           {
            "marker": {
             "colorbar": {
              "outlinewidth": 0,
              "ticks": ""
             }
            },
            "type": "scatterpolargl"
           }
          ],
          "scatterternary": [
           {
            "marker": {
             "colorbar": {
              "outlinewidth": 0,
              "ticks": ""
             }
            },
            "type": "scatterternary"
           }
          ],
          "surface": [
           {
            "colorbar": {
             "outlinewidth": 0,
             "ticks": ""
            },
            "colorscale": [
             [
              0,
              "#0d0887"
             ],
             [
              0.1111111111111111,
              "#46039f"
             ],
             [
              0.2222222222222222,
              "#7201a8"
             ],
             [
              0.3333333333333333,
              "#9c179e"
             ],
             [
              0.4444444444444444,
              "#bd3786"
             ],
             [
              0.5555555555555556,
              "#d8576b"
             ],
             [
              0.6666666666666666,
              "#ed7953"
             ],
             [
              0.7777777777777778,
              "#fb9f3a"
             ],
             [
              0.8888888888888888,
              "#fdca26"
             ],
             [
              1,
              "#f0f921"
             ]
            ],
            "type": "surface"
           }
          ],
          "table": [
           {
            "cells": {
             "fill": {
              "color": "#EBF0F8"
             },
             "line": {
              "color": "white"
             }
            },
            "header": {
             "fill": {
              "color": "#C8D4E3"
             },
             "line": {
              "color": "white"
             }
            },
            "type": "table"
           }
          ]
         },
         "layout": {
          "annotationdefaults": {
           "arrowcolor": "#2a3f5f",
           "arrowhead": 0,
           "arrowwidth": 1
          },
          "autotypenumbers": "strict",
          "coloraxis": {
           "colorbar": {
            "outlinewidth": 0,
            "ticks": ""
           }
          },
          "colorscale": {
           "diverging": [
            [
             0,
             "#8e0152"
            ],
            [
             0.1,
             "#c51b7d"
            ],
            [
             0.2,
             "#de77ae"
            ],
            [
             0.3,
             "#f1b6da"
            ],
            [
             0.4,
             "#fde0ef"
            ],
            [
             0.5,
             "#f7f7f7"
            ],
            [
             0.6,
             "#e6f5d0"
            ],
            [
             0.7,
             "#b8e186"
            ],
            [
             0.8,
             "#7fbc41"
            ],
            [
             0.9,
             "#4d9221"
            ],
            [
             1,
             "#276419"
            ]
           ],
           "sequential": [
            [
             0,
             "#0d0887"
            ],
            [
             0.1111111111111111,
             "#46039f"
            ],
            [
             0.2222222222222222,
             "#7201a8"
            ],
            [
             0.3333333333333333,
             "#9c179e"
            ],
            [
             0.4444444444444444,
             "#bd3786"
            ],
            [
             0.5555555555555556,
             "#d8576b"
            ],
            [
             0.6666666666666666,
             "#ed7953"
            ],
            [
             0.7777777777777778,
             "#fb9f3a"
            ],
            [
             0.8888888888888888,
             "#fdca26"
            ],
            [
             1,
             "#f0f921"
            ]
           ],
           "sequentialminus": [
            [
             0,
             "#0d0887"
            ],
            [
             0.1111111111111111,
             "#46039f"
            ],
            [
             0.2222222222222222,
             "#7201a8"
            ],
            [
             0.3333333333333333,
             "#9c179e"
            ],
            [
             0.4444444444444444,
             "#bd3786"
            ],
            [
             0.5555555555555556,
             "#d8576b"
            ],
            [
             0.6666666666666666,
             "#ed7953"
            ],
            [
             0.7777777777777778,
             "#fb9f3a"
            ],
            [
             0.8888888888888888,
             "#fdca26"
            ],
            [
             1,
             "#f0f921"
            ]
           ]
          },
          "colorway": [
           "#636efa",
           "#EF553B",
           "#00cc96",
           "#ab63fa",
           "#FFA15A",
           "#19d3f3",
           "#FF6692",
           "#B6E880",
           "#FF97FF",
           "#FECB52"
          ],
          "font": {
           "color": "#2a3f5f"
          },
          "geo": {
           "bgcolor": "white",
           "lakecolor": "white",
           "landcolor": "#E5ECF6",
           "showlakes": true,
           "showland": true,
           "subunitcolor": "white"
          },
          "hoverlabel": {
           "align": "left"
          },
          "hovermode": "closest",
          "mapbox": {
           "style": "light"
          },
          "paper_bgcolor": "white",
          "plot_bgcolor": "#E5ECF6",
          "polar": {
           "angularaxis": {
            "gridcolor": "white",
            "linecolor": "white",
            "ticks": ""
           },
           "bgcolor": "#E5ECF6",
           "radialaxis": {
            "gridcolor": "white",
            "linecolor": "white",
            "ticks": ""
           }
          },
          "scene": {
           "xaxis": {
            "backgroundcolor": "#E5ECF6",
            "gridcolor": "white",
            "gridwidth": 2,
            "linecolor": "white",
            "showbackground": true,
            "ticks": "",
            "zerolinecolor": "white"
           },
           "yaxis": {
            "backgroundcolor": "#E5ECF6",
            "gridcolor": "white",
            "gridwidth": 2,
            "linecolor": "white",
            "showbackground": true,
            "ticks": "",
            "zerolinecolor": "white"
           },
           "zaxis": {
            "backgroundcolor": "#E5ECF6",
            "gridcolor": "white",
            "gridwidth": 2,
            "linecolor": "white",
            "showbackground": true,
            "ticks": "",
            "zerolinecolor": "white"
           }
          },
          "shapedefaults": {
           "line": {
            "color": "#2a3f5f"
           }
          },
          "ternary": {
           "aaxis": {
            "gridcolor": "white",
            "linecolor": "white",
            "ticks": ""
           },
           "baxis": {
            "gridcolor": "white",
            "linecolor": "white",
            "ticks": ""
           },
           "bgcolor": "#E5ECF6",
           "caxis": {
            "gridcolor": "white",
            "linecolor": "white",
            "ticks": ""
           }
          },
          "title": {
           "x": 0.05
          },
          "xaxis": {
           "automargin": true,
           "gridcolor": "white",
           "linecolor": "white",
           "ticks": "",
           "title": {
            "standoff": 15
           },
           "zerolinecolor": "white",
           "zerolinewidth": 2
          },
          "yaxis": {
           "automargin": true,
           "gridcolor": "white",
           "linecolor": "white",
           "ticks": "",
           "title": {
            "standoff": 15
           },
           "zerolinecolor": "white",
           "zerolinewidth": 2
          }
         }
        },
        "xaxis": {
         "anchor": "y",
         "domain": [
          0,
          1
         ],
         "title": {
          "text": "cluster"
         }
        },
        "yaxis": {
         "anchor": "x",
         "domain": [
          0,
          1
         ],
         "title": {
          "text": "value"
         }
        }
       }
      }
     },
     "metadata": {},
     "output_type": "display_data"
    }
   ],
   "source": [
    "#distribuição da variavel cluster\n",
    "qtde_cluster = df_laptops.value_counts('cluster')\n",
    "px.bar(qtde_cluster, color=qtde_cluster.index)"
   ]
  },
  {
   "cell_type": "markdown",
   "id": "975b48b8",
   "metadata": {},
   "source": [
    "### Salvar modelo"
   ]
  },
  {
   "cell_type": "code",
   "execution_count": 44,
   "id": "d920512c",
   "metadata": {},
   "outputs": [],
   "source": [
    "import joblib"
   ]
  },
  {
   "cell_type": "code",
   "execution_count": 45,
   "id": "9cfb2379",
   "metadata": {},
   "outputs": [
    {
     "data": {
      "text/plain": [
       "['./preprocessor.pkl']"
      ]
     },
     "execution_count": 45,
     "metadata": {},
     "output_type": "execute_result"
    }
   ],
   "source": [
    "joblib.dump(best_model, './modelo_laptops.pkl')\n",
    "\n",
    "joblib.dump(preprocessor, './preprocessor.pkl')"
   ]
  },
  {
   "cell_type": "code",
   "execution_count": 46,
   "id": "8aa9aa4d",
   "metadata": {},
   "outputs": [],
   "source": [
    "# salvar csv atualizado com dado de cluster\n",
    "df_laptops.to_csv('./datasets/clusterizacao_lapstops.csv', index=False)"
   ]
  }
 ],
 "metadata": {
  "kernelspec": {
   "display_name": "Geral-iNcLO_qr",
   "language": "python",
   "name": "python3"
  },
  "language_info": {
   "codemirror_mode": {
    "name": "ipython",
    "version": 3
   },
   "file_extension": ".py",
   "mimetype": "text/x-python",
   "name": "python",
   "nbconvert_exporter": "python",
   "pygments_lexer": "ipython3",
   "version": "3.12.1"
  }
 },
 "nbformat": 4,
 "nbformat_minor": 5
}
