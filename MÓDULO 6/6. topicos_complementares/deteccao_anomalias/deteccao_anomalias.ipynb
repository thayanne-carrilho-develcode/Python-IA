{
 "cells": [
  {
   "cell_type": "code",
   "execution_count": 1,
   "id": "5290eac6",
   "metadata": {},
   "outputs": [],
   "source": [
    "import pandas as pd \n",
    "from sklearn.neighbors import LocalOutlierFactor\n",
    "from sklearn.preprocessing import StandardScaler, OneHotEncoder, FunctionTransformer\n",
    "from sklearn.compose import ColumnTransformer\n",
    "from sklearn.metrics import recall_score\n",
    "\n"
   ]
  },
  {
   "cell_type": "markdown",
   "id": "c4a2194c",
   "metadata": {},
   "source": [
    "### Carga de dados"
   ]
  },
  {
   "cell_type": "code",
   "execution_count": 2,
   "id": "7ce54fa2",
   "metadata": {},
   "outputs": [],
   "source": [
    "df_churn = pd.read_csv('./datasets/data.csv')"
   ]
  },
  {
   "cell_type": "code",
   "execution_count": 3,
   "id": "70ee4505",
   "metadata": {},
   "outputs": [
    {
     "name": "stdout",
     "output_type": "stream",
     "text": [
      "<class 'pandas.core.frame.DataFrame'>\n",
      "RangeIndex: 7032 entries, 0 to 7031\n",
      "Data columns (total 21 columns):\n",
      " #   Column            Non-Null Count  Dtype  \n",
      "---  ------            --------------  -----  \n",
      " 0   IDCliente         7032 non-null   object \n",
      " 1   Genero            7032 non-null   object \n",
      " 2   Mais65anos        7032 non-null   int64  \n",
      " 3   TemParceiro       7032 non-null   object \n",
      " 4   TemDependentes    7032 non-null   object \n",
      " 5   PhoneService      7032 non-null   object \n",
      " 6   MultipleLines     7032 non-null   object \n",
      " 7   InternetService   7032 non-null   object \n",
      " 8   OnlineSecurity    7032 non-null   object \n",
      " 9   OnlineBackup      7032 non-null   object \n",
      " 10  DeviceProtection  7032 non-null   object \n",
      " 11  TechSupport       7032 non-null   object \n",
      " 12  StreamingTV       7032 non-null   object \n",
      " 13  StreamingMovies   7032 non-null   object \n",
      " 14  tenure            7032 non-null   int64  \n",
      " 15  Contract          7032 non-null   object \n",
      " 16  PaperlessBilling  7032 non-null   object \n",
      " 17  PaymentMethod     7032 non-null   object \n",
      " 18  MonthlyCharges    7032 non-null   float64\n",
      " 19  TotalCharges      7032 non-null   float64\n",
      " 20  Churn             7032 non-null   object \n",
      "dtypes: float64(2), int64(2), object(17)\n",
      "memory usage: 1.1+ MB\n"
     ]
    }
   ],
   "source": [
    "df_churn.info()"
   ]
  },
  {
   "cell_type": "code",
   "execution_count": 4,
   "id": "4083638f",
   "metadata": {},
   "outputs": [
    {
     "data": {
      "text/plain": [
       "Churn\n",
       "No     5163\n",
       "Yes    1869\n",
       "Name: count, dtype: int64"
      ]
     },
     "execution_count": 4,
     "metadata": {},
     "output_type": "execute_result"
    }
   ],
   "source": [
    "#contar clientes cusando a variavel churn como referencia\n",
    "df_churn.Churn.value_counts()"
   ]
  },
  {
   "cell_type": "code",
   "execution_count": 5,
   "id": "4f896a52",
   "metadata": {},
   "outputs": [
    {
     "data": {
      "text/plain": [
       "Churn\n",
       "No     0.734215\n",
       "Yes    0.265785\n",
       "Name: proportion, dtype: float64"
      ]
     },
     "execution_count": 5,
     "metadata": {},
     "output_type": "execute_result"
    }
   ],
   "source": [
    "#distribuição percentual\n",
    "df_churn.Churn.value_counts(normalize=True)"
   ]
  },
  {
   "cell_type": "markdown",
   "id": "f60909e6",
   "metadata": {},
   "source": [
    "### Preparação da base para algoritmo lof"
   ]
  },
  {
   "cell_type": "code",
   "execution_count": 8,
   "id": "3624bc60",
   "metadata": {},
   "outputs": [],
   "source": [
    "#selecionar variaveis \n",
    "X = df_churn.drop(columns=['IDCliente', 'Churn'])\n",
    "y = df_churn['Churn']"
   ]
  },
  {
   "cell_type": "code",
   "execution_count": 9,
   "id": "ecf22e77",
   "metadata": {},
   "outputs": [],
   "source": [
    "#definir uma função apra transformar yes em 1 e no em 0\n",
    "def binary_transformer_function(X):\n",
    "    return X.map(lambda x: 1 if x =='Yes' else 0)\n",
    "\n"
   ]
  },
  {
   "cell_type": "code",
   "execution_count": 10,
   "id": "e01aa165",
   "metadata": {},
   "outputs": [],
   "source": [
    "#transformações\n",
    "numeric_features = ['tenure', 'MonthlyCharges', 'TotalCharges']\n",
    "categorical_features = ['Genero', 'MultipleLines', 'InternetService', 'OnlineSecurity', 'OnlineBackup', 'DeviceProtection', 'StreamingTV', 'StreamingMovies', 'Contract', 'PaymentMethod' ]\n",
    "binary_features = ['TemParceiro', 'TemDependentes', 'TechSupport', 'PhoneService', 'PaperlessBilling']\n",
    "no_transformation_features = ['Mais65anos']\n",
    "\n",
    "numeric_trans = StandardScaler()\n",
    "categorical_trans = OneHotEncoder()\n",
    "binary_trans = FunctionTransformer(binary_transformer_function)\n",
    "\n",
    "\n",
    "preprocessor = ColumnTransformer(\n",
    "    transformers=[\n",
    "        ('num', numeric_trans, numeric_features),\n",
    "        ('cat', categorical_trans, categorical_features),\n",
    "        ('bin', binary_trans, binary_features),\n",
    "        ('pass', 'passthrough', no_transformation_features)\n",
    "    ]\n",
    ")\n",
    "\n",
    "X_transformed = preprocessor.fit_transform(X)\n"
   ]
  },
  {
   "cell_type": "code",
   "execution_count": 12,
   "id": "132769ba",
   "metadata": {},
   "outputs": [
    {
     "data": {
      "text/plain": [
       "(7032, 39)"
      ]
     },
     "execution_count": 12,
     "metadata": {},
     "output_type": "execute_result"
    }
   ],
   "source": [
    "X_transformed.shape"
   ]
  },
  {
   "cell_type": "markdown",
   "id": "24d4545c",
   "metadata": {},
   "source": [
    "### Treinar algoritmo LOF"
   ]
  },
  {
   "cell_type": "code",
   "execution_count": 13,
   "id": "9decd19c",
   "metadata": {},
   "outputs": [],
   "source": [
    "#instanciar objeto lof\n",
    "lof = LocalOutlierFactor(n_neighbors=20, contamination=0.26)"
   ]
  },
  {
   "cell_type": "code",
   "execution_count": 14,
   "id": "b041cc83",
   "metadata": {},
   "outputs": [],
   "source": [
    "#treinar algoritmo e gerar classificações de anomalia\n",
    "\n",
    "y_pred = lof.fit_predict(X_transformed)\n"
   ]
  },
  {
   "cell_type": "code",
   "execution_count": 15,
   "id": "fbd2ec8b",
   "metadata": {},
   "outputs": [
    {
     "data": {
      "text/plain": [
       "array([ 1,  1,  1, ...,  1, -1,  1])"
      ]
     },
     "execution_count": 15,
     "metadata": {},
     "output_type": "execute_result"
    }
   ],
   "source": [
    "#mostrar valores preditos anomalia ou nao anomalia\n",
    "#no sklearn o predict gera um valor = -1 anomalia e valor = 1 pontos normais\n",
    "y_pred"
   ]
  },
  {
   "cell_type": "code",
   "execution_count": 17,
   "id": "29ba9206",
   "metadata": {},
   "outputs": [
    {
     "data": {
      "text/plain": [
       "array([1.0238333 , 1.03547225, 1.02610568, ..., 1.07053634, 1.19840027,\n",
       "       1.08901757])"
      ]
     },
     "execution_count": 17,
     "metadata": {},
     "output_type": "execute_result"
    }
   ],
   "source": [
    "#mostrar LOF calculado para cada ponto de dados\n",
    "#no sklearn o lof calculado fica na propriedade negative_outilier_factor\n",
    "#o negative é o inverso do lof, quanto menor mais anormal\n",
    "\n",
    "-lof.negative_outlier_factor_"
   ]
  },
  {
   "cell_type": "markdown",
   "id": "2a8f5578",
   "metadata": {},
   "source": [
    "### Apresentar resultados"
   ]
  },
  {
   "cell_type": "code",
   "execution_count": 19,
   "id": "928a6cba",
   "metadata": {},
   "outputs": [
    {
     "data": {
      "text/plain": [
       "5203"
      ]
     },
     "execution_count": 19,
     "metadata": {},
     "output_type": "execute_result"
    }
   ],
   "source": [
    "import numpy as np\n",
    "#identificar anomalias\n",
    "outliers = y_pred == -1\n",
    "inliers = y_pred == 1\n",
    "\n",
    "#contar anomalias\n",
    "num_outliers = np.sum(outliers)\n",
    "num_inliers = np.sum(inliers)\n",
    "\n",
    "num_inliers"
   ]
  },
  {
   "cell_type": "code",
   "execution_count": 20,
   "id": "f32586b6",
   "metadata": {},
   "outputs": [
    {
     "data": {
      "text/plain": [
       "1829"
      ]
     },
     "execution_count": 20,
     "metadata": {},
     "output_type": "execute_result"
    }
   ],
   "source": [
    "num_outliers"
   ]
  },
  {
   "cell_type": "code",
   "execution_count": 21,
   "id": "48bcb24b",
   "metadata": {},
   "outputs": [],
   "source": [
    "#converter y para a mesma base do y_pred\n",
    "y_true = y.map(lambda x: -1 if x =='Yes' else 1)\n",
    "\n"
   ]
  },
  {
   "cell_type": "code",
   "execution_count": 22,
   "id": "d1f77f9b",
   "metadata": {},
   "outputs": [
    {
     "data": {
      "text/plain": [
       "0.7515010652721286"
      ]
     },
     "execution_count": 22,
     "metadata": {},
     "output_type": "execute_result"
    }
   ],
   "source": [
    "#calcular o erro com base no valor de y\n",
    "#usar o recall pois o objetivo é maximizar o verdadeiro positivo\n",
    "recall_score(y_true, y_pred)"
   ]
  }
 ],
 "metadata": {
  "kernelspec": {
   "display_name": "Geral-iNcLO_qr",
   "language": "python",
   "name": "python3"
  },
  "language_info": {
   "codemirror_mode": {
    "name": "ipython",
    "version": 3
   },
   "file_extension": ".py",
   "mimetype": "text/x-python",
   "name": "python",
   "nbconvert_exporter": "python",
   "pygments_lexer": "ipython3",
   "version": "3.12.1"
  }
 },
 "nbformat": 4,
 "nbformat_minor": 5
}
