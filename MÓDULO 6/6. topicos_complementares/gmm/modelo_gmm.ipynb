{
 "cells": [
  {
   "cell_type": "code",
   "execution_count": 3,
   "id": "8679467e",
   "metadata": {},
   "outputs": [],
   "source": [
    "import pandas as pd\n",
    "import numpy as np\n",
    "import plotly.express as px\n",
    "\n",
    "from sklearn.mixture import GaussianMixture\n",
    "from sklearn.preprocessing import StandardScaler, OneHotEncoder, OrdinalEncoder\n",
    "from sklearn.compose import ColumnTransformer\n",
    "\n",
    "import optuna\n"
   ]
  },
  {
   "cell_type": "code",
   "execution_count": 12,
   "id": "3ce270ad",
   "metadata": {},
   "outputs": [],
   "source": [
    "df_clientes = pd.read_csv('./datasets/data.csv')"
   ]
  },
  {
   "cell_type": "code",
   "execution_count": 13,
   "id": "eba2a77b",
   "metadata": {},
   "outputs": [
    {
     "name": "stdout",
     "output_type": "stream",
     "text": [
      "<class 'pandas.core.frame.DataFrame'>\n",
      "RangeIndex: 500 entries, 0 to 499\n",
      "Data columns (total 6 columns):\n",
      " #   Column                  Non-Null Count  Dtype  \n",
      "---  ------                  --------------  -----  \n",
      " 0   atividade_economica     500 non-null    object \n",
      " 1   faturamento_mensal      500 non-null    float64\n",
      " 2   numero_de_funcionarios  500 non-null    int64  \n",
      " 3   localizacao             500 non-null    object \n",
      " 4   idade                   500 non-null    int64  \n",
      " 5   inovacao                500 non-null    int64  \n",
      "dtypes: float64(1), int64(3), object(2)\n",
      "memory usage: 23.6+ KB\n"
     ]
    }
   ],
   "source": [
    "df_clientes.info()"
   ]
  },
  {
   "cell_type": "code",
   "execution_count": 14,
   "id": "6eb894a6",
   "metadata": {},
   "outputs": [
    {
     "data": {
      "text/html": [
       "<div>\n",
       "<style scoped>\n",
       "    .dataframe tbody tr th:only-of-type {\n",
       "        vertical-align: middle;\n",
       "    }\n",
       "\n",
       "    .dataframe tbody tr th {\n",
       "        vertical-align: top;\n",
       "    }\n",
       "\n",
       "    .dataframe thead th {\n",
       "        text-align: right;\n",
       "    }\n",
       "</style>\n",
       "<table border=\"1\" class=\"dataframe\">\n",
       "  <thead>\n",
       "    <tr style=\"text-align: right;\">\n",
       "      <th></th>\n",
       "      <th>atividade_economica</th>\n",
       "      <th>faturamento_mensal</th>\n",
       "      <th>numero_de_funcionarios</th>\n",
       "      <th>localizacao</th>\n",
       "      <th>idade</th>\n",
       "      <th>inovacao</th>\n",
       "    </tr>\n",
       "  </thead>\n",
       "  <tbody>\n",
       "    <tr>\n",
       "      <th>0</th>\n",
       "      <td>Comércio</td>\n",
       "      <td>713109.95</td>\n",
       "      <td>12</td>\n",
       "      <td>Rio de Janeiro</td>\n",
       "      <td>6</td>\n",
       "      <td>1</td>\n",
       "    </tr>\n",
       "    <tr>\n",
       "      <th>1</th>\n",
       "      <td>Comércio</td>\n",
       "      <td>790714.38</td>\n",
       "      <td>9</td>\n",
       "      <td>São Paulo</td>\n",
       "      <td>15</td>\n",
       "      <td>0</td>\n",
       "    </tr>\n",
       "    <tr>\n",
       "      <th>2</th>\n",
       "      <td>Comércio</td>\n",
       "      <td>1197239.33</td>\n",
       "      <td>17</td>\n",
       "      <td>São Paulo</td>\n",
       "      <td>4</td>\n",
       "      <td>9</td>\n",
       "    </tr>\n",
       "    <tr>\n",
       "      <th>3</th>\n",
       "      <td>Indústria</td>\n",
       "      <td>449185.78</td>\n",
       "      <td>15</td>\n",
       "      <td>São Paulo</td>\n",
       "      <td>6</td>\n",
       "      <td>0</td>\n",
       "    </tr>\n",
       "    <tr>\n",
       "      <th>4</th>\n",
       "      <td>Agronegócio</td>\n",
       "      <td>1006373.16</td>\n",
       "      <td>15</td>\n",
       "      <td>São Paulo</td>\n",
       "      <td>15</td>\n",
       "      <td>8</td>\n",
       "    </tr>\n",
       "    <tr>\n",
       "      <th>5</th>\n",
       "      <td>Serviços</td>\n",
       "      <td>1629562.41</td>\n",
       "      <td>16</td>\n",
       "      <td>Rio de Janeiro</td>\n",
       "      <td>11</td>\n",
       "      <td>4</td>\n",
       "    </tr>\n",
       "    <tr>\n",
       "      <th>6</th>\n",
       "      <td>Serviços</td>\n",
       "      <td>771179.95</td>\n",
       "      <td>13</td>\n",
       "      <td>Vitória</td>\n",
       "      <td>0</td>\n",
       "      <td>1</td>\n",
       "    </tr>\n",
       "    <tr>\n",
       "      <th>7</th>\n",
       "      <td>Serviços</td>\n",
       "      <td>707837.61</td>\n",
       "      <td>16</td>\n",
       "      <td>São Paulo</td>\n",
       "      <td>10</td>\n",
       "      <td>6</td>\n",
       "    </tr>\n",
       "    <tr>\n",
       "      <th>8</th>\n",
       "      <td>Comércio</td>\n",
       "      <td>888983.66</td>\n",
       "      <td>17</td>\n",
       "      <td>Belo Horizonte</td>\n",
       "      <td>10</td>\n",
       "      <td>1</td>\n",
       "    </tr>\n",
       "    <tr>\n",
       "      <th>9</th>\n",
       "      <td>Indústria</td>\n",
       "      <td>1098512.64</td>\n",
       "      <td>13</td>\n",
       "      <td>Rio de Janeiro</td>\n",
       "      <td>9</td>\n",
       "      <td>3</td>\n",
       "    </tr>\n",
       "  </tbody>\n",
       "</table>\n",
       "</div>"
      ],
      "text/plain": [
       "  atividade_economica  faturamento_mensal  numero_de_funcionarios  \\\n",
       "0            Comércio           713109.95                      12   \n",
       "1            Comércio           790714.38                       9   \n",
       "2            Comércio          1197239.33                      17   \n",
       "3           Indústria           449185.78                      15   \n",
       "4         Agronegócio          1006373.16                      15   \n",
       "5            Serviços          1629562.41                      16   \n",
       "6            Serviços           771179.95                      13   \n",
       "7            Serviços           707837.61                      16   \n",
       "8            Comércio           888983.66                      17   \n",
       "9           Indústria          1098512.64                      13   \n",
       "\n",
       "      localizacao  idade  inovacao  \n",
       "0  Rio de Janeiro      6         1  \n",
       "1       São Paulo     15         0  \n",
       "2       São Paulo      4         9  \n",
       "3       São Paulo      6         0  \n",
       "4       São Paulo     15         8  \n",
       "5  Rio de Janeiro     11         4  \n",
       "6         Vitória      0         1  \n",
       "7       São Paulo     10         6  \n",
       "8  Belo Horizonte     10         1  \n",
       "9  Rio de Janeiro      9         3  "
      ]
     },
     "execution_count": 14,
     "metadata": {},
     "output_type": "execute_result"
    }
   ],
   "source": [
    "df_clientes.head(10)"
   ]
  },
  {
   "cell_type": "code",
   "execution_count": 15,
   "id": "a2e23ea5",
   "metadata": {},
   "outputs": [
    {
     "data": {
      "text/html": [
       "<div>\n",
       "<style scoped>\n",
       "    .dataframe tbody tr th:only-of-type {\n",
       "        vertical-align: middle;\n",
       "    }\n",
       "\n",
       "    .dataframe tbody tr th {\n",
       "        vertical-align: top;\n",
       "    }\n",
       "\n",
       "    .dataframe thead th {\n",
       "        text-align: right;\n",
       "    }\n",
       "</style>\n",
       "<table border=\"1\" class=\"dataframe\">\n",
       "  <thead>\n",
       "    <tr style=\"text-align: right;\">\n",
       "      <th></th>\n",
       "      <th>faturamento_mensal</th>\n",
       "      <th>numero_de_funcionarios</th>\n",
       "      <th>idade</th>\n",
       "      <th>inovacao</th>\n",
       "    </tr>\n",
       "  </thead>\n",
       "  <tbody>\n",
       "    <tr>\n",
       "      <th>count</th>\n",
       "      <td>5.000000e+02</td>\n",
       "      <td>500.000000</td>\n",
       "      <td>500.000000</td>\n",
       "      <td>500.00000</td>\n",
       "    </tr>\n",
       "    <tr>\n",
       "      <th>mean</th>\n",
       "      <td>1.026716e+06</td>\n",
       "      <td>13.690000</td>\n",
       "      <td>9.254000</td>\n",
       "      <td>4.38800</td>\n",
       "    </tr>\n",
       "    <tr>\n",
       "      <th>std</th>\n",
       "      <td>4.206095e+05</td>\n",
       "      <td>3.122403</td>\n",
       "      <td>2.959561</td>\n",
       "      <td>2.90281</td>\n",
       "    </tr>\n",
       "    <tr>\n",
       "      <th>min</th>\n",
       "      <td>1.842122e+04</td>\n",
       "      <td>2.000000</td>\n",
       "      <td>0.000000</td>\n",
       "      <td>0.00000</td>\n",
       "    </tr>\n",
       "    <tr>\n",
       "      <th>25%</th>\n",
       "      <td>7.632536e+05</td>\n",
       "      <td>12.000000</td>\n",
       "      <td>7.000000</td>\n",
       "      <td>2.00000</td>\n",
       "    </tr>\n",
       "    <tr>\n",
       "      <th>50%</th>\n",
       "      <td>1.022957e+06</td>\n",
       "      <td>14.000000</td>\n",
       "      <td>9.000000</td>\n",
       "      <td>4.00000</td>\n",
       "    </tr>\n",
       "    <tr>\n",
       "      <th>75%</th>\n",
       "      <td>1.295889e+06</td>\n",
       "      <td>16.000000</td>\n",
       "      <td>11.000000</td>\n",
       "      <td>7.00000</td>\n",
       "    </tr>\n",
       "    <tr>\n",
       "      <th>max</th>\n",
       "      <td>2.390677e+06</td>\n",
       "      <td>21.000000</td>\n",
       "      <td>16.000000</td>\n",
       "      <td>9.00000</td>\n",
       "    </tr>\n",
       "  </tbody>\n",
       "</table>\n",
       "</div>"
      ],
      "text/plain": [
       "       faturamento_mensal  numero_de_funcionarios       idade   inovacao\n",
       "count        5.000000e+02              500.000000  500.000000  500.00000\n",
       "mean         1.026716e+06               13.690000    9.254000    4.38800\n",
       "std          4.206095e+05                3.122403    2.959561    2.90281\n",
       "min          1.842122e+04                2.000000    0.000000    0.00000\n",
       "25%          7.632536e+05               12.000000    7.000000    2.00000\n",
       "50%          1.022957e+06               14.000000    9.000000    4.00000\n",
       "75%          1.295889e+06               16.000000   11.000000    7.00000\n",
       "max          2.390677e+06               21.000000   16.000000    9.00000"
      ]
     },
     "execution_count": 15,
     "metadata": {},
     "output_type": "execute_result"
    }
   ],
   "source": [
    "df_clientes.describe()"
   ]
  },
  {
   "cell_type": "markdown",
   "id": "fcfd9b42",
   "metadata": {},
   "source": [
    "### Preparar dados para execução do modelo GMM"
   ]
  },
  {
   "cell_type": "code",
   "execution_count": 20,
   "id": "70181c8d",
   "metadata": {},
   "outputs": [],
   "source": [
    "#selecionar as colunas relevantes \n",
    "X = df_clientes.copy()\n",
    "\n",
    "#separar variaveis por tipo para aplicar o ColumnTransformer\n",
    "numeric_features = ['faturamento_mensal', 'numero_de_funcionarios', 'idade']\n",
    "categorical_features = ['localizacao', 'atividade_economica']\n",
    "ordinal_features = ['inovacao']"
   ]
  },
  {
   "cell_type": "code",
   "execution_count": 21,
   "id": "1c40753f",
   "metadata": {},
   "outputs": [],
   "source": [
    "numeric_transformer = StandardScaler()\n",
    "categorical_transformer = OneHotEncoder()\n",
    "ordinal_transformer = OrdinalEncoder()"
   ]
  },
  {
   "cell_type": "code",
   "execution_count": 22,
   "id": "5549a1ad",
   "metadata": {},
   "outputs": [],
   "source": [
    "# criar o column transformer\n",
    "preprocessor = ColumnTransformer(\n",
    "    transformers=[\n",
    "        ('num', numeric_transformer, numeric_features),\n",
    "        ('cat', categorical_transformer, categorical_features),\n",
    "        ('ord', ordinal_transformer, ordinal_features)\n",
    "    ]\n",
    ")"
   ]
  },
  {
   "cell_type": "code",
   "execution_count": 23,
   "id": "df85f8db",
   "metadata": {},
   "outputs": [],
   "source": [
    "#transformar os dados\n",
    "X_transformed = preprocessor.fit_transform(X)"
   ]
  },
  {
   "cell_type": "code",
   "execution_count": 24,
   "id": "a57b21c5",
   "metadata": {},
   "outputs": [
    {
     "data": {
      "text/plain": [
       "array([[-0.74634498, -0.54179191, -1.10058849, ...,  0.        ,\n",
       "         0.        ,  1.        ],\n",
       "       [-0.56165548, -1.5035527 ,  1.94344851, ...,  0.        ,\n",
       "         0.        ,  0.        ],\n",
       "       [ 0.40582654,  1.06114274, -1.77704115, ...,  0.        ,\n",
       "         0.        ,  9.        ],\n",
       "       ...,\n",
       "       [ 2.8196246 , -1.18296577,  0.25231684, ...,  0.        ,\n",
       "         1.        ,  0.        ],\n",
       "       [ 1.03321411, -0.54179191, -1.43881482, ...,  0.        ,\n",
       "         0.        ,  3.        ],\n",
       "       [-2.03011486, -0.22120498, -1.77704115, ...,  1.        ,\n",
       "         0.        ,  9.        ]])"
      ]
     },
     "execution_count": 24,
     "metadata": {},
     "output_type": "execute_result"
    }
   ],
   "source": [
    "X_transformed"
   ]
  },
  {
   "cell_type": "markdown",
   "id": "45da0408",
   "metadata": {},
   "source": [
    "### Treinar modelo GMM"
   ]
  },
  {
   "cell_type": "code",
   "execution_count": 25,
   "id": "7afb4cdc",
   "metadata": {},
   "outputs": [],
   "source": [
    "# criar função para executar no optuna\n",
    "def gmm_objective(trial):\n",
    "    #definindo os hiperparametros a serem ajustados\n",
    "    n_components = trial.suggest_int('n_components', 3, 10)\n",
    "    covariance_type = trial.suggest_categorical('covariance_type', ['full', 'tied', 'diag', 'spherical'])\n",
    "\n",
    "    #instanciar o modelo com os hiperparams\n",
    "    gmm = GaussianMixture(n_components=n_components, covariance_type=covariance_type, random_state=51)\n",
    "\n",
    "    #treinar o modelo nos dados\n",
    "    gmm.fit(X_transformed)\n",
    "\n",
    "    #calculando o BIC\n",
    "    bic_gmm = gmm.bic(X_transformed)\n",
    "\n",
    "    return bic_gmm"
   ]
  },
  {
   "cell_type": "code",
   "execution_count": 26,
   "id": "14e8c583",
   "metadata": {},
   "outputs": [
    {
     "name": "stderr",
     "output_type": "stream",
     "text": [
      "[I 2025-06-07 09:49:56,838] A new study created in memory with name: no-name-697c59ce-1e2a-4dec-9b33-bcf01b626f57\n"
     ]
    }
   ],
   "source": [
    "#criar estudo optuna\n",
    "search_space = {'n_components': [3,4,5,6,7,8,9,10],\n",
    "                'covariance_type': ['full', 'tied', 'diag', 'spherical']}\n",
    "\n",
    "sampler = optuna.samplers.GridSampler(search_space=search_space)\n",
    "estudo_gmm = optuna.create_study(direction='maximize', sampler=sampler)"
   ]
  },
  {
   "cell_type": "code",
   "execution_count": 27,
   "id": "7e4ab488",
   "metadata": {},
   "outputs": [
    {
     "name": "stderr",
     "output_type": "stream",
     "text": [
      "[I 2025-06-07 09:50:25,001] Trial 0 finished with value: -177.47638669047626 and parameters: {'n_components': 6, 'covariance_type': 'tied'}. Best is trial 0 with value: -177.47638669047626.\n",
      "[I 2025-06-07 09:50:25,013] Trial 1 finished with value: -23479.731809069122 and parameters: {'n_components': 9, 'covariance_type': 'diag'}. Best is trial 0 with value: -177.47638669047626.\n",
      "[I 2025-06-07 09:50:25,027] Trial 2 finished with value: -239.1610329150161 and parameters: {'n_components': 5, 'covariance_type': 'tied'}. Best is trial 0 with value: -177.47638669047626.\n",
      "[I 2025-06-07 09:50:25,079] Trial 3 finished with value: -16669.2276466825 and parameters: {'n_components': 5, 'covariance_type': 'full'}. Best is trial 0 with value: -177.47638669047626.\n",
      "[I 2025-06-07 09:50:25,089] Trial 4 finished with value: 1570.0096069322854 and parameters: {'n_components': 3, 'covariance_type': 'diag'}. Best is trial 4 with value: 1570.0096069322854.\n",
      "[I 2025-06-07 09:50:25,120] Trial 5 finished with value: -18618.230055954602 and parameters: {'n_components': 9, 'covariance_type': 'tied'}. Best is trial 4 with value: 1570.0096069322854.\n",
      "[I 2025-06-07 09:50:25,128] Trial 6 finished with value: 13137.301314995799 and parameters: {'n_components': 7, 'covariance_type': 'spherical'}. Best is trial 6 with value: 13137.301314995799.\n",
      "[I 2025-06-07 09:50:25,138] Trial 7 finished with value: 13234.274506436133 and parameters: {'n_components': 5, 'covariance_type': 'spherical'}. Best is trial 7 with value: 13234.274506436133.\n",
      "[I 2025-06-07 09:50:25,150] Trial 8 finished with value: -18478.1823264457 and parameters: {'n_components': 7, 'covariance_type': 'diag'}. Best is trial 7 with value: 13234.274506436133.\n",
      "[I 2025-06-07 09:50:25,208] Trial 9 finished with value: -18600.462739179056 and parameters: {'n_components': 8, 'covariance_type': 'tied'}. Best is trial 7 with value: 13234.274506436133.\n",
      "[I 2025-06-07 09:50:25,213] Trial 10 finished with value: 13517.954765258872 and parameters: {'n_components': 3, 'covariance_type': 'spherical'}. Best is trial 10 with value: 13517.954765258872.\n",
      "[I 2025-06-07 09:50:25,282] Trial 11 finished with value: -25124.23469663218 and parameters: {'n_components': 8, 'covariance_type': 'full'}. Best is trial 10 with value: 13517.954765258872.\n",
      "[I 2025-06-07 09:50:25,292] Trial 12 finished with value: -9599.639308249265 and parameters: {'n_components': 4, 'covariance_type': 'diag'}. Best is trial 10 with value: 13517.954765258872.\n",
      "[I 2025-06-07 09:50:25,304] Trial 13 finished with value: -347.8581484760581 and parameters: {'n_components': 3, 'covariance_type': 'tied'}. Best is trial 10 with value: 13517.954765258872.\n",
      "[I 2025-06-07 09:50:25,314] Trial 14 finished with value: 13122.248730728968 and parameters: {'n_components': 9, 'covariance_type': 'spherical'}. Best is trial 10 with value: 13517.954765258872.\n",
      "[I 2025-06-07 09:50:25,322] Trial 15 finished with value: 13381.513104008285 and parameters: {'n_components': 4, 'covariance_type': 'spherical'}. Best is trial 10 with value: 13517.954765258872.\n",
      "[I 2025-06-07 09:50:25,335] Trial 16 finished with value: -22508.74728372799 and parameters: {'n_components': 10, 'covariance_type': 'diag'}. Best is trial 10 with value: 13517.954765258872.\n",
      "[I 2025-06-07 09:50:25,376] Trial 17 finished with value: -15471.558210949759 and parameters: {'n_components': 4, 'covariance_type': 'full'}. Best is trial 10 with value: 13517.954765258872.\n",
      "[I 2025-06-07 09:50:25,390] Trial 18 finished with value: 13048.547508214819 and parameters: {'n_components': 10, 'covariance_type': 'spherical'}. Best is trial 10 with value: 13517.954765258872.\n",
      "[I 2025-06-07 09:50:25,468] Trial 19 finished with value: -25129.454932177505 and parameters: {'n_components': 9, 'covariance_type': 'full'}. Best is trial 10 with value: 13517.954765258872.\n",
      "[I 2025-06-07 09:50:25,522] Trial 20 finished with value: -25850.08254954294 and parameters: {'n_components': 7, 'covariance_type': 'full'}. Best is trial 10 with value: 13517.954765258872.\n",
      "[I 2025-06-07 09:50:25,531] Trial 21 finished with value: -5520.881590325625 and parameters: {'n_components': 5, 'covariance_type': 'diag'}. Best is trial 10 with value: 13517.954765258872.\n",
      "[I 2025-06-07 09:50:25,540] Trial 22 finished with value: 13133.93863998313 and parameters: {'n_components': 8, 'covariance_type': 'spherical'}. Best is trial 10 with value: 13517.954765258872.\n",
      "[I 2025-06-07 09:50:25,549] Trial 23 finished with value: -10335.697932371371 and parameters: {'n_components': 6, 'covariance_type': 'diag'}. Best is trial 10 with value: 13517.954765258872.\n",
      "[I 2025-06-07 09:50:25,561] Trial 24 finished with value: -284.4462692856258 and parameters: {'n_components': 4, 'covariance_type': 'tied'}. Best is trial 10 with value: 13517.954765258872.\n",
      "[I 2025-06-07 09:50:25,624] Trial 25 finished with value: -22201.35676403101 and parameters: {'n_components': 10, 'covariance_type': 'full'}. Best is trial 10 with value: 13517.954765258872.\n",
      "[I 2025-06-07 09:50:25,634] Trial 26 finished with value: 13169.399808041562 and parameters: {'n_components': 6, 'covariance_type': 'spherical'}. Best is trial 10 with value: 13517.954765258872.\n",
      "[I 2025-06-07 09:50:25,679] Trial 27 finished with value: -20708.18353975448 and parameters: {'n_components': 6, 'covariance_type': 'full'}. Best is trial 10 with value: 13517.954765258872.\n",
      "[I 2025-06-07 09:50:25,696] Trial 28 finished with value: -8270.323890333684 and parameters: {'n_components': 3, 'covariance_type': 'full'}. Best is trial 10 with value: 13517.954765258872.\n",
      "[I 2025-06-07 09:50:25,716] Trial 29 finished with value: -20904.60248023283 and parameters: {'n_components': 8, 'covariance_type': 'diag'}. Best is trial 10 with value: 13517.954765258872.\n",
      "[I 2025-06-07 09:50:25,756] Trial 30 finished with value: -18558.266391755264 and parameters: {'n_components': 10, 'covariance_type': 'tied'}. Best is trial 10 with value: 13517.954765258872.\n",
      "[I 2025-06-07 09:50:25,817] Trial 31 finished with value: -18657.255193084842 and parameters: {'n_components': 7, 'covariance_type': 'tied'}. Best is trial 10 with value: 13517.954765258872.\n"
     ]
    }
   ],
   "source": [
    "estudo_gmm.optimize(gmm_objective, n_trials=32)"
   ]
  },
  {
   "cell_type": "code",
   "execution_count": 28,
   "id": "0160a5b5",
   "metadata": {},
   "outputs": [],
   "source": [
    "# melhor configuração obtida pelo optuna\n",
    "best_params = estudo_gmm.best_params"
   ]
  },
  {
   "cell_type": "code",
   "execution_count": 29,
   "id": "8ff65ba6",
   "metadata": {},
   "outputs": [
    {
     "data": {
      "text/html": [
       "<style>#sk-container-id-1 {\n",
       "  /* Definition of color scheme common for light and dark mode */\n",
       "  --sklearn-color-text: #000;\n",
       "  --sklearn-color-text-muted: #666;\n",
       "  --sklearn-color-line: gray;\n",
       "  /* Definition of color scheme for unfitted estimators */\n",
       "  --sklearn-color-unfitted-level-0: #fff5e6;\n",
       "  --sklearn-color-unfitted-level-1: #f6e4d2;\n",
       "  --sklearn-color-unfitted-level-2: #ffe0b3;\n",
       "  --sklearn-color-unfitted-level-3: chocolate;\n",
       "  /* Definition of color scheme for fitted estimators */\n",
       "  --sklearn-color-fitted-level-0: #f0f8ff;\n",
       "  --sklearn-color-fitted-level-1: #d4ebff;\n",
       "  --sklearn-color-fitted-level-2: #b3dbfd;\n",
       "  --sklearn-color-fitted-level-3: cornflowerblue;\n",
       "\n",
       "  /* Specific color for light theme */\n",
       "  --sklearn-color-text-on-default-background: var(--sg-text-color, var(--theme-code-foreground, var(--jp-content-font-color1, black)));\n",
       "  --sklearn-color-background: var(--sg-background-color, var(--theme-background, var(--jp-layout-color0, white)));\n",
       "  --sklearn-color-border-box: var(--sg-text-color, var(--theme-code-foreground, var(--jp-content-font-color1, black)));\n",
       "  --sklearn-color-icon: #696969;\n",
       "\n",
       "  @media (prefers-color-scheme: dark) {\n",
       "    /* Redefinition of color scheme for dark theme */\n",
       "    --sklearn-color-text-on-default-background: var(--sg-text-color, var(--theme-code-foreground, var(--jp-content-font-color1, white)));\n",
       "    --sklearn-color-background: var(--sg-background-color, var(--theme-background, var(--jp-layout-color0, #111)));\n",
       "    --sklearn-color-border-box: var(--sg-text-color, var(--theme-code-foreground, var(--jp-content-font-color1, white)));\n",
       "    --sklearn-color-icon: #878787;\n",
       "  }\n",
       "}\n",
       "\n",
       "#sk-container-id-1 {\n",
       "  color: var(--sklearn-color-text);\n",
       "}\n",
       "\n",
       "#sk-container-id-1 pre {\n",
       "  padding: 0;\n",
       "}\n",
       "\n",
       "#sk-container-id-1 input.sk-hidden--visually {\n",
       "  border: 0;\n",
       "  clip: rect(1px 1px 1px 1px);\n",
       "  clip: rect(1px, 1px, 1px, 1px);\n",
       "  height: 1px;\n",
       "  margin: -1px;\n",
       "  overflow: hidden;\n",
       "  padding: 0;\n",
       "  position: absolute;\n",
       "  width: 1px;\n",
       "}\n",
       "\n",
       "#sk-container-id-1 div.sk-dashed-wrapped {\n",
       "  border: 1px dashed var(--sklearn-color-line);\n",
       "  margin: 0 0.4em 0.5em 0.4em;\n",
       "  box-sizing: border-box;\n",
       "  padding-bottom: 0.4em;\n",
       "  background-color: var(--sklearn-color-background);\n",
       "}\n",
       "\n",
       "#sk-container-id-1 div.sk-container {\n",
       "  /* jupyter's `normalize.less` sets `[hidden] { display: none; }`\n",
       "     but bootstrap.min.css set `[hidden] { display: none !important; }`\n",
       "     so we also need the `!important` here to be able to override the\n",
       "     default hidden behavior on the sphinx rendered scikit-learn.org.\n",
       "     See: https://github.com/scikit-learn/scikit-learn/issues/21755 */\n",
       "  display: inline-block !important;\n",
       "  position: relative;\n",
       "}\n",
       "\n",
       "#sk-container-id-1 div.sk-text-repr-fallback {\n",
       "  display: none;\n",
       "}\n",
       "\n",
       "div.sk-parallel-item,\n",
       "div.sk-serial,\n",
       "div.sk-item {\n",
       "  /* draw centered vertical line to link estimators */\n",
       "  background-image: linear-gradient(var(--sklearn-color-text-on-default-background), var(--sklearn-color-text-on-default-background));\n",
       "  background-size: 2px 100%;\n",
       "  background-repeat: no-repeat;\n",
       "  background-position: center center;\n",
       "}\n",
       "\n",
       "/* Parallel-specific style estimator block */\n",
       "\n",
       "#sk-container-id-1 div.sk-parallel-item::after {\n",
       "  content: \"\";\n",
       "  width: 100%;\n",
       "  border-bottom: 2px solid var(--sklearn-color-text-on-default-background);\n",
       "  flex-grow: 1;\n",
       "}\n",
       "\n",
       "#sk-container-id-1 div.sk-parallel {\n",
       "  display: flex;\n",
       "  align-items: stretch;\n",
       "  justify-content: center;\n",
       "  background-color: var(--sklearn-color-background);\n",
       "  position: relative;\n",
       "}\n",
       "\n",
       "#sk-container-id-1 div.sk-parallel-item {\n",
       "  display: flex;\n",
       "  flex-direction: column;\n",
       "}\n",
       "\n",
       "#sk-container-id-1 div.sk-parallel-item:first-child::after {\n",
       "  align-self: flex-end;\n",
       "  width: 50%;\n",
       "}\n",
       "\n",
       "#sk-container-id-1 div.sk-parallel-item:last-child::after {\n",
       "  align-self: flex-start;\n",
       "  width: 50%;\n",
       "}\n",
       "\n",
       "#sk-container-id-1 div.sk-parallel-item:only-child::after {\n",
       "  width: 0;\n",
       "}\n",
       "\n",
       "/* Serial-specific style estimator block */\n",
       "\n",
       "#sk-container-id-1 div.sk-serial {\n",
       "  display: flex;\n",
       "  flex-direction: column;\n",
       "  align-items: center;\n",
       "  background-color: var(--sklearn-color-background);\n",
       "  padding-right: 1em;\n",
       "  padding-left: 1em;\n",
       "}\n",
       "\n",
       "\n",
       "/* Toggleable style: style used for estimator/Pipeline/ColumnTransformer box that is\n",
       "clickable and can be expanded/collapsed.\n",
       "- Pipeline and ColumnTransformer use this feature and define the default style\n",
       "- Estimators will overwrite some part of the style using the `sk-estimator` class\n",
       "*/\n",
       "\n",
       "/* Pipeline and ColumnTransformer style (default) */\n",
       "\n",
       "#sk-container-id-1 div.sk-toggleable {\n",
       "  /* Default theme specific background. It is overwritten whether we have a\n",
       "  specific estimator or a Pipeline/ColumnTransformer */\n",
       "  background-color: var(--sklearn-color-background);\n",
       "}\n",
       "\n",
       "/* Toggleable label */\n",
       "#sk-container-id-1 label.sk-toggleable__label {\n",
       "  cursor: pointer;\n",
       "  display: flex;\n",
       "  width: 100%;\n",
       "  margin-bottom: 0;\n",
       "  padding: 0.5em;\n",
       "  box-sizing: border-box;\n",
       "  text-align: center;\n",
       "  align-items: start;\n",
       "  justify-content: space-between;\n",
       "  gap: 0.5em;\n",
       "}\n",
       "\n",
       "#sk-container-id-1 label.sk-toggleable__label .caption {\n",
       "  font-size: 0.6rem;\n",
       "  font-weight: lighter;\n",
       "  color: var(--sklearn-color-text-muted);\n",
       "}\n",
       "\n",
       "#sk-container-id-1 label.sk-toggleable__label-arrow:before {\n",
       "  /* Arrow on the left of the label */\n",
       "  content: \"▸\";\n",
       "  float: left;\n",
       "  margin-right: 0.25em;\n",
       "  color: var(--sklearn-color-icon);\n",
       "}\n",
       "\n",
       "#sk-container-id-1 label.sk-toggleable__label-arrow:hover:before {\n",
       "  color: var(--sklearn-color-text);\n",
       "}\n",
       "\n",
       "/* Toggleable content - dropdown */\n",
       "\n",
       "#sk-container-id-1 div.sk-toggleable__content {\n",
       "  display: none;\n",
       "  text-align: left;\n",
       "  /* unfitted */\n",
       "  background-color: var(--sklearn-color-unfitted-level-0);\n",
       "}\n",
       "\n",
       "#sk-container-id-1 div.sk-toggleable__content.fitted {\n",
       "  /* fitted */\n",
       "  background-color: var(--sklearn-color-fitted-level-0);\n",
       "}\n",
       "\n",
       "#sk-container-id-1 div.sk-toggleable__content pre {\n",
       "  margin: 0.2em;\n",
       "  border-radius: 0.25em;\n",
       "  color: var(--sklearn-color-text);\n",
       "  /* unfitted */\n",
       "  background-color: var(--sklearn-color-unfitted-level-0);\n",
       "}\n",
       "\n",
       "#sk-container-id-1 div.sk-toggleable__content.fitted pre {\n",
       "  /* unfitted */\n",
       "  background-color: var(--sklearn-color-fitted-level-0);\n",
       "}\n",
       "\n",
       "#sk-container-id-1 input.sk-toggleable__control:checked~div.sk-toggleable__content {\n",
       "  /* Expand drop-down */\n",
       "  display: block;\n",
       "  width: 100%;\n",
       "  overflow: visible;\n",
       "}\n",
       "\n",
       "#sk-container-id-1 input.sk-toggleable__control:checked~label.sk-toggleable__label-arrow:before {\n",
       "  content: \"▾\";\n",
       "}\n",
       "\n",
       "/* Pipeline/ColumnTransformer-specific style */\n",
       "\n",
       "#sk-container-id-1 div.sk-label input.sk-toggleable__control:checked~label.sk-toggleable__label {\n",
       "  color: var(--sklearn-color-text);\n",
       "  background-color: var(--sklearn-color-unfitted-level-2);\n",
       "}\n",
       "\n",
       "#sk-container-id-1 div.sk-label.fitted input.sk-toggleable__control:checked~label.sk-toggleable__label {\n",
       "  background-color: var(--sklearn-color-fitted-level-2);\n",
       "}\n",
       "\n",
       "/* Estimator-specific style */\n",
       "\n",
       "/* Colorize estimator box */\n",
       "#sk-container-id-1 div.sk-estimator input.sk-toggleable__control:checked~label.sk-toggleable__label {\n",
       "  /* unfitted */\n",
       "  background-color: var(--sklearn-color-unfitted-level-2);\n",
       "}\n",
       "\n",
       "#sk-container-id-1 div.sk-estimator.fitted input.sk-toggleable__control:checked~label.sk-toggleable__label {\n",
       "  /* fitted */\n",
       "  background-color: var(--sklearn-color-fitted-level-2);\n",
       "}\n",
       "\n",
       "#sk-container-id-1 div.sk-label label.sk-toggleable__label,\n",
       "#sk-container-id-1 div.sk-label label {\n",
       "  /* The background is the default theme color */\n",
       "  color: var(--sklearn-color-text-on-default-background);\n",
       "}\n",
       "\n",
       "/* On hover, darken the color of the background */\n",
       "#sk-container-id-1 div.sk-label:hover label.sk-toggleable__label {\n",
       "  color: var(--sklearn-color-text);\n",
       "  background-color: var(--sklearn-color-unfitted-level-2);\n",
       "}\n",
       "\n",
       "/* Label box, darken color on hover, fitted */\n",
       "#sk-container-id-1 div.sk-label.fitted:hover label.sk-toggleable__label.fitted {\n",
       "  color: var(--sklearn-color-text);\n",
       "  background-color: var(--sklearn-color-fitted-level-2);\n",
       "}\n",
       "\n",
       "/* Estimator label */\n",
       "\n",
       "#sk-container-id-1 div.sk-label label {\n",
       "  font-family: monospace;\n",
       "  font-weight: bold;\n",
       "  display: inline-block;\n",
       "  line-height: 1.2em;\n",
       "}\n",
       "\n",
       "#sk-container-id-1 div.sk-label-container {\n",
       "  text-align: center;\n",
       "}\n",
       "\n",
       "/* Estimator-specific */\n",
       "#sk-container-id-1 div.sk-estimator {\n",
       "  font-family: monospace;\n",
       "  border: 1px dotted var(--sklearn-color-border-box);\n",
       "  border-radius: 0.25em;\n",
       "  box-sizing: border-box;\n",
       "  margin-bottom: 0.5em;\n",
       "  /* unfitted */\n",
       "  background-color: var(--sklearn-color-unfitted-level-0);\n",
       "}\n",
       "\n",
       "#sk-container-id-1 div.sk-estimator.fitted {\n",
       "  /* fitted */\n",
       "  background-color: var(--sklearn-color-fitted-level-0);\n",
       "}\n",
       "\n",
       "/* on hover */\n",
       "#sk-container-id-1 div.sk-estimator:hover {\n",
       "  /* unfitted */\n",
       "  background-color: var(--sklearn-color-unfitted-level-2);\n",
       "}\n",
       "\n",
       "#sk-container-id-1 div.sk-estimator.fitted:hover {\n",
       "  /* fitted */\n",
       "  background-color: var(--sklearn-color-fitted-level-2);\n",
       "}\n",
       "\n",
       "/* Specification for estimator info (e.g. \"i\" and \"?\") */\n",
       "\n",
       "/* Common style for \"i\" and \"?\" */\n",
       "\n",
       ".sk-estimator-doc-link,\n",
       "a:link.sk-estimator-doc-link,\n",
       "a:visited.sk-estimator-doc-link {\n",
       "  float: right;\n",
       "  font-size: smaller;\n",
       "  line-height: 1em;\n",
       "  font-family: monospace;\n",
       "  background-color: var(--sklearn-color-background);\n",
       "  border-radius: 1em;\n",
       "  height: 1em;\n",
       "  width: 1em;\n",
       "  text-decoration: none !important;\n",
       "  margin-left: 0.5em;\n",
       "  text-align: center;\n",
       "  /* unfitted */\n",
       "  border: var(--sklearn-color-unfitted-level-1) 1pt solid;\n",
       "  color: var(--sklearn-color-unfitted-level-1);\n",
       "}\n",
       "\n",
       ".sk-estimator-doc-link.fitted,\n",
       "a:link.sk-estimator-doc-link.fitted,\n",
       "a:visited.sk-estimator-doc-link.fitted {\n",
       "  /* fitted */\n",
       "  border: var(--sklearn-color-fitted-level-1) 1pt solid;\n",
       "  color: var(--sklearn-color-fitted-level-1);\n",
       "}\n",
       "\n",
       "/* On hover */\n",
       "div.sk-estimator:hover .sk-estimator-doc-link:hover,\n",
       ".sk-estimator-doc-link:hover,\n",
       "div.sk-label-container:hover .sk-estimator-doc-link:hover,\n",
       ".sk-estimator-doc-link:hover {\n",
       "  /* unfitted */\n",
       "  background-color: var(--sklearn-color-unfitted-level-3);\n",
       "  color: var(--sklearn-color-background);\n",
       "  text-decoration: none;\n",
       "}\n",
       "\n",
       "div.sk-estimator.fitted:hover .sk-estimator-doc-link.fitted:hover,\n",
       ".sk-estimator-doc-link.fitted:hover,\n",
       "div.sk-label-container:hover .sk-estimator-doc-link.fitted:hover,\n",
       ".sk-estimator-doc-link.fitted:hover {\n",
       "  /* fitted */\n",
       "  background-color: var(--sklearn-color-fitted-level-3);\n",
       "  color: var(--sklearn-color-background);\n",
       "  text-decoration: none;\n",
       "}\n",
       "\n",
       "/* Span, style for the box shown on hovering the info icon */\n",
       ".sk-estimator-doc-link span {\n",
       "  display: none;\n",
       "  z-index: 9999;\n",
       "  position: relative;\n",
       "  font-weight: normal;\n",
       "  right: .2ex;\n",
       "  padding: .5ex;\n",
       "  margin: .5ex;\n",
       "  width: min-content;\n",
       "  min-width: 20ex;\n",
       "  max-width: 50ex;\n",
       "  color: var(--sklearn-color-text);\n",
       "  box-shadow: 2pt 2pt 4pt #999;\n",
       "  /* unfitted */\n",
       "  background: var(--sklearn-color-unfitted-level-0);\n",
       "  border: .5pt solid var(--sklearn-color-unfitted-level-3);\n",
       "}\n",
       "\n",
       ".sk-estimator-doc-link.fitted span {\n",
       "  /* fitted */\n",
       "  background: var(--sklearn-color-fitted-level-0);\n",
       "  border: var(--sklearn-color-fitted-level-3);\n",
       "}\n",
       "\n",
       ".sk-estimator-doc-link:hover span {\n",
       "  display: block;\n",
       "}\n",
       "\n",
       "/* \"?\"-specific style due to the `<a>` HTML tag */\n",
       "\n",
       "#sk-container-id-1 a.estimator_doc_link {\n",
       "  float: right;\n",
       "  font-size: 1rem;\n",
       "  line-height: 1em;\n",
       "  font-family: monospace;\n",
       "  background-color: var(--sklearn-color-background);\n",
       "  border-radius: 1rem;\n",
       "  height: 1rem;\n",
       "  width: 1rem;\n",
       "  text-decoration: none;\n",
       "  /* unfitted */\n",
       "  color: var(--sklearn-color-unfitted-level-1);\n",
       "  border: var(--sklearn-color-unfitted-level-1) 1pt solid;\n",
       "}\n",
       "\n",
       "#sk-container-id-1 a.estimator_doc_link.fitted {\n",
       "  /* fitted */\n",
       "  border: var(--sklearn-color-fitted-level-1) 1pt solid;\n",
       "  color: var(--sklearn-color-fitted-level-1);\n",
       "}\n",
       "\n",
       "/* On hover */\n",
       "#sk-container-id-1 a.estimator_doc_link:hover {\n",
       "  /* unfitted */\n",
       "  background-color: var(--sklearn-color-unfitted-level-3);\n",
       "  color: var(--sklearn-color-background);\n",
       "  text-decoration: none;\n",
       "}\n",
       "\n",
       "#sk-container-id-1 a.estimator_doc_link.fitted:hover {\n",
       "  /* fitted */\n",
       "  background-color: var(--sklearn-color-fitted-level-3);\n",
       "}\n",
       "\n",
       ".estimator-table summary {\n",
       "    padding: .5rem;\n",
       "    font-family: monospace;\n",
       "    cursor: pointer;\n",
       "}\n",
       "\n",
       ".estimator-table details[open] {\n",
       "    padding-left: 0.1rem;\n",
       "    padding-right: 0.1rem;\n",
       "    padding-bottom: 0.3rem;\n",
       "}\n",
       "\n",
       ".estimator-table .parameters-table {\n",
       "    margin-left: auto !important;\n",
       "    margin-right: auto !important;\n",
       "}\n",
       "\n",
       ".estimator-table .parameters-table tr:nth-child(odd) {\n",
       "    background-color: #fff;\n",
       "}\n",
       "\n",
       ".estimator-table .parameters-table tr:nth-child(even) {\n",
       "    background-color: #f6f6f6;\n",
       "}\n",
       "\n",
       ".estimator-table .parameters-table tr:hover {\n",
       "    background-color: #e0e0e0;\n",
       "}\n",
       "\n",
       ".estimator-table table td {\n",
       "    border: 1px solid rgba(106, 105, 104, 0.232);\n",
       "}\n",
       "\n",
       ".user-set td {\n",
       "    color:rgb(255, 94, 0);\n",
       "    text-align: left;\n",
       "}\n",
       "\n",
       ".user-set td.value pre {\n",
       "    color:rgb(255, 94, 0) !important;\n",
       "    background-color: transparent !important;\n",
       "}\n",
       "\n",
       ".default td {\n",
       "    color: black;\n",
       "    text-align: left;\n",
       "}\n",
       "\n",
       ".user-set td i,\n",
       ".default td i {\n",
       "    color: black;\n",
       "}\n",
       "\n",
       ".copy-paste-icon {\n",
       "    background-image: url(data:image/svg+xml;base64,PHN2ZyB4bWxucz0iaHR0cDovL3d3dy53My5vcmcvMjAwMC9zdmciIHZpZXdCb3g9IjAgMCA0NDggNTEyIj48IS0tIUZvbnQgQXdlc29tZSBGcmVlIDYuNy4yIGJ5IEBmb250YXdlc29tZSAtIGh0dHBzOi8vZm9udGF3ZXNvbWUuY29tIExpY2Vuc2UgLSBodHRwczovL2ZvbnRhd2Vzb21lLmNvbS9saWNlbnNlL2ZyZWUgQ29weXJpZ2h0IDIwMjUgRm9udGljb25zLCBJbmMuLS0+PHBhdGggZD0iTTIwOCAwTDMzMi4xIDBjMTIuNyAwIDI0LjkgNS4xIDMzLjkgMTQuMWw2Ny45IDY3LjljOSA5IDE0LjEgMjEuMiAxNC4xIDMzLjlMNDQ4IDMzNmMwIDI2LjUtMjEuNSA0OC00OCA0OGwtMTkyIDBjLTI2LjUgMC00OC0yMS41LTQ4LTQ4bDAtMjg4YzAtMjYuNSAyMS41LTQ4IDQ4LTQ4ek00OCAxMjhsODAgMCAwIDY0LTY0IDAgMCAyNTYgMTkyIDAgMC0zMiA2NCAwIDAgNDhjMCAyNi41LTIxLjUgNDgtNDggNDhMNDggNTEyYy0yNi41IDAtNDgtMjEuNS00OC00OEwwIDE3NmMwLTI2LjUgMjEuNS00OCA0OC00OHoiLz48L3N2Zz4=);\n",
       "    background-repeat: no-repeat;\n",
       "    background-size: 14px 14px;\n",
       "    background-position: 0;\n",
       "    display: inline-block;\n",
       "    width: 14px;\n",
       "    height: 14px;\n",
       "    cursor: pointer;\n",
       "}\n",
       "</style><body><div id=\"sk-container-id-1\" class=\"sk-top-container\"><div class=\"sk-text-repr-fallback\"><pre>GaussianMixture(covariance_type=&#x27;spherical&#x27;, n_components=3, random_state=51)</pre><b>In a Jupyter environment, please rerun this cell to show the HTML representation or trust the notebook. <br />On GitHub, the HTML representation is unable to render, please try loading this page with nbviewer.org.</b></div><div class=\"sk-container\" hidden><div class=\"sk-item\"><div class=\"sk-estimator fitted sk-toggleable\"><input class=\"sk-toggleable__control sk-hidden--visually\" id=\"sk-estimator-id-1\" type=\"checkbox\" checked><label for=\"sk-estimator-id-1\" class=\"sk-toggleable__label fitted sk-toggleable__label-arrow\"><div><div>GaussianMixture</div></div><div><a class=\"sk-estimator-doc-link fitted\" rel=\"noreferrer\" target=\"_blank\" href=\"https://scikit-learn.org/1.7/modules/generated/sklearn.mixture.GaussianMixture.html\">?<span>Documentation for GaussianMixture</span></a><span class=\"sk-estimator-doc-link fitted\">i<span>Fitted</span></span></div></label><div class=\"sk-toggleable__content fitted\" data-param-prefix=\"\">\n",
       "        <div class=\"estimator-table\">\n",
       "            <details>\n",
       "                <summary>Parameters</summary>\n",
       "                <table class=\"parameters-table\">\n",
       "                  <tbody>\n",
       "                    \n",
       "        <tr class=\"user-set\">\n",
       "            <td><i class=\"copy-paste-icon\"\n",
       "                 onclick=\"copyToClipboard('n_components',\n",
       "                          this.parentElement.nextElementSibling)\"\n",
       "            ></i></td>\n",
       "            <td class=\"param\">n_components&nbsp;</td>\n",
       "            <td class=\"value\">3</td>\n",
       "        </tr>\n",
       "    \n",
       "\n",
       "        <tr class=\"user-set\">\n",
       "            <td><i class=\"copy-paste-icon\"\n",
       "                 onclick=\"copyToClipboard('covariance_type',\n",
       "                          this.parentElement.nextElementSibling)\"\n",
       "            ></i></td>\n",
       "            <td class=\"param\">covariance_type&nbsp;</td>\n",
       "            <td class=\"value\">&#x27;spherical&#x27;</td>\n",
       "        </tr>\n",
       "    \n",
       "\n",
       "        <tr class=\"default\">\n",
       "            <td><i class=\"copy-paste-icon\"\n",
       "                 onclick=\"copyToClipboard('tol',\n",
       "                          this.parentElement.nextElementSibling)\"\n",
       "            ></i></td>\n",
       "            <td class=\"param\">tol&nbsp;</td>\n",
       "            <td class=\"value\">0.001</td>\n",
       "        </tr>\n",
       "    \n",
       "\n",
       "        <tr class=\"default\">\n",
       "            <td><i class=\"copy-paste-icon\"\n",
       "                 onclick=\"copyToClipboard('reg_covar',\n",
       "                          this.parentElement.nextElementSibling)\"\n",
       "            ></i></td>\n",
       "            <td class=\"param\">reg_covar&nbsp;</td>\n",
       "            <td class=\"value\">1e-06</td>\n",
       "        </tr>\n",
       "    \n",
       "\n",
       "        <tr class=\"default\">\n",
       "            <td><i class=\"copy-paste-icon\"\n",
       "                 onclick=\"copyToClipboard('max_iter',\n",
       "                          this.parentElement.nextElementSibling)\"\n",
       "            ></i></td>\n",
       "            <td class=\"param\">max_iter&nbsp;</td>\n",
       "            <td class=\"value\">100</td>\n",
       "        </tr>\n",
       "    \n",
       "\n",
       "        <tr class=\"default\">\n",
       "            <td><i class=\"copy-paste-icon\"\n",
       "                 onclick=\"copyToClipboard('n_init',\n",
       "                          this.parentElement.nextElementSibling)\"\n",
       "            ></i></td>\n",
       "            <td class=\"param\">n_init&nbsp;</td>\n",
       "            <td class=\"value\">1</td>\n",
       "        </tr>\n",
       "    \n",
       "\n",
       "        <tr class=\"default\">\n",
       "            <td><i class=\"copy-paste-icon\"\n",
       "                 onclick=\"copyToClipboard('init_params',\n",
       "                          this.parentElement.nextElementSibling)\"\n",
       "            ></i></td>\n",
       "            <td class=\"param\">init_params&nbsp;</td>\n",
       "            <td class=\"value\">&#x27;kmeans&#x27;</td>\n",
       "        </tr>\n",
       "    \n",
       "\n",
       "        <tr class=\"default\">\n",
       "            <td><i class=\"copy-paste-icon\"\n",
       "                 onclick=\"copyToClipboard('weights_init',\n",
       "                          this.parentElement.nextElementSibling)\"\n",
       "            ></i></td>\n",
       "            <td class=\"param\">weights_init&nbsp;</td>\n",
       "            <td class=\"value\">None</td>\n",
       "        </tr>\n",
       "    \n",
       "\n",
       "        <tr class=\"default\">\n",
       "            <td><i class=\"copy-paste-icon\"\n",
       "                 onclick=\"copyToClipboard('means_init',\n",
       "                          this.parentElement.nextElementSibling)\"\n",
       "            ></i></td>\n",
       "            <td class=\"param\">means_init&nbsp;</td>\n",
       "            <td class=\"value\">None</td>\n",
       "        </tr>\n",
       "    \n",
       "\n",
       "        <tr class=\"default\">\n",
       "            <td><i class=\"copy-paste-icon\"\n",
       "                 onclick=\"copyToClipboard('precisions_init',\n",
       "                          this.parentElement.nextElementSibling)\"\n",
       "            ></i></td>\n",
       "            <td class=\"param\">precisions_init&nbsp;</td>\n",
       "            <td class=\"value\">None</td>\n",
       "        </tr>\n",
       "    \n",
       "\n",
       "        <tr class=\"user-set\">\n",
       "            <td><i class=\"copy-paste-icon\"\n",
       "                 onclick=\"copyToClipboard('random_state',\n",
       "                          this.parentElement.nextElementSibling)\"\n",
       "            ></i></td>\n",
       "            <td class=\"param\">random_state&nbsp;</td>\n",
       "            <td class=\"value\">51</td>\n",
       "        </tr>\n",
       "    \n",
       "\n",
       "        <tr class=\"default\">\n",
       "            <td><i class=\"copy-paste-icon\"\n",
       "                 onclick=\"copyToClipboard('warm_start',\n",
       "                          this.parentElement.nextElementSibling)\"\n",
       "            ></i></td>\n",
       "            <td class=\"param\">warm_start&nbsp;</td>\n",
       "            <td class=\"value\">False</td>\n",
       "        </tr>\n",
       "    \n",
       "\n",
       "        <tr class=\"default\">\n",
       "            <td><i class=\"copy-paste-icon\"\n",
       "                 onclick=\"copyToClipboard('verbose',\n",
       "                          this.parentElement.nextElementSibling)\"\n",
       "            ></i></td>\n",
       "            <td class=\"param\">verbose&nbsp;</td>\n",
       "            <td class=\"value\">0</td>\n",
       "        </tr>\n",
       "    \n",
       "\n",
       "        <tr class=\"default\">\n",
       "            <td><i class=\"copy-paste-icon\"\n",
       "                 onclick=\"copyToClipboard('verbose_interval',\n",
       "                          this.parentElement.nextElementSibling)\"\n",
       "            ></i></td>\n",
       "            <td class=\"param\">verbose_interval&nbsp;</td>\n",
       "            <td class=\"value\">10</td>\n",
       "        </tr>\n",
       "    \n",
       "                  </tbody>\n",
       "                </table>\n",
       "            </details>\n",
       "        </div>\n",
       "    </div></div></div></div></div><script>function copyToClipboard(text, element) {\n",
       "    // Get the parameter prefix from the closest toggleable content\n",
       "    const toggleableContent = element.closest('.sk-toggleable__content');\n",
       "    const paramPrefix = toggleableContent ? toggleableContent.dataset.paramPrefix : '';\n",
       "    const fullParamName = paramPrefix ? `${paramPrefix}${text}` : text;\n",
       "\n",
       "    const originalStyle = element.style;\n",
       "    const computedStyle = window.getComputedStyle(element);\n",
       "    const originalWidth = computedStyle.width;\n",
       "    const originalHTML = element.innerHTML.replace('Copied!', '');\n",
       "\n",
       "    navigator.clipboard.writeText(fullParamName)\n",
       "        .then(() => {\n",
       "            element.style.width = originalWidth;\n",
       "            element.style.color = 'green';\n",
       "            element.innerHTML = \"Copied!\";\n",
       "\n",
       "            setTimeout(() => {\n",
       "                element.innerHTML = originalHTML;\n",
       "                element.style = originalStyle;\n",
       "            }, 2000);\n",
       "        })\n",
       "        .catch(err => {\n",
       "            console.error('Failed to copy:', err);\n",
       "            element.style.color = 'red';\n",
       "            element.innerHTML = \"Failed!\";\n",
       "            setTimeout(() => {\n",
       "                element.innerHTML = originalHTML;\n",
       "                element.style = originalStyle;\n",
       "            }, 2000);\n",
       "        });\n",
       "    return false;\n",
       "}\n",
       "\n",
       "document.querySelectorAll('.fa-regular.fa-copy').forEach(function(element) {\n",
       "    const toggleableContent = element.closest('.sk-toggleable__content');\n",
       "    const paramPrefix = toggleableContent ? toggleableContent.dataset.paramPrefix : '';\n",
       "    const paramName = element.parentElement.nextElementSibling.textContent.trim();\n",
       "    const fullParamName = paramPrefix ? `${paramPrefix}${paramName}` : paramName;\n",
       "\n",
       "    element.setAttribute('title', fullParamName);\n",
       "});\n",
       "</script></body>"
      ],
      "text/plain": [
       "GaussianMixture(covariance_type='spherical', n_components=3, random_state=51)"
      ]
     },
     "execution_count": 29,
     "metadata": {},
     "output_type": "execute_result"
    }
   ],
   "source": [
    "#Instanciar o modelo com os melhores parametros\n",
    "best_gmm = GaussianMixture(n_components=best_params['n_components'], covariance_type=best_params['covariance_type'], random_state=51)\n",
    "best_gmm.fit(X_transformed)"
   ]
  },
  {
   "cell_type": "code",
   "execution_count": 30,
   "id": "17670ede",
   "metadata": {},
   "outputs": [],
   "source": [
    "# Calcular o bic do melhor modelo\n",
    "best_bic = best_gmm.bic(X_transformed)"
   ]
  },
  {
   "cell_type": "code",
   "execution_count": 32,
   "id": "f9e298c3",
   "metadata": {},
   "outputs": [
    {
     "name": "stdout",
     "output_type": "stream",
     "text": [
      "Quantidade ideal de components: 3\n",
      "Tipo de covariancia: spherical\n",
      "Bic melhor: 13517.954765258872\n"
     ]
    }
   ],
   "source": [
    "#mostrar melhores parametros e resultados\n",
    "print(f'Quantidade ideal de components: {best_params['n_components']}')\n",
    "print(f'Tipo de covariancia: {best_params['covariance_type']}')\n",
    "print(f'Bic melhor: {best_bic}')"
   ]
  },
  {
   "cell_type": "markdown",
   "id": "b666cace",
   "metadata": {},
   "source": [
    "### Retornar clusters do melhor modelo GMM"
   ]
  },
  {
   "cell_type": "code",
   "execution_count": 33,
   "id": "59a3d84c",
   "metadata": {},
   "outputs": [],
   "source": [
    "# Executar o predict para retornar os clusters\n",
    "clusters_gmm = best_gmm.predict(X_transformed)"
   ]
  },
  {
   "cell_type": "code",
   "execution_count": 35,
   "id": "8d5a01f6",
   "metadata": {},
   "outputs": [
    {
     "data": {
      "text/plain": [
       "500"
      ]
     },
     "execution_count": 35,
     "metadata": {},
     "output_type": "execute_result"
    }
   ],
   "source": [
    "len(clusters_gmm)"
   ]
  },
  {
   "cell_type": "code",
   "execution_count": 36,
   "id": "398171f1",
   "metadata": {},
   "outputs": [],
   "source": [
    "#gerar as ´probabilidades de cada registro estar em um cluster\n",
    "clusters_gmm_probs = best_gmm.predict_proba(X_transformed)"
   ]
  },
  {
   "cell_type": "code",
   "execution_count": 37,
   "id": "fa357017",
   "metadata": {},
   "outputs": [
    {
     "data": {
      "text/plain": [
       "array([[9.99979899e-01, 5.05962612e-19, 2.01014149e-05],\n",
       "       [9.99999996e-01, 2.01413652e-24, 4.29831093e-09],\n",
       "       [1.07405245e-31, 1.00000000e+00, 6.34448151e-13],\n",
       "       ...,\n",
       "       [9.99999998e-01, 8.12525715e-24, 2.26355574e-09],\n",
       "       [5.34785580e-02, 1.72781225e-08, 9.46521425e-01],\n",
       "       [7.71293334e-32, 1.00000000e+00, 3.24960959e-13]])"
      ]
     },
     "execution_count": 37,
     "metadata": {},
     "output_type": "execute_result"
    }
   ],
   "source": [
    "clusters_gmm_probs"
   ]
  },
  {
   "cell_type": "code",
   "execution_count": 38,
   "id": "9c2100a0",
   "metadata": {},
   "outputs": [],
   "source": [
    "#criar coluna chamada cluster para armazenar o cluster do gmm\n",
    "df_clientes['cluster'] = clusters_gmm.astype(int)"
   ]
  },
  {
   "cell_type": "code",
   "execution_count": 39,
   "id": "f1c97db9",
   "metadata": {},
   "outputs": [
    {
     "data": {
      "text/html": [
       "<div>\n",
       "<style scoped>\n",
       "    .dataframe tbody tr th:only-of-type {\n",
       "        vertical-align: middle;\n",
       "    }\n",
       "\n",
       "    .dataframe tbody tr th {\n",
       "        vertical-align: top;\n",
       "    }\n",
       "\n",
       "    .dataframe thead th {\n",
       "        text-align: right;\n",
       "    }\n",
       "</style>\n",
       "<table border=\"1\" class=\"dataframe\">\n",
       "  <thead>\n",
       "    <tr style=\"text-align: right;\">\n",
       "      <th></th>\n",
       "      <th>atividade_economica</th>\n",
       "      <th>faturamento_mensal</th>\n",
       "      <th>numero_de_funcionarios</th>\n",
       "      <th>localizacao</th>\n",
       "      <th>idade</th>\n",
       "      <th>inovacao</th>\n",
       "      <th>cluster</th>\n",
       "    </tr>\n",
       "  </thead>\n",
       "  <tbody>\n",
       "    <tr>\n",
       "      <th>0</th>\n",
       "      <td>Comércio</td>\n",
       "      <td>713109.95</td>\n",
       "      <td>12</td>\n",
       "      <td>Rio de Janeiro</td>\n",
       "      <td>6</td>\n",
       "      <td>1</td>\n",
       "      <td>0</td>\n",
       "    </tr>\n",
       "    <tr>\n",
       "      <th>1</th>\n",
       "      <td>Comércio</td>\n",
       "      <td>790714.38</td>\n",
       "      <td>9</td>\n",
       "      <td>São Paulo</td>\n",
       "      <td>15</td>\n",
       "      <td>0</td>\n",
       "      <td>0</td>\n",
       "    </tr>\n",
       "    <tr>\n",
       "      <th>2</th>\n",
       "      <td>Comércio</td>\n",
       "      <td>1197239.33</td>\n",
       "      <td>17</td>\n",
       "      <td>São Paulo</td>\n",
       "      <td>4</td>\n",
       "      <td>9</td>\n",
       "      <td>1</td>\n",
       "    </tr>\n",
       "    <tr>\n",
       "      <th>3</th>\n",
       "      <td>Indústria</td>\n",
       "      <td>449185.78</td>\n",
       "      <td>15</td>\n",
       "      <td>São Paulo</td>\n",
       "      <td>6</td>\n",
       "      <td>0</td>\n",
       "      <td>0</td>\n",
       "    </tr>\n",
       "    <tr>\n",
       "      <th>4</th>\n",
       "      <td>Agronegócio</td>\n",
       "      <td>1006373.16</td>\n",
       "      <td>15</td>\n",
       "      <td>São Paulo</td>\n",
       "      <td>15</td>\n",
       "      <td>8</td>\n",
       "      <td>1</td>\n",
       "    </tr>\n",
       "    <tr>\n",
       "      <th>5</th>\n",
       "      <td>Serviços</td>\n",
       "      <td>1629562.41</td>\n",
       "      <td>16</td>\n",
       "      <td>Rio de Janeiro</td>\n",
       "      <td>11</td>\n",
       "      <td>4</td>\n",
       "      <td>2</td>\n",
       "    </tr>\n",
       "    <tr>\n",
       "      <th>6</th>\n",
       "      <td>Serviços</td>\n",
       "      <td>771179.95</td>\n",
       "      <td>13</td>\n",
       "      <td>Vitória</td>\n",
       "      <td>0</td>\n",
       "      <td>1</td>\n",
       "      <td>0</td>\n",
       "    </tr>\n",
       "    <tr>\n",
       "      <th>7</th>\n",
       "      <td>Serviços</td>\n",
       "      <td>707837.61</td>\n",
       "      <td>16</td>\n",
       "      <td>São Paulo</td>\n",
       "      <td>10</td>\n",
       "      <td>6</td>\n",
       "      <td>1</td>\n",
       "    </tr>\n",
       "    <tr>\n",
       "      <th>8</th>\n",
       "      <td>Comércio</td>\n",
       "      <td>888983.66</td>\n",
       "      <td>17</td>\n",
       "      <td>Belo Horizonte</td>\n",
       "      <td>10</td>\n",
       "      <td>1</td>\n",
       "      <td>0</td>\n",
       "    </tr>\n",
       "    <tr>\n",
       "      <th>9</th>\n",
       "      <td>Indústria</td>\n",
       "      <td>1098512.64</td>\n",
       "      <td>13</td>\n",
       "      <td>Rio de Janeiro</td>\n",
       "      <td>9</td>\n",
       "      <td>3</td>\n",
       "      <td>2</td>\n",
       "    </tr>\n",
       "  </tbody>\n",
       "</table>\n",
       "</div>"
      ],
      "text/plain": [
       "  atividade_economica  faturamento_mensal  numero_de_funcionarios  \\\n",
       "0            Comércio           713109.95                      12   \n",
       "1            Comércio           790714.38                       9   \n",
       "2            Comércio          1197239.33                      17   \n",
       "3           Indústria           449185.78                      15   \n",
       "4         Agronegócio          1006373.16                      15   \n",
       "5            Serviços          1629562.41                      16   \n",
       "6            Serviços           771179.95                      13   \n",
       "7            Serviços           707837.61                      16   \n",
       "8            Comércio           888983.66                      17   \n",
       "9           Indústria          1098512.64                      13   \n",
       "\n",
       "      localizacao  idade  inovacao  cluster  \n",
       "0  Rio de Janeiro      6         1        0  \n",
       "1       São Paulo     15         0        0  \n",
       "2       São Paulo      4         9        1  \n",
       "3       São Paulo      6         0        0  \n",
       "4       São Paulo     15         8        1  \n",
       "5  Rio de Janeiro     11         4        2  \n",
       "6         Vitória      0         1        0  \n",
       "7       São Paulo     10         6        1  \n",
       "8  Belo Horizonte     10         1        0  \n",
       "9  Rio de Janeiro      9         3        2  "
      ]
     },
     "execution_count": 39,
     "metadata": {},
     "output_type": "execute_result"
    }
   ],
   "source": [
    "df_clientes.head(10)"
   ]
  },
  {
   "cell_type": "markdown",
   "id": "a367e0ee",
   "metadata": {},
   "source": [
    "### Visualizar resultados"
   ]
  },
  {
   "cell_type": "code",
   "execution_count": 40,
   "id": "c86588df",
   "metadata": {},
   "outputs": [
    {
     "data": {
      "application/vnd.plotly.v1+json": {
       "config": {
        "plotlyServerURL": "https://plot.ly"
       },
       "data": [
        {
         "hovertemplate": "idade=%{x}<br>faturamento_mensal=%{y}<br>cluster=%{marker.color}<extra></extra>",
         "legendgroup": "",
         "marker": {
          "color": {
           "bdata": "AAAAAAAAAAABAAAAAAAAAAEAAAACAAAAAAAAAAEAAAAAAAAAAgAAAAIAAAACAAAAAQAAAAIAAAABAAAAAQAAAAEAAAAAAAAAAQAAAAIAAAAAAAAAAAAAAAIAAAACAAAAAAAAAAAAAAABAAAAAQAAAAAAAAAAAAAAAAAAAAEAAAACAAAAAQAAAAIAAAACAAAAAgAAAAEAAAABAAAAAQAAAAEAAAACAAAAAgAAAAIAAAAAAAAAAQAAAAIAAAAAAAAAAQAAAAEAAAABAAAAAAAAAAAAAAACAAAAAAAAAAAAAAAAAAAAAAAAAAIAAAABAAAAAQAAAAIAAAAAAAAAAQAAAAEAAAACAAAAAgAAAAAAAAAAAAAAAAAAAAIAAAAAAAAAAAAAAAEAAAACAAAAAAAAAAAAAAACAAAAAgAAAAEAAAABAAAAAAAAAAAAAAABAAAAAgAAAAEAAAABAAAAAAAAAAAAAAABAAAAAAAAAAIAAAACAAAAAAAAAAAAAAABAAAAAQAAAAEAAAABAAAAAgAAAAAAAAAAAAAAAgAAAAIAAAAAAAAAAgAAAAEAAAACAAAAAgAAAAEAAAABAAAAAQAAAAEAAAABAAAAAAAAAAAAAAABAAAAAAAAAAIAAAACAAAAAAAAAAAAAAACAAAAAgAAAAEAAAAAAAAAAQAAAAIAAAACAAAAAQAAAAEAAAAAAAAAAAAAAAIAAAAAAAAAAAAAAAEAAAABAAAAAAAAAAIAAAABAAAAAAAAAAAAAAAAAAAAAQAAAAAAAAABAAAAAAAAAAEAAAABAAAAAAAAAAIAAAACAAAAAQAAAAAAAAABAAAAAQAAAAEAAAAAAAAAAAAAAAIAAAABAAAAAQAAAAEAAAACAAAAAgAAAAAAAAAAAAAAAQAAAAEAAAABAAAAAQAAAAAAAAACAAAAAQAAAAAAAAABAAAAAQAAAAEAAAABAAAAAAAAAAIAAAABAAAAAQAAAAEAAAACAAAAAQAAAAAAAAABAAAAAQAAAAEAAAAAAAAAAgAAAAEAAAAAAAAAAQAAAAAAAAAAAAAAAgAAAAIAAAACAAAAAQAAAAEAAAAAAAAAAAAAAAEAAAACAAAAAAAAAAIAAAAAAAAAAAAAAAAAAAAAAAAAAAAAAAAAAAACAAAAAgAAAAEAAAAAAAAAAAAAAAEAAAACAAAAAQAAAAEAAAABAAAAAQAAAAAAAAABAAAAAAAAAAIAAAAAAAAAAgAAAAEAAAABAAAAAAAAAAEAAAACAAAAAgAAAAEAAAACAAAAAQAAAAIAAAAAAAAAAAAAAAAAAAABAAAAAgAAAAEAAAABAAAAAQAAAAEAAAAAAAAAAAAAAAAAAAABAAAAAgAAAAEAAAABAAAAAQAAAAAAAAACAAAAAQAAAAAAAAABAAAAAAAAAAIAAAABAAAAAQAAAAAAAAACAAAAAQAAAAEAAAAAAAAAAQAAAAEAAAACAAAAAgAAAAEAAAACAAAAAQAAAAIAAAABAAAAAAAAAAAAAAABAAAAAQAAAAEAAAABAAAAAgAAAAAAAAAAAAAAAQAAAAAAAAACAAAAAQAAAAAAAAABAAAAAgAAAAEAAAAAAAAAAgAAAAEAAAABAAAAAAAAAAAAAAABAAAAAQAAAAIAAAACAAAAAAAAAAAAAAACAAAAAAAAAAAAAAAAAAAAAAAAAAEAAAACAAAAAQAAAAAAAAAAAAAAAQAAAAAAAAABAAAAAQAAAAEAAAABAAAAAQAAAAAAAAABAAAAAQAAAAAAAAACAAAAAQAAAAIAAAACAAAAAAAAAAAAAAABAAAAAQAAAAEAAAACAAAAAQAAAAAAAAAAAAAAAQAAAAAAAAABAAAAAgAAAAEAAAACAAAAAAAAAAEAAAABAAAAAgAAAAEAAAACAAAAAgAAAAEAAAACAAAAAQAAAAAAAAABAAAAAQAAAAIAAAAAAAAAAAAAAAAAAAABAAAAAgAAAAAAAAAAAAAAAgAAAAIAAAABAAAAAQAAAAIAAAACAAAAAAAAAAEAAAACAAAAAQAAAAAAAAABAAAAAQAAAAIAAAAAAAAAAQAAAAEAAAABAAAAAQAAAAIAAAAAAAAAAgAAAAEAAAABAAAAAAAAAAEAAAABAAAAAQAAAAAAAAACAAAAAQAAAAAAAAACAAAAAQAAAAEAAAACAAAAAAAAAAAAAAAAAAAAAQAAAAIAAAABAAAAAQAAAAIAAAABAAAAAgAAAAEAAAACAAAAAQAAAAIAAAACAAAAAgAAAAAAAAACAAAAAgAAAAEAAAAAAAAAAQAAAAIAAAAAAAAAAAAAAAAAAAABAAAAAgAAAAEAAAABAAAAAAAAAAEAAAACAAAAAQAAAAEAAAABAAAAAgAAAAAAAAAAAAAAAgAAAAEAAAACAAAAAAAAAAIAAAAAAAAAAQAAAAAAAAACAAAAAQAAAAEAAAACAAAAAQAAAAEAAAABAAAAAgAAAAAAAAAAAAAAAAAAAAIAAAABAAAAAAAAAAIAAAAAAAAAAAAAAAEAAAABAAAAAgAAAAIAAAACAAAAAQAAAAAAAAAAAAAAAgAAAAEAAAABAAAAAAAAAAEAAAAAAAAAAAAAAAIAAAACAAAAAAAAAAIAAAAAAAAAAAAAAAEAAAAAAAAAAAAAAAEAAAAAAAAAAgAAAAEAAAA=",
           "dtype": "i4"
          },
          "coloraxis": "coloraxis",
          "symbol": "circle"
         },
         "mode": "markers",
         "name": "",
         "orientation": "v",
         "showlegend": false,
         "type": "scatter",
         "x": {
          "bdata": "Bg8EBg8LAAoKCQoJCwkICAgMCgwGEAkNDwcHCQQMAwcMBwUMDAkLBwYJBwYODQwICQkNCAwMAwwICQoHBwoGCggJCgIKDgYNCwYNDAgKCQkJDA0EBwoHDQoLCQoJBwoMCgcPAwUICQQLCgcHCQ4JDAsOCggOCQwLCxADBwsHCgcLBQgLCQgMCgoHBwoKBhAMBwwHBgUHCw0KCgsHDQoNDw0CCwkJDAoFBAsQBwQICQgHBg0IDAYJCwcFDAYKCAoKBwwGCgcICg8FCAoMCQgICgQNDAkHCQYOBwkKBgYMCQsKCAkCDQkHCAcMCAcFBQ0HBQ0GCQULCAQLBgkNBwYJCAgKEAoJCAkHCgwKCQgFBQkLCw4NCQgJDAkKDAwMCQoFDQcNCwcHEAsMDwQHDAcLDQwLCQkGBA4LCwYHDgYLBwwJCQoHBgwKCQYIAg4FCQoDCwkKDAoNCAkGDAoGCgsIBw0LBwgKCg0JCAcJCggICAgJDwsPCwoNDAYMBwYECggICAcICwgMCBAMCwwKEAcLCwUKCggIDAwHDA4KBggIDgMLDA0GBg0JCAsLCAsLBwoNCQwJCwoPCgQNBwoKCAoFEAgHCgoFCwUKCgQGCwkPBxALDAsKDw0HCAQLBgkLCwgGBQENCwUMDQcNBwcICQQKCAYKBQQ=",
          "dtype": "i1"
         },
         "xaxis": "x",
         "y": {
          "bdata": "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",
          "dtype": "f8"
         },
         "yaxis": "y"
        }
       ],
       "layout": {
        "coloraxis": {
         "colorbar": {
          "title": {
           "text": "cluster"
          }
         },
         "colorscale": [
          [
           0,
           "#0d0887"
          ],
          [
           0.1111111111111111,
           "#46039f"
          ],
          [
           0.2222222222222222,
           "#7201a8"
          ],
          [
           0.3333333333333333,
           "#9c179e"
          ],
          [
           0.4444444444444444,
           "#bd3786"
          ],
          [
           0.5555555555555556,
           "#d8576b"
          ],
          [
           0.6666666666666666,
           "#ed7953"
          ],
          [
           0.7777777777777778,
           "#fb9f3a"
          ],
          [
           0.8888888888888888,
           "#fdca26"
          ],
          [
           1,
           "#f0f921"
          ]
         ]
        },
        "legend": {
         "tracegroupgap": 0
        },
        "margin": {
         "t": 60
        },
        "template": {
         "data": {
          "bar": [
           {
            "error_x": {
             "color": "#2a3f5f"
            },
            "error_y": {
             "color": "#2a3f5f"
            },
            "marker": {
             "line": {
              "color": "#E5ECF6",
              "width": 0.5
             },
             "pattern": {
              "fillmode": "overlay",
              "size": 10,
              "solidity": 0.2
             }
            },
            "type": "bar"
           }
          ],
          "barpolar": [
           {
            "marker": {
             "line": {
              "color": "#E5ECF6",
              "width": 0.5
             },
             "pattern": {
              "fillmode": "overlay",
              "size": 10,
              "solidity": 0.2
             }
            },
            "type": "barpolar"
           }
          ],
          "carpet": [
           {
            "aaxis": {
             "endlinecolor": "#2a3f5f",
             "gridcolor": "white",
             "linecolor": "white",
             "minorgridcolor": "white",
             "startlinecolor": "#2a3f5f"
            },
            "baxis": {
             "endlinecolor": "#2a3f5f",
             "gridcolor": "white",
             "linecolor": "white",
             "minorgridcolor": "white",
             "startlinecolor": "#2a3f5f"
            },
            "type": "carpet"
           }
          ],
          "choropleth": [
           {
            "colorbar": {
             "outlinewidth": 0,
             "ticks": ""
            },
            "type": "choropleth"
           }
          ],
          "contour": [
           {
            "colorbar": {
             "outlinewidth": 0,
             "ticks": ""
            },
            "colorscale": [
             [
              0,
              "#0d0887"
             ],
             [
              0.1111111111111111,
              "#46039f"
             ],
             [
              0.2222222222222222,
              "#7201a8"
             ],
             [
              0.3333333333333333,
              "#9c179e"
             ],
             [
              0.4444444444444444,
              "#bd3786"
             ],
             [
              0.5555555555555556,
              "#d8576b"
             ],
             [
              0.6666666666666666,
              "#ed7953"
             ],
             [
              0.7777777777777778,
              "#fb9f3a"
             ],
             [
              0.8888888888888888,
              "#fdca26"
             ],
             [
              1,
              "#f0f921"
             ]
            ],
            "type": "contour"
           }
          ],
          "contourcarpet": [
           {
            "colorbar": {
             "outlinewidth": 0,
             "ticks": ""
            },
            "type": "contourcarpet"
           }
          ],
          "heatmap": [
           {
            "colorbar": {
             "outlinewidth": 0,
             "ticks": ""
            },
            "colorscale": [
             [
              0,
              "#0d0887"
             ],
             [
              0.1111111111111111,
              "#46039f"
             ],
             [
              0.2222222222222222,
              "#7201a8"
             ],
             [
              0.3333333333333333,
              "#9c179e"
             ],
             [
              0.4444444444444444,
              "#bd3786"
             ],
             [
              0.5555555555555556,
              "#d8576b"
             ],
             [
              0.6666666666666666,
              "#ed7953"
             ],
             [
              0.7777777777777778,
              "#fb9f3a"
             ],
             [
              0.8888888888888888,
              "#fdca26"
             ],
             [
              1,
              "#f0f921"
             ]
            ],
            "type": "heatmap"
           }
          ],
          "histogram": [
           {
            "marker": {
             "pattern": {
              "fillmode": "overlay",
              "size": 10,
              "solidity": 0.2
             }
            },
            "type": "histogram"
           }
          ],
          "histogram2d": [
           {
            "colorbar": {
             "outlinewidth": 0,
             "ticks": ""
            },
            "colorscale": [
             [
              0,
              "#0d0887"
             ],
             [
              0.1111111111111111,
              "#46039f"
             ],
             [
              0.2222222222222222,
              "#7201a8"
             ],
             [
              0.3333333333333333,
              "#9c179e"
             ],
             [
              0.4444444444444444,
              "#bd3786"
             ],
             [
              0.5555555555555556,
              "#d8576b"
             ],
             [
              0.6666666666666666,
              "#ed7953"
             ],
             [
              0.7777777777777778,
              "#fb9f3a"
             ],
             [
              0.8888888888888888,
              "#fdca26"
             ],
             [
              1,
              "#f0f921"
             ]
            ],
            "type": "histogram2d"
           }
          ],
          "histogram2dcontour": [
           {
            "colorbar": {
             "outlinewidth": 0,
             "ticks": ""
            },
            "colorscale": [
             [
              0,
              "#0d0887"
             ],
             [
              0.1111111111111111,
              "#46039f"
             ],
             [
              0.2222222222222222,
              "#7201a8"
             ],
             [
              0.3333333333333333,
              "#9c179e"
             ],
             [
              0.4444444444444444,
              "#bd3786"
             ],
             [
              0.5555555555555556,
              "#d8576b"
             ],
             [
              0.6666666666666666,
              "#ed7953"
             ],
             [
              0.7777777777777778,
              "#fb9f3a"
             ],
             [
              0.8888888888888888,
              "#fdca26"
             ],
             [
              1,
              "#f0f921"
             ]
            ],
            "type": "histogram2dcontour"
           }
          ],
          "mesh3d": [
           {
            "colorbar": {
             "outlinewidth": 0,
             "ticks": ""
            },
            "type": "mesh3d"
           }
          ],
          "parcoords": [
           {
            "line": {
             "colorbar": {
              "outlinewidth": 0,
              "ticks": ""
             }
            },
            "type": "parcoords"
           }
          ],
          "pie": [
           {
            "automargin": true,
            "type": "pie"
           }
          ],
          "scatter": [
           {
            "fillpattern": {
             "fillmode": "overlay",
             "size": 10,
             "solidity": 0.2
            },
            "type": "scatter"
           }
          ],
          "scatter3d": [
           {
            "line": {
             "colorbar": {
              "outlinewidth": 0,
              "ticks": ""
             }
            },
            "marker": {
             "colorbar": {
              "outlinewidth": 0,
              "ticks": ""
             }
            },
            "type": "scatter3d"
           }
          ],
          "scattercarpet": [
           {
            "marker": {
             "colorbar": {
              "outlinewidth": 0,
              "ticks": ""
             }
            },
            "type": "scattercarpet"
           }
          ],
          "scattergeo": [
           {
            "marker": {
             "colorbar": {
              "outlinewidth": 0,
              "ticks": ""
             }
            },
            "type": "scattergeo"
           }
          ],
          "scattergl": [
           {
            "marker": {
             "colorbar": {
              "outlinewidth": 0,
              "ticks": ""
             }
            },
            "type": "scattergl"
           }
          ],
          "scattermap": [
           {
            "marker": {
             "colorbar": {
              "outlinewidth": 0,
              "ticks": ""
             }
            },
            "type": "scattermap"
           }
          ],
          "scattermapbox": [
           {
            "marker": {
             "colorbar": {
              "outlinewidth": 0,
              "ticks": ""
             }
            },
            "type": "scattermapbox"
           }
          ],
          "scatterpolar": [
           {
            "marker": {
             "colorbar": {
              "outlinewidth": 0,
              "ticks": ""
             }
            },
            "type": "scatterpolar"
           }
          ],
          "scatterpolargl": [
           {
            "marker": {
             "colorbar": {
              "outlinewidth": 0,
              "ticks": ""
             }
            },
            "type": "scatterpolargl"
           }
          ],
          "scatterternary": [
           {
            "marker": {
             "colorbar": {
              "outlinewidth": 0,
              "ticks": ""
             }
            },
            "type": "scatterternary"
           }
          ],
          "surface": [
           {
            "colorbar": {
             "outlinewidth": 0,
             "ticks": ""
            },
            "colorscale": [
             [
              0,
              "#0d0887"
             ],
             [
              0.1111111111111111,
              "#46039f"
             ],
             [
              0.2222222222222222,
              "#7201a8"
             ],
             [
              0.3333333333333333,
              "#9c179e"
             ],
             [
              0.4444444444444444,
              "#bd3786"
             ],
             [
              0.5555555555555556,
              "#d8576b"
             ],
             [
              0.6666666666666666,
              "#ed7953"
             ],
             [
              0.7777777777777778,
              "#fb9f3a"
             ],
             [
              0.8888888888888888,
              "#fdca26"
             ],
             [
              1,
              "#f0f921"
             ]
            ],
            "type": "surface"
           }
          ],
          "table": [
           {
            "cells": {
             "fill": {
              "color": "#EBF0F8"
             },
             "line": {
              "color": "white"
             }
            },
            "header": {
             "fill": {
              "color": "#C8D4E3"
             },
             "line": {
              "color": "white"
             }
            },
            "type": "table"
           }
          ]
         },
         "layout": {
          "annotationdefaults": {
           "arrowcolor": "#2a3f5f",
           "arrowhead": 0,
           "arrowwidth": 1
          },
          "autotypenumbers": "strict",
          "coloraxis": {
           "colorbar": {
            "outlinewidth": 0,
            "ticks": ""
           }
          },
          "colorscale": {
           "diverging": [
            [
             0,
             "#8e0152"
            ],
            [
             0.1,
             "#c51b7d"
            ],
            [
             0.2,
             "#de77ae"
            ],
            [
             0.3,
             "#f1b6da"
            ],
            [
             0.4,
             "#fde0ef"
            ],
            [
             0.5,
             "#f7f7f7"
            ],
            [
             0.6,
             "#e6f5d0"
            ],
            [
             0.7,
             "#b8e186"
            ],
            [
             0.8,
             "#7fbc41"
            ],
            [
             0.9,
             "#4d9221"
            ],
            [
             1,
             "#276419"
            ]
           ],
           "sequential": [
            [
             0,
             "#0d0887"
            ],
            [
             0.1111111111111111,
             "#46039f"
            ],
            [
             0.2222222222222222,
             "#7201a8"
            ],
            [
             0.3333333333333333,
             "#9c179e"
            ],
            [
             0.4444444444444444,
             "#bd3786"
            ],
            [
             0.5555555555555556,
             "#d8576b"
            ],
            [
             0.6666666666666666,
             "#ed7953"
            ],
            [
             0.7777777777777778,
             "#fb9f3a"
            ],
            [
             0.8888888888888888,
             "#fdca26"
            ],
            [
             1,
             "#f0f921"
            ]
           ],
           "sequentialminus": [
            [
             0,
             "#0d0887"
            ],
            [
             0.1111111111111111,
             "#46039f"
            ],
            [
             0.2222222222222222,
             "#7201a8"
            ],
            [
             0.3333333333333333,
             "#9c179e"
            ],
            [
             0.4444444444444444,
             "#bd3786"
            ],
            [
             0.5555555555555556,
             "#d8576b"
            ],
            [
             0.6666666666666666,
             "#ed7953"
            ],
            [
             0.7777777777777778,
             "#fb9f3a"
            ],
            [
             0.8888888888888888,
             "#fdca26"
            ],
            [
             1,
             "#f0f921"
            ]
           ]
          },
          "colorway": [
           "#636efa",
           "#EF553B",
           "#00cc96",
           "#ab63fa",
           "#FFA15A",
           "#19d3f3",
           "#FF6692",
           "#B6E880",
           "#FF97FF",
           "#FECB52"
          ],
          "font": {
           "color": "#2a3f5f"
          },
          "geo": {
           "bgcolor": "white",
           "lakecolor": "white",
           "landcolor": "#E5ECF6",
           "showlakes": true,
           "showland": true,
           "subunitcolor": "white"
          },
          "hoverlabel": {
           "align": "left"
          },
          "hovermode": "closest",
          "mapbox": {
           "style": "light"
          },
          "paper_bgcolor": "white",
          "plot_bgcolor": "#E5ECF6",
          "polar": {
           "angularaxis": {
            "gridcolor": "white",
            "linecolor": "white",
            "ticks": ""
           },
           "bgcolor": "#E5ECF6",
           "radialaxis": {
            "gridcolor": "white",
            "linecolor": "white",
            "ticks": ""
           }
          },
          "scene": {
           "xaxis": {
            "backgroundcolor": "#E5ECF6",
            "gridcolor": "white",
            "gridwidth": 2,
            "linecolor": "white",
            "showbackground": true,
            "ticks": "",
            "zerolinecolor": "white"
           },
           "yaxis": {
            "backgroundcolor": "#E5ECF6",
            "gridcolor": "white",
            "gridwidth": 2,
            "linecolor": "white",
            "showbackground": true,
            "ticks": "",
            "zerolinecolor": "white"
           },
           "zaxis": {
            "backgroundcolor": "#E5ECF6",
            "gridcolor": "white",
            "gridwidth": 2,
            "linecolor": "white",
            "showbackground": true,
            "ticks": "",
            "zerolinecolor": "white"
           }
          },
          "shapedefaults": {
           "line": {
            "color": "#2a3f5f"
           }
          },
          "ternary": {
           "aaxis": {
            "gridcolor": "white",
            "linecolor": "white",
            "ticks": ""
           },
           "baxis": {
            "gridcolor": "white",
            "linecolor": "white",
            "ticks": ""
           },
           "bgcolor": "#E5ECF6",
           "caxis": {
            "gridcolor": "white",
            "linecolor": "white",
            "ticks": ""
           }
          },
          "title": {
           "x": 0.05
          },
          "xaxis": {
           "automargin": true,
           "gridcolor": "white",
           "linecolor": "white",
           "ticks": "",
           "title": {
            "standoff": 15
           },
           "zerolinecolor": "white",
           "zerolinewidth": 2
          },
          "yaxis": {
           "automargin": true,
           "gridcolor": "white",
           "linecolor": "white",
           "ticks": "",
           "title": {
            "standoff": 15
           },
           "zerolinecolor": "white",
           "zerolinewidth": 2
          }
         }
        },
        "xaxis": {
         "anchor": "y",
         "domain": [
          0,
          1
         ],
         "title": {
          "text": "idade"
         }
        },
        "yaxis": {
         "anchor": "x",
         "domain": [
          0,
          1
         ],
         "title": {
          "text": "faturamento_mensal"
         }
        }
       }
      }
     },
     "metadata": {},
     "output_type": "display_data"
    }
   ],
   "source": [
    "# Cruzar dados de idade, faturamento mensal e clusters\n",
    "px.scatter(df_clientes, x='idade', y='faturamento_mensal', color='cluster')"
   ]
  },
  {
   "cell_type": "code",
   "execution_count": 41,
   "id": "c3a84af0",
   "metadata": {},
   "outputs": [
    {
     "data": {
      "application/vnd.plotly.v1+json": {
       "config": {
        "plotlyServerURL": "https://plot.ly"
       },
       "data": [
        {
         "hovertemplate": "inovacao=%{x}<br>faturamento_mensal=%{y}<br>cluster=%{marker.color}<extra></extra>",
         "legendgroup": "",
         "marker": {
          "color": {
           "bdata": "AAAAAAAAAAABAAAAAAAAAAEAAAACAAAAAAAAAAEAAAAAAAAAAgAAAAIAAAACAAAAAQAAAAIAAAABAAAAAQAAAAEAAAAAAAAAAQAAAAIAAAAAAAAAAAAAAAIAAAACAAAAAAAAAAAAAAABAAAAAQAAAAAAAAAAAAAAAAAAAAEAAAACAAAAAQAAAAIAAAACAAAAAgAAAAEAAAABAAAAAQAAAAEAAAACAAAAAgAAAAIAAAAAAAAAAQAAAAIAAAAAAAAAAQAAAAEAAAABAAAAAAAAAAAAAAACAAAAAAAAAAAAAAAAAAAAAAAAAAIAAAABAAAAAQAAAAIAAAAAAAAAAQAAAAEAAAACAAAAAgAAAAAAAAAAAAAAAAAAAAIAAAAAAAAAAAAAAAEAAAACAAAAAAAAAAAAAAACAAAAAgAAAAEAAAABAAAAAAAAAAAAAAABAAAAAgAAAAEAAAABAAAAAAAAAAAAAAABAAAAAAAAAAIAAAACAAAAAAAAAAAAAAABAAAAAQAAAAEAAAABAAAAAgAAAAAAAAAAAAAAAgAAAAIAAAAAAAAAAgAAAAEAAAACAAAAAgAAAAEAAAABAAAAAQAAAAEAAAABAAAAAAAAAAAAAAABAAAAAAAAAAIAAAACAAAAAAAAAAAAAAACAAAAAgAAAAEAAAAAAAAAAQAAAAIAAAACAAAAAQAAAAEAAAAAAAAAAAAAAAIAAAAAAAAAAAAAAAEAAAABAAAAAAAAAAIAAAABAAAAAAAAAAAAAAAAAAAAAQAAAAAAAAABAAAAAAAAAAEAAAABAAAAAAAAAAIAAAACAAAAAQAAAAAAAAABAAAAAQAAAAEAAAAAAAAAAAAAAAIAAAABAAAAAQAAAAEAAAACAAAAAgAAAAAAAAAAAAAAAQAAAAEAAAABAAAAAQAAAAAAAAACAAAAAQAAAAAAAAABAAAAAQAAAAEAAAABAAAAAAAAAAIAAAABAAAAAQAAAAEAAAACAAAAAQAAAAAAAAABAAAAAQAAAAEAAAAAAAAAAgAAAAEAAAAAAAAAAQAAAAAAAAAAAAAAAgAAAAIAAAACAAAAAQAAAAEAAAAAAAAAAAAAAAEAAAACAAAAAAAAAAIAAAAAAAAAAAAAAAAAAAAAAAAAAAAAAAAAAAACAAAAAgAAAAEAAAAAAAAAAAAAAAEAAAACAAAAAQAAAAEAAAABAAAAAQAAAAAAAAABAAAAAAAAAAIAAAAAAAAAAgAAAAEAAAABAAAAAAAAAAEAAAACAAAAAgAAAAEAAAACAAAAAQAAAAIAAAAAAAAAAAAAAAAAAAABAAAAAgAAAAEAAAABAAAAAQAAAAEAAAAAAAAAAAAAAAAAAAABAAAAAgAAAAEAAAABAAAAAQAAAAAAAAACAAAAAQAAAAAAAAABAAAAAAAAAAIAAAABAAAAAQAAAAAAAAACAAAAAQAAAAEAAAAAAAAAAQAAAAEAAAACAAAAAgAAAAEAAAACAAAAAQAAAAIAAAABAAAAAAAAAAAAAAABAAAAAQAAAAEAAAABAAAAAgAAAAAAAAAAAAAAAQAAAAAAAAACAAAAAQAAAAAAAAABAAAAAgAAAAEAAAAAAAAAAgAAAAEAAAABAAAAAAAAAAAAAAABAAAAAQAAAAIAAAACAAAAAAAAAAAAAAACAAAAAAAAAAAAAAAAAAAAAAAAAAEAAAACAAAAAQAAAAAAAAAAAAAAAQAAAAAAAAABAAAAAQAAAAEAAAABAAAAAQAAAAAAAAABAAAAAQAAAAAAAAACAAAAAQAAAAIAAAACAAAAAAAAAAAAAAABAAAAAQAAAAEAAAACAAAAAQAAAAAAAAAAAAAAAQAAAAAAAAABAAAAAgAAAAEAAAACAAAAAAAAAAEAAAABAAAAAgAAAAEAAAACAAAAAgAAAAEAAAACAAAAAQAAAAAAAAABAAAAAQAAAAIAAAAAAAAAAAAAAAAAAAABAAAAAgAAAAAAAAAAAAAAAgAAAAIAAAABAAAAAQAAAAIAAAACAAAAAAAAAAEAAAACAAAAAQAAAAAAAAABAAAAAQAAAAIAAAAAAAAAAQAAAAEAAAABAAAAAQAAAAIAAAAAAAAAAgAAAAEAAAABAAAAAAAAAAEAAAABAAAAAQAAAAAAAAACAAAAAQAAAAAAAAACAAAAAQAAAAEAAAACAAAAAAAAAAAAAAAAAAAAAQAAAAIAAAABAAAAAQAAAAIAAAABAAAAAgAAAAEAAAACAAAAAQAAAAIAAAACAAAAAgAAAAAAAAACAAAAAgAAAAEAAAAAAAAAAQAAAAIAAAAAAAAAAAAAAAAAAAABAAAAAgAAAAEAAAABAAAAAAAAAAEAAAACAAAAAQAAAAEAAAABAAAAAgAAAAAAAAAAAAAAAgAAAAEAAAACAAAAAAAAAAIAAAAAAAAAAQAAAAAAAAACAAAAAQAAAAEAAAACAAAAAQAAAAEAAAABAAAAAgAAAAAAAAAAAAAAAAAAAAIAAAABAAAAAAAAAAIAAAAAAAAAAAAAAAEAAAABAAAAAgAAAAIAAAACAAAAAQAAAAAAAAAAAAAAAgAAAAEAAAABAAAAAAAAAAEAAAAAAAAAAAAAAAIAAAACAAAAAAAAAAIAAAAAAAAAAAAAAAEAAAAAAAAAAAAAAAEAAAAAAAAAAgAAAAEAAAA=",
           "dtype": "i4"
          },
          "coloraxis": "coloraxis",
          "symbol": "circle"
         },
         "mode": "markers",
         "name": "",
         "orientation": "v",
         "showlegend": false,
         "type": "scatter",
         "x": {
          "bdata": "AQAJAAgEAQYBAwQEBgMIBwgABwUCAgQFAgEHBgIBAgkFBgUDBQYIBwYDAwQBCQMACAcGAQIDAAACAQUJCQQBBwgDBQIAAQUBAQcFAgIDBQgHAgIHAwkGAQAGAAMEAQIIBwYJBAEBBAUAAwgDBQkIBwcHAAIIAAQDAAIFBAkCCQQECQYAAQMCAgkGAAQHAAECCQIHAAYGAgMFBwIGBwcCAgQJCAYDBQEBCQcJBgIEBgAJCQgHAAQHCQYFCAEJCAkAAwgBCAEABAQDCAcBAAcEAQUAAAIBAAIEAwkBAAkFBgYHCAIIAAMAAwcGAgcFBAgEBwMBAgIJAwYIBgkAAAEGBQcGBwAFCQIIAgQJBwADBwYACAYFBAcFBgQJAgAHBwgIBAIBCAEDCQAGBAgBBQgGAQEICAMFAgADAQECAAcDCQECBgIHBwYJBgEJBgEDCAMEAgAJCQkEBgECBwAGAwgFAAYHBQYDBQcDBwAICAUCAQAIBAIBBAQJBwUDAgYFCQAICQMCBwgIBgMBBQYHAQgHBgIECQEECQgDAQECBgUHBgQGAwkDBwMEAwEDBQYCBwMAAQIJBQYGAQYFCQYJBAIABAgFAQUBBgEEBwYEBwYHBQIAAQMIAgUAAAcIBAMECAACBQcIAAkCAQUFAQMAAggBAgkAAwk=",
          "dtype": "i1"
         },
         "xaxis": "x",
         "y": {
          "bdata": "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",
          "dtype": "f8"
         },
         "yaxis": "y"
        }
       ],
       "layout": {
        "coloraxis": {
         "colorbar": {
          "title": {
           "text": "cluster"
          }
         },
         "colorscale": [
          [
           0,
           "#0d0887"
          ],
          [
           0.1111111111111111,
           "#46039f"
          ],
          [
           0.2222222222222222,
           "#7201a8"
          ],
          [
           0.3333333333333333,
           "#9c179e"
          ],
          [
           0.4444444444444444,
           "#bd3786"
          ],
          [
           0.5555555555555556,
           "#d8576b"
          ],
          [
           0.6666666666666666,
           "#ed7953"
          ],
          [
           0.7777777777777778,
           "#fb9f3a"
          ],
          [
           0.8888888888888888,
           "#fdca26"
          ],
          [
           1,
           "#f0f921"
          ]
         ]
        },
        "legend": {
         "tracegroupgap": 0
        },
        "margin": {
         "t": 60
        },
        "template": {
         "data": {
          "bar": [
           {
            "error_x": {
             "color": "#2a3f5f"
            },
            "error_y": {
             "color": "#2a3f5f"
            },
            "marker": {
             "line": {
              "color": "#E5ECF6",
              "width": 0.5
             },
             "pattern": {
              "fillmode": "overlay",
              "size": 10,
              "solidity": 0.2
             }
            },
            "type": "bar"
           }
          ],
          "barpolar": [
           {
            "marker": {
             "line": {
              "color": "#E5ECF6",
              "width": 0.5
             },
             "pattern": {
              "fillmode": "overlay",
              "size": 10,
              "solidity": 0.2
             }
            },
            "type": "barpolar"
           }
          ],
          "carpet": [
           {
            "aaxis": {
             "endlinecolor": "#2a3f5f",
             "gridcolor": "white",
             "linecolor": "white",
             "minorgridcolor": "white",
             "startlinecolor": "#2a3f5f"
            },
            "baxis": {
             "endlinecolor": "#2a3f5f",
             "gridcolor": "white",
             "linecolor": "white",
             "minorgridcolor": "white",
             "startlinecolor": "#2a3f5f"
            },
            "type": "carpet"
           }
          ],
          "choropleth": [
           {
            "colorbar": {
             "outlinewidth": 0,
             "ticks": ""
            },
            "type": "choropleth"
           }
          ],
          "contour": [
           {
            "colorbar": {
             "outlinewidth": 0,
             "ticks": ""
            },
            "colorscale": [
             [
              0,
              "#0d0887"
             ],
             [
              0.1111111111111111,
              "#46039f"
             ],
             [
              0.2222222222222222,
              "#7201a8"
             ],
             [
              0.3333333333333333,
              "#9c179e"
             ],
             [
              0.4444444444444444,
              "#bd3786"
             ],
             [
              0.5555555555555556,
              "#d8576b"
             ],
             [
              0.6666666666666666,
              "#ed7953"
             ],
             [
              0.7777777777777778,
              "#fb9f3a"
             ],
             [
              0.8888888888888888,
              "#fdca26"
             ],
             [
              1,
              "#f0f921"
             ]
            ],
            "type": "contour"
           }
          ],
          "contourcarpet": [
           {
            "colorbar": {
             "outlinewidth": 0,
             "ticks": ""
            },
            "type": "contourcarpet"
           }
          ],
          "heatmap": [
           {
            "colorbar": {
             "outlinewidth": 0,
             "ticks": ""
            },
            "colorscale": [
             [
              0,
              "#0d0887"
             ],
             [
              0.1111111111111111,
              "#46039f"
             ],
             [
              0.2222222222222222,
              "#7201a8"
             ],
             [
              0.3333333333333333,
              "#9c179e"
             ],
             [
              0.4444444444444444,
              "#bd3786"
             ],
             [
              0.5555555555555556,
              "#d8576b"
             ],
             [
              0.6666666666666666,
              "#ed7953"
             ],
             [
              0.7777777777777778,
              "#fb9f3a"
             ],
             [
              0.8888888888888888,
              "#fdca26"
             ],
             [
              1,
              "#f0f921"
             ]
            ],
            "type": "heatmap"
           }
          ],
          "histogram": [
           {
            "marker": {
             "pattern": {
              "fillmode": "overlay",
              "size": 10,
              "solidity": 0.2
             }
            },
            "type": "histogram"
           }
          ],
          "histogram2d": [
           {
            "colorbar": {
             "outlinewidth": 0,
             "ticks": ""
            },
            "colorscale": [
             [
              0,
              "#0d0887"
             ],
             [
              0.1111111111111111,
              "#46039f"
             ],
             [
              0.2222222222222222,
              "#7201a8"
             ],
             [
              0.3333333333333333,
              "#9c179e"
             ],
             [
              0.4444444444444444,
              "#bd3786"
             ],
             [
              0.5555555555555556,
              "#d8576b"
             ],
             [
              0.6666666666666666,
              "#ed7953"
             ],
             [
              0.7777777777777778,
              "#fb9f3a"
             ],
             [
              0.8888888888888888,
              "#fdca26"
             ],
             [
              1,
              "#f0f921"
             ]
            ],
            "type": "histogram2d"
           }
          ],
          "histogram2dcontour": [
           {
            "colorbar": {
             "outlinewidth": 0,
             "ticks": ""
            },
            "colorscale": [
             [
              0,
              "#0d0887"
             ],
             [
              0.1111111111111111,
              "#46039f"
             ],
             [
              0.2222222222222222,
              "#7201a8"
             ],
             [
              0.3333333333333333,
              "#9c179e"
             ],
             [
              0.4444444444444444,
              "#bd3786"
             ],
             [
              0.5555555555555556,
              "#d8576b"
             ],
             [
              0.6666666666666666,
              "#ed7953"
             ],
             [
              0.7777777777777778,
              "#fb9f3a"
             ],
             [
              0.8888888888888888,
              "#fdca26"
             ],
             [
              1,
              "#f0f921"
             ]
            ],
            "type": "histogram2dcontour"
           }
          ],
          "mesh3d": [
           {
            "colorbar": {
             "outlinewidth": 0,
             "ticks": ""
            },
            "type": "mesh3d"
           }
          ],
          "parcoords": [
           {
            "line": {
             "colorbar": {
              "outlinewidth": 0,
              "ticks": ""
             }
            },
            "type": "parcoords"
           }
          ],
          "pie": [
           {
            "automargin": true,
            "type": "pie"
           }
          ],
          "scatter": [
           {
            "fillpattern": {
             "fillmode": "overlay",
             "size": 10,
             "solidity": 0.2
            },
            "type": "scatter"
           }
          ],
          "scatter3d": [
           {
            "line": {
             "colorbar": {
              "outlinewidth": 0,
              "ticks": ""
             }
            },
            "marker": {
             "colorbar": {
              "outlinewidth": 0,
              "ticks": ""
             }
            },
            "type": "scatter3d"
           }
          ],
          "scattercarpet": [
           {
            "marker": {
             "colorbar": {
              "outlinewidth": 0,
              "ticks": ""
             }
            },
            "type": "scattercarpet"
           }
          ],
          "scattergeo": [
           {
            "marker": {
             "colorbar": {
              "outlinewidth": 0,
              "ticks": ""
             }
            },
            "type": "scattergeo"
           }
          ],
          "scattergl": [
           {
            "marker": {
             "colorbar": {
              "outlinewidth": 0,
              "ticks": ""
             }
            },
            "type": "scattergl"
           }
          ],
          "scattermap": [
           {
            "marker": {
             "colorbar": {
              "outlinewidth": 0,
              "ticks": ""
             }
            },
            "type": "scattermap"
           }
          ],
          "scattermapbox": [
           {
            "marker": {
             "colorbar": {
              "outlinewidth": 0,
              "ticks": ""
             }
            },
            "type": "scattermapbox"
           }
          ],
          "scatterpolar": [
           {
            "marker": {
             "colorbar": {
              "outlinewidth": 0,
              "ticks": ""
             }
            },
            "type": "scatterpolar"
           }
          ],
          "scatterpolargl": [
           {
            "marker": {
             "colorbar": {
              "outlinewidth": 0,
              "ticks": ""
             }
            },
            "type": "scatterpolargl"
           }
          ],
          "scatterternary": [
           {
            "marker": {
             "colorbar": {
              "outlinewidth": 0,
              "ticks": ""
             }
            },
            "type": "scatterternary"
           }
          ],
          "surface": [
           {
            "colorbar": {
             "outlinewidth": 0,
             "ticks": ""
            },
            "colorscale": [
             [
              0,
              "#0d0887"
             ],
             [
              0.1111111111111111,
              "#46039f"
             ],
             [
              0.2222222222222222,
              "#7201a8"
             ],
             [
              0.3333333333333333,
              "#9c179e"
             ],
             [
              0.4444444444444444,
              "#bd3786"
             ],
             [
              0.5555555555555556,
              "#d8576b"
             ],
             [
              0.6666666666666666,
              "#ed7953"
             ],
             [
              0.7777777777777778,
              "#fb9f3a"
             ],
             [
              0.8888888888888888,
              "#fdca26"
             ],
             [
              1,
              "#f0f921"
             ]
            ],
            "type": "surface"
           }
          ],
          "table": [
           {
            "cells": {
             "fill": {
              "color": "#EBF0F8"
             },
             "line": {
              "color": "white"
             }
            },
            "header": {
             "fill": {
              "color": "#C8D4E3"
             },
             "line": {
              "color": "white"
             }
            },
            "type": "table"
           }
          ]
         },
         "layout": {
          "annotationdefaults": {
           "arrowcolor": "#2a3f5f",
           "arrowhead": 0,
           "arrowwidth": 1
          },
          "autotypenumbers": "strict",
          "coloraxis": {
           "colorbar": {
            "outlinewidth": 0,
            "ticks": ""
           }
          },
          "colorscale": {
           "diverging": [
            [
             0,
             "#8e0152"
            ],
            [
             0.1,
             "#c51b7d"
            ],
            [
             0.2,
             "#de77ae"
            ],
            [
             0.3,
             "#f1b6da"
            ],
            [
             0.4,
             "#fde0ef"
            ],
            [
             0.5,
             "#f7f7f7"
            ],
            [
             0.6,
             "#e6f5d0"
            ],
            [
             0.7,
             "#b8e186"
            ],
            [
             0.8,
             "#7fbc41"
            ],
            [
             0.9,
             "#4d9221"
            ],
            [
             1,
             "#276419"
            ]
           ],
           "sequential": [
            [
             0,
             "#0d0887"
            ],
            [
             0.1111111111111111,
             "#46039f"
            ],
            [
             0.2222222222222222,
             "#7201a8"
            ],
            [
             0.3333333333333333,
             "#9c179e"
            ],
            [
             0.4444444444444444,
             "#bd3786"
            ],
            [
             0.5555555555555556,
             "#d8576b"
            ],
            [
             0.6666666666666666,
             "#ed7953"
            ],
            [
             0.7777777777777778,
             "#fb9f3a"
            ],
            [
             0.8888888888888888,
             "#fdca26"
            ],
            [
             1,
             "#f0f921"
            ]
           ],
           "sequentialminus": [
            [
             0,
             "#0d0887"
            ],
            [
             0.1111111111111111,
             "#46039f"
            ],
            [
             0.2222222222222222,
             "#7201a8"
            ],
            [
             0.3333333333333333,
             "#9c179e"
            ],
            [
             0.4444444444444444,
             "#bd3786"
            ],
            [
             0.5555555555555556,
             "#d8576b"
            ],
            [
             0.6666666666666666,
             "#ed7953"
            ],
            [
             0.7777777777777778,
             "#fb9f3a"
            ],
            [
             0.8888888888888888,
             "#fdca26"
            ],
            [
             1,
             "#f0f921"
            ]
           ]
          },
          "colorway": [
           "#636efa",
           "#EF553B",
           "#00cc96",
           "#ab63fa",
           "#FFA15A",
           "#19d3f3",
           "#FF6692",
           "#B6E880",
           "#FF97FF",
           "#FECB52"
          ],
          "font": {
           "color": "#2a3f5f"
          },
          "geo": {
           "bgcolor": "white",
           "lakecolor": "white",
           "landcolor": "#E5ECF6",
           "showlakes": true,
           "showland": true,
           "subunitcolor": "white"
          },
          "hoverlabel": {
           "align": "left"
          },
          "hovermode": "closest",
          "mapbox": {
           "style": "light"
          },
          "paper_bgcolor": "white",
          "plot_bgcolor": "#E5ECF6",
          "polar": {
           "angularaxis": {
            "gridcolor": "white",
            "linecolor": "white",
            "ticks": ""
           },
           "bgcolor": "#E5ECF6",
           "radialaxis": {
            "gridcolor": "white",
            "linecolor": "white",
            "ticks": ""
           }
          },
          "scene": {
           "xaxis": {
            "backgroundcolor": "#E5ECF6",
            "gridcolor": "white",
            "gridwidth": 2,
            "linecolor": "white",
            "showbackground": true,
            "ticks": "",
            "zerolinecolor": "white"
           },
           "yaxis": {
            "backgroundcolor": "#E5ECF6",
            "gridcolor": "white",
            "gridwidth": 2,
            "linecolor": "white",
            "showbackground": true,
            "ticks": "",
            "zerolinecolor": "white"
           },
           "zaxis": {
            "backgroundcolor": "#E5ECF6",
            "gridcolor": "white",
            "gridwidth": 2,
            "linecolor": "white",
            "showbackground": true,
            "ticks": "",
            "zerolinecolor": "white"
           }
          },
          "shapedefaults": {
           "line": {
            "color": "#2a3f5f"
           }
          },
          "ternary": {
           "aaxis": {
            "gridcolor": "white",
            "linecolor": "white",
            "ticks": ""
           },
           "baxis": {
            "gridcolor": "white",
            "linecolor": "white",
            "ticks": ""
           },
           "bgcolor": "#E5ECF6",
           "caxis": {
            "gridcolor": "white",
            "linecolor": "white",
            "ticks": ""
           }
          },
          "title": {
           "x": 0.05
          },
          "xaxis": {
           "automargin": true,
           "gridcolor": "white",
           "linecolor": "white",
           "ticks": "",
           "title": {
            "standoff": 15
           },
           "zerolinecolor": "white",
           "zerolinewidth": 2
          },
          "yaxis": {
           "automargin": true,
           "gridcolor": "white",
           "linecolor": "white",
           "ticks": "",
           "title": {
            "standoff": 15
           },
           "zerolinecolor": "white",
           "zerolinewidth": 2
          }
         }
        },
        "xaxis": {
         "anchor": "y",
         "domain": [
          0,
          1
         ],
         "title": {
          "text": "inovacao"
         }
        },
        "yaxis": {
         "anchor": "x",
         "domain": [
          0,
          1
         ],
         "title": {
          "text": "faturamento_mensal"
         }
        }
       }
      }
     },
     "metadata": {},
     "output_type": "display_data"
    }
   ],
   "source": [
    "# Cruzar dados de inovacao, faturamento mensal e clusters\n",
    "px.scatter(df_clientes, x='inovacao', y='faturamento_mensal', color='cluster')"
   ]
  },
  {
   "cell_type": "code",
   "execution_count": null,
   "id": "c8a92678",
   "metadata": {},
   "outputs": [
    {
     "data": {
      "application/vnd.plotly.v1+json": {
       "config": {
        "plotlyServerURL": "https://plot.ly"
       },
       "data": [
        {
         "hovertemplate": "inovacao=%{x}<br>idade=%{y}<br>cluster=%{marker.color}<extra></extra>",
         "legendgroup": "",
         "marker": {
          "color": {
           "bdata": "AAAAAAAAAAABAAAAAAAAAAEAAAACAAAAAAAAAAEAAAAAAAAAAgAAAAIAAAACAAAAAQAAAAIAAAABAAAAAQAAAAEAAAAAAAAAAQAAAAIAAAAAAAAAAAAAAAIAAAACAAAAAAAAAAAAAAABAAAAAQAAAAAAAAAAAAAAAAAAAAEAAAACAAAAAQAAAAIAAAACAAAAAgAAAAEAAAABAAAAAQAAAAEAAAACAAAAAgAAAAIAAAAAAAAAAQAAAAIAAAAAAAAAAQAAAAEAAAABAAAAAAAAAAAAAAACAAAAAAAAAAAAAAAAAAAAAAAAAAIAAAABAAAAAQAAAAIAAAAAAAAAAQAAAAEAAAACAAAAAgAAAAAAAAAAAAAAAAAAAAIAAAAAAAAAAAAAAAEAAAACAAAAAAAAAAAAAAACAAAAAgAAAAEAAAABAAAAAAAAAAAAAAABAAAAAgAAAAEAAAABAAAAAAAAAAAAAAABAAAAAAAAAAIAAAACAAAAAAAAAAAAAAABAAAAAQAAAAEAAAABAAAAAgAAAAAAAAAAAAAAAgAAAAIAAAAAAAAAAgAAAAEAAAACAAAAAgAAAAEAAAABAAAAAQAAAAEAAAABAAAAAAAAAAAAAAABAAAAAAAAAAIAAAACAAAAAAAAAAAAAAACAAAAAgAAAAEAAAAAAAAAAQAAAAIAAAACAAAAAQAAAAEAAAAAAAAAAAAAAAIAAAAAAAAAAAAAAAEAAAABAAAAAAAAAAIAAAABAAAAAAAAAAAAAAAAAAAAAQAAAAAAAAABAAAAAAAAAAEAAAABAAAAAAAAAAIAAAACAAAAAQAAAAAAAAABAAAAAQAAAAEAAAAAAAAAAAAAAAIAAAABAAAAAQAAAAEAAAACAAAAAgAAAAAAAAAAAAAAAQAAAAEAAAABAAAAAQAAAAAAAAACAAAAAQAAAAAAAAABAAAAAQAAAAEAAAABAAAAAAAAAAIAAAABAAAAAQAAAAEAAAACAAAAAQAAAAAAAAABAAAAAQAAAAEAAAAAAAAAAgAAAAEAAAAAAAAAAQAAAAAAAAAAAAAAAgAAAAIAAAACAAAAAQAAAAEAAAAAAAAAAAAAAAEAAAACAAAAAAAAAAIAAAAAAAAAAAAAAAAAAAAAAAAAAAAAAAAAAAACAAAAAgAAAAEAAAAAAAAAAAAAAAEAAAACAAAAAQAAAAEAAAABAAAAAQAAAAAAAAABAAAAAAAAAAIAAAAAAAAAAgAAAAEAAAABAAAAAAAAAAEAAAACAAAAAgAAAAEAAAACAAAAAQAAAAIAAAAAAAAAAAAAAAAAAAABAAAAAgAAAAEAAAABAAAAAQAAAAEAAAAAAAAAAAAAAAAAAAABAAAAAgAAAAEAAAABAAAAAQAAAAAAAAACAAAAAQAAAAAAAAABAAAAAAAAAAIAAAABAAAAAQAAAAAAAAACAAAAAQAAAAEAAAAAAAAAAQAAAAEAAAACAAAAAgAAAAEAAAACAAAAAQAAAAIAAAABAAAAAAAAAAAAAAABAAAAAQAAAAEAAAABAAAAAgAAAAAAAAAAAAAAAQAAAAAAAAACAAAAAQAAAAAAAAABAAAAAgAAAAEAAAAAAAAAAgAAAAEAAAABAAAAAAAAAAAAAAABAAAAAQAAAAIAAAACAAAAAAAAAAAAAAACAAAAAAAAAAAAAAAAAAAAAAAAAAEAAAACAAAAAQAAAAAAAAAAAAAAAQAAAAAAAAABAAAAAQAAAAEAAAABAAAAAQAAAAAAAAABAAAAAQAAAAAAAAACAAAAAQAAAAIAAAACAAAAAAAAAAAAAAABAAAAAQAAAAEAAAACAAAAAQAAAAAAAAAAAAAAAQAAAAAAAAABAAAAAgAAAAEAAAACAAAAAAAAAAEAAAABAAAAAgAAAAEAAAACAAAAAgAAAAEAAAACAAAAAQAAAAAAAAABAAAAAQAAAAIAAAAAAAAAAAAAAAAAAAABAAAAAgAAAAAAAAAAAAAAAgAAAAIAAAABAAAAAQAAAAIAAAACAAAAAAAAAAEAAAACAAAAAQAAAAAAAAABAAAAAQAAAAIAAAAAAAAAAQAAAAEAAAABAAAAAQAAAAIAAAAAAAAAAgAAAAEAAAABAAAAAAAAAAEAAAABAAAAAQAAAAAAAAACAAAAAQAAAAAAAAACAAAAAQAAAAEAAAACAAAAAAAAAAAAAAAAAAAAAQAAAAIAAAABAAAAAQAAAAIAAAABAAAAAgAAAAEAAAACAAAAAQAAAAIAAAACAAAAAgAAAAAAAAACAAAAAgAAAAEAAAAAAAAAAQAAAAIAAAAAAAAAAAAAAAAAAAABAAAAAgAAAAEAAAABAAAAAAAAAAEAAAACAAAAAQAAAAEAAAABAAAAAgAAAAAAAAAAAAAAAgAAAAEAAAACAAAAAAAAAAIAAAAAAAAAAQAAAAAAAAACAAAAAQAAAAEAAAACAAAAAQAAAAEAAAABAAAAAgAAAAAAAAAAAAAAAAAAAAIAAAABAAAAAAAAAAIAAAAAAAAAAAAAAAEAAAABAAAAAgAAAAIAAAACAAAAAQAAAAAAAAAAAAAAAgAAAAEAAAABAAAAAAAAAAEAAAAAAAAAAAAAAAIAAAACAAAAAAAAAAIAAAAAAAAAAAAAAAEAAAAAAAAAAAAAAAEAAAAAAAAAAgAAAAEAAAA=",
           "dtype": "i4"
          },
          "coloraxis": "coloraxis",
          "symbol": "circle"
         },
         "mode": "markers",
         "name": "",
         "orientation": "v",
         "showlegend": false,
         "type": "scatter",
         "x": {
          "bdata": "AQAJAAgEAQYBAwQEBgMIBwgABwUCAgQFAgEHBgIBAgkFBgUDBQYIBwYDAwQBCQMACAcGAQIDAAACAQUJCQQBBwgDBQIAAQUBAQcFAgIDBQgHAgIHAwkGAQAGAAMEAQIIBwYJBAEBBAUAAwgDBQkIBwcHAAIIAAQDAAIFBAkCCQQECQYAAQMCAgkGAAQHAAECCQIHAAYGAgMFBwIGBwcCAgQJCAYDBQEBCQcJBgIEBgAJCQgHAAQHCQYFCAEJCAkAAwgBCAEABAQDCAcBAAcEAQUAAAIBAAIEAwkBAAkFBgYHCAIIAAMAAwcGAgcFBAgEBwMBAgIJAwYIBgkAAAEGBQcGBwAFCQIIAgQJBwADBwYACAYFBAcFBgQJAgAHBwgIBAIBCAEDCQAGBAgBBQgGAQEICAMFAgADAQECAAcDCQECBgIHBwYJBgEJBgEDCAMEAgAJCQkEBgECBwAGAwgFAAYHBQYDBQcDBwAICAUCAQAIBAIBBAQJBwUDAgYFCQAICQMCBwgIBgMBBQYHAQgHBgIECQEECQgDAQECBgUHBgQGAwkDBwMEAwEDBQYCBwMAAQIJBQYGAQYFCQYJBAIABAgFAQUBBgEEBwYEBwYHBQIAAQMIAgUAAAcIBAMECAACBQcIAAkCAQUFAQMAAggBAgkAAwk=",
          "dtype": "i1"
         },
         "xaxis": "x",
         "y": {
          "bdata": "Bg8EBg8LAAoKCQoJCwkICAgMCgwGEAkNDwcHCQQMAwcMBwUMDAkLBwYJBwYODQwICQkNCAwMAwwICQoHBwoGCggJCgIKDgYNCwYNDAgKCQkJDA0EBwoHDQoLCQoJBwoMCgcPAwUICQQLCgcHCQ4JDAsOCggOCQwLCxADBwsHCgcLBQgLCQgMCgoHBwoKBhAMBwwHBgUHCw0KCgsHDQoNDw0CCwkJDAoFBAsQBwQICQgHBg0IDAYJCwcFDAYKCAoKBwwGCgcICg8FCAoMCQgICgQNDAkHCQYOBwkKBgYMCQsKCAkCDQkHCAcMCAcFBQ0HBQ0GCQULCAQLBgkNBwYJCAgKEAoJCAkHCgwKCQgFBQkLCw4NCQgJDAkKDAwMCQoFDQcNCwcHEAsMDwQHDAcLDQwLCQkGBA4LCwYHDgYLBwwJCQoHBgwKCQYIAg4FCQoDCwkKDAoNCAkGDAoGCgsIBw0LBwgKCg0JCAcJCggICAgJDwsPCwoNDAYMBwYECggICAcICwgMCBAMCwwKEAcLCwUKCggIDAwHDA4KBggIDgMLDA0GBg0JCAsLCAsLBwoNCQwJCwoPCgQNBwoKCAoFEAgHCgoFCwUKCgQGCwkPBxALDAsKDw0HCAQLBgkLCwgGBQENCwUMDQcNBwcICQQKCAYKBQQ=",
          "dtype": "i1"
         },
         "yaxis": "y"
        }
       ],
       "layout": {
        "coloraxis": {
         "colorbar": {
          "title": {
           "text": "cluster"
          }
         },
         "colorscale": [
          [
           0,
           "#0d0887"
          ],
          [
           0.1111111111111111,
           "#46039f"
          ],
          [
           0.2222222222222222,
           "#7201a8"
          ],
          [
           0.3333333333333333,
           "#9c179e"
          ],
          [
           0.4444444444444444,
           "#bd3786"
          ],
          [
           0.5555555555555556,
           "#d8576b"
          ],
          [
           0.6666666666666666,
           "#ed7953"
          ],
          [
           0.7777777777777778,
           "#fb9f3a"
          ],
          [
           0.8888888888888888,
           "#fdca26"
          ],
          [
           1,
           "#f0f921"
          ]
         ]
        },
        "legend": {
         "tracegroupgap": 0
        },
        "margin": {
         "t": 60
        },
        "template": {
         "data": {
          "bar": [
           {
            "error_x": {
             "color": "#2a3f5f"
            },
            "error_y": {
             "color": "#2a3f5f"
            },
            "marker": {
             "line": {
              "color": "#E5ECF6",
              "width": 0.5
             },
             "pattern": {
              "fillmode": "overlay",
              "size": 10,
              "solidity": 0.2
             }
            },
            "type": "bar"
           }
          ],
          "barpolar": [
           {
            "marker": {
             "line": {
              "color": "#E5ECF6",
              "width": 0.5
             },
             "pattern": {
              "fillmode": "overlay",
              "size": 10,
              "solidity": 0.2
             }
            },
            "type": "barpolar"
           }
          ],
          "carpet": [
           {
            "aaxis": {
             "endlinecolor": "#2a3f5f",
             "gridcolor": "white",
             "linecolor": "white",
             "minorgridcolor": "white",
             "startlinecolor": "#2a3f5f"
            },
            "baxis": {
             "endlinecolor": "#2a3f5f",
             "gridcolor": "white",
             "linecolor": "white",
             "minorgridcolor": "white",
             "startlinecolor": "#2a3f5f"
            },
            "type": "carpet"
           }
          ],
          "choropleth": [
           {
            "colorbar": {
             "outlinewidth": 0,
             "ticks": ""
            },
            "type": "choropleth"
           }
          ],
          "contour": [
           {
            "colorbar": {
             "outlinewidth": 0,
             "ticks": ""
            },
            "colorscale": [
             [
              0,
              "#0d0887"
             ],
             [
              0.1111111111111111,
              "#46039f"
             ],
             [
              0.2222222222222222,
              "#7201a8"
             ],
             [
              0.3333333333333333,
              "#9c179e"
             ],
             [
              0.4444444444444444,
              "#bd3786"
             ],
             [
              0.5555555555555556,
              "#d8576b"
             ],
             [
              0.6666666666666666,
              "#ed7953"
             ],
             [
              0.7777777777777778,
              "#fb9f3a"
             ],
             [
              0.8888888888888888,
              "#fdca26"
             ],
             [
              1,
              "#f0f921"
             ]
            ],
            "type": "contour"
           }
          ],
          "contourcarpet": [
           {
            "colorbar": {
             "outlinewidth": 0,
             "ticks": ""
            },
            "type": "contourcarpet"
           }
          ],
          "heatmap": [
           {
            "colorbar": {
             "outlinewidth": 0,
             "ticks": ""
            },
            "colorscale": [
             [
              0,
              "#0d0887"
             ],
             [
              0.1111111111111111,
              "#46039f"
             ],
             [
              0.2222222222222222,
              "#7201a8"
             ],
             [
              0.3333333333333333,
              "#9c179e"
             ],
             [
              0.4444444444444444,
              "#bd3786"
             ],
             [
              0.5555555555555556,
              "#d8576b"
             ],
             [
              0.6666666666666666,
              "#ed7953"
             ],
             [
              0.7777777777777778,
              "#fb9f3a"
             ],
             [
              0.8888888888888888,
              "#fdca26"
             ],
             [
              1,
              "#f0f921"
             ]
            ],
            "type": "heatmap"
           }
          ],
          "histogram": [
           {
            "marker": {
             "pattern": {
              "fillmode": "overlay",
              "size": 10,
              "solidity": 0.2
             }
            },
            "type": "histogram"
           }
          ],
          "histogram2d": [
           {
            "colorbar": {
             "outlinewidth": 0,
             "ticks": ""
            },
            "colorscale": [
             [
              0,
              "#0d0887"
             ],
             [
              0.1111111111111111,
              "#46039f"
             ],
             [
              0.2222222222222222,
              "#7201a8"
             ],
             [
              0.3333333333333333,
              "#9c179e"
             ],
             [
              0.4444444444444444,
              "#bd3786"
             ],
             [
              0.5555555555555556,
              "#d8576b"
             ],
             [
              0.6666666666666666,
              "#ed7953"
             ],
             [
              0.7777777777777778,
              "#fb9f3a"
             ],
             [
              0.8888888888888888,
              "#fdca26"
             ],
             [
              1,
              "#f0f921"
             ]
            ],
            "type": "histogram2d"
           }
          ],
          "histogram2dcontour": [
           {
            "colorbar": {
             "outlinewidth": 0,
             "ticks": ""
            },
            "colorscale": [
             [
              0,
              "#0d0887"
             ],
             [
              0.1111111111111111,
              "#46039f"
             ],
             [
              0.2222222222222222,
              "#7201a8"
             ],
             [
              0.3333333333333333,
              "#9c179e"
             ],
             [
              0.4444444444444444,
              "#bd3786"
             ],
             [
              0.5555555555555556,
              "#d8576b"
             ],
             [
              0.6666666666666666,
              "#ed7953"
             ],
             [
              0.7777777777777778,
              "#fb9f3a"
             ],
             [
              0.8888888888888888,
              "#fdca26"
             ],
             [
              1,
              "#f0f921"
             ]
            ],
            "type": "histogram2dcontour"
           }
          ],
          "mesh3d": [
           {
            "colorbar": {
             "outlinewidth": 0,
             "ticks": ""
            },
            "type": "mesh3d"
           }
          ],
          "parcoords": [
           {
            "line": {
             "colorbar": {
              "outlinewidth": 0,
              "ticks": ""
             }
            },
            "type": "parcoords"
           }
          ],
          "pie": [
           {
            "automargin": true,
            "type": "pie"
           }
          ],
          "scatter": [
           {
            "fillpattern": {
             "fillmode": "overlay",
             "size": 10,
             "solidity": 0.2
            },
            "type": "scatter"
           }
          ],
          "scatter3d": [
           {
            "line": {
             "colorbar": {
              "outlinewidth": 0,
              "ticks": ""
             }
            },
            "marker": {
             "colorbar": {
              "outlinewidth": 0,
              "ticks": ""
             }
            },
            "type": "scatter3d"
           }
          ],
          "scattercarpet": [
           {
            "marker": {
             "colorbar": {
              "outlinewidth": 0,
              "ticks": ""
             }
            },
            "type": "scattercarpet"
           }
          ],
          "scattergeo": [
           {
            "marker": {
             "colorbar": {
              "outlinewidth": 0,
              "ticks": ""
             }
            },
            "type": "scattergeo"
           }
          ],
          "scattergl": [
           {
            "marker": {
             "colorbar": {
              "outlinewidth": 0,
              "ticks": ""
             }
            },
            "type": "scattergl"
           }
          ],
          "scattermap": [
           {
            "marker": {
             "colorbar": {
              "outlinewidth": 0,
              "ticks": ""
             }
            },
            "type": "scattermap"
           }
          ],
          "scattermapbox": [
           {
            "marker": {
             "colorbar": {
              "outlinewidth": 0,
              "ticks": ""
             }
            },
            "type": "scattermapbox"
           }
          ],
          "scatterpolar": [
           {
            "marker": {
             "colorbar": {
              "outlinewidth": 0,
              "ticks": ""
             }
            },
            "type": "scatterpolar"
           }
          ],
          "scatterpolargl": [
           {
            "marker": {
             "colorbar": {
              "outlinewidth": 0,
              "ticks": ""
             }
            },
            "type": "scatterpolargl"
           }
          ],
          "scatterternary": [
           {
            "marker": {
             "colorbar": {
              "outlinewidth": 0,
              "ticks": ""
             }
            },
            "type": "scatterternary"
           }
          ],
          "surface": [
           {
            "colorbar": {
             "outlinewidth": 0,
             "ticks": ""
            },
            "colorscale": [
             [
              0,
              "#0d0887"
             ],
             [
              0.1111111111111111,
              "#46039f"
             ],
             [
              0.2222222222222222,
              "#7201a8"
             ],
             [
              0.3333333333333333,
              "#9c179e"
             ],
             [
              0.4444444444444444,
              "#bd3786"
             ],
             [
              0.5555555555555556,
              "#d8576b"
             ],
             [
              0.6666666666666666,
              "#ed7953"
             ],
             [
              0.7777777777777778,
              "#fb9f3a"
             ],
             [
              0.8888888888888888,
              "#fdca26"
             ],
             [
              1,
              "#f0f921"
             ]
            ],
            "type": "surface"
           }
          ],
          "table": [
           {
            "cells": {
             "fill": {
              "color": "#EBF0F8"
             },
             "line": {
              "color": "white"
             }
            },
            "header": {
             "fill": {
              "color": "#C8D4E3"
             },
             "line": {
              "color": "white"
             }
            },
            "type": "table"
           }
          ]
         },
         "layout": {
          "annotationdefaults": {
           "arrowcolor": "#2a3f5f",
           "arrowhead": 0,
           "arrowwidth": 1
          },
          "autotypenumbers": "strict",
          "coloraxis": {
           "colorbar": {
            "outlinewidth": 0,
            "ticks": ""
           }
          },
          "colorscale": {
           "diverging": [
            [
             0,
             "#8e0152"
            ],
            [
             0.1,
             "#c51b7d"
            ],
            [
             0.2,
             "#de77ae"
            ],
            [
             0.3,
             "#f1b6da"
            ],
            [
             0.4,
             "#fde0ef"
            ],
            [
             0.5,
             "#f7f7f7"
            ],
            [
             0.6,
             "#e6f5d0"
            ],
            [
             0.7,
             "#b8e186"
            ],
            [
             0.8,
             "#7fbc41"
            ],
            [
             0.9,
             "#4d9221"
            ],
            [
             1,
             "#276419"
            ]
           ],
           "sequential": [
            [
             0,
             "#0d0887"
            ],
            [
             0.1111111111111111,
             "#46039f"
            ],
            [
             0.2222222222222222,
             "#7201a8"
            ],
            [
             0.3333333333333333,
             "#9c179e"
            ],
            [
             0.4444444444444444,
             "#bd3786"
            ],
            [
             0.5555555555555556,
             "#d8576b"
            ],
            [
             0.6666666666666666,
             "#ed7953"
            ],
            [
             0.7777777777777778,
             "#fb9f3a"
            ],
            [
             0.8888888888888888,
             "#fdca26"
            ],
            [
             1,
             "#f0f921"
            ]
           ],
           "sequentialminus": [
            [
             0,
             "#0d0887"
            ],
            [
             0.1111111111111111,
             "#46039f"
            ],
            [
             0.2222222222222222,
             "#7201a8"
            ],
            [
             0.3333333333333333,
             "#9c179e"
            ],
            [
             0.4444444444444444,
             "#bd3786"
            ],
            [
             0.5555555555555556,
             "#d8576b"
            ],
            [
             0.6666666666666666,
             "#ed7953"
            ],
            [
             0.7777777777777778,
             "#fb9f3a"
            ],
            [
             0.8888888888888888,
             "#fdca26"
            ],
            [
             1,
             "#f0f921"
            ]
           ]
          },
          "colorway": [
           "#636efa",
           "#EF553B",
           "#00cc96",
           "#ab63fa",
           "#FFA15A",
           "#19d3f3",
           "#FF6692",
           "#B6E880",
           "#FF97FF",
           "#FECB52"
          ],
          "font": {
           "color": "#2a3f5f"
          },
          "geo": {
           "bgcolor": "white",
           "lakecolor": "white",
           "landcolor": "#E5ECF6",
           "showlakes": true,
           "showland": true,
           "subunitcolor": "white"
          },
          "hoverlabel": {
           "align": "left"
          },
          "hovermode": "closest",
          "mapbox": {
           "style": "light"
          },
          "paper_bgcolor": "white",
          "plot_bgcolor": "#E5ECF6",
          "polar": {
           "angularaxis": {
            "gridcolor": "white",
            "linecolor": "white",
            "ticks": ""
           },
           "bgcolor": "#E5ECF6",
           "radialaxis": {
            "gridcolor": "white",
            "linecolor": "white",
            "ticks": ""
           }
          },
          "scene": {
           "xaxis": {
            "backgroundcolor": "#E5ECF6",
            "gridcolor": "white",
            "gridwidth": 2,
            "linecolor": "white",
            "showbackground": true,
            "ticks": "",
            "zerolinecolor": "white"
           },
           "yaxis": {
            "backgroundcolor": "#E5ECF6",
            "gridcolor": "white",
            "gridwidth": 2,
            "linecolor": "white",
            "showbackground": true,
            "ticks": "",
            "zerolinecolor": "white"
           },
           "zaxis": {
            "backgroundcolor": "#E5ECF6",
            "gridcolor": "white",
            "gridwidth": 2,
            "linecolor": "white",
            "showbackground": true,
            "ticks": "",
            "zerolinecolor": "white"
           }
          },
          "shapedefaults": {
           "line": {
            "color": "#2a3f5f"
           }
          },
          "ternary": {
           "aaxis": {
            "gridcolor": "white",
            "linecolor": "white",
            "ticks": ""
           },
           "baxis": {
            "gridcolor": "white",
            "linecolor": "white",
            "ticks": ""
           },
           "bgcolor": "#E5ECF6",
           "caxis": {
            "gridcolor": "white",
            "linecolor": "white",
            "ticks": ""
           }
          },
          "title": {
           "x": 0.05
          },
          "xaxis": {
           "automargin": true,
           "gridcolor": "white",
           "linecolor": "white",
           "ticks": "",
           "title": {
            "standoff": 15
           },
           "zerolinecolor": "white",
           "zerolinewidth": 2
          },
          "yaxis": {
           "automargin": true,
           "gridcolor": "white",
           "linecolor": "white",
           "ticks": "",
           "title": {
            "standoff": 15
           },
           "zerolinecolor": "white",
           "zerolinewidth": 2
          }
         }
        },
        "xaxis": {
         "anchor": "y",
         "domain": [
          0,
          1
         ],
         "title": {
          "text": "inovacao"
         }
        },
        "yaxis": {
         "anchor": "x",
         "domain": [
          0,
          1
         ],
         "title": {
          "text": "idade"
         }
        }
       }
      }
     },
     "metadata": {},
     "output_type": "display_data"
    }
   ],
   "source": [
    "# Cruzar dados de inovacao, idade e clusters\n",
    "px.scatter(df_clientes, x='inovacao', y='idade', color='cluster')"
   ]
  },
  {
   "cell_type": "code",
   "execution_count": 43,
   "id": "f9c53cd2",
   "metadata": {},
   "outputs": [
    {
     "data": {
      "text/plain": [
       "['pipeline_cluster_clientes.pkl']"
      ]
     },
     "execution_count": 43,
     "metadata": {},
     "output_type": "execute_result"
    }
   ],
   "source": [
    "#salvar modelo e pipeline de transformação\n",
    "import joblib\n",
    "\n",
    "joblib.dump(best_gmm, 'modelo_cluster_clientes.pkl')\n",
    "joblib.dump(preprocessor, 'pipeline_cluster_clientes.pkl')"
   ]
  },
  {
   "cell_type": "code",
   "execution_count": 2,
   "id": "50e496fb",
   "metadata": {},
   "outputs": [],
   "source": [
    "import gradio as gr \n",
    "import joblib \n",
    "\n",
    "modelo = joblib.load('./modelo_cluster_clientes.pkl')\n",
    "pipeline = joblib.load('./pipeline_cluster_clientes.pkl')"
   ]
  },
  {
   "cell_type": "code",
   "execution_count": 4,
   "id": "0e28e6c6",
   "metadata": {},
   "outputs": [],
   "source": [
    "#carregar dados do arquivo upload para o datframe pandas\n",
    "def clustering(arquivo):\n",
    "    df_empresas = pd.read_csv(arquivo.name)\n",
    "\n",
    "    #transformar os dados do dataframe para o modelo\n",
    "    X_transformed = pipeline.fit_transform(df_empresas)\n",
    "\n",
    "    #treinar o modelo GMM\n",
    "    modelo.fit(X_transformed)\n",
    "\n",
    "    #fazer predições\n",
    "    cluster_empresas = modelo.predict(X_transformed)\n",
    "\n",
    "    #criar coluna no dataframe com cluster\n",
    "    df_empresas['cluster'] = cluster_empresas.astype(int)\n",
    "\n",
    "    #salvar dataframe par arquivo\n",
    "    df_empresas.to_csv('./clusters_empresas.csv', index=False)\n",
    "    return './clusters_empresas.csv'\n",
    "\n"
   ]
  },
  {
   "cell_type": "code",
   "execution_count": 5,
   "id": "8c479785",
   "metadata": {},
   "outputs": [
    {
     "name": "stdout",
     "output_type": "stream",
     "text": [
      "* Running on local URL:  http://127.0.0.1:7860\n",
      "* To create a public link, set `share=True` in `launch()`.\n"
     ]
    },
    {
     "data": {
      "text/html": [
       "<div><iframe src=\"http://127.0.0.1:7860/\" width=\"100%\" height=\"500\" allow=\"autoplay; camera; microphone; clipboard-read; clipboard-write;\" frameborder=\"0\" allowfullscreen></iframe></div>"
      ],
      "text/plain": [
       "<IPython.core.display.HTML object>"
      ]
     },
     "metadata": {},
     "output_type": "display_data"
    },
    {
     "data": {
      "text/plain": []
     },
     "execution_count": 5,
     "metadata": {},
     "output_type": "execute_result"
    }
   ],
   "source": [
    "#executar front end\n",
    "app = gr.Interface(\n",
    "    clustering,\n",
    "    gr.File(file_types=['.csv']),\n",
    "    'file'\n",
    ")\n",
    "\n",
    "app.launch()"
   ]
  }
 ],
 "metadata": {
  "kernelspec": {
   "display_name": "Geral-iNcLO_qr",
   "language": "python",
   "name": "python3"
  },
  "language_info": {
   "codemirror_mode": {
    "name": "ipython",
    "version": 3
   },
   "file_extension": ".py",
   "mimetype": "text/x-python",
   "name": "python",
   "nbconvert_exporter": "python",
   "pygments_lexer": "ipython3",
   "version": "3.12.1"
  }
 },
 "nbformat": 4,
 "nbformat_minor": 5
}
