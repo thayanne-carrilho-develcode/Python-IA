{
 "cells": [
  {
   "cell_type": "code",
   "execution_count": 3,
   "id": "a5caec21",
   "metadata": {},
   "outputs": [],
   "source": [
    "import pandas as pd \n",
    "import plotly.express as px \n",
    "\n",
    "from sklearn.cluster import KMeans\n",
    "from sklearn.metrics import silhouette_score, pairwise_distances\n",
    "from sklearn.preprocessing import StandardScaler, OrdinalEncoder, OneHotEncoder\n",
    "from sklearn.compose import ColumnTransformer\n",
    "\n",
    "import optuna"
   ]
  },
  {
   "cell_type": "markdown",
   "id": "754e4969",
   "metadata": {},
   "source": [
    "### Carga de dados"
   ]
  },
  {
   "cell_type": "code",
   "execution_count": 4,
   "id": "22991786",
   "metadata": {},
   "outputs": [],
   "source": [
    "df_clientes = pd.read_csv('./datasets/data.csv')\n"
   ]
  },
  {
   "cell_type": "code",
   "execution_count": 5,
   "id": "ea531af7",
   "metadata": {},
   "outputs": [
    {
     "name": "stdout",
     "output_type": "stream",
     "text": [
      "<class 'pandas.core.frame.DataFrame'>\n",
      "RangeIndex: 500 entries, 0 to 499\n",
      "Data columns (total 6 columns):\n",
      " #   Column                  Non-Null Count  Dtype  \n",
      "---  ------                  --------------  -----  \n",
      " 0   atividade_economica     500 non-null    object \n",
      " 1   faturamento_mensal      500 non-null    float64\n",
      " 2   numero_de_funcionarios  500 non-null    int64  \n",
      " 3   localizacao             500 non-null    object \n",
      " 4   idade                   500 non-null    int64  \n",
      " 5   inovacao                500 non-null    int64  \n",
      "dtypes: float64(1), int64(3), object(2)\n",
      "memory usage: 23.6+ KB\n"
     ]
    }
   ],
   "source": [
    "df_clientes.info()"
   ]
  },
  {
   "cell_type": "code",
   "execution_count": 6,
   "id": "f6a1190e",
   "metadata": {},
   "outputs": [
    {
     "data": {
      "text/html": [
       "<div>\n",
       "<style scoped>\n",
       "    .dataframe tbody tr th:only-of-type {\n",
       "        vertical-align: middle;\n",
       "    }\n",
       "\n",
       "    .dataframe tbody tr th {\n",
       "        vertical-align: top;\n",
       "    }\n",
       "\n",
       "    .dataframe thead th {\n",
       "        text-align: right;\n",
       "    }\n",
       "</style>\n",
       "<table border=\"1\" class=\"dataframe\">\n",
       "  <thead>\n",
       "    <tr style=\"text-align: right;\">\n",
       "      <th></th>\n",
       "      <th>atividade_economica</th>\n",
       "      <th>faturamento_mensal</th>\n",
       "      <th>numero_de_funcionarios</th>\n",
       "      <th>localizacao</th>\n",
       "      <th>idade</th>\n",
       "      <th>inovacao</th>\n",
       "    </tr>\n",
       "  </thead>\n",
       "  <tbody>\n",
       "    <tr>\n",
       "      <th>0</th>\n",
       "      <td>Comércio</td>\n",
       "      <td>713109.95</td>\n",
       "      <td>12</td>\n",
       "      <td>Rio de Janeiro</td>\n",
       "      <td>6</td>\n",
       "      <td>1</td>\n",
       "    </tr>\n",
       "    <tr>\n",
       "      <th>1</th>\n",
       "      <td>Comércio</td>\n",
       "      <td>790714.38</td>\n",
       "      <td>9</td>\n",
       "      <td>São Paulo</td>\n",
       "      <td>15</td>\n",
       "      <td>0</td>\n",
       "    </tr>\n",
       "    <tr>\n",
       "      <th>2</th>\n",
       "      <td>Comércio</td>\n",
       "      <td>1197239.33</td>\n",
       "      <td>17</td>\n",
       "      <td>São Paulo</td>\n",
       "      <td>4</td>\n",
       "      <td>9</td>\n",
       "    </tr>\n",
       "    <tr>\n",
       "      <th>3</th>\n",
       "      <td>Indústria</td>\n",
       "      <td>449185.78</td>\n",
       "      <td>15</td>\n",
       "      <td>São Paulo</td>\n",
       "      <td>6</td>\n",
       "      <td>0</td>\n",
       "    </tr>\n",
       "    <tr>\n",
       "      <th>4</th>\n",
       "      <td>Agronegócio</td>\n",
       "      <td>1006373.16</td>\n",
       "      <td>15</td>\n",
       "      <td>São Paulo</td>\n",
       "      <td>15</td>\n",
       "      <td>8</td>\n",
       "    </tr>\n",
       "    <tr>\n",
       "      <th>5</th>\n",
       "      <td>Serviços</td>\n",
       "      <td>1629562.41</td>\n",
       "      <td>16</td>\n",
       "      <td>Rio de Janeiro</td>\n",
       "      <td>11</td>\n",
       "      <td>4</td>\n",
       "    </tr>\n",
       "    <tr>\n",
       "      <th>6</th>\n",
       "      <td>Serviços</td>\n",
       "      <td>771179.95</td>\n",
       "      <td>13</td>\n",
       "      <td>Vitória</td>\n",
       "      <td>0</td>\n",
       "      <td>1</td>\n",
       "    </tr>\n",
       "    <tr>\n",
       "      <th>7</th>\n",
       "      <td>Serviços</td>\n",
       "      <td>707837.61</td>\n",
       "      <td>16</td>\n",
       "      <td>São Paulo</td>\n",
       "      <td>10</td>\n",
       "      <td>6</td>\n",
       "    </tr>\n",
       "    <tr>\n",
       "      <th>8</th>\n",
       "      <td>Comércio</td>\n",
       "      <td>888983.66</td>\n",
       "      <td>17</td>\n",
       "      <td>Belo Horizonte</td>\n",
       "      <td>10</td>\n",
       "      <td>1</td>\n",
       "    </tr>\n",
       "    <tr>\n",
       "      <th>9</th>\n",
       "      <td>Indústria</td>\n",
       "      <td>1098512.64</td>\n",
       "      <td>13</td>\n",
       "      <td>Rio de Janeiro</td>\n",
       "      <td>9</td>\n",
       "      <td>3</td>\n",
       "    </tr>\n",
       "  </tbody>\n",
       "</table>\n",
       "</div>"
      ],
      "text/plain": [
       "  atividade_economica  faturamento_mensal  numero_de_funcionarios  \\\n",
       "0            Comércio           713109.95                      12   \n",
       "1            Comércio           790714.38                       9   \n",
       "2            Comércio          1197239.33                      17   \n",
       "3           Indústria           449185.78                      15   \n",
       "4         Agronegócio          1006373.16                      15   \n",
       "5            Serviços          1629562.41                      16   \n",
       "6            Serviços           771179.95                      13   \n",
       "7            Serviços           707837.61                      16   \n",
       "8            Comércio           888983.66                      17   \n",
       "9           Indústria          1098512.64                      13   \n",
       "\n",
       "      localizacao  idade  inovacao  \n",
       "0  Rio de Janeiro      6         1  \n",
       "1       São Paulo     15         0  \n",
       "2       São Paulo      4         9  \n",
       "3       São Paulo      6         0  \n",
       "4       São Paulo     15         8  \n",
       "5  Rio de Janeiro     11         4  \n",
       "6         Vitória      0         1  \n",
       "7       São Paulo     10         6  \n",
       "8  Belo Horizonte     10         1  \n",
       "9  Rio de Janeiro      9         3  "
      ]
     },
     "execution_count": 6,
     "metadata": {},
     "output_type": "execute_result"
    }
   ],
   "source": [
    "df_clientes.head(10)"
   ]
  },
  {
   "cell_type": "markdown",
   "id": "5d11c35b",
   "metadata": {},
   "source": [
    "### EDA"
   ]
  },
  {
   "cell_type": "code",
   "execution_count": 7,
   "id": "7a64b43d",
   "metadata": {},
   "outputs": [
    {
     "data": {
      "application/vnd.plotly.v1+json": {
       "config": {
        "plotlyServerURL": "https://plot.ly"
       },
       "data": [
        {
         "hovertemplate": "inovacao=%{marker.color}<br>value=%{y}<extra></extra>",
         "legendgroup": "",
         "marker": {
          "color": {
           "bdata": "AQIGBwADCAkEBQ==",
           "dtype": "i1"
          },
          "coloraxis": "coloraxis",
          "pattern": {
           "shape": ""
          }
         },
         "name": "",
         "orientation": "v",
         "showlegend": false,
         "textposition": "auto",
         "type": "bar",
         "x": {
          "bdata": "AQIGBwADCAkEBQ==",
          "dtype": "i1"
         },
         "xaxis": "x",
         "y": {
          "bdata": "zczMzMzMJkBnZmZmZmYmQJqZmZmZmSVAMzMzMzMzJUDNzMzMzMwkQDMzMzMzMyNAzczMzMzMIkDNzMzMzMwiQDMzMzMzMyFAMzMzMzMzIUA=",
          "dtype": "f8"
         },
         "yaxis": "y"
        }
       ],
       "layout": {
        "barmode": "relative",
        "coloraxis": {
         "colorbar": {
          "title": {
           "text": "inovacao"
          }
         },
         "colorscale": [
          [
           0,
           "#0d0887"
          ],
          [
           0.1111111111111111,
           "#46039f"
          ],
          [
           0.2222222222222222,
           "#7201a8"
          ],
          [
           0.3333333333333333,
           "#9c179e"
          ],
          [
           0.4444444444444444,
           "#bd3786"
          ],
          [
           0.5555555555555556,
           "#d8576b"
          ],
          [
           0.6666666666666666,
           "#ed7953"
          ],
          [
           0.7777777777777778,
           "#fb9f3a"
          ],
          [
           0.8888888888888888,
           "#fdca26"
          ],
          [
           1,
           "#f0f921"
          ]
         ]
        },
        "legend": {
         "tracegroupgap": 0
        },
        "margin": {
         "t": 60
        },
        "template": {
         "data": {
          "bar": [
           {
            "error_x": {
             "color": "#2a3f5f"
            },
            "error_y": {
             "color": "#2a3f5f"
            },
            "marker": {
             "line": {
              "color": "#E5ECF6",
              "width": 0.5
             },
             "pattern": {
              "fillmode": "overlay",
              "size": 10,
              "solidity": 0.2
             }
            },
            "type": "bar"
           }
          ],
          "barpolar": [
           {
            "marker": {
             "line": {
              "color": "#E5ECF6",
              "width": 0.5
             },
             "pattern": {
              "fillmode": "overlay",
              "size": 10,
              "solidity": 0.2
             }
            },
            "type": "barpolar"
           }
          ],
          "carpet": [
           {
            "aaxis": {
             "endlinecolor": "#2a3f5f",
             "gridcolor": "white",
             "linecolor": "white",
             "minorgridcolor": "white",
             "startlinecolor": "#2a3f5f"
            },
            "baxis": {
             "endlinecolor": "#2a3f5f",
             "gridcolor": "white",
             "linecolor": "white",
             "minorgridcolor": "white",
             "startlinecolor": "#2a3f5f"
            },
            "type": "carpet"
           }
          ],
          "choropleth": [
           {
            "colorbar": {
             "outlinewidth": 0,
             "ticks": ""
            },
            "type": "choropleth"
           }
          ],
          "contour": [
           {
            "colorbar": {
             "outlinewidth": 0,
             "ticks": ""
            },
            "colorscale": [
             [
              0,
              "#0d0887"
             ],
             [
              0.1111111111111111,
              "#46039f"
             ],
             [
              0.2222222222222222,
              "#7201a8"
             ],
             [
              0.3333333333333333,
              "#9c179e"
             ],
             [
              0.4444444444444444,
              "#bd3786"
             ],
             [
              0.5555555555555556,
              "#d8576b"
             ],
             [
              0.6666666666666666,
              "#ed7953"
             ],
             [
              0.7777777777777778,
              "#fb9f3a"
             ],
             [
              0.8888888888888888,
              "#fdca26"
             ],
             [
              1,
              "#f0f921"
             ]
            ],
            "type": "contour"
           }
          ],
          "contourcarpet": [
           {
            "colorbar": {
             "outlinewidth": 0,
             "ticks": ""
            },
            "type": "contourcarpet"
           }
          ],
          "heatmap": [
           {
            "colorbar": {
             "outlinewidth": 0,
             "ticks": ""
            },
            "colorscale": [
             [
              0,
              "#0d0887"
             ],
             [
              0.1111111111111111,
              "#46039f"
             ],
             [
              0.2222222222222222,
              "#7201a8"
             ],
             [
              0.3333333333333333,
              "#9c179e"
             ],
             [
              0.4444444444444444,
              "#bd3786"
             ],
             [
              0.5555555555555556,
              "#d8576b"
             ],
             [
              0.6666666666666666,
              "#ed7953"
             ],
             [
              0.7777777777777778,
              "#fb9f3a"
             ],
             [
              0.8888888888888888,
              "#fdca26"
             ],
             [
              1,
              "#f0f921"
             ]
            ],
            "type": "heatmap"
           }
          ],
          "histogram": [
           {
            "marker": {
             "pattern": {
              "fillmode": "overlay",
              "size": 10,
              "solidity": 0.2
             }
            },
            "type": "histogram"
           }
          ],
          "histogram2d": [
           {
            "colorbar": {
             "outlinewidth": 0,
             "ticks": ""
            },
            "colorscale": [
             [
              0,
              "#0d0887"
             ],
             [
              0.1111111111111111,
              "#46039f"
             ],
             [
              0.2222222222222222,
              "#7201a8"
             ],
             [
              0.3333333333333333,
              "#9c179e"
             ],
             [
              0.4444444444444444,
              "#bd3786"
             ],
             [
              0.5555555555555556,
              "#d8576b"
             ],
             [
              0.6666666666666666,
              "#ed7953"
             ],
             [
              0.7777777777777778,
              "#fb9f3a"
             ],
             [
              0.8888888888888888,
              "#fdca26"
             ],
             [
              1,
              "#f0f921"
             ]
            ],
            "type": "histogram2d"
           }
          ],
          "histogram2dcontour": [
           {
            "colorbar": {
             "outlinewidth": 0,
             "ticks": ""
            },
            "colorscale": [
             [
              0,
              "#0d0887"
             ],
             [
              0.1111111111111111,
              "#46039f"
             ],
             [
              0.2222222222222222,
              "#7201a8"
             ],
             [
              0.3333333333333333,
              "#9c179e"
             ],
             [
              0.4444444444444444,
              "#bd3786"
             ],
             [
              0.5555555555555556,
              "#d8576b"
             ],
             [
              0.6666666666666666,
              "#ed7953"
             ],
             [
              0.7777777777777778,
              "#fb9f3a"
             ],
             [
              0.8888888888888888,
              "#fdca26"
             ],
             [
              1,
              "#f0f921"
             ]
            ],
            "type": "histogram2dcontour"
           }
          ],
          "mesh3d": [
           {
            "colorbar": {
             "outlinewidth": 0,
             "ticks": ""
            },
            "type": "mesh3d"
           }
          ],
          "parcoords": [
           {
            "line": {
             "colorbar": {
              "outlinewidth": 0,
              "ticks": ""
             }
            },
            "type": "parcoords"
           }
          ],
          "pie": [
           {
            "automargin": true,
            "type": "pie"
           }
          ],
          "scatter": [
           {
            "fillpattern": {
             "fillmode": "overlay",
             "size": 10,
             "solidity": 0.2
            },
            "type": "scatter"
           }
          ],
          "scatter3d": [
           {
            "line": {
             "colorbar": {
              "outlinewidth": 0,
              "ticks": ""
             }
            },
            "marker": {
             "colorbar": {
              "outlinewidth": 0,
              "ticks": ""
             }
            },
            "type": "scatter3d"
           }
          ],
          "scattercarpet": [
           {
            "marker": {
             "colorbar": {
              "outlinewidth": 0,
              "ticks": ""
             }
            },
            "type": "scattercarpet"
           }
          ],
          "scattergeo": [
           {
            "marker": {
             "colorbar": {
              "outlinewidth": 0,
              "ticks": ""
             }
            },
            "type": "scattergeo"
           }
          ],
          "scattergl": [
           {
            "marker": {
             "colorbar": {
              "outlinewidth": 0,
              "ticks": ""
             }
            },
            "type": "scattergl"
           }
          ],
          "scattermap": [
           {
            "marker": {
             "colorbar": {
              "outlinewidth": 0,
              "ticks": ""
             }
            },
            "type": "scattermap"
           }
          ],
          "scattermapbox": [
           {
            "marker": {
             "colorbar": {
              "outlinewidth": 0,
              "ticks": ""
             }
            },
            "type": "scattermapbox"
           }
          ],
          "scatterpolar": [
           {
            "marker": {
             "colorbar": {
              "outlinewidth": 0,
              "ticks": ""
             }
            },
            "type": "scatterpolar"
           }
          ],
          "scatterpolargl": [
           {
            "marker": {
             "colorbar": {
              "outlinewidth": 0,
              "ticks": ""
             }
            },
            "type": "scatterpolargl"
           }
          ],
          "scatterternary": [
           {
            "marker": {
             "colorbar": {
              "outlinewidth": 0,
              "ticks": ""
             }
            },
            "type": "scatterternary"
           }
          ],
          "surface": [
           {
            "colorbar": {
             "outlinewidth": 0,
             "ticks": ""
            },
            "colorscale": [
             [
              0,
              "#0d0887"
             ],
             [
              0.1111111111111111,
              "#46039f"
             ],
             [
              0.2222222222222222,
              "#7201a8"
             ],
             [
              0.3333333333333333,
              "#9c179e"
             ],
             [
              0.4444444444444444,
              "#bd3786"
             ],
             [
              0.5555555555555556,
              "#d8576b"
             ],
             [
              0.6666666666666666,
              "#ed7953"
             ],
             [
              0.7777777777777778,
              "#fb9f3a"
             ],
             [
              0.8888888888888888,
              "#fdca26"
             ],
             [
              1,
              "#f0f921"
             ]
            ],
            "type": "surface"
           }
          ],
          "table": [
           {
            "cells": {
             "fill": {
              "color": "#EBF0F8"
             },
             "line": {
              "color": "white"
             }
            },
            "header": {
             "fill": {
              "color": "#C8D4E3"
             },
             "line": {
              "color": "white"
             }
            },
            "type": "table"
           }
          ]
         },
         "layout": {
          "annotationdefaults": {
           "arrowcolor": "#2a3f5f",
           "arrowhead": 0,
           "arrowwidth": 1
          },
          "autotypenumbers": "strict",
          "coloraxis": {
           "colorbar": {
            "outlinewidth": 0,
            "ticks": ""
           }
          },
          "colorscale": {
           "diverging": [
            [
             0,
             "#8e0152"
            ],
            [
             0.1,
             "#c51b7d"
            ],
            [
             0.2,
             "#de77ae"
            ],
            [
             0.3,
             "#f1b6da"
            ],
            [
             0.4,
             "#fde0ef"
            ],
            [
             0.5,
             "#f7f7f7"
            ],
            [
             0.6,
             "#e6f5d0"
            ],
            [
             0.7,
             "#b8e186"
            ],
            [
             0.8,
             "#7fbc41"
            ],
            [
             0.9,
             "#4d9221"
            ],
            [
             1,
             "#276419"
            ]
           ],
           "sequential": [
            [
             0,
             "#0d0887"
            ],
            [
             0.1111111111111111,
             "#46039f"
            ],
            [
             0.2222222222222222,
             "#7201a8"
            ],
            [
             0.3333333333333333,
             "#9c179e"
            ],
            [
             0.4444444444444444,
             "#bd3786"
            ],
            [
             0.5555555555555556,
             "#d8576b"
            ],
            [
             0.6666666666666666,
             "#ed7953"
            ],
            [
             0.7777777777777778,
             "#fb9f3a"
            ],
            [
             0.8888888888888888,
             "#fdca26"
            ],
            [
             1,
             "#f0f921"
            ]
           ],
           "sequentialminus": [
            [
             0,
             "#0d0887"
            ],
            [
             0.1111111111111111,
             "#46039f"
            ],
            [
             0.2222222222222222,
             "#7201a8"
            ],
            [
             0.3333333333333333,
             "#9c179e"
            ],
            [
             0.4444444444444444,
             "#bd3786"
            ],
            [
             0.5555555555555556,
             "#d8576b"
            ],
            [
             0.6666666666666666,
             "#ed7953"
            ],
            [
             0.7777777777777778,
             "#fb9f3a"
            ],
            [
             0.8888888888888888,
             "#fdca26"
            ],
            [
             1,
             "#f0f921"
            ]
           ]
          },
          "colorway": [
           "#636efa",
           "#EF553B",
           "#00cc96",
           "#ab63fa",
           "#FFA15A",
           "#19d3f3",
           "#FF6692",
           "#B6E880",
           "#FF97FF",
           "#FECB52"
          ],
          "font": {
           "color": "#2a3f5f"
          },
          "geo": {
           "bgcolor": "white",
           "lakecolor": "white",
           "landcolor": "#E5ECF6",
           "showlakes": true,
           "showland": true,
           "subunitcolor": "white"
          },
          "hoverlabel": {
           "align": "left"
          },
          "hovermode": "closest",
          "mapbox": {
           "style": "light"
          },
          "paper_bgcolor": "white",
          "plot_bgcolor": "#E5ECF6",
          "polar": {
           "angularaxis": {
            "gridcolor": "white",
            "linecolor": "white",
            "ticks": ""
           },
           "bgcolor": "#E5ECF6",
           "radialaxis": {
            "gridcolor": "white",
            "linecolor": "white",
            "ticks": ""
           }
          },
          "scene": {
           "xaxis": {
            "backgroundcolor": "#E5ECF6",
            "gridcolor": "white",
            "gridwidth": 2,
            "linecolor": "white",
            "showbackground": true,
            "ticks": "",
            "zerolinecolor": "white"
           },
           "yaxis": {
            "backgroundcolor": "#E5ECF6",
            "gridcolor": "white",
            "gridwidth": 2,
            "linecolor": "white",
            "showbackground": true,
            "ticks": "",
            "zerolinecolor": "white"
           },
           "zaxis": {
            "backgroundcolor": "#E5ECF6",
            "gridcolor": "white",
            "gridwidth": 2,
            "linecolor": "white",
            "showbackground": true,
            "ticks": "",
            "zerolinecolor": "white"
           }
          },
          "shapedefaults": {
           "line": {
            "color": "#2a3f5f"
           }
          },
          "ternary": {
           "aaxis": {
            "gridcolor": "white",
            "linecolor": "white",
            "ticks": ""
           },
           "baxis": {
            "gridcolor": "white",
            "linecolor": "white",
            "ticks": ""
           },
           "bgcolor": "#E5ECF6",
           "caxis": {
            "gridcolor": "white",
            "linecolor": "white",
            "ticks": ""
           }
          },
          "title": {
           "x": 0.05
          },
          "xaxis": {
           "automargin": true,
           "gridcolor": "white",
           "linecolor": "white",
           "ticks": "",
           "title": {
            "standoff": 15
           },
           "zerolinecolor": "white",
           "zerolinewidth": 2
          },
          "yaxis": {
           "automargin": true,
           "gridcolor": "white",
           "linecolor": "white",
           "ticks": "",
           "title": {
            "standoff": 15
           },
           "zerolinecolor": "white",
           "zerolinewidth": 2
          }
         }
        },
        "xaxis": {
         "anchor": "y",
         "domain": [
          0,
          1
         ],
         "title": {
          "text": "inovacao"
         }
        },
        "yaxis": {
         "anchor": "x",
         "domain": [
          0,
          1
         ],
         "title": {
          "text": "value"
         }
        }
       }
      }
     },
     "metadata": {},
     "output_type": "display_data"
    }
   ],
   "source": [
    "#distribuição da variavel inovação\n",
    "percentual_inovacao = df_clientes.value_counts('inovacao') / len(df_clientes) * 100\n",
    "px.bar(percentual_inovacao, color=percentual_inovacao.index)"
   ]
  },
  {
   "cell_type": "code",
   "execution_count": null,
   "id": "0e59375e",
   "metadata": {},
   "outputs": [],
   "source": [
    "# Teste ANOVA analise de varianciações significativas na media de faturamento mensal para diferentes niveis de inovação\n",
    "#suposições \n",
    "# as observações independentes\n",
    "# variavel dependente e continua\n",
    "# segue uma distribuição normal\n",
    "# homogeneidade das variancias\n",
    "# amostra sejam de tamanhos iguais\n",
    "\n"
   ]
  },
  {
   "cell_type": "code",
   "execution_count": 9,
   "id": "674368e9",
   "metadata": {},
   "outputs": [
    {
     "name": "stdout",
     "output_type": "stream",
     "text": [
      "Estatistica do teste de bartlett: 10.901203117231173\n",
      "P-Value teste de bartlett: 0.28254182954905804\n"
     ]
    }
   ],
   "source": [
    "# checar se as variancias (faturamento) entre os grupos (inovação) sao homogeneas\n",
    "# aplicar teste de barlett\n",
    "#h0 = variancias sao igauis e h1 - variancias nao sao iguais\n",
    "\n",
    "from scipy.stats import bartlett\n",
    "\n",
    "#separando os dados de faturamento em grupos com base na coluna inovação\n",
    "dados_agrupados = [df_clientes['faturamento_mensal'][df_clientes['inovacao'] == grupo] for grupo in df_clientes['inovacao'].unique()]\n",
    "\n",
    "# executar o teste de bartlett\n",
    "bartlett_test_statistic, bartlett_p_values = bartlett(*dados_agrupados)\n",
    "\n",
    "#exibindo resultados\n",
    "print(f'Estatistica do teste de bartlett: {bartlett_test_statistic}')\n",
    "print(f'P-Value teste de bartlett: {bartlett_p_values}')"
   ]
  },
  {
   "cell_type": "code",
   "execution_count": 11,
   "id": "bdd6ea11",
   "metadata": {},
   "outputs": [],
   "source": [
    "# Executar o teste de Shapiro\n",
    "#verificar se os dados seguem uma distribuição normal\n",
    "from scipy.stats import shapiro\n"
   ]
  },
  {
   "cell_type": "code",
   "execution_count": 12,
   "id": "f1bfa59f",
   "metadata": {},
   "outputs": [
    {
     "name": "stdout",
     "output_type": "stream",
     "text": [
      "Estatistica do teste de shapiro: 0.9959857602472711\n",
      "P-Value teste de shapiro: 0.23513451034389005\n"
     ]
    }
   ],
   "source": [
    "\n",
    "# executar o teste de shapiro\n",
    "shapiro_test_statistic, shapiro_p_values = shapiro(df_clientes['faturamento_mensal'])\n",
    "\n",
    "#exibindo resultados\n",
    "print(f'Estatistica do teste de shapiro: {shapiro_test_statistic}')\n",
    "print(f'P-Value teste de shapiro: {shapiro_p_values}')"
   ]
  },
  {
   "cell_type": "code",
   "execution_count": 13,
   "id": "6122e144",
   "metadata": {},
   "outputs": [
    {
     "name": "stdout",
     "output_type": "stream",
     "text": [
      "Estatistica do teste de anova welch: 1.1269836194061693\n",
      "P-Value teste de anova welch: 0.34526211273911467\n"
     ]
    }
   ],
   "source": [
    "# aplicar a ANOVA de welch pois as amostras sao de tamanhos diferentes\n",
    "# H0 - Não ha diferenças significativas entre as médias dos grupos e H1 ha pelo menos 1\n",
    "\n",
    "from pingouin import welch_anova\n",
    "\n",
    "aov = welch_anova(dv='faturamento_mensal', between='inovacao', data=df_clientes)\n",
    "\n",
    "print(f'Estatistica do teste de anova welch: {aov.loc[0, 'F']}')\n",
    "print(f'P-Value teste de anova welch: {aov.loc[0, 'p-unc']}')"
   ]
  },
  {
   "cell_type": "markdown",
   "id": "863a5532",
   "metadata": {},
   "source": [
    "### Treinar o algoritmo kmeans"
   ]
  },
  {
   "cell_type": "code",
   "execution_count": 15,
   "id": "09fb2068",
   "metadata": {},
   "outputs": [],
   "source": [
    "# selecionar as colunas para clusterização\n",
    "x= df_clientes.copy()\n",
    "\n",
    "#separar as variaveis numericas, categoricas e ordinais\n",
    "numeric_features = ['faturamento_mensal', 'numero_de_funcionarios', 'idade']\n",
    "categorical_features = ['localizacao', 'atividade_economica']\n",
    "ordinal_features = ['inovacao']\n",
    "\n",
    "#aplicar transformações \n",
    "numeric_transformer = StandardScaler()\n",
    "categorical_transformer = OneHotEncoder()\n",
    "ordinal_transformer = OrdinalEncoder()\n",
    "\n",
    "preprocessor= ColumnTransformer(\n",
    "    transformers=[\n",
    "        ('num', numeric_transformer, numeric_features),\n",
    "        ('cat', categorical_transformer, categorical_features),\n",
    "        ('ord', ordinal_transformer, ordinal_features)\n",
    "\n",
    "    ]\n",
    ")\n",
    "# transformar dados\n",
    "X_transformed = preprocessor.fit_transform(x)\n"
   ]
  },
  {
   "cell_type": "code",
   "execution_count": 16,
   "id": "489c6d4a",
   "metadata": {},
   "outputs": [
    {
     "data": {
      "text/plain": [
       "array([[-0.74634498, -0.54179191, -1.10058849, ...,  0.        ,\n",
       "         0.        ,  1.        ],\n",
       "       [-0.56165548, -1.5035527 ,  1.94344851, ...,  0.        ,\n",
       "         0.        ,  0.        ],\n",
       "       [ 0.40582654,  1.06114274, -1.77704115, ...,  0.        ,\n",
       "         0.        ,  9.        ],\n",
       "       ...,\n",
       "       [ 2.8196246 , -1.18296577,  0.25231684, ...,  0.        ,\n",
       "         1.        ,  0.        ],\n",
       "       [ 1.03321411, -0.54179191, -1.43881482, ...,  0.        ,\n",
       "         0.        ,  3.        ],\n",
       "       [-2.03011486, -0.22120498, -1.77704115, ...,  1.        ,\n",
       "         0.        ,  9.        ]])"
      ]
     },
     "execution_count": 16,
     "metadata": {},
     "output_type": "execute_result"
    }
   ],
   "source": [
    "X_transformed"
   ]
  },
  {
   "cell_type": "code",
   "execution_count": 18,
   "id": "90a13dfd",
   "metadata": {},
   "outputs": [],
   "source": [
    "# Optuna para otimização de hiperparams\n",
    "import optuna\n",
    "from sklearn.cluster import KMeans\n",
    "from sklearn.metrics import silhouette_score, pairwise_distances\n",
    "\n",
    "def kmeans_objective(trial):\n",
    "    # definir os hiperparâmetros a serem ajustados\n",
    "    n_clusters = trial.suggest_int('n_clusters', 3, 10)\n",
    "    distance_metric = trial.suggest_categorical('distance_metric', ['euclidean', 'minkowski'])\n",
    "\n",
    "    # criar o modelo\n",
    "    modelo_kmeans = KMeans(n_clusters=n_clusters, random_state=51)\n",
    "\n",
    "    # treinar o modelo\n",
    "    modelo_kmeans.fit(X_transformed)\n",
    "\n",
    "    # calcular o silhouette score\n",
    "    distances = pairwise_distances(X_transformed, metric=distance_metric)\n",
    "    silhouette_avg = silhouette_score(distances, modelo_kmeans.labels_, metric='precomputed')\n",
    "\n",
    "    return silhouette_avg\n"
   ]
  },
  {
   "cell_type": "code",
   "execution_count": 19,
   "id": "666c1cfe",
   "metadata": {},
   "outputs": [
    {
     "name": "stderr",
     "output_type": "stream",
     "text": [
      "[I 2025-06-04 15:54:12,076] A new study created in memory with name: no-name-91578ed4-663b-4b3d-97c8-3585c3b90971\n",
      "[I 2025-06-04 15:54:16,648] Trial 0 finished with value: 0.16677789435822268 and parameters: {'n_clusters': 4, 'distance_metric': 'euclidean'}. Best is trial 0 with value: 0.16677789435822268.\n",
      "[I 2025-06-04 15:54:16,658] Trial 1 finished with value: 0.12513401433552748 and parameters: {'n_clusters': 9, 'distance_metric': 'euclidean'}. Best is trial 0 with value: 0.16677789435822268.\n",
      "[I 2025-06-04 15:54:16,668] Trial 2 finished with value: 0.24380381807094345 and parameters: {'n_clusters': 3, 'distance_metric': 'minkowski'}. Best is trial 2 with value: 0.24380381807094345.\n",
      "[I 2025-06-04 15:54:16,681] Trial 3 finished with value: 0.16677789435822274 and parameters: {'n_clusters': 4, 'distance_metric': 'minkowski'}. Best is trial 2 with value: 0.24380381807094345.\n",
      "[I 2025-06-04 15:54:16,693] Trial 4 finished with value: 0.13539693514128953 and parameters: {'n_clusters': 8, 'distance_metric': 'minkowski'}. Best is trial 2 with value: 0.24380381807094345.\n",
      "[I 2025-06-04 15:54:16,706] Trial 5 finished with value: 0.143008490038459 and parameters: {'n_clusters': 7, 'distance_metric': 'euclidean'}. Best is trial 2 with value: 0.24380381807094345.\n",
      "[I 2025-06-04 15:54:16,718] Trial 6 finished with value: 0.1684229003473514 and parameters: {'n_clusters': 5, 'distance_metric': 'euclidean'}. Best is trial 2 with value: 0.24380381807094345.\n",
      "[I 2025-06-04 15:54:16,732] Trial 7 finished with value: 0.12513401433552754 and parameters: {'n_clusters': 9, 'distance_metric': 'minkowski'}. Best is trial 2 with value: 0.24380381807094345.\n",
      "[I 2025-06-04 15:54:16,744] Trial 8 finished with value: 0.16842290034735144 and parameters: {'n_clusters': 5, 'distance_metric': 'minkowski'}. Best is trial 2 with value: 0.24380381807094345.\n",
      "[I 2025-06-04 15:54:16,760] Trial 9 finished with value: 0.12129203871770099 and parameters: {'n_clusters': 10, 'distance_metric': 'euclidean'}. Best is trial 2 with value: 0.24380381807094345.\n",
      "[I 2025-06-04 15:54:16,775] Trial 10 finished with value: 0.12129203871770101 and parameters: {'n_clusters': 10, 'distance_metric': 'minkowski'}. Best is trial 2 with value: 0.24380381807094345.\n",
      "[I 2025-06-04 15:54:16,788] Trial 11 finished with value: 0.15000668988973462 and parameters: {'n_clusters': 6, 'distance_metric': 'minkowski'}. Best is trial 2 with value: 0.24380381807094345.\n",
      "[I 2025-06-04 15:54:16,799] Trial 12 finished with value: 0.15000668988973456 and parameters: {'n_clusters': 6, 'distance_metric': 'euclidean'}. Best is trial 2 with value: 0.24380381807094345.\n",
      "[I 2025-06-04 15:54:16,809] Trial 13 finished with value: 0.2438038180709434 and parameters: {'n_clusters': 3, 'distance_metric': 'euclidean'}. Best is trial 2 with value: 0.24380381807094345.\n",
      "[I 2025-06-04 15:54:16,821] Trial 14 finished with value: 0.13539693514128948 and parameters: {'n_clusters': 8, 'distance_metric': 'euclidean'}. Best is trial 2 with value: 0.24380381807094345.\n",
      "[I 2025-06-04 15:54:16,831] Trial 15 finished with value: 0.143008490038459 and parameters: {'n_clusters': 7, 'distance_metric': 'minkowski'}. Best is trial 2 with value: 0.24380381807094345.\n"
     ]
    }
   ],
   "source": [
    "#criar um estudo de optuna\n",
    "search_space = {'n_clusters': [3,4,5,6,7,8,9,10], 'distance_metric': ['euclidean', 'minkowski']}\n",
    "sampler = optuna.samplers.GridSampler(search_space=search_space)\n",
    "estudo_kmeans = optuna.create_study(direction='maximize', sampler=sampler)\n",
    "\n",
    "#rodar o estudo\n",
    "estudo_kmeans.optimize(kmeans_objective, n_trials=100)"
   ]
  },
  {
   "cell_type": "code",
   "execution_count": 21,
   "id": "44577117",
   "metadata": {},
   "outputs": [
    {
     "name": "stdout",
     "output_type": "stream",
     "text": [
      "k (número de clusters): 3\n",
      "Métrica de distância selecionada: minkowski\n",
      "Melhor Silhouette Score: 0.44454582909990875\n"
     ]
    }
   ],
   "source": [
    "# Melhor configuração encontrada pelo optuna\n",
    "best_params = estudo_kmeans.best_params\n",
    "\n",
    "# Instanciando kmeans com melhores parâmetros\n",
    "best_kmeans = KMeans(n_clusters=best_params['n_clusters'], random_state=51)\n",
    "best_kmeans.fit(X_transformed)\n",
    "\n",
    "# Calcular o silhouette score\n",
    "distances = pairwise_distances(X_transformed, metric=best_params['distance_metric'])\n",
    "best_silhouette = silhouette_score(distances, best_kmeans.labels_)\n",
    "\n",
    "# Impressão dos resultados\n",
    "print(f'k (número de clusters): {best_params[\"n_clusters\"]}')\n",
    "print(f'Métrica de distância selecionada: {best_params[\"distance_metric\"]}')\n",
    "print(f'Melhor Silhouette Score: {best_silhouette}')\n"
   ]
  },
  {
   "cell_type": "code",
   "execution_count": 22,
   "id": "f8ce5f5b",
   "metadata": {},
   "outputs": [],
   "source": [
    "#criar coluna com cluster escolhido\n",
    "df_clientes['cluster'] = best_kmeans.labels_"
   ]
  },
  {
   "cell_type": "code",
   "execution_count": 23,
   "id": "aa9b98b6",
   "metadata": {},
   "outputs": [
    {
     "data": {
      "text/html": [
       "<div>\n",
       "<style scoped>\n",
       "    .dataframe tbody tr th:only-of-type {\n",
       "        vertical-align: middle;\n",
       "    }\n",
       "\n",
       "    .dataframe tbody tr th {\n",
       "        vertical-align: top;\n",
       "    }\n",
       "\n",
       "    .dataframe thead th {\n",
       "        text-align: right;\n",
       "    }\n",
       "</style>\n",
       "<table border=\"1\" class=\"dataframe\">\n",
       "  <thead>\n",
       "    <tr style=\"text-align: right;\">\n",
       "      <th></th>\n",
       "      <th>atividade_economica</th>\n",
       "      <th>faturamento_mensal</th>\n",
       "      <th>numero_de_funcionarios</th>\n",
       "      <th>localizacao</th>\n",
       "      <th>idade</th>\n",
       "      <th>inovacao</th>\n",
       "      <th>cluster</th>\n",
       "    </tr>\n",
       "  </thead>\n",
       "  <tbody>\n",
       "    <tr>\n",
       "      <th>0</th>\n",
       "      <td>Comércio</td>\n",
       "      <td>713109.95</td>\n",
       "      <td>12</td>\n",
       "      <td>Rio de Janeiro</td>\n",
       "      <td>6</td>\n",
       "      <td>1</td>\n",
       "      <td>0</td>\n",
       "    </tr>\n",
       "    <tr>\n",
       "      <th>1</th>\n",
       "      <td>Comércio</td>\n",
       "      <td>790714.38</td>\n",
       "      <td>9</td>\n",
       "      <td>São Paulo</td>\n",
       "      <td>15</td>\n",
       "      <td>0</td>\n",
       "      <td>0</td>\n",
       "    </tr>\n",
       "    <tr>\n",
       "      <th>2</th>\n",
       "      <td>Comércio</td>\n",
       "      <td>1197239.33</td>\n",
       "      <td>17</td>\n",
       "      <td>São Paulo</td>\n",
       "      <td>4</td>\n",
       "      <td>9</td>\n",
       "      <td>1</td>\n",
       "    </tr>\n",
       "    <tr>\n",
       "      <th>3</th>\n",
       "      <td>Indústria</td>\n",
       "      <td>449185.78</td>\n",
       "      <td>15</td>\n",
       "      <td>São Paulo</td>\n",
       "      <td>6</td>\n",
       "      <td>0</td>\n",
       "      <td>0</td>\n",
       "    </tr>\n",
       "    <tr>\n",
       "      <th>4</th>\n",
       "      <td>Agronegócio</td>\n",
       "      <td>1006373.16</td>\n",
       "      <td>15</td>\n",
       "      <td>São Paulo</td>\n",
       "      <td>15</td>\n",
       "      <td>8</td>\n",
       "      <td>1</td>\n",
       "    </tr>\n",
       "    <tr>\n",
       "      <th>5</th>\n",
       "      <td>Serviços</td>\n",
       "      <td>1629562.41</td>\n",
       "      <td>16</td>\n",
       "      <td>Rio de Janeiro</td>\n",
       "      <td>11</td>\n",
       "      <td>4</td>\n",
       "      <td>2</td>\n",
       "    </tr>\n",
       "    <tr>\n",
       "      <th>6</th>\n",
       "      <td>Serviços</td>\n",
       "      <td>771179.95</td>\n",
       "      <td>13</td>\n",
       "      <td>Vitória</td>\n",
       "      <td>0</td>\n",
       "      <td>1</td>\n",
       "      <td>0</td>\n",
       "    </tr>\n",
       "    <tr>\n",
       "      <th>7</th>\n",
       "      <td>Serviços</td>\n",
       "      <td>707837.61</td>\n",
       "      <td>16</td>\n",
       "      <td>São Paulo</td>\n",
       "      <td>10</td>\n",
       "      <td>6</td>\n",
       "      <td>1</td>\n",
       "    </tr>\n",
       "    <tr>\n",
       "      <th>8</th>\n",
       "      <td>Comércio</td>\n",
       "      <td>888983.66</td>\n",
       "      <td>17</td>\n",
       "      <td>Belo Horizonte</td>\n",
       "      <td>10</td>\n",
       "      <td>1</td>\n",
       "      <td>0</td>\n",
       "    </tr>\n",
       "    <tr>\n",
       "      <th>9</th>\n",
       "      <td>Indústria</td>\n",
       "      <td>1098512.64</td>\n",
       "      <td>13</td>\n",
       "      <td>Rio de Janeiro</td>\n",
       "      <td>9</td>\n",
       "      <td>3</td>\n",
       "      <td>2</td>\n",
       "    </tr>\n",
       "  </tbody>\n",
       "</table>\n",
       "</div>"
      ],
      "text/plain": [
       "  atividade_economica  faturamento_mensal  numero_de_funcionarios  \\\n",
       "0            Comércio           713109.95                      12   \n",
       "1            Comércio           790714.38                       9   \n",
       "2            Comércio          1197239.33                      17   \n",
       "3           Indústria           449185.78                      15   \n",
       "4         Agronegócio          1006373.16                      15   \n",
       "5            Serviços          1629562.41                      16   \n",
       "6            Serviços           771179.95                      13   \n",
       "7            Serviços           707837.61                      16   \n",
       "8            Comércio           888983.66                      17   \n",
       "9           Indústria          1098512.64                      13   \n",
       "\n",
       "      localizacao  idade  inovacao  cluster  \n",
       "0  Rio de Janeiro      6         1        0  \n",
       "1       São Paulo     15         0        0  \n",
       "2       São Paulo      4         9        1  \n",
       "3       São Paulo      6         0        0  \n",
       "4       São Paulo     15         8        1  \n",
       "5  Rio de Janeiro     11         4        2  \n",
       "6         Vitória      0         1        0  \n",
       "7       São Paulo     10         6        1  \n",
       "8  Belo Horizonte     10         1        0  \n",
       "9  Rio de Janeiro      9         3        2  "
      ]
     },
     "execution_count": 23,
     "metadata": {},
     "output_type": "execute_result"
    }
   ],
   "source": [
    "#visualizar\n",
    "df_clientes.head(10)"
   ]
  },
  {
   "cell_type": "markdown",
   "id": "bd53d2b3",
   "metadata": {},
   "source": [
    "### Visualizar resultados"
   ]
  },
  {
   "cell_type": "code",
   "execution_count": 24,
   "id": "7a0080e6",
   "metadata": {},
   "outputs": [
    {
     "data": {
      "application/vnd.plotly.v1+json": {
       "config": {
        "plotlyServerURL": "https://plot.ly"
       },
       "data": [
        {
         "hovertemplate": "idade=%{x}<br>faturamento_mensal=%{y}<br>cluster=%{marker.color}<extra></extra>",
         "legendgroup": "",
         "marker": {
          "color": {
           "bdata": "AAAAAAAAAAABAAAAAAAAAAEAAAACAAAAAAAAAAEAAAAAAAAAAgAAAAIAAAACAAAAAQAAAAIAAAABAAAAAQAAAAEAAAAAAAAAAQAAAAIAAAAAAAAAAAAAAAIAAAACAAAAAAAAAAAAAAABAAAAAQAAAAAAAAAAAAAAAAAAAAEAAAACAAAAAQAAAAIAAAACAAAAAgAAAAEAAAABAAAAAQAAAAEAAAACAAAAAgAAAAIAAAAAAAAAAQAAAAIAAAAAAAAAAQAAAAEAAAABAAAAAAAAAAAAAAACAAAAAAAAAAAAAAAAAAAAAAAAAAIAAAABAAAAAQAAAAIAAAAAAAAAAQAAAAEAAAACAAAAAgAAAAAAAAAAAAAAAAAAAAIAAAAAAAAAAAAAAAEAAAACAAAAAAAAAAAAAAACAAAAAgAAAAEAAAABAAAAAAAAAAAAAAABAAAAAgAAAAEAAAABAAAAAAAAAAAAAAABAAAAAAAAAAIAAAACAAAAAAAAAAAAAAABAAAAAQAAAAEAAAABAAAAAgAAAAAAAAAAAAAAAgAAAAIAAAAAAAAAAgAAAAEAAAACAAAAAgAAAAEAAAABAAAAAQAAAAEAAAABAAAAAAAAAAAAAAABAAAAAAAAAAIAAAACAAAAAAAAAAAAAAACAAAAAgAAAAEAAAAAAAAAAQAAAAIAAAACAAAAAQAAAAEAAAAAAAAAAAAAAAIAAAAAAAAAAAAAAAEAAAABAAAAAAAAAAIAAAABAAAAAAAAAAAAAAAAAAAAAQAAAAAAAAABAAAAAAAAAAEAAAABAAAAAAAAAAIAAAACAAAAAQAAAAAAAAABAAAAAQAAAAEAAAAAAAAAAAAAAAIAAAABAAAAAQAAAAEAAAACAAAAAgAAAAAAAAAAAAAAAQAAAAEAAAABAAAAAQAAAAAAAAACAAAAAQAAAAAAAAABAAAAAQAAAAEAAAABAAAAAAAAAAIAAAABAAAAAQAAAAEAAAACAAAAAQAAAAAAAAABAAAAAQAAAAEAAAAAAAAAAgAAAAEAAAAAAAAAAQAAAAAAAAAAAAAAAgAAAAIAAAACAAAAAQAAAAEAAAAAAAAAAAAAAAEAAAACAAAAAAAAAAIAAAAAAAAAAAAAAAAAAAAAAAAAAAAAAAAAAAACAAAAAgAAAAEAAAAAAAAAAAAAAAEAAAACAAAAAQAAAAEAAAABAAAAAQAAAAAAAAABAAAAAAAAAAIAAAAAAAAAAgAAAAEAAAABAAAAAAAAAAEAAAACAAAAAgAAAAEAAAACAAAAAQAAAAIAAAAAAAAAAAAAAAAAAAABAAAAAgAAAAEAAAABAAAAAQAAAAEAAAAAAAAAAAAAAAAAAAABAAAAAgAAAAEAAAABAAAAAQAAAAAAAAACAAAAAQAAAAAAAAABAAAAAAAAAAIAAAABAAAAAQAAAAAAAAACAAAAAQAAAAEAAAAAAAAAAQAAAAEAAAACAAAAAgAAAAEAAAACAAAAAQAAAAIAAAABAAAAAAAAAAAAAAABAAAAAQAAAAEAAAABAAAAAgAAAAAAAAAAAAAAAQAAAAAAAAACAAAAAQAAAAAAAAABAAAAAgAAAAEAAAAAAAAAAgAAAAEAAAABAAAAAAAAAAAAAAABAAAAAQAAAAIAAAACAAAAAAAAAAAAAAACAAAAAAAAAAAAAAAAAAAAAAAAAAEAAAACAAAAAQAAAAAAAAAAAAAAAQAAAAAAAAABAAAAAQAAAAEAAAABAAAAAQAAAAAAAAABAAAAAQAAAAAAAAACAAAAAQAAAAIAAAACAAAAAAAAAAAAAAABAAAAAQAAAAEAAAACAAAAAQAAAAAAAAAAAAAAAQAAAAAAAAABAAAAAgAAAAEAAAACAAAAAAAAAAEAAAABAAAAAgAAAAEAAAACAAAAAgAAAAEAAAACAAAAAQAAAAAAAAABAAAAAQAAAAIAAAAAAAAAAAAAAAAAAAABAAAAAgAAAAAAAAAAAAAAAgAAAAIAAAABAAAAAQAAAAIAAAACAAAAAAAAAAEAAAACAAAAAQAAAAAAAAABAAAAAQAAAAIAAAAAAAAAAQAAAAEAAAABAAAAAQAAAAIAAAAAAAAAAgAAAAEAAAABAAAAAAAAAAEAAAABAAAAAQAAAAAAAAACAAAAAQAAAAAAAAACAAAAAQAAAAEAAAACAAAAAAAAAAAAAAAAAAAAAQAAAAIAAAABAAAAAQAAAAIAAAABAAAAAgAAAAEAAAACAAAAAQAAAAIAAAACAAAAAgAAAAAAAAACAAAAAgAAAAEAAAAAAAAAAQAAAAIAAAAAAAAAAAAAAAAAAAABAAAAAgAAAAEAAAABAAAAAAAAAAEAAAACAAAAAQAAAAEAAAABAAAAAgAAAAAAAAAAAAAAAgAAAAEAAAACAAAAAAAAAAIAAAAAAAAAAQAAAAAAAAACAAAAAQAAAAEAAAACAAAAAQAAAAEAAAABAAAAAgAAAAAAAAAAAAAAAAAAAAIAAAABAAAAAAAAAAIAAAAAAAAAAAAAAAEAAAABAAAAAgAAAAIAAAACAAAAAQAAAAAAAAAAAAAAAgAAAAEAAAABAAAAAAAAAAEAAAAAAAAAAAAAAAIAAAACAAAAAAAAAAIAAAAAAAAAAAAAAAEAAAAAAAAAAAAAAAEAAAAAAAAAAgAAAAEAAAA=",
           "dtype": "i4"
          },
          "coloraxis": "coloraxis",
          "symbol": "circle"
         },
         "mode": "markers",
         "name": "",
         "orientation": "v",
         "showlegend": false,
         "type": "scatter",
         "x": {
          "bdata": "Bg8EBg8LAAoKCQoJCwkICAgMCgwGEAkNDwcHCQQMAwcMBwUMDAkLBwYJBwYODQwICQkNCAwMAwwICQoHBwoGCggJCgIKDgYNCwYNDAgKCQkJDA0EBwoHDQoLCQoJBwoMCgcPAwUICQQLCgcHCQ4JDAsOCggOCQwLCxADBwsHCgcLBQgLCQgMCgoHBwoKBhAMBwwHBgUHCw0KCgsHDQoNDw0CCwkJDAoFBAsQBwQICQgHBg0IDAYJCwcFDAYKCAoKBwwGCgcICg8FCAoMCQgICgQNDAkHCQYOBwkKBgYMCQsKCAkCDQkHCAcMCAcFBQ0HBQ0GCQULCAQLBgkNBwYJCAgKEAoJCAkHCgwKCQgFBQkLCw4NCQgJDAkKDAwMCQoFDQcNCwcHEAsMDwQHDAcLDQwLCQkGBA4LCwYHDgYLBwwJCQoHBgwKCQYIAg4FCQoDCwkKDAoNCAkGDAoGCgsIBw0LBwgKCg0JCAcJCggICAgJDwsPCwoNDAYMBwYECggICAcICwgMCBAMCwwKEAcLCwUKCggIDAwHDA4KBggIDgMLDA0GBg0JCAsLCAsLBwoNCQwJCwoPCgQNBwoKCAoFEAgHCgoFCwUKCgQGCwkPBxALDAsKDw0HCAQLBgkLCwgGBQENCwUMDQcNBwcICQQKCAYKBQQ=",
          "dtype": "i1"
         },
         "xaxis": "x",
         "y": {
          "bdata": "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",
          "dtype": "f8"
         },
         "yaxis": "y"
        }
       ],
       "layout": {
        "coloraxis": {
         "colorbar": {
          "title": {
           "text": "cluster"
          }
         },
         "colorscale": [
          [
           0,
           "#0d0887"
          ],
          [
           0.1111111111111111,
           "#46039f"
          ],
          [
           0.2222222222222222,
           "#7201a8"
          ],
          [
           0.3333333333333333,
           "#9c179e"
          ],
          [
           0.4444444444444444,
           "#bd3786"
          ],
          [
           0.5555555555555556,
           "#d8576b"
          ],
          [
           0.6666666666666666,
           "#ed7953"
          ],
          [
           0.7777777777777778,
           "#fb9f3a"
          ],
          [
           0.8888888888888888,
           "#fdca26"
          ],
          [
           1,
           "#f0f921"
          ]
         ]
        },
        "legend": {
         "tracegroupgap": 0
        },
        "margin": {
         "t": 60
        },
        "template": {
         "data": {
          "bar": [
           {
            "error_x": {
             "color": "#2a3f5f"
            },
            "error_y": {
             "color": "#2a3f5f"
            },
            "marker": {
             "line": {
              "color": "#E5ECF6",
              "width": 0.5
             },
             "pattern": {
              "fillmode": "overlay",
              "size": 10,
              "solidity": 0.2
             }
            },
            "type": "bar"
           }
          ],
          "barpolar": [
           {
            "marker": {
             "line": {
              "color": "#E5ECF6",
              "width": 0.5
             },
             "pattern": {
              "fillmode": "overlay",
              "size": 10,
              "solidity": 0.2
             }
            },
            "type": "barpolar"
           }
          ],
          "carpet": [
           {
            "aaxis": {
             "endlinecolor": "#2a3f5f",
             "gridcolor": "white",
             "linecolor": "white",
             "minorgridcolor": "white",
             "startlinecolor": "#2a3f5f"
            },
            "baxis": {
             "endlinecolor": "#2a3f5f",
             "gridcolor": "white",
             "linecolor": "white",
             "minorgridcolor": "white",
             "startlinecolor": "#2a3f5f"
            },
            "type": "carpet"
           }
          ],
          "choropleth": [
           {
            "colorbar": {
             "outlinewidth": 0,
             "ticks": ""
            },
            "type": "choropleth"
           }
          ],
          "contour": [
           {
            "colorbar": {
             "outlinewidth": 0,
             "ticks": ""
            },
            "colorscale": [
             [
              0,
              "#0d0887"
             ],
             [
              0.1111111111111111,
              "#46039f"
             ],
             [
              0.2222222222222222,
              "#7201a8"
             ],
             [
              0.3333333333333333,
              "#9c179e"
             ],
             [
              0.4444444444444444,
              "#bd3786"
             ],
             [
              0.5555555555555556,
              "#d8576b"
             ],
             [
              0.6666666666666666,
              "#ed7953"
             ],
             [
              0.7777777777777778,
              "#fb9f3a"
             ],
             [
              0.8888888888888888,
              "#fdca26"
             ],
             [
              1,
              "#f0f921"
             ]
            ],
            "type": "contour"
           }
          ],
          "contourcarpet": [
           {
            "colorbar": {
             "outlinewidth": 0,
             "ticks": ""
            },
            "type": "contourcarpet"
           }
          ],
          "heatmap": [
           {
            "colorbar": {
             "outlinewidth": 0,
             "ticks": ""
            },
            "colorscale": [
             [
              0,
              "#0d0887"
             ],
             [
              0.1111111111111111,
              "#46039f"
             ],
             [
              0.2222222222222222,
              "#7201a8"
             ],
             [
              0.3333333333333333,
              "#9c179e"
             ],
             [
              0.4444444444444444,
              "#bd3786"
             ],
             [
              0.5555555555555556,
              "#d8576b"
             ],
             [
              0.6666666666666666,
              "#ed7953"
             ],
             [
              0.7777777777777778,
              "#fb9f3a"
             ],
             [
              0.8888888888888888,
              "#fdca26"
             ],
             [
              1,
              "#f0f921"
             ]
            ],
            "type": "heatmap"
           }
          ],
          "histogram": [
           {
            "marker": {
             "pattern": {
              "fillmode": "overlay",
              "size": 10,
              "solidity": 0.2
             }
            },
            "type": "histogram"
           }
          ],
          "histogram2d": [
           {
            "colorbar": {
             "outlinewidth": 0,
             "ticks": ""
            },
            "colorscale": [
             [
              0,
              "#0d0887"
             ],
             [
              0.1111111111111111,
              "#46039f"
             ],
             [
              0.2222222222222222,
              "#7201a8"
             ],
             [
              0.3333333333333333,
              "#9c179e"
             ],
             [
              0.4444444444444444,
              "#bd3786"
             ],
             [
              0.5555555555555556,
              "#d8576b"
             ],
             [
              0.6666666666666666,
              "#ed7953"
             ],
             [
              0.7777777777777778,
              "#fb9f3a"
             ],
             [
              0.8888888888888888,
              "#fdca26"
             ],
             [
              1,
              "#f0f921"
             ]
            ],
            "type": "histogram2d"
           }
          ],
          "histogram2dcontour": [
           {
            "colorbar": {
             "outlinewidth": 0,
             "ticks": ""
            },
            "colorscale": [
             [
              0,
              "#0d0887"
             ],
             [
              0.1111111111111111,
              "#46039f"
             ],
             [
              0.2222222222222222,
              "#7201a8"
             ],
             [
              0.3333333333333333,
              "#9c179e"
             ],
             [
              0.4444444444444444,
              "#bd3786"
             ],
             [
              0.5555555555555556,
              "#d8576b"
             ],
             [
              0.6666666666666666,
              "#ed7953"
             ],
             [
              0.7777777777777778,
              "#fb9f3a"
             ],
             [
              0.8888888888888888,
              "#fdca26"
             ],
             [
              1,
              "#f0f921"
             ]
            ],
            "type": "histogram2dcontour"
           }
          ],
          "mesh3d": [
           {
            "colorbar": {
             "outlinewidth": 0,
             "ticks": ""
            },
            "type": "mesh3d"
           }
          ],
          "parcoords": [
           {
            "line": {
             "colorbar": {
              "outlinewidth": 0,
              "ticks": ""
             }
            },
            "type": "parcoords"
           }
          ],
          "pie": [
           {
            "automargin": true,
            "type": "pie"
           }
          ],
          "scatter": [
           {
            "fillpattern": {
             "fillmode": "overlay",
             "size": 10,
             "solidity": 0.2
            },
            "type": "scatter"
           }
          ],
          "scatter3d": [
           {
            "line": {
             "colorbar": {
              "outlinewidth": 0,
              "ticks": ""
             }
            },
            "marker": {
             "colorbar": {
              "outlinewidth": 0,
              "ticks": ""
             }
            },
            "type": "scatter3d"
           }
          ],
          "scattercarpet": [
           {
            "marker": {
             "colorbar": {
              "outlinewidth": 0,
              "ticks": ""
             }
            },
            "type": "scattercarpet"
           }
          ],
          "scattergeo": [
           {
            "marker": {
             "colorbar": {
              "outlinewidth": 0,
              "ticks": ""
             }
            },
            "type": "scattergeo"
           }
          ],
          "scattergl": [
           {
            "marker": {
             "colorbar": {
              "outlinewidth": 0,
              "ticks": ""
             }
            },
            "type": "scattergl"
           }
          ],
          "scattermap": [
           {
            "marker": {
             "colorbar": {
              "outlinewidth": 0,
              "ticks": ""
             }
            },
            "type": "scattermap"
           }
          ],
          "scattermapbox": [
           {
            "marker": {
             "colorbar": {
              "outlinewidth": 0,
              "ticks": ""
             }
            },
            "type": "scattermapbox"
           }
          ],
          "scatterpolar": [
           {
            "marker": {
             "colorbar": {
              "outlinewidth": 0,
              "ticks": ""
             }
            },
            "type": "scatterpolar"
           }
          ],
          "scatterpolargl": [
           {
            "marker": {
             "colorbar": {
              "outlinewidth": 0,
              "ticks": ""
             }
            },
            "type": "scatterpolargl"
           }
          ],
          "scatterternary": [
           {
            "marker": {
             "colorbar": {
              "outlinewidth": 0,
              "ticks": ""
             }
            },
            "type": "scatterternary"
           }
          ],
          "surface": [
           {
            "colorbar": {
             "outlinewidth": 0,
             "ticks": ""
            },
            "colorscale": [
             [
              0,
              "#0d0887"
             ],
             [
              0.1111111111111111,
              "#46039f"
             ],
             [
              0.2222222222222222,
              "#7201a8"
             ],
             [
              0.3333333333333333,
              "#9c179e"
             ],
             [
              0.4444444444444444,
              "#bd3786"
             ],
             [
              0.5555555555555556,
              "#d8576b"
             ],
             [
              0.6666666666666666,
              "#ed7953"
             ],
             [
              0.7777777777777778,
              "#fb9f3a"
             ],
             [
              0.8888888888888888,
              "#fdca26"
             ],
             [
              1,
              "#f0f921"
             ]
            ],
            "type": "surface"
           }
          ],
          "table": [
           {
            "cells": {
             "fill": {
              "color": "#EBF0F8"
             },
             "line": {
              "color": "white"
             }
            },
            "header": {
             "fill": {
              "color": "#C8D4E3"
             },
             "line": {
              "color": "white"
             }
            },
            "type": "table"
           }
          ]
         },
         "layout": {
          "annotationdefaults": {
           "arrowcolor": "#2a3f5f",
           "arrowhead": 0,
           "arrowwidth": 1
          },
          "autotypenumbers": "strict",
          "coloraxis": {
           "colorbar": {
            "outlinewidth": 0,
            "ticks": ""
           }
          },
          "colorscale": {
           "diverging": [
            [
             0,
             "#8e0152"
            ],
            [
             0.1,
             "#c51b7d"
            ],
            [
             0.2,
             "#de77ae"
            ],
            [
             0.3,
             "#f1b6da"
            ],
            [
             0.4,
             "#fde0ef"
            ],
            [
             0.5,
             "#f7f7f7"
            ],
            [
             0.6,
             "#e6f5d0"
            ],
            [
             0.7,
             "#b8e186"
            ],
            [
             0.8,
             "#7fbc41"
            ],
            [
             0.9,
             "#4d9221"
            ],
            [
             1,
             "#276419"
            ]
           ],
           "sequential": [
            [
             0,
             "#0d0887"
            ],
            [
             0.1111111111111111,
             "#46039f"
            ],
            [
             0.2222222222222222,
             "#7201a8"
            ],
            [
             0.3333333333333333,
             "#9c179e"
            ],
            [
             0.4444444444444444,
             "#bd3786"
            ],
            [
             0.5555555555555556,
             "#d8576b"
            ],
            [
             0.6666666666666666,
             "#ed7953"
            ],
            [
             0.7777777777777778,
             "#fb9f3a"
            ],
            [
             0.8888888888888888,
             "#fdca26"
            ],
            [
             1,
             "#f0f921"
            ]
           ],
           "sequentialminus": [
            [
             0,
             "#0d0887"
            ],
            [
             0.1111111111111111,
             "#46039f"
            ],
            [
             0.2222222222222222,
             "#7201a8"
            ],
            [
             0.3333333333333333,
             "#9c179e"
            ],
            [
             0.4444444444444444,
             "#bd3786"
            ],
            [
             0.5555555555555556,
             "#d8576b"
            ],
            [
             0.6666666666666666,
             "#ed7953"
            ],
            [
             0.7777777777777778,
             "#fb9f3a"
            ],
            [
             0.8888888888888888,
             "#fdca26"
            ],
            [
             1,
             "#f0f921"
            ]
           ]
          },
          "colorway": [
           "#636efa",
           "#EF553B",
           "#00cc96",
           "#ab63fa",
           "#FFA15A",
           "#19d3f3",
           "#FF6692",
           "#B6E880",
           "#FF97FF",
           "#FECB52"
          ],
          "font": {
           "color": "#2a3f5f"
          },
          "geo": {
           "bgcolor": "white",
           "lakecolor": "white",
           "landcolor": "#E5ECF6",
           "showlakes": true,
           "showland": true,
           "subunitcolor": "white"
          },
          "hoverlabel": {
           "align": "left"
          },
          "hovermode": "closest",
          "mapbox": {
           "style": "light"
          },
          "paper_bgcolor": "white",
          "plot_bgcolor": "#E5ECF6",
          "polar": {
           "angularaxis": {
            "gridcolor": "white",
            "linecolor": "white",
            "ticks": ""
           },
           "bgcolor": "#E5ECF6",
           "radialaxis": {
            "gridcolor": "white",
            "linecolor": "white",
            "ticks": ""
           }
          },
          "scene": {
           "xaxis": {
            "backgroundcolor": "#E5ECF6",
            "gridcolor": "white",
            "gridwidth": 2,
            "linecolor": "white",
            "showbackground": true,
            "ticks": "",
            "zerolinecolor": "white"
           },
           "yaxis": {
            "backgroundcolor": "#E5ECF6",
            "gridcolor": "white",
            "gridwidth": 2,
            "linecolor": "white",
            "showbackground": true,
            "ticks": "",
            "zerolinecolor": "white"
           },
           "zaxis": {
            "backgroundcolor": "#E5ECF6",
            "gridcolor": "white",
            "gridwidth": 2,
            "linecolor": "white",
            "showbackground": true,
            "ticks": "",
            "zerolinecolor": "white"
           }
          },
          "shapedefaults": {
           "line": {
            "color": "#2a3f5f"
           }
          },
          "ternary": {
           "aaxis": {
            "gridcolor": "white",
            "linecolor": "white",
            "ticks": ""
           },
           "baxis": {
            "gridcolor": "white",
            "linecolor": "white",
            "ticks": ""
           },
           "bgcolor": "#E5ECF6",
           "caxis": {
            "gridcolor": "white",
            "linecolor": "white",
            "ticks": ""
           }
          },
          "title": {
           "x": 0.05
          },
          "xaxis": {
           "automargin": true,
           "gridcolor": "white",
           "linecolor": "white",
           "ticks": "",
           "title": {
            "standoff": 15
           },
           "zerolinecolor": "white",
           "zerolinewidth": 2
          },
          "yaxis": {
           "automargin": true,
           "gridcolor": "white",
           "linecolor": "white",
           "ticks": "",
           "title": {
            "standoff": 15
           },
           "zerolinecolor": "white",
           "zerolinewidth": 2
          }
         }
        },
        "xaxis": {
         "anchor": "y",
         "domain": [
          0,
          1
         ],
         "title": {
          "text": "idade"
         }
        },
        "yaxis": {
         "anchor": "x",
         "domain": [
          0,
          1
         ],
         "title": {
          "text": "faturamento_mensal"
         }
        }
       }
      }
     },
     "metadata": {},
     "output_type": "display_data"
    }
   ],
   "source": [
    "#cruzar idade e faturamento apresentando clusters\n",
    "px.scatter(df_clientes, x='idade', y='faturamento_mensal', color='cluster')"
   ]
  },
  {
   "cell_type": "code",
   "execution_count": 25,
   "id": "8a64d9d2",
   "metadata": {},
   "outputs": [
    {
     "data": {
      "application/vnd.plotly.v1+json": {
       "config": {
        "plotlyServerURL": "https://plot.ly"
       },
       "data": [
        {
         "hovertemplate": "inovacao=%{x}<br>faturamento_mensal=%{y}<br>cluster=%{marker.color}<extra></extra>",
         "legendgroup": "",
         "marker": {
          "color": {
           "bdata": "AAAAAAAAAAABAAAAAAAAAAEAAAACAAAAAAAAAAEAAAAAAAAAAgAAAAIAAAACAAAAAQAAAAIAAAABAAAAAQAAAAEAAAAAAAAAAQAAAAIAAAAAAAAAAAAAAAIAAAACAAAAAAAAAAAAAAABAAAAAQAAAAAAAAAAAAAAAAAAAAEAAAACAAAAAQAAAAIAAAACAAAAAgAAAAEAAAABAAAAAQAAAAEAAAACAAAAAgAAAAIAAAAAAAAAAQAAAAIAAAAAAAAAAQAAAAEAAAABAAAAAAAAAAAAAAACAAAAAAAAAAAAAAAAAAAAAAAAAAIAAAABAAAAAQAAAAIAAAAAAAAAAQAAAAEAAAACAAAAAgAAAAAAAAAAAAAAAAAAAAIAAAAAAAAAAAAAAAEAAAACAAAAAAAAAAAAAAACAAAAAgAAAAEAAAABAAAAAAAAAAAAAAABAAAAAgAAAAEAAAABAAAAAAAAAAAAAAABAAAAAAAAAAIAAAACAAAAAAAAAAAAAAABAAAAAQAAAAEAAAABAAAAAgAAAAAAAAAAAAAAAgAAAAIAAAAAAAAAAgAAAAEAAAACAAAAAgAAAAEAAAABAAAAAQAAAAEAAAABAAAAAAAAAAAAAAABAAAAAAAAAAIAAAACAAAAAAAAAAAAAAACAAAAAgAAAAEAAAAAAAAAAQAAAAIAAAACAAAAAQAAAAEAAAAAAAAAAAAAAAIAAAAAAAAAAAAAAAEAAAABAAAAAAAAAAIAAAABAAAAAAAAAAAAAAAAAAAAAQAAAAAAAAABAAAAAAAAAAEAAAABAAAAAAAAAAIAAAACAAAAAQAAAAAAAAABAAAAAQAAAAEAAAAAAAAAAAAAAAIAAAABAAAAAQAAAAEAAAACAAAAAgAAAAAAAAAAAAAAAQAAAAEAAAABAAAAAQAAAAAAAAACAAAAAQAAAAAAAAABAAAAAQAAAAEAAAABAAAAAAAAAAIAAAABAAAAAQAAAAEAAAACAAAAAQAAAAAAAAABAAAAAQAAAAEAAAAAAAAAAgAAAAEAAAAAAAAAAQAAAAAAAAAAAAAAAgAAAAIAAAACAAAAAQAAAAEAAAAAAAAAAAAAAAEAAAACAAAAAAAAAAIAAAAAAAAAAAAAAAAAAAAAAAAAAAAAAAAAAAACAAAAAgAAAAEAAAAAAAAAAAAAAAEAAAACAAAAAQAAAAEAAAABAAAAAQAAAAAAAAABAAAAAAAAAAIAAAAAAAAAAgAAAAEAAAABAAAAAAAAAAEAAAACAAAAAgAAAAEAAAACAAAAAQAAAAIAAAAAAAAAAAAAAAAAAAABAAAAAgAAAAEAAAABAAAAAQAAAAEAAAAAAAAAAAAAAAAAAAABAAAAAgAAAAEAAAABAAAAAQAAAAAAAAACAAAAAQAAAAAAAAABAAAAAAAAAAIAAAABAAAAAQAAAAAAAAACAAAAAQAAAAEAAAAAAAAAAQAAAAEAAAACAAAAAgAAAAEAAAACAAAAAQAAAAIAAAABAAAAAAAAAAAAAAABAAAAAQAAAAEAAAABAAAAAgAAAAAAAAAAAAAAAQAAAAAAAAACAAAAAQAAAAAAAAABAAAAAgAAAAEAAAAAAAAAAgAAAAEAAAABAAAAAAAAAAAAAAABAAAAAQAAAAIAAAACAAAAAAAAAAAAAAACAAAAAAAAAAAAAAAAAAAAAAAAAAEAAAACAAAAAQAAAAAAAAAAAAAAAQAAAAAAAAABAAAAAQAAAAEAAAABAAAAAQAAAAAAAAABAAAAAQAAAAAAAAACAAAAAQAAAAIAAAACAAAAAAAAAAAAAAABAAAAAQAAAAEAAAACAAAAAQAAAAAAAAAAAAAAAQAAAAAAAAABAAAAAgAAAAEAAAACAAAAAAAAAAEAAAABAAAAAgAAAAEAAAACAAAAAgAAAAEAAAACAAAAAQAAAAAAAAABAAAAAQAAAAIAAAAAAAAAAAAAAAAAAAABAAAAAgAAAAAAAAAAAAAAAgAAAAIAAAABAAAAAQAAAAIAAAACAAAAAAAAAAEAAAACAAAAAQAAAAAAAAABAAAAAQAAAAIAAAAAAAAAAQAAAAEAAAABAAAAAQAAAAIAAAAAAAAAAgAAAAEAAAABAAAAAAAAAAEAAAABAAAAAQAAAAAAAAACAAAAAQAAAAAAAAACAAAAAQAAAAEAAAACAAAAAAAAAAAAAAAAAAAAAQAAAAIAAAABAAAAAQAAAAIAAAABAAAAAgAAAAEAAAACAAAAAQAAAAIAAAACAAAAAgAAAAAAAAACAAAAAgAAAAEAAAAAAAAAAQAAAAIAAAAAAAAAAAAAAAAAAAABAAAAAgAAAAEAAAABAAAAAAAAAAEAAAACAAAAAQAAAAEAAAABAAAAAgAAAAAAAAAAAAAAAgAAAAEAAAACAAAAAAAAAAIAAAAAAAAAAQAAAAAAAAACAAAAAQAAAAEAAAACAAAAAQAAAAEAAAABAAAAAgAAAAAAAAAAAAAAAAAAAAIAAAABAAAAAAAAAAIAAAAAAAAAAAAAAAEAAAABAAAAAgAAAAIAAAACAAAAAQAAAAAAAAAAAAAAAgAAAAEAAAABAAAAAAAAAAEAAAAAAAAAAAAAAAIAAAACAAAAAAAAAAIAAAAAAAAAAAAAAAEAAAAAAAAAAAAAAAEAAAAAAAAAAgAAAAEAAAA=",
           "dtype": "i4"
          },
          "coloraxis": "coloraxis",
          "symbol": "circle"
         },
         "mode": "markers",
         "name": "",
         "orientation": "v",
         "showlegend": false,
         "type": "scatter",
         "x": {
          "bdata": "AQAJAAgEAQYBAwQEBgMIBwgABwUCAgQFAgEHBgIBAgkFBgUDBQYIBwYDAwQBCQMACAcGAQIDAAACAQUJCQQBBwgDBQIAAQUBAQcFAgIDBQgHAgIHAwkGAQAGAAMEAQIIBwYJBAEBBAUAAwgDBQkIBwcHAAIIAAQDAAIFBAkCCQQECQYAAQMCAgkGAAQHAAECCQIHAAYGAgMFBwIGBwcCAgQJCAYDBQEBCQcJBgIEBgAJCQgHAAQHCQYFCAEJCAkAAwgBCAEABAQDCAcBAAcEAQUAAAIBAAIEAwkBAAkFBgYHCAIIAAMAAwcGAgcFBAgEBwMBAgIJAwYIBgkAAAEGBQcGBwAFCQIIAgQJBwADBwYACAYFBAcFBgQJAgAHBwgIBAIBCAEDCQAGBAgBBQgGAQEICAMFAgADAQECAAcDCQECBgIHBwYJBgEJBgEDCAMEAgAJCQkEBgECBwAGAwgFAAYHBQYDBQcDBwAICAUCAQAIBAIBBAQJBwUDAgYFCQAICQMCBwgIBgMBBQYHAQgHBgIECQEECQgDAQECBgUHBgQGAwkDBwMEAwEDBQYCBwMAAQIJBQYGAQYFCQYJBAIABAgFAQUBBgEEBwYEBwYHBQIAAQMIAgUAAAcIBAMECAACBQcIAAkCAQUFAQMAAggBAgkAAwk=",
          "dtype": "i1"
         },
         "xaxis": "x",
         "y": {
          "bdata": "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",
          "dtype": "f8"
         },
         "yaxis": "y"
        }
       ],
       "layout": {
        "coloraxis": {
         "colorbar": {
          "title": {
           "text": "cluster"
          }
         },
         "colorscale": [
          [
           0,
           "#0d0887"
          ],
          [
           0.1111111111111111,
           "#46039f"
          ],
          [
           0.2222222222222222,
           "#7201a8"
          ],
          [
           0.3333333333333333,
           "#9c179e"
          ],
          [
           0.4444444444444444,
           "#bd3786"
          ],
          [
           0.5555555555555556,
           "#d8576b"
          ],
          [
           0.6666666666666666,
           "#ed7953"
          ],
          [
           0.7777777777777778,
           "#fb9f3a"
          ],
          [
           0.8888888888888888,
           "#fdca26"
          ],
          [
           1,
           "#f0f921"
          ]
         ]
        },
        "legend": {
         "tracegroupgap": 0
        },
        "margin": {
         "t": 60
        },
        "template": {
         "data": {
          "bar": [
           {
            "error_x": {
             "color": "#2a3f5f"
            },
            "error_y": {
             "color": "#2a3f5f"
            },
            "marker": {
             "line": {
              "color": "#E5ECF6",
              "width": 0.5
             },
             "pattern": {
              "fillmode": "overlay",
              "size": 10,
              "solidity": 0.2
             }
            },
            "type": "bar"
           }
          ],
          "barpolar": [
           {
            "marker": {
             "line": {
              "color": "#E5ECF6",
              "width": 0.5
             },
             "pattern": {
              "fillmode": "overlay",
              "size": 10,
              "solidity": 0.2
             }
            },
            "type": "barpolar"
           }
          ],
          "carpet": [
           {
            "aaxis": {
             "endlinecolor": "#2a3f5f",
             "gridcolor": "white",
             "linecolor": "white",
             "minorgridcolor": "white",
             "startlinecolor": "#2a3f5f"
            },
            "baxis": {
             "endlinecolor": "#2a3f5f",
             "gridcolor": "white",
             "linecolor": "white",
             "minorgridcolor": "white",
             "startlinecolor": "#2a3f5f"
            },
            "type": "carpet"
           }
          ],
          "choropleth": [
           {
            "colorbar": {
             "outlinewidth": 0,
             "ticks": ""
            },
            "type": "choropleth"
           }
          ],
          "contour": [
           {
            "colorbar": {
             "outlinewidth": 0,
             "ticks": ""
            },
            "colorscale": [
             [
              0,
              "#0d0887"
             ],
             [
              0.1111111111111111,
              "#46039f"
             ],
             [
              0.2222222222222222,
              "#7201a8"
             ],
             [
              0.3333333333333333,
              "#9c179e"
             ],
             [
              0.4444444444444444,
              "#bd3786"
             ],
             [
              0.5555555555555556,
              "#d8576b"
             ],
             [
              0.6666666666666666,
              "#ed7953"
             ],
             [
              0.7777777777777778,
              "#fb9f3a"
             ],
             [
              0.8888888888888888,
              "#fdca26"
             ],
             [
              1,
              "#f0f921"
             ]
            ],
            "type": "contour"
           }
          ],
          "contourcarpet": [
           {
            "colorbar": {
             "outlinewidth": 0,
             "ticks": ""
            },
            "type": "contourcarpet"
           }
          ],
          "heatmap": [
           {
            "colorbar": {
             "outlinewidth": 0,
             "ticks": ""
            },
            "colorscale": [
             [
              0,
              "#0d0887"
             ],
             [
              0.1111111111111111,
              "#46039f"
             ],
             [
              0.2222222222222222,
              "#7201a8"
             ],
             [
              0.3333333333333333,
              "#9c179e"
             ],
             [
              0.4444444444444444,
              "#bd3786"
             ],
             [
              0.5555555555555556,
              "#d8576b"
             ],
             [
              0.6666666666666666,
              "#ed7953"
             ],
             [
              0.7777777777777778,
              "#fb9f3a"
             ],
             [
              0.8888888888888888,
              "#fdca26"
             ],
             [
              1,
              "#f0f921"
             ]
            ],
            "type": "heatmap"
           }
          ],
          "histogram": [
           {
            "marker": {
             "pattern": {
              "fillmode": "overlay",
              "size": 10,
              "solidity": 0.2
             }
            },
            "type": "histogram"
           }
          ],
          "histogram2d": [
           {
            "colorbar": {
             "outlinewidth": 0,
             "ticks": ""
            },
            "colorscale": [
             [
              0,
              "#0d0887"
             ],
             [
              0.1111111111111111,
              "#46039f"
             ],
             [
              0.2222222222222222,
              "#7201a8"
             ],
             [
              0.3333333333333333,
              "#9c179e"
             ],
             [
              0.4444444444444444,
              "#bd3786"
             ],
             [
              0.5555555555555556,
              "#d8576b"
             ],
             [
              0.6666666666666666,
              "#ed7953"
             ],
             [
              0.7777777777777778,
              "#fb9f3a"
             ],
             [
              0.8888888888888888,
              "#fdca26"
             ],
             [
              1,
              "#f0f921"
             ]
            ],
            "type": "histogram2d"
           }
          ],
          "histogram2dcontour": [
           {
            "colorbar": {
             "outlinewidth": 0,
             "ticks": ""
            },
            "colorscale": [
             [
              0,
              "#0d0887"
             ],
             [
              0.1111111111111111,
              "#46039f"
             ],
             [
              0.2222222222222222,
              "#7201a8"
             ],
             [
              0.3333333333333333,
              "#9c179e"
             ],
             [
              0.4444444444444444,
              "#bd3786"
             ],
             [
              0.5555555555555556,
              "#d8576b"
             ],
             [
              0.6666666666666666,
              "#ed7953"
             ],
             [
              0.7777777777777778,
              "#fb9f3a"
             ],
             [
              0.8888888888888888,
              "#fdca26"
             ],
             [
              1,
              "#f0f921"
             ]
            ],
            "type": "histogram2dcontour"
           }
          ],
          "mesh3d": [
           {
            "colorbar": {
             "outlinewidth": 0,
             "ticks": ""
            },
            "type": "mesh3d"
           }
          ],
          "parcoords": [
           {
            "line": {
             "colorbar": {
              "outlinewidth": 0,
              "ticks": ""
             }
            },
            "type": "parcoords"
           }
          ],
          "pie": [
           {
            "automargin": true,
            "type": "pie"
           }
          ],
          "scatter": [
           {
            "fillpattern": {
             "fillmode": "overlay",
             "size": 10,
             "solidity": 0.2
            },
            "type": "scatter"
           }
          ],
          "scatter3d": [
           {
            "line": {
             "colorbar": {
              "outlinewidth": 0,
              "ticks": ""
             }
            },
            "marker": {
             "colorbar": {
              "outlinewidth": 0,
              "ticks": ""
             }
            },
            "type": "scatter3d"
           }
          ],
          "scattercarpet": [
           {
            "marker": {
             "colorbar": {
              "outlinewidth": 0,
              "ticks": ""
             }
            },
            "type": "scattercarpet"
           }
          ],
          "scattergeo": [
           {
            "marker": {
             "colorbar": {
              "outlinewidth": 0,
              "ticks": ""
             }
            },
            "type": "scattergeo"
           }
          ],
          "scattergl": [
           {
            "marker": {
             "colorbar": {
              "outlinewidth": 0,
              "ticks": ""
             }
            },
            "type": "scattergl"
           }
          ],
          "scattermap": [
           {
            "marker": {
             "colorbar": {
              "outlinewidth": 0,
              "ticks": ""
             }
            },
            "type": "scattermap"
           }
          ],
          "scattermapbox": [
           {
            "marker": {
             "colorbar": {
              "outlinewidth": 0,
              "ticks": ""
             }
            },
            "type": "scattermapbox"
           }
          ],
          "scatterpolar": [
           {
            "marker": {
             "colorbar": {
              "outlinewidth": 0,
              "ticks": ""
             }
            },
            "type": "scatterpolar"
           }
          ],
          "scatterpolargl": [
           {
            "marker": {
             "colorbar": {
              "outlinewidth": 0,
              "ticks": ""
             }
            },
            "type": "scatterpolargl"
           }
          ],
          "scatterternary": [
           {
            "marker": {
             "colorbar": {
              "outlinewidth": 0,
              "ticks": ""
             }
            },
            "type": "scatterternary"
           }
          ],
          "surface": [
           {
            "colorbar": {
             "outlinewidth": 0,
             "ticks": ""
            },
            "colorscale": [
             [
              0,
              "#0d0887"
             ],
             [
              0.1111111111111111,
              "#46039f"
             ],
             [
              0.2222222222222222,
              "#7201a8"
             ],
             [
              0.3333333333333333,
              "#9c179e"
             ],
             [
              0.4444444444444444,
              "#bd3786"
             ],
             [
              0.5555555555555556,
              "#d8576b"
             ],
             [
              0.6666666666666666,
              "#ed7953"
             ],
             [
              0.7777777777777778,
              "#fb9f3a"
             ],
             [
              0.8888888888888888,
              "#fdca26"
             ],
             [
              1,
              "#f0f921"
             ]
            ],
            "type": "surface"
           }
          ],
          "table": [
           {
            "cells": {
             "fill": {
              "color": "#EBF0F8"
             },
             "line": {
              "color": "white"
             }
            },
            "header": {
             "fill": {
              "color": "#C8D4E3"
             },
             "line": {
              "color": "white"
             }
            },
            "type": "table"
           }
          ]
         },
         "layout": {
          "annotationdefaults": {
           "arrowcolor": "#2a3f5f",
           "arrowhead": 0,
           "arrowwidth": 1
          },
          "autotypenumbers": "strict",
          "coloraxis": {
           "colorbar": {
            "outlinewidth": 0,
            "ticks": ""
           }
          },
          "colorscale": {
           "diverging": [
            [
             0,
             "#8e0152"
            ],
            [
             0.1,
             "#c51b7d"
            ],
            [
             0.2,
             "#de77ae"
            ],
            [
             0.3,
             "#f1b6da"
            ],
            [
             0.4,
             "#fde0ef"
            ],
            [
             0.5,
             "#f7f7f7"
            ],
            [
             0.6,
             "#e6f5d0"
            ],
            [
             0.7,
             "#b8e186"
            ],
            [
             0.8,
             "#7fbc41"
            ],
            [
             0.9,
             "#4d9221"
            ],
            [
             1,
             "#276419"
            ]
           ],
           "sequential": [
            [
             0,
             "#0d0887"
            ],
            [
             0.1111111111111111,
             "#46039f"
            ],
            [
             0.2222222222222222,
             "#7201a8"
            ],
            [
             0.3333333333333333,
             "#9c179e"
            ],
            [
             0.4444444444444444,
             "#bd3786"
            ],
            [
             0.5555555555555556,
             "#d8576b"
            ],
            [
             0.6666666666666666,
             "#ed7953"
            ],
            [
             0.7777777777777778,
             "#fb9f3a"
            ],
            [
             0.8888888888888888,
             "#fdca26"
            ],
            [
             1,
             "#f0f921"
            ]
           ],
           "sequentialminus": [
            [
             0,
             "#0d0887"
            ],
            [
             0.1111111111111111,
             "#46039f"
            ],
            [
             0.2222222222222222,
             "#7201a8"
            ],
            [
             0.3333333333333333,
             "#9c179e"
            ],
            [
             0.4444444444444444,
             "#bd3786"
            ],
            [
             0.5555555555555556,
             "#d8576b"
            ],
            [
             0.6666666666666666,
             "#ed7953"
            ],
            [
             0.7777777777777778,
             "#fb9f3a"
            ],
            [
             0.8888888888888888,
             "#fdca26"
            ],
            [
             1,
             "#f0f921"
            ]
           ]
          },
          "colorway": [
           "#636efa",
           "#EF553B",
           "#00cc96",
           "#ab63fa",
           "#FFA15A",
           "#19d3f3",
           "#FF6692",
           "#B6E880",
           "#FF97FF",
           "#FECB52"
          ],
          "font": {
           "color": "#2a3f5f"
          },
          "geo": {
           "bgcolor": "white",
           "lakecolor": "white",
           "landcolor": "#E5ECF6",
           "showlakes": true,
           "showland": true,
           "subunitcolor": "white"
          },
          "hoverlabel": {
           "align": "left"
          },
          "hovermode": "closest",
          "mapbox": {
           "style": "light"
          },
          "paper_bgcolor": "white",
          "plot_bgcolor": "#E5ECF6",
          "polar": {
           "angularaxis": {
            "gridcolor": "white",
            "linecolor": "white",
            "ticks": ""
           },
           "bgcolor": "#E5ECF6",
           "radialaxis": {
            "gridcolor": "white",
            "linecolor": "white",
            "ticks": ""
           }
          },
          "scene": {
           "xaxis": {
            "backgroundcolor": "#E5ECF6",
            "gridcolor": "white",
            "gridwidth": 2,
            "linecolor": "white",
            "showbackground": true,
            "ticks": "",
            "zerolinecolor": "white"
           },
           "yaxis": {
            "backgroundcolor": "#E5ECF6",
            "gridcolor": "white",
            "gridwidth": 2,
            "linecolor": "white",
            "showbackground": true,
            "ticks": "",
            "zerolinecolor": "white"
           },
           "zaxis": {
            "backgroundcolor": "#E5ECF6",
            "gridcolor": "white",
            "gridwidth": 2,
            "linecolor": "white",
            "showbackground": true,
            "ticks": "",
            "zerolinecolor": "white"
           }
          },
          "shapedefaults": {
           "line": {
            "color": "#2a3f5f"
           }
          },
          "ternary": {
           "aaxis": {
            "gridcolor": "white",
            "linecolor": "white",
            "ticks": ""
           },
           "baxis": {
            "gridcolor": "white",
            "linecolor": "white",
            "ticks": ""
           },
           "bgcolor": "#E5ECF6",
           "caxis": {
            "gridcolor": "white",
            "linecolor": "white",
            "ticks": ""
           }
          },
          "title": {
           "x": 0.05
          },
          "xaxis": {
           "automargin": true,
           "gridcolor": "white",
           "linecolor": "white",
           "ticks": "",
           "title": {
            "standoff": 15
           },
           "zerolinecolor": "white",
           "zerolinewidth": 2
          },
          "yaxis": {
           "automargin": true,
           "gridcolor": "white",
           "linecolor": "white",
           "ticks": "",
           "title": {
            "standoff": 15
           },
           "zerolinecolor": "white",
           "zerolinewidth": 2
          }
         }
        },
        "xaxis": {
         "anchor": "y",
         "domain": [
          0,
          1
         ],
         "title": {
          "text": "inovacao"
         }
        },
        "yaxis": {
         "anchor": "x",
         "domain": [
          0,
          1
         ],
         "title": {
          "text": "faturamento_mensal"
         }
        }
       }
      }
     },
     "metadata": {},
     "output_type": "display_data"
    }
   ],
   "source": [
    "#cruzar idade e faturamento apresentando clusters\n",
    "px.scatter(df_clientes, x='inovacao', y='faturamento_mensal', color='cluster')"
   ]
  },
  {
   "cell_type": "code",
   "execution_count": 27,
   "id": "75e4d40d",
   "metadata": {},
   "outputs": [
    {
     "data": {
      "application/vnd.plotly.v1+json": {
       "config": {
        "plotlyServerURL": "https://plot.ly"
       },
       "data": [
        {
         "hovertemplate": "numero_de_funcionarios=%{x}<br>faturamento_mensal=%{y}<br>cluster=%{marker.color}<extra></extra>",
         "legendgroup": "",
         "marker": {
          "color": {
           "bdata": "AAAAAAAAAAABAAAAAAAAAAEAAAACAAAAAAAAAAEAAAAAAAAAAgAAAAIAAAACAAAAAQAAAAIAAAABAAAAAQAAAAEAAAAAAAAAAQAAAAIAAAAAAAAAAAAAAAIAAAACAAAAAAAAAAAAAAABAAAAAQAAAAAAAAAAAAAAAAAAAAEAAAACAAAAAQAAAAIAAAACAAAAAgAAAAEAAAABAAAAAQAAAAEAAAACAAAAAgAAAAIAAAAAAAAAAQAAAAIAAAAAAAAAAQAAAAEAAAABAAAAAAAAAAAAAAACAAAAAAAAAAAAAAAAAAAAAAAAAAIAAAABAAAAAQAAAAIAAAAAAAAAAQAAAAEAAAACAAAAAgAAAAAAAAAAAAAAAAAAAAIAAAAAAAAAAAAAAAEAAAACAAAAAAAAAAAAAAACAAAAAgAAAAEAAAABAAAAAAAAAAAAAAABAAAAAgAAAAEAAAABAAAAAAAAAAAAAAABAAAAAAAAAAIAAAACAAAAAAAAAAAAAAABAAAAAQAAAAEAAAABAAAAAgAAAAAAAAAAAAAAAgAAAAIAAAAAAAAAAgAAAAEAAAACAAAAAgAAAAEAAAABAAAAAQAAAAEAAAABAAAAAAAAAAAAAAABAAAAAAAAAAIAAAACAAAAAAAAAAAAAAACAAAAAgAAAAEAAAAAAAAAAQAAAAIAAAACAAAAAQAAAAEAAAAAAAAAAAAAAAIAAAAAAAAAAAAAAAEAAAABAAAAAAAAAAIAAAABAAAAAAAAAAAAAAAAAAAAAQAAAAAAAAABAAAAAAAAAAEAAAABAAAAAAAAAAIAAAACAAAAAQAAAAAAAAABAAAAAQAAAAEAAAAAAAAAAAAAAAIAAAABAAAAAQAAAAEAAAACAAAAAgAAAAAAAAAAAAAAAQAAAAEAAAABAAAAAQAAAAAAAAACAAAAAQAAAAAAAAABAAAAAQAAAAEAAAABAAAAAAAAAAIAAAABAAAAAQAAAAEAAAACAAAAAQAAAAAAAAABAAAAAQAAAAEAAAAAAAAAAgAAAAEAAAAAAAAAAQAAAAAAAAAAAAAAAgAAAAIAAAACAAAAAQAAAAEAAAAAAAAAAAAAAAEAAAACAAAAAAAAAAIAAAAAAAAAAAAAAAAAAAAAAAAAAAAAAAAAAAACAAAAAgAAAAEAAAAAAAAAAAAAAAEAAAACAAAAAQAAAAEAAAABAAAAAQAAAAAAAAABAAAAAAAAAAIAAAAAAAAAAgAAAAEAAAABAAAAAAAAAAEAAAACAAAAAgAAAAEAAAACAAAAAQAAAAIAAAAAAAAAAAAAAAAAAAABAAAAAgAAAAEAAAABAAAAAQAAAAEAAAAAAAAAAAAAAAAAAAABAAAAAgAAAAEAAAABAAAAAQAAAAAAAAACAAAAAQAAAAAAAAABAAAAAAAAAAIAAAABAAAAAQAAAAAAAAACAAAAAQAAAAEAAAAAAAAAAQAAAAEAAAACAAAAAgAAAAEAAAACAAAAAQAAAAIAAAABAAAAAAAAAAAAAAABAAAAAQAAAAEAAAABAAAAAgAAAAAAAAAAAAAAAQAAAAAAAAACAAAAAQAAAAAAAAABAAAAAgAAAAEAAAAAAAAAAgAAAAEAAAABAAAAAAAAAAAAAAABAAAAAQAAAAIAAAACAAAAAAAAAAAAAAACAAAAAAAAAAAAAAAAAAAAAAAAAAEAAAACAAAAAQAAAAAAAAAAAAAAAQAAAAAAAAABAAAAAQAAAAEAAAABAAAAAQAAAAAAAAABAAAAAQAAAAAAAAACAAAAAQAAAAIAAAACAAAAAAAAAAAAAAABAAAAAQAAAAEAAAACAAAAAQAAAAAAAAAAAAAAAQAAAAAAAAABAAAAAgAAAAEAAAACAAAAAAAAAAEAAAABAAAAAgAAAAEAAAACAAAAAgAAAAEAAAACAAAAAQAAAAAAAAABAAAAAQAAAAIAAAAAAAAAAAAAAAAAAAABAAAAAgAAAAAAAAAAAAAAAgAAAAIAAAABAAAAAQAAAAIAAAACAAAAAAAAAAEAAAACAAAAAQAAAAAAAAABAAAAAQAAAAIAAAAAAAAAAQAAAAEAAAABAAAAAQAAAAIAAAAAAAAAAgAAAAEAAAABAAAAAAAAAAEAAAABAAAAAQAAAAAAAAACAAAAAQAAAAAAAAACAAAAAQAAAAEAAAACAAAAAAAAAAAAAAAAAAAAAQAAAAIAAAABAAAAAQAAAAIAAAABAAAAAgAAAAEAAAACAAAAAQAAAAIAAAACAAAAAgAAAAAAAAACAAAAAgAAAAEAAAAAAAAAAQAAAAIAAAAAAAAAAAAAAAAAAAABAAAAAgAAAAEAAAABAAAAAAAAAAEAAAACAAAAAQAAAAEAAAABAAAAAgAAAAAAAAAAAAAAAgAAAAEAAAACAAAAAAAAAAIAAAAAAAAAAQAAAAAAAAACAAAAAQAAAAEAAAACAAAAAQAAAAEAAAABAAAAAgAAAAAAAAAAAAAAAAAAAAIAAAABAAAAAAAAAAIAAAAAAAAAAAAAAAEAAAABAAAAAgAAAAIAAAACAAAAAQAAAAAAAAAAAAAAAgAAAAEAAAABAAAAAAAAAAEAAAAAAAAAAAAAAAIAAAACAAAAAAAAAAIAAAAAAAAAAAAAAAEAAAAAAAAAAAAAAAEAAAAAAAAAAgAAAAEAAAA=",
           "dtype": "i4"
          },
          "coloraxis": "coloraxis",
          "symbol": "circle"
         },
         "mode": "markers",
         "name": "",
         "orientation": "v",
         "showlegend": false,
         "type": "scatter",
         "x": {
          "bdata": "DAkRDw8QDRARDQsODw8MCg8ODA4QERETEhIKCw0NDRAODQQMDxARCgkPEREREAwLEQoNCAwPDwwQDBAQChEPEAwKBg4MDw0PDgoOCQsNDw4JDQ0SEhENDBANEA8TEBASEAMJDg0RDgwRDQ4EEAwLEA8NDg0JEg0LDg4NExIPEQsHDwwSDA4SDhEQCQkPDA0ODQcJDgIOEg4RDw0OCQsNBg0PCBAQBw0HEA0PDQwOFBMDEA8REAsSEhMRChADERALExAQEA4RDhINDg4OCg8MDBEVDhANDBENDw0SDg8PEhEODw0LDQgQEA8LDhEHDwsSDRMKEg0PDREPDg8PDw8MDg4OCA4MDwoPDw4OCwwNCxAMCxEOCA0REg4MDQ0GCggMEQ8QDgsNEgoJEgoPDw8GEA0ODw8MDgsSDw0ODg4SDQ8OFBIJDhASDQoOCAwMCA8PEQsRAwsPCwoRCQwMEQ4RDBARDA4OEg8NDxECERANEA4JDwoRDwoLChAMDg4PEQwPExATDw4OCgwNDxERDQsJEBMPChAMDA4MDhAOChEODQsKEA4MDxINDw0QDREFDQ4OBQ8NDxIODA4PDQ0ODw4NDhENEAwMDA8OERIRDRELCAwPCw8PDw8QCw4JDg0PEgwOEQgODRIJDw4NDgsODxQOEQkKDA0=",
          "dtype": "i1"
         },
         "xaxis": "x",
         "y": {
          "bdata": "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",
          "dtype": "f8"
         },
         "yaxis": "y"
        }
       ],
       "layout": {
        "coloraxis": {
         "colorbar": {
          "title": {
           "text": "cluster"
          }
         },
         "colorscale": [
          [
           0,
           "#0d0887"
          ],
          [
           0.1111111111111111,
           "#46039f"
          ],
          [
           0.2222222222222222,
           "#7201a8"
          ],
          [
           0.3333333333333333,
           "#9c179e"
          ],
          [
           0.4444444444444444,
           "#bd3786"
          ],
          [
           0.5555555555555556,
           "#d8576b"
          ],
          [
           0.6666666666666666,
           "#ed7953"
          ],
          [
           0.7777777777777778,
           "#fb9f3a"
          ],
          [
           0.8888888888888888,
           "#fdca26"
          ],
          [
           1,
           "#f0f921"
          ]
         ]
        },
        "legend": {
         "tracegroupgap": 0
        },
        "margin": {
         "t": 60
        },
        "template": {
         "data": {
          "bar": [
           {
            "error_x": {
             "color": "#2a3f5f"
            },
            "error_y": {
             "color": "#2a3f5f"
            },
            "marker": {
             "line": {
              "color": "#E5ECF6",
              "width": 0.5
             },
             "pattern": {
              "fillmode": "overlay",
              "size": 10,
              "solidity": 0.2
             }
            },
            "type": "bar"
           }
          ],
          "barpolar": [
           {
            "marker": {
             "line": {
              "color": "#E5ECF6",
              "width": 0.5
             },
             "pattern": {
              "fillmode": "overlay",
              "size": 10,
              "solidity": 0.2
             }
            },
            "type": "barpolar"
           }
          ],
          "carpet": [
           {
            "aaxis": {
             "endlinecolor": "#2a3f5f",
             "gridcolor": "white",
             "linecolor": "white",
             "minorgridcolor": "white",
             "startlinecolor": "#2a3f5f"
            },
            "baxis": {
             "endlinecolor": "#2a3f5f",
             "gridcolor": "white",
             "linecolor": "white",
             "minorgridcolor": "white",
             "startlinecolor": "#2a3f5f"
            },
            "type": "carpet"
           }
          ],
          "choropleth": [
           {
            "colorbar": {
             "outlinewidth": 0,
             "ticks": ""
            },
            "type": "choropleth"
           }
          ],
          "contour": [
           {
            "colorbar": {
             "outlinewidth": 0,
             "ticks": ""
            },
            "colorscale": [
             [
              0,
              "#0d0887"
             ],
             [
              0.1111111111111111,
              "#46039f"
             ],
             [
              0.2222222222222222,
              "#7201a8"
             ],
             [
              0.3333333333333333,
              "#9c179e"
             ],
             [
              0.4444444444444444,
              "#bd3786"
             ],
             [
              0.5555555555555556,
              "#d8576b"
             ],
             [
              0.6666666666666666,
              "#ed7953"
             ],
             [
              0.7777777777777778,
              "#fb9f3a"
             ],
             [
              0.8888888888888888,
              "#fdca26"
             ],
             [
              1,
              "#f0f921"
             ]
            ],
            "type": "contour"
           }
          ],
          "contourcarpet": [
           {
            "colorbar": {
             "outlinewidth": 0,
             "ticks": ""
            },
            "type": "contourcarpet"
           }
          ],
          "heatmap": [
           {
            "colorbar": {
             "outlinewidth": 0,
             "ticks": ""
            },
            "colorscale": [
             [
              0,
              "#0d0887"
             ],
             [
              0.1111111111111111,
              "#46039f"
             ],
             [
              0.2222222222222222,
              "#7201a8"
             ],
             [
              0.3333333333333333,
              "#9c179e"
             ],
             [
              0.4444444444444444,
              "#bd3786"
             ],
             [
              0.5555555555555556,
              "#d8576b"
             ],
             [
              0.6666666666666666,
              "#ed7953"
             ],
             [
              0.7777777777777778,
              "#fb9f3a"
             ],
             [
              0.8888888888888888,
              "#fdca26"
             ],
             [
              1,
              "#f0f921"
             ]
            ],
            "type": "heatmap"
           }
          ],
          "histogram": [
           {
            "marker": {
             "pattern": {
              "fillmode": "overlay",
              "size": 10,
              "solidity": 0.2
             }
            },
            "type": "histogram"
           }
          ],
          "histogram2d": [
           {
            "colorbar": {
             "outlinewidth": 0,
             "ticks": ""
            },
            "colorscale": [
             [
              0,
              "#0d0887"
             ],
             [
              0.1111111111111111,
              "#46039f"
             ],
             [
              0.2222222222222222,
              "#7201a8"
             ],
             [
              0.3333333333333333,
              "#9c179e"
             ],
             [
              0.4444444444444444,
              "#bd3786"
             ],
             [
              0.5555555555555556,
              "#d8576b"
             ],
             [
              0.6666666666666666,
              "#ed7953"
             ],
             [
              0.7777777777777778,
              "#fb9f3a"
             ],
             [
              0.8888888888888888,
              "#fdca26"
             ],
             [
              1,
              "#f0f921"
             ]
            ],
            "type": "histogram2d"
           }
          ],
          "histogram2dcontour": [
           {
            "colorbar": {
             "outlinewidth": 0,
             "ticks": ""
            },
            "colorscale": [
             [
              0,
              "#0d0887"
             ],
             [
              0.1111111111111111,
              "#46039f"
             ],
             [
              0.2222222222222222,
              "#7201a8"
             ],
             [
              0.3333333333333333,
              "#9c179e"
             ],
             [
              0.4444444444444444,
              "#bd3786"
             ],
             [
              0.5555555555555556,
              "#d8576b"
             ],
             [
              0.6666666666666666,
              "#ed7953"
             ],
             [
              0.7777777777777778,
              "#fb9f3a"
             ],
             [
              0.8888888888888888,
              "#fdca26"
             ],
             [
              1,
              "#f0f921"
             ]
            ],
            "type": "histogram2dcontour"
           }
          ],
          "mesh3d": [
           {
            "colorbar": {
             "outlinewidth": 0,
             "ticks": ""
            },
            "type": "mesh3d"
           }
          ],
          "parcoords": [
           {
            "line": {
             "colorbar": {
              "outlinewidth": 0,
              "ticks": ""
             }
            },
            "type": "parcoords"
           }
          ],
          "pie": [
           {
            "automargin": true,
            "type": "pie"
           }
          ],
          "scatter": [
           {
            "fillpattern": {
             "fillmode": "overlay",
             "size": 10,
             "solidity": 0.2
            },
            "type": "scatter"
           }
          ],
          "scatter3d": [
           {
            "line": {
             "colorbar": {
              "outlinewidth": 0,
              "ticks": ""
             }
            },
            "marker": {
             "colorbar": {
              "outlinewidth": 0,
              "ticks": ""
             }
            },
            "type": "scatter3d"
           }
          ],
          "scattercarpet": [
           {
            "marker": {
             "colorbar": {
              "outlinewidth": 0,
              "ticks": ""
             }
            },
            "type": "scattercarpet"
           }
          ],
          "scattergeo": [
           {
            "marker": {
             "colorbar": {
              "outlinewidth": 0,
              "ticks": ""
             }
            },
            "type": "scattergeo"
           }
          ],
          "scattergl": [
           {
            "marker": {
             "colorbar": {
              "outlinewidth": 0,
              "ticks": ""
             }
            },
            "type": "scattergl"
           }
          ],
          "scattermap": [
           {
            "marker": {
             "colorbar": {
              "outlinewidth": 0,
              "ticks": ""
             }
            },
            "type": "scattermap"
           }
          ],
          "scattermapbox": [
           {
            "marker": {
             "colorbar": {
              "outlinewidth": 0,
              "ticks": ""
             }
            },
            "type": "scattermapbox"
           }
          ],
          "scatterpolar": [
           {
            "marker": {
             "colorbar": {
              "outlinewidth": 0,
              "ticks": ""
             }
            },
            "type": "scatterpolar"
           }
          ],
          "scatterpolargl": [
           {
            "marker": {
             "colorbar": {
              "outlinewidth": 0,
              "ticks": ""
             }
            },
            "type": "scatterpolargl"
           }
          ],
          "scatterternary": [
           {
            "marker": {
             "colorbar": {
              "outlinewidth": 0,
              "ticks": ""
             }
            },
            "type": "scatterternary"
           }
          ],
          "surface": [
           {
            "colorbar": {
             "outlinewidth": 0,
             "ticks": ""
            },
            "colorscale": [
             [
              0,
              "#0d0887"
             ],
             [
              0.1111111111111111,
              "#46039f"
             ],
             [
              0.2222222222222222,
              "#7201a8"
             ],
             [
              0.3333333333333333,
              "#9c179e"
             ],
             [
              0.4444444444444444,
              "#bd3786"
             ],
             [
              0.5555555555555556,
              "#d8576b"
             ],
             [
              0.6666666666666666,
              "#ed7953"
             ],
             [
              0.7777777777777778,
              "#fb9f3a"
             ],
             [
              0.8888888888888888,
              "#fdca26"
             ],
             [
              1,
              "#f0f921"
             ]
            ],
            "type": "surface"
           }
          ],
          "table": [
           {
            "cells": {
             "fill": {
              "color": "#EBF0F8"
             },
             "line": {
              "color": "white"
             }
            },
            "header": {
             "fill": {
              "color": "#C8D4E3"
             },
             "line": {
              "color": "white"
             }
            },
            "type": "table"
           }
          ]
         },
         "layout": {
          "annotationdefaults": {
           "arrowcolor": "#2a3f5f",
           "arrowhead": 0,
           "arrowwidth": 1
          },
          "autotypenumbers": "strict",
          "coloraxis": {
           "colorbar": {
            "outlinewidth": 0,
            "ticks": ""
           }
          },
          "colorscale": {
           "diverging": [
            [
             0,
             "#8e0152"
            ],
            [
             0.1,
             "#c51b7d"
            ],
            [
             0.2,
             "#de77ae"
            ],
            [
             0.3,
             "#f1b6da"
            ],
            [
             0.4,
             "#fde0ef"
            ],
            [
             0.5,
             "#f7f7f7"
            ],
            [
             0.6,
             "#e6f5d0"
            ],
            [
             0.7,
             "#b8e186"
            ],
            [
             0.8,
             "#7fbc41"
            ],
            [
             0.9,
             "#4d9221"
            ],
            [
             1,
             "#276419"
            ]
           ],
           "sequential": [
            [
             0,
             "#0d0887"
            ],
            [
             0.1111111111111111,
             "#46039f"
            ],
            [
             0.2222222222222222,
             "#7201a8"
            ],
            [
             0.3333333333333333,
             "#9c179e"
            ],
            [
             0.4444444444444444,
             "#bd3786"
            ],
            [
             0.5555555555555556,
             "#d8576b"
            ],
            [
             0.6666666666666666,
             "#ed7953"
            ],
            [
             0.7777777777777778,
             "#fb9f3a"
            ],
            [
             0.8888888888888888,
             "#fdca26"
            ],
            [
             1,
             "#f0f921"
            ]
           ],
           "sequentialminus": [
            [
             0,
             "#0d0887"
            ],
            [
             0.1111111111111111,
             "#46039f"
            ],
            [
             0.2222222222222222,
             "#7201a8"
            ],
            [
             0.3333333333333333,
             "#9c179e"
            ],
            [
             0.4444444444444444,
             "#bd3786"
            ],
            [
             0.5555555555555556,
             "#d8576b"
            ],
            [
             0.6666666666666666,
             "#ed7953"
            ],
            [
             0.7777777777777778,
             "#fb9f3a"
            ],
            [
             0.8888888888888888,
             "#fdca26"
            ],
            [
             1,
             "#f0f921"
            ]
           ]
          },
          "colorway": [
           "#636efa",
           "#EF553B",
           "#00cc96",
           "#ab63fa",
           "#FFA15A",
           "#19d3f3",
           "#FF6692",
           "#B6E880",
           "#FF97FF",
           "#FECB52"
          ],
          "font": {
           "color": "#2a3f5f"
          },
          "geo": {
           "bgcolor": "white",
           "lakecolor": "white",
           "landcolor": "#E5ECF6",
           "showlakes": true,
           "showland": true,
           "subunitcolor": "white"
          },
          "hoverlabel": {
           "align": "left"
          },
          "hovermode": "closest",
          "mapbox": {
           "style": "light"
          },
          "paper_bgcolor": "white",
          "plot_bgcolor": "#E5ECF6",
          "polar": {
           "angularaxis": {
            "gridcolor": "white",
            "linecolor": "white",
            "ticks": ""
           },
           "bgcolor": "#E5ECF6",
           "radialaxis": {
            "gridcolor": "white",
            "linecolor": "white",
            "ticks": ""
           }
          },
          "scene": {
           "xaxis": {
            "backgroundcolor": "#E5ECF6",
            "gridcolor": "white",
            "gridwidth": 2,
            "linecolor": "white",
            "showbackground": true,
            "ticks": "",
            "zerolinecolor": "white"
           },
           "yaxis": {
            "backgroundcolor": "#E5ECF6",
            "gridcolor": "white",
            "gridwidth": 2,
            "linecolor": "white",
            "showbackground": true,
            "ticks": "",
            "zerolinecolor": "white"
           },
           "zaxis": {
            "backgroundcolor": "#E5ECF6",
            "gridcolor": "white",
            "gridwidth": 2,
            "linecolor": "white",
            "showbackground": true,
            "ticks": "",
            "zerolinecolor": "white"
           }
          },
          "shapedefaults": {
           "line": {
            "color": "#2a3f5f"
           }
          },
          "ternary": {
           "aaxis": {
            "gridcolor": "white",
            "linecolor": "white",
            "ticks": ""
           },
           "baxis": {
            "gridcolor": "white",
            "linecolor": "white",
            "ticks": ""
           },
           "bgcolor": "#E5ECF6",
           "caxis": {
            "gridcolor": "white",
            "linecolor": "white",
            "ticks": ""
           }
          },
          "title": {
           "x": 0.05
          },
          "xaxis": {
           "automargin": true,
           "gridcolor": "white",
           "linecolor": "white",
           "ticks": "",
           "title": {
            "standoff": 15
           },
           "zerolinecolor": "white",
           "zerolinewidth": 2
          },
          "yaxis": {
           "automargin": true,
           "gridcolor": "white",
           "linecolor": "white",
           "ticks": "",
           "title": {
            "standoff": 15
           },
           "zerolinecolor": "white",
           "zerolinewidth": 2
          }
         }
        },
        "xaxis": {
         "anchor": "y",
         "domain": [
          0,
          1
         ],
         "title": {
          "text": "numero_de_funcionarios"
         }
        },
        "yaxis": {
         "anchor": "x",
         "domain": [
          0,
          1
         ],
         "title": {
          "text": "faturamento_mensal"
         }
        }
       }
      }
     },
     "metadata": {},
     "output_type": "display_data"
    }
   ],
   "source": [
    "#cruzar idade e faturamento apresentando clusters\n",
    "px.scatter(df_clientes, x='numero_de_funcionarios', y='faturamento_mensal', color='cluster')"
   ]
  },
  {
   "cell_type": "code",
   "execution_count": 28,
   "id": "fe6118b0",
   "metadata": {},
   "outputs": [
    {
     "data": {
      "text/plain": [
       "['pipeline_cluterizacao.pkl']"
      ]
     },
     "execution_count": 28,
     "metadata": {},
     "output_type": "execute_result"
    }
   ],
   "source": [
    "#salvar modelo e pipeline\n",
    "import joblib\n",
    "\n",
    "joblib.dump(best_kmeans, 'modelo_clusterizacao.pkl')\n",
    "\n",
    "#salvar pipeline\n",
    "joblib.dump(preprocessor, 'pipeline_cluterizacao.pkl')"
   ]
  },
  {
   "cell_type": "markdown",
   "id": "d99d0f5a",
   "metadata": {},
   "source": [
    "### Aplicação batch no gradio"
   ]
  },
  {
   "cell_type": "code",
   "execution_count": 29,
   "id": "ef3a62df",
   "metadata": {},
   "outputs": [],
   "source": [
    "import gradio as gr\n",
    "modelo = joblib.load('./modelo_clusterizacao.pkl')\n",
    "preprocessor = joblib.load('./pipeline_cluterizacao.pkl')\n",
    "\n",
    "def clustering(arquivo):\n",
    "    #Carregar o CSV em um DataFrame\n",
    "    df_empresas = pd.read_csv(arquivo.name)\n",
    "\n",
    "    #transformar os dados do df para o formato que o kmeans aceita\n",
    "    X_transformed = preprocessor.fit_transform(df_empresas)\n",
    "\n",
    "    #Treinar modelo\n",
    "    modelo.fit(X_transformed)\n",
    "\n",
    "    #Criar a coluna cluster no df\n",
    "    df_empresas['cluster'] = modelo.labels_\n",
    "    df_empresas.to_csv('./clusters.csv', index=False)\n",
    "\n",
    "    return './clusters.csv'\n",
    "\n",
    "\n"
   ]
  },
  {
   "cell_type": "code",
   "execution_count": 31,
   "id": "8382bc2f",
   "metadata": {},
   "outputs": [
    {
     "name": "stdout",
     "output_type": "stream",
     "text": [
      "* Running on local URL:  http://127.0.0.1:7860\n",
      "* To create a public link, set `share=True` in `launch()`.\n"
     ]
    },
    {
     "data": {
      "text/html": [
       "<div><iframe src=\"http://127.0.0.1:7860/\" width=\"100%\" height=\"500\" allow=\"autoplay; camera; microphone; clipboard-read; clipboard-write;\" frameborder=\"0\" allowfullscreen></iframe></div>"
      ],
      "text/plain": [
       "<IPython.core.display.HTML object>"
      ]
     },
     "metadata": {},
     "output_type": "display_data"
    },
    {
     "data": {
      "text/plain": []
     },
     "execution_count": 31,
     "metadata": {},
     "output_type": "execute_result"
    },
    {
     "name": "stdout",
     "output_type": "stream",
     "text": [
      "Created dataset file at: .gradio\\flagged\\dataset1.csv\n"
     ]
    }
   ],
   "source": [
    "#Criar interface\n",
    "app = gr.Interface(\n",
    "    clustering,\n",
    "    gr.File(file_types=[\".csv\"]),\n",
    "    \"file\"\n",
    ")\n",
    "\n",
    "#rodar app\n",
    "app.launch()"
   ]
  }
 ],
 "metadata": {
  "kernelspec": {
   "display_name": "Geral-iNcLO_qr",
   "language": "python",
   "name": "python3"
  },
  "language_info": {
   "codemirror_mode": {
    "name": "ipython",
    "version": 3
   },
   "file_extension": ".py",
   "mimetype": "text/x-python",
   "name": "python",
   "nbconvert_exporter": "python",
   "pygments_lexer": "ipython3",
   "version": "3.12.1"
  }
 },
 "nbformat": 4,
 "nbformat_minor": 5
}
