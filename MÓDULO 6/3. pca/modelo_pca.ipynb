{
 "cells": [
  {
   "cell_type": "code",
   "execution_count": 49,
   "id": "9f2404d7",
   "metadata": {},
   "outputs": [],
   "source": [
    "import pandas as pd \n",
    "import plotly.express as px\n",
    "import seaborn as sns\n",
    "import matplotlib.pyplot as plt\n",
    "\n",
    "from sklearn.decomposition import PCA\n",
    "from sklearn.metrics import mean_squared_error\n",
    "from sklearn.preprocessing import StandardScaler\n",
    "from sklearn.compose import ColumnTransformer\n",
    "import numpy as np"
   ]
  },
  {
   "cell_type": "markdown",
   "id": "e0521e2b",
   "metadata": {},
   "source": [
    "### Carregar Dados"
   ]
  },
  {
   "cell_type": "code",
   "execution_count": 3,
   "id": "898c0b83",
   "metadata": {},
   "outputs": [],
   "source": [
    "df_countries = pd.read_csv('./datasets/data.csv', sep=';', decimal=',')\n"
   ]
  },
  {
   "cell_type": "code",
   "execution_count": 4,
   "id": "743d8a99",
   "metadata": {},
   "outputs": [
    {
     "name": "stdout",
     "output_type": "stream",
     "text": [
      "<class 'pandas.core.frame.DataFrame'>\n",
      "RangeIndex: 165 entries, 0 to 164\n",
      "Data columns (total 11 columns):\n",
      " #   Column           Non-Null Count  Dtype  \n",
      "---  ------           --------------  -----  \n",
      " 0   country          165 non-null    object \n",
      " 1   child_mort       165 non-null    float64\n",
      " 2   exports          165 non-null    float64\n",
      " 3   health           165 non-null    float64\n",
      " 4   imports          165 non-null    float64\n",
      " 5   income           165 non-null    int64  \n",
      " 6   inflation        165 non-null    float64\n",
      " 7   life_expec       165 non-null    float64\n",
      " 8   total_fer        165 non-null    float64\n",
      " 9   gdpp             165 non-null    int64  \n",
      " 10  income_category  165 non-null    object \n",
      "dtypes: float64(7), int64(2), object(2)\n",
      "memory usage: 14.3+ KB\n"
     ]
    }
   ],
   "source": [
    "df_countries.info()"
   ]
  },
  {
   "cell_type": "markdown",
   "id": "335f8b10",
   "metadata": {},
   "source": [
    "### EDA"
   ]
  },
  {
   "cell_type": "markdown",
   "id": "d1c9c27c",
   "metadata": {},
   "source": [
    "#### Univariada"
   ]
  },
  {
   "cell_type": "code",
   "execution_count": 5,
   "id": "3e2f9d2c",
   "metadata": {},
   "outputs": [
    {
     "data": {
      "text/html": [
       "<div>\n",
       "<style scoped>\n",
       "    .dataframe tbody tr th:only-of-type {\n",
       "        vertical-align: middle;\n",
       "    }\n",
       "\n",
       "    .dataframe tbody tr th {\n",
       "        vertical-align: top;\n",
       "    }\n",
       "\n",
       "    .dataframe thead th {\n",
       "        text-align: right;\n",
       "    }\n",
       "</style>\n",
       "<table border=\"1\" class=\"dataframe\">\n",
       "  <thead>\n",
       "    <tr style=\"text-align: right;\">\n",
       "      <th></th>\n",
       "      <th>child_mort</th>\n",
       "      <th>exports</th>\n",
       "      <th>health</th>\n",
       "      <th>imports</th>\n",
       "      <th>income</th>\n",
       "      <th>inflation</th>\n",
       "      <th>life_expec</th>\n",
       "      <th>total_fer</th>\n",
       "      <th>gdpp</th>\n",
       "    </tr>\n",
       "  </thead>\n",
       "  <tbody>\n",
       "    <tr>\n",
       "      <th>count</th>\n",
       "      <td>165.000000</td>\n",
       "      <td>165.000000</td>\n",
       "      <td>165.000000</td>\n",
       "      <td>165.000000</td>\n",
       "      <td>165.000000</td>\n",
       "      <td>165.000000</td>\n",
       "      <td>165.000000</td>\n",
       "      <td>165.000000</td>\n",
       "      <td>165.000000</td>\n",
       "    </tr>\n",
       "    <tr>\n",
       "      <th>mean</th>\n",
       "      <td>38.567273</td>\n",
       "      <td>41.193327</td>\n",
       "      <td>6.825576</td>\n",
       "      <td>46.999793</td>\n",
       "      <td>17183.412121</td>\n",
       "      <td>7.585612</td>\n",
       "      <td>70.505455</td>\n",
       "      <td>2.959818</td>\n",
       "      <td>13011.963636</td>\n",
       "    </tr>\n",
       "    <tr>\n",
       "      <th>std</th>\n",
       "      <td>40.480851</td>\n",
       "      <td>27.560749</td>\n",
       "      <td>2.759425</td>\n",
       "      <td>24.233083</td>\n",
       "      <td>19389.968166</td>\n",
       "      <td>10.198185</td>\n",
       "      <td>8.935045</td>\n",
       "      <td>1.518166</td>\n",
       "      <td>18428.279743</td>\n",
       "    </tr>\n",
       "    <tr>\n",
       "      <th>min</th>\n",
       "      <td>2.600000</td>\n",
       "      <td>0.109000</td>\n",
       "      <td>1.810000</td>\n",
       "      <td>0.065900</td>\n",
       "      <td>609.000000</td>\n",
       "      <td>-4.210000</td>\n",
       "      <td>32.100000</td>\n",
       "      <td>1.150000</td>\n",
       "      <td>231.000000</td>\n",
       "    </tr>\n",
       "    <tr>\n",
       "      <th>25%</th>\n",
       "      <td>7.900000</td>\n",
       "      <td>23.800000</td>\n",
       "      <td>4.930000</td>\n",
       "      <td>30.400000</td>\n",
       "      <td>3340.000000</td>\n",
       "      <td>1.770000</td>\n",
       "      <td>65.300000</td>\n",
       "      <td>1.800000</td>\n",
       "      <td>1310.000000</td>\n",
       "    </tr>\n",
       "    <tr>\n",
       "      <th>50%</th>\n",
       "      <td>19.700000</td>\n",
       "      <td>35.000000</td>\n",
       "      <td>6.320000</td>\n",
       "      <td>43.300000</td>\n",
       "      <td>9940.000000</td>\n",
       "      <td>5.390000</td>\n",
       "      <td>73.100000</td>\n",
       "      <td>2.410000</td>\n",
       "      <td>4660.000000</td>\n",
       "    </tr>\n",
       "    <tr>\n",
       "      <th>75%</th>\n",
       "      <td>62.200000</td>\n",
       "      <td>51.400000</td>\n",
       "      <td>8.650000</td>\n",
       "      <td>58.900000</td>\n",
       "      <td>22900.000000</td>\n",
       "      <td>10.600000</td>\n",
       "      <td>76.800000</td>\n",
       "      <td>3.910000</td>\n",
       "      <td>14600.000000</td>\n",
       "    </tr>\n",
       "    <tr>\n",
       "      <th>max</th>\n",
       "      <td>208.000000</td>\n",
       "      <td>200.000000</td>\n",
       "      <td>17.900000</td>\n",
       "      <td>174.000000</td>\n",
       "      <td>125000.000000</td>\n",
       "      <td>104.000000</td>\n",
       "      <td>82.800000</td>\n",
       "      <td>7.490000</td>\n",
       "      <td>105000.000000</td>\n",
       "    </tr>\n",
       "  </tbody>\n",
       "</table>\n",
       "</div>"
      ],
      "text/plain": [
       "       child_mort     exports  ...   total_fer           gdpp\n",
       "count  165.000000  165.000000  ...  165.000000     165.000000\n",
       "mean    38.567273   41.193327  ...    2.959818   13011.963636\n",
       "std     40.480851   27.560749  ...    1.518166   18428.279743\n",
       "min      2.600000    0.109000  ...    1.150000     231.000000\n",
       "25%      7.900000   23.800000  ...    1.800000    1310.000000\n",
       "50%     19.700000   35.000000  ...    2.410000    4660.000000\n",
       "75%     62.200000   51.400000  ...    3.910000   14600.000000\n",
       "max    208.000000  200.000000  ...    7.490000  105000.000000\n",
       "\n",
       "[8 rows x 9 columns]"
      ]
     },
     "execution_count": 5,
     "metadata": {},
     "output_type": "execute_result"
    }
   ],
   "source": [
    "df_countries.describe()"
   ]
  },
  {
   "cell_type": "code",
   "execution_count": 8,
   "id": "9510915d",
   "metadata": {},
   "outputs": [
    {
     "data": {
      "application/vnd.plotly.v1+json": {
       "config": {
        "plotlyServerURL": "https://plot.ly"
       },
       "data": [
        {
         "hovertemplate": "income_category=%{x}<br>value=%{y}<extra></extra>",
         "legendgroup": "High income",
         "marker": {
          "color": "#636efa",
          "pattern": {
           "shape": ""
          }
         },
         "name": "High income",
         "orientation": "v",
         "showlegend": true,
         "textposition": "auto",
         "type": "bar",
         "x": [
          "High income"
         ],
         "xaxis": "x",
         "y": {
          "bdata": "ED744IMPQEA=",
          "dtype": "f8"
         },
         "yaxis": "y"
        },
        {
         "hovertemplate": "income_category=%{x}<br>value=%{y}<extra></extra>",
         "legendgroup": "Lower middle income",
         "marker": {
          "color": "#EF553B",
          "pattern": {
           "shape": ""
          }
         },
         "name": "Lower middle income",
         "orientation": "v",
         "showlegend": true,
         "textposition": "auto",
         "type": "bar",
         "x": [
          "Lower middle income"
         ],
         "xaxis": "x",
         "y": {
          "bdata": "fPDBBx98PEA=",
          "dtype": "f8"
         },
         "yaxis": "y"
        },
        {
         "hovertemplate": "income_category=%{x}<br>value=%{y}<extra></extra>",
         "legendgroup": "Upper middle income",
         "marker": {
          "color": "#00cc96",
          "pattern": {
           "shape": ""
          }
         },
         "name": "Upper middle income",
         "orientation": "v",
         "showlegend": true,
         "textposition": "auto",
         "type": "bar",
         "x": [
          "Upper middle income"
         ],
         "xaxis": "x",
         "y": {
          "bdata": "q6qqqqqqOkA=",
          "dtype": "f8"
         },
         "yaxis": "y"
        },
        {
         "hovertemplate": "income_category=%{x}<br>value=%{y}<extra></extra>",
         "legendgroup": "Low income",
         "marker": {
          "color": "#ab63fa",
          "pattern": {
           "shape": ""
          }
         },
         "name": "Low income",
         "orientation": "v",
         "showlegend": true,
         "textposition": "auto",
         "type": "bar",
         "x": [
          "Low income"
         ],
         "xaxis": "x",
         "y": {
          "bdata": "dNFFF110KUA=",
          "dtype": "f8"
         },
         "yaxis": "y"
        }
       ],
       "layout": {
        "barmode": "relative",
        "legend": {
         "title": {
          "text": "income_category"
         },
         "tracegroupgap": 0
        },
        "margin": {
         "t": 60
        },
        "template": {
         "data": {
          "bar": [
           {
            "error_x": {
             "color": "#2a3f5f"
            },
            "error_y": {
             "color": "#2a3f5f"
            },
            "marker": {
             "line": {
              "color": "#E5ECF6",
              "width": 0.5
             },
             "pattern": {
              "fillmode": "overlay",
              "size": 10,
              "solidity": 0.2
             }
            },
            "type": "bar"
           }
          ],
          "barpolar": [
           {
            "marker": {
             "line": {
              "color": "#E5ECF6",
              "width": 0.5
             },
             "pattern": {
              "fillmode": "overlay",
              "size": 10,
              "solidity": 0.2
             }
            },
            "type": "barpolar"
           }
          ],
          "carpet": [
           {
            "aaxis": {
             "endlinecolor": "#2a3f5f",
             "gridcolor": "white",
             "linecolor": "white",
             "minorgridcolor": "white",
             "startlinecolor": "#2a3f5f"
            },
            "baxis": {
             "endlinecolor": "#2a3f5f",
             "gridcolor": "white",
             "linecolor": "white",
             "minorgridcolor": "white",
             "startlinecolor": "#2a3f5f"
            },
            "type": "carpet"
           }
          ],
          "choropleth": [
           {
            "colorbar": {
             "outlinewidth": 0,
             "ticks": ""
            },
            "type": "choropleth"
           }
          ],
          "contour": [
           {
            "colorbar": {
             "outlinewidth": 0,
             "ticks": ""
            },
            "colorscale": [
             [
              0,
              "#0d0887"
             ],
             [
              0.1111111111111111,
              "#46039f"
             ],
             [
              0.2222222222222222,
              "#7201a8"
             ],
             [
              0.3333333333333333,
              "#9c179e"
             ],
             [
              0.4444444444444444,
              "#bd3786"
             ],
             [
              0.5555555555555556,
              "#d8576b"
             ],
             [
              0.6666666666666666,
              "#ed7953"
             ],
             [
              0.7777777777777778,
              "#fb9f3a"
             ],
             [
              0.8888888888888888,
              "#fdca26"
             ],
             [
              1,
              "#f0f921"
             ]
            ],
            "type": "contour"
           }
          ],
          "contourcarpet": [
           {
            "colorbar": {
             "outlinewidth": 0,
             "ticks": ""
            },
            "type": "contourcarpet"
           }
          ],
          "heatmap": [
           {
            "colorbar": {
             "outlinewidth": 0,
             "ticks": ""
            },
            "colorscale": [
             [
              0,
              "#0d0887"
             ],
             [
              0.1111111111111111,
              "#46039f"
             ],
             [
              0.2222222222222222,
              "#7201a8"
             ],
             [
              0.3333333333333333,
              "#9c179e"
             ],
             [
              0.4444444444444444,
              "#bd3786"
             ],
             [
              0.5555555555555556,
              "#d8576b"
             ],
             [
              0.6666666666666666,
              "#ed7953"
             ],
             [
              0.7777777777777778,
              "#fb9f3a"
             ],
             [
              0.8888888888888888,
              "#fdca26"
             ],
             [
              1,
              "#f0f921"
             ]
            ],
            "type": "heatmap"
           }
          ],
          "histogram": [
           {
            "marker": {
             "pattern": {
              "fillmode": "overlay",
              "size": 10,
              "solidity": 0.2
             }
            },
            "type": "histogram"
           }
          ],
          "histogram2d": [
           {
            "colorbar": {
             "outlinewidth": 0,
             "ticks": ""
            },
            "colorscale": [
             [
              0,
              "#0d0887"
             ],
             [
              0.1111111111111111,
              "#46039f"
             ],
             [
              0.2222222222222222,
              "#7201a8"
             ],
             [
              0.3333333333333333,
              "#9c179e"
             ],
             [
              0.4444444444444444,
              "#bd3786"
             ],
             [
              0.5555555555555556,
              "#d8576b"
             ],
             [
              0.6666666666666666,
              "#ed7953"
             ],
             [
              0.7777777777777778,
              "#fb9f3a"
             ],
             [
              0.8888888888888888,
              "#fdca26"
             ],
             [
              1,
              "#f0f921"
             ]
            ],
            "type": "histogram2d"
           }
          ],
          "histogram2dcontour": [
           {
            "colorbar": {
             "outlinewidth": 0,
             "ticks": ""
            },
            "colorscale": [
             [
              0,
              "#0d0887"
             ],
             [
              0.1111111111111111,
              "#46039f"
             ],
             [
              0.2222222222222222,
              "#7201a8"
             ],
             [
              0.3333333333333333,
              "#9c179e"
             ],
             [
              0.4444444444444444,
              "#bd3786"
             ],
             [
              0.5555555555555556,
              "#d8576b"
             ],
             [
              0.6666666666666666,
              "#ed7953"
             ],
             [
              0.7777777777777778,
              "#fb9f3a"
             ],
             [
              0.8888888888888888,
              "#fdca26"
             ],
             [
              1,
              "#f0f921"
             ]
            ],
            "type": "histogram2dcontour"
           }
          ],
          "mesh3d": [
           {
            "colorbar": {
             "outlinewidth": 0,
             "ticks": ""
            },
            "type": "mesh3d"
           }
          ],
          "parcoords": [
           {
            "line": {
             "colorbar": {
              "outlinewidth": 0,
              "ticks": ""
             }
            },
            "type": "parcoords"
           }
          ],
          "pie": [
           {
            "automargin": true,
            "type": "pie"
           }
          ],
          "scatter": [
           {
            "fillpattern": {
             "fillmode": "overlay",
             "size": 10,
             "solidity": 0.2
            },
            "type": "scatter"
           }
          ],
          "scatter3d": [
           {
            "line": {
             "colorbar": {
              "outlinewidth": 0,
              "ticks": ""
             }
            },
            "marker": {
             "colorbar": {
              "outlinewidth": 0,
              "ticks": ""
             }
            },
            "type": "scatter3d"
           }
          ],
          "scattercarpet": [
           {
            "marker": {
             "colorbar": {
              "outlinewidth": 0,
              "ticks": ""
             }
            },
            "type": "scattercarpet"
           }
          ],
          "scattergeo": [
           {
            "marker": {
             "colorbar": {
              "outlinewidth": 0,
              "ticks": ""
             }
            },
            "type": "scattergeo"
           }
          ],
          "scattergl": [
           {
            "marker": {
             "colorbar": {
              "outlinewidth": 0,
              "ticks": ""
             }
            },
            "type": "scattergl"
           }
          ],
          "scattermap": [
           {
            "marker": {
             "colorbar": {
              "outlinewidth": 0,
              "ticks": ""
             }
            },
            "type": "scattermap"
           }
          ],
          "scattermapbox": [
           {
            "marker": {
             "colorbar": {
              "outlinewidth": 0,
              "ticks": ""
             }
            },
            "type": "scattermapbox"
           }
          ],
          "scatterpolar": [
           {
            "marker": {
             "colorbar": {
              "outlinewidth": 0,
              "ticks": ""
             }
            },
            "type": "scatterpolar"
           }
          ],
          "scatterpolargl": [
           {
            "marker": {
             "colorbar": {
              "outlinewidth": 0,
              "ticks": ""
             }
            },
            "type": "scatterpolargl"
           }
          ],
          "scatterternary": [
           {
            "marker": {
             "colorbar": {
              "outlinewidth": 0,
              "ticks": ""
             }
            },
            "type": "scatterternary"
           }
          ],
          "surface": [
           {
            "colorbar": {
             "outlinewidth": 0,
             "ticks": ""
            },
            "colorscale": [
             [
              0,
              "#0d0887"
             ],
             [
              0.1111111111111111,
              "#46039f"
             ],
             [
              0.2222222222222222,
              "#7201a8"
             ],
             [
              0.3333333333333333,
              "#9c179e"
             ],
             [
              0.4444444444444444,
              "#bd3786"
             ],
             [
              0.5555555555555556,
              "#d8576b"
             ],
             [
              0.6666666666666666,
              "#ed7953"
             ],
             [
              0.7777777777777778,
              "#fb9f3a"
             ],
             [
              0.8888888888888888,
              "#fdca26"
             ],
             [
              1,
              "#f0f921"
             ]
            ],
            "type": "surface"
           }
          ],
          "table": [
           {
            "cells": {
             "fill": {
              "color": "#EBF0F8"
             },
             "line": {
              "color": "white"
             }
            },
            "header": {
             "fill": {
              "color": "#C8D4E3"
             },
             "line": {
              "color": "white"
             }
            },
            "type": "table"
           }
          ]
         },
         "layout": {
          "annotationdefaults": {
           "arrowcolor": "#2a3f5f",
           "arrowhead": 0,
           "arrowwidth": 1
          },
          "autotypenumbers": "strict",
          "coloraxis": {
           "colorbar": {
            "outlinewidth": 0,
            "ticks": ""
           }
          },
          "colorscale": {
           "diverging": [
            [
             0,
             "#8e0152"
            ],
            [
             0.1,
             "#c51b7d"
            ],
            [
             0.2,
             "#de77ae"
            ],
            [
             0.3,
             "#f1b6da"
            ],
            [
             0.4,
             "#fde0ef"
            ],
            [
             0.5,
             "#f7f7f7"
            ],
            [
             0.6,
             "#e6f5d0"
            ],
            [
             0.7,
             "#b8e186"
            ],
            [
             0.8,
             "#7fbc41"
            ],
            [
             0.9,
             "#4d9221"
            ],
            [
             1,
             "#276419"
            ]
           ],
           "sequential": [
            [
             0,
             "#0d0887"
            ],
            [
             0.1111111111111111,
             "#46039f"
            ],
            [
             0.2222222222222222,
             "#7201a8"
            ],
            [
             0.3333333333333333,
             "#9c179e"
            ],
            [
             0.4444444444444444,
             "#bd3786"
            ],
            [
             0.5555555555555556,
             "#d8576b"
            ],
            [
             0.6666666666666666,
             "#ed7953"
            ],
            [
             0.7777777777777778,
             "#fb9f3a"
            ],
            [
             0.8888888888888888,
             "#fdca26"
            ],
            [
             1,
             "#f0f921"
            ]
           ],
           "sequentialminus": [
            [
             0,
             "#0d0887"
            ],
            [
             0.1111111111111111,
             "#46039f"
            ],
            [
             0.2222222222222222,
             "#7201a8"
            ],
            [
             0.3333333333333333,
             "#9c179e"
            ],
            [
             0.4444444444444444,
             "#bd3786"
            ],
            [
             0.5555555555555556,
             "#d8576b"
            ],
            [
             0.6666666666666666,
             "#ed7953"
            ],
            [
             0.7777777777777778,
             "#fb9f3a"
            ],
            [
             0.8888888888888888,
             "#fdca26"
            ],
            [
             1,
             "#f0f921"
            ]
           ]
          },
          "colorway": [
           "#636efa",
           "#EF553B",
           "#00cc96",
           "#ab63fa",
           "#FFA15A",
           "#19d3f3",
           "#FF6692",
           "#B6E880",
           "#FF97FF",
           "#FECB52"
          ],
          "font": {
           "color": "#2a3f5f"
          },
          "geo": {
           "bgcolor": "white",
           "lakecolor": "white",
           "landcolor": "#E5ECF6",
           "showlakes": true,
           "showland": true,
           "subunitcolor": "white"
          },
          "hoverlabel": {
           "align": "left"
          },
          "hovermode": "closest",
          "mapbox": {
           "style": "light"
          },
          "paper_bgcolor": "white",
          "plot_bgcolor": "#E5ECF6",
          "polar": {
           "angularaxis": {
            "gridcolor": "white",
            "linecolor": "white",
            "ticks": ""
           },
           "bgcolor": "#E5ECF6",
           "radialaxis": {
            "gridcolor": "white",
            "linecolor": "white",
            "ticks": ""
           }
          },
          "scene": {
           "xaxis": {
            "backgroundcolor": "#E5ECF6",
            "gridcolor": "white",
            "gridwidth": 2,
            "linecolor": "white",
            "showbackground": true,
            "ticks": "",
            "zerolinecolor": "white"
           },
           "yaxis": {
            "backgroundcolor": "#E5ECF6",
            "gridcolor": "white",
            "gridwidth": 2,
            "linecolor": "white",
            "showbackground": true,
            "ticks": "",
            "zerolinecolor": "white"
           },
           "zaxis": {
            "backgroundcolor": "#E5ECF6",
            "gridcolor": "white",
            "gridwidth": 2,
            "linecolor": "white",
            "showbackground": true,
            "ticks": "",
            "zerolinecolor": "white"
           }
          },
          "shapedefaults": {
           "line": {
            "color": "#2a3f5f"
           }
          },
          "ternary": {
           "aaxis": {
            "gridcolor": "white",
            "linecolor": "white",
            "ticks": ""
           },
           "baxis": {
            "gridcolor": "white",
            "linecolor": "white",
            "ticks": ""
           },
           "bgcolor": "#E5ECF6",
           "caxis": {
            "gridcolor": "white",
            "linecolor": "white",
            "ticks": ""
           }
          },
          "title": {
           "x": 0.05
          },
          "xaxis": {
           "automargin": true,
           "gridcolor": "white",
           "linecolor": "white",
           "ticks": "",
           "title": {
            "standoff": 15
           },
           "zerolinecolor": "white",
           "zerolinewidth": 2
          },
          "yaxis": {
           "automargin": true,
           "gridcolor": "white",
           "linecolor": "white",
           "ticks": "",
           "title": {
            "standoff": 15
           },
           "zerolinecolor": "white",
           "zerolinewidth": 2
          }
         }
        },
        "xaxis": {
         "anchor": "y",
         "categoryarray": [
          "High income",
          "Lower middle income",
          "Upper middle income",
          "Low income"
         ],
         "categoryorder": "array",
         "domain": [
          0,
          1
         ],
         "title": {
          "text": "income_category"
         }
        },
        "yaxis": {
         "anchor": "x",
         "domain": [
          0,
          1
         ],
         "title": {
          "text": "value"
         }
        }
       }
      }
     },
     "metadata": {},
     "output_type": "display_data"
    }
   ],
   "source": [
    "#Distribuição da variavel income_categories\n",
    "percentual_income_category = df_countries.value_counts('income_category') / len(df_countries) * 100\n",
    "px.bar(percentual_income_category, color=percentual_income_category.index)"
   ]
  },
  {
   "cell_type": "code",
   "execution_count": 9,
   "id": "f1a0e238",
   "metadata": {},
   "outputs": [
    {
     "data": {
      "application/vnd.plotly.v1+json": {
       "config": {
        "plotlyServerURL": "https://plot.ly"
       },
       "data": [
        {
         "bingroup": "x",
         "hovertemplate": "variable=income<br>value=%{x}<br>count=%{y}<extra></extra>",
         "legendgroup": "income",
         "marker": {
          "color": "#636efa",
          "pattern": {
           "shape": ""
          }
         },
         "name": "income",
         "orientation": "v",
         "showlegend": true,
         "type": "histogram",
         "x": {
          "bdata": "SgYAAMomAABkMgAADBcAAJxKAAAMSQAALBoAALihAADAqAAAgD4AAHRZAACMoAAAiAkAAMQ7AABIPwAAjKAAAMgeAAAcBwAAFBkAACIVAAD4JQAA9DMAAKQ4AADYOgEAxDsAAJYFAAD8AgAA2AkAAGQKAAD8ngAAxhYAAHgDAACKBwAAyEsAADolAACUKgAAggUAAGECAABGFAAAyDIAAIIKAACETgAAbIQAAIxuAADgqwAAXCsAAIYkAACEJgAAhBwAAKSDAACMBQAArFgAALYcAAB4mwAAJJAAACg8AAB8BgAAShoAANCdAAD0CwAAHHAAAMArAAA2GgAApgQAAG4FAADQFgAA3AUAABxXAACQlwAAOhEAAO4gAAD4QwAAnDEAAISyAACgcwAAaI0AAEAfAADYiwAA/iQAAIROAACwCQAAwgYAAMAlAQDmCgAAjA8AAHxHAACsPwAATAkAALwCAACgcwAAbFIAADRmAQBuBQAABgQAAGxSAAAEKQAATgcAAIxuAAD4DAAAHD4AAAwNAABGDwAAHh4AALA2AAAoGQAAlgMAAIgOAAAMIQAAxgcAALyxAAAsfgAALgMAAB4UAABc8wAA9LAAALgQAAAoPAAAehwAAOgmAADgFQAAKFUAAEBqAABI6AEAiEUAADxaAABGBQAAGBUAAFixAACECAAAnDEAALBPAADEBAAApBkBAHBiAAAccAAA9AYAAOAuAADAdgAA9H4AAHAhAADAJgAAKg0AAHg3AACUpwAAzNgAAD4IAAAqCAAAvDQAADoHAAC6BAAAdBMAAKAoAABQRgAA1CYAAAQGAACMHgAAAOEAAGiNAAD4wAAAzEIAAJAQAACGCwAAihEAAIARAADQDAAA",
          "dtype": "i4"
         },
         "xaxis": "x",
         "yaxis": "y"
        }
       ],
       "layout": {
        "barmode": "relative",
        "legend": {
         "title": {
          "text": "variable"
         },
         "tracegroupgap": 0
        },
        "margin": {
         "t": 60
        },
        "template": {
         "data": {
          "bar": [
           {
            "error_x": {
             "color": "#2a3f5f"
            },
            "error_y": {
             "color": "#2a3f5f"
            },
            "marker": {
             "line": {
              "color": "#E5ECF6",
              "width": 0.5
             },
             "pattern": {
              "fillmode": "overlay",
              "size": 10,
              "solidity": 0.2
             }
            },
            "type": "bar"
           }
          ],
          "barpolar": [
           {
            "marker": {
             "line": {
              "color": "#E5ECF6",
              "width": 0.5
             },
             "pattern": {
              "fillmode": "overlay",
              "size": 10,
              "solidity": 0.2
             }
            },
            "type": "barpolar"
           }
          ],
          "carpet": [
           {
            "aaxis": {
             "endlinecolor": "#2a3f5f",
             "gridcolor": "white",
             "linecolor": "white",
             "minorgridcolor": "white",
             "startlinecolor": "#2a3f5f"
            },
            "baxis": {
             "endlinecolor": "#2a3f5f",
             "gridcolor": "white",
             "linecolor": "white",
             "minorgridcolor": "white",
             "startlinecolor": "#2a3f5f"
            },
            "type": "carpet"
           }
          ],
          "choropleth": [
           {
            "colorbar": {
             "outlinewidth": 0,
             "ticks": ""
            },
            "type": "choropleth"
           }
          ],
          "contour": [
           {
            "colorbar": {
             "outlinewidth": 0,
             "ticks": ""
            },
            "colorscale": [
             [
              0,
              "#0d0887"
             ],
             [
              0.1111111111111111,
              "#46039f"
             ],
             [
              0.2222222222222222,
              "#7201a8"
             ],
             [
              0.3333333333333333,
              "#9c179e"
             ],
             [
              0.4444444444444444,
              "#bd3786"
             ],
             [
              0.5555555555555556,
              "#d8576b"
             ],
             [
              0.6666666666666666,
              "#ed7953"
             ],
             [
              0.7777777777777778,
              "#fb9f3a"
             ],
             [
              0.8888888888888888,
              "#fdca26"
             ],
             [
              1,
              "#f0f921"
             ]
            ],
            "type": "contour"
           }
          ],
          "contourcarpet": [
           {
            "colorbar": {
             "outlinewidth": 0,
             "ticks": ""
            },
            "type": "contourcarpet"
           }
          ],
          "heatmap": [
           {
            "colorbar": {
             "outlinewidth": 0,
             "ticks": ""
            },
            "colorscale": [
             [
              0,
              "#0d0887"
             ],
             [
              0.1111111111111111,
              "#46039f"
             ],
             [
              0.2222222222222222,
              "#7201a8"
             ],
             [
              0.3333333333333333,
              "#9c179e"
             ],
             [
              0.4444444444444444,
              "#bd3786"
             ],
             [
              0.5555555555555556,
              "#d8576b"
             ],
             [
              0.6666666666666666,
              "#ed7953"
             ],
             [
              0.7777777777777778,
              "#fb9f3a"
             ],
             [
              0.8888888888888888,
              "#fdca26"
             ],
             [
              1,
              "#f0f921"
             ]
            ],
            "type": "heatmap"
           }
          ],
          "histogram": [
           {
            "marker": {
             "pattern": {
              "fillmode": "overlay",
              "size": 10,
              "solidity": 0.2
             }
            },
            "type": "histogram"
           }
          ],
          "histogram2d": [
           {
            "colorbar": {
             "outlinewidth": 0,
             "ticks": ""
            },
            "colorscale": [
             [
              0,
              "#0d0887"
             ],
             [
              0.1111111111111111,
              "#46039f"
             ],
             [
              0.2222222222222222,
              "#7201a8"
             ],
             [
              0.3333333333333333,
              "#9c179e"
             ],
             [
              0.4444444444444444,
              "#bd3786"
             ],
             [
              0.5555555555555556,
              "#d8576b"
             ],
             [
              0.6666666666666666,
              "#ed7953"
             ],
             [
              0.7777777777777778,
              "#fb9f3a"
             ],
             [
              0.8888888888888888,
              "#fdca26"
             ],
             [
              1,
              "#f0f921"
             ]
            ],
            "type": "histogram2d"
           }
          ],
          "histogram2dcontour": [
           {
            "colorbar": {
             "outlinewidth": 0,
             "ticks": ""
            },
            "colorscale": [
             [
              0,
              "#0d0887"
             ],
             [
              0.1111111111111111,
              "#46039f"
             ],
             [
              0.2222222222222222,
              "#7201a8"
             ],
             [
              0.3333333333333333,
              "#9c179e"
             ],
             [
              0.4444444444444444,
              "#bd3786"
             ],
             [
              0.5555555555555556,
              "#d8576b"
             ],
             [
              0.6666666666666666,
              "#ed7953"
             ],
             [
              0.7777777777777778,
              "#fb9f3a"
             ],
             [
              0.8888888888888888,
              "#fdca26"
             ],
             [
              1,
              "#f0f921"
             ]
            ],
            "type": "histogram2dcontour"
           }
          ],
          "mesh3d": [
           {
            "colorbar": {
             "outlinewidth": 0,
             "ticks": ""
            },
            "type": "mesh3d"
           }
          ],
          "parcoords": [
           {
            "line": {
             "colorbar": {
              "outlinewidth": 0,
              "ticks": ""
             }
            },
            "type": "parcoords"
           }
          ],
          "pie": [
           {
            "automargin": true,
            "type": "pie"
           }
          ],
          "scatter": [
           {
            "fillpattern": {
             "fillmode": "overlay",
             "size": 10,
             "solidity": 0.2
            },
            "type": "scatter"
           }
          ],
          "scatter3d": [
           {
            "line": {
             "colorbar": {
              "outlinewidth": 0,
              "ticks": ""
             }
            },
            "marker": {
             "colorbar": {
              "outlinewidth": 0,
              "ticks": ""
             }
            },
            "type": "scatter3d"
           }
          ],
          "scattercarpet": [
           {
            "marker": {
             "colorbar": {
              "outlinewidth": 0,
              "ticks": ""
             }
            },
            "type": "scattercarpet"
           }
          ],
          "scattergeo": [
           {
            "marker": {
             "colorbar": {
              "outlinewidth": 0,
              "ticks": ""
             }
            },
            "type": "scattergeo"
           }
          ],
          "scattergl": [
           {
            "marker": {
             "colorbar": {
              "outlinewidth": 0,
              "ticks": ""
             }
            },
            "type": "scattergl"
           }
          ],
          "scattermap": [
           {
            "marker": {
             "colorbar": {
              "outlinewidth": 0,
              "ticks": ""
             }
            },
            "type": "scattermap"
           }
          ],
          "scattermapbox": [
           {
            "marker": {
             "colorbar": {
              "outlinewidth": 0,
              "ticks": ""
             }
            },
            "type": "scattermapbox"
           }
          ],
          "scatterpolar": [
           {
            "marker": {
             "colorbar": {
              "outlinewidth": 0,
              "ticks": ""
             }
            },
            "type": "scatterpolar"
           }
          ],
          "scatterpolargl": [
           {
            "marker": {
             "colorbar": {
              "outlinewidth": 0,
              "ticks": ""
             }
            },
            "type": "scatterpolargl"
           }
          ],
          "scatterternary": [
           {
            "marker": {
             "colorbar": {
              "outlinewidth": 0,
              "ticks": ""
             }
            },
            "type": "scatterternary"
           }
          ],
          "surface": [
           {
            "colorbar": {
             "outlinewidth": 0,
             "ticks": ""
            },
            "colorscale": [
             [
              0,
              "#0d0887"
             ],
             [
              0.1111111111111111,
              "#46039f"
             ],
             [
              0.2222222222222222,
              "#7201a8"
             ],
             [
              0.3333333333333333,
              "#9c179e"
             ],
             [
              0.4444444444444444,
              "#bd3786"
             ],
             [
              0.5555555555555556,
              "#d8576b"
             ],
             [
              0.6666666666666666,
              "#ed7953"
             ],
             [
              0.7777777777777778,
              "#fb9f3a"
             ],
             [
              0.8888888888888888,
              "#fdca26"
             ],
             [
              1,
              "#f0f921"
             ]
            ],
            "type": "surface"
           }
          ],
          "table": [
           {
            "cells": {
             "fill": {
              "color": "#EBF0F8"
             },
             "line": {
              "color": "white"
             }
            },
            "header": {
             "fill": {
              "color": "#C8D4E3"
             },
             "line": {
              "color": "white"
             }
            },
            "type": "table"
           }
          ]
         },
         "layout": {
          "annotationdefaults": {
           "arrowcolor": "#2a3f5f",
           "arrowhead": 0,
           "arrowwidth": 1
          },
          "autotypenumbers": "strict",
          "coloraxis": {
           "colorbar": {
            "outlinewidth": 0,
            "ticks": ""
           }
          },
          "colorscale": {
           "diverging": [
            [
             0,
             "#8e0152"
            ],
            [
             0.1,
             "#c51b7d"
            ],
            [
             0.2,
             "#de77ae"
            ],
            [
             0.3,
             "#f1b6da"
            ],
            [
             0.4,
             "#fde0ef"
            ],
            [
             0.5,
             "#f7f7f7"
            ],
            [
             0.6,
             "#e6f5d0"
            ],
            [
             0.7,
             "#b8e186"
            ],
            [
             0.8,
             "#7fbc41"
            ],
            [
             0.9,
             "#4d9221"
            ],
            [
             1,
             "#276419"
            ]
           ],
           "sequential": [
            [
             0,
             "#0d0887"
            ],
            [
             0.1111111111111111,
             "#46039f"
            ],
            [
             0.2222222222222222,
             "#7201a8"
            ],
            [
             0.3333333333333333,
             "#9c179e"
            ],
            [
             0.4444444444444444,
             "#bd3786"
            ],
            [
             0.5555555555555556,
             "#d8576b"
            ],
            [
             0.6666666666666666,
             "#ed7953"
            ],
            [
             0.7777777777777778,
             "#fb9f3a"
            ],
            [
             0.8888888888888888,
             "#fdca26"
            ],
            [
             1,
             "#f0f921"
            ]
           ],
           "sequentialminus": [
            [
             0,
             "#0d0887"
            ],
            [
             0.1111111111111111,
             "#46039f"
            ],
            [
             0.2222222222222222,
             "#7201a8"
            ],
            [
             0.3333333333333333,
             "#9c179e"
            ],
            [
             0.4444444444444444,
             "#bd3786"
            ],
            [
             0.5555555555555556,
             "#d8576b"
            ],
            [
             0.6666666666666666,
             "#ed7953"
            ],
            [
             0.7777777777777778,
             "#fb9f3a"
            ],
            [
             0.8888888888888888,
             "#fdca26"
            ],
            [
             1,
             "#f0f921"
            ]
           ]
          },
          "colorway": [
           "#636efa",
           "#EF553B",
           "#00cc96",
           "#ab63fa",
           "#FFA15A",
           "#19d3f3",
           "#FF6692",
           "#B6E880",
           "#FF97FF",
           "#FECB52"
          ],
          "font": {
           "color": "#2a3f5f"
          },
          "geo": {
           "bgcolor": "white",
           "lakecolor": "white",
           "landcolor": "#E5ECF6",
           "showlakes": true,
           "showland": true,
           "subunitcolor": "white"
          },
          "hoverlabel": {
           "align": "left"
          },
          "hovermode": "closest",
          "mapbox": {
           "style": "light"
          },
          "paper_bgcolor": "white",
          "plot_bgcolor": "#E5ECF6",
          "polar": {
           "angularaxis": {
            "gridcolor": "white",
            "linecolor": "white",
            "ticks": ""
           },
           "bgcolor": "#E5ECF6",
           "radialaxis": {
            "gridcolor": "white",
            "linecolor": "white",
            "ticks": ""
           }
          },
          "scene": {
           "xaxis": {
            "backgroundcolor": "#E5ECF6",
            "gridcolor": "white",
            "gridwidth": 2,
            "linecolor": "white",
            "showbackground": true,
            "ticks": "",
            "zerolinecolor": "white"
           },
           "yaxis": {
            "backgroundcolor": "#E5ECF6",
            "gridcolor": "white",
            "gridwidth": 2,
            "linecolor": "white",
            "showbackground": true,
            "ticks": "",
            "zerolinecolor": "white"
           },
           "zaxis": {
            "backgroundcolor": "#E5ECF6",
            "gridcolor": "white",
            "gridwidth": 2,
            "linecolor": "white",
            "showbackground": true,
            "ticks": "",
            "zerolinecolor": "white"
           }
          },
          "shapedefaults": {
           "line": {
            "color": "#2a3f5f"
           }
          },
          "ternary": {
           "aaxis": {
            "gridcolor": "white",
            "linecolor": "white",
            "ticks": ""
           },
           "baxis": {
            "gridcolor": "white",
            "linecolor": "white",
            "ticks": ""
           },
           "bgcolor": "#E5ECF6",
           "caxis": {
            "gridcolor": "white",
            "linecolor": "white",
            "ticks": ""
           }
          },
          "title": {
           "x": 0.05
          },
          "xaxis": {
           "automargin": true,
           "gridcolor": "white",
           "linecolor": "white",
           "ticks": "",
           "title": {
            "standoff": 15
           },
           "zerolinecolor": "white",
           "zerolinewidth": 2
          },
          "yaxis": {
           "automargin": true,
           "gridcolor": "white",
           "linecolor": "white",
           "ticks": "",
           "title": {
            "standoff": 15
           },
           "zerolinecolor": "white",
           "zerolinewidth": 2
          }
         }
        },
        "xaxis": {
         "anchor": "y",
         "domain": [
          0,
          1
         ],
         "title": {
          "text": "value"
         }
        },
        "yaxis": {
         "anchor": "x",
         "domain": [
          0,
          1
         ],
         "title": {
          "text": "count"
         }
        }
       }
      }
     },
     "metadata": {},
     "output_type": "display_data"
    }
   ],
   "source": [
    "#distribuição da variavel icome\n",
    "px.histogram(df_countries['income'])"
   ]
  },
  {
   "cell_type": "code",
   "execution_count": 10,
   "id": "0f8259d0",
   "metadata": {},
   "outputs": [
    {
     "data": {
      "application/vnd.plotly.v1+json": {
       "config": {
        "plotlyServerURL": "https://plot.ly"
       },
       "data": [
        {
         "bingroup": "x",
         "hovertemplate": "variable=inflation<br>value=%{x}<br>count=%{y}<extra></extra>",
         "legendgroup": "inflation",
         "marker": {
          "color": "#636efa",
          "pattern": {
           "shape": ""
          }
         },
         "name": "inflation",
         "orientation": "v",
         "showlegend": true,
         "type": "histogram",
         "x": {
          "bdata": "4XoUrkfhIkD2KFyPwvURQJqZmZmZGTBAZmZmZmZmNkAK16NwPQr3P2ZmZmZm5jRAFK5H4XoUH0CPwvUoXI/yP1YOLbKd7+s/mpmZmZmZK0D0/dR46SbZv8P1KFyPwh1Aj8L1KFyPHEAlBoGVQ4vUPzMzMzMzMy5AFK5H4XoU/j89CtejcD3yP1K4HoXrUew/9ihcj8L1F0CPwvUoXI8hQGZmZmZmZvY/16NwPQrXIUBSuB6F69EgQDMzMzMzszBAw/UoXI/C8T89CtejcD0bQJqZmZmZmShA9ihcj8L1CECPwvUoXI/+P/YoXI/C9QZAKVyPwvUo4D8UrkfhehQAQI/C9ShcjxlA7FG4HoXrIUDD9Shcj8IbQOF6FK5H4Q5A9ihcj8L1DkDNzMzMzMw0QDMzMzMzszRASOF6FK5HGkCPwvUoXI8VQBKDwMqhReo/FK5H4XoUAEDhehSuR+H2v8P1KFyPwglAw/UoXI/CFUDhehSuR+EdQDMzMzMzMyRAMzMzMzMzBUBmZmZmZuY4QDMzMzMzMydA16NwPQrX+z/sUbgehesQQBBYObTIdtY/zczMzMzM8D+amZmZmZkwQDMzMzMzMxFAmpmZmZkZIUCoxks3iUHoP5qZmZmZmTBA8KfGSzeJ5T+4HoXrUbjeP4/C9ShcjxRAmpmZmZkZMEDD9Shcj8IHQOxRuB6F6xZAzczMzMzMFUCkcD0K16MCQOF6FK5H4RVA9ihcj8L1IUCamZmZmZkuQM3MzMzMzC9AmpmZmZmZMEDD9Shcj8IJwFK4HoXrUfw/0SLb+X5q1D8fhetRuJ4jQGZmZmZmZv6/XI/C9SjcIEAAAAAAAIAzQLgehetRuABAUrgehetR+D9mZmZmZmYmQAAAAAAAACRAZmZmZmZmIkCWQ4ts5/vpvxBYObTIds4/mpmZmZmZEEDhehSuR+EVQGZmZmZmZixACtejcD0KA0D2KFyPwvUMQBSuR+F6lCFAMzMzMzMzKEAUrkfhehQdQArXo3A9CgdAexSuR+F6EUCkcD0K16MOQGZmZmZm5jJAFK5H4XoU8j9mZmZmZmYOQDMzMzMzMyZAmpmZmZmZQ0CamZmZmZn5PwisHFpkO+8/j8L1KFyPHkApXI/C9SgcQHsUrkfhegxAMzMzMzMzLkCJQWDl0CLrP9ejcD0K1w1AZmZmZmZmBEAAAAAAAABaQM3MzMzMzBdAMzMzMzMzL0DNzMzMzMwlQLgehetRuARAZmZmZmZmGEDXo3A9CtcWQOF6FK5H4RBAj8L1KFyP+j/6fmq8dJPkP+xRuB6F6xtAPQrXo3A9DEBmZmZmZmYsQOF6FK5H4QRAhetRuB6F+z8zMzMzMzMxQJqZmZmZmf0/hetRuB6FF0DXo3A9CtcQwDMzMzMzMzFAWmQ730+Np78K16NwPQrfPy/dJAaBle+/PQrXo3A9G0BmZmZmZmYZQEjhehSuRwlAexSuR+F6xD/NzMzMzMw2QMP1KFyPwhFAmpmZmZmZM0DNzMzMzMwcQIPAyqFFtu8/fT81XrpJ1D8AAAAAAAApQAAAAAAAgCJAUrgehetREEAAAAAAAIA6QOF6FK5H4fI/cT0K16NwDUCPwvUoXI8OQArXo3A9ChxAexSuR+F6AkAzMzMzMzMlQM3MzMzMzCpAAAAAAAAAKUAfhetRuB75P4XrUbgehfM/pHA9CtejE0AAAAAAAIAwQPYoXI/C9QRAMzMzMzMzKECamZmZmZk3QAAAAAAAACxA",
          "dtype": "f8"
         },
         "xaxis": "x",
         "yaxis": "y"
        }
       ],
       "layout": {
        "barmode": "relative",
        "legend": {
         "title": {
          "text": "variable"
         },
         "tracegroupgap": 0
        },
        "margin": {
         "t": 60
        },
        "template": {
         "data": {
          "bar": [
           {
            "error_x": {
             "color": "#2a3f5f"
            },
            "error_y": {
             "color": "#2a3f5f"
            },
            "marker": {
             "line": {
              "color": "#E5ECF6",
              "width": 0.5
             },
             "pattern": {
              "fillmode": "overlay",
              "size": 10,
              "solidity": 0.2
             }
            },
            "type": "bar"
           }
          ],
          "barpolar": [
           {
            "marker": {
             "line": {
              "color": "#E5ECF6",
              "width": 0.5
             },
             "pattern": {
              "fillmode": "overlay",
              "size": 10,
              "solidity": 0.2
             }
            },
            "type": "barpolar"
           }
          ],
          "carpet": [
           {
            "aaxis": {
             "endlinecolor": "#2a3f5f",
             "gridcolor": "white",
             "linecolor": "white",
             "minorgridcolor": "white",
             "startlinecolor": "#2a3f5f"
            },
            "baxis": {
             "endlinecolor": "#2a3f5f",
             "gridcolor": "white",
             "linecolor": "white",
             "minorgridcolor": "white",
             "startlinecolor": "#2a3f5f"
            },
            "type": "carpet"
           }
          ],
          "choropleth": [
           {
            "colorbar": {
             "outlinewidth": 0,
             "ticks": ""
            },
            "type": "choropleth"
           }
          ],
          "contour": [
           {
            "colorbar": {
             "outlinewidth": 0,
             "ticks": ""
            },
            "colorscale": [
             [
              0,
              "#0d0887"
             ],
             [
              0.1111111111111111,
              "#46039f"
             ],
             [
              0.2222222222222222,
              "#7201a8"
             ],
             [
              0.3333333333333333,
              "#9c179e"
             ],
             [
              0.4444444444444444,
              "#bd3786"
             ],
             [
              0.5555555555555556,
              "#d8576b"
             ],
             [
              0.6666666666666666,
              "#ed7953"
             ],
             [
              0.7777777777777778,
              "#fb9f3a"
             ],
             [
              0.8888888888888888,
              "#fdca26"
             ],
             [
              1,
              "#f0f921"
             ]
            ],
            "type": "contour"
           }
          ],
          "contourcarpet": [
           {
            "colorbar": {
             "outlinewidth": 0,
             "ticks": ""
            },
            "type": "contourcarpet"
           }
          ],
          "heatmap": [
           {
            "colorbar": {
             "outlinewidth": 0,
             "ticks": ""
            },
            "colorscale": [
             [
              0,
              "#0d0887"
             ],
             [
              0.1111111111111111,
              "#46039f"
             ],
             [
              0.2222222222222222,
              "#7201a8"
             ],
             [
              0.3333333333333333,
              "#9c179e"
             ],
             [
              0.4444444444444444,
              "#bd3786"
             ],
             [
              0.5555555555555556,
              "#d8576b"
             ],
             [
              0.6666666666666666,
              "#ed7953"
             ],
             [
              0.7777777777777778,
              "#fb9f3a"
             ],
             [
              0.8888888888888888,
              "#fdca26"
             ],
             [
              1,
              "#f0f921"
             ]
            ],
            "type": "heatmap"
           }
          ],
          "histogram": [
           {
            "marker": {
             "pattern": {
              "fillmode": "overlay",
              "size": 10,
              "solidity": 0.2
             }
            },
            "type": "histogram"
           }
          ],
          "histogram2d": [
           {
            "colorbar": {
             "outlinewidth": 0,
             "ticks": ""
            },
            "colorscale": [
             [
              0,
              "#0d0887"
             ],
             [
              0.1111111111111111,
              "#46039f"
             ],
             [
              0.2222222222222222,
              "#7201a8"
             ],
             [
              0.3333333333333333,
              "#9c179e"
             ],
             [
              0.4444444444444444,
              "#bd3786"
             ],
             [
              0.5555555555555556,
              "#d8576b"
             ],
             [
              0.6666666666666666,
              "#ed7953"
             ],
             [
              0.7777777777777778,
              "#fb9f3a"
             ],
             [
              0.8888888888888888,
              "#fdca26"
             ],
             [
              1,
              "#f0f921"
             ]
            ],
            "type": "histogram2d"
           }
          ],
          "histogram2dcontour": [
           {
            "colorbar": {
             "outlinewidth": 0,
             "ticks": ""
            },
            "colorscale": [
             [
              0,
              "#0d0887"
             ],
             [
              0.1111111111111111,
              "#46039f"
             ],
             [
              0.2222222222222222,
              "#7201a8"
             ],
             [
              0.3333333333333333,
              "#9c179e"
             ],
             [
              0.4444444444444444,
              "#bd3786"
             ],
             [
              0.5555555555555556,
              "#d8576b"
             ],
             [
              0.6666666666666666,
              "#ed7953"
             ],
             [
              0.7777777777777778,
              "#fb9f3a"
             ],
             [
              0.8888888888888888,
              "#fdca26"
             ],
             [
              1,
              "#f0f921"
             ]
            ],
            "type": "histogram2dcontour"
           }
          ],
          "mesh3d": [
           {
            "colorbar": {
             "outlinewidth": 0,
             "ticks": ""
            },
            "type": "mesh3d"
           }
          ],
          "parcoords": [
           {
            "line": {
             "colorbar": {
              "outlinewidth": 0,
              "ticks": ""
             }
            },
            "type": "parcoords"
           }
          ],
          "pie": [
           {
            "automargin": true,
            "type": "pie"
           }
          ],
          "scatter": [
           {
            "fillpattern": {
             "fillmode": "overlay",
             "size": 10,
             "solidity": 0.2
            },
            "type": "scatter"
           }
          ],
          "scatter3d": [
           {
            "line": {
             "colorbar": {
              "outlinewidth": 0,
              "ticks": ""
             }
            },
            "marker": {
             "colorbar": {
              "outlinewidth": 0,
              "ticks": ""
             }
            },
            "type": "scatter3d"
           }
          ],
          "scattercarpet": [
           {
            "marker": {
             "colorbar": {
              "outlinewidth": 0,
              "ticks": ""
             }
            },
            "type": "scattercarpet"
           }
          ],
          "scattergeo": [
           {
            "marker": {
             "colorbar": {
              "outlinewidth": 0,
              "ticks": ""
             }
            },
            "type": "scattergeo"
           }
          ],
          "scattergl": [
           {
            "marker": {
             "colorbar": {
              "outlinewidth": 0,
              "ticks": ""
             }
            },
            "type": "scattergl"
           }
          ],
          "scattermap": [
           {
            "marker": {
             "colorbar": {
              "outlinewidth": 0,
              "ticks": ""
             }
            },
            "type": "scattermap"
           }
          ],
          "scattermapbox": [
           {
            "marker": {
             "colorbar": {
              "outlinewidth": 0,
              "ticks": ""
             }
            },
            "type": "scattermapbox"
           }
          ],
          "scatterpolar": [
           {
            "marker": {
             "colorbar": {
              "outlinewidth": 0,
              "ticks": ""
             }
            },
            "type": "scatterpolar"
           }
          ],
          "scatterpolargl": [
           {
            "marker": {
             "colorbar": {
              "outlinewidth": 0,
              "ticks": ""
             }
            },
            "type": "scatterpolargl"
           }
          ],
          "scatterternary": [
           {
            "marker": {
             "colorbar": {
              "outlinewidth": 0,
              "ticks": ""
             }
            },
            "type": "scatterternary"
           }
          ],
          "surface": [
           {
            "colorbar": {
             "outlinewidth": 0,
             "ticks": ""
            },
            "colorscale": [
             [
              0,
              "#0d0887"
             ],
             [
              0.1111111111111111,
              "#46039f"
             ],
             [
              0.2222222222222222,
              "#7201a8"
             ],
             [
              0.3333333333333333,
              "#9c179e"
             ],
             [
              0.4444444444444444,
              "#bd3786"
             ],
             [
              0.5555555555555556,
              "#d8576b"
             ],
             [
              0.6666666666666666,
              "#ed7953"
             ],
             [
              0.7777777777777778,
              "#fb9f3a"
             ],
             [
              0.8888888888888888,
              "#fdca26"
             ],
             [
              1,
              "#f0f921"
             ]
            ],
            "type": "surface"
           }
          ],
          "table": [
           {
            "cells": {
             "fill": {
              "color": "#EBF0F8"
             },
             "line": {
              "color": "white"
             }
            },
            "header": {
             "fill": {
              "color": "#C8D4E3"
             },
             "line": {
              "color": "white"
             }
            },
            "type": "table"
           }
          ]
         },
         "layout": {
          "annotationdefaults": {
           "arrowcolor": "#2a3f5f",
           "arrowhead": 0,
           "arrowwidth": 1
          },
          "autotypenumbers": "strict",
          "coloraxis": {
           "colorbar": {
            "outlinewidth": 0,
            "ticks": ""
           }
          },
          "colorscale": {
           "diverging": [
            [
             0,
             "#8e0152"
            ],
            [
             0.1,
             "#c51b7d"
            ],
            [
             0.2,
             "#de77ae"
            ],
            [
             0.3,
             "#f1b6da"
            ],
            [
             0.4,
             "#fde0ef"
            ],
            [
             0.5,
             "#f7f7f7"
            ],
            [
             0.6,
             "#e6f5d0"
            ],
            [
             0.7,
             "#b8e186"
            ],
            [
             0.8,
             "#7fbc41"
            ],
            [
             0.9,
             "#4d9221"
            ],
            [
             1,
             "#276419"
            ]
           ],
           "sequential": [
            [
             0,
             "#0d0887"
            ],
            [
             0.1111111111111111,
             "#46039f"
            ],
            [
             0.2222222222222222,
             "#7201a8"
            ],
            [
             0.3333333333333333,
             "#9c179e"
            ],
            [
             0.4444444444444444,
             "#bd3786"
            ],
            [
             0.5555555555555556,
             "#d8576b"
            ],
            [
             0.6666666666666666,
             "#ed7953"
            ],
            [
             0.7777777777777778,
             "#fb9f3a"
            ],
            [
             0.8888888888888888,
             "#fdca26"
            ],
            [
             1,
             "#f0f921"
            ]
           ],
           "sequentialminus": [
            [
             0,
             "#0d0887"
            ],
            [
             0.1111111111111111,
             "#46039f"
            ],
            [
             0.2222222222222222,
             "#7201a8"
            ],
            [
             0.3333333333333333,
             "#9c179e"
            ],
            [
             0.4444444444444444,
             "#bd3786"
            ],
            [
             0.5555555555555556,
             "#d8576b"
            ],
            [
             0.6666666666666666,
             "#ed7953"
            ],
            [
             0.7777777777777778,
             "#fb9f3a"
            ],
            [
             0.8888888888888888,
             "#fdca26"
            ],
            [
             1,
             "#f0f921"
            ]
           ]
          },
          "colorway": [
           "#636efa",
           "#EF553B",
           "#00cc96",
           "#ab63fa",
           "#FFA15A",
           "#19d3f3",
           "#FF6692",
           "#B6E880",
           "#FF97FF",
           "#FECB52"
          ],
          "font": {
           "color": "#2a3f5f"
          },
          "geo": {
           "bgcolor": "white",
           "lakecolor": "white",
           "landcolor": "#E5ECF6",
           "showlakes": true,
           "showland": true,
           "subunitcolor": "white"
          },
          "hoverlabel": {
           "align": "left"
          },
          "hovermode": "closest",
          "mapbox": {
           "style": "light"
          },
          "paper_bgcolor": "white",
          "plot_bgcolor": "#E5ECF6",
          "polar": {
           "angularaxis": {
            "gridcolor": "white",
            "linecolor": "white",
            "ticks": ""
           },
           "bgcolor": "#E5ECF6",
           "radialaxis": {
            "gridcolor": "white",
            "linecolor": "white",
            "ticks": ""
           }
          },
          "scene": {
           "xaxis": {
            "backgroundcolor": "#E5ECF6",
            "gridcolor": "white",
            "gridwidth": 2,
            "linecolor": "white",
            "showbackground": true,
            "ticks": "",
            "zerolinecolor": "white"
           },
           "yaxis": {
            "backgroundcolor": "#E5ECF6",
            "gridcolor": "white",
            "gridwidth": 2,
            "linecolor": "white",
            "showbackground": true,
            "ticks": "",
            "zerolinecolor": "white"
           },
           "zaxis": {
            "backgroundcolor": "#E5ECF6",
            "gridcolor": "white",
            "gridwidth": 2,
            "linecolor": "white",
            "showbackground": true,
            "ticks": "",
            "zerolinecolor": "white"
           }
          },
          "shapedefaults": {
           "line": {
            "color": "#2a3f5f"
           }
          },
          "ternary": {
           "aaxis": {
            "gridcolor": "white",
            "linecolor": "white",
            "ticks": ""
           },
           "baxis": {
            "gridcolor": "white",
            "linecolor": "white",
            "ticks": ""
           },
           "bgcolor": "#E5ECF6",
           "caxis": {
            "gridcolor": "white",
            "linecolor": "white",
            "ticks": ""
           }
          },
          "title": {
           "x": 0.05
          },
          "xaxis": {
           "automargin": true,
           "gridcolor": "white",
           "linecolor": "white",
           "ticks": "",
           "title": {
            "standoff": 15
           },
           "zerolinecolor": "white",
           "zerolinewidth": 2
          },
          "yaxis": {
           "automargin": true,
           "gridcolor": "white",
           "linecolor": "white",
           "ticks": "",
           "title": {
            "standoff": 15
           },
           "zerolinecolor": "white",
           "zerolinewidth": 2
          }
         }
        },
        "xaxis": {
         "anchor": "y",
         "domain": [
          0,
          1
         ],
         "title": {
          "text": "value"
         }
        },
        "yaxis": {
         "anchor": "x",
         "domain": [
          0,
          1
         ],
         "title": {
          "text": "count"
         }
        }
       }
      }
     },
     "metadata": {},
     "output_type": "display_data"
    }
   ],
   "source": [
    "#distribuição inflação\n",
    "px.histogram(df_countries['inflation'])"
   ]
  },
  {
   "cell_type": "code",
   "execution_count": 12,
   "id": "379f3993",
   "metadata": {},
   "outputs": [
    {
     "data": {
      "application/vnd.plotly.v1+json": {
       "config": {
        "plotlyServerURL": "https://plot.ly"
       },
       "data": [
        {
         "bingroup": "x",
         "hovertemplate": "variable=life_expec<br>value=%{x}<br>count=%{y}<extra></extra>",
         "legendgroup": "life_expec",
         "marker": {
          "color": "#636efa",
          "pattern": {
           "shape": ""
          }
         },
         "name": "life_expec",
         "orientation": "v",
         "showlegend": true,
         "type": "histogram",
         "x": {
          "bdata": "mpmZmZkZTEAzMzMzMxNTQAAAAAAAIFNAzczMzMwMTkAzMzMzMzNTQDMzMzMz81JAMzMzMzNTUkAAAAAAAIBUQAAAAAAAIFRAZmZmZmZGUUAzMzMzM3NSQAAAAAAAAFNAmpmZmZmZUUDNzMzMzCxTQJqZmZmZmVFAAAAAAAAAVECamZmZmdlRQGZmZmZm5k5AZmZmZmYGUkBmZmZmZuZRQDMzMzMzM1NAzczMzMyMTEDNzMzMzIxSQGZmZmZmRlNAmpmZmZl5UkAzMzMzM/NMQJqZmZmZ2UxAZmZmZmaGUEBmZmZmZqZMQDMzMzMzU1RAAAAAAAAgUkAAAAAAAMBHQAAAAAAAQExAZmZmZmbGU0BmZmZmZqZSQJqZmZmZGVNAmpmZmZl5UEAAAAAAAMBMQDMzMzMzM05AmpmZmZkZVEBmZmZmZiZMQDMzMzMzE1NAmpmZmZn5U0AAAAAAAGBTQAAAAAAA4FNAZmZmZmamUkDNzMzMzCxTQAAAAAAAoFFAZmZmZmaGUkAzMzMzM3NOQJqZmZmZ2U5AAAAAAAAAU0AzMzMzM1NQQAAAAAAAAFRAmpmZmZlZVEAzMzMzM3NPQAAAAAAAYFBAMzMzMzMzUkBmZmZmZgZUQJqZmZmZGU9AmpmZmZkZVEAzMzMzM9NRQDMzMzMz01FAAAAAAAAATUDNzMzMzMxLQAAAAAAAYFBAzczMzMwMQEAAAAAAAKBSQAAAAAAAgFRAzczMzMyMUECamZmZmXlRQAAAAAAAoFJAzczMzMzMUECamZmZmRlUQJqZmZmZWVRAzczMzMxsVEDNzMzMzKxSQDMzMzMzs1RAMzMzMzPzUkCamZmZmRlRQGZmZmZmZk9AmpmZmZlZTkDNzMzMzIxTQAAAAAAAIFFAZmZmZmbmT0BmZmZmZkZSQDMzMzMz81NAAAAAAABAR0BmZmZmZmZOQGZmZmZmBlNAzczMzMxMUkAzMzMzM1NUQGZmZmZmZk5AzczMzMyMSkAAAAAAAKBSQJqZmZmZeVNAAAAAAADATUAzMzMzMxNUQM3MzMzMDFFAmpmZmZlZUkCamZmZmVlQQM3MzMzMbFFAzczMzMyMUECamZmZmRlTQAAAAAAAYFJAAAAAAABAS0AzMzMzM7NQQM3MzMzMTE1AMzMzMzMTUUDNzMzMzCxUQJqZmZmZOVRAZmZmZmZmTUAAAAAAAEBOQAAAAAAAQFRAZmZmZmYGU0AzMzMzM1NQQDMzMzMzc1NAZmZmZmaGUkCamZmZmXlTQAAAAAAAQFFAMzMzMzMTU0AzMzMzM/NTQAAAAAAA4FNAzczMzMxsUkDNzMzMzExRQGZmZmZmJlBAAAAAAADgUUBmZmZmZsZSQAAAAAAAAFBAzczMzMysUkCamZmZmVlSQAAAAAAAgEtAzczMzMysVEAAAAAAAOBSQAAAAAAA4FNAmpmZmZnZTkBmZmZmZiZLQGZmZmZmBlRAmpmZmZl5VECamZmZmZlSQGZmZmZm5lFAMzMzMzOTUEAzMzMzM5NRQAAAAAAAYFRAzczMzMyMVEBmZmZmZmZRQGZmZmZmpk1AZmZmZmYmU0BmZmZmZsZRQJqZmZmZWU1AmpmZmZl5UUCamZmZmTlTQM3MzMzMjFNAmpmZmZn5UEBmZmZmZmZMQJqZmZmZmVFAAAAAAAAgU0AzMzMzMxNUQM3MzMzMrFNAmpmZmZkZU0AzMzMzMzNRQAAAAAAAgE9AZmZmZmZGUkAAAAAAAOBQQAAAAAAAAEpA",
          "dtype": "f8"
         },
         "xaxis": "x",
         "yaxis": "y"
        }
       ],
       "layout": {
        "barmode": "relative",
        "legend": {
         "title": {
          "text": "variable"
         },
         "tracegroupgap": 0
        },
        "margin": {
         "t": 60
        },
        "template": {
         "data": {
          "bar": [
           {
            "error_x": {
             "color": "#2a3f5f"
            },
            "error_y": {
             "color": "#2a3f5f"
            },
            "marker": {
             "line": {
              "color": "#E5ECF6",
              "width": 0.5
             },
             "pattern": {
              "fillmode": "overlay",
              "size": 10,
              "solidity": 0.2
             }
            },
            "type": "bar"
           }
          ],
          "barpolar": [
           {
            "marker": {
             "line": {
              "color": "#E5ECF6",
              "width": 0.5
             },
             "pattern": {
              "fillmode": "overlay",
              "size": 10,
              "solidity": 0.2
             }
            },
            "type": "barpolar"
           }
          ],
          "carpet": [
           {
            "aaxis": {
             "endlinecolor": "#2a3f5f",
             "gridcolor": "white",
             "linecolor": "white",
             "minorgridcolor": "white",
             "startlinecolor": "#2a3f5f"
            },
            "baxis": {
             "endlinecolor": "#2a3f5f",
             "gridcolor": "white",
             "linecolor": "white",
             "minorgridcolor": "white",
             "startlinecolor": "#2a3f5f"
            },
            "type": "carpet"
           }
          ],
          "choropleth": [
           {
            "colorbar": {
             "outlinewidth": 0,
             "ticks": ""
            },
            "type": "choropleth"
           }
          ],
          "contour": [
           {
            "colorbar": {
             "outlinewidth": 0,
             "ticks": ""
            },
            "colorscale": [
             [
              0,
              "#0d0887"
             ],
             [
              0.1111111111111111,
              "#46039f"
             ],
             [
              0.2222222222222222,
              "#7201a8"
             ],
             [
              0.3333333333333333,
              "#9c179e"
             ],
             [
              0.4444444444444444,
              "#bd3786"
             ],
             [
              0.5555555555555556,
              "#d8576b"
             ],
             [
              0.6666666666666666,
              "#ed7953"
             ],
             [
              0.7777777777777778,
              "#fb9f3a"
             ],
             [
              0.8888888888888888,
              "#fdca26"
             ],
             [
              1,
              "#f0f921"
             ]
            ],
            "type": "contour"
           }
          ],
          "contourcarpet": [
           {
            "colorbar": {
             "outlinewidth": 0,
             "ticks": ""
            },
            "type": "contourcarpet"
           }
          ],
          "heatmap": [
           {
            "colorbar": {
             "outlinewidth": 0,
             "ticks": ""
            },
            "colorscale": [
             [
              0,
              "#0d0887"
             ],
             [
              0.1111111111111111,
              "#46039f"
             ],
             [
              0.2222222222222222,
              "#7201a8"
             ],
             [
              0.3333333333333333,
              "#9c179e"
             ],
             [
              0.4444444444444444,
              "#bd3786"
             ],
             [
              0.5555555555555556,
              "#d8576b"
             ],
             [
              0.6666666666666666,
              "#ed7953"
             ],
             [
              0.7777777777777778,
              "#fb9f3a"
             ],
             [
              0.8888888888888888,
              "#fdca26"
             ],
             [
              1,
              "#f0f921"
             ]
            ],
            "type": "heatmap"
           }
          ],
          "histogram": [
           {
            "marker": {
             "pattern": {
              "fillmode": "overlay",
              "size": 10,
              "solidity": 0.2
             }
            },
            "type": "histogram"
           }
          ],
          "histogram2d": [
           {
            "colorbar": {
             "outlinewidth": 0,
             "ticks": ""
            },
            "colorscale": [
             [
              0,
              "#0d0887"
             ],
             [
              0.1111111111111111,
              "#46039f"
             ],
             [
              0.2222222222222222,
              "#7201a8"
             ],
             [
              0.3333333333333333,
              "#9c179e"
             ],
             [
              0.4444444444444444,
              "#bd3786"
             ],
             [
              0.5555555555555556,
              "#d8576b"
             ],
             [
              0.6666666666666666,
              "#ed7953"
             ],
             [
              0.7777777777777778,
              "#fb9f3a"
             ],
             [
              0.8888888888888888,
              "#fdca26"
             ],
             [
              1,
              "#f0f921"
             ]
            ],
            "type": "histogram2d"
           }
          ],
          "histogram2dcontour": [
           {
            "colorbar": {
             "outlinewidth": 0,
             "ticks": ""
            },
            "colorscale": [
             [
              0,
              "#0d0887"
             ],
             [
              0.1111111111111111,
              "#46039f"
             ],
             [
              0.2222222222222222,
              "#7201a8"
             ],
             [
              0.3333333333333333,
              "#9c179e"
             ],
             [
              0.4444444444444444,
              "#bd3786"
             ],
             [
              0.5555555555555556,
              "#d8576b"
             ],
             [
              0.6666666666666666,
              "#ed7953"
             ],
             [
              0.7777777777777778,
              "#fb9f3a"
             ],
             [
              0.8888888888888888,
              "#fdca26"
             ],
             [
              1,
              "#f0f921"
             ]
            ],
            "type": "histogram2dcontour"
           }
          ],
          "mesh3d": [
           {
            "colorbar": {
             "outlinewidth": 0,
             "ticks": ""
            },
            "type": "mesh3d"
           }
          ],
          "parcoords": [
           {
            "line": {
             "colorbar": {
              "outlinewidth": 0,
              "ticks": ""
             }
            },
            "type": "parcoords"
           }
          ],
          "pie": [
           {
            "automargin": true,
            "type": "pie"
           }
          ],
          "scatter": [
           {
            "fillpattern": {
             "fillmode": "overlay",
             "size": 10,
             "solidity": 0.2
            },
            "type": "scatter"
           }
          ],
          "scatter3d": [
           {
            "line": {
             "colorbar": {
              "outlinewidth": 0,
              "ticks": ""
             }
            },
            "marker": {
             "colorbar": {
              "outlinewidth": 0,
              "ticks": ""
             }
            },
            "type": "scatter3d"
           }
          ],
          "scattercarpet": [
           {
            "marker": {
             "colorbar": {
              "outlinewidth": 0,
              "ticks": ""
             }
            },
            "type": "scattercarpet"
           }
          ],
          "scattergeo": [
           {
            "marker": {
             "colorbar": {
              "outlinewidth": 0,
              "ticks": ""
             }
            },
            "type": "scattergeo"
           }
          ],
          "scattergl": [
           {
            "marker": {
             "colorbar": {
              "outlinewidth": 0,
              "ticks": ""
             }
            },
            "type": "scattergl"
           }
          ],
          "scattermap": [
           {
            "marker": {
             "colorbar": {
              "outlinewidth": 0,
              "ticks": ""
             }
            },
            "type": "scattermap"
           }
          ],
          "scattermapbox": [
           {
            "marker": {
             "colorbar": {
              "outlinewidth": 0,
              "ticks": ""
             }
            },
            "type": "scattermapbox"
           }
          ],
          "scatterpolar": [
           {
            "marker": {
             "colorbar": {
              "outlinewidth": 0,
              "ticks": ""
             }
            },
            "type": "scatterpolar"
           }
          ],
          "scatterpolargl": [
           {
            "marker": {
             "colorbar": {
              "outlinewidth": 0,
              "ticks": ""
             }
            },
            "type": "scatterpolargl"
           }
          ],
          "scatterternary": [
           {
            "marker": {
             "colorbar": {
              "outlinewidth": 0,
              "ticks": ""
             }
            },
            "type": "scatterternary"
           }
          ],
          "surface": [
           {
            "colorbar": {
             "outlinewidth": 0,
             "ticks": ""
            },
            "colorscale": [
             [
              0,
              "#0d0887"
             ],
             [
              0.1111111111111111,
              "#46039f"
             ],
             [
              0.2222222222222222,
              "#7201a8"
             ],
             [
              0.3333333333333333,
              "#9c179e"
             ],
             [
              0.4444444444444444,
              "#bd3786"
             ],
             [
              0.5555555555555556,
              "#d8576b"
             ],
             [
              0.6666666666666666,
              "#ed7953"
             ],
             [
              0.7777777777777778,
              "#fb9f3a"
             ],
             [
              0.8888888888888888,
              "#fdca26"
             ],
             [
              1,
              "#f0f921"
             ]
            ],
            "type": "surface"
           }
          ],
          "table": [
           {
            "cells": {
             "fill": {
              "color": "#EBF0F8"
             },
             "line": {
              "color": "white"
             }
            },
            "header": {
             "fill": {
              "color": "#C8D4E3"
             },
             "line": {
              "color": "white"
             }
            },
            "type": "table"
           }
          ]
         },
         "layout": {
          "annotationdefaults": {
           "arrowcolor": "#2a3f5f",
           "arrowhead": 0,
           "arrowwidth": 1
          },
          "autotypenumbers": "strict",
          "coloraxis": {
           "colorbar": {
            "outlinewidth": 0,
            "ticks": ""
           }
          },
          "colorscale": {
           "diverging": [
            [
             0,
             "#8e0152"
            ],
            [
             0.1,
             "#c51b7d"
            ],
            [
             0.2,
             "#de77ae"
            ],
            [
             0.3,
             "#f1b6da"
            ],
            [
             0.4,
             "#fde0ef"
            ],
            [
             0.5,
             "#f7f7f7"
            ],
            [
             0.6,
             "#e6f5d0"
            ],
            [
             0.7,
             "#b8e186"
            ],
            [
             0.8,
             "#7fbc41"
            ],
            [
             0.9,
             "#4d9221"
            ],
            [
             1,
             "#276419"
            ]
           ],
           "sequential": [
            [
             0,
             "#0d0887"
            ],
            [
             0.1111111111111111,
             "#46039f"
            ],
            [
             0.2222222222222222,
             "#7201a8"
            ],
            [
             0.3333333333333333,
             "#9c179e"
            ],
            [
             0.4444444444444444,
             "#bd3786"
            ],
            [
             0.5555555555555556,
             "#d8576b"
            ],
            [
             0.6666666666666666,
             "#ed7953"
            ],
            [
             0.7777777777777778,
             "#fb9f3a"
            ],
            [
             0.8888888888888888,
             "#fdca26"
            ],
            [
             1,
             "#f0f921"
            ]
           ],
           "sequentialminus": [
            [
             0,
             "#0d0887"
            ],
            [
             0.1111111111111111,
             "#46039f"
            ],
            [
             0.2222222222222222,
             "#7201a8"
            ],
            [
             0.3333333333333333,
             "#9c179e"
            ],
            [
             0.4444444444444444,
             "#bd3786"
            ],
            [
             0.5555555555555556,
             "#d8576b"
            ],
            [
             0.6666666666666666,
             "#ed7953"
            ],
            [
             0.7777777777777778,
             "#fb9f3a"
            ],
            [
             0.8888888888888888,
             "#fdca26"
            ],
            [
             1,
             "#f0f921"
            ]
           ]
          },
          "colorway": [
           "#636efa",
           "#EF553B",
           "#00cc96",
           "#ab63fa",
           "#FFA15A",
           "#19d3f3",
           "#FF6692",
           "#B6E880",
           "#FF97FF",
           "#FECB52"
          ],
          "font": {
           "color": "#2a3f5f"
          },
          "geo": {
           "bgcolor": "white",
           "lakecolor": "white",
           "landcolor": "#E5ECF6",
           "showlakes": true,
           "showland": true,
           "subunitcolor": "white"
          },
          "hoverlabel": {
           "align": "left"
          },
          "hovermode": "closest",
          "mapbox": {
           "style": "light"
          },
          "paper_bgcolor": "white",
          "plot_bgcolor": "#E5ECF6",
          "polar": {
           "angularaxis": {
            "gridcolor": "white",
            "linecolor": "white",
            "ticks": ""
           },
           "bgcolor": "#E5ECF6",
           "radialaxis": {
            "gridcolor": "white",
            "linecolor": "white",
            "ticks": ""
           }
          },
          "scene": {
           "xaxis": {
            "backgroundcolor": "#E5ECF6",
            "gridcolor": "white",
            "gridwidth": 2,
            "linecolor": "white",
            "showbackground": true,
            "ticks": "",
            "zerolinecolor": "white"
           },
           "yaxis": {
            "backgroundcolor": "#E5ECF6",
            "gridcolor": "white",
            "gridwidth": 2,
            "linecolor": "white",
            "showbackground": true,
            "ticks": "",
            "zerolinecolor": "white"
           },
           "zaxis": {
            "backgroundcolor": "#E5ECF6",
            "gridcolor": "white",
            "gridwidth": 2,
            "linecolor": "white",
            "showbackground": true,
            "ticks": "",
            "zerolinecolor": "white"
           }
          },
          "shapedefaults": {
           "line": {
            "color": "#2a3f5f"
           }
          },
          "ternary": {
           "aaxis": {
            "gridcolor": "white",
            "linecolor": "white",
            "ticks": ""
           },
           "baxis": {
            "gridcolor": "white",
            "linecolor": "white",
            "ticks": ""
           },
           "bgcolor": "#E5ECF6",
           "caxis": {
            "gridcolor": "white",
            "linecolor": "white",
            "ticks": ""
           }
          },
          "title": {
           "x": 0.05
          },
          "xaxis": {
           "automargin": true,
           "gridcolor": "white",
           "linecolor": "white",
           "ticks": "",
           "title": {
            "standoff": 15
           },
           "zerolinecolor": "white",
           "zerolinewidth": 2
          },
          "yaxis": {
           "automargin": true,
           "gridcolor": "white",
           "linecolor": "white",
           "ticks": "",
           "title": {
            "standoff": 15
           },
           "zerolinecolor": "white",
           "zerolinewidth": 2
          }
         }
        },
        "xaxis": {
         "anchor": "y",
         "domain": [
          0,
          1
         ],
         "title": {
          "text": "value"
         }
        },
        "yaxis": {
         "anchor": "x",
         "domain": [
          0,
          1
         ],
         "title": {
          "text": "count"
         }
        }
       }
      }
     },
     "metadata": {},
     "output_type": "display_data"
    }
   ],
   "source": [
    "#distribuição inflação\n",
    "px.histogram(df_countries['life_expec'])"
   ]
  },
  {
   "cell_type": "markdown",
   "id": "22ec8e40",
   "metadata": {},
   "source": [
    "#### Bivariada\n"
   ]
  },
  {
   "cell_type": "code",
   "execution_count": 14,
   "id": "7aa07111",
   "metadata": {},
   "outputs": [
    {
     "data": {
      "application/vnd.plotly.v1+json": {
       "config": {
        "plotlyServerURL": "https://plot.ly"
       },
       "data": [
        {
         "alignmentgroup": "True",
         "customdata": [
          [
           "Afghanistan"
          ],
          [
           "Burkina Faso"
          ],
          [
           "Burundi"
          ],
          [
           "Central African Republic"
          ],
          [
           "Chad"
          ],
          [
           "Congo Dem. Rep."
          ],
          [
           "Eritrea"
          ],
          [
           "Gambia"
          ],
          [
           "Guinea-Bissau"
          ],
          [
           "Liberia"
          ],
          [
           "Madagascar"
          ],
          [
           "Malawi"
          ],
          [
           "Mali"
          ],
          [
           "Mozambique"
          ],
          [
           "Niger"
          ],
          [
           "Rwanda"
          ],
          [
           "Sierra Leone"
          ],
          [
           "Sudan"
          ],
          [
           "Togo"
          ],
          [
           "Uganda"
          ],
          [
           "Yemen"
          ]
         ],
         "hovertemplate": "income_category=%{y}<br>income=%{x}<br>country=%{customdata[0]}<extra></extra>",
         "legendgroup": "Low income",
         "marker": {
          "color": "#636efa"
         },
         "name": "Low income",
         "notched": false,
         "offsetgroup": "Low income",
         "orientation": "h",
         "showlegend": true,
         "type": "box",
         "x": {
          "bdata": "SgaWBfwCeAOKB2ECjAV8Bm4FvAJuBQYETgeWAy4DRgXEBCoNugQEBoAR",
          "dtype": "i2"
         },
         "x0": " ",
         "xaxis": "x",
         "y": [
          "Low income",
          "Low income",
          "Low income",
          "Low income",
          "Low income",
          "Low income",
          "Low income",
          "Low income",
          "Low income",
          "Low income",
          "Low income",
          "Low income",
          "Low income",
          "Low income",
          "Low income",
          "Low income",
          "Low income",
          "Low income",
          "Low income",
          "Low income",
          "Low income"
         ],
         "y0": " ",
         "yaxis": "y"
        },
        {
         "alignmentgroup": "True",
         "customdata": [
          [
           "Albania"
          ],
          [
           "Argentina"
          ],
          [
           "Armenia"
          ],
          [
           "Azerbaijan"
          ],
          [
           "Belarus"
          ],
          [
           "Belize"
          ],
          [
           "Bosnia and Herzegovina"
          ],
          [
           "Botswana"
          ],
          [
           "Brazil"
          ],
          [
           "Bulgaria"
          ],
          [
           "China"
          ],
          [
           "Colombia"
          ],
          [
           "Costa Rica"
          ],
          [
           "Dominican Republic"
          ],
          [
           "Ecuador"
          ],
          [
           "El Salvador"
          ],
          [
           "Equatorial Guinea"
          ],
          [
           "Fiji"
          ],
          [
           "Gabon"
          ],
          [
           "Georgia"
          ],
          [
           "Grenada"
          ],
          [
           "Guatemala"
          ],
          [
           "Indonesia"
          ],
          [
           "Iraq"
          ],
          [
           "Jamaica"
          ],
          [
           "Kazakhstan"
          ],
          [
           "Libya"
          ],
          [
           "Malaysia"
          ],
          [
           "Maldives"
          ],
          [
           "Mauritius"
          ],
          [
           "Moldova"
          ],
          [
           "Montenegro"
          ],
          [
           "Namibia"
          ],
          [
           "Paraguay"
          ],
          [
           "Peru"
          ],
          [
           "Russia"
          ],
          [
           "Serbia"
          ],
          [
           "South Africa"
          ],
          [
           "St. Vincent and the Grenadines"
          ],
          [
           "Suriname"
          ],
          [
           "Thailand"
          ],
          [
           "Tonga"
          ],
          [
           "Turkey"
          ],
          [
           "Turkmenistan"
          ]
         ],
         "hovertemplate": "income_category=%{y}<br>income=%{x}<br>country=%{customdata[0]}<extra></extra>",
         "legendgroup": "Upper middle income",
         "marker": {
          "color": "#EF553B"
         },
         "name": "Upper middle income",
         "notched": false,
         "offsetgroup": "Upper middle income",
         "orientation": "h",
         "showlegend": true,
         "type": "box",
         "x": {
          "bdata": "yiYAAAxJAAAsGgAAgD4AAEg/AADIHgAA+CUAAPQzAACkOAAAxDsAADolAACUKgAAyDIAAFwrAACGJAAAhBwAAKSDAAC2HAAAKDwAAEoaAADAKwAANhoAAO4gAACcMQAAQB8AAIROAACgcwAAbFIAAAQpAAAcPgAARg8AALA2AAAMIQAAehwAAOgmAAA8WgAAnDEAAOAuAADAJgAAeDcAALw0AAB0EwAAUEYAANQmAAA=",
          "dtype": "i4"
         },
         "x0": " ",
         "xaxis": "x",
         "y": [
          "Upper middle income",
          "Upper middle income",
          "Upper middle income",
          "Upper middle income",
          "Upper middle income",
          "Upper middle income",
          "Upper middle income",
          "Upper middle income",
          "Upper middle income",
          "Upper middle income",
          "Upper middle income",
          "Upper middle income",
          "Upper middle income",
          "Upper middle income",
          "Upper middle income",
          "Upper middle income",
          "Upper middle income",
          "Upper middle income",
          "Upper middle income",
          "Upper middle income",
          "Upper middle income",
          "Upper middle income",
          "Upper middle income",
          "Upper middle income",
          "Upper middle income",
          "Upper middle income",
          "Upper middle income",
          "Upper middle income",
          "Upper middle income",
          "Upper middle income",
          "Upper middle income",
          "Upper middle income",
          "Upper middle income",
          "Upper middle income",
          "Upper middle income",
          "Upper middle income",
          "Upper middle income",
          "Upper middle income",
          "Upper middle income",
          "Upper middle income",
          "Upper middle income",
          "Upper middle income",
          "Upper middle income",
          "Upper middle income"
         ],
         "y0": " ",
         "yaxis": "y"
        },
        {
         "alignmentgroup": "True",
         "customdata": [
          [
           "Algeria"
          ],
          [
           "Angola"
          ],
          [
           "Bangladesh"
          ],
          [
           "Benin"
          ],
          [
           "Bhutan"
          ],
          [
           "Bolivia"
          ],
          [
           "Cambodia"
          ],
          [
           "Cameroon"
          ],
          [
           "Cape Verde"
          ],
          [
           "Comoros"
          ],
          [
           "Congo Rep."
          ],
          [
           "Cote d'Ivoire"
          ],
          [
           "Egypt"
          ],
          [
           "Ghana"
          ],
          [
           "Guinea"
          ],
          [
           "Haiti"
          ],
          [
           "India"
          ],
          [
           "Iran"
          ],
          [
           "Jordan"
          ],
          [
           "Kenya"
          ],
          [
           "Kiribati"
          ],
          [
           "Kyrgyz Republic"
          ],
          [
           "Lao"
          ],
          [
           "Lebanon"
          ],
          [
           "Lesotho"
          ],
          [
           "Mauritania"
          ],
          [
           "Micronesia"
          ],
          [
           "Mongolia"
          ],
          [
           "Morocco"
          ],
          [
           "Myanmar"
          ],
          [
           "Nepal"
          ],
          [
           "Nigeria"
          ],
          [
           "Pakistan"
          ],
          [
           "Philippines"
          ],
          [
           "Samoa"
          ],
          [
           "Senegal"
          ],
          [
           "Solomon Islands"
          ],
          [
           "Sri Lanka"
          ],
          [
           "Tajikistan"
          ],
          [
           "Tanzania"
          ],
          [
           "Timor-Leste"
          ],
          [
           "Tunisia"
          ],
          [
           "Ukraine"
          ],
          [
           "Uzbekistan"
          ],
          [
           "Vanuatu"
          ],
          [
           "Vietnam"
          ],
          [
           "Zambia"
          ]
         ],
         "hovertemplate": "income_category=%{y}<br>income=%{x}<br>country=%{customdata[0]}<extra></extra>",
         "legendgroup": "Lower middle income",
         "marker": {
          "color": "#00cc96"
         },
         "name": "Lower middle income",
         "notched": false,
         "offsetgroup": "Lower middle income",
         "orientation": "h",
         "showlegend": true,
         "type": "box",
         "x": {
          "bdata": "ZDIMF4gJHAcUGSIV2AlkCsYWggVGFIIKhCb0C6YE3AU6EfhD/iSwCcIG5gqMD6w/TAn4DAwNHh4oGYgOxgceFLgQ4BUYFYQI9AZwIT4IKgg6B6AojB6QEIYLihHQDA==",
          "dtype": "i2"
         },
         "x0": " ",
         "xaxis": "x",
         "y": [
          "Lower middle income",
          "Lower middle income",
          "Lower middle income",
          "Lower middle income",
          "Lower middle income",
          "Lower middle income",
          "Lower middle income",
          "Lower middle income",
          "Lower middle income",
          "Lower middle income",
          "Lower middle income",
          "Lower middle income",
          "Lower middle income",
          "Lower middle income",
          "Lower middle income",
          "Lower middle income",
          "Lower middle income",
          "Lower middle income",
          "Lower middle income",
          "Lower middle income",
          "Lower middle income",
          "Lower middle income",
          "Lower middle income",
          "Lower middle income",
          "Lower middle income",
          "Lower middle income",
          "Lower middle income",
          "Lower middle income",
          "Lower middle income",
          "Lower middle income",
          "Lower middle income",
          "Lower middle income",
          "Lower middle income",
          "Lower middle income",
          "Lower middle income",
          "Lower middle income",
          "Lower middle income",
          "Lower middle income",
          "Lower middle income",
          "Lower middle income",
          "Lower middle income",
          "Lower middle income",
          "Lower middle income",
          "Lower middle income",
          "Lower middle income",
          "Lower middle income",
          "Lower middle income"
         ],
         "y0": " ",
         "yaxis": "y"
        },
        {
         "alignmentgroup": "True",
         "customdata": [
          [
           "Antigua and Barbuda"
          ],
          [
           "Australia"
          ],
          [
           "Austria"
          ],
          [
           "Bahamas"
          ],
          [
           "Bahrain"
          ],
          [
           "Barbados"
          ],
          [
           "Belgium"
          ],
          [
           "Brunei"
          ],
          [
           "Canada"
          ],
          [
           "Chile"
          ],
          [
           "Croatia"
          ],
          [
           "Cyprus"
          ],
          [
           "Czech Republic"
          ],
          [
           "Denmark"
          ],
          [
           "Estonia"
          ],
          [
           "Finland"
          ],
          [
           "France"
          ],
          [
           "Germany"
          ],
          [
           "Greece"
          ],
          [
           "Guyana"
          ],
          [
           "Hungary"
          ],
          [
           "Iceland"
          ],
          [
           "Ireland"
          ],
          [
           "Israel"
          ],
          [
           "Italy"
          ],
          [
           "Japan"
          ],
          [
           "Kuwait"
          ],
          [
           "Latvia"
          ],
          [
           "Lithuania"
          ],
          [
           "Luxembourg"
          ],
          [
           "Malta"
          ],
          [
           "Netherlands"
          ],
          [
           "New Zealand"
          ],
          [
           "Norway"
          ],
          [
           "Oman"
          ],
          [
           "Panama"
          ],
          [
           "Poland"
          ],
          [
           "Portugal"
          ],
          [
           "Qatar"
          ],
          [
           "Romania"
          ],
          [
           "Saudi Arabia"
          ],
          [
           "Seychelles"
          ],
          [
           "Singapore"
          ],
          [
           "Slovak Republic"
          ],
          [
           "Slovenia"
          ],
          [
           "South Korea"
          ],
          [
           "Spain"
          ],
          [
           "Sweden"
          ],
          [
           "Switzerland"
          ],
          [
           "United Arab Emirates"
          ],
          [
           "United Kingdom"
          ],
          [
           "United States"
          ],
          [
           "Uruguay"
          ]
         ],
         "hovertemplate": "income_category=%{y}<br>income=%{x}<br>country=%{customdata[0]}<extra></extra>",
         "legendgroup": "High income",
         "marker": {
          "color": "#ab63fa"
         },
         "name": "High income",
         "notched": false,
         "offsetgroup": "High income",
         "orientation": "h",
         "showlegend": true,
         "type": "box",
         "x": {
          "bdata": "nEoAALihAADAqAAAdFkAAIygAADEOwAAjKAAANg6AQD8ngAAyEsAAIROAABshAAAjG4AAOCrAACsWAAAeJsAACSQAADQnQAAHHAAANAWAAAcVwAAkJcAAISyAACgcwAAaI0AANiLAADAJQEAfEcAAGxSAAA0ZgEAjG4AALyxAAAsfgAAXPMAAPSwAAAoPAAAKFUAAEBqAABI6AEAiEUAAFixAACwTwAApBkBAHBiAAAccAAAwHYAAPR+AACUpwAAzNgAAADhAABojQAA+MAAAMxCAAA=",
          "dtype": "i4"
         },
         "x0": " ",
         "xaxis": "x",
         "y": [
          "High income",
          "High income",
          "High income",
          "High income",
          "High income",
          "High income",
          "High income",
          "High income",
          "High income",
          "High income",
          "High income",
          "High income",
          "High income",
          "High income",
          "High income",
          "High income",
          "High income",
          "High income",
          "High income",
          "High income",
          "High income",
          "High income",
          "High income",
          "High income",
          "High income",
          "High income",
          "High income",
          "High income",
          "High income",
          "High income",
          "High income",
          "High income",
          "High income",
          "High income",
          "High income",
          "High income",
          "High income",
          "High income",
          "High income",
          "High income",
          "High income",
          "High income",
          "High income",
          "High income",
          "High income",
          "High income",
          "High income",
          "High income",
          "High income",
          "High income",
          "High income",
          "High income",
          "High income"
         ],
         "y0": " ",
         "yaxis": "y"
        }
       ],
       "layout": {
        "boxmode": "overlay",
        "legend": {
         "title": {
          "text": "income_category"
         },
         "tracegroupgap": 0
        },
        "margin": {
         "t": 60
        },
        "template": {
         "data": {
          "bar": [
           {
            "error_x": {
             "color": "#2a3f5f"
            },
            "error_y": {
             "color": "#2a3f5f"
            },
            "marker": {
             "line": {
              "color": "#E5ECF6",
              "width": 0.5
             },
             "pattern": {
              "fillmode": "overlay",
              "size": 10,
              "solidity": 0.2
             }
            },
            "type": "bar"
           }
          ],
          "barpolar": [
           {
            "marker": {
             "line": {
              "color": "#E5ECF6",
              "width": 0.5
             },
             "pattern": {
              "fillmode": "overlay",
              "size": 10,
              "solidity": 0.2
             }
            },
            "type": "barpolar"
           }
          ],
          "carpet": [
           {
            "aaxis": {
             "endlinecolor": "#2a3f5f",
             "gridcolor": "white",
             "linecolor": "white",
             "minorgridcolor": "white",
             "startlinecolor": "#2a3f5f"
            },
            "baxis": {
             "endlinecolor": "#2a3f5f",
             "gridcolor": "white",
             "linecolor": "white",
             "minorgridcolor": "white",
             "startlinecolor": "#2a3f5f"
            },
            "type": "carpet"
           }
          ],
          "choropleth": [
           {
            "colorbar": {
             "outlinewidth": 0,
             "ticks": ""
            },
            "type": "choropleth"
           }
          ],
          "contour": [
           {
            "colorbar": {
             "outlinewidth": 0,
             "ticks": ""
            },
            "colorscale": [
             [
              0,
              "#0d0887"
             ],
             [
              0.1111111111111111,
              "#46039f"
             ],
             [
              0.2222222222222222,
              "#7201a8"
             ],
             [
              0.3333333333333333,
              "#9c179e"
             ],
             [
              0.4444444444444444,
              "#bd3786"
             ],
             [
              0.5555555555555556,
              "#d8576b"
             ],
             [
              0.6666666666666666,
              "#ed7953"
             ],
             [
              0.7777777777777778,
              "#fb9f3a"
             ],
             [
              0.8888888888888888,
              "#fdca26"
             ],
             [
              1,
              "#f0f921"
             ]
            ],
            "type": "contour"
           }
          ],
          "contourcarpet": [
           {
            "colorbar": {
             "outlinewidth": 0,
             "ticks": ""
            },
            "type": "contourcarpet"
           }
          ],
          "heatmap": [
           {
            "colorbar": {
             "outlinewidth": 0,
             "ticks": ""
            },
            "colorscale": [
             [
              0,
              "#0d0887"
             ],
             [
              0.1111111111111111,
              "#46039f"
             ],
             [
              0.2222222222222222,
              "#7201a8"
             ],
             [
              0.3333333333333333,
              "#9c179e"
             ],
             [
              0.4444444444444444,
              "#bd3786"
             ],
             [
              0.5555555555555556,
              "#d8576b"
             ],
             [
              0.6666666666666666,
              "#ed7953"
             ],
             [
              0.7777777777777778,
              "#fb9f3a"
             ],
             [
              0.8888888888888888,
              "#fdca26"
             ],
             [
              1,
              "#f0f921"
             ]
            ],
            "type": "heatmap"
           }
          ],
          "histogram": [
           {
            "marker": {
             "pattern": {
              "fillmode": "overlay",
              "size": 10,
              "solidity": 0.2
             }
            },
            "type": "histogram"
           }
          ],
          "histogram2d": [
           {
            "colorbar": {
             "outlinewidth": 0,
             "ticks": ""
            },
            "colorscale": [
             [
              0,
              "#0d0887"
             ],
             [
              0.1111111111111111,
              "#46039f"
             ],
             [
              0.2222222222222222,
              "#7201a8"
             ],
             [
              0.3333333333333333,
              "#9c179e"
             ],
             [
              0.4444444444444444,
              "#bd3786"
             ],
             [
              0.5555555555555556,
              "#d8576b"
             ],
             [
              0.6666666666666666,
              "#ed7953"
             ],
             [
              0.7777777777777778,
              "#fb9f3a"
             ],
             [
              0.8888888888888888,
              "#fdca26"
             ],
             [
              1,
              "#f0f921"
             ]
            ],
            "type": "histogram2d"
           }
          ],
          "histogram2dcontour": [
           {
            "colorbar": {
             "outlinewidth": 0,
             "ticks": ""
            },
            "colorscale": [
             [
              0,
              "#0d0887"
             ],
             [
              0.1111111111111111,
              "#46039f"
             ],
             [
              0.2222222222222222,
              "#7201a8"
             ],
             [
              0.3333333333333333,
              "#9c179e"
             ],
             [
              0.4444444444444444,
              "#bd3786"
             ],
             [
              0.5555555555555556,
              "#d8576b"
             ],
             [
              0.6666666666666666,
              "#ed7953"
             ],
             [
              0.7777777777777778,
              "#fb9f3a"
             ],
             [
              0.8888888888888888,
              "#fdca26"
             ],
             [
              1,
              "#f0f921"
             ]
            ],
            "type": "histogram2dcontour"
           }
          ],
          "mesh3d": [
           {
            "colorbar": {
             "outlinewidth": 0,
             "ticks": ""
            },
            "type": "mesh3d"
           }
          ],
          "parcoords": [
           {
            "line": {
             "colorbar": {
              "outlinewidth": 0,
              "ticks": ""
             }
            },
            "type": "parcoords"
           }
          ],
          "pie": [
           {
            "automargin": true,
            "type": "pie"
           }
          ],
          "scatter": [
           {
            "fillpattern": {
             "fillmode": "overlay",
             "size": 10,
             "solidity": 0.2
            },
            "type": "scatter"
           }
          ],
          "scatter3d": [
           {
            "line": {
             "colorbar": {
              "outlinewidth": 0,
              "ticks": ""
             }
            },
            "marker": {
             "colorbar": {
              "outlinewidth": 0,
              "ticks": ""
             }
            },
            "type": "scatter3d"
           }
          ],
          "scattercarpet": [
           {
            "marker": {
             "colorbar": {
              "outlinewidth": 0,
              "ticks": ""
             }
            },
            "type": "scattercarpet"
           }
          ],
          "scattergeo": [
           {
            "marker": {
             "colorbar": {
              "outlinewidth": 0,
              "ticks": ""
             }
            },
            "type": "scattergeo"
           }
          ],
          "scattergl": [
           {
            "marker": {
             "colorbar": {
              "outlinewidth": 0,
              "ticks": ""
             }
            },
            "type": "scattergl"
           }
          ],
          "scattermap": [
           {
            "marker": {
             "colorbar": {
              "outlinewidth": 0,
              "ticks": ""
             }
            },
            "type": "scattermap"
           }
          ],
          "scattermapbox": [
           {
            "marker": {
             "colorbar": {
              "outlinewidth": 0,
              "ticks": ""
             }
            },
            "type": "scattermapbox"
           }
          ],
          "scatterpolar": [
           {
            "marker": {
             "colorbar": {
              "outlinewidth": 0,
              "ticks": ""
             }
            },
            "type": "scatterpolar"
           }
          ],
          "scatterpolargl": [
           {
            "marker": {
             "colorbar": {
              "outlinewidth": 0,
              "ticks": ""
             }
            },
            "type": "scatterpolargl"
           }
          ],
          "scatterternary": [
           {
            "marker": {
             "colorbar": {
              "outlinewidth": 0,
              "ticks": ""
             }
            },
            "type": "scatterternary"
           }
          ],
          "surface": [
           {
            "colorbar": {
             "outlinewidth": 0,
             "ticks": ""
            },
            "colorscale": [
             [
              0,
              "#0d0887"
             ],
             [
              0.1111111111111111,
              "#46039f"
             ],
             [
              0.2222222222222222,
              "#7201a8"
             ],
             [
              0.3333333333333333,
              "#9c179e"
             ],
             [
              0.4444444444444444,
              "#bd3786"
             ],
             [
              0.5555555555555556,
              "#d8576b"
             ],
             [
              0.6666666666666666,
              "#ed7953"
             ],
             [
              0.7777777777777778,
              "#fb9f3a"
             ],
             [
              0.8888888888888888,
              "#fdca26"
             ],
             [
              1,
              "#f0f921"
             ]
            ],
            "type": "surface"
           }
          ],
          "table": [
           {
            "cells": {
             "fill": {
              "color": "#EBF0F8"
             },
             "line": {
              "color": "white"
             }
            },
            "header": {
             "fill": {
              "color": "#C8D4E3"
             },
             "line": {
              "color": "white"
             }
            },
            "type": "table"
           }
          ]
         },
         "layout": {
          "annotationdefaults": {
           "arrowcolor": "#2a3f5f",
           "arrowhead": 0,
           "arrowwidth": 1
          },
          "autotypenumbers": "strict",
          "coloraxis": {
           "colorbar": {
            "outlinewidth": 0,
            "ticks": ""
           }
          },
          "colorscale": {
           "diverging": [
            [
             0,
             "#8e0152"
            ],
            [
             0.1,
             "#c51b7d"
            ],
            [
             0.2,
             "#de77ae"
            ],
            [
             0.3,
             "#f1b6da"
            ],
            [
             0.4,
             "#fde0ef"
            ],
            [
             0.5,
             "#f7f7f7"
            ],
            [
             0.6,
             "#e6f5d0"
            ],
            [
             0.7,
             "#b8e186"
            ],
            [
             0.8,
             "#7fbc41"
            ],
            [
             0.9,
             "#4d9221"
            ],
            [
             1,
             "#276419"
            ]
           ],
           "sequential": [
            [
             0,
             "#0d0887"
            ],
            [
             0.1111111111111111,
             "#46039f"
            ],
            [
             0.2222222222222222,
             "#7201a8"
            ],
            [
             0.3333333333333333,
             "#9c179e"
            ],
            [
             0.4444444444444444,
             "#bd3786"
            ],
            [
             0.5555555555555556,
             "#d8576b"
            ],
            [
             0.6666666666666666,
             "#ed7953"
            ],
            [
             0.7777777777777778,
             "#fb9f3a"
            ],
            [
             0.8888888888888888,
             "#fdca26"
            ],
            [
             1,
             "#f0f921"
            ]
           ],
           "sequentialminus": [
            [
             0,
             "#0d0887"
            ],
            [
             0.1111111111111111,
             "#46039f"
            ],
            [
             0.2222222222222222,
             "#7201a8"
            ],
            [
             0.3333333333333333,
             "#9c179e"
            ],
            [
             0.4444444444444444,
             "#bd3786"
            ],
            [
             0.5555555555555556,
             "#d8576b"
            ],
            [
             0.6666666666666666,
             "#ed7953"
            ],
            [
             0.7777777777777778,
             "#fb9f3a"
            ],
            [
             0.8888888888888888,
             "#fdca26"
            ],
            [
             1,
             "#f0f921"
            ]
           ]
          },
          "colorway": [
           "#636efa",
           "#EF553B",
           "#00cc96",
           "#ab63fa",
           "#FFA15A",
           "#19d3f3",
           "#FF6692",
           "#B6E880",
           "#FF97FF",
           "#FECB52"
          ],
          "font": {
           "color": "#2a3f5f"
          },
          "geo": {
           "bgcolor": "white",
           "lakecolor": "white",
           "landcolor": "#E5ECF6",
           "showlakes": true,
           "showland": true,
           "subunitcolor": "white"
          },
          "hoverlabel": {
           "align": "left"
          },
          "hovermode": "closest",
          "mapbox": {
           "style": "light"
          },
          "paper_bgcolor": "white",
          "plot_bgcolor": "#E5ECF6",
          "polar": {
           "angularaxis": {
            "gridcolor": "white",
            "linecolor": "white",
            "ticks": ""
           },
           "bgcolor": "#E5ECF6",
           "radialaxis": {
            "gridcolor": "white",
            "linecolor": "white",
            "ticks": ""
           }
          },
          "scene": {
           "xaxis": {
            "backgroundcolor": "#E5ECF6",
            "gridcolor": "white",
            "gridwidth": 2,
            "linecolor": "white",
            "showbackground": true,
            "ticks": "",
            "zerolinecolor": "white"
           },
           "yaxis": {
            "backgroundcolor": "#E5ECF6",
            "gridcolor": "white",
            "gridwidth": 2,
            "linecolor": "white",
            "showbackground": true,
            "ticks": "",
            "zerolinecolor": "white"
           },
           "zaxis": {
            "backgroundcolor": "#E5ECF6",
            "gridcolor": "white",
            "gridwidth": 2,
            "linecolor": "white",
            "showbackground": true,
            "ticks": "",
            "zerolinecolor": "white"
           }
          },
          "shapedefaults": {
           "line": {
            "color": "#2a3f5f"
           }
          },
          "ternary": {
           "aaxis": {
            "gridcolor": "white",
            "linecolor": "white",
            "ticks": ""
           },
           "baxis": {
            "gridcolor": "white",
            "linecolor": "white",
            "ticks": ""
           },
           "bgcolor": "#E5ECF6",
           "caxis": {
            "gridcolor": "white",
            "linecolor": "white",
            "ticks": ""
           }
          },
          "title": {
           "x": 0.05
          },
          "xaxis": {
           "automargin": true,
           "gridcolor": "white",
           "linecolor": "white",
           "ticks": "",
           "title": {
            "standoff": 15
           },
           "zerolinecolor": "white",
           "zerolinewidth": 2
          },
          "yaxis": {
           "automargin": true,
           "gridcolor": "white",
           "linecolor": "white",
           "ticks": "",
           "title": {
            "standoff": 15
           },
           "zerolinecolor": "white",
           "zerolinewidth": 2
          }
         }
        },
        "xaxis": {
         "anchor": "y",
         "domain": [
          0,
          1
         ],
         "title": {
          "text": "income"
         }
        },
        "yaxis": {
         "anchor": "x",
         "categoryarray": [
          "High income",
          "Lower middle income",
          "Upper middle income",
          "Low income"
         ],
         "categoryorder": "array",
         "domain": [
          0,
          1
         ],
         "title": {
          "text": "income_category"
         }
        }
       }
      }
     },
     "metadata": {},
     "output_type": "display_data"
    }
   ],
   "source": [
    "#plot de distribuição (BoxPlot) por income e income_category\n",
    "px.box(df_countries, x='income', y='income_category', color='income_category', orientation='h', hover_data=['country'])"
   ]
  },
  {
   "cell_type": "code",
   "execution_count": 15,
   "id": "a5d65c43",
   "metadata": {},
   "outputs": [
    {
     "data": {
      "application/vnd.plotly.v1+json": {
       "config": {
        "plotlyServerURL": "https://plot.ly"
       },
       "data": [
        {
         "alignmentgroup": "True",
         "customdata": [
          [
           "Afghanistan"
          ],
          [
           "Burkina Faso"
          ],
          [
           "Burundi"
          ],
          [
           "Central African Republic"
          ],
          [
           "Chad"
          ],
          [
           "Congo Dem. Rep."
          ],
          [
           "Eritrea"
          ],
          [
           "Gambia"
          ],
          [
           "Guinea-Bissau"
          ],
          [
           "Liberia"
          ],
          [
           "Madagascar"
          ],
          [
           "Malawi"
          ],
          [
           "Mali"
          ],
          [
           "Mozambique"
          ],
          [
           "Niger"
          ],
          [
           "Rwanda"
          ],
          [
           "Sierra Leone"
          ],
          [
           "Sudan"
          ],
          [
           "Togo"
          ],
          [
           "Uganda"
          ],
          [
           "Yemen"
          ]
         ],
         "hovertemplate": "income_category=%{y}<br>gdpp=%{x}<br>country=%{customdata[0]}<extra></extra>",
         "legendgroup": "Low income",
         "marker": {
          "color": "#636efa"
         },
         "name": "Low income",
         "notched": false,
         "offsetgroup": "Low income",
         "orientation": "h",
         "showlegend": true,
         "type": "box",
         "x": {
          "bdata": "KQI/AucAvgGBA04B4gEyAiMCRwGdAcsBxAKjAVwBMwKPAcgF6AFTAh4F",
          "dtype": "i2"
         },
         "x0": " ",
         "xaxis": "x",
         "y": [
          "Low income",
          "Low income",
          "Low income",
          "Low income",
          "Low income",
          "Low income",
          "Low income",
          "Low income",
          "Low income",
          "Low income",
          "Low income",
          "Low income",
          "Low income",
          "Low income",
          "Low income",
          "Low income",
          "Low income",
          "Low income",
          "Low income",
          "Low income",
          "Low income"
         ],
         "y0": " ",
         "yaxis": "y"
        },
        {
         "alignmentgroup": "True",
         "customdata": [
          [
           "Albania"
          ],
          [
           "Argentina"
          ],
          [
           "Armenia"
          ],
          [
           "Azerbaijan"
          ],
          [
           "Belarus"
          ],
          [
           "Belize"
          ],
          [
           "Bosnia and Herzegovina"
          ],
          [
           "Botswana"
          ],
          [
           "Brazil"
          ],
          [
           "Bulgaria"
          ],
          [
           "China"
          ],
          [
           "Colombia"
          ],
          [
           "Costa Rica"
          ],
          [
           "Dominican Republic"
          ],
          [
           "Ecuador"
          ],
          [
           "El Salvador"
          ],
          [
           "Equatorial Guinea"
          ],
          [
           "Fiji"
          ],
          [
           "Gabon"
          ],
          [
           "Georgia"
          ],
          [
           "Grenada"
          ],
          [
           "Guatemala"
          ],
          [
           "Indonesia"
          ],
          [
           "Iraq"
          ],
          [
           "Jamaica"
          ],
          [
           "Kazakhstan"
          ],
          [
           "Libya"
          ],
          [
           "Malaysia"
          ],
          [
           "Maldives"
          ],
          [
           "Mauritius"
          ],
          [
           "Moldova"
          ],
          [
           "Montenegro"
          ],
          [
           "Namibia"
          ],
          [
           "Paraguay"
          ],
          [
           "Peru"
          ],
          [
           "Russia"
          ],
          [
           "Serbia"
          ],
          [
           "South Africa"
          ],
          [
           "St. Vincent and the Grenadines"
          ],
          [
           "Suriname"
          ],
          [
           "Thailand"
          ],
          [
           "Tonga"
          ],
          [
           "Turkey"
          ],
          [
           "Turkmenistan"
          ]
         ],
         "hovertemplate": "income_category=%{y}<br>gdpp=%{x}<br>country=%{customdata[0]}<extra></extra>",
         "legendgroup": "Upper middle income",
         "marker": {
          "color": "#EF553B"
         },
         "name": "Upper middle income",
         "notched": false,
         "offsetgroup": "Upper middle income",
         "orientation": "h",
         "showlegend": true,
         "type": "box",
         "x": {
          "bdata": "+g88KJQM0BaOF/QQAhLOGMAruBrQEWoYCCBKFTQSrgvMQkIOLiKQC8ocDgsmDJQRSBJuI0QvbiO8G0AfXgYYGkYUngycE8wpIhVwHFYYbCDYE94NzClYEQ==",
          "dtype": "i2"
         },
         "x0": " ",
         "xaxis": "x",
         "y": [
          "Upper middle income",
          "Upper middle income",
          "Upper middle income",
          "Upper middle income",
          "Upper middle income",
          "Upper middle income",
          "Upper middle income",
          "Upper middle income",
          "Upper middle income",
          "Upper middle income",
          "Upper middle income",
          "Upper middle income",
          "Upper middle income",
          "Upper middle income",
          "Upper middle income",
          "Upper middle income",
          "Upper middle income",
          "Upper middle income",
          "Upper middle income",
          "Upper middle income",
          "Upper middle income",
          "Upper middle income",
          "Upper middle income",
          "Upper middle income",
          "Upper middle income",
          "Upper middle income",
          "Upper middle income",
          "Upper middle income",
          "Upper middle income",
          "Upper middle income",
          "Upper middle income",
          "Upper middle income",
          "Upper middle income",
          "Upper middle income",
          "Upper middle income",
          "Upper middle income",
          "Upper middle income",
          "Upper middle income",
          "Upper middle income",
          "Upper middle income",
          "Upper middle income",
          "Upper middle income",
          "Upper middle income",
          "Upper middle income"
         ],
         "y0": " ",
         "yaxis": "y"
        },
        {
         "alignmentgroup": "True",
         "customdata": [
          [
           "Algeria"
          ],
          [
           "Angola"
          ],
          [
           "Bangladesh"
          ],
          [
           "Benin"
          ],
          [
           "Bhutan"
          ],
          [
           "Bolivia"
          ],
          [
           "Cambodia"
          ],
          [
           "Cameroon"
          ],
          [
           "Cape Verde"
          ],
          [
           "Comoros"
          ],
          [
           "Congo Rep."
          ],
          [
           "Cote d'Ivoire"
          ],
          [
           "Egypt"
          ],
          [
           "Ghana"
          ],
          [
           "Guinea"
          ],
          [
           "Haiti"
          ],
          [
           "India"
          ],
          [
           "Iran"
          ],
          [
           "Jordan"
          ],
          [
           "Kenya"
          ],
          [
           "Kiribati"
          ],
          [
           "Kyrgyz Republic"
          ],
          [
           "Lao"
          ],
          [
           "Lebanon"
          ],
          [
           "Lesotho"
          ],
          [
           "Mauritania"
          ],
          [
           "Micronesia"
          ],
          [
           "Mongolia"
          ],
          [
           "Morocco"
          ],
          [
           "Myanmar"
          ],
          [
           "Nepal"
          ],
          [
           "Nigeria"
          ],
          [
           "Pakistan"
          ],
          [
           "Philippines"
          ],
          [
           "Samoa"
          ],
          [
           "Senegal"
          ],
          [
           "Solomon Islands"
          ],
          [
           "Sri Lanka"
          ],
          [
           "Tajikistan"
          ],
          [
           "Tanzania"
          ],
          [
           "Timor-Leste"
          ],
          [
           "Tunisia"
          ],
          [
           "Ukraine"
          ],
          [
           "Uzbekistan"
          ],
          [
           "Vanuatu"
          ],
          [
           "Vietnam"
          ],
          [
           "Zambia"
          ]
         ],
         "hovertemplate": "income_category=%{y}<br>gdpp=%{x}<br>country=%{customdata[0]}<extra></extra>",
         "legendgroup": "Lower middle income",
         "marker": {
          "color": "#00cc96"
         },
         "name": "Lower middle income",
         "notched": false,
         "offsetgroup": "Lower middle income",
         "orientation": "h",
         "showlegend": true,
         "type": "box",
         "x": {
          "bdata": "bBHKDfYC9gKECLwHEgMeBe4MAQO0CsQEKAoeBYgClgJGBYIZYA7HA9IFcAN0BJwikgSwBCwLWgoOC9wDUAIaCRAEUgh6DegDCgX6CuICvgIQDiwQmgtkBZoLHgW0BQ==",
          "dtype": "i2"
         },
         "x0": " ",
         "xaxis": "x",
         "y": [
          "Lower middle income",
          "Lower middle income",
          "Lower middle income",
          "Lower middle income",
          "Lower middle income",
          "Lower middle income",
          "Lower middle income",
          "Lower middle income",
          "Lower middle income",
          "Lower middle income",
          "Lower middle income",
          "Lower middle income",
          "Lower middle income",
          "Lower middle income",
          "Lower middle income",
          "Lower middle income",
          "Lower middle income",
          "Lower middle income",
          "Lower middle income",
          "Lower middle income",
          "Lower middle income",
          "Lower middle income",
          "Lower middle income",
          "Lower middle income",
          "Lower middle income",
          "Lower middle income",
          "Lower middle income",
          "Lower middle income",
          "Lower middle income",
          "Lower middle income",
          "Lower middle income",
          "Lower middle income",
          "Lower middle income",
          "Lower middle income",
          "Lower middle income",
          "Lower middle income",
          "Lower middle income",
          "Lower middle income",
          "Lower middle income",
          "Lower middle income",
          "Lower middle income",
          "Lower middle income",
          "Lower middle income",
          "Lower middle income",
          "Lower middle income",
          "Lower middle income",
          "Lower middle income"
         ],
         "y0": " ",
         "yaxis": "y"
        },
        {
         "alignmentgroup": "True",
         "customdata": [
          [
           "Antigua and Barbuda"
          ],
          [
           "Australia"
          ],
          [
           "Austria"
          ],
          [
           "Bahamas"
          ],
          [
           "Bahrain"
          ],
          [
           "Barbados"
          ],
          [
           "Belgium"
          ],
          [
           "Brunei"
          ],
          [
           "Canada"
          ],
          [
           "Chile"
          ],
          [
           "Croatia"
          ],
          [
           "Cyprus"
          ],
          [
           "Czech Republic"
          ],
          [
           "Denmark"
          ],
          [
           "Estonia"
          ],
          [
           "Finland"
          ],
          [
           "France"
          ],
          [
           "Germany"
          ],
          [
           "Greece"
          ],
          [
           "Guyana"
          ],
          [
           "Hungary"
          ],
          [
           "Iceland"
          ],
          [
           "Ireland"
          ],
          [
           "Israel"
          ],
          [
           "Italy"
          ],
          [
           "Japan"
          ],
          [
           "Kuwait"
          ],
          [
           "Latvia"
          ],
          [
           "Lithuania"
          ],
          [
           "Luxembourg"
          ],
          [
           "Malta"
          ],
          [
           "Netherlands"
          ],
          [
           "New Zealand"
          ],
          [
           "Norway"
          ],
          [
           "Oman"
          ],
          [
           "Panama"
          ],
          [
           "Poland"
          ],
          [
           "Portugal"
          ],
          [
           "Qatar"
          ],
          [
           "Romania"
          ],
          [
           "Saudi Arabia"
          ],
          [
           "Seychelles"
          ],
          [
           "Singapore"
          ],
          [
           "Slovak Republic"
          ],
          [
           "Slovenia"
          ],
          [
           "South Korea"
          ],
          [
           "Spain"
          ],
          [
           "Sweden"
          ],
          [
           "Switzerland"
          ],
          [
           "United Arab Emirates"
          ],
          [
           "United Kingdom"
          ],
          [
           "United States"
          ],
          [
           "Uruguay"
          ]
         ],
         "hovertemplate": "income_category=%{y}<br>gdpp=%{x}<br>country=%{customdata[0]}<extra></extra>",
         "legendgroup": "High income",
         "marker": {
          "color": "#ab63fa"
         },
         "name": "High income",
         "notched": false,
         "offsetgroup": "High income",
         "orientation": "h",
         "showlegend": true,
         "type": "box",
         "x": {
          "bdata": "qC8AALzKAAA0twAAYG0AANxQAACAPgAAcK0AAOSJAAAouQAAZDIAALw0AABQeAAAWE0AAJDiAAAIOQAAeLQAAJieAABIowAAFGkAAOALAAAsMwAArKMAADy+AACIdwAA2IsAANStAABklgAAJCwAAOAuAAAomgEAbFIAAHzEAACkgwAA+FYBAGRLAACQHwAAODEAAORXAACcEgEAJiAAAGRLAAAwKgAACLYAANhAAABoWwAAVFYAAOx3AACEywAAaCMBALiIAAD0lwAAEL0AAHwuAAA=",
          "dtype": "i4"
         },
         "x0": " ",
         "xaxis": "x",
         "y": [
          "High income",
          "High income",
          "High income",
          "High income",
          "High income",
          "High income",
          "High income",
          "High income",
          "High income",
          "High income",
          "High income",
          "High income",
          "High income",
          "High income",
          "High income",
          "High income",
          "High income",
          "High income",
          "High income",
          "High income",
          "High income",
          "High income",
          "High income",
          "High income",
          "High income",
          "High income",
          "High income",
          "High income",
          "High income",
          "High income",
          "High income",
          "High income",
          "High income",
          "High income",
          "High income",
          "High income",
          "High income",
          "High income",
          "High income",
          "High income",
          "High income",
          "High income",
          "High income",
          "High income",
          "High income",
          "High income",
          "High income",
          "High income",
          "High income",
          "High income",
          "High income",
          "High income",
          "High income"
         ],
         "y0": " ",
         "yaxis": "y"
        }
       ],
       "layout": {
        "boxmode": "overlay",
        "legend": {
         "title": {
          "text": "income_category"
         },
         "tracegroupgap": 0
        },
        "margin": {
         "t": 60
        },
        "template": {
         "data": {
          "bar": [
           {
            "error_x": {
             "color": "#2a3f5f"
            },
            "error_y": {
             "color": "#2a3f5f"
            },
            "marker": {
             "line": {
              "color": "#E5ECF6",
              "width": 0.5
             },
             "pattern": {
              "fillmode": "overlay",
              "size": 10,
              "solidity": 0.2
             }
            },
            "type": "bar"
           }
          ],
          "barpolar": [
           {
            "marker": {
             "line": {
              "color": "#E5ECF6",
              "width": 0.5
             },
             "pattern": {
              "fillmode": "overlay",
              "size": 10,
              "solidity": 0.2
             }
            },
            "type": "barpolar"
           }
          ],
          "carpet": [
           {
            "aaxis": {
             "endlinecolor": "#2a3f5f",
             "gridcolor": "white",
             "linecolor": "white",
             "minorgridcolor": "white",
             "startlinecolor": "#2a3f5f"
            },
            "baxis": {
             "endlinecolor": "#2a3f5f",
             "gridcolor": "white",
             "linecolor": "white",
             "minorgridcolor": "white",
             "startlinecolor": "#2a3f5f"
            },
            "type": "carpet"
           }
          ],
          "choropleth": [
           {
            "colorbar": {
             "outlinewidth": 0,
             "ticks": ""
            },
            "type": "choropleth"
           }
          ],
          "contour": [
           {
            "colorbar": {
             "outlinewidth": 0,
             "ticks": ""
            },
            "colorscale": [
             [
              0,
              "#0d0887"
             ],
             [
              0.1111111111111111,
              "#46039f"
             ],
             [
              0.2222222222222222,
              "#7201a8"
             ],
             [
              0.3333333333333333,
              "#9c179e"
             ],
             [
              0.4444444444444444,
              "#bd3786"
             ],
             [
              0.5555555555555556,
              "#d8576b"
             ],
             [
              0.6666666666666666,
              "#ed7953"
             ],
             [
              0.7777777777777778,
              "#fb9f3a"
             ],
             [
              0.8888888888888888,
              "#fdca26"
             ],
             [
              1,
              "#f0f921"
             ]
            ],
            "type": "contour"
           }
          ],
          "contourcarpet": [
           {
            "colorbar": {
             "outlinewidth": 0,
             "ticks": ""
            },
            "type": "contourcarpet"
           }
          ],
          "heatmap": [
           {
            "colorbar": {
             "outlinewidth": 0,
             "ticks": ""
            },
            "colorscale": [
             [
              0,
              "#0d0887"
             ],
             [
              0.1111111111111111,
              "#46039f"
             ],
             [
              0.2222222222222222,
              "#7201a8"
             ],
             [
              0.3333333333333333,
              "#9c179e"
             ],
             [
              0.4444444444444444,
              "#bd3786"
             ],
             [
              0.5555555555555556,
              "#d8576b"
             ],
             [
              0.6666666666666666,
              "#ed7953"
             ],
             [
              0.7777777777777778,
              "#fb9f3a"
             ],
             [
              0.8888888888888888,
              "#fdca26"
             ],
             [
              1,
              "#f0f921"
             ]
            ],
            "type": "heatmap"
           }
          ],
          "histogram": [
           {
            "marker": {
             "pattern": {
              "fillmode": "overlay",
              "size": 10,
              "solidity": 0.2
             }
            },
            "type": "histogram"
           }
          ],
          "histogram2d": [
           {
            "colorbar": {
             "outlinewidth": 0,
             "ticks": ""
            },
            "colorscale": [
             [
              0,
              "#0d0887"
             ],
             [
              0.1111111111111111,
              "#46039f"
             ],
             [
              0.2222222222222222,
              "#7201a8"
             ],
             [
              0.3333333333333333,
              "#9c179e"
             ],
             [
              0.4444444444444444,
              "#bd3786"
             ],
             [
              0.5555555555555556,
              "#d8576b"
             ],
             [
              0.6666666666666666,
              "#ed7953"
             ],
             [
              0.7777777777777778,
              "#fb9f3a"
             ],
             [
              0.8888888888888888,
              "#fdca26"
             ],
             [
              1,
              "#f0f921"
             ]
            ],
            "type": "histogram2d"
           }
          ],
          "histogram2dcontour": [
           {
            "colorbar": {
             "outlinewidth": 0,
             "ticks": ""
            },
            "colorscale": [
             [
              0,
              "#0d0887"
             ],
             [
              0.1111111111111111,
              "#46039f"
             ],
             [
              0.2222222222222222,
              "#7201a8"
             ],
             [
              0.3333333333333333,
              "#9c179e"
             ],
             [
              0.4444444444444444,
              "#bd3786"
             ],
             [
              0.5555555555555556,
              "#d8576b"
             ],
             [
              0.6666666666666666,
              "#ed7953"
             ],
             [
              0.7777777777777778,
              "#fb9f3a"
             ],
             [
              0.8888888888888888,
              "#fdca26"
             ],
             [
              1,
              "#f0f921"
             ]
            ],
            "type": "histogram2dcontour"
           }
          ],
          "mesh3d": [
           {
            "colorbar": {
             "outlinewidth": 0,
             "ticks": ""
            },
            "type": "mesh3d"
           }
          ],
          "parcoords": [
           {
            "line": {
             "colorbar": {
              "outlinewidth": 0,
              "ticks": ""
             }
            },
            "type": "parcoords"
           }
          ],
          "pie": [
           {
            "automargin": true,
            "type": "pie"
           }
          ],
          "scatter": [
           {
            "fillpattern": {
             "fillmode": "overlay",
             "size": 10,
             "solidity": 0.2
            },
            "type": "scatter"
           }
          ],
          "scatter3d": [
           {
            "line": {
             "colorbar": {
              "outlinewidth": 0,
              "ticks": ""
             }
            },
            "marker": {
             "colorbar": {
              "outlinewidth": 0,
              "ticks": ""
             }
            },
            "type": "scatter3d"
           }
          ],
          "scattercarpet": [
           {
            "marker": {
             "colorbar": {
              "outlinewidth": 0,
              "ticks": ""
             }
            },
            "type": "scattercarpet"
           }
          ],
          "scattergeo": [
           {
            "marker": {
             "colorbar": {
              "outlinewidth": 0,
              "ticks": ""
             }
            },
            "type": "scattergeo"
           }
          ],
          "scattergl": [
           {
            "marker": {
             "colorbar": {
              "outlinewidth": 0,
              "ticks": ""
             }
            },
            "type": "scattergl"
           }
          ],
          "scattermap": [
           {
            "marker": {
             "colorbar": {
              "outlinewidth": 0,
              "ticks": ""
             }
            },
            "type": "scattermap"
           }
          ],
          "scattermapbox": [
           {
            "marker": {
             "colorbar": {
              "outlinewidth": 0,
              "ticks": ""
             }
            },
            "type": "scattermapbox"
           }
          ],
          "scatterpolar": [
           {
            "marker": {
             "colorbar": {
              "outlinewidth": 0,
              "ticks": ""
             }
            },
            "type": "scatterpolar"
           }
          ],
          "scatterpolargl": [
           {
            "marker": {
             "colorbar": {
              "outlinewidth": 0,
              "ticks": ""
             }
            },
            "type": "scatterpolargl"
           }
          ],
          "scatterternary": [
           {
            "marker": {
             "colorbar": {
              "outlinewidth": 0,
              "ticks": ""
             }
            },
            "type": "scatterternary"
           }
          ],
          "surface": [
           {
            "colorbar": {
             "outlinewidth": 0,
             "ticks": ""
            },
            "colorscale": [
             [
              0,
              "#0d0887"
             ],
             [
              0.1111111111111111,
              "#46039f"
             ],
             [
              0.2222222222222222,
              "#7201a8"
             ],
             [
              0.3333333333333333,
              "#9c179e"
             ],
             [
              0.4444444444444444,
              "#bd3786"
             ],
             [
              0.5555555555555556,
              "#d8576b"
             ],
             [
              0.6666666666666666,
              "#ed7953"
             ],
             [
              0.7777777777777778,
              "#fb9f3a"
             ],
             [
              0.8888888888888888,
              "#fdca26"
             ],
             [
              1,
              "#f0f921"
             ]
            ],
            "type": "surface"
           }
          ],
          "table": [
           {
            "cells": {
             "fill": {
              "color": "#EBF0F8"
             },
             "line": {
              "color": "white"
             }
            },
            "header": {
             "fill": {
              "color": "#C8D4E3"
             },
             "line": {
              "color": "white"
             }
            },
            "type": "table"
           }
          ]
         },
         "layout": {
          "annotationdefaults": {
           "arrowcolor": "#2a3f5f",
           "arrowhead": 0,
           "arrowwidth": 1
          },
          "autotypenumbers": "strict",
          "coloraxis": {
           "colorbar": {
            "outlinewidth": 0,
            "ticks": ""
           }
          },
          "colorscale": {
           "diverging": [
            [
             0,
             "#8e0152"
            ],
            [
             0.1,
             "#c51b7d"
            ],
            [
             0.2,
             "#de77ae"
            ],
            [
             0.3,
             "#f1b6da"
            ],
            [
             0.4,
             "#fde0ef"
            ],
            [
             0.5,
             "#f7f7f7"
            ],
            [
             0.6,
             "#e6f5d0"
            ],
            [
             0.7,
             "#b8e186"
            ],
            [
             0.8,
             "#7fbc41"
            ],
            [
             0.9,
             "#4d9221"
            ],
            [
             1,
             "#276419"
            ]
           ],
           "sequential": [
            [
             0,
             "#0d0887"
            ],
            [
             0.1111111111111111,
             "#46039f"
            ],
            [
             0.2222222222222222,
             "#7201a8"
            ],
            [
             0.3333333333333333,
             "#9c179e"
            ],
            [
             0.4444444444444444,
             "#bd3786"
            ],
            [
             0.5555555555555556,
             "#d8576b"
            ],
            [
             0.6666666666666666,
             "#ed7953"
            ],
            [
             0.7777777777777778,
             "#fb9f3a"
            ],
            [
             0.8888888888888888,
             "#fdca26"
            ],
            [
             1,
             "#f0f921"
            ]
           ],
           "sequentialminus": [
            [
             0,
             "#0d0887"
            ],
            [
             0.1111111111111111,
             "#46039f"
            ],
            [
             0.2222222222222222,
             "#7201a8"
            ],
            [
             0.3333333333333333,
             "#9c179e"
            ],
            [
             0.4444444444444444,
             "#bd3786"
            ],
            [
             0.5555555555555556,
             "#d8576b"
            ],
            [
             0.6666666666666666,
             "#ed7953"
            ],
            [
             0.7777777777777778,
             "#fb9f3a"
            ],
            [
             0.8888888888888888,
             "#fdca26"
            ],
            [
             1,
             "#f0f921"
            ]
           ]
          },
          "colorway": [
           "#636efa",
           "#EF553B",
           "#00cc96",
           "#ab63fa",
           "#FFA15A",
           "#19d3f3",
           "#FF6692",
           "#B6E880",
           "#FF97FF",
           "#FECB52"
          ],
          "font": {
           "color": "#2a3f5f"
          },
          "geo": {
           "bgcolor": "white",
           "lakecolor": "white",
           "landcolor": "#E5ECF6",
           "showlakes": true,
           "showland": true,
           "subunitcolor": "white"
          },
          "hoverlabel": {
           "align": "left"
          },
          "hovermode": "closest",
          "mapbox": {
           "style": "light"
          },
          "paper_bgcolor": "white",
          "plot_bgcolor": "#E5ECF6",
          "polar": {
           "angularaxis": {
            "gridcolor": "white",
            "linecolor": "white",
            "ticks": ""
           },
           "bgcolor": "#E5ECF6",
           "radialaxis": {
            "gridcolor": "white",
            "linecolor": "white",
            "ticks": ""
           }
          },
          "scene": {
           "xaxis": {
            "backgroundcolor": "#E5ECF6",
            "gridcolor": "white",
            "gridwidth": 2,
            "linecolor": "white",
            "showbackground": true,
            "ticks": "",
            "zerolinecolor": "white"
           },
           "yaxis": {
            "backgroundcolor": "#E5ECF6",
            "gridcolor": "white",
            "gridwidth": 2,
            "linecolor": "white",
            "showbackground": true,
            "ticks": "",
            "zerolinecolor": "white"
           },
           "zaxis": {
            "backgroundcolor": "#E5ECF6",
            "gridcolor": "white",
            "gridwidth": 2,
            "linecolor": "white",
            "showbackground": true,
            "ticks": "",
            "zerolinecolor": "white"
           }
          },
          "shapedefaults": {
           "line": {
            "color": "#2a3f5f"
           }
          },
          "ternary": {
           "aaxis": {
            "gridcolor": "white",
            "linecolor": "white",
            "ticks": ""
           },
           "baxis": {
            "gridcolor": "white",
            "linecolor": "white",
            "ticks": ""
           },
           "bgcolor": "#E5ECF6",
           "caxis": {
            "gridcolor": "white",
            "linecolor": "white",
            "ticks": ""
           }
          },
          "title": {
           "x": 0.05
          },
          "xaxis": {
           "automargin": true,
           "gridcolor": "white",
           "linecolor": "white",
           "ticks": "",
           "title": {
            "standoff": 15
           },
           "zerolinecolor": "white",
           "zerolinewidth": 2
          },
          "yaxis": {
           "automargin": true,
           "gridcolor": "white",
           "linecolor": "white",
           "ticks": "",
           "title": {
            "standoff": 15
           },
           "zerolinecolor": "white",
           "zerolinewidth": 2
          }
         }
        },
        "xaxis": {
         "anchor": "y",
         "domain": [
          0,
          1
         ],
         "title": {
          "text": "gdpp"
         }
        },
        "yaxis": {
         "anchor": "x",
         "categoryarray": [
          "High income",
          "Lower middle income",
          "Upper middle income",
          "Low income"
         ],
         "categoryorder": "array",
         "domain": [
          0,
          1
         ],
         "title": {
          "text": "income_category"
         }
        }
       }
      }
     },
     "metadata": {},
     "output_type": "display_data"
    }
   ],
   "source": [
    "#plot de distribuição (BoxPlot) por income e income_category\n",
    "px.box(df_countries, x='gdpp', y='income_category', color='income_category', orientation='h', hover_data=['country'])"
   ]
  },
  {
   "cell_type": "code",
   "execution_count": 16,
   "id": "0107b3ac",
   "metadata": {},
   "outputs": [
    {
     "data": {
      "application/vnd.plotly.v1+json": {
       "config": {
        "plotlyServerURL": "https://plot.ly"
       },
       "data": [
        {
         "alignmentgroup": "True",
         "customdata": [
          [
           "Afghanistan"
          ],
          [
           "Burkina Faso"
          ],
          [
           "Burundi"
          ],
          [
           "Central African Republic"
          ],
          [
           "Chad"
          ],
          [
           "Congo Dem. Rep."
          ],
          [
           "Eritrea"
          ],
          [
           "Gambia"
          ],
          [
           "Guinea-Bissau"
          ],
          [
           "Liberia"
          ],
          [
           "Madagascar"
          ],
          [
           "Malawi"
          ],
          [
           "Mali"
          ],
          [
           "Mozambique"
          ],
          [
           "Niger"
          ],
          [
           "Rwanda"
          ],
          [
           "Sierra Leone"
          ],
          [
           "Sudan"
          ],
          [
           "Togo"
          ],
          [
           "Uganda"
          ],
          [
           "Yemen"
          ]
         ],
         "hovertemplate": "income_category=%{y}<br>inflation=%{x}<br>country=%{customdata[0]}<extra></extra>",
         "legendgroup": "Low income",
         "marker": {
          "color": "#636efa"
         },
         "name": "Low income",
         "notched": false,
         "offsetgroup": "Low income",
         "orientation": "h",
         "showlegend": true,
         "type": "box",
         "x": {
          "bdata": "4XoUrkfhIkA9CtejcD0bQJqZmZmZmShAFK5H4XoUAECPwvUoXI8ZQM3MzMzMzDRAMzMzMzMzJ0AzMzMzMzMRQMP1KFyPwgdA4XoUrkfhFUAUrkfhepQhQDMzMzMzMyhAexSuR+F6EUCPwvUoXI8eQGZmZmZmZgRA4XoUrkfhBEAzMzMzMzMxQJqZmZmZmTNA4XoUrkfh8j8zMzMzMzMlQJqZmZmZmTdA",
          "dtype": "f8"
         },
         "x0": " ",
         "xaxis": "x",
         "y": [
          "Low income",
          "Low income",
          "Low income",
          "Low income",
          "Low income",
          "Low income",
          "Low income",
          "Low income",
          "Low income",
          "Low income",
          "Low income",
          "Low income",
          "Low income",
          "Low income",
          "Low income",
          "Low income",
          "Low income",
          "Low income",
          "Low income",
          "Low income",
          "Low income"
         ],
         "y0": " ",
         "yaxis": "y"
        },
        {
         "alignmentgroup": "True",
         "customdata": [
          [
           "Albania"
          ],
          [
           "Argentina"
          ],
          [
           "Armenia"
          ],
          [
           "Azerbaijan"
          ],
          [
           "Belarus"
          ],
          [
           "Belize"
          ],
          [
           "Bosnia and Herzegovina"
          ],
          [
           "Botswana"
          ],
          [
           "Brazil"
          ],
          [
           "Bulgaria"
          ],
          [
           "China"
          ],
          [
           "Colombia"
          ],
          [
           "Costa Rica"
          ],
          [
           "Dominican Republic"
          ],
          [
           "Ecuador"
          ],
          [
           "El Salvador"
          ],
          [
           "Equatorial Guinea"
          ],
          [
           "Fiji"
          ],
          [
           "Gabon"
          ],
          [
           "Georgia"
          ],
          [
           "Grenada"
          ],
          [
           "Guatemala"
          ],
          [
           "Indonesia"
          ],
          [
           "Iraq"
          ],
          [
           "Jamaica"
          ],
          [
           "Kazakhstan"
          ],
          [
           "Libya"
          ],
          [
           "Malaysia"
          ],
          [
           "Maldives"
          ],
          [
           "Mauritius"
          ],
          [
           "Moldova"
          ],
          [
           "Montenegro"
          ],
          [
           "Namibia"
          ],
          [
           "Paraguay"
          ],
          [
           "Peru"
          ],
          [
           "Russia"
          ],
          [
           "Serbia"
          ],
          [
           "South Africa"
          ],
          [
           "St. Vincent and the Grenadines"
          ],
          [
           "Suriname"
          ],
          [
           "Thailand"
          ],
          [
           "Tonga"
          ],
          [
           "Turkey"
          ],
          [
           "Turkmenistan"
          ]
         ],
         "hovertemplate": "income_category=%{y}<br>inflation=%{x}<br>country=%{customdata[0]}<extra></extra>",
         "legendgroup": "Upper middle income",
         "marker": {
          "color": "#EF553B"
         },
         "name": "Upper middle income",
         "notched": false,
         "offsetgroup": "Upper middle income",
         "orientation": "h",
         "showlegend": true,
         "type": "box",
         "x": {
          "bdata": "9ihcj8L1EUBmZmZmZuY0QBSuR+F6FB9AmpmZmZmZK0AzMzMzMzMuQD0K16NwPfI/ZmZmZmZm9j/Xo3A9CtchQFK4HoXr0SBAw/UoXI/C8T/D9Shcj8IbQOF6FK5H4Q5ASOF6FK5HGkDD9Shcj8IVQOF6FK5H4R1AMzMzMzMzBUBmZmZmZuY4QOxRuB6F6xBAmpmZmZmZMECamZmZmRkhQLgehetRuN4/j8L1KFyPFECamZmZmZkuQJqZmZmZmTBAH4XrUbieI0AAAAAAAIAzQGZmZmZmZixAFK5H4XoUHUAK16NwPQoHQBSuR+F6FPI/MzMzMzMzJkCamZmZmZn5P3sUrkfhegxAZmZmZmZmGEDXo3A9CtcWQGZmZmZmZixAhetRuB6FF0BmZmZmZmYZQMP1KFyPwhFAzczMzMzMHEBSuB6F61EQQHE9CtejcA1ACtejcD0KHEB7FK5H4XoCQA==",
          "dtype": "f8"
         },
         "x0": " ",
         "xaxis": "x",
         "y": [
          "Upper middle income",
          "Upper middle income",
          "Upper middle income",
          "Upper middle income",
          "Upper middle income",
          "Upper middle income",
          "Upper middle income",
          "Upper middle income",
          "Upper middle income",
          "Upper middle income",
          "Upper middle income",
          "Upper middle income",
          "Upper middle income",
          "Upper middle income",
          "Upper middle income",
          "Upper middle income",
          "Upper middle income",
          "Upper middle income",
          "Upper middle income",
          "Upper middle income",
          "Upper middle income",
          "Upper middle income",
          "Upper middle income",
          "Upper middle income",
          "Upper middle income",
          "Upper middle income",
          "Upper middle income",
          "Upper middle income",
          "Upper middle income",
          "Upper middle income",
          "Upper middle income",
          "Upper middle income",
          "Upper middle income",
          "Upper middle income",
          "Upper middle income",
          "Upper middle income",
          "Upper middle income",
          "Upper middle income",
          "Upper middle income",
          "Upper middle income",
          "Upper middle income",
          "Upper middle income",
          "Upper middle income",
          "Upper middle income"
         ],
         "y0": " ",
         "yaxis": "y"
        },
        {
         "alignmentgroup": "True",
         "customdata": [
          [
           "Algeria"
          ],
          [
           "Angola"
          ],
          [
           "Bangladesh"
          ],
          [
           "Benin"
          ],
          [
           "Bhutan"
          ],
          [
           "Bolivia"
          ],
          [
           "Cambodia"
          ],
          [
           "Cameroon"
          ],
          [
           "Cape Verde"
          ],
          [
           "Comoros"
          ],
          [
           "Congo Rep."
          ],
          [
           "Cote d'Ivoire"
          ],
          [
           "Egypt"
          ],
          [
           "Ghana"
          ],
          [
           "Guinea"
          ],
          [
           "Haiti"
          ],
          [
           "India"
          ],
          [
           "Iran"
          ],
          [
           "Jordan"
          ],
          [
           "Kenya"
          ],
          [
           "Kiribati"
          ],
          [
           "Kyrgyz Republic"
          ],
          [
           "Lao"
          ],
          [
           "Lebanon"
          ],
          [
           "Lesotho"
          ],
          [
           "Mauritania"
          ],
          [
           "Micronesia"
          ],
          [
           "Mongolia"
          ],
          [
           "Morocco"
          ],
          [
           "Myanmar"
          ],
          [
           "Nepal"
          ],
          [
           "Nigeria"
          ],
          [
           "Pakistan"
          ],
          [
           "Philippines"
          ],
          [
           "Samoa"
          ],
          [
           "Senegal"
          ],
          [
           "Solomon Islands"
          ],
          [
           "Sri Lanka"
          ],
          [
           "Tajikistan"
          ],
          [
           "Tanzania"
          ],
          [
           "Timor-Leste"
          ],
          [
           "Tunisia"
          ],
          [
           "Ukraine"
          ],
          [
           "Uzbekistan"
          ],
          [
           "Vanuatu"
          ],
          [
           "Vietnam"
          ],
          [
           "Zambia"
          ]
         ],
         "hovertemplate": "income_category=%{y}<br>inflation=%{x}<br>country=%{customdata[0]}<extra></extra>",
         "legendgroup": "Lower middle income",
         "marker": {
          "color": "#00cc96"
         },
         "name": "Lower middle income",
         "notched": false,
         "offsetgroup": "Lower middle income",
         "orientation": "h",
         "showlegend": true,
         "type": "box",
         "x": {
          "bdata": "mpmZmZkZMEBmZmZmZmY2QI/C9ShcjxxAUrgehetR7D/2KFyPwvUXQI/C9ShcjyFA9ihcj8L1CECPwvUoXI/+Pylcj8L1KOA/9ihcj8L1DkAzMzMzM7M0QI/C9ShcjxVAMzMzMzMzJECamZmZmZkwQJqZmZmZGTBAzczMzMzMFUD2KFyPwvUhQM3MzMzMzC9AXI/C9SjcIEC4HoXrUbgAQFK4HoXrUfg/AAAAAAAAJEBmZmZmZmYiQBBYObTIds4/mpmZmZmZEEBmZmZmZuYyQGZmZmZmZg5AmpmZmZmZQ0AIrBxaZDvvPylcj8L1KBxAMzMzMzMzLkAAAAAAAABaQM3MzMzMzCVA4XoUrkfhEECF61G4HoX7P5qZmZmZmf0/PQrXo3A9G0DNzMzMzMw2QAAAAAAAAClAAAAAAACAIkAAAAAAAIA6QI/C9Shcjw5AzczMzMzMKkAAAAAAAIAwQPYoXI/C9QRAMzMzMzMzKEAAAAAAAAAsQA==",
          "dtype": "f8"
         },
         "x0": " ",
         "xaxis": "x",
         "y": [
          "Lower middle income",
          "Lower middle income",
          "Lower middle income",
          "Lower middle income",
          "Lower middle income",
          "Lower middle income",
          "Lower middle income",
          "Lower middle income",
          "Lower middle income",
          "Lower middle income",
          "Lower middle income",
          "Lower middle income",
          "Lower middle income",
          "Lower middle income",
          "Lower middle income",
          "Lower middle income",
          "Lower middle income",
          "Lower middle income",
          "Lower middle income",
          "Lower middle income",
          "Lower middle income",
          "Lower middle income",
          "Lower middle income",
          "Lower middle income",
          "Lower middle income",
          "Lower middle income",
          "Lower middle income",
          "Lower middle income",
          "Lower middle income",
          "Lower middle income",
          "Lower middle income",
          "Lower middle income",
          "Lower middle income",
          "Lower middle income",
          "Lower middle income",
          "Lower middle income",
          "Lower middle income",
          "Lower middle income",
          "Lower middle income",
          "Lower middle income",
          "Lower middle income",
          "Lower middle income",
          "Lower middle income",
          "Lower middle income",
          "Lower middle income",
          "Lower middle income",
          "Lower middle income"
         ],
         "y0": " ",
         "yaxis": "y"
        },
        {
         "alignmentgroup": "True",
         "customdata": [
          [
           "Antigua and Barbuda"
          ],
          [
           "Australia"
          ],
          [
           "Austria"
          ],
          [
           "Bahamas"
          ],
          [
           "Bahrain"
          ],
          [
           "Barbados"
          ],
          [
           "Belgium"
          ],
          [
           "Brunei"
          ],
          [
           "Canada"
          ],
          [
           "Chile"
          ],
          [
           "Croatia"
          ],
          [
           "Cyprus"
          ],
          [
           "Czech Republic"
          ],
          [
           "Denmark"
          ],
          [
           "Estonia"
          ],
          [
           "Finland"
          ],
          [
           "France"
          ],
          [
           "Germany"
          ],
          [
           "Greece"
          ],
          [
           "Guyana"
          ],
          [
           "Hungary"
          ],
          [
           "Iceland"
          ],
          [
           "Ireland"
          ],
          [
           "Israel"
          ],
          [
           "Italy"
          ],
          [
           "Japan"
          ],
          [
           "Kuwait"
          ],
          [
           "Latvia"
          ],
          [
           "Lithuania"
          ],
          [
           "Luxembourg"
          ],
          [
           "Malta"
          ],
          [
           "Netherlands"
          ],
          [
           "New Zealand"
          ],
          [
           "Norway"
          ],
          [
           "Oman"
          ],
          [
           "Panama"
          ],
          [
           "Poland"
          ],
          [
           "Portugal"
          ],
          [
           "Qatar"
          ],
          [
           "Romania"
          ],
          [
           "Saudi Arabia"
          ],
          [
           "Seychelles"
          ],
          [
           "Singapore"
          ],
          [
           "Slovak Republic"
          ],
          [
           "Slovenia"
          ],
          [
           "South Korea"
          ],
          [
           "Spain"
          ],
          [
           "Sweden"
          ],
          [
           "Switzerland"
          ],
          [
           "United Arab Emirates"
          ],
          [
           "United Kingdom"
          ],
          [
           "United States"
          ],
          [
           "Uruguay"
          ]
         ],
         "hovertemplate": "income_category=%{y}<br>inflation=%{x}<br>country=%{customdata[0]}<extra></extra>",
         "legendgroup": "High income",
         "marker": {
          "color": "#ab63fa"
         },
         "name": "High income",
         "notched": false,
         "offsetgroup": "High income",
         "orientation": "h",
         "showlegend": true,
         "type": "box",
         "x": {
          "bdata": "CtejcD0K9z+PwvUoXI/yP1YOLbKd7+s/9P3UeOkm2b/D9Shcj8IdQCUGgZVDi9Q/FK5H4XoU/j8zMzMzM7MwQPYoXI/C9QZA7FG4HoXrIUASg8DKoUXqPxSuR+F6FABA4XoUrkfh9r/D9Shcj8IJQNejcD0K1/s/EFg5tMh21j/NzMzMzMzwP6jGSzeJQeg/8KfGSzeJ5T/sUbgehesWQKRwPQrXowJA4XoUrkfhFUDD9Shcj8IJwFK4HoXrUfw/0SLb+X5q1D9mZmZmZmb+v2ZmZmZmZiZAlkOLbOf76b8K16NwPQoDQPYoXI/C9QxApHA9CtejDkCJQWDl0CLrP9ejcD0K1w1AzczMzMzMF0AzMzMzMzMvQLgehetRuARAj8L1KFyP+j/6fmq8dJPkP+xRuB6F6xtAPQrXo3A9DEAzMzMzMzMxQNejcD0K1xDAWmQ730+Np78K16NwPQrfPy/dJAaBle+/SOF6FK5HCUB7FK5H4XrEP4PAyqFFtu8/fT81XrpJ1D8AAAAAAAApQB+F61G4Hvk/hetRuB6F8z+kcD0K16MTQA==",
          "dtype": "f8"
         },
         "x0": " ",
         "xaxis": "x",
         "y": [
          "High income",
          "High income",
          "High income",
          "High income",
          "High income",
          "High income",
          "High income",
          "High income",
          "High income",
          "High income",
          "High income",
          "High income",
          "High income",
          "High income",
          "High income",
          "High income",
          "High income",
          "High income",
          "High income",
          "High income",
          "High income",
          "High income",
          "High income",
          "High income",
          "High income",
          "High income",
          "High income",
          "High income",
          "High income",
          "High income",
          "High income",
          "High income",
          "High income",
          "High income",
          "High income",
          "High income",
          "High income",
          "High income",
          "High income",
          "High income",
          "High income",
          "High income",
          "High income",
          "High income",
          "High income",
          "High income",
          "High income",
          "High income",
          "High income",
          "High income",
          "High income",
          "High income",
          "High income"
         ],
         "y0": " ",
         "yaxis": "y"
        }
       ],
       "layout": {
        "boxmode": "overlay",
        "legend": {
         "title": {
          "text": "income_category"
         },
         "tracegroupgap": 0
        },
        "margin": {
         "t": 60
        },
        "template": {
         "data": {
          "bar": [
           {
            "error_x": {
             "color": "#2a3f5f"
            },
            "error_y": {
             "color": "#2a3f5f"
            },
            "marker": {
             "line": {
              "color": "#E5ECF6",
              "width": 0.5
             },
             "pattern": {
              "fillmode": "overlay",
              "size": 10,
              "solidity": 0.2
             }
            },
            "type": "bar"
           }
          ],
          "barpolar": [
           {
            "marker": {
             "line": {
              "color": "#E5ECF6",
              "width": 0.5
             },
             "pattern": {
              "fillmode": "overlay",
              "size": 10,
              "solidity": 0.2
             }
            },
            "type": "barpolar"
           }
          ],
          "carpet": [
           {
            "aaxis": {
             "endlinecolor": "#2a3f5f",
             "gridcolor": "white",
             "linecolor": "white",
             "minorgridcolor": "white",
             "startlinecolor": "#2a3f5f"
            },
            "baxis": {
             "endlinecolor": "#2a3f5f",
             "gridcolor": "white",
             "linecolor": "white",
             "minorgridcolor": "white",
             "startlinecolor": "#2a3f5f"
            },
            "type": "carpet"
           }
          ],
          "choropleth": [
           {
            "colorbar": {
             "outlinewidth": 0,
             "ticks": ""
            },
            "type": "choropleth"
           }
          ],
          "contour": [
           {
            "colorbar": {
             "outlinewidth": 0,
             "ticks": ""
            },
            "colorscale": [
             [
              0,
              "#0d0887"
             ],
             [
              0.1111111111111111,
              "#46039f"
             ],
             [
              0.2222222222222222,
              "#7201a8"
             ],
             [
              0.3333333333333333,
              "#9c179e"
             ],
             [
              0.4444444444444444,
              "#bd3786"
             ],
             [
              0.5555555555555556,
              "#d8576b"
             ],
             [
              0.6666666666666666,
              "#ed7953"
             ],
             [
              0.7777777777777778,
              "#fb9f3a"
             ],
             [
              0.8888888888888888,
              "#fdca26"
             ],
             [
              1,
              "#f0f921"
             ]
            ],
            "type": "contour"
           }
          ],
          "contourcarpet": [
           {
            "colorbar": {
             "outlinewidth": 0,
             "ticks": ""
            },
            "type": "contourcarpet"
           }
          ],
          "heatmap": [
           {
            "colorbar": {
             "outlinewidth": 0,
             "ticks": ""
            },
            "colorscale": [
             [
              0,
              "#0d0887"
             ],
             [
              0.1111111111111111,
              "#46039f"
             ],
             [
              0.2222222222222222,
              "#7201a8"
             ],
             [
              0.3333333333333333,
              "#9c179e"
             ],
             [
              0.4444444444444444,
              "#bd3786"
             ],
             [
              0.5555555555555556,
              "#d8576b"
             ],
             [
              0.6666666666666666,
              "#ed7953"
             ],
             [
              0.7777777777777778,
              "#fb9f3a"
             ],
             [
              0.8888888888888888,
              "#fdca26"
             ],
             [
              1,
              "#f0f921"
             ]
            ],
            "type": "heatmap"
           }
          ],
          "histogram": [
           {
            "marker": {
             "pattern": {
              "fillmode": "overlay",
              "size": 10,
              "solidity": 0.2
             }
            },
            "type": "histogram"
           }
          ],
          "histogram2d": [
           {
            "colorbar": {
             "outlinewidth": 0,
             "ticks": ""
            },
            "colorscale": [
             [
              0,
              "#0d0887"
             ],
             [
              0.1111111111111111,
              "#46039f"
             ],
             [
              0.2222222222222222,
              "#7201a8"
             ],
             [
              0.3333333333333333,
              "#9c179e"
             ],
             [
              0.4444444444444444,
              "#bd3786"
             ],
             [
              0.5555555555555556,
              "#d8576b"
             ],
             [
              0.6666666666666666,
              "#ed7953"
             ],
             [
              0.7777777777777778,
              "#fb9f3a"
             ],
             [
              0.8888888888888888,
              "#fdca26"
             ],
             [
              1,
              "#f0f921"
             ]
            ],
            "type": "histogram2d"
           }
          ],
          "histogram2dcontour": [
           {
            "colorbar": {
             "outlinewidth": 0,
             "ticks": ""
            },
            "colorscale": [
             [
              0,
              "#0d0887"
             ],
             [
              0.1111111111111111,
              "#46039f"
             ],
             [
              0.2222222222222222,
              "#7201a8"
             ],
             [
              0.3333333333333333,
              "#9c179e"
             ],
             [
              0.4444444444444444,
              "#bd3786"
             ],
             [
              0.5555555555555556,
              "#d8576b"
             ],
             [
              0.6666666666666666,
              "#ed7953"
             ],
             [
              0.7777777777777778,
              "#fb9f3a"
             ],
             [
              0.8888888888888888,
              "#fdca26"
             ],
             [
              1,
              "#f0f921"
             ]
            ],
            "type": "histogram2dcontour"
           }
          ],
          "mesh3d": [
           {
            "colorbar": {
             "outlinewidth": 0,
             "ticks": ""
            },
            "type": "mesh3d"
           }
          ],
          "parcoords": [
           {
            "line": {
             "colorbar": {
              "outlinewidth": 0,
              "ticks": ""
             }
            },
            "type": "parcoords"
           }
          ],
          "pie": [
           {
            "automargin": true,
            "type": "pie"
           }
          ],
          "scatter": [
           {
            "fillpattern": {
             "fillmode": "overlay",
             "size": 10,
             "solidity": 0.2
            },
            "type": "scatter"
           }
          ],
          "scatter3d": [
           {
            "line": {
             "colorbar": {
              "outlinewidth": 0,
              "ticks": ""
             }
            },
            "marker": {
             "colorbar": {
              "outlinewidth": 0,
              "ticks": ""
             }
            },
            "type": "scatter3d"
           }
          ],
          "scattercarpet": [
           {
            "marker": {
             "colorbar": {
              "outlinewidth": 0,
              "ticks": ""
             }
            },
            "type": "scattercarpet"
           }
          ],
          "scattergeo": [
           {
            "marker": {
             "colorbar": {
              "outlinewidth": 0,
              "ticks": ""
             }
            },
            "type": "scattergeo"
           }
          ],
          "scattergl": [
           {
            "marker": {
             "colorbar": {
              "outlinewidth": 0,
              "ticks": ""
             }
            },
            "type": "scattergl"
           }
          ],
          "scattermap": [
           {
            "marker": {
             "colorbar": {
              "outlinewidth": 0,
              "ticks": ""
             }
            },
            "type": "scattermap"
           }
          ],
          "scattermapbox": [
           {
            "marker": {
             "colorbar": {
              "outlinewidth": 0,
              "ticks": ""
             }
            },
            "type": "scattermapbox"
           }
          ],
          "scatterpolar": [
           {
            "marker": {
             "colorbar": {
              "outlinewidth": 0,
              "ticks": ""
             }
            },
            "type": "scatterpolar"
           }
          ],
          "scatterpolargl": [
           {
            "marker": {
             "colorbar": {
              "outlinewidth": 0,
              "ticks": ""
             }
            },
            "type": "scatterpolargl"
           }
          ],
          "scatterternary": [
           {
            "marker": {
             "colorbar": {
              "outlinewidth": 0,
              "ticks": ""
             }
            },
            "type": "scatterternary"
           }
          ],
          "surface": [
           {
            "colorbar": {
             "outlinewidth": 0,
             "ticks": ""
            },
            "colorscale": [
             [
              0,
              "#0d0887"
             ],
             [
              0.1111111111111111,
              "#46039f"
             ],
             [
              0.2222222222222222,
              "#7201a8"
             ],
             [
              0.3333333333333333,
              "#9c179e"
             ],
             [
              0.4444444444444444,
              "#bd3786"
             ],
             [
              0.5555555555555556,
              "#d8576b"
             ],
             [
              0.6666666666666666,
              "#ed7953"
             ],
             [
              0.7777777777777778,
              "#fb9f3a"
             ],
             [
              0.8888888888888888,
              "#fdca26"
             ],
             [
              1,
              "#f0f921"
             ]
            ],
            "type": "surface"
           }
          ],
          "table": [
           {
            "cells": {
             "fill": {
              "color": "#EBF0F8"
             },
             "line": {
              "color": "white"
             }
            },
            "header": {
             "fill": {
              "color": "#C8D4E3"
             },
             "line": {
              "color": "white"
             }
            },
            "type": "table"
           }
          ]
         },
         "layout": {
          "annotationdefaults": {
           "arrowcolor": "#2a3f5f",
           "arrowhead": 0,
           "arrowwidth": 1
          },
          "autotypenumbers": "strict",
          "coloraxis": {
           "colorbar": {
            "outlinewidth": 0,
            "ticks": ""
           }
          },
          "colorscale": {
           "diverging": [
            [
             0,
             "#8e0152"
            ],
            [
             0.1,
             "#c51b7d"
            ],
            [
             0.2,
             "#de77ae"
            ],
            [
             0.3,
             "#f1b6da"
            ],
            [
             0.4,
             "#fde0ef"
            ],
            [
             0.5,
             "#f7f7f7"
            ],
            [
             0.6,
             "#e6f5d0"
            ],
            [
             0.7,
             "#b8e186"
            ],
            [
             0.8,
             "#7fbc41"
            ],
            [
             0.9,
             "#4d9221"
            ],
            [
             1,
             "#276419"
            ]
           ],
           "sequential": [
            [
             0,
             "#0d0887"
            ],
            [
             0.1111111111111111,
             "#46039f"
            ],
            [
             0.2222222222222222,
             "#7201a8"
            ],
            [
             0.3333333333333333,
             "#9c179e"
            ],
            [
             0.4444444444444444,
             "#bd3786"
            ],
            [
             0.5555555555555556,
             "#d8576b"
            ],
            [
             0.6666666666666666,
             "#ed7953"
            ],
            [
             0.7777777777777778,
             "#fb9f3a"
            ],
            [
             0.8888888888888888,
             "#fdca26"
            ],
            [
             1,
             "#f0f921"
            ]
           ],
           "sequentialminus": [
            [
             0,
             "#0d0887"
            ],
            [
             0.1111111111111111,
             "#46039f"
            ],
            [
             0.2222222222222222,
             "#7201a8"
            ],
            [
             0.3333333333333333,
             "#9c179e"
            ],
            [
             0.4444444444444444,
             "#bd3786"
            ],
            [
             0.5555555555555556,
             "#d8576b"
            ],
            [
             0.6666666666666666,
             "#ed7953"
            ],
            [
             0.7777777777777778,
             "#fb9f3a"
            ],
            [
             0.8888888888888888,
             "#fdca26"
            ],
            [
             1,
             "#f0f921"
            ]
           ]
          },
          "colorway": [
           "#636efa",
           "#EF553B",
           "#00cc96",
           "#ab63fa",
           "#FFA15A",
           "#19d3f3",
           "#FF6692",
           "#B6E880",
           "#FF97FF",
           "#FECB52"
          ],
          "font": {
           "color": "#2a3f5f"
          },
          "geo": {
           "bgcolor": "white",
           "lakecolor": "white",
           "landcolor": "#E5ECF6",
           "showlakes": true,
           "showland": true,
           "subunitcolor": "white"
          },
          "hoverlabel": {
           "align": "left"
          },
          "hovermode": "closest",
          "mapbox": {
           "style": "light"
          },
          "paper_bgcolor": "white",
          "plot_bgcolor": "#E5ECF6",
          "polar": {
           "angularaxis": {
            "gridcolor": "white",
            "linecolor": "white",
            "ticks": ""
           },
           "bgcolor": "#E5ECF6",
           "radialaxis": {
            "gridcolor": "white",
            "linecolor": "white",
            "ticks": ""
           }
          },
          "scene": {
           "xaxis": {
            "backgroundcolor": "#E5ECF6",
            "gridcolor": "white",
            "gridwidth": 2,
            "linecolor": "white",
            "showbackground": true,
            "ticks": "",
            "zerolinecolor": "white"
           },
           "yaxis": {
            "backgroundcolor": "#E5ECF6",
            "gridcolor": "white",
            "gridwidth": 2,
            "linecolor": "white",
            "showbackground": true,
            "ticks": "",
            "zerolinecolor": "white"
           },
           "zaxis": {
            "backgroundcolor": "#E5ECF6",
            "gridcolor": "white",
            "gridwidth": 2,
            "linecolor": "white",
            "showbackground": true,
            "ticks": "",
            "zerolinecolor": "white"
           }
          },
          "shapedefaults": {
           "line": {
            "color": "#2a3f5f"
           }
          },
          "ternary": {
           "aaxis": {
            "gridcolor": "white",
            "linecolor": "white",
            "ticks": ""
           },
           "baxis": {
            "gridcolor": "white",
            "linecolor": "white",
            "ticks": ""
           },
           "bgcolor": "#E5ECF6",
           "caxis": {
            "gridcolor": "white",
            "linecolor": "white",
            "ticks": ""
           }
          },
          "title": {
           "x": 0.05
          },
          "xaxis": {
           "automargin": true,
           "gridcolor": "white",
           "linecolor": "white",
           "ticks": "",
           "title": {
            "standoff": 15
           },
           "zerolinecolor": "white",
           "zerolinewidth": 2
          },
          "yaxis": {
           "automargin": true,
           "gridcolor": "white",
           "linecolor": "white",
           "ticks": "",
           "title": {
            "standoff": 15
           },
           "zerolinecolor": "white",
           "zerolinewidth": 2
          }
         }
        },
        "xaxis": {
         "anchor": "y",
         "domain": [
          0,
          1
         ],
         "title": {
          "text": "inflation"
         }
        },
        "yaxis": {
         "anchor": "x",
         "categoryarray": [
          "High income",
          "Lower middle income",
          "Upper middle income",
          "Low income"
         ],
         "categoryorder": "array",
         "domain": [
          0,
          1
         ],
         "title": {
          "text": "income_category"
         }
        }
       }
      }
     },
     "metadata": {},
     "output_type": "display_data"
    }
   ],
   "source": [
    "#plot de distribuição (BoxPlot) por income e income_category\n",
    "px.box(df_countries, x='inflation', y='income_category', color='income_category', orientation='h', hover_data=['country'])"
   ]
  },
  {
   "cell_type": "code",
   "execution_count": 17,
   "id": "b10ebc1d",
   "metadata": {},
   "outputs": [
    {
     "data": {
      "application/vnd.plotly.v1+json": {
       "config": {
        "plotlyServerURL": "https://plot.ly"
       },
       "data": [
        {
         "alignmentgroup": "True",
         "customdata": [
          [
           "Afghanistan"
          ],
          [
           "Burkina Faso"
          ],
          [
           "Burundi"
          ],
          [
           "Central African Republic"
          ],
          [
           "Chad"
          ],
          [
           "Congo Dem. Rep."
          ],
          [
           "Eritrea"
          ],
          [
           "Gambia"
          ],
          [
           "Guinea-Bissau"
          ],
          [
           "Liberia"
          ],
          [
           "Madagascar"
          ],
          [
           "Malawi"
          ],
          [
           "Mali"
          ],
          [
           "Mozambique"
          ],
          [
           "Niger"
          ],
          [
           "Rwanda"
          ],
          [
           "Sierra Leone"
          ],
          [
           "Sudan"
          ],
          [
           "Togo"
          ],
          [
           "Uganda"
          ],
          [
           "Yemen"
          ]
         ],
         "hovertemplate": "income_category=%{y}<br>life_expec=%{x}<br>country=%{customdata[0]}<extra></extra>",
         "legendgroup": "Low income",
         "marker": {
          "color": "#636efa"
         },
         "name": "Low income",
         "notched": false,
         "offsetgroup": "Low income",
         "orientation": "h",
         "showlegend": true,
         "type": "box",
         "x": {
          "bdata": "mpmZmZkZTEAzMzMzM/NMQJqZmZmZ2UxAAAAAAADAR0AAAAAAAEBMQAAAAAAAwExAmpmZmZnZTkAAAAAAAGBQQM3MzMzMzEtAZmZmZmZmTkBmZmZmZmZOQM3MzMzMjEpAAAAAAADATUAAAAAAAEBLQGZmZmZmZk1AZmZmZmYmUEAAAAAAAIBLQDMzMzMzk1BAmpmZmZlZTUBmZmZmZmZMQAAAAAAA4FBA",
          "dtype": "f8"
         },
         "x0": " ",
         "xaxis": "x",
         "y": [
          "Low income",
          "Low income",
          "Low income",
          "Low income",
          "Low income",
          "Low income",
          "Low income",
          "Low income",
          "Low income",
          "Low income",
          "Low income",
          "Low income",
          "Low income",
          "Low income",
          "Low income",
          "Low income",
          "Low income",
          "Low income",
          "Low income",
          "Low income",
          "Low income"
         ],
         "y0": " ",
         "yaxis": "y"
        },
        {
         "alignmentgroup": "True",
         "customdata": [
          [
           "Albania"
          ],
          [
           "Argentina"
          ],
          [
           "Armenia"
          ],
          [
           "Azerbaijan"
          ],
          [
           "Belarus"
          ],
          [
           "Belize"
          ],
          [
           "Bosnia and Herzegovina"
          ],
          [
           "Botswana"
          ],
          [
           "Brazil"
          ],
          [
           "Bulgaria"
          ],
          [
           "China"
          ],
          [
           "Colombia"
          ],
          [
           "Costa Rica"
          ],
          [
           "Dominican Republic"
          ],
          [
           "Ecuador"
          ],
          [
           "El Salvador"
          ],
          [
           "Equatorial Guinea"
          ],
          [
           "Fiji"
          ],
          [
           "Gabon"
          ],
          [
           "Georgia"
          ],
          [
           "Grenada"
          ],
          [
           "Guatemala"
          ],
          [
           "Indonesia"
          ],
          [
           "Iraq"
          ],
          [
           "Jamaica"
          ],
          [
           "Kazakhstan"
          ],
          [
           "Libya"
          ],
          [
           "Malaysia"
          ],
          [
           "Maldives"
          ],
          [
           "Mauritius"
          ],
          [
           "Moldova"
          ],
          [
           "Montenegro"
          ],
          [
           "Namibia"
          ],
          [
           "Paraguay"
          ],
          [
           "Peru"
          ],
          [
           "Russia"
          ],
          [
           "Serbia"
          ],
          [
           "South Africa"
          ],
          [
           "St. Vincent and the Grenadines"
          ],
          [
           "Suriname"
          ],
          [
           "Thailand"
          ],
          [
           "Tonga"
          ],
          [
           "Turkey"
          ],
          [
           "Turkmenistan"
          ]
         ],
         "hovertemplate": "income_category=%{y}<br>life_expec=%{x}<br>country=%{customdata[0]}<extra></extra>",
         "legendgroup": "Upper middle income",
         "marker": {
          "color": "#EF553B"
         },
         "name": "Upper middle income",
         "notched": false,
         "offsetgroup": "Upper middle income",
         "orientation": "h",
         "showlegend": true,
         "type": "box",
         "x": {
          "bdata": "MzMzMzMTU0AzMzMzM/NSQDMzMzMzU1JAZmZmZmZGUUCamZmZmZlRQJqZmZmZ2VFAMzMzMzMzU0DNzMzMzIxMQM3MzMzMjFJAmpmZmZl5UkBmZmZmZqZSQJqZmZmZGVNAmpmZmZkZVEBmZmZmZqZSQM3MzMzMLFNAZmZmZmaGUkAzMzMzM3NOQDMzMzMzU1BAMzMzMzNzT0AzMzMzMzNSQDMzMzMz01FAMzMzMzPTUUCamZmZmXlRQM3MzMzMzFBAzczMzMysUkCamZmZmRlRQGZmZmZmBlNAAAAAAACgUkCamZmZmXlTQJqZmZmZWVJAzczMzMxsUUCamZmZmRlTQM3MzMzMTE1AZmZmZmaGUkCamZmZmXlTQM3MzMzMTFFAzczMzMysUkBmZmZmZiZLQGZmZmZm5lFAMzMzMzOTUUBmZmZmZiZTQJqZmZmZeVFAzczMzMyMU0CamZmZmflQQA==",
          "dtype": "f8"
         },
         "x0": " ",
         "xaxis": "x",
         "y": [
          "Upper middle income",
          "Upper middle income",
          "Upper middle income",
          "Upper middle income",
          "Upper middle income",
          "Upper middle income",
          "Upper middle income",
          "Upper middle income",
          "Upper middle income",
          "Upper middle income",
          "Upper middle income",
          "Upper middle income",
          "Upper middle income",
          "Upper middle income",
          "Upper middle income",
          "Upper middle income",
          "Upper middle income",
          "Upper middle income",
          "Upper middle income",
          "Upper middle income",
          "Upper middle income",
          "Upper middle income",
          "Upper middle income",
          "Upper middle income",
          "Upper middle income",
          "Upper middle income",
          "Upper middle income",
          "Upper middle income",
          "Upper middle income",
          "Upper middle income",
          "Upper middle income",
          "Upper middle income",
          "Upper middle income",
          "Upper middle income",
          "Upper middle income",
          "Upper middle income",
          "Upper middle income",
          "Upper middle income",
          "Upper middle income",
          "Upper middle income",
          "Upper middle income",
          "Upper middle income",
          "Upper middle income",
          "Upper middle income"
         ],
         "y0": " ",
         "yaxis": "y"
        },
        {
         "alignmentgroup": "True",
         "customdata": [
          [
           "Algeria"
          ],
          [
           "Angola"
          ],
          [
           "Bangladesh"
          ],
          [
           "Benin"
          ],
          [
           "Bhutan"
          ],
          [
           "Bolivia"
          ],
          [
           "Cambodia"
          ],
          [
           "Cameroon"
          ],
          [
           "Cape Verde"
          ],
          [
           "Comoros"
          ],
          [
           "Congo Rep."
          ],
          [
           "Cote d'Ivoire"
          ],
          [
           "Egypt"
          ],
          [
           "Ghana"
          ],
          [
           "Guinea"
          ],
          [
           "Haiti"
          ],
          [
           "India"
          ],
          [
           "Iran"
          ],
          [
           "Jordan"
          ],
          [
           "Kenya"
          ],
          [
           "Kiribati"
          ],
          [
           "Kyrgyz Republic"
          ],
          [
           "Lao"
          ],
          [
           "Lebanon"
          ],
          [
           "Lesotho"
          ],
          [
           "Mauritania"
          ],
          [
           "Micronesia"
          ],
          [
           "Mongolia"
          ],
          [
           "Morocco"
          ],
          [
           "Myanmar"
          ],
          [
           "Nepal"
          ],
          [
           "Nigeria"
          ],
          [
           "Pakistan"
          ],
          [
           "Philippines"
          ],
          [
           "Samoa"
          ],
          [
           "Senegal"
          ],
          [
           "Solomon Islands"
          ],
          [
           "Sri Lanka"
          ],
          [
           "Tajikistan"
          ],
          [
           "Tanzania"
          ],
          [
           "Timor-Leste"
          ],
          [
           "Tunisia"
          ],
          [
           "Ukraine"
          ],
          [
           "Uzbekistan"
          ],
          [
           "Vanuatu"
          ],
          [
           "Vietnam"
          ],
          [
           "Zambia"
          ]
         ],
         "hovertemplate": "income_category=%{y}<br>life_expec=%{x}<br>country=%{customdata[0]}<extra></extra>",
         "legendgroup": "Lower middle income",
         "marker": {
          "color": "#00cc96"
         },
         "name": "Lower middle income",
         "notched": false,
         "offsetgroup": "Lower middle income",
         "orientation": "h",
         "showlegend": true,
         "type": "box",
         "x": {
          "bdata": "AAAAAAAgU0DNzMzMzAxOQJqZmZmZmVFAZmZmZmbmTkBmZmZmZgZSQGZmZmZm5lFAZmZmZmaGUEBmZmZmZqZMQAAAAAAAIFJAmpmZmZl5UEAzMzMzMzNOQGZmZmZmJkxAAAAAAACgUUCamZmZmRlPQAAAAAAAAE1AzczMzMwMQEDNzMzMzIxQQAAAAAAAoFJAMzMzMzPzUkBmZmZmZmZPQJqZmZmZWU5AAAAAAAAgUUBmZmZmZuZPQDMzMzMz81NAAAAAAABAR0DNzMzMzAxRQJqZmZmZWVBAzczMzMyMUEAAAAAAAGBSQDMzMzMzs1BAMzMzMzMTUUAAAAAAAEBOQDMzMzMzU1BAAAAAAABAUUAAAAAAAOBRQAAAAAAAAFBAmpmZmZnZTkCamZmZmZlSQGZmZmZmZlFAZmZmZmamTUBmZmZmZsZRQJqZmZmZOVNAmpmZmZmZUUAzMzMzMzNRQAAAAAAAgE9AZmZmZmZGUkAAAAAAAABKQA==",
          "dtype": "f8"
         },
         "x0": " ",
         "xaxis": "x",
         "y": [
          "Lower middle income",
          "Lower middle income",
          "Lower middle income",
          "Lower middle income",
          "Lower middle income",
          "Lower middle income",
          "Lower middle income",
          "Lower middle income",
          "Lower middle income",
          "Lower middle income",
          "Lower middle income",
          "Lower middle income",
          "Lower middle income",
          "Lower middle income",
          "Lower middle income",
          "Lower middle income",
          "Lower middle income",
          "Lower middle income",
          "Lower middle income",
          "Lower middle income",
          "Lower middle income",
          "Lower middle income",
          "Lower middle income",
          "Lower middle income",
          "Lower middle income",
          "Lower middle income",
          "Lower middle income",
          "Lower middle income",
          "Lower middle income",
          "Lower middle income",
          "Lower middle income",
          "Lower middle income",
          "Lower middle income",
          "Lower middle income",
          "Lower middle income",
          "Lower middle income",
          "Lower middle income",
          "Lower middle income",
          "Lower middle income",
          "Lower middle income",
          "Lower middle income",
          "Lower middle income",
          "Lower middle income",
          "Lower middle income",
          "Lower middle income",
          "Lower middle income",
          "Lower middle income"
         ],
         "y0": " ",
         "yaxis": "y"
        },
        {
         "alignmentgroup": "True",
         "customdata": [
          [
           "Antigua and Barbuda"
          ],
          [
           "Australia"
          ],
          [
           "Austria"
          ],
          [
           "Bahamas"
          ],
          [
           "Bahrain"
          ],
          [
           "Barbados"
          ],
          [
           "Belgium"
          ],
          [
           "Brunei"
          ],
          [
           "Canada"
          ],
          [
           "Chile"
          ],
          [
           "Croatia"
          ],
          [
           "Cyprus"
          ],
          [
           "Czech Republic"
          ],
          [
           "Denmark"
          ],
          [
           "Estonia"
          ],
          [
           "Finland"
          ],
          [
           "France"
          ],
          [
           "Germany"
          ],
          [
           "Greece"
          ],
          [
           "Guyana"
          ],
          [
           "Hungary"
          ],
          [
           "Iceland"
          ],
          [
           "Ireland"
          ],
          [
           "Israel"
          ],
          [
           "Italy"
          ],
          [
           "Japan"
          ],
          [
           "Kuwait"
          ],
          [
           "Latvia"
          ],
          [
           "Lithuania"
          ],
          [
           "Luxembourg"
          ],
          [
           "Malta"
          ],
          [
           "Netherlands"
          ],
          [
           "New Zealand"
          ],
          [
           "Norway"
          ],
          [
           "Oman"
          ],
          [
           "Panama"
          ],
          [
           "Poland"
          ],
          [
           "Portugal"
          ],
          [
           "Qatar"
          ],
          [
           "Romania"
          ],
          [
           "Saudi Arabia"
          ],
          [
           "Seychelles"
          ],
          [
           "Singapore"
          ],
          [
           "Slovak Republic"
          ],
          [
           "Slovenia"
          ],
          [
           "South Korea"
          ],
          [
           "Spain"
          ],
          [
           "Sweden"
          ],
          [
           "Switzerland"
          ],
          [
           "United Arab Emirates"
          ],
          [
           "United Kingdom"
          ],
          [
           "United States"
          ],
          [
           "Uruguay"
          ]
         ],
         "hovertemplate": "income_category=%{y}<br>life_expec=%{x}<br>country=%{customdata[0]}<extra></extra>",
         "legendgroup": "High income",
         "marker": {
          "color": "#ab63fa"
         },
         "name": "High income",
         "notched": false,
         "offsetgroup": "High income",
         "orientation": "h",
         "showlegend": true,
         "type": "box",
         "x": {
          "bdata": "MzMzMzMzU0AAAAAAAIBUQAAAAAAAIFRAMzMzMzNzUkAAAAAAAABTQM3MzMzMLFNAAAAAAAAAVEBmZmZmZkZTQDMzMzMzU1RAZmZmZmbGU0AzMzMzMxNTQJqZmZmZ+VNAAAAAAABgU0AAAAAAAOBTQAAAAAAAAFNAAAAAAAAAVECamZmZmVlUQGZmZmZmBlRAmpmZmZkZVEAAAAAAAGBQQAAAAAAAoFJAAAAAAACAVECamZmZmRlUQJqZmZmZWVRAzczMzMxsVEAzMzMzM7NUQM3MzMzMjFNAZmZmZmZGUkDNzMzMzExSQDMzMzMzU1RAMzMzMzMTVEDNzMzMzCxUQJqZmZmZOVRAAAAAAABAVEBmZmZmZgZTQDMzMzMzc1NAMzMzMzMTU0AzMzMzM/NTQAAAAAAA4FNAzczMzMxsUkBmZmZmZsZSQJqZmZmZWVJAzczMzMysVEAAAAAAAOBSQAAAAAAA4FNAZmZmZmYGVECamZmZmXlUQAAAAAAAYFRAzczMzMyMVEAAAAAAACBTQDMzMzMzE1RAzczMzMysU0CamZmZmRlTQA==",
          "dtype": "f8"
         },
         "x0": " ",
         "xaxis": "x",
         "y": [
          "High income",
          "High income",
          "High income",
          "High income",
          "High income",
          "High income",
          "High income",
          "High income",
          "High income",
          "High income",
          "High income",
          "High income",
          "High income",
          "High income",
          "High income",
          "High income",
          "High income",
          "High income",
          "High income",
          "High income",
          "High income",
          "High income",
          "High income",
          "High income",
          "High income",
          "High income",
          "High income",
          "High income",
          "High income",
          "High income",
          "High income",
          "High income",
          "High income",
          "High income",
          "High income",
          "High income",
          "High income",
          "High income",
          "High income",
          "High income",
          "High income",
          "High income",
          "High income",
          "High income",
          "High income",
          "High income",
          "High income",
          "High income",
          "High income",
          "High income",
          "High income",
          "High income",
          "High income"
         ],
         "y0": " ",
         "yaxis": "y"
        }
       ],
       "layout": {
        "boxmode": "overlay",
        "legend": {
         "title": {
          "text": "income_category"
         },
         "tracegroupgap": 0
        },
        "margin": {
         "t": 60
        },
        "template": {
         "data": {
          "bar": [
           {
            "error_x": {
             "color": "#2a3f5f"
            },
            "error_y": {
             "color": "#2a3f5f"
            },
            "marker": {
             "line": {
              "color": "#E5ECF6",
              "width": 0.5
             },
             "pattern": {
              "fillmode": "overlay",
              "size": 10,
              "solidity": 0.2
             }
            },
            "type": "bar"
           }
          ],
          "barpolar": [
           {
            "marker": {
             "line": {
              "color": "#E5ECF6",
              "width": 0.5
             },
             "pattern": {
              "fillmode": "overlay",
              "size": 10,
              "solidity": 0.2
             }
            },
            "type": "barpolar"
           }
          ],
          "carpet": [
           {
            "aaxis": {
             "endlinecolor": "#2a3f5f",
             "gridcolor": "white",
             "linecolor": "white",
             "minorgridcolor": "white",
             "startlinecolor": "#2a3f5f"
            },
            "baxis": {
             "endlinecolor": "#2a3f5f",
             "gridcolor": "white",
             "linecolor": "white",
             "minorgridcolor": "white",
             "startlinecolor": "#2a3f5f"
            },
            "type": "carpet"
           }
          ],
          "choropleth": [
           {
            "colorbar": {
             "outlinewidth": 0,
             "ticks": ""
            },
            "type": "choropleth"
           }
          ],
          "contour": [
           {
            "colorbar": {
             "outlinewidth": 0,
             "ticks": ""
            },
            "colorscale": [
             [
              0,
              "#0d0887"
             ],
             [
              0.1111111111111111,
              "#46039f"
             ],
             [
              0.2222222222222222,
              "#7201a8"
             ],
             [
              0.3333333333333333,
              "#9c179e"
             ],
             [
              0.4444444444444444,
              "#bd3786"
             ],
             [
              0.5555555555555556,
              "#d8576b"
             ],
             [
              0.6666666666666666,
              "#ed7953"
             ],
             [
              0.7777777777777778,
              "#fb9f3a"
             ],
             [
              0.8888888888888888,
              "#fdca26"
             ],
             [
              1,
              "#f0f921"
             ]
            ],
            "type": "contour"
           }
          ],
          "contourcarpet": [
           {
            "colorbar": {
             "outlinewidth": 0,
             "ticks": ""
            },
            "type": "contourcarpet"
           }
          ],
          "heatmap": [
           {
            "colorbar": {
             "outlinewidth": 0,
             "ticks": ""
            },
            "colorscale": [
             [
              0,
              "#0d0887"
             ],
             [
              0.1111111111111111,
              "#46039f"
             ],
             [
              0.2222222222222222,
              "#7201a8"
             ],
             [
              0.3333333333333333,
              "#9c179e"
             ],
             [
              0.4444444444444444,
              "#bd3786"
             ],
             [
              0.5555555555555556,
              "#d8576b"
             ],
             [
              0.6666666666666666,
              "#ed7953"
             ],
             [
              0.7777777777777778,
              "#fb9f3a"
             ],
             [
              0.8888888888888888,
              "#fdca26"
             ],
             [
              1,
              "#f0f921"
             ]
            ],
            "type": "heatmap"
           }
          ],
          "histogram": [
           {
            "marker": {
             "pattern": {
              "fillmode": "overlay",
              "size": 10,
              "solidity": 0.2
             }
            },
            "type": "histogram"
           }
          ],
          "histogram2d": [
           {
            "colorbar": {
             "outlinewidth": 0,
             "ticks": ""
            },
            "colorscale": [
             [
              0,
              "#0d0887"
             ],
             [
              0.1111111111111111,
              "#46039f"
             ],
             [
              0.2222222222222222,
              "#7201a8"
             ],
             [
              0.3333333333333333,
              "#9c179e"
             ],
             [
              0.4444444444444444,
              "#bd3786"
             ],
             [
              0.5555555555555556,
              "#d8576b"
             ],
             [
              0.6666666666666666,
              "#ed7953"
             ],
             [
              0.7777777777777778,
              "#fb9f3a"
             ],
             [
              0.8888888888888888,
              "#fdca26"
             ],
             [
              1,
              "#f0f921"
             ]
            ],
            "type": "histogram2d"
           }
          ],
          "histogram2dcontour": [
           {
            "colorbar": {
             "outlinewidth": 0,
             "ticks": ""
            },
            "colorscale": [
             [
              0,
              "#0d0887"
             ],
             [
              0.1111111111111111,
              "#46039f"
             ],
             [
              0.2222222222222222,
              "#7201a8"
             ],
             [
              0.3333333333333333,
              "#9c179e"
             ],
             [
              0.4444444444444444,
              "#bd3786"
             ],
             [
              0.5555555555555556,
              "#d8576b"
             ],
             [
              0.6666666666666666,
              "#ed7953"
             ],
             [
              0.7777777777777778,
              "#fb9f3a"
             ],
             [
              0.8888888888888888,
              "#fdca26"
             ],
             [
              1,
              "#f0f921"
             ]
            ],
            "type": "histogram2dcontour"
           }
          ],
          "mesh3d": [
           {
            "colorbar": {
             "outlinewidth": 0,
             "ticks": ""
            },
            "type": "mesh3d"
           }
          ],
          "parcoords": [
           {
            "line": {
             "colorbar": {
              "outlinewidth": 0,
              "ticks": ""
             }
            },
            "type": "parcoords"
           }
          ],
          "pie": [
           {
            "automargin": true,
            "type": "pie"
           }
          ],
          "scatter": [
           {
            "fillpattern": {
             "fillmode": "overlay",
             "size": 10,
             "solidity": 0.2
            },
            "type": "scatter"
           }
          ],
          "scatter3d": [
           {
            "line": {
             "colorbar": {
              "outlinewidth": 0,
              "ticks": ""
             }
            },
            "marker": {
             "colorbar": {
              "outlinewidth": 0,
              "ticks": ""
             }
            },
            "type": "scatter3d"
           }
          ],
          "scattercarpet": [
           {
            "marker": {
             "colorbar": {
              "outlinewidth": 0,
              "ticks": ""
             }
            },
            "type": "scattercarpet"
           }
          ],
          "scattergeo": [
           {
            "marker": {
             "colorbar": {
              "outlinewidth": 0,
              "ticks": ""
             }
            },
            "type": "scattergeo"
           }
          ],
          "scattergl": [
           {
            "marker": {
             "colorbar": {
              "outlinewidth": 0,
              "ticks": ""
             }
            },
            "type": "scattergl"
           }
          ],
          "scattermap": [
           {
            "marker": {
             "colorbar": {
              "outlinewidth": 0,
              "ticks": ""
             }
            },
            "type": "scattermap"
           }
          ],
          "scattermapbox": [
           {
            "marker": {
             "colorbar": {
              "outlinewidth": 0,
              "ticks": ""
             }
            },
            "type": "scattermapbox"
           }
          ],
          "scatterpolar": [
           {
            "marker": {
             "colorbar": {
              "outlinewidth": 0,
              "ticks": ""
             }
            },
            "type": "scatterpolar"
           }
          ],
          "scatterpolargl": [
           {
            "marker": {
             "colorbar": {
              "outlinewidth": 0,
              "ticks": ""
             }
            },
            "type": "scatterpolargl"
           }
          ],
          "scatterternary": [
           {
            "marker": {
             "colorbar": {
              "outlinewidth": 0,
              "ticks": ""
             }
            },
            "type": "scatterternary"
           }
          ],
          "surface": [
           {
            "colorbar": {
             "outlinewidth": 0,
             "ticks": ""
            },
            "colorscale": [
             [
              0,
              "#0d0887"
             ],
             [
              0.1111111111111111,
              "#46039f"
             ],
             [
              0.2222222222222222,
              "#7201a8"
             ],
             [
              0.3333333333333333,
              "#9c179e"
             ],
             [
              0.4444444444444444,
              "#bd3786"
             ],
             [
              0.5555555555555556,
              "#d8576b"
             ],
             [
              0.6666666666666666,
              "#ed7953"
             ],
             [
              0.7777777777777778,
              "#fb9f3a"
             ],
             [
              0.8888888888888888,
              "#fdca26"
             ],
             [
              1,
              "#f0f921"
             ]
            ],
            "type": "surface"
           }
          ],
          "table": [
           {
            "cells": {
             "fill": {
              "color": "#EBF0F8"
             },
             "line": {
              "color": "white"
             }
            },
            "header": {
             "fill": {
              "color": "#C8D4E3"
             },
             "line": {
              "color": "white"
             }
            },
            "type": "table"
           }
          ]
         },
         "layout": {
          "annotationdefaults": {
           "arrowcolor": "#2a3f5f",
           "arrowhead": 0,
           "arrowwidth": 1
          },
          "autotypenumbers": "strict",
          "coloraxis": {
           "colorbar": {
            "outlinewidth": 0,
            "ticks": ""
           }
          },
          "colorscale": {
           "diverging": [
            [
             0,
             "#8e0152"
            ],
            [
             0.1,
             "#c51b7d"
            ],
            [
             0.2,
             "#de77ae"
            ],
            [
             0.3,
             "#f1b6da"
            ],
            [
             0.4,
             "#fde0ef"
            ],
            [
             0.5,
             "#f7f7f7"
            ],
            [
             0.6,
             "#e6f5d0"
            ],
            [
             0.7,
             "#b8e186"
            ],
            [
             0.8,
             "#7fbc41"
            ],
            [
             0.9,
             "#4d9221"
            ],
            [
             1,
             "#276419"
            ]
           ],
           "sequential": [
            [
             0,
             "#0d0887"
            ],
            [
             0.1111111111111111,
             "#46039f"
            ],
            [
             0.2222222222222222,
             "#7201a8"
            ],
            [
             0.3333333333333333,
             "#9c179e"
            ],
            [
             0.4444444444444444,
             "#bd3786"
            ],
            [
             0.5555555555555556,
             "#d8576b"
            ],
            [
             0.6666666666666666,
             "#ed7953"
            ],
            [
             0.7777777777777778,
             "#fb9f3a"
            ],
            [
             0.8888888888888888,
             "#fdca26"
            ],
            [
             1,
             "#f0f921"
            ]
           ],
           "sequentialminus": [
            [
             0,
             "#0d0887"
            ],
            [
             0.1111111111111111,
             "#46039f"
            ],
            [
             0.2222222222222222,
             "#7201a8"
            ],
            [
             0.3333333333333333,
             "#9c179e"
            ],
            [
             0.4444444444444444,
             "#bd3786"
            ],
            [
             0.5555555555555556,
             "#d8576b"
            ],
            [
             0.6666666666666666,
             "#ed7953"
            ],
            [
             0.7777777777777778,
             "#fb9f3a"
            ],
            [
             0.8888888888888888,
             "#fdca26"
            ],
            [
             1,
             "#f0f921"
            ]
           ]
          },
          "colorway": [
           "#636efa",
           "#EF553B",
           "#00cc96",
           "#ab63fa",
           "#FFA15A",
           "#19d3f3",
           "#FF6692",
           "#B6E880",
           "#FF97FF",
           "#FECB52"
          ],
          "font": {
           "color": "#2a3f5f"
          },
          "geo": {
           "bgcolor": "white",
           "lakecolor": "white",
           "landcolor": "#E5ECF6",
           "showlakes": true,
           "showland": true,
           "subunitcolor": "white"
          },
          "hoverlabel": {
           "align": "left"
          },
          "hovermode": "closest",
          "mapbox": {
           "style": "light"
          },
          "paper_bgcolor": "white",
          "plot_bgcolor": "#E5ECF6",
          "polar": {
           "angularaxis": {
            "gridcolor": "white",
            "linecolor": "white",
            "ticks": ""
           },
           "bgcolor": "#E5ECF6",
           "radialaxis": {
            "gridcolor": "white",
            "linecolor": "white",
            "ticks": ""
           }
          },
          "scene": {
           "xaxis": {
            "backgroundcolor": "#E5ECF6",
            "gridcolor": "white",
            "gridwidth": 2,
            "linecolor": "white",
            "showbackground": true,
            "ticks": "",
            "zerolinecolor": "white"
           },
           "yaxis": {
            "backgroundcolor": "#E5ECF6",
            "gridcolor": "white",
            "gridwidth": 2,
            "linecolor": "white",
            "showbackground": true,
            "ticks": "",
            "zerolinecolor": "white"
           },
           "zaxis": {
            "backgroundcolor": "#E5ECF6",
            "gridcolor": "white",
            "gridwidth": 2,
            "linecolor": "white",
            "showbackground": true,
            "ticks": "",
            "zerolinecolor": "white"
           }
          },
          "shapedefaults": {
           "line": {
            "color": "#2a3f5f"
           }
          },
          "ternary": {
           "aaxis": {
            "gridcolor": "white",
            "linecolor": "white",
            "ticks": ""
           },
           "baxis": {
            "gridcolor": "white",
            "linecolor": "white",
            "ticks": ""
           },
           "bgcolor": "#E5ECF6",
           "caxis": {
            "gridcolor": "white",
            "linecolor": "white",
            "ticks": ""
           }
          },
          "title": {
           "x": 0.05
          },
          "xaxis": {
           "automargin": true,
           "gridcolor": "white",
           "linecolor": "white",
           "ticks": "",
           "title": {
            "standoff": 15
           },
           "zerolinecolor": "white",
           "zerolinewidth": 2
          },
          "yaxis": {
           "automargin": true,
           "gridcolor": "white",
           "linecolor": "white",
           "ticks": "",
           "title": {
            "standoff": 15
           },
           "zerolinecolor": "white",
           "zerolinewidth": 2
          }
         }
        },
        "xaxis": {
         "anchor": "y",
         "domain": [
          0,
          1
         ],
         "title": {
          "text": "life_expec"
         }
        },
        "yaxis": {
         "anchor": "x",
         "categoryarray": [
          "High income",
          "Lower middle income",
          "Upper middle income",
          "Low income"
         ],
         "categoryorder": "array",
         "domain": [
          0,
          1
         ],
         "title": {
          "text": "income_category"
         }
        }
       }
      }
     },
     "metadata": {},
     "output_type": "display_data"
    }
   ],
   "source": [
    "#plot de distribuição (BoxPlot) por income e income_category\n",
    "px.box(df_countries, x='life_expec', y='income_category', color='income_category', orientation='h', hover_data=['country'])"
   ]
  },
  {
   "cell_type": "code",
   "execution_count": 18,
   "id": "b0ae32b3",
   "metadata": {},
   "outputs": [
    {
     "data": {
      "application/vnd.plotly.v1+json": {
       "config": {
        "plotlyServerURL": "https://plot.ly"
       },
       "data": [
        {
         "customdata": [
          [
           "Afghanistan"
          ],
          [
           "Burkina Faso"
          ],
          [
           "Burundi"
          ],
          [
           "Central African Republic"
          ],
          [
           "Chad"
          ],
          [
           "Congo Dem. Rep."
          ],
          [
           "Eritrea"
          ],
          [
           "Gambia"
          ],
          [
           "Guinea-Bissau"
          ],
          [
           "Liberia"
          ],
          [
           "Madagascar"
          ],
          [
           "Malawi"
          ],
          [
           "Mali"
          ],
          [
           "Mozambique"
          ],
          [
           "Niger"
          ],
          [
           "Rwanda"
          ],
          [
           "Sierra Leone"
          ],
          [
           "Sudan"
          ],
          [
           "Togo"
          ],
          [
           "Uganda"
          ],
          [
           "Yemen"
          ]
         ],
         "hovertemplate": "income_category=Low income<br>income=%{x}<br>gdpp=%{y}<br>country=%{customdata[0]}<extra></extra>",
         "legendgroup": "Low income",
         "marker": {
          "color": "#636efa",
          "symbol": "circle"
         },
         "mode": "markers",
         "name": "Low income",
         "orientation": "v",
         "showlegend": true,
         "type": "scatter",
         "x": {
          "bdata": "SgaWBfwCeAOKB2ECjAV8Bm4FvAJuBQYETgeWAy4DRgXEBCoNugQEBoAR",
          "dtype": "i2"
         },
         "xaxis": "x",
         "y": {
          "bdata": "KQI/AucAvgGBA04B4gEyAiMCRwGdAcsBxAKjAVwBMwKPAcgF6AFTAh4F",
          "dtype": "i2"
         },
         "yaxis": "y"
        },
        {
         "customdata": [
          [
           "Albania"
          ],
          [
           "Argentina"
          ],
          [
           "Armenia"
          ],
          [
           "Azerbaijan"
          ],
          [
           "Belarus"
          ],
          [
           "Belize"
          ],
          [
           "Bosnia and Herzegovina"
          ],
          [
           "Botswana"
          ],
          [
           "Brazil"
          ],
          [
           "Bulgaria"
          ],
          [
           "China"
          ],
          [
           "Colombia"
          ],
          [
           "Costa Rica"
          ],
          [
           "Dominican Republic"
          ],
          [
           "Ecuador"
          ],
          [
           "El Salvador"
          ],
          [
           "Equatorial Guinea"
          ],
          [
           "Fiji"
          ],
          [
           "Gabon"
          ],
          [
           "Georgia"
          ],
          [
           "Grenada"
          ],
          [
           "Guatemala"
          ],
          [
           "Indonesia"
          ],
          [
           "Iraq"
          ],
          [
           "Jamaica"
          ],
          [
           "Kazakhstan"
          ],
          [
           "Libya"
          ],
          [
           "Malaysia"
          ],
          [
           "Maldives"
          ],
          [
           "Mauritius"
          ],
          [
           "Moldova"
          ],
          [
           "Montenegro"
          ],
          [
           "Namibia"
          ],
          [
           "Paraguay"
          ],
          [
           "Peru"
          ],
          [
           "Russia"
          ],
          [
           "Serbia"
          ],
          [
           "South Africa"
          ],
          [
           "St. Vincent and the Grenadines"
          ],
          [
           "Suriname"
          ],
          [
           "Thailand"
          ],
          [
           "Tonga"
          ],
          [
           "Turkey"
          ],
          [
           "Turkmenistan"
          ]
         ],
         "hovertemplate": "income_category=Upper middle income<br>income=%{x}<br>gdpp=%{y}<br>country=%{customdata[0]}<extra></extra>",
         "legendgroup": "Upper middle income",
         "marker": {
          "color": "#EF553B",
          "symbol": "circle"
         },
         "mode": "markers",
         "name": "Upper middle income",
         "orientation": "v",
         "showlegend": true,
         "type": "scatter",
         "x": {
          "bdata": "yiYAAAxJAAAsGgAAgD4AAEg/AADIHgAA+CUAAPQzAACkOAAAxDsAADolAACUKgAAyDIAAFwrAACGJAAAhBwAAKSDAAC2HAAAKDwAAEoaAADAKwAANhoAAO4gAACcMQAAQB8AAIROAACgcwAAbFIAAAQpAAAcPgAARg8AALA2AAAMIQAAehwAAOgmAAA8WgAAnDEAAOAuAADAJgAAeDcAALw0AAB0EwAAUEYAANQmAAA=",
          "dtype": "i4"
         },
         "xaxis": "x",
         "y": {
          "bdata": "+g88KJQM0BaOF/QQAhLOGMAruBrQEWoYCCBKFTQSrgvMQkIOLiKQC8ocDgsmDJQRSBJuI0QvbiO8G0AfXgYYGkYUngycE8wpIhVwHFYYbCDYE94NzClYEQ==",
          "dtype": "i2"
         },
         "yaxis": "y"
        },
        {
         "customdata": [
          [
           "Algeria"
          ],
          [
           "Angola"
          ],
          [
           "Bangladesh"
          ],
          [
           "Benin"
          ],
          [
           "Bhutan"
          ],
          [
           "Bolivia"
          ],
          [
           "Cambodia"
          ],
          [
           "Cameroon"
          ],
          [
           "Cape Verde"
          ],
          [
           "Comoros"
          ],
          [
           "Congo Rep."
          ],
          [
           "Cote d'Ivoire"
          ],
          [
           "Egypt"
          ],
          [
           "Ghana"
          ],
          [
           "Guinea"
          ],
          [
           "Haiti"
          ],
          [
           "India"
          ],
          [
           "Iran"
          ],
          [
           "Jordan"
          ],
          [
           "Kenya"
          ],
          [
           "Kiribati"
          ],
          [
           "Kyrgyz Republic"
          ],
          [
           "Lao"
          ],
          [
           "Lebanon"
          ],
          [
           "Lesotho"
          ],
          [
           "Mauritania"
          ],
          [
           "Micronesia"
          ],
          [
           "Mongolia"
          ],
          [
           "Morocco"
          ],
          [
           "Myanmar"
          ],
          [
           "Nepal"
          ],
          [
           "Nigeria"
          ],
          [
           "Pakistan"
          ],
          [
           "Philippines"
          ],
          [
           "Samoa"
          ],
          [
           "Senegal"
          ],
          [
           "Solomon Islands"
          ],
          [
           "Sri Lanka"
          ],
          [
           "Tajikistan"
          ],
          [
           "Tanzania"
          ],
          [
           "Timor-Leste"
          ],
          [
           "Tunisia"
          ],
          [
           "Ukraine"
          ],
          [
           "Uzbekistan"
          ],
          [
           "Vanuatu"
          ],
          [
           "Vietnam"
          ],
          [
           "Zambia"
          ]
         ],
         "hovertemplate": "income_category=Lower middle income<br>income=%{x}<br>gdpp=%{y}<br>country=%{customdata[0]}<extra></extra>",
         "legendgroup": "Lower middle income",
         "marker": {
          "color": "#00cc96",
          "symbol": "circle"
         },
         "mode": "markers",
         "name": "Lower middle income",
         "orientation": "v",
         "showlegend": true,
         "type": "scatter",
         "x": {
          "bdata": "ZDIMF4gJHAcUGSIV2AlkCsYWggVGFIIKhCb0C6YE3AU6EfhD/iSwCcIG5gqMD6w/TAn4DAwNHh4oGYgOxgceFLgQ4BUYFYQI9AZwIT4IKgg6B6AojB6QEIYLihHQDA==",
          "dtype": "i2"
         },
         "xaxis": "x",
         "y": {
          "bdata": "bBHKDfYC9gKECLwHEgMeBe4MAQO0CsQEKAoeBYgClgJGBYIZYA7HA9IFcAN0BJwikgSwBCwLWgoOC9wDUAIaCRAEUgh6DegDCgX6CuICvgIQDiwQmgtkBZoLHgW0BQ==",
          "dtype": "i2"
         },
         "yaxis": "y"
        },
        {
         "customdata": [
          [
           "Antigua and Barbuda"
          ],
          [
           "Australia"
          ],
          [
           "Austria"
          ],
          [
           "Bahamas"
          ],
          [
           "Bahrain"
          ],
          [
           "Barbados"
          ],
          [
           "Belgium"
          ],
          [
           "Brunei"
          ],
          [
           "Canada"
          ],
          [
           "Chile"
          ],
          [
           "Croatia"
          ],
          [
           "Cyprus"
          ],
          [
           "Czech Republic"
          ],
          [
           "Denmark"
          ],
          [
           "Estonia"
          ],
          [
           "Finland"
          ],
          [
           "France"
          ],
          [
           "Germany"
          ],
          [
           "Greece"
          ],
          [
           "Guyana"
          ],
          [
           "Hungary"
          ],
          [
           "Iceland"
          ],
          [
           "Ireland"
          ],
          [
           "Israel"
          ],
          [
           "Italy"
          ],
          [
           "Japan"
          ],
          [
           "Kuwait"
          ],
          [
           "Latvia"
          ],
          [
           "Lithuania"
          ],
          [
           "Luxembourg"
          ],
          [
           "Malta"
          ],
          [
           "Netherlands"
          ],
          [
           "New Zealand"
          ],
          [
           "Norway"
          ],
          [
           "Oman"
          ],
          [
           "Panama"
          ],
          [
           "Poland"
          ],
          [
           "Portugal"
          ],
          [
           "Qatar"
          ],
          [
           "Romania"
          ],
          [
           "Saudi Arabia"
          ],
          [
           "Seychelles"
          ],
          [
           "Singapore"
          ],
          [
           "Slovak Republic"
          ],
          [
           "Slovenia"
          ],
          [
           "South Korea"
          ],
          [
           "Spain"
          ],
          [
           "Sweden"
          ],
          [
           "Switzerland"
          ],
          [
           "United Arab Emirates"
          ],
          [
           "United Kingdom"
          ],
          [
           "United States"
          ],
          [
           "Uruguay"
          ]
         ],
         "hovertemplate": "income_category=High income<br>income=%{x}<br>gdpp=%{y}<br>country=%{customdata[0]}<extra></extra>",
         "legendgroup": "High income",
         "marker": {
          "color": "#ab63fa",
          "symbol": "circle"
         },
         "mode": "markers",
         "name": "High income",
         "orientation": "v",
         "showlegend": true,
         "type": "scatter",
         "x": {
          "bdata": "nEoAALihAADAqAAAdFkAAIygAADEOwAAjKAAANg6AQD8ngAAyEsAAIROAABshAAAjG4AAOCrAACsWAAAeJsAACSQAADQnQAAHHAAANAWAAAcVwAAkJcAAISyAACgcwAAaI0AANiLAADAJQEAfEcAAGxSAAA0ZgEAjG4AALyxAAAsfgAAXPMAAPSwAAAoPAAAKFUAAEBqAABI6AEAiEUAAFixAACwTwAApBkBAHBiAAAccAAAwHYAAPR+AACUpwAAzNgAAADhAABojQAA+MAAAMxCAAA=",
          "dtype": "i4"
         },
         "xaxis": "x",
         "y": {
          "bdata": "qC8AALzKAAA0twAAYG0AANxQAACAPgAAcK0AAOSJAAAouQAAZDIAALw0AABQeAAAWE0AAJDiAAAIOQAAeLQAAJieAABIowAAFGkAAOALAAAsMwAArKMAADy+AACIdwAA2IsAANStAABklgAAJCwAAOAuAAAomgEAbFIAAHzEAACkgwAA+FYBAGRLAACQHwAAODEAAORXAACcEgEAJiAAAGRLAAAwKgAACLYAANhAAABoWwAAVFYAAOx3AACEywAAaCMBALiIAAD0lwAAEL0AAHwuAAA=",
          "dtype": "i4"
         },
         "yaxis": "y"
        }
       ],
       "layout": {
        "legend": {
         "title": {
          "text": "income_category"
         },
         "tracegroupgap": 0
        },
        "margin": {
         "t": 60
        },
        "template": {
         "data": {
          "bar": [
           {
            "error_x": {
             "color": "#2a3f5f"
            },
            "error_y": {
             "color": "#2a3f5f"
            },
            "marker": {
             "line": {
              "color": "#E5ECF6",
              "width": 0.5
             },
             "pattern": {
              "fillmode": "overlay",
              "size": 10,
              "solidity": 0.2
             }
            },
            "type": "bar"
           }
          ],
          "barpolar": [
           {
            "marker": {
             "line": {
              "color": "#E5ECF6",
              "width": 0.5
             },
             "pattern": {
              "fillmode": "overlay",
              "size": 10,
              "solidity": 0.2
             }
            },
            "type": "barpolar"
           }
          ],
          "carpet": [
           {
            "aaxis": {
             "endlinecolor": "#2a3f5f",
             "gridcolor": "white",
             "linecolor": "white",
             "minorgridcolor": "white",
             "startlinecolor": "#2a3f5f"
            },
            "baxis": {
             "endlinecolor": "#2a3f5f",
             "gridcolor": "white",
             "linecolor": "white",
             "minorgridcolor": "white",
             "startlinecolor": "#2a3f5f"
            },
            "type": "carpet"
           }
          ],
          "choropleth": [
           {
            "colorbar": {
             "outlinewidth": 0,
             "ticks": ""
            },
            "type": "choropleth"
           }
          ],
          "contour": [
           {
            "colorbar": {
             "outlinewidth": 0,
             "ticks": ""
            },
            "colorscale": [
             [
              0,
              "#0d0887"
             ],
             [
              0.1111111111111111,
              "#46039f"
             ],
             [
              0.2222222222222222,
              "#7201a8"
             ],
             [
              0.3333333333333333,
              "#9c179e"
             ],
             [
              0.4444444444444444,
              "#bd3786"
             ],
             [
              0.5555555555555556,
              "#d8576b"
             ],
             [
              0.6666666666666666,
              "#ed7953"
             ],
             [
              0.7777777777777778,
              "#fb9f3a"
             ],
             [
              0.8888888888888888,
              "#fdca26"
             ],
             [
              1,
              "#f0f921"
             ]
            ],
            "type": "contour"
           }
          ],
          "contourcarpet": [
           {
            "colorbar": {
             "outlinewidth": 0,
             "ticks": ""
            },
            "type": "contourcarpet"
           }
          ],
          "heatmap": [
           {
            "colorbar": {
             "outlinewidth": 0,
             "ticks": ""
            },
            "colorscale": [
             [
              0,
              "#0d0887"
             ],
             [
              0.1111111111111111,
              "#46039f"
             ],
             [
              0.2222222222222222,
              "#7201a8"
             ],
             [
              0.3333333333333333,
              "#9c179e"
             ],
             [
              0.4444444444444444,
              "#bd3786"
             ],
             [
              0.5555555555555556,
              "#d8576b"
             ],
             [
              0.6666666666666666,
              "#ed7953"
             ],
             [
              0.7777777777777778,
              "#fb9f3a"
             ],
             [
              0.8888888888888888,
              "#fdca26"
             ],
             [
              1,
              "#f0f921"
             ]
            ],
            "type": "heatmap"
           }
          ],
          "histogram": [
           {
            "marker": {
             "pattern": {
              "fillmode": "overlay",
              "size": 10,
              "solidity": 0.2
             }
            },
            "type": "histogram"
           }
          ],
          "histogram2d": [
           {
            "colorbar": {
             "outlinewidth": 0,
             "ticks": ""
            },
            "colorscale": [
             [
              0,
              "#0d0887"
             ],
             [
              0.1111111111111111,
              "#46039f"
             ],
             [
              0.2222222222222222,
              "#7201a8"
             ],
             [
              0.3333333333333333,
              "#9c179e"
             ],
             [
              0.4444444444444444,
              "#bd3786"
             ],
             [
              0.5555555555555556,
              "#d8576b"
             ],
             [
              0.6666666666666666,
              "#ed7953"
             ],
             [
              0.7777777777777778,
              "#fb9f3a"
             ],
             [
              0.8888888888888888,
              "#fdca26"
             ],
             [
              1,
              "#f0f921"
             ]
            ],
            "type": "histogram2d"
           }
          ],
          "histogram2dcontour": [
           {
            "colorbar": {
             "outlinewidth": 0,
             "ticks": ""
            },
            "colorscale": [
             [
              0,
              "#0d0887"
             ],
             [
              0.1111111111111111,
              "#46039f"
             ],
             [
              0.2222222222222222,
              "#7201a8"
             ],
             [
              0.3333333333333333,
              "#9c179e"
             ],
             [
              0.4444444444444444,
              "#bd3786"
             ],
             [
              0.5555555555555556,
              "#d8576b"
             ],
             [
              0.6666666666666666,
              "#ed7953"
             ],
             [
              0.7777777777777778,
              "#fb9f3a"
             ],
             [
              0.8888888888888888,
              "#fdca26"
             ],
             [
              1,
              "#f0f921"
             ]
            ],
            "type": "histogram2dcontour"
           }
          ],
          "mesh3d": [
           {
            "colorbar": {
             "outlinewidth": 0,
             "ticks": ""
            },
            "type": "mesh3d"
           }
          ],
          "parcoords": [
           {
            "line": {
             "colorbar": {
              "outlinewidth": 0,
              "ticks": ""
             }
            },
            "type": "parcoords"
           }
          ],
          "pie": [
           {
            "automargin": true,
            "type": "pie"
           }
          ],
          "scatter": [
           {
            "fillpattern": {
             "fillmode": "overlay",
             "size": 10,
             "solidity": 0.2
            },
            "type": "scatter"
           }
          ],
          "scatter3d": [
           {
            "line": {
             "colorbar": {
              "outlinewidth": 0,
              "ticks": ""
             }
            },
            "marker": {
             "colorbar": {
              "outlinewidth": 0,
              "ticks": ""
             }
            },
            "type": "scatter3d"
           }
          ],
          "scattercarpet": [
           {
            "marker": {
             "colorbar": {
              "outlinewidth": 0,
              "ticks": ""
             }
            },
            "type": "scattercarpet"
           }
          ],
          "scattergeo": [
           {
            "marker": {
             "colorbar": {
              "outlinewidth": 0,
              "ticks": ""
             }
            },
            "type": "scattergeo"
           }
          ],
          "scattergl": [
           {
            "marker": {
             "colorbar": {
              "outlinewidth": 0,
              "ticks": ""
             }
            },
            "type": "scattergl"
           }
          ],
          "scattermap": [
           {
            "marker": {
             "colorbar": {
              "outlinewidth": 0,
              "ticks": ""
             }
            },
            "type": "scattermap"
           }
          ],
          "scattermapbox": [
           {
            "marker": {
             "colorbar": {
              "outlinewidth": 0,
              "ticks": ""
             }
            },
            "type": "scattermapbox"
           }
          ],
          "scatterpolar": [
           {
            "marker": {
             "colorbar": {
              "outlinewidth": 0,
              "ticks": ""
             }
            },
            "type": "scatterpolar"
           }
          ],
          "scatterpolargl": [
           {
            "marker": {
             "colorbar": {
              "outlinewidth": 0,
              "ticks": ""
             }
            },
            "type": "scatterpolargl"
           }
          ],
          "scatterternary": [
           {
            "marker": {
             "colorbar": {
              "outlinewidth": 0,
              "ticks": ""
             }
            },
            "type": "scatterternary"
           }
          ],
          "surface": [
           {
            "colorbar": {
             "outlinewidth": 0,
             "ticks": ""
            },
            "colorscale": [
             [
              0,
              "#0d0887"
             ],
             [
              0.1111111111111111,
              "#46039f"
             ],
             [
              0.2222222222222222,
              "#7201a8"
             ],
             [
              0.3333333333333333,
              "#9c179e"
             ],
             [
              0.4444444444444444,
              "#bd3786"
             ],
             [
              0.5555555555555556,
              "#d8576b"
             ],
             [
              0.6666666666666666,
              "#ed7953"
             ],
             [
              0.7777777777777778,
              "#fb9f3a"
             ],
             [
              0.8888888888888888,
              "#fdca26"
             ],
             [
              1,
              "#f0f921"
             ]
            ],
            "type": "surface"
           }
          ],
          "table": [
           {
            "cells": {
             "fill": {
              "color": "#EBF0F8"
             },
             "line": {
              "color": "white"
             }
            },
            "header": {
             "fill": {
              "color": "#C8D4E3"
             },
             "line": {
              "color": "white"
             }
            },
            "type": "table"
           }
          ]
         },
         "layout": {
          "annotationdefaults": {
           "arrowcolor": "#2a3f5f",
           "arrowhead": 0,
           "arrowwidth": 1
          },
          "autotypenumbers": "strict",
          "coloraxis": {
           "colorbar": {
            "outlinewidth": 0,
            "ticks": ""
           }
          },
          "colorscale": {
           "diverging": [
            [
             0,
             "#8e0152"
            ],
            [
             0.1,
             "#c51b7d"
            ],
            [
             0.2,
             "#de77ae"
            ],
            [
             0.3,
             "#f1b6da"
            ],
            [
             0.4,
             "#fde0ef"
            ],
            [
             0.5,
             "#f7f7f7"
            ],
            [
             0.6,
             "#e6f5d0"
            ],
            [
             0.7,
             "#b8e186"
            ],
            [
             0.8,
             "#7fbc41"
            ],
            [
             0.9,
             "#4d9221"
            ],
            [
             1,
             "#276419"
            ]
           ],
           "sequential": [
            [
             0,
             "#0d0887"
            ],
            [
             0.1111111111111111,
             "#46039f"
            ],
            [
             0.2222222222222222,
             "#7201a8"
            ],
            [
             0.3333333333333333,
             "#9c179e"
            ],
            [
             0.4444444444444444,
             "#bd3786"
            ],
            [
             0.5555555555555556,
             "#d8576b"
            ],
            [
             0.6666666666666666,
             "#ed7953"
            ],
            [
             0.7777777777777778,
             "#fb9f3a"
            ],
            [
             0.8888888888888888,
             "#fdca26"
            ],
            [
             1,
             "#f0f921"
            ]
           ],
           "sequentialminus": [
            [
             0,
             "#0d0887"
            ],
            [
             0.1111111111111111,
             "#46039f"
            ],
            [
             0.2222222222222222,
             "#7201a8"
            ],
            [
             0.3333333333333333,
             "#9c179e"
            ],
            [
             0.4444444444444444,
             "#bd3786"
            ],
            [
             0.5555555555555556,
             "#d8576b"
            ],
            [
             0.6666666666666666,
             "#ed7953"
            ],
            [
             0.7777777777777778,
             "#fb9f3a"
            ],
            [
             0.8888888888888888,
             "#fdca26"
            ],
            [
             1,
             "#f0f921"
            ]
           ]
          },
          "colorway": [
           "#636efa",
           "#EF553B",
           "#00cc96",
           "#ab63fa",
           "#FFA15A",
           "#19d3f3",
           "#FF6692",
           "#B6E880",
           "#FF97FF",
           "#FECB52"
          ],
          "font": {
           "color": "#2a3f5f"
          },
          "geo": {
           "bgcolor": "white",
           "lakecolor": "white",
           "landcolor": "#E5ECF6",
           "showlakes": true,
           "showland": true,
           "subunitcolor": "white"
          },
          "hoverlabel": {
           "align": "left"
          },
          "hovermode": "closest",
          "mapbox": {
           "style": "light"
          },
          "paper_bgcolor": "white",
          "plot_bgcolor": "#E5ECF6",
          "polar": {
           "angularaxis": {
            "gridcolor": "white",
            "linecolor": "white",
            "ticks": ""
           },
           "bgcolor": "#E5ECF6",
           "radialaxis": {
            "gridcolor": "white",
            "linecolor": "white",
            "ticks": ""
           }
          },
          "scene": {
           "xaxis": {
            "backgroundcolor": "#E5ECF6",
            "gridcolor": "white",
            "gridwidth": 2,
            "linecolor": "white",
            "showbackground": true,
            "ticks": "",
            "zerolinecolor": "white"
           },
           "yaxis": {
            "backgroundcolor": "#E5ECF6",
            "gridcolor": "white",
            "gridwidth": 2,
            "linecolor": "white",
            "showbackground": true,
            "ticks": "",
            "zerolinecolor": "white"
           },
           "zaxis": {
            "backgroundcolor": "#E5ECF6",
            "gridcolor": "white",
            "gridwidth": 2,
            "linecolor": "white",
            "showbackground": true,
            "ticks": "",
            "zerolinecolor": "white"
           }
          },
          "shapedefaults": {
           "line": {
            "color": "#2a3f5f"
           }
          },
          "ternary": {
           "aaxis": {
            "gridcolor": "white",
            "linecolor": "white",
            "ticks": ""
           },
           "baxis": {
            "gridcolor": "white",
            "linecolor": "white",
            "ticks": ""
           },
           "bgcolor": "#E5ECF6",
           "caxis": {
            "gridcolor": "white",
            "linecolor": "white",
            "ticks": ""
           }
          },
          "title": {
           "x": 0.05
          },
          "xaxis": {
           "automargin": true,
           "gridcolor": "white",
           "linecolor": "white",
           "ticks": "",
           "title": {
            "standoff": 15
           },
           "zerolinecolor": "white",
           "zerolinewidth": 2
          },
          "yaxis": {
           "automargin": true,
           "gridcolor": "white",
           "linecolor": "white",
           "ticks": "",
           "title": {
            "standoff": 15
           },
           "zerolinecolor": "white",
           "zerolinewidth": 2
          }
         }
        },
        "xaxis": {
         "anchor": "y",
         "domain": [
          0,
          1
         ],
         "title": {
          "text": "income"
         }
        },
        "yaxis": {
         "anchor": "x",
         "domain": [
          0,
          1
         ],
         "title": {
          "text": "gdpp"
         }
        }
       }
      }
     },
     "metadata": {},
     "output_type": "display_data"
    }
   ],
   "source": [
    "#scatterplot de income e gdpp\n",
    "px.scatter(df_countries, x='income', y='gdpp', color='income_category', hover_data='country')"
   ]
  },
  {
   "cell_type": "code",
   "execution_count": 19,
   "id": "93976695",
   "metadata": {},
   "outputs": [],
   "source": [
    "# gerar matriz correlação\n",
    "matriz_correlacao_countries = df_countries.corr(numeric_only=True)"
   ]
  },
  {
   "cell_type": "code",
   "execution_count": 20,
   "id": "c5f9794c",
   "metadata": {},
   "outputs": [
    {
     "data": {
      "text/plain": [
       "<Axes: >"
      ]
     },
     "execution_count": 20,
     "metadata": {},
     "output_type": "execute_result"
    },
    {
     "data": {
      "image/png": "[encoded data removed]",
      "text/plain": [
       "<Figure size 640x480 with 2 Axes>"
      ]
     },
     "metadata": {},
     "output_type": "display_data"
    }
   ],
   "source": [
    "#Plotar matriz de correlação\n",
    "sns.heatmap(matriz_correlacao_countries, vmin=-1, vmax=1, annot=True)"
   ]
  },
  {
   "cell_type": "markdown",
   "id": "a14e6259",
   "metadata": {},
   "source": [
    "### Treinar PCA\n"
   ]
  },
  {
   "cell_type": "code",
   "execution_count": 22,
   "id": "85052b0e",
   "metadata": {},
   "outputs": [],
   "source": [
    "#selecionar as colunas para pca\n",
    "X = df_countries.copy()\n",
    "\n",
    "#remover colunas\n",
    "X.drop(columns=['country', 'income_category'], axis=1, inplace=True)"
   ]
  },
  {
   "cell_type": "code",
   "execution_count": 26,
   "id": "acfd8002",
   "metadata": {},
   "outputs": [],
   "source": [
    "#separar variaveis numericas\n",
    "numeric_features = ['child_mort', 'exports', 'health', 'imports', 'income', 'inflation', 'life_expec', 'total_fer', 'gdpp' ]"
   ]
  },
  {
   "cell_type": "code",
   "execution_count": 25,
   "id": "5cf7d541",
   "metadata": {},
   "outputs": [],
   "source": [
    "#definir tranformações\n",
    "numeric_trans = StandardScaler()"
   ]
  },
  {
   "cell_type": "code",
   "execution_count": 27,
   "id": "1dc268fb",
   "metadata": {},
   "outputs": [],
   "source": [
    "#criar preprocessor de transformação\n",
    "preprocessor = ColumnTransformer(\n",
    "    transformers=[\n",
    "        ('num', numeric_trans, numeric_features)\n",
    "    ]\n",
    ")"
   ]
  },
  {
   "cell_type": "code",
   "execution_count": 28,
   "id": "cbc5f9c7",
   "metadata": {},
   "outputs": [],
   "source": [
    "X_transformed = preprocessor.fit_transform(X)"
   ]
  },
  {
   "cell_type": "code",
   "execution_count": 29,
   "id": "c1d3ba93",
   "metadata": {},
   "outputs": [
    {
     "data": {
      "text/plain": [
       "array([[ 1.27936799, -1.13524796,  0.2742313 , ..., -1.6059239 ,\n",
       "         1.88970656, -0.67813658],\n",
       "       [-0.54431031, -0.48015711, -0.10017109, ...,  0.65049307,\n",
       "        -0.86538974, -0.48561903],\n",
       "       [-0.27918316, -0.10166017, -0.96529507, ...,  0.67294498,\n",
       "        -0.04612849, -0.46548008],\n",
       "       ...,\n",
       "       [-0.37829611,  1.12117608,  0.00524318, ...,  0.29126251,\n",
       "        -0.66718138, -0.63693336],\n",
       "       [ 0.43938573, -0.40736924, -0.59816262, ..., -0.33739098,\n",
       "         1.12990782, -0.63693336],\n",
       "       [ 1.1034425 , -0.15261168, -0.34007942, ..., -2.07741401,\n",
       "         1.61221484, -0.62876892]])"
      ]
     },
     "execution_count": 29,
     "metadata": {},
     "output_type": "execute_result"
    }
   ],
   "source": [
    "X_transformed"
   ]
  },
  {
   "cell_type": "code",
   "execution_count": 30,
   "id": "f2b69072",
   "metadata": {},
   "outputs": [
    {
     "data": {
      "text/plain": [
       "array([[ 1.28101845, -0.30929073, -0.13299078, ..., -0.31162981,\n",
       "         0.6038062 ,  1.11986219],\n",
       "       [-0.30929073,  0.19023088,  0.05718309, ...,  0.14855132,\n",
       "        -0.14287309, -0.40453184],\n",
       "       [-0.13299078,  0.05718309,  0.3368898 , ...,  0.03260987,\n",
       "         0.28911912, -0.02412952],\n",
       "       ...,\n",
       "       [-0.31162981,  0.14855132,  0.03260987, ...,  0.5954005 ,\n",
       "        -0.08211639, -0.23881978],\n",
       "       [ 0.6038062 , -0.14287309,  0.28911912, ..., -0.08211639,\n",
       "         0.71221987,  0.6856765 ],\n",
       "       [ 1.11986219, -0.40453184, -0.02412952, ..., -0.23881978,\n",
       "         0.6856765 ,  1.231984  ]])"
      ]
     },
     "execution_count": 30,
     "metadata": {},
     "output_type": "execute_result"
    }
   ],
   "source": [
    "#matriz de covariancia\n",
    "np.cov(X_transformed)"
   ]
  },
  {
   "cell_type": "code",
   "execution_count": 31,
   "id": "c7273841",
   "metadata": {},
   "outputs": [],
   "source": [
    "# Criar modelo PCA\n",
    "modelo_pca = PCA(n_components=3)"
   ]
  },
  {
   "cell_type": "code",
   "execution_count": 32,
   "id": "23fdef93",
   "metadata": {},
   "outputs": [],
   "source": [
    "#executar pca\n",
    "X_pca = modelo_pca.fit_transform(X_transformed)"
   ]
  },
  {
   "cell_type": "code",
   "execution_count": 33,
   "id": "72a96985",
   "metadata": {},
   "outputs": [],
   "source": [
    "#gerar um df com base nos components principais\n",
    "df_pca = pd.DataFrame(X_pca, columns=['PC1', 'PC2', 'PC3'])"
   ]
  },
  {
   "cell_type": "code",
   "execution_count": 34,
   "id": "9f2e5e96",
   "metadata": {},
   "outputs": [
    {
     "data": {
      "text/html": [
       "<div>\n",
       "<style scoped>\n",
       "    .dataframe tbody tr th:only-of-type {\n",
       "        vertical-align: middle;\n",
       "    }\n",
       "\n",
       "    .dataframe tbody tr th {\n",
       "        vertical-align: top;\n",
       "    }\n",
       "\n",
       "    .dataframe thead th {\n",
       "        text-align: right;\n",
       "    }\n",
       "</style>\n",
       "<table border=\"1\" class=\"dataframe\">\n",
       "  <thead>\n",
       "    <tr style=\"text-align: right;\">\n",
       "      <th></th>\n",
       "      <th>PC1</th>\n",
       "      <th>PC2</th>\n",
       "      <th>PC3</th>\n",
       "    </tr>\n",
       "  </thead>\n",
       "  <tbody>\n",
       "    <tr>\n",
       "      <th>0</th>\n",
       "      <td>-2.898491</td>\n",
       "      <td>0.043830</td>\n",
       "      <td>-0.674704</td>\n",
       "    </tr>\n",
       "    <tr>\n",
       "      <th>1</th>\n",
       "      <td>0.435969</td>\n",
       "      <td>-0.602095</td>\n",
       "      <td>-0.336181</td>\n",
       "    </tr>\n",
       "    <tr>\n",
       "      <th>2</th>\n",
       "      <td>-0.294489</td>\n",
       "      <td>-0.393013</td>\n",
       "      <td>1.237849</td>\n",
       "    </tr>\n",
       "    <tr>\n",
       "      <th>3</th>\n",
       "      <td>-2.941128</td>\n",
       "      <td>1.746346</td>\n",
       "      <td>1.498419</td>\n",
       "    </tr>\n",
       "    <tr>\n",
       "      <th>4</th>\n",
       "      <td>1.038913</td>\n",
       "      <td>0.117437</td>\n",
       "      <td>-0.255625</td>\n",
       "    </tr>\n",
       "    <tr>\n",
       "      <th>5</th>\n",
       "      <td>0.005300</td>\n",
       "      <td>-1.713515</td>\n",
       "      <td>0.990698</td>\n",
       "    </tr>\n",
       "    <tr>\n",
       "      <th>6</th>\n",
       "      <td>-0.096950</td>\n",
       "      <td>-0.555750</td>\n",
       "      <td>0.231357</td>\n",
       "    </tr>\n",
       "    <tr>\n",
       "      <th>7</th>\n",
       "      <td>2.339830</td>\n",
       "      <td>-1.987538</td>\n",
       "      <td>0.349795</td>\n",
       "    </tr>\n",
       "    <tr>\n",
       "      <th>8</th>\n",
       "      <td>2.967046</td>\n",
       "      <td>-0.761415</td>\n",
       "      <td>-0.424208</td>\n",
       "    </tr>\n",
       "    <tr>\n",
       "      <th>9</th>\n",
       "      <td>-0.188400</td>\n",
       "      <td>-0.364424</td>\n",
       "      <td>0.896714</td>\n",
       "    </tr>\n",
       "  </tbody>\n",
       "</table>\n",
       "</div>"
      ],
      "text/plain": [
       "        PC1       PC2       PC3\n",
       "0 -2.898491  0.043830 -0.674704\n",
       "1  0.435969 -0.602095 -0.336181\n",
       "2 -0.294489 -0.393013  1.237849\n",
       "3 -2.941128  1.746346  1.498419\n",
       "4  1.038913  0.117437 -0.255625\n",
       "5  0.005300 -1.713515  0.990698\n",
       "6 -0.096950 -0.555750  0.231357\n",
       "7  2.339830 -1.987538  0.349795\n",
       "8  2.967046 -0.761415 -0.424208\n",
       "9 -0.188400 -0.364424  0.896714"
      ]
     },
     "execution_count": 34,
     "metadata": {},
     "output_type": "execute_result"
    }
   ],
   "source": [
    "df_pca.head(10)"
   ]
  },
  {
   "cell_type": "code",
   "execution_count": 36,
   "id": "474a3167",
   "metadata": {},
   "outputs": [
    {
     "data": {
      "text/plain": [
       "165"
      ]
     },
     "execution_count": 36,
     "metadata": {},
     "output_type": "execute_result"
    }
   ],
   "source": [
    "#verificar tamanho do df do pca\n",
    "len(df_pca)"
   ]
  },
  {
   "cell_type": "code",
   "execution_count": 37,
   "id": "ddb9bf1f",
   "metadata": {},
   "outputs": [],
   "source": [
    "df_countries['PC1'] = df_pca['PC1']\n",
    "df_countries['PC2'] = df_pca['PC2']\n",
    "df_countries['PC3'] = df_pca['PC3']"
   ]
  },
  {
   "cell_type": "code",
   "execution_count": 39,
   "id": "449a9c1a",
   "metadata": {},
   "outputs": [
    {
     "data": {
      "text/html": [
       "<div>\n",
       "<style scoped>\n",
       "    .dataframe tbody tr th:only-of-type {\n",
       "        vertical-align: middle;\n",
       "    }\n",
       "\n",
       "    .dataframe tbody tr th {\n",
       "        vertical-align: top;\n",
       "    }\n",
       "\n",
       "    .dataframe thead th {\n",
       "        text-align: right;\n",
       "    }\n",
       "</style>\n",
       "<table border=\"1\" class=\"dataframe\">\n",
       "  <thead>\n",
       "    <tr style=\"text-align: right;\">\n",
       "      <th></th>\n",
       "      <th>country</th>\n",
       "      <th>child_mort</th>\n",
       "      <th>exports</th>\n",
       "      <th>health</th>\n",
       "      <th>imports</th>\n",
       "      <th>income</th>\n",
       "      <th>inflation</th>\n",
       "      <th>life_expec</th>\n",
       "      <th>total_fer</th>\n",
       "      <th>gdpp</th>\n",
       "      <th>income_category</th>\n",
       "      <th>PC1</th>\n",
       "      <th>PC2</th>\n",
       "      <th>PC3</th>\n",
       "    </tr>\n",
       "  </thead>\n",
       "  <tbody>\n",
       "    <tr>\n",
       "      <th>0</th>\n",
       "      <td>Afghanistan</td>\n",
       "      <td>90.2</td>\n",
       "      <td>10.0</td>\n",
       "      <td>7.58</td>\n",
       "      <td>44.9</td>\n",
       "      <td>1610</td>\n",
       "      <td>9.440</td>\n",
       "      <td>56.2</td>\n",
       "      <td>5.82</td>\n",
       "      <td>553</td>\n",
       "      <td>Low income</td>\n",
       "      <td>-2.898491</td>\n",
       "      <td>0.043830</td>\n",
       "      <td>-0.674704</td>\n",
       "    </tr>\n",
       "    <tr>\n",
       "      <th>1</th>\n",
       "      <td>Albania</td>\n",
       "      <td>16.6</td>\n",
       "      <td>28.0</td>\n",
       "      <td>6.55</td>\n",
       "      <td>48.6</td>\n",
       "      <td>9930</td>\n",
       "      <td>4.490</td>\n",
       "      <td>76.3</td>\n",
       "      <td>1.65</td>\n",
       "      <td>4090</td>\n",
       "      <td>Upper middle income</td>\n",
       "      <td>0.435969</td>\n",
       "      <td>-0.602095</td>\n",
       "      <td>-0.336181</td>\n",
       "    </tr>\n",
       "    <tr>\n",
       "      <th>2</th>\n",
       "      <td>Algeria</td>\n",
       "      <td>27.3</td>\n",
       "      <td>38.4</td>\n",
       "      <td>4.17</td>\n",
       "      <td>31.4</td>\n",
       "      <td>12900</td>\n",
       "      <td>16.100</td>\n",
       "      <td>76.5</td>\n",
       "      <td>2.89</td>\n",
       "      <td>4460</td>\n",
       "      <td>Lower middle income</td>\n",
       "      <td>-0.294489</td>\n",
       "      <td>-0.393013</td>\n",
       "      <td>1.237849</td>\n",
       "    </tr>\n",
       "    <tr>\n",
       "      <th>3</th>\n",
       "      <td>Angola</td>\n",
       "      <td>119.0</td>\n",
       "      <td>62.3</td>\n",
       "      <td>2.85</td>\n",
       "      <td>42.9</td>\n",
       "      <td>5900</td>\n",
       "      <td>22.400</td>\n",
       "      <td>60.1</td>\n",
       "      <td>6.16</td>\n",
       "      <td>3530</td>\n",
       "      <td>Lower middle income</td>\n",
       "      <td>-2.941128</td>\n",
       "      <td>1.746346</td>\n",
       "      <td>1.498419</td>\n",
       "    </tr>\n",
       "    <tr>\n",
       "      <th>4</th>\n",
       "      <td>Antigua and Barbuda</td>\n",
       "      <td>10.3</td>\n",
       "      <td>45.5</td>\n",
       "      <td>6.03</td>\n",
       "      <td>58.9</td>\n",
       "      <td>19100</td>\n",
       "      <td>1.440</td>\n",
       "      <td>76.8</td>\n",
       "      <td>2.13</td>\n",
       "      <td>12200</td>\n",
       "      <td>High income</td>\n",
       "      <td>1.038913</td>\n",
       "      <td>0.117437</td>\n",
       "      <td>-0.255625</td>\n",
       "    </tr>\n",
       "    <tr>\n",
       "      <th>5</th>\n",
       "      <td>Argentina</td>\n",
       "      <td>14.5</td>\n",
       "      <td>18.9</td>\n",
       "      <td>8.10</td>\n",
       "      <td>16.0</td>\n",
       "      <td>18700</td>\n",
       "      <td>20.900</td>\n",
       "      <td>75.8</td>\n",
       "      <td>2.37</td>\n",
       "      <td>10300</td>\n",
       "      <td>Upper middle income</td>\n",
       "      <td>0.005300</td>\n",
       "      <td>-1.713515</td>\n",
       "      <td>0.990698</td>\n",
       "    </tr>\n",
       "    <tr>\n",
       "      <th>6</th>\n",
       "      <td>Armenia</td>\n",
       "      <td>18.1</td>\n",
       "      <td>20.8</td>\n",
       "      <td>4.40</td>\n",
       "      <td>45.3</td>\n",
       "      <td>6700</td>\n",
       "      <td>7.770</td>\n",
       "      <td>73.3</td>\n",
       "      <td>1.69</td>\n",
       "      <td>3220</td>\n",
       "      <td>Upper middle income</td>\n",
       "      <td>-0.096950</td>\n",
       "      <td>-0.555750</td>\n",
       "      <td>0.231357</td>\n",
       "    </tr>\n",
       "    <tr>\n",
       "      <th>7</th>\n",
       "      <td>Australia</td>\n",
       "      <td>4.8</td>\n",
       "      <td>19.8</td>\n",
       "      <td>8.73</td>\n",
       "      <td>20.9</td>\n",
       "      <td>41400</td>\n",
       "      <td>1.160</td>\n",
       "      <td>82.0</td>\n",
       "      <td>1.93</td>\n",
       "      <td>51900</td>\n",
       "      <td>High income</td>\n",
       "      <td>2.339830</td>\n",
       "      <td>-1.987538</td>\n",
       "      <td>0.349795</td>\n",
       "    </tr>\n",
       "    <tr>\n",
       "      <th>8</th>\n",
       "      <td>Austria</td>\n",
       "      <td>4.3</td>\n",
       "      <td>51.3</td>\n",
       "      <td>11.00</td>\n",
       "      <td>47.8</td>\n",
       "      <td>43200</td>\n",
       "      <td>0.873</td>\n",
       "      <td>80.5</td>\n",
       "      <td>1.44</td>\n",
       "      <td>46900</td>\n",
       "      <td>High income</td>\n",
       "      <td>2.967046</td>\n",
       "      <td>-0.761415</td>\n",
       "      <td>-0.424208</td>\n",
       "    </tr>\n",
       "    <tr>\n",
       "      <th>9</th>\n",
       "      <td>Azerbaijan</td>\n",
       "      <td>39.2</td>\n",
       "      <td>54.3</td>\n",
       "      <td>5.88</td>\n",
       "      <td>20.7</td>\n",
       "      <td>16000</td>\n",
       "      <td>13.800</td>\n",
       "      <td>69.1</td>\n",
       "      <td>1.92</td>\n",
       "      <td>5840</td>\n",
       "      <td>Upper middle income</td>\n",
       "      <td>-0.188400</td>\n",
       "      <td>-0.364424</td>\n",
       "      <td>0.896714</td>\n",
       "    </tr>\n",
       "  </tbody>\n",
       "</table>\n",
       "</div>"
      ],
      "text/plain": [
       "               country  child_mort  exports  ...       PC1       PC2       PC3\n",
       "0          Afghanistan        90.2     10.0  ... -2.898491  0.043830 -0.674704\n",
       "1              Albania        16.6     28.0  ...  0.435969 -0.602095 -0.336181\n",
       "2              Algeria        27.3     38.4  ... -0.294489 -0.393013  1.237849\n",
       "3               Angola       119.0     62.3  ... -2.941128  1.746346  1.498419\n",
       "4  Antigua and Barbuda        10.3     45.5  ...  1.038913  0.117437 -0.255625\n",
       "5            Argentina        14.5     18.9  ...  0.005300 -1.713515  0.990698\n",
       "6              Armenia        18.1     20.8  ... -0.096950 -0.555750  0.231357\n",
       "7            Australia         4.8     19.8  ...  2.339830 -1.987538  0.349795\n",
       "8              Austria         4.3     51.3  ...  2.967046 -0.761415 -0.424208\n",
       "9           Azerbaijan        39.2     54.3  ... -0.188400 -0.364424  0.896714\n",
       "\n",
       "[10 rows x 14 columns]"
      ]
     },
     "execution_count": 39,
     "metadata": {},
     "output_type": "execute_result"
    }
   ],
   "source": [
    "df_countries.head(10)"
   ]
  },
  {
   "cell_type": "markdown",
   "id": "9dfc2f14",
   "metadata": {},
   "source": [
    "### Visualizar resultados"
   ]
  },
  {
   "cell_type": "code",
   "execution_count": 40,
   "id": "b82558bf",
   "metadata": {},
   "outputs": [],
   "source": [
    "#autvalores\n",
    "autovalores = modelo_pca.explained_variance_\n",
    "\n",
    "#Autovetores\n",
    "autovetores = modelo_pca.components_\n",
    "\n"
   ]
  },
  {
   "cell_type": "code",
   "execution_count": 44,
   "id": "ffb3ee9d",
   "metadata": {},
   "outputs": [],
   "source": [
    "#mostrar chart 3d com componentes principaos\n",
    "fig = px.scatter_3d(df_countries, x='PC1', y='PC2', z='PC3', color='income_category', width=800, height=600, hover_data=['country'])"
   ]
  },
  {
   "cell_type": "code",
   "execution_count": 45,
   "id": "ed5c67a0",
   "metadata": {},
   "outputs": [
    {
     "data": {
      "application/vnd.plotly.v1+json": {
       "config": {
        "plotlyServerURL": "https://plot.ly"
       },
       "data": [
        {
         "customdata": [
          [
           "Afghanistan"
          ],
          [
           "Burkina Faso"
          ],
          [
           "Burundi"
          ],
          [
           "Central African Republic"
          ],
          [
           "Chad"
          ],
          [
           "Congo Dem. Rep."
          ],
          [
           "Eritrea"
          ],
          [
           "Gambia"
          ],
          [
           "Guinea-Bissau"
          ],
          [
           "Liberia"
          ],
          [
           "Madagascar"
          ],
          [
           "Malawi"
          ],
          [
           "Mali"
          ],
          [
           "Mozambique"
          ],
          [
           "Niger"
          ],
          [
           "Rwanda"
          ],
          [
           "Sierra Leone"
          ],
          [
           "Sudan"
          ],
          [
           "Togo"
          ],
          [
           "Uganda"
          ],
          [
           "Yemen"
          ]
         ],
         "hovertemplate": "income_category=Low income<br>PC1=%{x}<br>PC2=%{y}<br>PC3=%{z}<br>country=%{customdata[0]}<extra></extra>",
         "legendgroup": "Low income",
         "marker": {
          "color": "#636efa",
          "symbol": "circle"
         },
         "mode": "markers",
         "name": "Low income",
         "scene": "scene",
         "showlegend": true,
         "type": "scatter3d",
         "x": {
          "bdata": "M5Ot7RswB8DHcHRwm9MIwONe8UvTHAfAGnn/jcF4D8CRNZLCgk0MwFik/RuKagnAlZXiQW62A8AxfRhu65ABwL6hB5+VegbArxe2fg0m/L8CFZdSZv4AwN1rZt/5wAfAnFH0ElMdC8ByCxomCDwHwArpVFmdZQvAcC5wBg2R+r9FT6NqnQQLwJGJj6D0lQLAyLvgMz+g/7+zL6aJCb4GwL4SvWqYZf6/",
          "dtype": "f8"
         },
         "y": {
          "bdata": "kIyj8uNwpj9YQapzlOaMv+NyIRwoZ9+/Doy80IdP1D+xNptYus7zP+Y4GpiWsPA/nbkHuoMi479MjNTT6MLGP0c/b9M4x8a/p6/VfkkL7j+cS64zBU3VPzTHti9B+8c/jLDOvDIu4D8yMTznfi7rPxLFb5kKtew/5tqkt4pT8b/aJNtrVGDTv+Ab0hl8hue/aue2r9Xg6z8znPgSWaTZv7Df0wS9wqi/",
          "dtype": "f8"
         },
         "z": {
          "bdata": "0jlK9yuX5b/hCnfO3Arav0y0w48o9PO/SVYmYoks07+UiP705wG9v5WYLubxhJk/8d45mRi96j91C3RtgcbYv+BDqurhcPK/iUXE9QY0A8CWbdPKXP/LP/y+TutioMW/d++runFDzb8+1InLvUjRv7GFp2mYuuK/n+0PJP039r8FDjFdjs3zv+0deuE8HOo/76thFETp87/SZC2SAe7jv1m9kbMLV/I/",
          "dtype": "f8"
         }
        },
        {
         "customdata": [
          [
           "Albania"
          ],
          [
           "Argentina"
          ],
          [
           "Armenia"
          ],
          [
           "Azerbaijan"
          ],
          [
           "Belarus"
          ],
          [
           "Belize"
          ],
          [
           "Bosnia and Herzegovina"
          ],
          [
           "Botswana"
          ],
          [
           "Brazil"
          ],
          [
           "Bulgaria"
          ],
          [
           "China"
          ],
          [
           "Colombia"
          ],
          [
           "Costa Rica"
          ],
          [
           "Dominican Republic"
          ],
          [
           "Ecuador"
          ],
          [
           "El Salvador"
          ],
          [
           "Equatorial Guinea"
          ],
          [
           "Fiji"
          ],
          [
           "Gabon"
          ],
          [
           "Georgia"
          ],
          [
           "Grenada"
          ],
          [
           "Guatemala"
          ],
          [
           "Indonesia"
          ],
          [
           "Iraq"
          ],
          [
           "Jamaica"
          ],
          [
           "Kazakhstan"
          ],
          [
           "Libya"
          ],
          [
           "Malaysia"
          ],
          [
           "Maldives"
          ],
          [
           "Mauritius"
          ],
          [
           "Moldova"
          ],
          [
           "Montenegro"
          ],
          [
           "Namibia"
          ],
          [
           "Paraguay"
          ],
          [
           "Peru"
          ],
          [
           "Russia"
          ],
          [
           "Serbia"
          ],
          [
           "South Africa"
          ],
          [
           "St. Vincent and the Grenadines"
          ],
          [
           "Suriname"
          ],
          [
           "Thailand"
          ],
          [
           "Tonga"
          ],
          [
           "Turkey"
          ],
          [
           "Turkmenistan"
          ]
         ],
         "hovertemplate": "income_category=Upper middle income<br>PC1=%{x}<br>PC2=%{y}<br>PC3=%{z}<br>country=%{customdata[0]}<extra></extra>",
         "legendgroup": "Upper middle income",
         "marker": {
          "color": "#EF553B",
          "symbol": "circle"
         },
         "mode": "markers",
         "name": "Upper middle income",
         "scene": "scene",
         "showlegend": true,
         "type": "scatter3d",
         "x": {
          "bdata": "54hKg+jm2z9ybDuxM7V1PydgW3u10bi/+YfsK3odyL8OVQBsESziP1hdMI0qVcw/Tw9t/WQP8D9IM2z0RBjsvxQkBZsDScI/+mdqGeM87T9gfNoURM6vP6uN0n8bqMA/1vwUejf+7T+wK2mJE5/Mv6f4NxwpA4o/tyEQCzqotz+NIvDO7RT1vx27RPUKMMe/Lqh0tI/Z9r8fs4anc57UPwYGDVGsVcQ/8Tzzg6/p5L8PNhNZXKbuv0q8oyZ7lfC/pp3fm/zskj86I8lnX7rTv4FobqEhvOk/ne6qZeeV8z/OQ90um8PxP68E/eVoA+0/lBYLs4Ar4D+Jav4yWofwP1QmnxnjffC/xrIXArUAvz+I46WFM+WNv7eFVYjy8MM/00taaUOw6j9FVa72keXyv0UFmZ4qu6E/cA9DO0Abxj+e07C83bDtPwqWO9Zuu+e/h8IKAKjN2T+8uIdeDgrdvw==",
          "dtype": "f8"
         },
         "y": {
          "bdata": "Xl9UKF1E4794HDn0jmr7v22FoK2zyOG/RhErfblS17/tjArz90ziPzp3osjQbuU/i6AgJOSF8L+JwFpG8/TaP4ouahNtNgHApIt6mTgoST8bKrRiFMLyv9/jfY59g/y/xYy/u/z99b9oYVmqPG7sv/yRvRV43vC/KooWXTQm47+nIsShH3QDQNNJ+q6MxPA/1RXKzoHo1z9TPM7j+I/hvwaT9OUxt92/CIz8SFRp5L9uNYcSxW3lv+JXTGeIPNG/NuibuAghzL/ee+rQa8LEvz7QX/BGQd0/9JulT8Pl+T8y9BGag6jvPwUNhPC66dg/rISkJZa+vT/pHO/RzofTv5J7owsrTO4/UsCX6sqS1j8VPB5PAzDxv/4pj6+SL/C/1yPs9lfq7L+8UY1wmFTjv2hxNAIDL5m/wjKnoq6+ub8E3S7PqbTqPxJ4Ip7N272/YskOXB5p9r/ErTo4b470Pw==",
          "dtype": "f8"
         },
         "z": {
          "bdata": "yETvH/+D1b9LXPDay7PvP/HnMysbnc0/6htrmeCx7D+ZJDXm6FLcPxVVEqxFM9a/fuA+c3P397/SKpDJyILiv4Zzkf7WRqq/mfX8PTkR4L8zeydwqj3dP5a74ggvv8W/aNf4VY0F6L/2zqF3nERpv2j6ANaE0cy/fHWQ1Otu4r+lMqRqbSz8P30X7eHAgdG/BrKxyQ7m+D/TyfgCo4fuv8sqfPRul96/sZrMbo2207+cjN29g1n2Pxot+RiF388/AispLnBA1D8TvlNZ7034P+p3Np+Wl/c/wIscsJ+Y2z9wtTYTdsXWv7qFzFz82du/22qdx/pH+b89fWf/cMrxv2Ofok40wOi/X9ETpL0Mt7+k91n0WMnbP1wER64XYvI/K5CMrb1r77/XHS26K/nkv8WOmTmdjLK/BwH3LeN5kT9Hv4TJcR3QP+NZhAN8c9y/EglfKP3O0j8POFIsf0vgPw==",
          "dtype": "f8"
         }
        },
        {
         "customdata": [
          [
           "Algeria"
          ],
          [
           "Angola"
          ],
          [
           "Bangladesh"
          ],
          [
           "Benin"
          ],
          [
           "Bhutan"
          ],
          [
           "Bolivia"
          ],
          [
           "Cambodia"
          ],
          [
           "Cameroon"
          ],
          [
           "Cape Verde"
          ],
          [
           "Comoros"
          ],
          [
           "Congo Rep."
          ],
          [
           "Cote d'Ivoire"
          ],
          [
           "Egypt"
          ],
          [
           "Ghana"
          ],
          [
           "Guinea"
          ],
          [
           "Haiti"
          ],
          [
           "India"
          ],
          [
           "Iran"
          ],
          [
           "Jordan"
          ],
          [
           "Kenya"
          ],
          [
           "Kiribati"
          ],
          [
           "Kyrgyz Republic"
          ],
          [
           "Lao"
          ],
          [
           "Lebanon"
          ],
          [
           "Lesotho"
          ],
          [
           "Mauritania"
          ],
          [
           "Micronesia"
          ],
          [
           "Mongolia"
          ],
          [
           "Morocco"
          ],
          [
           "Myanmar"
          ],
          [
           "Nepal"
          ],
          [
           "Nigeria"
          ],
          [
           "Pakistan"
          ],
          [
           "Philippines"
          ],
          [
           "Samoa"
          ],
          [
           "Senegal"
          ],
          [
           "Solomon Islands"
          ],
          [
           "Sri Lanka"
          ],
          [
           "Tajikistan"
          ],
          [
           "Tanzania"
          ],
          [
           "Timor-Leste"
          ],
          [
           "Tunisia"
          ],
          [
           "Ukraine"
          ],
          [
           "Uzbekistan"
          ],
          [
           "Vanuatu"
          ],
          [
           "Vietnam"
          ],
          [
           "Zambia"
          ]
         ],
         "hovertemplate": "income_category=Lower middle income<br>PC1=%{x}<br>PC2=%{y}<br>PC3=%{z}<br>country=%{customdata[0]}<extra></extra>",
         "legendgroup": "Lower middle income",
         "marker": {
          "color": "#00cc96",
          "symbol": "circle"
         },
         "mode": "markers",
         "name": "Lower middle income",
         "scene": "scene",
         "showlegend": true,
         "type": "scatter3d",
         "x": {
          "bdata": "dbnKNenY0r8SXnfrbYcHwDyopGuqzvG/0amnNQktBcB8K9sZaFPDvzEFOxCsQum/VY15x+5D4r9WVdeazEMGwPYp7AmdF8K/EkT7QBKZAMCMmj5gJ877v0FBi4w+hQTAw+Sx4xYF679tmtRgjXAAwKkwqYrPuQfANqcGhoCGEcCgvixIaFn1v8BCmD0QBIW/Wy+rdcxgxD90ue72zan9v68fa13PhvO/ftMxOeTA1b97TiO0z1H4v4lX56I93/I/2gwDsMiW/L/+o/SNaF//v8ecvHW5s9e/OZv0XxSH778ppqUHZv/Lv3D/sEPTJf2/a9vn0Gbp9L8CMza7bh8UwCUaUE7uzALAj8O12veq6L/qCHyjNpDhv2Bs5GgnRP6/OvH9eSWU6b90du8HYuviv1RgxMyb3vO/NfR8fSpUBMDXPzGo2RUDwDlON6umauM/mzKLZVfi0j8yepQOunzrv/59Ufg40em/c1P6E6Nk3z9M24lIq9wGwA==",
          "dtype": "f8"
         },
         "y": {
          "bdata": "tJhThyAn2b/wlVVeCPH7P3RSSAtZXu6/npm73sE41z+ti6z3XkroP5pizIWXqby/9z37jV5Z6z/UI76eEUuVP5JlVe1nmdQ/Y147aeBU0z/4CPKS7dsBQLF43c1WiPI/RvfeEiiM6b90xUwFQkjZP3E44wi5Wuc/8/JAbi4K+j/a6cwbgNXgv6naHFQcaPS/7MTZW7Sj4D9KtWP3Fx3Lv4DHG4B1PtA/LX4//KV+9D97RHa+2CrhP7DEB0a0aNK/2BF9IRmJ/j9iziUUgJb2P4RIguDUcYu/W0TcMPM55T+zb4KDe8DTv354xI9Xavm/4K0JQYBu6L9qrr2bsj3UPzFQ+qt9JN2/WZr7Ng/lub8gQ0bn5bawv0UbqvOS5KM/txldP13h8z+PzGUXyKnsvzeY7MevC6C/03LTZBG5zr/+QwaRcyryv4iocgBwNsQ/oCn2N60Atr9DV+4ejb3jv6xDw0BwOuM/rx1/1hdB9j9PeAqEPGfePw==",
          "dtype": "f8"
         },
         "z": {
          "bdata": "wmlOxjrO8z9qi5Hphfn3P2LrwMGCgeE/I+o3QyHK0L80/8rV/CPWv4u9EFUhSNk/ksCIZxsy4r+bCj9GnWnUv8eo8c53u9a/Firm4Ijy1b/pThNg5232P6skoZa5rdC/PB8q3SC14z9g1X/SJi/bPyomzGI9idk/k5Nb5xST978Gz6RHlhHfP7VAY/Z6c/E/Hc3LWE/g4r+d2gX9gkjPvwNqUotO7wLAsDmJU9V34L/vYZJ85+a7PxKmqUoJceS/aLEUaD17BMC2SnelbBfmP7dfOx5CiQXAQke5fWO4/T+VAwgPRvHRv4/FxdJPHvE/1gMaEBgX2z/jHC1oB0cZQK8gpg8ysvA/6d0VVwk30j9/CUlwv+zkv9tvkcOHL+C/HDQDOByz9L8+PjU8SI78P8NsF0toH8O/8AaSnkAtqL/pFjXMjPTgPx7NW6YDO9K/nGDWbju3ub/VsUb4LcvkP2zEUz4DY9y/9RDjAWqJ1b+b1Hed9qTPPw==",
          "dtype": "f8"
         }
        },
        {
         "customdata": [
          [
           "Antigua and Barbuda"
          ],
          [
           "Australia"
          ],
          [
           "Austria"
          ],
          [
           "Bahamas"
          ],
          [
           "Bahrain"
          ],
          [
           "Barbados"
          ],
          [
           "Belgium"
          ],
          [
           "Brunei"
          ],
          [
           "Canada"
          ],
          [
           "Chile"
          ],
          [
           "Croatia"
          ],
          [
           "Cyprus"
          ],
          [
           "Czech Republic"
          ],
          [
           "Denmark"
          ],
          [
           "Estonia"
          ],
          [
           "Finland"
          ],
          [
           "France"
          ],
          [
           "Germany"
          ],
          [
           "Greece"
          ],
          [
           "Guyana"
          ],
          [
           "Hungary"
          ],
          [
           "Iceland"
          ],
          [
           "Ireland"
          ],
          [
           "Israel"
          ],
          [
           "Italy"
          ],
          [
           "Japan"
          ],
          [
           "Kuwait"
          ],
          [
           "Latvia"
          ],
          [
           "Lithuania"
          ],
          [
           "Luxembourg"
          ],
          [
           "Malta"
          ],
          [
           "Netherlands"
          ],
          [
           "New Zealand"
          ],
          [
           "Norway"
          ],
          [
           "Oman"
          ],
          [
           "Panama"
          ],
          [
           "Poland"
          ],
          [
           "Portugal"
          ],
          [
           "Qatar"
          ],
          [
           "Romania"
          ],
          [
           "Saudi Arabia"
          ],
          [
           "Seychelles"
          ],
          [
           "Singapore"
          ],
          [
           "Slovak Republic"
          ],
          [
           "Slovenia"
          ],
          [
           "South Korea"
          ],
          [
           "Spain"
          ],
          [
           "Sweden"
          ],
          [
           "Switzerland"
          ],
          [
           "United Arab Emirates"
          ],
          [
           "United Kingdom"
          ],
          [
           "United States"
          ],
          [
           "Uruguay"
          ]
         ],
         "hovertemplate": "income_category=High income<br>PC1=%{x}<br>PC2=%{y}<br>PC3=%{z}<br>country=%{customdata[0]}<extra></extra>",
         "legendgroup": "High income",
         "marker": {
          "color": "#ab63fa",
          "symbol": "circle"
         },
         "mode": "markers",
         "name": "High income",
         "scene": "scene",
         "showlegend": true,
         "type": "scatter3d",
         "x": {
          "bdata": "cZyBmmOf8D88i+7r+LcCQOYH7ICCvAdAIk8LLOxo9D8MqqrO2ZL6P6iOgBPBa/E/Vn7E/7gQCUCNHKK1d24DQBJr7Oe3TARAmt1wWo1L7j/k7HGZQHzyP/QoHIxPXwFARQ2xu5tyAECFJAk95v4HQEAhWxl1i/o/2+amAfKmA0CP/v/dlQUCQDnl3v/NVgVAt1oGCtGF/D+9UGHRN0DUv/FTCt5jZf0/cnmVjSrCA0CpzSRUaEkNQAj9cOTUyPc/wlpEvAVVAUBBqmXrjygCQOb3StLjigNA0+sDrcom8z/y2LBOZ5P2P9aUAVuufhtAJEn/JAZJDUBKGQih+vIKQKFlPYgNAf0/1DDppwubDUBmveroqrfxP49gEr6npPI/8o/X12uP8z8XHg6oPxL9P7zGWwZP2RBA7qOjKHaF4j/5ADEQLL7qP3aO6WLqxPk/ahRcVewCF0ARO1CjMzwAQKkZy6bXPQJAYMSt1rul/j/8Gg4ByCsAQPKnycorfwZA5P4uUwtMEEA8g5fuVzoDQGS1ngHAiABAoxUrWJ4YBUAjRMMAzt7jPw==",
          "dtype": "f8"
         },
         "y": {
          "bdata": "frOLP1cQvj/2aHV59Mz/v1GrjleCXei/67n8uDwa5r8nsBXRQBPjPyGqM/b1l+C/r8SOBVc05D8rQx+lfKTCP7z1dBzc4/u/NCLtGS388L8WPY/cZNPrv+Fg3cxSP0m/KKTmOF/J2D98S7+W5zrsv157BFzfGPA/4ZbwMIxv8b8toms3z2H+v/nA9cGk4PS/QrsqtLS7/L9v+PDL/kj1PyYN60Vf8PM/gKSxxasl5L/4Z5peK/36P+xTfSFB4/C/Fo9u7p6g/L8Ph1zytaEDwJUgPNczbsg/Pki6CYVSwD8OYYLqtI3mPwO/zb3gfRNAI8ojdi7iEkB7fo2nPR20P5zMgH/eiPm/kUcFgF+b9r9RtikCE6/iP4uM5BVsMvE/2+s7qT205b+2RzUL9tv3v0YR/CFHKbG/OAexxSx+5L8SFdxdWny4v3g0U0QGJwdANoHBD+W9GkCGoHewvhfwP8UBPSmfisM/xZO7uQkr278LfuRWyt78v2iGPkqzpu2/iHpDhrq63L9JsylWO6nzP1upnPm3z/i/xH3WrFqHCMCWzE8blQ73vw==",
          "dtype": "f8"
         },
         "z": {
          "bdata": "2161Hilc0L+D6/qVDGPWP7NeCmU4Jtu/AK3JSlJr3L8ZUfDY2UbvP9RPTWGO4+S/ibqLgG8W5L/CdnPOPMQIQFIb13U6CM+/4FLMfcCMyj+5KO2YwFXYv4Ac4uOlptA/xavs1LBY4r/NJk/wAdPKv2lUKa7A28e/njcxstHBWj93WRck+d/hv7hGA5sxKeG/SRB3nT5Y4r9cwsR+yQnivzMfCK9Wi+G/zh1hCVIFyD8gIWjisDfiv47Ch5qNyMM/63/OaqaTxL998gGZ1+6wv//EFK3WtgVAO32AhxzJ4L8UUDbg5Lzdv0M9jxoBlOw/Jl14Akl99L+TBUXXTp3lv96XTV52scG/udX0pbZ18T8dvFaqExYBQKPBLb0bmeu/zstZVlO50r/QyL0ddUHrv8lLqs/SWw5A+o9iCPwIuD9R5eec9Un/P7TjZDOn1+K//s48rAoU1T/kmmX9oVLtv+2AbkE12Om/EemRm1l5xD+ptWmEsxPRvyb4rBLk53U/sRrvAaK+wb8CJ/eAhAD9P8hVBI+WvsC/ReQSdC4z978wsC2JvvHFvw==",
          "dtype": "f8"
         }
        }
       ],
       "layout": {
        "height": 600,
        "legend": {
         "title": {
          "text": "income_category"
         },
         "tracegroupgap": 0
        },
        "margin": {
         "t": 60
        },
        "scene": {
         "domain": {
          "x": [
           0,
           1
          ],
          "y": [
           0,
           1
          ]
         },
         "xaxis": {
          "title": {
           "text": "PC1"
          }
         },
         "yaxis": {
          "title": {
           "text": "PC2"
          }
         },
         "zaxis": {
          "title": {
           "text": "PC3"
          }
         }
        },
        "template": {
         "data": {
          "bar": [
           {
            "error_x": {
             "color": "#2a3f5f"
            },
            "error_y": {
             "color": "#2a3f5f"
            },
            "marker": {
             "line": {
              "color": "#E5ECF6",
              "width": 0.5
             },
             "pattern": {
              "fillmode": "overlay",
              "size": 10,
              "solidity": 0.2
             }
            },
            "type": "bar"
           }
          ],
          "barpolar": [
           {
            "marker": {
             "line": {
              "color": "#E5ECF6",
              "width": 0.5
             },
             "pattern": {
              "fillmode": "overlay",
              "size": 10,
              "solidity": 0.2
             }
            },
            "type": "barpolar"
           }
          ],
          "carpet": [
           {
            "aaxis": {
             "endlinecolor": "#2a3f5f",
             "gridcolor": "white",
             "linecolor": "white",
             "minorgridcolor": "white",
             "startlinecolor": "#2a3f5f"
            },
            "baxis": {
             "endlinecolor": "#2a3f5f",
             "gridcolor": "white",
             "linecolor": "white",
             "minorgridcolor": "white",
             "startlinecolor": "#2a3f5f"
            },
            "type": "carpet"
           }
          ],
          "choropleth": [
           {
            "colorbar": {
             "outlinewidth": 0,
             "ticks": ""
            },
            "type": "choropleth"
           }
          ],
          "contour": [
           {
            "colorbar": {
             "outlinewidth": 0,
             "ticks": ""
            },
            "colorscale": [
             [
              0,
              "#0d0887"
             ],
             [
              0.1111111111111111,
              "#46039f"
             ],
             [
              0.2222222222222222,
              "#7201a8"
             ],
             [
              0.3333333333333333,
              "#9c179e"
             ],
             [
              0.4444444444444444,
              "#bd3786"
             ],
             [
              0.5555555555555556,
              "#d8576b"
             ],
             [
              0.6666666666666666,
              "#ed7953"
             ],
             [
              0.7777777777777778,
              "#fb9f3a"
             ],
             [
              0.8888888888888888,
              "#fdca26"
             ],
             [
              1,
              "#f0f921"
             ]
            ],
            "type": "contour"
           }
          ],
          "contourcarpet": [
           {
            "colorbar": {
             "outlinewidth": 0,
             "ticks": ""
            },
            "type": "contourcarpet"
           }
          ],
          "heatmap": [
           {
            "colorbar": {
             "outlinewidth": 0,
             "ticks": ""
            },
            "colorscale": [
             [
              0,
              "#0d0887"
             ],
             [
              0.1111111111111111,
              "#46039f"
             ],
             [
              0.2222222222222222,
              "#7201a8"
             ],
             [
              0.3333333333333333,
              "#9c179e"
             ],
             [
              0.4444444444444444,
              "#bd3786"
             ],
             [
              0.5555555555555556,
              "#d8576b"
             ],
             [
              0.6666666666666666,
              "#ed7953"
             ],
             [
              0.7777777777777778,
              "#fb9f3a"
             ],
             [
              0.8888888888888888,
              "#fdca26"
             ],
             [
              1,
              "#f0f921"
             ]
            ],
            "type": "heatmap"
           }
          ],
          "histogram": [
           {
            "marker": {
             "pattern": {
              "fillmode": "overlay",
              "size": 10,
              "solidity": 0.2
             }
            },
            "type": "histogram"
           }
          ],
          "histogram2d": [
           {
            "colorbar": {
             "outlinewidth": 0,
             "ticks": ""
            },
            "colorscale": [
             [
              0,
              "#0d0887"
             ],
             [
              0.1111111111111111,
              "#46039f"
             ],
             [
              0.2222222222222222,
              "#7201a8"
             ],
             [
              0.3333333333333333,
              "#9c179e"
             ],
             [
              0.4444444444444444,
              "#bd3786"
             ],
             [
              0.5555555555555556,
              "#d8576b"
             ],
             [
              0.6666666666666666,
              "#ed7953"
             ],
             [
              0.7777777777777778,
              "#fb9f3a"
             ],
             [
              0.8888888888888888,
              "#fdca26"
             ],
             [
              1,
              "#f0f921"
             ]
            ],
            "type": "histogram2d"
           }
          ],
          "histogram2dcontour": [
           {
            "colorbar": {
             "outlinewidth": 0,
             "ticks": ""
            },
            "colorscale": [
             [
              0,
              "#0d0887"
             ],
             [
              0.1111111111111111,
              "#46039f"
             ],
             [
              0.2222222222222222,
              "#7201a8"
             ],
             [
              0.3333333333333333,
              "#9c179e"
             ],
             [
              0.4444444444444444,
              "#bd3786"
             ],
             [
              0.5555555555555556,
              "#d8576b"
             ],
             [
              0.6666666666666666,
              "#ed7953"
             ],
             [
              0.7777777777777778,
              "#fb9f3a"
             ],
             [
              0.8888888888888888,
              "#fdca26"
             ],
             [
              1,
              "#f0f921"
             ]
            ],
            "type": "histogram2dcontour"
           }
          ],
          "mesh3d": [
           {
            "colorbar": {
             "outlinewidth": 0,
             "ticks": ""
            },
            "type": "mesh3d"
           }
          ],
          "parcoords": [
           {
            "line": {
             "colorbar": {
              "outlinewidth": 0,
              "ticks": ""
             }
            },
            "type": "parcoords"
           }
          ],
          "pie": [
           {
            "automargin": true,
            "type": "pie"
           }
          ],
          "scatter": [
           {
            "fillpattern": {
             "fillmode": "overlay",
             "size": 10,
             "solidity": 0.2
            },
            "type": "scatter"
           }
          ],
          "scatter3d": [
           {
            "line": {
             "colorbar": {
              "outlinewidth": 0,
              "ticks": ""
             }
            },
            "marker": {
             "colorbar": {
              "outlinewidth": 0,
              "ticks": ""
             }
            },
            "type": "scatter3d"
           }
          ],
          "scattercarpet": [
           {
            "marker": {
             "colorbar": {
              "outlinewidth": 0,
              "ticks": ""
             }
            },
            "type": "scattercarpet"
           }
          ],
          "scattergeo": [
           {
            "marker": {
             "colorbar": {
              "outlinewidth": 0,
              "ticks": ""
             }
            },
            "type": "scattergeo"
           }
          ],
          "scattergl": [
           {
            "marker": {
             "colorbar": {
              "outlinewidth": 0,
              "ticks": ""
             }
            },
            "type": "scattergl"
           }
          ],
          "scattermap": [
           {
            "marker": {
             "colorbar": {
              "outlinewidth": 0,
              "ticks": ""
             }
            },
            "type": "scattermap"
           }
          ],
          "scattermapbox": [
           {
            "marker": {
             "colorbar": {
              "outlinewidth": 0,
              "ticks": ""
             }
            },
            "type": "scattermapbox"
           }
          ],
          "scatterpolar": [
           {
            "marker": {
             "colorbar": {
              "outlinewidth": 0,
              "ticks": ""
             }
            },
            "type": "scatterpolar"
           }
          ],
          "scatterpolargl": [
           {
            "marker": {
             "colorbar": {
              "outlinewidth": 0,
              "ticks": ""
             }
            },
            "type": "scatterpolargl"
           }
          ],
          "scatterternary": [
           {
            "marker": {
             "colorbar": {
              "outlinewidth": 0,
              "ticks": ""
             }
            },
            "type": "scatterternary"
           }
          ],
          "surface": [
           {
            "colorbar": {
             "outlinewidth": 0,
             "ticks": ""
            },
            "colorscale": [
             [
              0,
              "#0d0887"
             ],
             [
              0.1111111111111111,
              "#46039f"
             ],
             [
              0.2222222222222222,
              "#7201a8"
             ],
             [
              0.3333333333333333,
              "#9c179e"
             ],
             [
              0.4444444444444444,
              "#bd3786"
             ],
             [
              0.5555555555555556,
              "#d8576b"
             ],
             [
              0.6666666666666666,
              "#ed7953"
             ],
             [
              0.7777777777777778,
              "#fb9f3a"
             ],
             [
              0.8888888888888888,
              "#fdca26"
             ],
             [
              1,
              "#f0f921"
             ]
            ],
            "type": "surface"
           }
          ],
          "table": [
           {
            "cells": {
             "fill": {
              "color": "#EBF0F8"
             },
             "line": {
              "color": "white"
             }
            },
            "header": {
             "fill": {
              "color": "#C8D4E3"
             },
             "line": {
              "color": "white"
             }
            },
            "type": "table"
           }
          ]
         },
         "layout": {
          "annotationdefaults": {
           "arrowcolor": "#2a3f5f",
           "arrowhead": 0,
           "arrowwidth": 1
          },
          "autotypenumbers": "strict",
          "coloraxis": {
           "colorbar": {
            "outlinewidth": 0,
            "ticks": ""
           }
          },
          "colorscale": {
           "diverging": [
            [
             0,
             "#8e0152"
            ],
            [
             0.1,
             "#c51b7d"
            ],
            [
             0.2,
             "#de77ae"
            ],
            [
             0.3,
             "#f1b6da"
            ],
            [
             0.4,
             "#fde0ef"
            ],
            [
             0.5,
             "#f7f7f7"
            ],
            [
             0.6,
             "#e6f5d0"
            ],
            [
             0.7,
             "#b8e186"
            ],
            [
             0.8,
             "#7fbc41"
            ],
            [
             0.9,
             "#4d9221"
            ],
            [
             1,
             "#276419"
            ]
           ],
           "sequential": [
            [
             0,
             "#0d0887"
            ],
            [
             0.1111111111111111,
             "#46039f"
            ],
            [
             0.2222222222222222,
             "#7201a8"
            ],
            [
             0.3333333333333333,
             "#9c179e"
            ],
            [
             0.4444444444444444,
             "#bd3786"
            ],
            [
             0.5555555555555556,
             "#d8576b"
            ],
            [
             0.6666666666666666,
             "#ed7953"
            ],
            [
             0.7777777777777778,
             "#fb9f3a"
            ],
            [
             0.8888888888888888,
             "#fdca26"
            ],
            [
             1,
             "#f0f921"
            ]
           ],
           "sequentialminus": [
            [
             0,
             "#0d0887"
            ],
            [
             0.1111111111111111,
             "#46039f"
            ],
            [
             0.2222222222222222,
             "#7201a8"
            ],
            [
             0.3333333333333333,
             "#9c179e"
            ],
            [
             0.4444444444444444,
             "#bd3786"
            ],
            [
             0.5555555555555556,
             "#d8576b"
            ],
            [
             0.6666666666666666,
             "#ed7953"
            ],
            [
             0.7777777777777778,
             "#fb9f3a"
            ],
            [
             0.8888888888888888,
             "#fdca26"
            ],
            [
             1,
             "#f0f921"
            ]
           ]
          },
          "colorway": [
           "#636efa",
           "#EF553B",
           "#00cc96",
           "#ab63fa",
           "#FFA15A",
           "#19d3f3",
           "#FF6692",
           "#B6E880",
           "#FF97FF",
           "#FECB52"
          ],
          "font": {
           "color": "#2a3f5f"
          },
          "geo": {
           "bgcolor": "white",
           "lakecolor": "white",
           "landcolor": "#E5ECF6",
           "showlakes": true,
           "showland": true,
           "subunitcolor": "white"
          },
          "hoverlabel": {
           "align": "left"
          },
          "hovermode": "closest",
          "mapbox": {
           "style": "light"
          },
          "paper_bgcolor": "white",
          "plot_bgcolor": "#E5ECF6",
          "polar": {
           "angularaxis": {
            "gridcolor": "white",
            "linecolor": "white",
            "ticks": ""
           },
           "bgcolor": "#E5ECF6",
           "radialaxis": {
            "gridcolor": "white",
            "linecolor": "white",
            "ticks": ""
           }
          },
          "scene": {
           "xaxis": {
            "backgroundcolor": "#E5ECF6",
            "gridcolor": "white",
            "gridwidth": 2,
            "linecolor": "white",
            "showbackground": true,
            "ticks": "",
            "zerolinecolor": "white"
           },
           "yaxis": {
            "backgroundcolor": "#E5ECF6",
            "gridcolor": "white",
            "gridwidth": 2,
            "linecolor": "white",
            "showbackground": true,
            "ticks": "",
            "zerolinecolor": "white"
           },
           "zaxis": {
            "backgroundcolor": "#E5ECF6",
            "gridcolor": "white",
            "gridwidth": 2,
            "linecolor": "white",
            "showbackground": true,
            "ticks": "",
            "zerolinecolor": "white"
           }
          },
          "shapedefaults": {
           "line": {
            "color": "#2a3f5f"
           }
          },
          "ternary": {
           "aaxis": {
            "gridcolor": "white",
            "linecolor": "white",
            "ticks": ""
           },
           "baxis": {
            "gridcolor": "white",
            "linecolor": "white",
            "ticks": ""
           },
           "bgcolor": "#E5ECF6",
           "caxis": {
            "gridcolor": "white",
            "linecolor": "white",
            "ticks": ""
           }
          },
          "title": {
           "x": 0.05
          },
          "xaxis": {
           "automargin": true,
           "gridcolor": "white",
           "linecolor": "white",
           "ticks": "",
           "title": {
            "standoff": 15
           },
           "zerolinecolor": "white",
           "zerolinewidth": 2
          },
          "yaxis": {
           "automargin": true,
           "gridcolor": "white",
           "linecolor": "white",
           "ticks": "",
           "title": {
            "standoff": 15
           },
           "zerolinecolor": "white",
           "zerolinewidth": 2
          }
         }
        },
        "width": 800
       }
      }
     },
     "metadata": {},
     "output_type": "display_data"
    }
   ],
   "source": [
    "fig.show()"
   ]
  },
  {
   "cell_type": "code",
   "execution_count": 46,
   "id": "4380061f",
   "metadata": {},
   "outputs": [],
   "source": [
    "#reconstruir os dados com base no pca\n",
    "X_recovered = modelo_pca.inverse_transform(X_pca)"
   ]
  },
  {
   "cell_type": "code",
   "execution_count": 47,
   "id": "c5611afc",
   "metadata": {},
   "outputs": [
    {
     "data": {
      "text/plain": [
       "array([[ 1.24051071, -0.86825694, -0.06278059, ..., -1.32215438,\n",
       "         1.1604634 , -1.23684957],\n",
       "       [-0.28682977, -0.28787365,  0.41760377, ...,  0.27434638,\n",
       "        -0.27548195,  0.14719535],\n",
       "       [ 0.01984344, -0.18557564, -0.64752426, ...,  0.10485603,\n",
       "         0.08918105,  0.08154978],\n",
       "       ...,\n",
       "       [ 0.06178006,  0.96128084, -0.10287206, ..., -0.12810115,\n",
       "         0.00487659,  0.08490176],\n",
       "       [ 0.75967769, -0.43601395, -0.92852836, ..., -0.66251251,\n",
       "         0.7873269 , -0.57577658],\n",
       "       [ 1.28114026, -0.48486169, -0.69796675, ..., -1.2880174 ,\n",
       "         1.23173122, -1.10450882]])"
      ]
     },
     "execution_count": 47,
     "metadata": {},
     "output_type": "execute_result"
    }
   ],
   "source": [
    "X_recovered"
   ]
  },
  {
   "cell_type": "code",
   "execution_count": 50,
   "id": "b79f23a5",
   "metadata": {},
   "outputs": [
    {
     "data": {
      "text/plain": [
       "0.23847219349860982"
      ]
     },
     "execution_count": 50,
     "metadata": {},
     "output_type": "execute_result"
    }
   ],
   "source": [
    "# Calcular o erro de reconstrução\n",
    "reconstruction_error = mean_squared_error(X_transformed, X_recovered)\n",
    "reconstruction_error"
   ]
  },
  {
   "cell_type": "code",
   "execution_count": null,
   "id": "c850643e",
   "metadata": {},
   "outputs": [],
   "source": []
  }
 ],
 "metadata": {
  "kernelspec": {
   "display_name": "Geral-iNcLO_qr",
   "language": "python",
   "name": "python3"
  },
  "language_info": {
   "codemirror_mode": {
    "name": "ipython",
    "version": 3
   },
   "file_extension": ".py",
   "mimetype": "text/x-python",
   "name": "python",
   "nbconvert_exporter": "python",
   "pygments_lexer": "ipython3",
   "version": "3.12.1"
  }
 },
 "nbformat": 4,
 "nbformat_minor": 5
}
